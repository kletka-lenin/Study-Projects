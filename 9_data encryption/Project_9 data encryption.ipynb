{
 "cells": [
  {
   "cell_type": "markdown",
   "metadata": {
    "toc": true
   },
   "source": [
    "<h1>Содержание<span class=\"tocSkip\"></span></h1>\n",
    "<div class=\"toc\"><ul class=\"toc-item\"><li><span><a href=\"#Импорты-необходимых-библиотек\" data-toc-modified-id=\"Импорты-необходимых-библиотек-1\"><span class=\"toc-item-num\">1&nbsp;&nbsp;</span>Импорты необходимых библиотек</a></span></li><li><span><a href=\"#Загрузка-данных\" data-toc-modified-id=\"Загрузка-данных-2\"><span class=\"toc-item-num\">2&nbsp;&nbsp;</span>Загрузка данных</a></span></li><li><span><a href=\"#Умножение-матриц\" data-toc-modified-id=\"Умножение-матриц-3\"><span class=\"toc-item-num\">3&nbsp;&nbsp;</span>Умножение матриц</a></span></li><li><span><a href=\"#Алгоритм-преобразования\" data-toc-modified-id=\"Алгоритм-преобразования-4\"><span class=\"toc-item-num\">4&nbsp;&nbsp;</span>Алгоритм преобразования</a></span></li><li><span><a href=\"#Проверка-алгоритма\" data-toc-modified-id=\"Проверка-алгоритма-5\"><span class=\"toc-item-num\">5&nbsp;&nbsp;</span>Проверка алгоритма</a></span><ul class=\"toc-item\"><li><span><a href=\"#Выводы\" data-toc-modified-id=\"Выводы-5.1\"><span class=\"toc-item-num\">5.1&nbsp;&nbsp;</span>Выводы</a></span></li></ul></li></ul></div>"
   ]
  },
  {
   "cell_type": "markdown",
   "metadata": {},
   "source": [
    "# Защита персональных данных клиентов"
   ]
  },
  {
   "cell_type": "markdown",
   "metadata": {},
   "source": [
    "Цель проекта - защитить данные клиентов страховой компании «Хоть потоп». Для этого нужно разработать такой метод преобразования данных, чтобы по ним было сложно восстановить персональную информацию. Необходимо привести обоснование корректности его работы.\n",
    "\n",
    "Нужно защитить данные, чтобы при преобразовании качество моделей машинного обучения не ухудшилось. Подбирать наилучшую модель не требуется."
   ]
  },
  {
   "cell_type": "markdown",
   "metadata": {},
   "source": [
    "**Задачи:**\n",
    "* загрузить и изучить представленные данные.\n",
    "* Ответить на вопрос, изменится ли качество линейной регрессии, если умножить матрицу признаков на обратимую матрицу.\n",
    "* Предложить и обосновать алгоритм преобразования данных, который позволит прогнозировать целевой признак также эффективно, как на исходных данных.\n",
    "* Запрограммировать алгоритм и проверить качество линейной регрессии на исходных и преобразованных данных с помощью метрики R2."
   ]
  },
  {
   "cell_type": "markdown",
   "metadata": {},
   "source": [
    "## Импорты необходимых библиотек"
   ]
  },
  {
   "cell_type": "code",
   "execution_count": 1,
   "metadata": {},
   "outputs": [],
   "source": [
    "import pandas as pd\n",
    "import numpy as np\n",
    "from sklearn.linear_model import LinearRegression\n",
    "from sklearn.tree import DecisionTreeClassifier\n",
    "from sklearn.metrics import r2_score\n",
    "from sklearn.metrics import f1_score"
   ]
  },
  {
   "cell_type": "markdown",
   "metadata": {},
   "source": [
    "## Загрузка данных"
   ]
  },
  {
   "cell_type": "code",
   "execution_count": 2,
   "metadata": {},
   "outputs": [
    {
     "data": {
      "text/html": [
       "<div>\n",
       "<style scoped>\n",
       "    .dataframe tbody tr th:only-of-type {\n",
       "        vertical-align: middle;\n",
       "    }\n",
       "\n",
       "    .dataframe tbody tr th {\n",
       "        vertical-align: top;\n",
       "    }\n",
       "\n",
       "    .dataframe thead th {\n",
       "        text-align: right;\n",
       "    }\n",
       "</style>\n",
       "<table border=\"1\" class=\"dataframe\">\n",
       "  <thead>\n",
       "    <tr style=\"text-align: right;\">\n",
       "      <th></th>\n",
       "      <th>Пол</th>\n",
       "      <th>Возраст</th>\n",
       "      <th>Зарплата</th>\n",
       "      <th>Члены семьи</th>\n",
       "      <th>Страховые выплаты</th>\n",
       "    </tr>\n",
       "  </thead>\n",
       "  <tbody>\n",
       "    <tr>\n",
       "      <th>0</th>\n",
       "      <td>1</td>\n",
       "      <td>41.0</td>\n",
       "      <td>49600.0</td>\n",
       "      <td>1</td>\n",
       "      <td>0</td>\n",
       "    </tr>\n",
       "    <tr>\n",
       "      <th>1</th>\n",
       "      <td>0</td>\n",
       "      <td>46.0</td>\n",
       "      <td>38000.0</td>\n",
       "      <td>1</td>\n",
       "      <td>1</td>\n",
       "    </tr>\n",
       "    <tr>\n",
       "      <th>2</th>\n",
       "      <td>0</td>\n",
       "      <td>29.0</td>\n",
       "      <td>21000.0</td>\n",
       "      <td>0</td>\n",
       "      <td>0</td>\n",
       "    </tr>\n",
       "    <tr>\n",
       "      <th>3</th>\n",
       "      <td>0</td>\n",
       "      <td>21.0</td>\n",
       "      <td>41700.0</td>\n",
       "      <td>2</td>\n",
       "      <td>0</td>\n",
       "    </tr>\n",
       "    <tr>\n",
       "      <th>4</th>\n",
       "      <td>1</td>\n",
       "      <td>28.0</td>\n",
       "      <td>26100.0</td>\n",
       "      <td>0</td>\n",
       "      <td>0</td>\n",
       "    </tr>\n",
       "  </tbody>\n",
       "</table>\n",
       "</div>"
      ],
      "text/plain": [
       "   Пол  Возраст  Зарплата  Члены семьи  Страховые выплаты\n",
       "0    1     41.0   49600.0            1                  0\n",
       "1    0     46.0   38000.0            1                  1\n",
       "2    0     29.0   21000.0            0                  0\n",
       "3    0     21.0   41700.0            2                  0\n",
       "4    1     28.0   26100.0            0                  0"
      ]
     },
     "metadata": {},
     "output_type": "display_data"
    },
    {
     "name": "stdout",
     "output_type": "stream",
     "text": [
      "<class 'pandas.core.frame.DataFrame'>\n",
      "RangeIndex: 5000 entries, 0 to 4999\n",
      "Data columns (total 5 columns):\n",
      " #   Column             Non-Null Count  Dtype  \n",
      "---  ------             --------------  -----  \n",
      " 0   Пол                5000 non-null   int64  \n",
      " 1   Возраст            5000 non-null   float64\n",
      " 2   Зарплата           5000 non-null   float64\n",
      " 3   Члены семьи        5000 non-null   int64  \n",
      " 4   Страховые выплаты  5000 non-null   int64  \n",
      "dtypes: float64(2), int64(3)\n",
      "memory usage: 195.4 KB\n"
     ]
    }
   ],
   "source": [
    "df = pd.read_csv('/datasets/insurance.csv')\n",
    "display(df.head())\n",
    "\n",
    "df.info()"
   ]
  },
  {
   "cell_type": "code",
   "execution_count": 3,
   "metadata": {
    "scrolled": true
   },
   "outputs": [
    {
     "name": "stdout",
     "output_type": "stream",
     "text": [
      "153\n"
     ]
    }
   ],
   "source": [
    "# посмотрим, есть ли повторы в данных\n",
    "print(df.duplicated().sum())\n"
   ]
  },
  {
   "cell_type": "code",
   "execution_count": 4,
   "metadata": {
    "scrolled": true
   },
   "outputs": [
    {
     "data": {
      "text/html": [
       "<div>\n",
       "<style scoped>\n",
       "    .dataframe tbody tr th:only-of-type {\n",
       "        vertical-align: middle;\n",
       "    }\n",
       "\n",
       "    .dataframe tbody tr th {\n",
       "        vertical-align: top;\n",
       "    }\n",
       "\n",
       "    .dataframe thead th {\n",
       "        text-align: right;\n",
       "    }\n",
       "</style>\n",
       "<table border=\"1\" class=\"dataframe\">\n",
       "  <thead>\n",
       "    <tr style=\"text-align: right;\">\n",
       "      <th></th>\n",
       "      <th>Пол</th>\n",
       "      <th>Возраст</th>\n",
       "      <th>Зарплата</th>\n",
       "      <th>Члены семьи</th>\n",
       "      <th>Страховые выплаты</th>\n",
       "    </tr>\n",
       "  </thead>\n",
       "  <tbody>\n",
       "    <tr>\n",
       "      <th>count</th>\n",
       "      <td>4847.000000</td>\n",
       "      <td>4847.000000</td>\n",
       "      <td>4847.000000</td>\n",
       "      <td>4847.000000</td>\n",
       "      <td>4847.000000</td>\n",
       "    </tr>\n",
       "    <tr>\n",
       "      <th>mean</th>\n",
       "      <td>0.498453</td>\n",
       "      <td>31.023932</td>\n",
       "      <td>39895.811842</td>\n",
       "      <td>1.203425</td>\n",
       "      <td>0.152259</td>\n",
       "    </tr>\n",
       "    <tr>\n",
       "      <th>std</th>\n",
       "      <td>0.500049</td>\n",
       "      <td>8.487995</td>\n",
       "      <td>9972.953985</td>\n",
       "      <td>1.098664</td>\n",
       "      <td>0.468934</td>\n",
       "    </tr>\n",
       "    <tr>\n",
       "      <th>min</th>\n",
       "      <td>0.000000</td>\n",
       "      <td>18.000000</td>\n",
       "      <td>5300.000000</td>\n",
       "      <td>0.000000</td>\n",
       "      <td>0.000000</td>\n",
       "    </tr>\n",
       "    <tr>\n",
       "      <th>25%</th>\n",
       "      <td>0.000000</td>\n",
       "      <td>24.000000</td>\n",
       "      <td>33200.000000</td>\n",
       "      <td>0.000000</td>\n",
       "      <td>0.000000</td>\n",
       "    </tr>\n",
       "    <tr>\n",
       "      <th>50%</th>\n",
       "      <td>0.000000</td>\n",
       "      <td>30.000000</td>\n",
       "      <td>40200.000000</td>\n",
       "      <td>1.000000</td>\n",
       "      <td>0.000000</td>\n",
       "    </tr>\n",
       "    <tr>\n",
       "      <th>75%</th>\n",
       "      <td>1.000000</td>\n",
       "      <td>37.000000</td>\n",
       "      <td>46600.000000</td>\n",
       "      <td>2.000000</td>\n",
       "      <td>0.000000</td>\n",
       "    </tr>\n",
       "    <tr>\n",
       "      <th>max</th>\n",
       "      <td>1.000000</td>\n",
       "      <td>65.000000</td>\n",
       "      <td>79000.000000</td>\n",
       "      <td>6.000000</td>\n",
       "      <td>5.000000</td>\n",
       "    </tr>\n",
       "  </tbody>\n",
       "</table>\n",
       "</div>"
      ],
      "text/plain": [
       "               Пол      Возраст      Зарплата  Члены семьи  Страховые выплаты\n",
       "count  4847.000000  4847.000000   4847.000000  4847.000000        4847.000000\n",
       "mean      0.498453    31.023932  39895.811842     1.203425           0.152259\n",
       "std       0.500049     8.487995   9972.953985     1.098664           0.468934\n",
       "min       0.000000    18.000000   5300.000000     0.000000           0.000000\n",
       "25%       0.000000    24.000000  33200.000000     0.000000           0.000000\n",
       "50%       0.000000    30.000000  40200.000000     1.000000           0.000000\n",
       "75%       1.000000    37.000000  46600.000000     2.000000           0.000000\n",
       "max       1.000000    65.000000  79000.000000     6.000000           5.000000"
      ]
     },
     "execution_count": 4,
     "metadata": {},
     "output_type": "execute_result"
    }
   ],
   "source": [
    "# сразу удалим повторы\n",
    "df = df.drop_duplicates()\n",
    "\n",
    "# и посмотрим, как распределены данные\n",
    "df.describe()"
   ]
  },
  {
   "cell_type": "code",
   "execution_count": 5,
   "metadata": {
    "scrolled": true
   },
   "outputs": [
    {
     "data": {
      "text/html": [
       "<div>\n",
       "<style scoped>\n",
       "    .dataframe tbody tr th:only-of-type {\n",
       "        vertical-align: middle;\n",
       "    }\n",
       "\n",
       "    .dataframe tbody tr th {\n",
       "        vertical-align: top;\n",
       "    }\n",
       "\n",
       "    .dataframe thead th {\n",
       "        text-align: right;\n",
       "    }\n",
       "</style>\n",
       "<table border=\"1\" class=\"dataframe\">\n",
       "  <thead>\n",
       "    <tr style=\"text-align: right;\">\n",
       "      <th></th>\n",
       "      <th>Пол</th>\n",
       "      <th>Возраст</th>\n",
       "      <th>Зарплата</th>\n",
       "      <th>Члены семьи</th>\n",
       "      <th>Страховые выплаты</th>\n",
       "    </tr>\n",
       "  </thead>\n",
       "  <tbody>\n",
       "    <tr>\n",
       "      <th>count</th>\n",
       "      <td>563.000000</td>\n",
       "      <td>563.000000</td>\n",
       "      <td>563.000000</td>\n",
       "      <td>563.000000</td>\n",
       "      <td>563.000000</td>\n",
       "    </tr>\n",
       "    <tr>\n",
       "      <th>mean</th>\n",
       "      <td>0.497336</td>\n",
       "      <td>46.536412</td>\n",
       "      <td>39877.264654</td>\n",
       "      <td>1.103020</td>\n",
       "      <td>1.310835</td>\n",
       "    </tr>\n",
       "    <tr>\n",
       "      <th>std</th>\n",
       "      <td>0.500438</td>\n",
       "      <td>3.889031</td>\n",
       "      <td>10073.880905</td>\n",
       "      <td>1.040142</td>\n",
       "      <td>0.612160</td>\n",
       "    </tr>\n",
       "    <tr>\n",
       "      <th>min</th>\n",
       "      <td>0.000000</td>\n",
       "      <td>42.000000</td>\n",
       "      <td>11200.000000</td>\n",
       "      <td>0.000000</td>\n",
       "      <td>1.000000</td>\n",
       "    </tr>\n",
       "    <tr>\n",
       "      <th>25%</th>\n",
       "      <td>0.000000</td>\n",
       "      <td>44.000000</td>\n",
       "      <td>32800.000000</td>\n",
       "      <td>0.000000</td>\n",
       "      <td>1.000000</td>\n",
       "    </tr>\n",
       "    <tr>\n",
       "      <th>50%</th>\n",
       "      <td>0.000000</td>\n",
       "      <td>46.000000</td>\n",
       "      <td>40200.000000</td>\n",
       "      <td>1.000000</td>\n",
       "      <td>1.000000</td>\n",
       "    </tr>\n",
       "    <tr>\n",
       "      <th>75%</th>\n",
       "      <td>1.000000</td>\n",
       "      <td>49.000000</td>\n",
       "      <td>46700.000000</td>\n",
       "      <td>2.000000</td>\n",
       "      <td>1.000000</td>\n",
       "    </tr>\n",
       "    <tr>\n",
       "      <th>max</th>\n",
       "      <td>1.000000</td>\n",
       "      <td>65.000000</td>\n",
       "      <td>70500.000000</td>\n",
       "      <td>6.000000</td>\n",
       "      <td>5.000000</td>\n",
       "    </tr>\n",
       "  </tbody>\n",
       "</table>\n",
       "</div>"
      ],
      "text/plain": [
       "              Пол     Возраст      Зарплата  Члены семьи  Страховые выплаты\n",
       "count  563.000000  563.000000    563.000000   563.000000         563.000000\n",
       "mean     0.497336   46.536412  39877.264654     1.103020           1.310835\n",
       "std      0.500438    3.889031  10073.880905     1.040142           0.612160\n",
       "min      0.000000   42.000000  11200.000000     0.000000           1.000000\n",
       "25%      0.000000   44.000000  32800.000000     0.000000           1.000000\n",
       "50%      0.000000   46.000000  40200.000000     1.000000           1.000000\n",
       "75%      1.000000   49.000000  46700.000000     2.000000           1.000000\n",
       "max      1.000000   65.000000  70500.000000     6.000000           5.000000"
      ]
     },
     "execution_count": 5,
     "metadata": {},
     "output_type": "execute_result"
    }
   ],
   "source": [
    "# посмотрим, отличаются ли чем-то клиенты, которые хотя бы однажды получали выплаты\n",
    "df[df['Страховые выплаты'] > 0].describe()"
   ]
  },
  {
   "cell_type": "markdown",
   "metadata": {},
   "source": [
    "Итак, в данных содержатся следующие признаки:\n",
    "* пол клиента, обозначаемый как \"1\" или \"0\". Видим, что клиентов с полом \"0\" существенно больше.\n",
    "* возраст клиентов - от 18 до 65 лет.\n",
    "* зарплата клиентов - от 5300 до 7900, довольно большой разброс.\n",
    "* количество членов семьи клиента (по всей видимости, кроме него самого), которое составляет от 0 до 6. \n",
    "\n",
    "Целевой признак - количество раз, когда клиент получал страховые выплаты. Большинство клиентов их не получали, однако некоторые - получали до 5 раз. Похоже, что клиенты, которые получали выплаты, в среднем старше, однако нельзя сказать, что их доходы и другие признаки заметно отличаются от выборки в целом.\n",
    "\n",
    "Поскольку типы данных соответствуют задаче исследования и пропусков в датасете не обнаружено, подготовка данных свелась к поиску и удалению дубликатов. \n",
    "\n",
    "В рамках данного исследования нет задачи улучшить качество предсказаний модели и выявить особенности в данных, поэтому отказываемся от выявления коррелляций между признаками и подробного анализа их распределения."
   ]
  },
  {
   "cell_type": "markdown",
   "metadata": {},
   "source": [
    "## Умножение матриц"
   ]
  },
  {
   "cell_type": "markdown",
   "metadata": {},
   "source": [
    "Нам необходимо ответить на вопрос, изменится ли качество линейной регрессии, если умножить признаки на обратимую матрицу. "
   ]
  },
  {
   "cell_type": "markdown",
   "metadata": {},
   "source": [
    "**Ответ:** Качество модели не изменится. Это следует из формулы обучения линейной регрессии."
   ]
  },
  {
   "cell_type": "markdown",
   "metadata": {},
   "source": [
    "**Обоснование:**\n",
    "Возьмём следующие обозначения.\n",
    "\n",
    "- $X$ — матрица признаков (нулевой столбец состоит из единиц)\n",
    "\n",
    "- $y$ — вектор целевого признака\n",
    "\n",
    "- $P$ — матрица, на которую умножаются признаки (должна быть обратимой)\n",
    "\n",
    "- $w$ — вектор весов линейной регрессии (нулевой элемент равен сдвигу)"
   ]
  },
  {
   "cell_type": "markdown",
   "metadata": {},
   "source": [
    "Вектор предсказаний задаётся формулой $a = Xw$. \n",
    "\n",
    "Формула обучения линейной регрессии: $w = (X^T X)^{-1} X^T y$\n",
    "\n",
    "Преобразуем выражение для вектора весов линейной регрессии $w'$. Примем, что при умножении исходной матрицы $X$ на обратимую матрицу $P$ у нас получается некоторая матрица $Y$:\n",
    "$$\n",
    "w' = (Y^TY)^{-1} Y^Ty\n",
    "$$"
   ]
  },
  {
   "cell_type": "markdown",
   "metadata": {},
   "source": [
    "Тогда:\n",
    "$$\n",
    "w' = ((XP)^T(XP))^{-1} (XP)^Ty = P^{-1}((XP)^{T}X)^{-1} (XP)^Ty =\n",
    "P^{-1}((XP)^{T}X)^{-1} P^TX^Ty = P^{-1}(P^TX^TX)^{-1} P^TX^Ty =\n",
    "P^{-1}(X^TX)^{-1}(P^T)^{-1} P^TX^Ty\n",
    "$$"
   ]
  },
  {
   "cell_type": "markdown",
   "metadata": {},
   "source": [
    "Сократим получившееся выражение: $(P^{T})^{-1} P^T = P^{-1}(X^TX)^{-1} X^Ty$"
   ]
  },
  {
   "cell_type": "markdown",
   "metadata": {},
   "source": [
    "Произведём замену для $w$: $w = (X^TX)^{-1}X^Ty = P^{-1}w$"
   ]
  },
  {
   "cell_type": "markdown",
   "metadata": {},
   "source": [
    "Тогда: $w(y)= P^{-1}w$"
   ]
  },
  {
   "cell_type": "markdown",
   "metadata": {},
   "source": [
    "Теперь посмотрим, что получается в формуле расчёта $a'$:\n",
    "$$\n",
    "a'=X'w' = XPP^{-1}w = Xw\n",
    "$$\n",
    "То есть, получили выражение, тождественное $a$. Таким образом, векторы предсказаний $w$ и $w'$ не отличаются."
   ]
  },
  {
   "cell_type": "markdown",
   "metadata": {},
   "source": [
    "## Алгоритм преобразования"
   ]
  },
  {
   "cell_type": "markdown",
   "metadata": {},
   "source": [
    "В соответствии с задачей, необходимо предложить такой алгоритм преобразования данных, чтобы по ним было сложно восстановить исходную информацию о клиентах, однако чтобы качество линейной регрессии не ухудшилось."
   ]
  },
  {
   "cell_type": "markdown",
   "metadata": {},
   "source": [
    "На основании приведённого выше теоретического обоснования можно предложить следующий **алгоритм**:\n",
    "1) отделяем от набора данных целевой признак.\n",
    "\n",
    "2) проводим обучение модели на исходных (`source`) данных, рассчитываем метрику R2.\n",
    "\n",
    "3) генерируем случайную матрицу (`key_matrix`), которая будет ключом шифрования, и сохраняем её.\n",
    "\n",
    "4) проверяем случайную матрицу на обратимость.\n",
    "\n",
    "5) умножаем набор данных на ключ шифрования, получаем преобразованный набор.\n",
    "\n",
    "6) обучаем модель на преобразованных данных, находим вектор предсказаний, вычисляем метрику R2.\n",
    "\n",
    "7) сравниваем получившиеся метрики.\n",
    "\n",
    "*Предположим, что после этого нам потребуется восстановить исходный набор данных. Внесём этот шаг в алгоритм - чтобы проверить успешность преобразования.*\n",
    "\n",
    "8) дешифруем исходные данные, умножая преобразованный набор на обратную матрицу для ключа шифрования."
   ]
  },
  {
   "cell_type": "markdown",
   "metadata": {},
   "source": [
    "**Обоснование**\n",
    "\n",
    "Смысл перемножения двух матриц состоит в том, что все векторы-строки матрицы X скалярно умножаются на все векторы-столбцы матрицы Y. Если мы перемножим каждую строку (набор признаков) матрицы Х на одинаковые наборы векторов (каждый столбец) матрицы Y, то на выходе получим новую матрицу - набор векторов, в котором расстояния между ними будут такими же, как и в исходной матрице. "
   ]
  },
  {
   "cell_type": "markdown",
   "metadata": {},
   "source": [
    "## Проверка алгоритма"
   ]
  },
  {
   "cell_type": "markdown",
   "metadata": {},
   "source": [
    "Необходимо проверить, будет ли отличаться теоретически предсказанный эффект от реального. Для этого запрограммируем алгоритм и рассчитаем метрику R2 на преобразованном наборе данных.\n",
    "\n",
    "Предварительно, однако, нужно рассчитать эту же метрику на **исходном наборе данных** (дадим ему наименование `source`)."
   ]
  },
  {
   "cell_type": "code",
   "execution_count": 6,
   "metadata": {},
   "outputs": [
    {
     "data": {
      "text/plain": [
       "(4847, 4)"
      ]
     },
     "execution_count": 6,
     "metadata": {},
     "output_type": "execute_result"
    }
   ],
   "source": [
    "# отделим целевой признак от остальных\n",
    "features_source = df.drop('Страховые выплаты', axis=1)\n",
    "target_source = df['Страховые выплаты']\n",
    "\n",
    "features_source.shape"
   ]
  },
  {
   "cell_type": "code",
   "execution_count": 7,
   "metadata": {},
   "outputs": [
    {
     "name": "stdout",
     "output_type": "stream",
     "text": [
      "0.4302010044852066\n"
     ]
    }
   ],
   "source": [
    "# обучим модель линейной регрессии\n",
    "model_source = LinearRegression()\n",
    "model_source.fit(features_source, target_source)\n",
    "\n",
    "# получим предсказания и рассчитаем метрику R2\n",
    "predictions_source = model_source.predict(features_source)\n",
    "print(r2_score(target_source, predictions_source))"
   ]
  },
  {
   "cell_type": "markdown",
   "metadata": {},
   "source": [
    "Теперь создадим функцию, которая будет преобразовывать исходный набор признаков и получать метрику R2 на нём. Внутри функции подробно распишем этапы алгоритма, а также будем выводить промежуточные итоги, чтобы убедиться, что всё работает как должно."
   ]
  },
  {
   "cell_type": "code",
   "execution_count": 8,
   "metadata": {},
   "outputs": [],
   "source": [
    "def encryption(data, column_name):\n",
    "    # отделяем признаки\n",
    "    features = data.drop(column_name, axis=1)\n",
    "    target = data[column_name]\n",
    "    \n",
    "    #обучаем модель на исходных данных и получаем метрику\n",
    "    model_source = LinearRegression().fit(features, target)\n",
    "    predictions_source = model_source.predict(features)\n",
    "    r2_source = r2_score(target, predictions_source)\n",
    "    print('Метрика R2 на исходных данных:', r2_source)\n",
    "    \n",
    "    # генерируем случайную квадратную матрицу\n",
    "    key_matrix = np.random.normal(size=(features.shape[1], features.shape[1]))\n",
    "    # проверяем обратимость этой матрицы\n",
    "    try:\n",
    "        inv_matrix = np.linalg.inv(key_matrix)\n",
    "        print('Ключевая матрица:')\n",
    "        display(key_matrix)\n",
    "    except:\n",
    "        print('Матрица необратима')\n",
    "    \n",
    "    # получим преобразованный набор\n",
    "    features_new = features @ key_matrix\n",
    "    print('Преобразованный набор данных:')\n",
    "    display(features_new.head())\n",
    "    \n",
    "    # обучим модель и рассчитаем метрику r_2\n",
    "    model = LinearRegression().fit(features_new, target)\n",
    "    predictions = model.predict(features_new)\n",
    "    r2_new = r2_score(target, predictions)\n",
    "    print('Метрика R2 модели:', r2_new)\n",
    "    \n",
    "    # вернём исходный набор данных, округляя до целых - как это было в исходном датасете\n",
    "    inv_matrix = np.linalg.inv(key_matrix)\n",
    "    features_origin = (features_new @ inv_matrix)\n",
    "    print('Восстановленный набор данных:')\n",
    "    display(features_origin.head())\n",
    "    \n",
    "    # округлим до целых - как это было в исходном датасете\n",
    "    features_origin = features_origin.astype(int).round()\n",
    "    features_origin = pd.DataFrame(features_origin)\n",
    "    data_origin = features_origin.merge(target, left_index=True, \n",
    "                                    right_index=True)\n",
    "    data_origin.columns = data.columns\n",
    "    \n",
    "    # дополним его столбцом с предсказаниями\n",
    "    predictions = pd.DataFrame(predictions)\n",
    "    data_origin['Предсказания'] = predictions.round()\n",
    "    \n",
    "    #сравним метрики\n",
    "    if round(r2_source, 4) == round(r2_new, 4):\n",
    "        print('Метрики R2 равны!')\n",
    "    else:\n",
    "        print('Метрики R2 не равны!')\n",
    "   \n",
    "    return data_origin.head()"
   ]
  },
  {
   "cell_type": "markdown",
   "metadata": {},
   "source": [
    "Запустим функцию на предоставленных данных."
   ]
  },
  {
   "cell_type": "code",
   "execution_count": 9,
   "metadata": {
    "scrolled": false
   },
   "outputs": [
    {
     "name": "stdout",
     "output_type": "stream",
     "text": [
      "Метрика R2 на исходных данных: 0.4302010044852066\n",
      "Ключевая матрица:\n"
     ]
    },
    {
     "data": {
      "text/plain": [
       "array([[-1.36669985, -2.19526805, -0.82980165, -0.53108723],\n",
       "       [-0.1962677 , -0.54654752, -1.42402406,  0.02002391],\n",
       "       [ 1.55266218, -2.62815065,  0.985485  , -0.56535184],\n",
       "       [ 0.58624901, -1.7827832 ,  0.37431442,  0.48606589]])"
      ]
     },
     "metadata": {},
     "output_type": "display_data"
    },
    {
     "name": "stdout",
     "output_type": "stream",
     "text": [
      "Преобразованный набор данных:\n"
     ]
    },
    {
     "data": {
      "text/html": [
       "<div>\n",
       "<style scoped>\n",
       "    .dataframe tbody tr th:only-of-type {\n",
       "        vertical-align: middle;\n",
       "    }\n",
       "\n",
       "    .dataframe tbody tr th {\n",
       "        vertical-align: top;\n",
       "    }\n",
       "\n",
       "    .dataframe thead th {\n",
       "        text-align: right;\n",
       "    }\n",
       "</style>\n",
       "<table border=\"1\" class=\"dataframe\">\n",
       "  <thead>\n",
       "    <tr style=\"text-align: right;\">\n",
       "      <th></th>\n",
       "      <th>0</th>\n",
       "      <th>1</th>\n",
       "      <th>2</th>\n",
       "      <th>3</th>\n",
       "    </tr>\n",
       "  </thead>\n",
       "  <tbody>\n",
       "    <tr>\n",
       "      <th>0</th>\n",
       "      <td>77003.216772</td>\n",
       "      <td>-130382.658599</td>\n",
       "      <td>48821.215527</td>\n",
       "      <td>-28040.675291</td>\n",
       "    </tr>\n",
       "    <tr>\n",
       "      <th>1</th>\n",
       "      <td>58992.720829</td>\n",
       "      <td>-99896.648562</td>\n",
       "      <td>37383.299208</td>\n",
       "      <td>-21481.962744</td>\n",
       "    </tr>\n",
       "    <tr>\n",
       "      <th>2</th>\n",
       "      <td>32600.214047</td>\n",
       "      <td>-55207.013469</td>\n",
       "      <td>20653.888303</td>\n",
       "      <td>-11871.807941</td>\n",
       "    </tr>\n",
       "    <tr>\n",
       "      <th>3</th>\n",
       "      <td>64743.063842</td>\n",
       "      <td>-109608.925051</td>\n",
       "      <td>41065.568624</td>\n",
       "      <td>-23573.779082</td>\n",
       "    </tr>\n",
       "    <tr>\n",
       "      <th>4</th>\n",
       "      <td>40517.620740</td>\n",
       "      <td>-68612.230490</td>\n",
       "      <td>25680.456025</td>\n",
       "      <td>-14755.653434</td>\n",
       "    </tr>\n",
       "  </tbody>\n",
       "</table>\n",
       "</div>"
      ],
      "text/plain": [
       "              0              1             2             3\n",
       "0  77003.216772 -130382.658599  48821.215527 -28040.675291\n",
       "1  58992.720829  -99896.648562  37383.299208 -21481.962744\n",
       "2  32600.214047  -55207.013469  20653.888303 -11871.807941\n",
       "3  64743.063842 -109608.925051  41065.568624 -23573.779082\n",
       "4  40517.620740  -68612.230490  25680.456025 -14755.653434"
      ]
     },
     "metadata": {},
     "output_type": "display_data"
    },
    {
     "name": "stdout",
     "output_type": "stream",
     "text": [
      "Метрика R2 модели: 0.4302010044852077\n",
      "Восстановленный набор данных:\n"
     ]
    },
    {
     "data": {
      "text/html": [
       "<div>\n",
       "<style scoped>\n",
       "    .dataframe tbody tr th:only-of-type {\n",
       "        vertical-align: middle;\n",
       "    }\n",
       "\n",
       "    .dataframe tbody tr th {\n",
       "        vertical-align: top;\n",
       "    }\n",
       "\n",
       "    .dataframe thead th {\n",
       "        text-align: right;\n",
       "    }\n",
       "</style>\n",
       "<table border=\"1\" class=\"dataframe\">\n",
       "  <thead>\n",
       "    <tr style=\"text-align: right;\">\n",
       "      <th></th>\n",
       "      <th>0</th>\n",
       "      <th>1</th>\n",
       "      <th>2</th>\n",
       "      <th>3</th>\n",
       "    </tr>\n",
       "  </thead>\n",
       "  <tbody>\n",
       "    <tr>\n",
       "      <th>0</th>\n",
       "      <td>1.000000e+00</td>\n",
       "      <td>41.0</td>\n",
       "      <td>49600.0</td>\n",
       "      <td>1.000000e+00</td>\n",
       "    </tr>\n",
       "    <tr>\n",
       "      <th>1</th>\n",
       "      <td>-2.006487e-12</td>\n",
       "      <td>46.0</td>\n",
       "      <td>38000.0</td>\n",
       "      <td>1.000000e+00</td>\n",
       "    </tr>\n",
       "    <tr>\n",
       "      <th>2</th>\n",
       "      <td>-1.050005e-12</td>\n",
       "      <td>29.0</td>\n",
       "      <td>21000.0</td>\n",
       "      <td>2.015259e-12</td>\n",
       "    </tr>\n",
       "    <tr>\n",
       "      <th>3</th>\n",
       "      <td>-5.445863e-12</td>\n",
       "      <td>21.0</td>\n",
       "      <td>41700.0</td>\n",
       "      <td>2.000000e+00</td>\n",
       "    </tr>\n",
       "    <tr>\n",
       "      <th>4</th>\n",
       "      <td>1.000000e+00</td>\n",
       "      <td>28.0</td>\n",
       "      <td>26100.0</td>\n",
       "      <td>1.773187e-12</td>\n",
       "    </tr>\n",
       "  </tbody>\n",
       "</table>\n",
       "</div>"
      ],
      "text/plain": [
       "              0     1        2             3\n",
       "0  1.000000e+00  41.0  49600.0  1.000000e+00\n",
       "1 -2.006487e-12  46.0  38000.0  1.000000e+00\n",
       "2 -1.050005e-12  29.0  21000.0  2.015259e-12\n",
       "3 -5.445863e-12  21.0  41700.0  2.000000e+00\n",
       "4  1.000000e+00  28.0  26100.0  1.773187e-12"
      ]
     },
     "metadata": {},
     "output_type": "display_data"
    },
    {
     "name": "stdout",
     "output_type": "stream",
     "text": [
      "Метрики R2 равны!\n"
     ]
    },
    {
     "data": {
      "text/html": [
       "<div>\n",
       "<style scoped>\n",
       "    .dataframe tbody tr th:only-of-type {\n",
       "        vertical-align: middle;\n",
       "    }\n",
       "\n",
       "    .dataframe tbody tr th {\n",
       "        vertical-align: top;\n",
       "    }\n",
       "\n",
       "    .dataframe thead th {\n",
       "        text-align: right;\n",
       "    }\n",
       "</style>\n",
       "<table border=\"1\" class=\"dataframe\">\n",
       "  <thead>\n",
       "    <tr style=\"text-align: right;\">\n",
       "      <th></th>\n",
       "      <th>Пол</th>\n",
       "      <th>Возраст</th>\n",
       "      <th>Зарплата</th>\n",
       "      <th>Члены семьи</th>\n",
       "      <th>Страховые выплаты</th>\n",
       "      <th>Предсказания</th>\n",
       "    </tr>\n",
       "  </thead>\n",
       "  <tbody>\n",
       "    <tr>\n",
       "      <th>0</th>\n",
       "      <td>0</td>\n",
       "      <td>40</td>\n",
       "      <td>49599</td>\n",
       "      <td>1</td>\n",
       "      <td>0</td>\n",
       "      <td>1.0</td>\n",
       "    </tr>\n",
       "    <tr>\n",
       "      <th>1</th>\n",
       "      <td>0</td>\n",
       "      <td>45</td>\n",
       "      <td>37999</td>\n",
       "      <td>1</td>\n",
       "      <td>1</td>\n",
       "      <td>1.0</td>\n",
       "    </tr>\n",
       "    <tr>\n",
       "      <th>2</th>\n",
       "      <td>0</td>\n",
       "      <td>29</td>\n",
       "      <td>21000</td>\n",
       "      <td>0</td>\n",
       "      <td>0</td>\n",
       "      <td>0.0</td>\n",
       "    </tr>\n",
       "    <tr>\n",
       "      <th>3</th>\n",
       "      <td>0</td>\n",
       "      <td>21</td>\n",
       "      <td>41700</td>\n",
       "      <td>1</td>\n",
       "      <td>0</td>\n",
       "      <td>-0.0</td>\n",
       "    </tr>\n",
       "    <tr>\n",
       "      <th>4</th>\n",
       "      <td>1</td>\n",
       "      <td>27</td>\n",
       "      <td>26099</td>\n",
       "      <td>0</td>\n",
       "      <td>0</td>\n",
       "      <td>0.0</td>\n",
       "    </tr>\n",
       "  </tbody>\n",
       "</table>\n",
       "</div>"
      ],
      "text/plain": [
       "   Пол  Возраст  Зарплата  Члены семьи  Страховые выплаты  Предсказания\n",
       "0    0       40     49599            1                  0           1.0\n",
       "1    0       45     37999            1                  1           1.0\n",
       "2    0       29     21000            0                  0           0.0\n",
       "3    0       21     41700            1                  0          -0.0\n",
       "4    1       27     26099            0                  0           0.0"
      ]
     },
     "execution_count": 9,
     "metadata": {},
     "output_type": "execute_result"
    }
   ],
   "source": [
    "encryption(df, 'Страховые выплаты')"
   ]
  },
  {
   "cell_type": "markdown",
   "metadata": {},
   "source": [
    "### Выводы"
   ]
  },
  {
   "cell_type": "markdown",
   "metadata": {},
   "source": [
    "**Метрика качества предсказаний одинакова** - как и следовало ожидать в соответствии с теоретическим обоснованием, основанным на способе работы линейной регрессии, и смыслом матричных операций. \n",
    "\n",
    "Одним из способов шифрования данных является умножение датасета на обратимую матрицу. Восстановить данные, не зная матрицу, будет сложно. При этом те, у кого есть ключевая матрица, всегда смогут восстановить исходный датасет. **Преобразования прошли успешно** - при округлении данных в восстановленном датасете. Без округления значения несколько отличаются от первоначальных (по всей видимости, из-за особенностей вычислений с типом float64)."
   ]
  }
 ],
 "metadata": {
  "ExecuteTimeLog": [
   {
    "duration": 381,
    "start_time": "2022-08-15T09:32:18.835Z"
   },
   {
    "duration": 79,
    "start_time": "2022-08-15T09:32:45.074Z"
   },
   {
    "duration": 43,
    "start_time": "2022-08-15T09:32:59.350Z"
   },
   {
    "duration": 12,
    "start_time": "2022-08-15T09:33:52.184Z"
   },
   {
    "duration": 24,
    "start_time": "2022-08-15T09:34:16.834Z"
   },
   {
    "duration": 64,
    "start_time": "2022-08-15T09:35:33.902Z"
   },
   {
    "duration": 24,
    "start_time": "2022-08-15T09:35:47.986Z"
   },
   {
    "duration": 30,
    "start_time": "2022-08-15T09:36:31.416Z"
   },
   {
    "duration": 26,
    "start_time": "2022-08-15T09:37:23.166Z"
   },
   {
    "duration": 7,
    "start_time": "2022-08-15T09:37:59.908Z"
   },
   {
    "duration": 26,
    "start_time": "2022-08-15T09:38:17.917Z"
   },
   {
    "duration": 6,
    "start_time": "2022-08-15T09:38:37.358Z"
   },
   {
    "duration": 43,
    "start_time": "2022-08-15T09:39:15.449Z"
   },
   {
    "duration": 23,
    "start_time": "2022-08-15T09:44:29.178Z"
   },
   {
    "duration": 24,
    "start_time": "2022-08-15T09:44:56.281Z"
   },
   {
    "duration": 3,
    "start_time": "2022-08-15T10:44:31.021Z"
   },
   {
    "duration": 5,
    "start_time": "2022-08-15T17:44:20.698Z"
   },
   {
    "duration": 2,
    "start_time": "2022-08-15T17:44:38.808Z"
   },
   {
    "duration": 51,
    "start_time": "2022-08-15T17:44:38.813Z"
   },
   {
    "duration": 7,
    "start_time": "2022-08-15T17:44:38.865Z"
   },
   {
    "duration": 41,
    "start_time": "2022-08-15T17:44:38.875Z"
   },
   {
    "duration": 29,
    "start_time": "2022-08-15T17:44:38.919Z"
   },
   {
    "duration": 6,
    "start_time": "2022-08-15T17:44:38.950Z"
   },
   {
    "duration": 5,
    "start_time": "2022-08-15T17:51:24.836Z"
   },
   {
    "duration": 713,
    "start_time": "2022-08-15T17:58:18.166Z"
   },
   {
    "duration": 17,
    "start_time": "2022-08-15T18:27:22.427Z"
   },
   {
    "duration": 59,
    "start_time": "2022-08-15T19:10:37.280Z"
   },
   {
    "duration": 6,
    "start_time": "2022-08-15T19:10:46.084Z"
   },
   {
    "duration": 237,
    "start_time": "2022-08-15T19:11:12.981Z"
   },
   {
    "duration": 5,
    "start_time": "2022-08-15T19:14:00.306Z"
   },
   {
    "duration": 85,
    "start_time": "2022-08-15T19:14:05.322Z"
   },
   {
    "duration": 6,
    "start_time": "2022-08-15T19:14:29.426Z"
   },
   {
    "duration": 217,
    "start_time": "2022-08-15T19:14:31.686Z"
   },
   {
    "duration": 4,
    "start_time": "2022-08-15T19:16:10.038Z"
   },
   {
    "duration": 20,
    "start_time": "2022-08-15T19:16:15.788Z"
   },
   {
    "duration": 7,
    "start_time": "2022-08-15T19:16:33.878Z"
   },
   {
    "duration": 101,
    "start_time": "2022-08-15T19:16:36.004Z"
   },
   {
    "duration": 5,
    "start_time": "2022-08-15T19:18:50.720Z"
   },
   {
    "duration": 37,
    "start_time": "2022-08-15T19:18:52.968Z"
   },
   {
    "duration": 6,
    "start_time": "2022-08-15T19:20:19.670Z"
   },
   {
    "duration": 25,
    "start_time": "2022-08-15T19:20:23.000Z"
   },
   {
    "duration": 59,
    "start_time": "2022-08-15T19:22:32.730Z"
   },
   {
    "duration": 5,
    "start_time": "2022-08-15T19:22:42.771Z"
   },
   {
    "duration": 22,
    "start_time": "2022-08-15T19:22:45.122Z"
   },
   {
    "duration": 6,
    "start_time": "2022-08-15T19:32:22.530Z"
   },
   {
    "duration": 78,
    "start_time": "2022-08-15T19:32:24.926Z"
   },
   {
    "duration": 3,
    "start_time": "2022-08-15T19:34:14.208Z"
   },
   {
    "duration": 49,
    "start_time": "2022-08-15T19:34:14.213Z"
   },
   {
    "duration": 7,
    "start_time": "2022-08-15T19:34:14.265Z"
   },
   {
    "duration": 39,
    "start_time": "2022-08-15T19:34:14.274Z"
   },
   {
    "duration": 25,
    "start_time": "2022-08-15T19:34:14.314Z"
   },
   {
    "duration": 6,
    "start_time": "2022-08-15T19:34:14.340Z"
   },
   {
    "duration": 60,
    "start_time": "2022-08-15T19:34:14.348Z"
   },
   {
    "duration": 11,
    "start_time": "2022-08-15T19:34:19.228Z"
   },
   {
    "duration": 19,
    "start_time": "2022-08-15T19:34:32.858Z"
   },
   {
    "duration": 15,
    "start_time": "2022-08-15T19:35:34.179Z"
   },
   {
    "duration": 37,
    "start_time": "2022-08-15T19:38:38.380Z"
   },
   {
    "duration": 20,
    "start_time": "2022-08-15T19:39:31.421Z"
   },
   {
    "duration": 3,
    "start_time": "2022-08-15T19:41:02.144Z"
   },
   {
    "duration": 56,
    "start_time": "2022-08-15T19:41:02.149Z"
   },
   {
    "duration": 6,
    "start_time": "2022-08-15T19:41:02.206Z"
   },
   {
    "duration": 34,
    "start_time": "2022-08-15T19:41:02.214Z"
   },
   {
    "duration": 24,
    "start_time": "2022-08-15T19:41:02.250Z"
   },
   {
    "duration": 5,
    "start_time": "2022-08-15T19:41:02.276Z"
   },
   {
    "duration": 105,
    "start_time": "2022-08-15T19:41:02.303Z"
   },
   {
    "duration": 17,
    "start_time": "2022-08-15T19:41:07.022Z"
   },
   {
    "duration": 3,
    "start_time": "2022-08-15T19:41:33.710Z"
   },
   {
    "duration": 51,
    "start_time": "2022-08-15T19:41:33.716Z"
   },
   {
    "duration": 6,
    "start_time": "2022-08-15T19:41:33.769Z"
   },
   {
    "duration": 52,
    "start_time": "2022-08-15T19:41:33.777Z"
   },
   {
    "duration": 24,
    "start_time": "2022-08-15T19:41:33.830Z"
   },
   {
    "duration": 6,
    "start_time": "2022-08-15T19:41:33.856Z"
   },
   {
    "duration": 40,
    "start_time": "2022-08-15T19:41:33.864Z"
   },
   {
    "duration": 18,
    "start_time": "2022-08-15T19:41:38.362Z"
   },
   {
    "duration": 51,
    "start_time": "2022-08-15T19:42:53.153Z"
   },
   {
    "duration": 20,
    "start_time": "2022-08-15T19:49:02.126Z"
   },
   {
    "duration": 47,
    "start_time": "2022-08-15T19:49:41.257Z"
   },
   {
    "duration": 19,
    "start_time": "2022-08-15T19:55:58.049Z"
   },
   {
    "duration": 49,
    "start_time": "2022-08-15T20:14:01.156Z"
   },
   {
    "duration": 35,
    "start_time": "2022-08-15T20:14:36.379Z"
   },
   {
    "duration": 194,
    "start_time": "2022-08-15T20:16:06.112Z"
   },
   {
    "duration": 21,
    "start_time": "2022-08-15T20:17:30.652Z"
   },
   {
    "duration": 52,
    "start_time": "2022-08-15T20:19:16.151Z"
   },
   {
    "duration": 19,
    "start_time": "2022-08-15T20:19:32.793Z"
   },
   {
    "duration": 102,
    "start_time": "2022-08-15T20:19:46.102Z"
   },
   {
    "duration": 121,
    "start_time": "2022-08-15T20:20:43.993Z"
   },
   {
    "duration": 64,
    "start_time": "2022-08-15T20:25:50.746Z"
   },
   {
    "duration": 113,
    "start_time": "2022-08-15T20:26:04.506Z"
   },
   {
    "duration": 35,
    "start_time": "2022-08-15T20:26:38.676Z"
   },
   {
    "duration": 151,
    "start_time": "2022-08-15T20:26:46.965Z"
   },
   {
    "duration": 57,
    "start_time": "2022-08-15T20:27:07.447Z"
   },
   {
    "duration": 183,
    "start_time": "2022-08-15T20:28:17.327Z"
   },
   {
    "duration": 137,
    "start_time": "2022-08-15T20:28:34.668Z"
   },
   {
    "duration": 199,
    "start_time": "2022-08-15T20:29:10.308Z"
   },
   {
    "duration": 149,
    "start_time": "2022-08-15T20:30:14.569Z"
   },
   {
    "duration": 148,
    "start_time": "2022-08-15T20:33:13.361Z"
   },
   {
    "duration": 87,
    "start_time": "2022-08-15T20:35:20.222Z"
   },
   {
    "duration": 71,
    "start_time": "2022-08-15T20:37:12.273Z"
   },
   {
    "duration": 50,
    "start_time": "2022-08-15T20:37:19.253Z"
   },
   {
    "duration": 22,
    "start_time": "2022-08-15T20:37:32.734Z"
   },
   {
    "duration": 22,
    "start_time": "2022-08-15T20:37:47.213Z"
   },
   {
    "duration": 42,
    "start_time": "2022-08-15T20:39:20.463Z"
   },
   {
    "duration": 33,
    "start_time": "2022-08-15T20:39:53.475Z"
   },
   {
    "duration": 159,
    "start_time": "2022-08-15T20:40:35.245Z"
   },
   {
    "duration": 115,
    "start_time": "2022-08-15T20:46:58.389Z"
   },
   {
    "duration": 65,
    "start_time": "2022-08-15T20:47:32.839Z"
   },
   {
    "duration": 3,
    "start_time": "2022-08-15T20:51:04.301Z"
   },
   {
    "duration": 48,
    "start_time": "2022-08-15T20:51:04.306Z"
   },
   {
    "duration": 5,
    "start_time": "2022-08-15T20:51:04.356Z"
   },
   {
    "duration": 32,
    "start_time": "2022-08-15T20:51:04.363Z"
   },
   {
    "duration": 25,
    "start_time": "2022-08-15T20:51:04.397Z"
   },
   {
    "duration": 5,
    "start_time": "2022-08-15T20:51:04.424Z"
   },
   {
    "duration": 17,
    "start_time": "2022-08-15T20:51:04.431Z"
   },
   {
    "duration": 5,
    "start_time": "2022-08-15T20:51:09.812Z"
   },
   {
    "duration": 78,
    "start_time": "2022-08-15T20:51:21.131Z"
   },
   {
    "duration": 6,
    "start_time": "2022-08-15T20:52:26.963Z"
   },
   {
    "duration": 66,
    "start_time": "2022-08-15T20:52:29.642Z"
   },
   {
    "duration": 4,
    "start_time": "2022-08-16T07:48:14.270Z"
   },
   {
    "duration": 56,
    "start_time": "2022-08-16T07:48:14.276Z"
   },
   {
    "duration": 5,
    "start_time": "2022-08-16T07:48:14.333Z"
   },
   {
    "duration": 26,
    "start_time": "2022-08-16T07:48:14.340Z"
   },
   {
    "duration": 38,
    "start_time": "2022-08-16T07:48:14.367Z"
   },
   {
    "duration": 6,
    "start_time": "2022-08-16T07:48:14.407Z"
   },
   {
    "duration": 87,
    "start_time": "2022-08-16T07:48:14.415Z"
   },
   {
    "duration": 6,
    "start_time": "2022-08-16T07:48:17.939Z"
   },
   {
    "duration": 72,
    "start_time": "2022-08-16T07:48:20.638Z"
   },
   {
    "duration": 5,
    "start_time": "2022-08-16T07:50:55.942Z"
   },
   {
    "duration": 6,
    "start_time": "2022-08-16T07:51:06.951Z"
   },
   {
    "duration": 53,
    "start_time": "2022-08-16T07:51:09.451Z"
   },
   {
    "duration": 56,
    "start_time": "2022-08-16T07:52:47.362Z"
   },
   {
    "duration": 94,
    "start_time": "2022-08-16T07:53:09.912Z"
   },
   {
    "duration": 52,
    "start_time": "2022-08-16T07:53:56.074Z"
   },
   {
    "duration": 6,
    "start_time": "2022-08-16T07:54:13.543Z"
   },
   {
    "duration": 185,
    "start_time": "2022-08-16T07:54:16.224Z"
   },
   {
    "duration": 7,
    "start_time": "2022-08-16T07:54:30.713Z"
   },
   {
    "duration": 5,
    "start_time": "2022-08-16T07:54:41.494Z"
   },
   {
    "duration": 170,
    "start_time": "2022-08-16T07:54:43.634Z"
   },
   {
    "duration": 6,
    "start_time": "2022-08-16T07:56:23.085Z"
   },
   {
    "duration": 155,
    "start_time": "2022-08-16T07:56:26.050Z"
   },
   {
    "duration": 6,
    "start_time": "2022-08-16T08:05:39.871Z"
   },
   {
    "duration": 142,
    "start_time": "2022-08-16T08:05:42.862Z"
   },
   {
    "duration": 6,
    "start_time": "2022-08-16T08:06:07.652Z"
   },
   {
    "duration": 125,
    "start_time": "2022-08-16T08:06:09.981Z"
   },
   {
    "duration": 1126,
    "start_time": "2022-08-16T08:06:21.099Z"
   },
   {
    "duration": 54,
    "start_time": "2022-08-16T08:06:22.227Z"
   },
   {
    "duration": 4,
    "start_time": "2022-08-16T08:06:22.283Z"
   },
   {
    "duration": 32,
    "start_time": "2022-08-16T08:06:22.289Z"
   },
   {
    "duration": 23,
    "start_time": "2022-08-16T08:06:22.323Z"
   },
   {
    "duration": 5,
    "start_time": "2022-08-16T08:06:22.348Z"
   },
   {
    "duration": 51,
    "start_time": "2022-08-16T08:06:22.355Z"
   },
   {
    "duration": 101,
    "start_time": "2022-08-16T08:06:22.407Z"
   },
   {
    "duration": 195,
    "start_time": "2022-08-16T08:06:22.509Z"
   },
   {
    "duration": 1183,
    "start_time": "2022-08-16T11:34:24.326Z"
   },
   {
    "duration": 49,
    "start_time": "2022-08-16T11:34:25.511Z"
   },
   {
    "duration": 5,
    "start_time": "2022-08-16T11:34:25.561Z"
   },
   {
    "duration": 24,
    "start_time": "2022-08-16T11:34:25.567Z"
   },
   {
    "duration": 21,
    "start_time": "2022-08-16T11:34:25.592Z"
   },
   {
    "duration": 4,
    "start_time": "2022-08-16T11:34:25.614Z"
   },
   {
    "duration": 81,
    "start_time": "2022-08-16T11:34:25.620Z"
   },
   {
    "duration": 101,
    "start_time": "2022-08-16T11:34:25.703Z"
   },
   {
    "duration": 103,
    "start_time": "2022-08-16T11:34:25.806Z"
   },
   {
    "duration": 1198,
    "start_time": "2022-08-16T11:49:53.404Z"
   },
   {
    "duration": 50,
    "start_time": "2022-08-16T11:49:54.604Z"
   },
   {
    "duration": 5,
    "start_time": "2022-08-16T11:49:54.656Z"
   },
   {
    "duration": 40,
    "start_time": "2022-08-16T11:49:54.662Z"
   },
   {
    "duration": 20,
    "start_time": "2022-08-16T11:49:54.704Z"
   },
   {
    "duration": 5,
    "start_time": "2022-08-16T11:49:54.725Z"
   },
   {
    "duration": 22,
    "start_time": "2022-08-16T11:49:54.732Z"
   },
   {
    "duration": 147,
    "start_time": "2022-08-16T11:49:54.755Z"
   },
   {
    "duration": 208,
    "start_time": "2022-08-16T11:49:54.905Z"
   },
   {
    "duration": 1132,
    "start_time": "2022-08-16T16:33:29.893Z"
   },
   {
    "duration": 110,
    "start_time": "2022-08-16T16:33:31.027Z"
   },
   {
    "duration": 5,
    "start_time": "2022-08-16T16:33:31.139Z"
   },
   {
    "duration": 44,
    "start_time": "2022-08-16T16:33:31.146Z"
   },
   {
    "duration": 27,
    "start_time": "2022-08-16T16:33:31.192Z"
   },
   {
    "duration": 6,
    "start_time": "2022-08-16T16:33:31.220Z"
   },
   {
    "duration": 35,
    "start_time": "2022-08-16T16:33:31.227Z"
   },
   {
    "duration": 8,
    "start_time": "2022-08-16T16:33:35.037Z"
   },
   {
    "duration": 242,
    "start_time": "2022-08-16T16:33:38.367Z"
   },
   {
    "duration": 57,
    "start_time": "2022-08-16T16:45:20.915Z"
   },
   {
    "duration": 7,
    "start_time": "2022-08-16T16:45:29.164Z"
   },
   {
    "duration": 245,
    "start_time": "2022-08-16T16:45:33.634Z"
   },
   {
    "duration": 7,
    "start_time": "2022-08-16T16:45:58.125Z"
   },
   {
    "duration": 292,
    "start_time": "2022-08-16T16:46:00.934Z"
   },
   {
    "duration": 8,
    "start_time": "2022-08-16T16:48:43.856Z"
   },
   {
    "duration": 391,
    "start_time": "2022-08-16T16:48:46.324Z"
   },
   {
    "duration": 53,
    "start_time": "2022-08-16T16:52:18.207Z"
   },
   {
    "duration": 22,
    "start_time": "2022-08-16T17:37:06.448Z"
   },
   {
    "duration": 7,
    "start_time": "2022-08-16T17:41:53.237Z"
   },
   {
    "duration": 27,
    "start_time": "2022-08-16T17:42:16.435Z"
   },
   {
    "duration": 7,
    "start_time": "2022-08-16T17:44:06.444Z"
   },
   {
    "duration": 14,
    "start_time": "2022-08-16T17:44:10.046Z"
   },
   {
    "duration": 15,
    "start_time": "2022-08-16T17:50:11.603Z"
   },
   {
    "duration": 251,
    "start_time": "2022-08-16T17:50:15.461Z"
   },
   {
    "duration": 1112,
    "start_time": "2022-08-16T17:55:43.388Z"
   },
   {
    "duration": 50,
    "start_time": "2022-08-16T17:55:44.502Z"
   },
   {
    "duration": 5,
    "start_time": "2022-08-16T17:55:44.553Z"
   },
   {
    "duration": 23,
    "start_time": "2022-08-16T17:55:44.560Z"
   },
   {
    "duration": 20,
    "start_time": "2022-08-16T17:55:44.585Z"
   },
   {
    "duration": 10,
    "start_time": "2022-08-16T17:55:44.607Z"
   },
   {
    "duration": 24,
    "start_time": "2022-08-16T17:55:44.619Z"
   },
   {
    "duration": 184,
    "start_time": "2022-08-16T17:55:44.645Z"
   },
   {
    "duration": 296,
    "start_time": "2022-08-16T17:55:44.831Z"
   }
  ],
  "kernelspec": {
   "display_name": "Python 3 (ipykernel)",
   "language": "python",
   "name": "python3"
  },
  "language_info": {
   "codemirror_mode": {
    "name": "ipython",
    "version": 3
   },
   "file_extension": ".py",
   "mimetype": "text/x-python",
   "name": "python",
   "nbconvert_exporter": "python",
   "pygments_lexer": "ipython3",
   "version": "3.9.7"
  },
  "toc": {
   "base_numbering": 1,
   "nav_menu": {},
   "number_sections": true,
   "sideBar": true,
   "skip_h1_title": true,
   "title_cell": "Содержание",
   "title_sidebar": "Contents",
   "toc_cell": true,
   "toc_position": {},
   "toc_section_display": true,
   "toc_window_display": true
  }
 },
 "nbformat": 4,
 "nbformat_minor": 2
}
