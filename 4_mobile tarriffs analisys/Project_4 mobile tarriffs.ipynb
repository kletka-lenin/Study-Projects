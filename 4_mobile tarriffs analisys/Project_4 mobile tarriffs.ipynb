{
 "cells": [
  {
   "cell_type": "markdown",
   "metadata": {
    "toc": true
   },
   "source": [
    "<h1>Table of Contents<span class=\"tocSkip\"></span></h1>\n",
    "<div class=\"toc\"><ul class=\"toc-item\"><li><span><a href=\"#Описание-проекта\" data-toc-modified-id=\"Описание-проекта-1\"><span class=\"toc-item-num\">1&nbsp;&nbsp;</span>Описание проекта</a></span><ul class=\"toc-item\"><li><span><a href=\"#Предоставленные-данные\" data-toc-modified-id=\"Предоставленные-данные-1.1\"><span class=\"toc-item-num\">1.1&nbsp;&nbsp;</span>Предоставленные данные</a></span></li></ul></li><li><span><a href=\"#Подготовка-данных\" data-toc-modified-id=\"Подготовка-данных-2\"><span class=\"toc-item-num\">2&nbsp;&nbsp;</span>Подготовка данных</a></span><ul class=\"toc-item\"><li><span><a href=\"#Общий-обзор-и-устранение-ошибок\" data-toc-modified-id=\"Общий-обзор-и-устранение-ошибок-2.1\"><span class=\"toc-item-num\">2.1&nbsp;&nbsp;</span>Общий обзор и устранение ошибок</a></span><ul class=\"toc-item\"><li><span><a href=\"#Таблица-users\" data-toc-modified-id=\"Таблица-users-2.1.1\"><span class=\"toc-item-num\">2.1.1&nbsp;&nbsp;</span>Таблица users</a></span></li><li><span><a href=\"#Таблица-calls\" data-toc-modified-id=\"Таблица-calls-2.1.2\"><span class=\"toc-item-num\">2.1.2&nbsp;&nbsp;</span>Таблица calls</a></span></li><li><span><a href=\"#Таблица-messages\" data-toc-modified-id=\"Таблица-messages-2.1.3\"><span class=\"toc-item-num\">2.1.3&nbsp;&nbsp;</span>Таблица messages</a></span></li><li><span><a href=\"#Таблица-internet\" data-toc-modified-id=\"Таблица-internet-2.1.4\"><span class=\"toc-item-num\">2.1.4&nbsp;&nbsp;</span>Таблица internet</a></span></li><li><span><a href=\"#Таблица-tariffs\" data-toc-modified-id=\"Таблица-tariffs-2.1.5\"><span class=\"toc-item-num\">2.1.5&nbsp;&nbsp;</span>Таблица tariffs</a></span></li></ul></li><li><span><a href=\"#Расчёт-данных-для-анализа\" data-toc-modified-id=\"Расчёт-данных-для-анализа-2.2\"><span class=\"toc-item-num\">2.2&nbsp;&nbsp;</span>Расчёт данных для анализа</a></span><ul class=\"toc-item\"><li><span><a href=\"#Работа-со-звонками\" data-toc-modified-id=\"Работа-со-звонками-2.2.1\"><span class=\"toc-item-num\">2.2.1&nbsp;&nbsp;</span>Работа со звонками</a></span></li><li><span><a href=\"#Работа-с-сообщениями\" data-toc-modified-id=\"Работа-с-сообщениями-2.2.2\"><span class=\"toc-item-num\">2.2.2&nbsp;&nbsp;</span>Работа с сообщениями</a></span></li><li><span><a href=\"#Работа-с-интернет-трафиком\" data-toc-modified-id=\"Работа-с-интернет-трафиком-2.2.3\"><span class=\"toc-item-num\">2.2.3&nbsp;&nbsp;</span>Работа с интернет-трафиком</a></span></li><li><span><a href=\"#Расчёт-помесячных-расходов-абонентов\" data-toc-modified-id=\"Расчёт-помесячных-расходов-абонентов-2.2.4\"><span class=\"toc-item-num\">2.2.4&nbsp;&nbsp;</span>Расчёт помесячных расходов абонентов</a></span></li><li><span><a href=\"#Подготовка-данных---выводы\" data-toc-modified-id=\"Подготовка-данных---выводы-2.2.5\"><span class=\"toc-item-num\">2.2.5&nbsp;&nbsp;</span>Подготовка данных - выводы</a></span></li></ul></li></ul></li><li><span><a href=\"#Анализ-данных\" data-toc-modified-id=\"Анализ-данных-3\"><span class=\"toc-item-num\">3&nbsp;&nbsp;</span>Анализ данных</a></span><ul class=\"toc-item\"><li><span><a href=\"#Анализ-длительности-разговоров\" data-toc-modified-id=\"Анализ-длительности-разговоров-3.1\"><span class=\"toc-item-num\">3.1&nbsp;&nbsp;</span>Анализ длительности разговоров</a></span></li><li><span><a href=\"#Анализ-количества-сообщений\" data-toc-modified-id=\"Анализ-количества-сообщений-3.2\"><span class=\"toc-item-num\">3.2&nbsp;&nbsp;</span>Анализ количества сообщений</a></span></li><li><span><a href=\"#Анализ-использования-интернета\" data-toc-modified-id=\"Анализ-использования-интернета-3.3\"><span class=\"toc-item-num\">3.3&nbsp;&nbsp;</span>Анализ использования интернета</a></span></li></ul></li><li><span><a href=\"#Проверка-гипотез\" data-toc-modified-id=\"Проверка-гипотез-4\"><span class=\"toc-item-num\">4&nbsp;&nbsp;</span>Проверка гипотез</a></span><ul class=\"toc-item\"><li><span><a href=\"#Средняя-выручка-пользователей-тарифов-&quot;Ультра&quot;-и-&quot;Смарт&quot;-различаются\" data-toc-modified-id=\"Средняя-выручка-пользователей-тарифов-&quot;Ультра&quot;-и-&quot;Смарт&quot;-различаются-4.1\"><span class=\"toc-item-num\">4.1&nbsp;&nbsp;</span>Средняя выручка пользователей тарифов \"Ультра\" и \"Смарт\" различаются</a></span></li><li><span><a href=\"#Cредняя-выручка-пользователей-из-Москвы-отличается-от-выручки-пользователей-из-других-регионов\" data-toc-modified-id=\"Cредняя-выручка-пользователей-из-Москвы-отличается-от-выручки-пользователей-из-других-регионов-4.2\"><span class=\"toc-item-num\">4.2&nbsp;&nbsp;</span>Cредняя выручка пользователей из Москвы отличается от выручки пользователей из других регионов</a></span></li></ul></li><li><span><a href=\"#Выводы\" data-toc-modified-id=\"Выводы-5\"><span class=\"toc-item-num\">5&nbsp;&nbsp;</span>Выводы</a></span></li></ul></div>"
   ]
  },
  {
   "cell_type": "markdown",
   "metadata": {},
   "source": [
    "## Описание проекта"
   ]
  },
  {
   "cell_type": "markdown",
   "metadata": {},
   "source": [
    "Цель исследования состоит в изучении данных о том, как абоненты опратора мобильной связи, которые подключены к одному из двух тарифов: «Смарт» и «Ультра», используют свой тариф. Нужно выяснить, какой из них приносит оператору больше выручки. По данным выборки в 500 пользователей оператора необходимо выяснить, сколько звонков и сообщений каждый отправил за 2018 год, сколько пользователями было потрачено Гб мобильного интернета. Нужно проанализировать поведение клиентов и сделать вывод — какой тариф лучше.\n",
    "\n",
    "Таким образом, необходимо выполнить следующие задачи:\n",
    "1. Изучить и подготовить данные из 5 таблиц для анализа:\n",
    "    * привести к нужным типам, исправить ошибки в данных,\n",
    "    * подсчитать для каждого пользователя количество и продолжительность звонков, количество сообщений, объём интернет-трафика по месяцам и помесячную выручку с каждого пользователя.\n",
    "2. Проанализировать данные - описать поведение клиентов, их потребности в звонках, сообщениях и мобильном интернете, визуализировать данные.\n",
    "3. Проверить гипотезы:\n",
    "    * средняя выручка пользователей тарифов «Ультра» и «Смарт» различаются,\n",
    "    * средняя выручка пользователей из Москвы отличается от выручки пользователей из других регионов."
   ]
  },
  {
   "cell_type": "markdown",
   "metadata": {},
   "source": [
    "### Предоставленные данные"
   ]
  },
  {
   "cell_type": "markdown",
   "metadata": {},
   "source": [
    "Таблица **users** (информация о пользователях):\n",
    "* `user_id` — уникальный идентификатор пользователя\n",
    "* `first_name` — имя пользователя\n",
    "* `last_name` — фамилия пользователя\n",
    "* `age` — возраст пользователя (годы)\n",
    "* `reg_date` — дата подключения тарифа (день, месяц, год)\n",
    "* `churn_date` — дата прекращения пользования тарифом (если значение пропущено, то тариф ещё действовал на момент выгрузки данных)\n",
    "* `city` — город проживания пользователя\n",
    "* `tariff` — название тарифного плана\n",
    "\n",
    "Таблица **calls** (информация о звонках):\n",
    "* `id` — уникальный номер звонка\n",
    "* `call_date` — дата звонка\n",
    "* `duration` — длительность звонка в минутах\n",
    "* `user_id` — идентификатор пользователя, сделавшего звонок\n",
    "\n",
    "Таблица **messages** (информация о сообщениях):\n",
    "* `id` — уникальный номер сообщения\n",
    "* `message_date` — дата сообщения\n",
    "* `user_id` — идентификатор пользователя, отправившего сообщение\n",
    "\n",
    "Таблица **internet** (информация об интернет-сессиях):\n",
    "* `id` — уникальный номер сессии\n",
    "* `mb_used` — объём потраченного за сессию интернет-трафика (в мегабайтах)\n",
    "* `session_date` — дата интернет-сессии\n",
    "* `user_id` — идентификатор пользователя\n",
    "\n",
    "Таблица **tariffs** (информация о тарифах):\n",
    "* `tariff_name` — название тарифа\n",
    "* `rub_monthly_fee` — ежемесячная абонентская плата в рублях\n",
    "* `minutes_included` — количество минут разговора в месяц, включённых в абонентскую плату\n",
    "* `messages_included` — количество сообщений в месяц, включённых в абонентскую плату\n",
    "* `mb_per_month_included` — объём интернет-трафика, включённого в абонентскую плату (в мегабайтах)\n",
    "* `rub_per_minute` — стоимость минуты разговора сверх тарифного пакета (например, если в тарифе 100 минут разговора в месяц, то со 101 минуты будет взиматься плата)\n",
    "* `rub_per_message` — стоимость отправки сообщения сверх тарифного пакета\n",
    "* `rub_per_gb` — стоимость дополнительного гигабайта интернет-трафика сверх тарифного пакета (1 гигабайт = 1024 мегабайта)"
   ]
  },
  {
   "cell_type": "markdown",
   "metadata": {},
   "source": [
    "## Подготовка данных"
   ]
  },
  {
   "cell_type": "markdown",
   "metadata": {},
   "source": [
    "### Общий обзор и устранение ошибок"
   ]
  },
  {
   "cell_type": "markdown",
   "metadata": {},
   "source": [
    "#### Таблица users"
   ]
  },
  {
   "cell_type": "markdown",
   "metadata": {},
   "source": [
    "Изучим данные в первой таблице и посмотрим, есть ли в них какие-либо пропуски, ошибки и т. д."
   ]
  },
  {
   "cell_type": "code",
   "execution_count": 1,
   "metadata": {},
   "outputs": [
    {
     "data": {
      "text/html": [
       "<div>\n",
       "<style scoped>\n",
       "    .dataframe tbody tr th:only-of-type {\n",
       "        vertical-align: middle;\n",
       "    }\n",
       "\n",
       "    .dataframe tbody tr th {\n",
       "        vertical-align: top;\n",
       "    }\n",
       "\n",
       "    .dataframe thead th {\n",
       "        text-align: right;\n",
       "    }\n",
       "</style>\n",
       "<table border=\"1\" class=\"dataframe\">\n",
       "  <thead>\n",
       "    <tr style=\"text-align: right;\">\n",
       "      <th></th>\n",
       "      <th>user_id</th>\n",
       "      <th>age</th>\n",
       "      <th>churn_date</th>\n",
       "      <th>city</th>\n",
       "      <th>first_name</th>\n",
       "      <th>last_name</th>\n",
       "      <th>reg_date</th>\n",
       "      <th>tariff</th>\n",
       "    </tr>\n",
       "  </thead>\n",
       "  <tbody>\n",
       "    <tr>\n",
       "      <th>0</th>\n",
       "      <td>1000</td>\n",
       "      <td>52</td>\n",
       "      <td>NaN</td>\n",
       "      <td>Краснодар</td>\n",
       "      <td>Рафаил</td>\n",
       "      <td>Верещагин</td>\n",
       "      <td>2018-05-25</td>\n",
       "      <td>ultra</td>\n",
       "    </tr>\n",
       "    <tr>\n",
       "      <th>1</th>\n",
       "      <td>1001</td>\n",
       "      <td>41</td>\n",
       "      <td>NaN</td>\n",
       "      <td>Москва</td>\n",
       "      <td>Иван</td>\n",
       "      <td>Ежов</td>\n",
       "      <td>2018-11-01</td>\n",
       "      <td>smart</td>\n",
       "    </tr>\n",
       "    <tr>\n",
       "      <th>2</th>\n",
       "      <td>1002</td>\n",
       "      <td>59</td>\n",
       "      <td>NaN</td>\n",
       "      <td>Стерлитамак</td>\n",
       "      <td>Евгений</td>\n",
       "      <td>Абрамович</td>\n",
       "      <td>2018-06-17</td>\n",
       "      <td>smart</td>\n",
       "    </tr>\n",
       "    <tr>\n",
       "      <th>3</th>\n",
       "      <td>1003</td>\n",
       "      <td>23</td>\n",
       "      <td>NaN</td>\n",
       "      <td>Москва</td>\n",
       "      <td>Белла</td>\n",
       "      <td>Белякова</td>\n",
       "      <td>2018-08-17</td>\n",
       "      <td>ultra</td>\n",
       "    </tr>\n",
       "    <tr>\n",
       "      <th>4</th>\n",
       "      <td>1004</td>\n",
       "      <td>68</td>\n",
       "      <td>NaN</td>\n",
       "      <td>Новокузнецк</td>\n",
       "      <td>Татьяна</td>\n",
       "      <td>Авдеенко</td>\n",
       "      <td>2018-05-14</td>\n",
       "      <td>ultra</td>\n",
       "    </tr>\n",
       "  </tbody>\n",
       "</table>\n",
       "</div>"
      ],
      "text/plain": [
       "   user_id  age churn_date         city first_name  last_name    reg_date  \\\n",
       "0     1000   52        NaN    Краснодар     Рафаил  Верещагин  2018-05-25   \n",
       "1     1001   41        NaN       Москва       Иван       Ежов  2018-11-01   \n",
       "2     1002   59        NaN  Стерлитамак    Евгений  Абрамович  2018-06-17   \n",
       "3     1003   23        NaN       Москва      Белла   Белякова  2018-08-17   \n",
       "4     1004   68        NaN  Новокузнецк    Татьяна   Авдеенко  2018-05-14   \n",
       "\n",
       "  tariff  \n",
       "0  ultra  \n",
       "1  smart  \n",
       "2  smart  \n",
       "3  ultra  \n",
       "4  ultra  "
      ]
     },
     "metadata": {},
     "output_type": "display_data"
    },
    {
     "name": "stdout",
     "output_type": "stream",
     "text": [
      "<class 'pandas.core.frame.DataFrame'>\n",
      "RangeIndex: 500 entries, 0 to 499\n",
      "Data columns (total 8 columns):\n",
      " #   Column      Non-Null Count  Dtype \n",
      "---  ------      --------------  ----- \n",
      " 0   user_id     500 non-null    int64 \n",
      " 1   age         500 non-null    int64 \n",
      " 2   churn_date  38 non-null     object\n",
      " 3   city        500 non-null    object\n",
      " 4   first_name  500 non-null    object\n",
      " 5   last_name   500 non-null    object\n",
      " 6   reg_date    500 non-null    object\n",
      " 7   tariff      500 non-null    object\n",
      "dtypes: int64(2), object(6)\n",
      "memory usage: 31.4+ KB\n"
     ]
    }
   ],
   "source": [
    "import pandas as pd\n",
    "from scipy import stats as st\n",
    "import numpy as np\n",
    "import seaborn as sn\n",
    "import matplotlib.pyplot as plt\n",
    "users = pd.read_csv('/datasets/users.csv')\n",
    "\n",
    "display(users.head())\n",
    "users.info()"
   ]
  },
  {
   "cell_type": "markdown",
   "metadata": {},
   "source": [
    "Посмотрим, есть ли дубликаты или неявные дубликаты и более подробно изучим содержание некоторых столбцов."
   ]
  },
  {
   "cell_type": "code",
   "execution_count": 2,
   "metadata": {},
   "outputs": [
    {
     "data": {
      "text/plain": [
       "0"
      ]
     },
     "execution_count": 2,
     "metadata": {},
     "output_type": "execute_result"
    }
   ],
   "source": [
    "users.duplicated().sum()"
   ]
  },
  {
   "cell_type": "code",
   "execution_count": 3,
   "metadata": {},
   "outputs": [
    {
     "data": {
      "text/plain": [
       "<AxesSubplot:>"
      ]
     },
     "execution_count": 3,
     "metadata": {},
     "output_type": "execute_result"
    },
    {
     "data": {
      "image/png": "[encoded data removed]",
      "text/plain": [
       "<Figure size 432x288 with 1 Axes>"
      ]
     },
     "metadata": {
      "needs_background": "light"
     },
     "output_type": "display_data"
    }
   ],
   "source": [
    "# посмотрим, нет ли аномалий в возрасте респондентов\n",
    "users['age'].hist(bins=30)"
   ]
  },
  {
   "cell_type": "markdown",
   "metadata": {},
   "source": [
    "Среди пользователей в выборке все возраста представлены более-менее равномерно."
   ]
  },
  {
   "cell_type": "code",
   "execution_count": 4,
   "metadata": {
    "scrolled": true
   },
   "outputs": [
    {
     "data": {
      "text/plain": [
       "array(['Архангельск', 'Астрахань', 'Балашиха', 'Барнаул', 'Белгород',\n",
       "       'Брянск', 'Владивосток', 'Владикавказ', 'Владимир', 'Волгоград',\n",
       "       'Волжский', 'Вологда', 'Воронеж', 'Грозный', 'Екатеринбург',\n",
       "       'Иваново', 'Ижевск', 'Иркутск', 'Казань', 'Калининград', 'Калуга',\n",
       "       'Кемерово', 'Киров', 'Кострома', 'Краснодар', 'Красноярск',\n",
       "       'Курган', 'Курск', 'Липецк', 'Магнитогорск', 'Махачкала', 'Москва',\n",
       "       'Мурманск', 'Набережные Челны', 'Нижневартовск', 'Нижний Новгород',\n",
       "       'Нижний Тагил', 'Новокузнецк', 'Новороссийск', 'Новосибирск',\n",
       "       'Омск', 'Оренбург', 'Орёл', 'Пенза', 'Пермь', 'Петрозаводск',\n",
       "       'Подольск', 'Ростов-на-Дону', 'Рязань', 'Самара',\n",
       "       'Санкт-Петербург', 'Саранск', 'Саратов', 'Севастополь', 'Смоленск',\n",
       "       'Сочи', 'Ставрополь', 'Стерлитамак', 'Сургут', 'Тамбов', 'Тверь',\n",
       "       'Тольятти', 'Томск', 'Тула', 'Тюмень', 'Улан-Удэ', 'Ульяновск',\n",
       "       'Уфа', 'Хабаровск', 'Химки', 'Чебоксары', 'Челябинск', 'Череповец',\n",
       "       'Чита', 'Якутск', 'Ярославль'], dtype=object)"
      ]
     },
     "execution_count": 4,
     "metadata": {},
     "output_type": "execute_result"
    }
   ],
   "source": [
    "# изучим, какие значения есть в столбце city \n",
    "users['city'].sort_values().unique()"
   ]
  },
  {
   "cell_type": "code",
   "execution_count": 5,
   "metadata": {},
   "outputs": [
    {
     "data": {
      "text/plain": [
       "smart    351\n",
       "ultra    149\n",
       "Name: tariff, dtype: int64"
      ]
     },
     "execution_count": 5,
     "metadata": {},
     "output_type": "execute_result"
    }
   ],
   "source": [
    "# посмотрим, сколько пользователей каждого из тарифов\n",
    "users['tariff'].value_counts()"
   ]
  },
  {
   "cell_type": "markdown",
   "metadata": {},
   "source": [
    "В таблице users мало пропущенных значений - за исключением данных в столбце `churn_date` (это означает, что большинство пользователей из выборки до сих пор являются клиентами оператора). Нет экстремальных значений в столбце с возрастом пользователей, нет явных или неявных дубликатов. Тем не менее, есть что исправить: оба столбца с датами целесообразно перевести в формат DateTime."
   ]
  },
  {
   "cell_type": "code",
   "execution_count": 6,
   "metadata": {
    "scrolled": true
   },
   "outputs": [
    {
     "name": "stdout",
     "output_type": "stream",
     "text": [
      "count                               38\n",
      "mean     2018-11-13 00:37:53.684210432\n",
      "min                2018-08-17 00:00:00\n",
      "25%                2018-10-14 00:00:00\n",
      "50%                2018-11-24 00:00:00\n",
      "75%                2018-12-15 12:00:00\n",
      "max                2018-12-30 00:00:00\n",
      "Name: churn_date, dtype: object\n"
     ]
    },
    {
     "data": {
      "text/plain": [
       "count                              500\n",
       "mean     2018-06-30 18:57:35.999999744\n",
       "min                2018-01-01 00:00:00\n",
       "25%                2018-04-07 12:00:00\n",
       "50%                2018-07-02 12:00:00\n",
       "75%                2018-09-29 00:00:00\n",
       "max                2018-12-31 00:00:00\n",
       "Name: reg_date, dtype: object"
      ]
     },
     "execution_count": 6,
     "metadata": {},
     "output_type": "execute_result"
    }
   ],
   "source": [
    "# переведём данные в столбцах churn_date и reg_date в формат даты\n",
    "users['churn_date'] = pd.to_datetime(users['churn_date'], format='%Y-%m-%d')\n",
    "users['reg_date'] = pd.to_datetime(users['reg_date'], format='%Y-%m-%d')\n",
    "\n",
    "#проверим, что получилось\n",
    "print(users['churn_date'].describe(datetime_is_numeric=True))\n",
    "users['reg_date'].describe(datetime_is_numeric=True)"
   ]
  },
  {
   "cell_type": "markdown",
   "metadata": {},
   "source": [
    "Видим, что представлены данные только за 2018 год, как подключались, так и отключались пользователи также в 2018 году. Это не мешает нам исследовать выборку в соответствии с целями."
   ]
  },
  {
   "cell_type": "code",
   "execution_count": 7,
   "metadata": {
    "scrolled": true
   },
   "outputs": [
    {
     "name": "stdout",
     "output_type": "stream",
     "text": [
      "<class 'pandas.core.frame.DataFrame'>\n",
      "RangeIndex: 500 entries, 0 to 499\n",
      "Data columns (total 8 columns):\n",
      " #   Column      Non-Null Count  Dtype         \n",
      "---  ------      --------------  -----         \n",
      " 0   user_id     500 non-null    int64         \n",
      " 1   age         500 non-null    int64         \n",
      " 2   churn_date  38 non-null     datetime64[ns]\n",
      " 3   city        500 non-null    object        \n",
      " 4   first_name  500 non-null    object        \n",
      " 5   last_name   500 non-null    object        \n",
      " 6   reg_date    500 non-null    datetime64[ns]\n",
      " 7   tariff      500 non-null    object        \n",
      "dtypes: datetime64[ns](2), int64(2), object(4)\n",
      "memory usage: 31.4+ KB\n"
     ]
    }
   ],
   "source": [
    "# проверим, всё ли в порядке с таблицей users\n",
    "users.info()"
   ]
  },
  {
   "cell_type": "markdown",
   "metadata": {},
   "source": [
    "Всё в порядке, можем переходить к следующей таблице."
   ]
  },
  {
   "cell_type": "markdown",
   "metadata": {},
   "source": [
    "#### Таблица calls"
   ]
  },
  {
   "cell_type": "code",
   "execution_count": 8,
   "metadata": {},
   "outputs": [
    {
     "data": {
      "text/html": [
       "<div>\n",
       "<style scoped>\n",
       "    .dataframe tbody tr th:only-of-type {\n",
       "        vertical-align: middle;\n",
       "    }\n",
       "\n",
       "    .dataframe tbody tr th {\n",
       "        vertical-align: top;\n",
       "    }\n",
       "\n",
       "    .dataframe thead th {\n",
       "        text-align: right;\n",
       "    }\n",
       "</style>\n",
       "<table border=\"1\" class=\"dataframe\">\n",
       "  <thead>\n",
       "    <tr style=\"text-align: right;\">\n",
       "      <th></th>\n",
       "      <th>id</th>\n",
       "      <th>call_date</th>\n",
       "      <th>duration</th>\n",
       "      <th>user_id</th>\n",
       "    </tr>\n",
       "  </thead>\n",
       "  <tbody>\n",
       "    <tr>\n",
       "      <th>0</th>\n",
       "      <td>1000_0</td>\n",
       "      <td>2018-07-25</td>\n",
       "      <td>0.00</td>\n",
       "      <td>1000</td>\n",
       "    </tr>\n",
       "    <tr>\n",
       "      <th>1</th>\n",
       "      <td>1000_1</td>\n",
       "      <td>2018-08-17</td>\n",
       "      <td>0.00</td>\n",
       "      <td>1000</td>\n",
       "    </tr>\n",
       "    <tr>\n",
       "      <th>2</th>\n",
       "      <td>1000_2</td>\n",
       "      <td>2018-06-11</td>\n",
       "      <td>2.85</td>\n",
       "      <td>1000</td>\n",
       "    </tr>\n",
       "    <tr>\n",
       "      <th>3</th>\n",
       "      <td>1000_3</td>\n",
       "      <td>2018-09-21</td>\n",
       "      <td>13.80</td>\n",
       "      <td>1000</td>\n",
       "    </tr>\n",
       "    <tr>\n",
       "      <th>4</th>\n",
       "      <td>1000_4</td>\n",
       "      <td>2018-12-15</td>\n",
       "      <td>5.18</td>\n",
       "      <td>1000</td>\n",
       "    </tr>\n",
       "  </tbody>\n",
       "</table>\n",
       "</div>"
      ],
      "text/plain": [
       "       id   call_date  duration  user_id\n",
       "0  1000_0  2018-07-25      0.00     1000\n",
       "1  1000_1  2018-08-17      0.00     1000\n",
       "2  1000_2  2018-06-11      2.85     1000\n",
       "3  1000_3  2018-09-21     13.80     1000\n",
       "4  1000_4  2018-12-15      5.18     1000"
      ]
     },
     "metadata": {},
     "output_type": "display_data"
    },
    {
     "name": "stdout",
     "output_type": "stream",
     "text": [
      "<class 'pandas.core.frame.DataFrame'>\n",
      "RangeIndex: 202607 entries, 0 to 202606\n",
      "Data columns (total 4 columns):\n",
      " #   Column     Non-Null Count   Dtype  \n",
      "---  ------     --------------   -----  \n",
      " 0   id         202607 non-null  object \n",
      " 1   call_date  202607 non-null  object \n",
      " 2   duration   202607 non-null  float64\n",
      " 3   user_id    202607 non-null  int64  \n",
      "dtypes: float64(1), int64(1), object(2)\n",
      "memory usage: 6.2+ MB\n"
     ]
    }
   ],
   "source": [
    "calls = pd.read_csv('/datasets/calls.csv')\n",
    "display(calls.head())\n",
    "calls.info()"
   ]
  },
  {
   "cell_type": "code",
   "execution_count": 9,
   "metadata": {},
   "outputs": [
    {
     "data": {
      "text/plain": [
       "0"
      ]
     },
     "execution_count": 9,
     "metadata": {},
     "output_type": "execute_result"
    }
   ],
   "source": [
    "calls.duplicated().sum()"
   ]
  },
  {
   "cell_type": "markdown",
   "metadata": {},
   "source": [
    "Данные в таблице **calls** на первый взгляд в порядке - за исключением типа данных в столбце `call_date`. Переведём их в формат даты."
   ]
  },
  {
   "cell_type": "code",
   "execution_count": 10,
   "metadata": {},
   "outputs": [
    {
     "data": {
      "text/plain": [
       "id                   object\n",
       "call_date    datetime64[ns]\n",
       "duration            float64\n",
       "user_id               int64\n",
       "dtype: object"
      ]
     },
     "execution_count": 10,
     "metadata": {},
     "output_type": "execute_result"
    }
   ],
   "source": [
    "calls['call_date'] = pd.to_datetime(calls['call_date'], format='%Y-%m-%d')\n",
    "\n",
    "# проверяем\n",
    "calls.dtypes"
   ]
  },
  {
   "cell_type": "markdown",
   "metadata": {},
   "source": [
    "#### Таблица messages"
   ]
  },
  {
   "cell_type": "code",
   "execution_count": 11,
   "metadata": {},
   "outputs": [
    {
     "data": {
      "text/html": [
       "<div>\n",
       "<style scoped>\n",
       "    .dataframe tbody tr th:only-of-type {\n",
       "        vertical-align: middle;\n",
       "    }\n",
       "\n",
       "    .dataframe tbody tr th {\n",
       "        vertical-align: top;\n",
       "    }\n",
       "\n",
       "    .dataframe thead th {\n",
       "        text-align: right;\n",
       "    }\n",
       "</style>\n",
       "<table border=\"1\" class=\"dataframe\">\n",
       "  <thead>\n",
       "    <tr style=\"text-align: right;\">\n",
       "      <th></th>\n",
       "      <th>id</th>\n",
       "      <th>message_date</th>\n",
       "      <th>user_id</th>\n",
       "    </tr>\n",
       "  </thead>\n",
       "  <tbody>\n",
       "    <tr>\n",
       "      <th>0</th>\n",
       "      <td>1000_0</td>\n",
       "      <td>2018-06-27</td>\n",
       "      <td>1000</td>\n",
       "    </tr>\n",
       "    <tr>\n",
       "      <th>1</th>\n",
       "      <td>1000_1</td>\n",
       "      <td>2018-10-08</td>\n",
       "      <td>1000</td>\n",
       "    </tr>\n",
       "    <tr>\n",
       "      <th>2</th>\n",
       "      <td>1000_2</td>\n",
       "      <td>2018-08-04</td>\n",
       "      <td>1000</td>\n",
       "    </tr>\n",
       "    <tr>\n",
       "      <th>3</th>\n",
       "      <td>1000_3</td>\n",
       "      <td>2018-06-16</td>\n",
       "      <td>1000</td>\n",
       "    </tr>\n",
       "    <tr>\n",
       "      <th>4</th>\n",
       "      <td>1000_4</td>\n",
       "      <td>2018-12-05</td>\n",
       "      <td>1000</td>\n",
       "    </tr>\n",
       "  </tbody>\n",
       "</table>\n",
       "</div>"
      ],
      "text/plain": [
       "       id message_date  user_id\n",
       "0  1000_0   2018-06-27     1000\n",
       "1  1000_1   2018-10-08     1000\n",
       "2  1000_2   2018-08-04     1000\n",
       "3  1000_3   2018-06-16     1000\n",
       "4  1000_4   2018-12-05     1000"
      ]
     },
     "metadata": {},
     "output_type": "display_data"
    },
    {
     "name": "stdout",
     "output_type": "stream",
     "text": [
      "<class 'pandas.core.frame.DataFrame'>\n",
      "RangeIndex: 123036 entries, 0 to 123035\n",
      "Data columns (total 3 columns):\n",
      " #   Column        Non-Null Count   Dtype \n",
      "---  ------        --------------   ----- \n",
      " 0   id            123036 non-null  object\n",
      " 1   message_date  123036 non-null  object\n",
      " 2   user_id       123036 non-null  int64 \n",
      "dtypes: int64(1), object(2)\n",
      "memory usage: 2.8+ MB\n"
     ]
    }
   ],
   "source": [
    "messages = pd.read_csv('/datasets/messages.csv')\n",
    "display(messages.head())\n",
    "messages.info()"
   ]
  },
  {
   "cell_type": "code",
   "execution_count": 12,
   "metadata": {},
   "outputs": [
    {
     "data": {
      "text/plain": [
       "0"
      ]
     },
     "execution_count": 12,
     "metadata": {},
     "output_type": "execute_result"
    }
   ],
   "source": [
    "messages.duplicated().sum()"
   ]
  },
  {
   "cell_type": "markdown",
   "metadata": {},
   "source": [
    "В этой таблице та же проблема: данные в столбце `message_date` в формате object. Исправим это."
   ]
  },
  {
   "cell_type": "code",
   "execution_count": 13,
   "metadata": {},
   "outputs": [
    {
     "data": {
      "text/plain": [
       "id                      object\n",
       "message_date    datetime64[ns]\n",
       "user_id                  int64\n",
       "dtype: object"
      ]
     },
     "execution_count": 13,
     "metadata": {},
     "output_type": "execute_result"
    }
   ],
   "source": [
    "messages['message_date'] = pd.to_datetime(messages['message_date'], format='%Y-%m-%d')\n",
    "\n",
    "# проверяем, что получилось\n",
    "messages.dtypes"
   ]
  },
  {
   "cell_type": "markdown",
   "metadata": {},
   "source": [
    "#### Таблица internet"
   ]
  },
  {
   "cell_type": "code",
   "execution_count": 14,
   "metadata": {
    "scrolled": false
   },
   "outputs": [
    {
     "data": {
      "text/html": [
       "<div>\n",
       "<style scoped>\n",
       "    .dataframe tbody tr th:only-of-type {\n",
       "        vertical-align: middle;\n",
       "    }\n",
       "\n",
       "    .dataframe tbody tr th {\n",
       "        vertical-align: top;\n",
       "    }\n",
       "\n",
       "    .dataframe thead th {\n",
       "        text-align: right;\n",
       "    }\n",
       "</style>\n",
       "<table border=\"1\" class=\"dataframe\">\n",
       "  <thead>\n",
       "    <tr style=\"text-align: right;\">\n",
       "      <th></th>\n",
       "      <th>id</th>\n",
       "      <th>mb_used</th>\n",
       "      <th>session_date</th>\n",
       "      <th>user_id</th>\n",
       "    </tr>\n",
       "  </thead>\n",
       "  <tbody>\n",
       "    <tr>\n",
       "      <th>0</th>\n",
       "      <td>1000_0</td>\n",
       "      <td>112.95</td>\n",
       "      <td>2018-11-25</td>\n",
       "      <td>1000</td>\n",
       "    </tr>\n",
       "    <tr>\n",
       "      <th>1</th>\n",
       "      <td>1000_1</td>\n",
       "      <td>1052.81</td>\n",
       "      <td>2018-09-07</td>\n",
       "      <td>1000</td>\n",
       "    </tr>\n",
       "    <tr>\n",
       "      <th>2</th>\n",
       "      <td>1000_2</td>\n",
       "      <td>1197.26</td>\n",
       "      <td>2018-06-25</td>\n",
       "      <td>1000</td>\n",
       "    </tr>\n",
       "    <tr>\n",
       "      <th>3</th>\n",
       "      <td>1000_3</td>\n",
       "      <td>550.27</td>\n",
       "      <td>2018-08-22</td>\n",
       "      <td>1000</td>\n",
       "    </tr>\n",
       "    <tr>\n",
       "      <th>4</th>\n",
       "      <td>1000_4</td>\n",
       "      <td>302.56</td>\n",
       "      <td>2018-09-24</td>\n",
       "      <td>1000</td>\n",
       "    </tr>\n",
       "  </tbody>\n",
       "</table>\n",
       "</div>"
      ],
      "text/plain": [
       "       id  mb_used session_date  user_id\n",
       "0  1000_0   112.95   2018-11-25     1000\n",
       "1  1000_1  1052.81   2018-09-07     1000\n",
       "2  1000_2  1197.26   2018-06-25     1000\n",
       "3  1000_3   550.27   2018-08-22     1000\n",
       "4  1000_4   302.56   2018-09-24     1000"
      ]
     },
     "metadata": {},
     "output_type": "display_data"
    },
    {
     "name": "stdout",
     "output_type": "stream",
     "text": [
      "<class 'pandas.core.frame.DataFrame'>\n",
      "Int64Index: 149396 entries, 0 to 149395\n",
      "Data columns (total 4 columns):\n",
      " #   Column        Non-Null Count   Dtype  \n",
      "---  ------        --------------   -----  \n",
      " 0   id            149396 non-null  object \n",
      " 1   mb_used       149396 non-null  float64\n",
      " 2   session_date  149396 non-null  object \n",
      " 3   user_id       149396 non-null  int64  \n",
      "dtypes: float64(1), int64(1), object(2)\n",
      "memory usage: 5.7+ MB\n"
     ]
    }
   ],
   "source": [
    "internet = pd.read_csv('/datasets/internet.csv', index_col=0)\n",
    "display(internet.head())\n",
    "internet.info()"
   ]
  },
  {
   "cell_type": "code",
   "execution_count": 15,
   "metadata": {},
   "outputs": [
    {
     "data": {
      "text/plain": [
       "0"
      ]
     },
     "execution_count": 15,
     "metadata": {},
     "output_type": "execute_result"
    }
   ],
   "source": [
    "internet.duplicated().sum()"
   ]
  },
  {
   "cell_type": "markdown",
   "metadata": {},
   "source": [
    "Вновь в таблице даты представлены в формате, который не подходит для анализа. Изменим тип данных в столбце `session_date`."
   ]
  },
  {
   "cell_type": "code",
   "execution_count": 16,
   "metadata": {},
   "outputs": [
    {
     "data": {
      "text/plain": [
       "id                      object\n",
       "mb_used                float64\n",
       "session_date    datetime64[ns]\n",
       "user_id                  int64\n",
       "dtype: object"
      ]
     },
     "execution_count": 16,
     "metadata": {},
     "output_type": "execute_result"
    }
   ],
   "source": [
    "internet['session_date'] = pd.to_datetime(internet['session_date'], format='%Y-%m-%d')\n",
    "\n",
    "internet.dtypes"
   ]
  },
  {
   "cell_type": "markdown",
   "metadata": {},
   "source": [
    "#### Таблица tariffs"
   ]
  },
  {
   "cell_type": "code",
   "execution_count": 17,
   "metadata": {
    "scrolled": true
   },
   "outputs": [
    {
     "data": {
      "text/html": [
       "<div>\n",
       "<style scoped>\n",
       "    .dataframe tbody tr th:only-of-type {\n",
       "        vertical-align: middle;\n",
       "    }\n",
       "\n",
       "    .dataframe tbody tr th {\n",
       "        vertical-align: top;\n",
       "    }\n",
       "\n",
       "    .dataframe thead th {\n",
       "        text-align: right;\n",
       "    }\n",
       "</style>\n",
       "<table border=\"1\" class=\"dataframe\">\n",
       "  <thead>\n",
       "    <tr style=\"text-align: right;\">\n",
       "      <th></th>\n",
       "      <th>messages_included</th>\n",
       "      <th>mb_per_month_included</th>\n",
       "      <th>minutes_included</th>\n",
       "      <th>rub_monthly_fee</th>\n",
       "      <th>rub_per_gb</th>\n",
       "      <th>rub_per_message</th>\n",
       "      <th>rub_per_minute</th>\n",
       "      <th>tariff_name</th>\n",
       "    </tr>\n",
       "  </thead>\n",
       "  <tbody>\n",
       "    <tr>\n",
       "      <th>0</th>\n",
       "      <td>50</td>\n",
       "      <td>15360</td>\n",
       "      <td>500</td>\n",
       "      <td>550</td>\n",
       "      <td>200</td>\n",
       "      <td>3</td>\n",
       "      <td>3</td>\n",
       "      <td>smart</td>\n",
       "    </tr>\n",
       "    <tr>\n",
       "      <th>1</th>\n",
       "      <td>1000</td>\n",
       "      <td>30720</td>\n",
       "      <td>3000</td>\n",
       "      <td>1950</td>\n",
       "      <td>150</td>\n",
       "      <td>1</td>\n",
       "      <td>1</td>\n",
       "      <td>ultra</td>\n",
       "    </tr>\n",
       "  </tbody>\n",
       "</table>\n",
       "</div>"
      ],
      "text/plain": [
       "   messages_included  mb_per_month_included  minutes_included  \\\n",
       "0                 50                  15360               500   \n",
       "1               1000                  30720              3000   \n",
       "\n",
       "   rub_monthly_fee  rub_per_gb  rub_per_message  rub_per_minute tariff_name  \n",
       "0              550         200                3               3       smart  \n",
       "1             1950         150                1               1       ultra  "
      ]
     },
     "metadata": {},
     "output_type": "display_data"
    },
    {
     "data": {
      "text/plain": [
       "messages_included         int64\n",
       "mb_per_month_included     int64\n",
       "minutes_included          int64\n",
       "rub_monthly_fee           int64\n",
       "rub_per_gb                int64\n",
       "rub_per_message           int64\n",
       "rub_per_minute            int64\n",
       "tariff_name              object\n",
       "dtype: object"
      ]
     },
     "execution_count": 17,
     "metadata": {},
     "output_type": "execute_result"
    }
   ],
   "source": [
    "tariffs = pd.read_csv('/datasets/tariffs.csv')\n",
    "display(tariffs)\n",
    "tariffs.dtypes"
   ]
  },
  {
   "cell_type": "markdown",
   "metadata": {},
   "source": [
    "### Расчёт данных для анализа"
   ]
  },
  {
   "cell_type": "markdown",
   "metadata": {},
   "source": [
    "На этом этапе необходимо для каждого пользователя вычислить:\n",
    "* количество сделанных звонков и израсходованных минут разговора по месяцам;\n",
    "* количество отправленных сообщений по месяцам;\n",
    "* объем израсходованного интернет-трафика по месяцам;\n",
    "* помесячную выручку с каждого пользователя (нужно вычесть бесплатный лимит из суммарного количества звонков, сообщений и интернет-трафика; остаток умножить на значение из тарифного плана; прибавить абонентскую плату, соответствующую тарифному плану).\n",
    "\n",
    "Мы знаем, что оператор всегда округляет секунды до минут, а мегабайты — до гигабайт. Каждый звонок округляется отдельно. Для веб-трафика отдельные сессии не считаются. Вместо этого общая сумма за месяц округляется в бо́льшую сторону до целых гигабайт. Неиспользованные за предыдущий месяц звонки, смс, интернет на следующий месяц не переносятся.\n",
    "\n",
    "Исходя из этого создадим в таблицах новые столбцы с соответствующими расчётами."
   ]
  },
  {
   "cell_type": "markdown",
   "metadata": {},
   "source": [
    "#### Работа со звонками"
   ]
  },
  {
   "cell_type": "markdown",
   "metadata": {},
   "source": [
    "Обратимся к данным таблицы calls. Округлим все значения в столбце `duration` до целых минут в большую сторону - в соответствии с правилом оператора."
   ]
  },
  {
   "cell_type": "code",
   "execution_count": 18,
   "metadata": {
    "scrolled": true
   },
   "outputs": [
    {
     "data": {
      "text/plain": [
       "count    202607.000000\n",
       "mean          7.158198\n",
       "std           5.959173\n",
       "min           0.000000\n",
       "25%           2.000000\n",
       "50%           6.000000\n",
       "75%          11.000000\n",
       "max          38.000000\n",
       "Name: duration, dtype: float64"
      ]
     },
     "execution_count": 18,
     "metadata": {},
     "output_type": "execute_result"
    }
   ],
   "source": [
    "calls['duration'] = np.ceil(calls['duration'])\n",
    "# проверяем, что получилось\n",
    "calls['duration'].describe()"
   ]
  },
  {
   "cell_type": "markdown",
   "metadata": {},
   "source": [
    "Также создадим столбец `month` в котором будет содержаться информация о месяце совершения каждого звонка - это потребуется для расчёта продолжительности звонков в месяц."
   ]
  },
  {
   "cell_type": "code",
   "execution_count": 19,
   "metadata": {},
   "outputs": [
    {
     "name": "stdout",
     "output_type": "stream",
     "text": [
      "<class 'pandas.core.frame.DataFrame'>\n",
      "RangeIndex: 202607 entries, 0 to 202606\n",
      "Data columns (total 5 columns):\n",
      " #   Column     Non-Null Count   Dtype         \n",
      "---  ------     --------------   -----         \n",
      " 0   id         202607 non-null  object        \n",
      " 1   call_date  202607 non-null  datetime64[ns]\n",
      " 2   duration   202607 non-null  float64       \n",
      " 3   user_id    202607 non-null  int64         \n",
      " 4   month      202607 non-null  int64         \n",
      "dtypes: datetime64[ns](1), float64(1), int64(2), object(1)\n",
      "memory usage: 7.7+ MB\n"
     ]
    }
   ],
   "source": [
    "calls['month'] = pd.DatetimeIndex(calls['call_date']).month\n",
    "calls.info()"
   ]
  },
  {
   "cell_type": "markdown",
   "metadata": {},
   "source": [
    "Создадим таблицу **calls_per_month**, в которой данные о продолжительности звонков и их количестве будут сгруппированы для каждого пользователя по месяцам."
   ]
  },
  {
   "cell_type": "code",
   "execution_count": 20,
   "metadata": {
    "scrolled": true
   },
   "outputs": [
    {
     "data": {
      "text/html": [
       "<div>\n",
       "<style scoped>\n",
       "    .dataframe tbody tr th:only-of-type {\n",
       "        vertical-align: middle;\n",
       "    }\n",
       "\n",
       "    .dataframe tbody tr th {\n",
       "        vertical-align: top;\n",
       "    }\n",
       "\n",
       "    .dataframe thead tr th {\n",
       "        text-align: left;\n",
       "    }\n",
       "\n",
       "    .dataframe thead tr:last-of-type th {\n",
       "        text-align: right;\n",
       "    }\n",
       "</style>\n",
       "<table border=\"1\" class=\"dataframe\">\n",
       "  <thead>\n",
       "    <tr>\n",
       "      <th></th>\n",
       "      <th></th>\n",
       "      <th>count</th>\n",
       "      <th>sum</th>\n",
       "    </tr>\n",
       "    <tr>\n",
       "      <th></th>\n",
       "      <th></th>\n",
       "      <th>duration</th>\n",
       "      <th>duration</th>\n",
       "    </tr>\n",
       "    <tr>\n",
       "      <th>user_id</th>\n",
       "      <th>month</th>\n",
       "      <th></th>\n",
       "      <th></th>\n",
       "    </tr>\n",
       "  </thead>\n",
       "  <tbody>\n",
       "    <tr>\n",
       "      <th rowspan=\"8\" valign=\"top\">1000</th>\n",
       "      <th>5</th>\n",
       "      <td>22</td>\n",
       "      <td>159.0</td>\n",
       "    </tr>\n",
       "    <tr>\n",
       "      <th>6</th>\n",
       "      <td>43</td>\n",
       "      <td>172.0</td>\n",
       "    </tr>\n",
       "    <tr>\n",
       "      <th>7</th>\n",
       "      <td>47</td>\n",
       "      <td>340.0</td>\n",
       "    </tr>\n",
       "    <tr>\n",
       "      <th>8</th>\n",
       "      <td>52</td>\n",
       "      <td>408.0</td>\n",
       "    </tr>\n",
       "    <tr>\n",
       "      <th>9</th>\n",
       "      <td>58</td>\n",
       "      <td>466.0</td>\n",
       "    </tr>\n",
       "    <tr>\n",
       "      <th>10</th>\n",
       "      <td>57</td>\n",
       "      <td>350.0</td>\n",
       "    </tr>\n",
       "    <tr>\n",
       "      <th>11</th>\n",
       "      <td>43</td>\n",
       "      <td>338.0</td>\n",
       "    </tr>\n",
       "    <tr>\n",
       "      <th>12</th>\n",
       "      <td>46</td>\n",
       "      <td>333.0</td>\n",
       "    </tr>\n",
       "    <tr>\n",
       "      <th rowspan=\"2\" valign=\"top\">1001</th>\n",
       "      <th>11</th>\n",
       "      <td>59</td>\n",
       "      <td>430.0</td>\n",
       "    </tr>\n",
       "    <tr>\n",
       "      <th>12</th>\n",
       "      <td>63</td>\n",
       "      <td>414.0</td>\n",
       "    </tr>\n",
       "  </tbody>\n",
       "</table>\n",
       "</div>"
      ],
      "text/plain": [
       "                 count      sum\n",
       "              duration duration\n",
       "user_id month                  \n",
       "1000    5           22    159.0\n",
       "        6           43    172.0\n",
       "        7           47    340.0\n",
       "        8           52    408.0\n",
       "        9           58    466.0\n",
       "        10          57    350.0\n",
       "        11          43    338.0\n",
       "        12          46    333.0\n",
       "1001    11          59    430.0\n",
       "        12          63    414.0"
      ]
     },
     "metadata": {},
     "output_type": "display_data"
    },
    {
     "name": "stdout",
     "output_type": "stream",
     "text": [
      "<class 'pandas.core.frame.DataFrame'>\n",
      "MultiIndex: 3174 entries, (1000, 5) to (1499, 12)\n",
      "Data columns (total 2 columns):\n",
      " #   Column          Non-Null Count  Dtype  \n",
      "---  ------          --------------  -----  \n",
      " 0   calls_number    3174 non-null   int64  \n",
      " 1   calls_duration  3174 non-null   float64\n",
      "dtypes: float64(1), int64(1)\n",
      "memory usage: 62.9 KB\n"
     ]
    }
   ],
   "source": [
    "calls_per_month = calls.pivot_table(index=['user_id', 'month'], values='duration', aggfunc=['count', 'sum'])\n",
    "\n",
    "display(calls_per_month.head(10))\n",
    "\n",
    "# переименуем \"двухэтажные\" столбцы\n",
    "calls_per_month.columns = ['calls_number', 'calls_duration']\n",
    "calls_per_month.info()"
   ]
  },
  {
   "cell_type": "markdown",
   "metadata": {},
   "source": [
    "Сразу рассчитаем, сколько звонков в месяц делает каждый клиент в среднем и какова их средняя продолжительность."
   ]
  },
  {
   "cell_type": "code",
   "execution_count": 21,
   "metadata": {
    "scrolled": true
   },
   "outputs": [
    {
     "name": "stdout",
     "output_type": "stream",
     "text": [
      "<class 'pandas.core.frame.DataFrame'>\n",
      "Int64Index: 492 entries, 1000 to 1499\n",
      "Data columns (total 2 columns):\n",
      " #   Column          Non-Null Count  Dtype  \n",
      "---  ------          --------------  -----  \n",
      " 0   calls_duration  492 non-null    float64\n",
      " 1   calls_number    492 non-null    float64\n",
      "dtypes: float64(2)\n",
      "memory usage: 11.5 KB\n"
     ]
    }
   ],
   "source": [
    "# также создадим для этого отдельную таблицу\n",
    "mean_calls = calls_per_month.pivot_table(index='user_id', values=['calls_number', 'calls_duration'])\n",
    "mean_calls.info()"
   ]
  },
  {
   "cell_type": "markdown",
   "metadata": {},
   "source": [
    "Добавим средние показатели в общую таблицу **users**, с которой будем работать на следующем этапе."
   ]
  },
  {
   "cell_type": "code",
   "execution_count": 22,
   "metadata": {
    "scrolled": true
   },
   "outputs": [
    {
     "name": "stdout",
     "output_type": "stream",
     "text": [
      "<class 'pandas.core.frame.DataFrame'>\n",
      "Int64Index: 500 entries, 0 to 499\n",
      "Data columns (total 10 columns):\n",
      " #   Column          Non-Null Count  Dtype         \n",
      "---  ------          --------------  -----         \n",
      " 0   user_id         500 non-null    int64         \n",
      " 1   age             500 non-null    int64         \n",
      " 2   churn_date      38 non-null     datetime64[ns]\n",
      " 3   city            500 non-null    object        \n",
      " 4   first_name      500 non-null    object        \n",
      " 5   last_name       500 non-null    object        \n",
      " 6   reg_date        500 non-null    datetime64[ns]\n",
      " 7   tariff          500 non-null    object        \n",
      " 8   calls_duration  492 non-null    float64       \n",
      " 9   calls_number    492 non-null    float64       \n",
      "dtypes: datetime64[ns](2), float64(2), int64(2), object(4)\n",
      "memory usage: 43.0+ KB\n"
     ]
    }
   ],
   "source": [
    "users = users.merge(mean_calls, on='user_id', how='left')\n",
    "# посмотрим, успешно ли добавление\n",
    "users.info()"
   ]
  },
  {
   "cell_type": "markdown",
   "metadata": {},
   "source": [
    "#### Работа с сообщениями"
   ]
  },
  {
   "cell_type": "markdown",
   "metadata": {},
   "source": [
    "Обратимся к таблице messages и создадим в ней столбец с номером месяца, когда было отправлено каждое сообщение."
   ]
  },
  {
   "cell_type": "code",
   "execution_count": 23,
   "metadata": {},
   "outputs": [
    {
     "name": "stdout",
     "output_type": "stream",
     "text": [
      "<class 'pandas.core.frame.DataFrame'>\n",
      "RangeIndex: 123036 entries, 0 to 123035\n",
      "Data columns (total 4 columns):\n",
      " #   Column        Non-Null Count   Dtype         \n",
      "---  ------        --------------   -----         \n",
      " 0   id            123036 non-null  object        \n",
      " 1   message_date  123036 non-null  datetime64[ns]\n",
      " 2   user_id       123036 non-null  int64         \n",
      " 3   month         123036 non-null  int64         \n",
      "dtypes: datetime64[ns](1), int64(2), object(1)\n",
      "memory usage: 3.8+ MB\n"
     ]
    }
   ],
   "source": [
    "messages['month'] = pd.DatetimeIndex(messages['message_date']).month\n",
    "# проверяем\n",
    "messages.info()"
   ]
  },
  {
   "cell_type": "markdown",
   "metadata": {},
   "source": [
    "Проведём группировку данных по пользователю и месяцу, чтобы узнать, сколько сообщений отправил каждый пользователь в месяц."
   ]
  },
  {
   "cell_type": "code",
   "execution_count": 24,
   "metadata": {
    "scrolled": true
   },
   "outputs": [
    {
     "data": {
      "text/html": [
       "<div>\n",
       "<style scoped>\n",
       "    .dataframe tbody tr th:only-of-type {\n",
       "        vertical-align: middle;\n",
       "    }\n",
       "\n",
       "    .dataframe tbody tr th {\n",
       "        vertical-align: top;\n",
       "    }\n",
       "\n",
       "    .dataframe thead th {\n",
       "        text-align: right;\n",
       "    }\n",
       "</style>\n",
       "<table border=\"1\" class=\"dataframe\">\n",
       "  <thead>\n",
       "    <tr style=\"text-align: right;\">\n",
       "      <th></th>\n",
       "      <th></th>\n",
       "      <th>messages_number</th>\n",
       "    </tr>\n",
       "    <tr>\n",
       "      <th>user_id</th>\n",
       "      <th>month</th>\n",
       "      <th></th>\n",
       "    </tr>\n",
       "  </thead>\n",
       "  <tbody>\n",
       "    <tr>\n",
       "      <th rowspan=\"8\" valign=\"top\">1000</th>\n",
       "      <th>5</th>\n",
       "      <td>22</td>\n",
       "    </tr>\n",
       "    <tr>\n",
       "      <th>6</th>\n",
       "      <td>60</td>\n",
       "    </tr>\n",
       "    <tr>\n",
       "      <th>7</th>\n",
       "      <td>75</td>\n",
       "    </tr>\n",
       "    <tr>\n",
       "      <th>8</th>\n",
       "      <td>81</td>\n",
       "    </tr>\n",
       "    <tr>\n",
       "      <th>9</th>\n",
       "      <td>57</td>\n",
       "    </tr>\n",
       "    <tr>\n",
       "      <th>10</th>\n",
       "      <td>73</td>\n",
       "    </tr>\n",
       "    <tr>\n",
       "      <th>11</th>\n",
       "      <td>58</td>\n",
       "    </tr>\n",
       "    <tr>\n",
       "      <th>12</th>\n",
       "      <td>70</td>\n",
       "    </tr>\n",
       "    <tr>\n",
       "      <th rowspan=\"2\" valign=\"top\">1002</th>\n",
       "      <th>6</th>\n",
       "      <td>4</td>\n",
       "    </tr>\n",
       "    <tr>\n",
       "      <th>7</th>\n",
       "      <td>11</td>\n",
       "    </tr>\n",
       "  </tbody>\n",
       "</table>\n",
       "</div>"
      ],
      "text/plain": [
       "               messages_number\n",
       "user_id month                 \n",
       "1000    5                   22\n",
       "        6                   60\n",
       "        7                   75\n",
       "        8                   81\n",
       "        9                   57\n",
       "        10                  73\n",
       "        11                  58\n",
       "        12                  70\n",
       "1002    6                    4\n",
       "        7                   11"
      ]
     },
     "metadata": {},
     "output_type": "display_data"
    },
    {
     "name": "stdout",
     "output_type": "stream",
     "text": [
      "<class 'pandas.core.frame.DataFrame'>\n",
      "MultiIndex: 2717 entries, (1000, 5) to (1499, 12)\n",
      "Data columns (total 1 columns):\n",
      " #   Column           Non-Null Count  Dtype\n",
      "---  ------           --------------  -----\n",
      " 0   messages_number  2717 non-null   int64\n",
      "dtypes: int64(1)\n",
      "memory usage: 32.7 KB\n"
     ]
    }
   ],
   "source": [
    "messages_per_month = messages.groupby(['user_id', 'month'])[['id']].count()\n",
    "\n",
    "# переименуем столбец c суммой сообщений в месяц, чтобы не возникало путаницы\n",
    "messages_per_month.rename(columns={'id': 'messages_number'}, inplace=True)\n",
    "\n",
    "display(messages_per_month.head(10))\n",
    "messages_per_month.info()"
   ]
  },
  {
   "cell_type": "markdown",
   "metadata": {},
   "source": [
    "Также рассчитаем, сколько каждый клиент в среднем отправляет сообщений в месяц - и добавим эти данные в основную таблицу **users**."
   ]
  },
  {
   "cell_type": "code",
   "execution_count": 25,
   "metadata": {},
   "outputs": [
    {
     "name": "stdout",
     "output_type": "stream",
     "text": [
      "<class 'pandas.core.frame.DataFrame'>\n",
      "Int64Index: 426 entries, 1000 to 1499\n",
      "Data columns (total 1 columns):\n",
      " #   Column           Non-Null Count  Dtype  \n",
      "---  ------           --------------  -----  \n",
      " 0   messages_number  426 non-null    float64\n",
      "dtypes: float64(1)\n",
      "memory usage: 6.7 KB\n"
     ]
    }
   ],
   "source": [
    "mean_messages = messages_per_month.pivot_table(index='user_id', values='messages_number')\n",
    "\n",
    "mean_messages.info()"
   ]
  },
  {
   "cell_type": "markdown",
   "metadata": {},
   "source": [
    "Присоединим получившуюся таблицу к основной."
   ]
  },
  {
   "cell_type": "code",
   "execution_count": 26,
   "metadata": {},
   "outputs": [
    {
     "data": {
      "text/html": [
       "<div>\n",
       "<style scoped>\n",
       "    .dataframe tbody tr th:only-of-type {\n",
       "        vertical-align: middle;\n",
       "    }\n",
       "\n",
       "    .dataframe tbody tr th {\n",
       "        vertical-align: top;\n",
       "    }\n",
       "\n",
       "    .dataframe thead th {\n",
       "        text-align: right;\n",
       "    }\n",
       "</style>\n",
       "<table border=\"1\" class=\"dataframe\">\n",
       "  <thead>\n",
       "    <tr style=\"text-align: right;\">\n",
       "      <th></th>\n",
       "      <th>user_id</th>\n",
       "      <th>age</th>\n",
       "      <th>churn_date</th>\n",
       "      <th>city</th>\n",
       "      <th>first_name</th>\n",
       "      <th>last_name</th>\n",
       "      <th>reg_date</th>\n",
       "      <th>tariff</th>\n",
       "      <th>calls_duration</th>\n",
       "      <th>calls_number</th>\n",
       "      <th>messages_number</th>\n",
       "    </tr>\n",
       "  </thead>\n",
       "  <tbody>\n",
       "    <tr>\n",
       "      <th>0</th>\n",
       "      <td>1000</td>\n",
       "      <td>52</td>\n",
       "      <td>NaT</td>\n",
       "      <td>Краснодар</td>\n",
       "      <td>Рафаил</td>\n",
       "      <td>Верещагин</td>\n",
       "      <td>2018-05-25</td>\n",
       "      <td>ultra</td>\n",
       "      <td>320.750000</td>\n",
       "      <td>46.0</td>\n",
       "      <td>62.0</td>\n",
       "    </tr>\n",
       "    <tr>\n",
       "      <th>1</th>\n",
       "      <td>1001</td>\n",
       "      <td>41</td>\n",
       "      <td>NaT</td>\n",
       "      <td>Москва</td>\n",
       "      <td>Иван</td>\n",
       "      <td>Ежов</td>\n",
       "      <td>2018-11-01</td>\n",
       "      <td>smart</td>\n",
       "      <td>422.000000</td>\n",
       "      <td>61.0</td>\n",
       "      <td>NaN</td>\n",
       "    </tr>\n",
       "    <tr>\n",
       "      <th>2</th>\n",
       "      <td>1002</td>\n",
       "      <td>59</td>\n",
       "      <td>NaT</td>\n",
       "      <td>Стерлитамак</td>\n",
       "      <td>Евгений</td>\n",
       "      <td>Абрамович</td>\n",
       "      <td>2018-06-17</td>\n",
       "      <td>smart</td>\n",
       "      <td>216.714286</td>\n",
       "      <td>31.0</td>\n",
       "      <td>10.0</td>\n",
       "    </tr>\n",
       "    <tr>\n",
       "      <th>3</th>\n",
       "      <td>1003</td>\n",
       "      <td>23</td>\n",
       "      <td>NaT</td>\n",
       "      <td>Москва</td>\n",
       "      <td>Белла</td>\n",
       "      <td>Белякова</td>\n",
       "      <td>2018-08-17</td>\n",
       "      <td>ultra</td>\n",
       "      <td>764.400000</td>\n",
       "      <td>104.0</td>\n",
       "      <td>76.0</td>\n",
       "    </tr>\n",
       "    <tr>\n",
       "      <th>4</th>\n",
       "      <td>1004</td>\n",
       "      <td>68</td>\n",
       "      <td>NaT</td>\n",
       "      <td>Новокузнецк</td>\n",
       "      <td>Татьяна</td>\n",
       "      <td>Авдеенко</td>\n",
       "      <td>2018-05-14</td>\n",
       "      <td>ultra</td>\n",
       "      <td>123.375000</td>\n",
       "      <td>22.0</td>\n",
       "      <td>149.0</td>\n",
       "    </tr>\n",
       "  </tbody>\n",
       "</table>\n",
       "</div>"
      ],
      "text/plain": [
       "   user_id  age churn_date         city first_name  last_name   reg_date  \\\n",
       "0     1000   52        NaT    Краснодар     Рафаил  Верещагин 2018-05-25   \n",
       "1     1001   41        NaT       Москва       Иван       Ежов 2018-11-01   \n",
       "2     1002   59        NaT  Стерлитамак    Евгений  Абрамович 2018-06-17   \n",
       "3     1003   23        NaT       Москва      Белла   Белякова 2018-08-17   \n",
       "4     1004   68        NaT  Новокузнецк    Татьяна   Авдеенко 2018-05-14   \n",
       "\n",
       "  tariff  calls_duration  calls_number  messages_number  \n",
       "0  ultra      320.750000          46.0             62.0  \n",
       "1  smart      422.000000          61.0              NaN  \n",
       "2  smart      216.714286          31.0             10.0  \n",
       "3  ultra      764.400000         104.0             76.0  \n",
       "4  ultra      123.375000          22.0            149.0  "
      ]
     },
     "execution_count": 26,
     "metadata": {},
     "output_type": "execute_result"
    }
   ],
   "source": [
    "users = users.merge(mean_messages, on='user_id', how='left')\n",
    "users.head()"
   ]
  },
  {
   "cell_type": "markdown",
   "metadata": {},
   "source": [
    "#### Работа с интернет-трафиком"
   ]
  },
  {
   "cell_type": "markdown",
   "metadata": {},
   "source": [
    "Как и в случае двух других таблиц, в данных об использовании клиентами мобильного интернета потребуется создать столбец `month`."
   ]
  },
  {
   "cell_type": "code",
   "execution_count": 27,
   "metadata": {},
   "outputs": [
    {
     "name": "stdout",
     "output_type": "stream",
     "text": [
      "<class 'pandas.core.frame.DataFrame'>\n",
      "Int64Index: 149396 entries, 0 to 149395\n",
      "Data columns (total 5 columns):\n",
      " #   Column        Non-Null Count   Dtype         \n",
      "---  ------        --------------   -----         \n",
      " 0   id            149396 non-null  object        \n",
      " 1   mb_used       149396 non-null  float64       \n",
      " 2   session_date  149396 non-null  datetime64[ns]\n",
      " 3   user_id       149396 non-null  int64         \n",
      " 4   month         149396 non-null  int64         \n",
      "dtypes: datetime64[ns](1), float64(1), int64(2), object(1)\n",
      "memory usage: 6.8+ MB\n"
     ]
    }
   ],
   "source": [
    "internet['month'] = pd.DatetimeIndex(internet['session_date']).month\n",
    "internet.info()"
   ]
  },
  {
   "cell_type": "markdown",
   "metadata": {},
   "source": [
    "Посчитаем с помощью сводной таблицы, сколько мегабайт за месяц расходует каждый из пользователей."
   ]
  },
  {
   "cell_type": "code",
   "execution_count": 28,
   "metadata": {
    "scrolled": true
   },
   "outputs": [
    {
     "data": {
      "text/html": [
       "<div>\n",
       "<style scoped>\n",
       "    .dataframe tbody tr th:only-of-type {\n",
       "        vertical-align: middle;\n",
       "    }\n",
       "\n",
       "    .dataframe tbody tr th {\n",
       "        vertical-align: top;\n",
       "    }\n",
       "\n",
       "    .dataframe thead th {\n",
       "        text-align: right;\n",
       "    }\n",
       "</style>\n",
       "<table border=\"1\" class=\"dataframe\">\n",
       "  <thead>\n",
       "    <tr style=\"text-align: right;\">\n",
       "      <th></th>\n",
       "      <th></th>\n",
       "      <th>mb_used</th>\n",
       "    </tr>\n",
       "    <tr>\n",
       "      <th>user_id</th>\n",
       "      <th>month</th>\n",
       "      <th></th>\n",
       "    </tr>\n",
       "  </thead>\n",
       "  <tbody>\n",
       "    <tr>\n",
       "      <th rowspan=\"5\" valign=\"top\">1000</th>\n",
       "      <th>5</th>\n",
       "      <td>2253.49</td>\n",
       "    </tr>\n",
       "    <tr>\n",
       "      <th>6</th>\n",
       "      <td>23233.77</td>\n",
       "    </tr>\n",
       "    <tr>\n",
       "      <th>7</th>\n",
       "      <td>14003.64</td>\n",
       "    </tr>\n",
       "    <tr>\n",
       "      <th>8</th>\n",
       "      <td>14055.93</td>\n",
       "    </tr>\n",
       "    <tr>\n",
       "      <th>9</th>\n",
       "      <td>14568.91</td>\n",
       "    </tr>\n",
       "  </tbody>\n",
       "</table>\n",
       "</div>"
      ],
      "text/plain": [
       "                mb_used\n",
       "user_id month          \n",
       "1000    5       2253.49\n",
       "        6      23233.77\n",
       "        7      14003.64\n",
       "        8      14055.93\n",
       "        9      14568.91"
      ]
     },
     "execution_count": 28,
     "metadata": {},
     "output_type": "execute_result"
    }
   ],
   "source": [
    "internet_per_month = internet.pivot_table(index=['user_id', 'month'], values='mb_used', aggfunc='sum')\n",
    "internet_per_month.head()"
   ]
  },
  {
   "cell_type": "markdown",
   "metadata": {},
   "source": [
    "Мы знаем, что оператор, подсчитывая использование интернет-трафика за месяц, округляет мегабайты до гигабайт в большую сторону. Необходимо произвести соответствующие манипуляции с получившимся столбцом. "
   ]
  },
  {
   "cell_type": "code",
   "execution_count": 29,
   "metadata": {
    "scrolled": true
   },
   "outputs": [
    {
     "data": {
      "text/plain": [
       "count    3203.000000\n",
       "mean       17.358414\n",
       "std         7.343379\n",
       "min         0.000000\n",
       "25%        13.000000\n",
       "50%        17.000000\n",
       "75%        21.000000\n",
       "max        49.000000\n",
       "Name: gb_used, dtype: float64"
      ]
     },
     "execution_count": 29,
     "metadata": {},
     "output_type": "execute_result"
    }
   ],
   "source": [
    "internet_per_month['gb_used'] = np.ceil(internet_per_month['mb_used'] / 1024)\n",
    "# теперь удаляем лишний столбец\n",
    "internet_per_month = internet_per_month.drop('mb_used', axis=1)\n",
    "\n",
    "internet_per_month['gb_used'].describe()"
   ]
  },
  {
   "cell_type": "markdown",
   "metadata": {},
   "source": [
    "Результаты выглядят убедительно.\n",
    "\n",
    "Теперь вычислим среднее использование интернета каждым клиентом и добавим эти данные в основную таблицу."
   ]
  },
  {
   "cell_type": "code",
   "execution_count": 30,
   "metadata": {},
   "outputs": [
    {
     "data": {
      "text/html": [
       "<div>\n",
       "<style scoped>\n",
       "    .dataframe tbody tr th:only-of-type {\n",
       "        vertical-align: middle;\n",
       "    }\n",
       "\n",
       "    .dataframe tbody tr th {\n",
       "        vertical-align: top;\n",
       "    }\n",
       "\n",
       "    .dataframe thead th {\n",
       "        text-align: right;\n",
       "    }\n",
       "</style>\n",
       "<table border=\"1\" class=\"dataframe\">\n",
       "  <thead>\n",
       "    <tr style=\"text-align: right;\">\n",
       "      <th></th>\n",
       "      <th>user_id</th>\n",
       "      <th>age</th>\n",
       "      <th>churn_date</th>\n",
       "      <th>city</th>\n",
       "      <th>first_name</th>\n",
       "      <th>last_name</th>\n",
       "      <th>reg_date</th>\n",
       "      <th>tariff</th>\n",
       "      <th>calls_duration</th>\n",
       "      <th>calls_number</th>\n",
       "      <th>messages_number</th>\n",
       "      <th>gb_used</th>\n",
       "    </tr>\n",
       "  </thead>\n",
       "  <tbody>\n",
       "    <tr>\n",
       "      <th>0</th>\n",
       "      <td>1000</td>\n",
       "      <td>52</td>\n",
       "      <td>NaT</td>\n",
       "      <td>Краснодар</td>\n",
       "      <td>Рафаил</td>\n",
       "      <td>Верещагин</td>\n",
       "      <td>2018-05-25</td>\n",
       "      <td>ultra</td>\n",
       "      <td>320.750000</td>\n",
       "      <td>46.0</td>\n",
       "      <td>62.0</td>\n",
       "      <td>13.625000</td>\n",
       "    </tr>\n",
       "    <tr>\n",
       "      <th>1</th>\n",
       "      <td>1001</td>\n",
       "      <td>41</td>\n",
       "      <td>NaT</td>\n",
       "      <td>Москва</td>\n",
       "      <td>Иван</td>\n",
       "      <td>Ежов</td>\n",
       "      <td>2018-11-01</td>\n",
       "      <td>smart</td>\n",
       "      <td>422.000000</td>\n",
       "      <td>61.0</td>\n",
       "      <td>NaN</td>\n",
       "      <td>16.000000</td>\n",
       "    </tr>\n",
       "    <tr>\n",
       "      <th>2</th>\n",
       "      <td>1002</td>\n",
       "      <td>59</td>\n",
       "      <td>NaT</td>\n",
       "      <td>Стерлитамак</td>\n",
       "      <td>Евгений</td>\n",
       "      <td>Абрамович</td>\n",
       "      <td>2018-06-17</td>\n",
       "      <td>smart</td>\n",
       "      <td>216.714286</td>\n",
       "      <td>31.0</td>\n",
       "      <td>10.0</td>\n",
       "      <td>16.714286</td>\n",
       "    </tr>\n",
       "    <tr>\n",
       "      <th>3</th>\n",
       "      <td>1003</td>\n",
       "      <td>23</td>\n",
       "      <td>NaT</td>\n",
       "      <td>Москва</td>\n",
       "      <td>Белла</td>\n",
       "      <td>Белякова</td>\n",
       "      <td>2018-08-17</td>\n",
       "      <td>ultra</td>\n",
       "      <td>764.400000</td>\n",
       "      <td>104.0</td>\n",
       "      <td>76.0</td>\n",
       "      <td>11.800000</td>\n",
       "    </tr>\n",
       "    <tr>\n",
       "      <th>4</th>\n",
       "      <td>1004</td>\n",
       "      <td>68</td>\n",
       "      <td>NaT</td>\n",
       "      <td>Новокузнецк</td>\n",
       "      <td>Татьяна</td>\n",
       "      <td>Авдеенко</td>\n",
       "      <td>2018-05-14</td>\n",
       "      <td>ultra</td>\n",
       "      <td>123.375000</td>\n",
       "      <td>22.0</td>\n",
       "      <td>149.0</td>\n",
       "      <td>18.750000</td>\n",
       "    </tr>\n",
       "  </tbody>\n",
       "</table>\n",
       "</div>"
      ],
      "text/plain": [
       "   user_id  age churn_date         city first_name  last_name   reg_date  \\\n",
       "0     1000   52        NaT    Краснодар     Рафаил  Верещагин 2018-05-25   \n",
       "1     1001   41        NaT       Москва       Иван       Ежов 2018-11-01   \n",
       "2     1002   59        NaT  Стерлитамак    Евгений  Абрамович 2018-06-17   \n",
       "3     1003   23        NaT       Москва      Белла   Белякова 2018-08-17   \n",
       "4     1004   68        NaT  Новокузнецк    Татьяна   Авдеенко 2018-05-14   \n",
       "\n",
       "  tariff  calls_duration  calls_number  messages_number    gb_used  \n",
       "0  ultra      320.750000          46.0             62.0  13.625000  \n",
       "1  smart      422.000000          61.0              NaN  16.000000  \n",
       "2  smart      216.714286          31.0             10.0  16.714286  \n",
       "3  ultra      764.400000         104.0             76.0  11.800000  \n",
       "4  ultra      123.375000          22.0            149.0  18.750000  "
      ]
     },
     "execution_count": 30,
     "metadata": {},
     "output_type": "execute_result"
    }
   ],
   "source": [
    "mean_internet = internet_per_month.pivot_table(index='user_id', values='gb_used')\n",
    "\n",
    "# присоединим получившуюся таблицу к основной таблице users\n",
    "users = users.merge(mean_internet, on='user_id', how='left')\n",
    "users.head()"
   ]
  },
  {
   "cell_type": "markdown",
   "metadata": {},
   "source": [
    "#### Расчёт помесячных расходов абонентов"
   ]
  },
  {
   "cell_type": "markdown",
   "metadata": {},
   "source": [
    "Для того, чтобы провести расчёт, сколько каждый из абонентов тратит на мобильную связь в месяц, удобно будет объединить все сводные таблицы, в которых мы выводили количество и продолджительность звонков, количество СМС и использованных гигабайт интернета за каждый месяц. Добавим к этой таблице столбец, в котором будет указан тарифный план каждого абонента."
   ]
  },
  {
   "cell_type": "code",
   "execution_count": 31,
   "metadata": {
    "scrolled": false
   },
   "outputs": [
    {
     "data": {
      "text/html": [
       "<div>\n",
       "<style scoped>\n",
       "    .dataframe tbody tr th:only-of-type {\n",
       "        vertical-align: middle;\n",
       "    }\n",
       "\n",
       "    .dataframe tbody tr th {\n",
       "        vertical-align: top;\n",
       "    }\n",
       "\n",
       "    .dataframe thead th {\n",
       "        text-align: right;\n",
       "    }\n",
       "</style>\n",
       "<table border=\"1\" class=\"dataframe\">\n",
       "  <thead>\n",
       "    <tr style=\"text-align: right;\">\n",
       "      <th></th>\n",
       "      <th>user_id</th>\n",
       "      <th>month</th>\n",
       "      <th>calls_number</th>\n",
       "      <th>calls_duration</th>\n",
       "      <th>messages_number</th>\n",
       "      <th>gb_used</th>\n",
       "    </tr>\n",
       "  </thead>\n",
       "  <tbody>\n",
       "    <tr>\n",
       "      <th>0</th>\n",
       "      <td>1000</td>\n",
       "      <td>5</td>\n",
       "      <td>22.0</td>\n",
       "      <td>159.0</td>\n",
       "      <td>22.0</td>\n",
       "      <td>3.0</td>\n",
       "    </tr>\n",
       "    <tr>\n",
       "      <th>1</th>\n",
       "      <td>1000</td>\n",
       "      <td>6</td>\n",
       "      <td>43.0</td>\n",
       "      <td>172.0</td>\n",
       "      <td>60.0</td>\n",
       "      <td>23.0</td>\n",
       "    </tr>\n",
       "    <tr>\n",
       "      <th>2</th>\n",
       "      <td>1000</td>\n",
       "      <td>7</td>\n",
       "      <td>47.0</td>\n",
       "      <td>340.0</td>\n",
       "      <td>75.0</td>\n",
       "      <td>14.0</td>\n",
       "    </tr>\n",
       "    <tr>\n",
       "      <th>3</th>\n",
       "      <td>1000</td>\n",
       "      <td>8</td>\n",
       "      <td>52.0</td>\n",
       "      <td>408.0</td>\n",
       "      <td>81.0</td>\n",
       "      <td>14.0</td>\n",
       "    </tr>\n",
       "    <tr>\n",
       "      <th>4</th>\n",
       "      <td>1000</td>\n",
       "      <td>9</td>\n",
       "      <td>58.0</td>\n",
       "      <td>466.0</td>\n",
       "      <td>57.0</td>\n",
       "      <td>15.0</td>\n",
       "    </tr>\n",
       "    <tr>\n",
       "      <th>5</th>\n",
       "      <td>1000</td>\n",
       "      <td>10</td>\n",
       "      <td>57.0</td>\n",
       "      <td>350.0</td>\n",
       "      <td>73.0</td>\n",
       "      <td>15.0</td>\n",
       "    </tr>\n",
       "    <tr>\n",
       "      <th>6</th>\n",
       "      <td>1000</td>\n",
       "      <td>11</td>\n",
       "      <td>43.0</td>\n",
       "      <td>338.0</td>\n",
       "      <td>58.0</td>\n",
       "      <td>15.0</td>\n",
       "    </tr>\n",
       "    <tr>\n",
       "      <th>7</th>\n",
       "      <td>1000</td>\n",
       "      <td>12</td>\n",
       "      <td>46.0</td>\n",
       "      <td>333.0</td>\n",
       "      <td>70.0</td>\n",
       "      <td>10.0</td>\n",
       "    </tr>\n",
       "    <tr>\n",
       "      <th>8</th>\n",
       "      <td>1001</td>\n",
       "      <td>11</td>\n",
       "      <td>59.0</td>\n",
       "      <td>430.0</td>\n",
       "      <td>NaN</td>\n",
       "      <td>18.0</td>\n",
       "    </tr>\n",
       "    <tr>\n",
       "      <th>9</th>\n",
       "      <td>1001</td>\n",
       "      <td>12</td>\n",
       "      <td>63.0</td>\n",
       "      <td>414.0</td>\n",
       "      <td>NaN</td>\n",
       "      <td>14.0</td>\n",
       "    </tr>\n",
       "  </tbody>\n",
       "</table>\n",
       "</div>"
      ],
      "text/plain": [
       "   user_id  month  calls_number  calls_duration  messages_number  gb_used\n",
       "0     1000      5          22.0           159.0             22.0      3.0\n",
       "1     1000      6          43.0           172.0             60.0     23.0\n",
       "2     1000      7          47.0           340.0             75.0     14.0\n",
       "3     1000      8          52.0           408.0             81.0     14.0\n",
       "4     1000      9          58.0           466.0             57.0     15.0\n",
       "5     1000     10          57.0           350.0             73.0     15.0\n",
       "6     1000     11          43.0           338.0             58.0     15.0\n",
       "7     1000     12          46.0           333.0             70.0     10.0\n",
       "8     1001     11          59.0           430.0              NaN     18.0\n",
       "9     1001     12          63.0           414.0              NaN     14.0"
      ]
     },
     "execution_count": 31,
     "metadata": {},
     "output_type": "execute_result"
    }
   ],
   "source": [
    "# сбрасываем индексы сводных таблиц\n",
    "calls_per_month = calls_per_month.reset_index()\n",
    "messages_per_month = messages_per_month.reset_index()\n",
    "internet_per_month = internet_per_month.reset_index()\n",
    "\n",
    "# создаём таблицу с расчётами\n",
    "data_per_month = calls_per_month.merge(messages_per_month, on=['user_id', 'month'], how='outer')\n",
    "data_per_month = data_per_month.merge(internet_per_month, on=['user_id', 'month'], how='outer')\n",
    "\n",
    "\n",
    "data_per_month.head(10)"
   ]
  },
  {
   "cell_type": "code",
   "execution_count": 32,
   "metadata": {
    "scrolled": true
   },
   "outputs": [
    {
     "name": "stdout",
     "output_type": "stream",
     "text": [
      "<class 'pandas.core.frame.DataFrame'>\n",
      "Int64Index: 3214 entries, 0 to 3213\n",
      "Data columns (total 6 columns):\n",
      " #   Column           Non-Null Count  Dtype  \n",
      "---  ------           --------------  -----  \n",
      " 0   user_id          3214 non-null   int64  \n",
      " 1   month            3214 non-null   int64  \n",
      " 2   calls_number     3174 non-null   float64\n",
      " 3   calls_duration   3174 non-null   float64\n",
      " 4   messages_number  2717 non-null   float64\n",
      " 5   gb_used          3203 non-null   float64\n",
      "dtypes: float64(4), int64(2)\n",
      "memory usage: 175.8 KB\n"
     ]
    }
   ],
   "source": [
    "# check\n",
    "data_per_month.info()"
   ]
  },
  {
   "cell_type": "markdown",
   "metadata": {},
   "source": [
    "**Рассмотрим строки с пропущенными данными**."
   ]
  },
  {
   "cell_type": "code",
   "execution_count": 33,
   "metadata": {
    "scrolled": false
   },
   "outputs": [
    {
     "data": {
      "text/html": [
       "<div>\n",
       "<style scoped>\n",
       "    .dataframe tbody tr th:only-of-type {\n",
       "        vertical-align: middle;\n",
       "    }\n",
       "\n",
       "    .dataframe tbody tr th {\n",
       "        vertical-align: top;\n",
       "    }\n",
       "\n",
       "    .dataframe thead th {\n",
       "        text-align: right;\n",
       "    }\n",
       "</style>\n",
       "<table border=\"1\" class=\"dataframe\">\n",
       "  <thead>\n",
       "    <tr style=\"text-align: right;\">\n",
       "      <th></th>\n",
       "      <th>user_id</th>\n",
       "      <th>month</th>\n",
       "      <th>calls_number</th>\n",
       "      <th>calls_duration</th>\n",
       "      <th>messages_number</th>\n",
       "      <th>gb_used</th>\n",
       "    </tr>\n",
       "  </thead>\n",
       "  <tbody>\n",
       "    <tr>\n",
       "      <th>3174</th>\n",
       "      <td>1091</td>\n",
       "      <td>5</td>\n",
       "      <td>NaN</td>\n",
       "      <td>NaN</td>\n",
       "      <td>30.0</td>\n",
       "      <td>11.0</td>\n",
       "    </tr>\n",
       "    <tr>\n",
       "      <th>3175</th>\n",
       "      <td>1091</td>\n",
       "      <td>6</td>\n",
       "      <td>NaN</td>\n",
       "      <td>NaN</td>\n",
       "      <td>30.0</td>\n",
       "      <td>10.0</td>\n",
       "    </tr>\n",
       "    <tr>\n",
       "      <th>3176</th>\n",
       "      <td>1091</td>\n",
       "      <td>7</td>\n",
       "      <td>NaN</td>\n",
       "      <td>NaN</td>\n",
       "      <td>35.0</td>\n",
       "      <td>17.0</td>\n",
       "    </tr>\n",
       "    <tr>\n",
       "      <th>3177</th>\n",
       "      <td>1091</td>\n",
       "      <td>8</td>\n",
       "      <td>NaN</td>\n",
       "      <td>NaN</td>\n",
       "      <td>31.0</td>\n",
       "      <td>13.0</td>\n",
       "    </tr>\n",
       "    <tr>\n",
       "      <th>3178</th>\n",
       "      <td>1091</td>\n",
       "      <td>9</td>\n",
       "      <td>NaN</td>\n",
       "      <td>NaN</td>\n",
       "      <td>32.0</td>\n",
       "      <td>17.0</td>\n",
       "    </tr>\n",
       "    <tr>\n",
       "      <th>3179</th>\n",
       "      <td>1091</td>\n",
       "      <td>10</td>\n",
       "      <td>NaN</td>\n",
       "      <td>NaN</td>\n",
       "      <td>44.0</td>\n",
       "      <td>16.0</td>\n",
       "    </tr>\n",
       "    <tr>\n",
       "      <th>3180</th>\n",
       "      <td>1091</td>\n",
       "      <td>11</td>\n",
       "      <td>NaN</td>\n",
       "      <td>NaN</td>\n",
       "      <td>28.0</td>\n",
       "      <td>12.0</td>\n",
       "    </tr>\n",
       "    <tr>\n",
       "      <th>3181</th>\n",
       "      <td>1091</td>\n",
       "      <td>12</td>\n",
       "      <td>NaN</td>\n",
       "      <td>NaN</td>\n",
       "      <td>42.0</td>\n",
       "      <td>13.0</td>\n",
       "    </tr>\n",
       "    <tr>\n",
       "      <th>3182</th>\n",
       "      <td>1106</td>\n",
       "      <td>4</td>\n",
       "      <td>NaN</td>\n",
       "      <td>NaN</td>\n",
       "      <td>9.0</td>\n",
       "      <td>3.0</td>\n",
       "    </tr>\n",
       "    <tr>\n",
       "      <th>3183</th>\n",
       "      <td>1106</td>\n",
       "      <td>5</td>\n",
       "      <td>NaN</td>\n",
       "      <td>NaN</td>\n",
       "      <td>28.0</td>\n",
       "      <td>17.0</td>\n",
       "    </tr>\n",
       "  </tbody>\n",
       "</table>\n",
       "</div>"
      ],
      "text/plain": [
       "      user_id  month  calls_number  calls_duration  messages_number  gb_used\n",
       "3174     1091      5           NaN             NaN             30.0     11.0\n",
       "3175     1091      6           NaN             NaN             30.0     10.0\n",
       "3176     1091      7           NaN             NaN             35.0     17.0\n",
       "3177     1091      8           NaN             NaN             31.0     13.0\n",
       "3178     1091      9           NaN             NaN             32.0     17.0\n",
       "3179     1091     10           NaN             NaN             44.0     16.0\n",
       "3180     1091     11           NaN             NaN             28.0     12.0\n",
       "3181     1091     12           NaN             NaN             42.0     13.0\n",
       "3182     1106      4           NaN             NaN              9.0      3.0\n",
       "3183     1106      5           NaN             NaN             28.0     17.0"
      ]
     },
     "execution_count": 33,
     "metadata": {},
     "output_type": "execute_result"
    }
   ],
   "source": [
    "data_per_month[data_per_month['calls_number'].isna()].head(10)"
   ]
  },
  {
   "cell_type": "markdown",
   "metadata": {},
   "source": [
    "Видим, что всякий раз значения отсутствуют одновременно в двух столбцах: `calls_number` и `calls_duration`. Посмотрим, есть ли данные об этих абонентах в таблице calls."
   ]
  },
  {
   "cell_type": "code",
   "execution_count": 34,
   "metadata": {
    "scrolled": true
   },
   "outputs": [
    {
     "data": {
      "text/html": [
       "<div>\n",
       "<style scoped>\n",
       "    .dataframe tbody tr th:only-of-type {\n",
       "        vertical-align: middle;\n",
       "    }\n",
       "\n",
       "    .dataframe tbody tr th {\n",
       "        vertical-align: top;\n",
       "    }\n",
       "\n",
       "    .dataframe thead th {\n",
       "        text-align: right;\n",
       "    }\n",
       "</style>\n",
       "<table border=\"1\" class=\"dataframe\">\n",
       "  <thead>\n",
       "    <tr style=\"text-align: right;\">\n",
       "      <th></th>\n",
       "      <th>id</th>\n",
       "      <th>call_date</th>\n",
       "      <th>duration</th>\n",
       "      <th>user_id</th>\n",
       "      <th>month</th>\n",
       "    </tr>\n",
       "  </thead>\n",
       "  <tbody>\n",
       "  </tbody>\n",
       "</table>\n",
       "</div>"
      ],
      "text/plain": [
       "Empty DataFrame\n",
       "Columns: [id, call_date, duration, user_id, month]\n",
       "Index: []"
      ]
     },
     "metadata": {},
     "output_type": "display_data"
    },
    {
     "data": {
      "text/html": [
       "<div>\n",
       "<style scoped>\n",
       "    .dataframe tbody tr th:only-of-type {\n",
       "        vertical-align: middle;\n",
       "    }\n",
       "\n",
       "    .dataframe tbody tr th {\n",
       "        vertical-align: top;\n",
       "    }\n",
       "\n",
       "    .dataframe thead th {\n",
       "        text-align: right;\n",
       "    }\n",
       "</style>\n",
       "<table border=\"1\" class=\"dataframe\">\n",
       "  <thead>\n",
       "    <tr style=\"text-align: right;\">\n",
       "      <th></th>\n",
       "      <th>id</th>\n",
       "      <th>call_date</th>\n",
       "      <th>duration</th>\n",
       "      <th>user_id</th>\n",
       "      <th>month</th>\n",
       "    </tr>\n",
       "  </thead>\n",
       "  <tbody>\n",
       "  </tbody>\n",
       "</table>\n",
       "</div>"
      ],
      "text/plain": [
       "Empty DataFrame\n",
       "Columns: [id, call_date, duration, user_id, month]\n",
       "Index: []"
      ]
     },
     "execution_count": 34,
     "metadata": {},
     "output_type": "execute_result"
    }
   ],
   "source": [
    "display(calls.query('user_id == 1091'))\n",
    "calls.query('user_id == 1106')"
   ]
  },
  {
   "cell_type": "markdown",
   "metadata": {},
   "source": [
    "Данных нет - похоже, что эти абоненты не совершали звонков. В таком случае логично заменить пропущенные значения на 0.\n",
    "\n",
    "Проверим таким же образом строки с пропущенными значениями в сообщениях использованном интернет-трафике."
   ]
  },
  {
   "cell_type": "code",
   "execution_count": 35,
   "metadata": {
    "scrolled": false
   },
   "outputs": [
    {
     "data": {
      "text/html": [
       "<div>\n",
       "<style scoped>\n",
       "    .dataframe tbody tr th:only-of-type {\n",
       "        vertical-align: middle;\n",
       "    }\n",
       "\n",
       "    .dataframe tbody tr th {\n",
       "        vertical-align: top;\n",
       "    }\n",
       "\n",
       "    .dataframe thead th {\n",
       "        text-align: right;\n",
       "    }\n",
       "</style>\n",
       "<table border=\"1\" class=\"dataframe\">\n",
       "  <thead>\n",
       "    <tr style=\"text-align: right;\">\n",
       "      <th></th>\n",
       "      <th>user_id</th>\n",
       "      <th>month</th>\n",
       "      <th>calls_number</th>\n",
       "      <th>calls_duration</th>\n",
       "      <th>messages_number</th>\n",
       "      <th>gb_used</th>\n",
       "    </tr>\n",
       "  </thead>\n",
       "  <tbody>\n",
       "    <tr>\n",
       "      <th>8</th>\n",
       "      <td>1001</td>\n",
       "      <td>11</td>\n",
       "      <td>59.0</td>\n",
       "      <td>430.0</td>\n",
       "      <td>NaN</td>\n",
       "      <td>18.0</td>\n",
       "    </tr>\n",
       "    <tr>\n",
       "      <th>9</th>\n",
       "      <td>1001</td>\n",
       "      <td>12</td>\n",
       "      <td>63.0</td>\n",
       "      <td>414.0</td>\n",
       "      <td>NaN</td>\n",
       "      <td>14.0</td>\n",
       "    </tr>\n",
       "    <tr>\n",
       "      <th>42</th>\n",
       "      <td>1006</td>\n",
       "      <td>2</td>\n",
       "      <td>3.0</td>\n",
       "      <td>42.0</td>\n",
       "      <td>NaN</td>\n",
       "      <td>2.0</td>\n",
       "    </tr>\n",
       "    <tr>\n",
       "      <th>43</th>\n",
       "      <td>1006</td>\n",
       "      <td>3</td>\n",
       "      <td>46.0</td>\n",
       "      <td>286.0</td>\n",
       "      <td>NaN</td>\n",
       "      <td>17.0</td>\n",
       "    </tr>\n",
       "    <tr>\n",
       "      <th>44</th>\n",
       "      <td>1006</td>\n",
       "      <td>4</td>\n",
       "      <td>47.0</td>\n",
       "      <td>356.0</td>\n",
       "      <td>NaN</td>\n",
       "      <td>14.0</td>\n",
       "    </tr>\n",
       "  </tbody>\n",
       "</table>\n",
       "</div>"
      ],
      "text/plain": [
       "    user_id  month  calls_number  calls_duration  messages_number  gb_used\n",
       "8      1001     11          59.0           430.0              NaN     18.0\n",
       "9      1001     12          63.0           414.0              NaN     14.0\n",
       "42     1006      2           3.0            42.0              NaN      2.0\n",
       "43     1006      3          46.0           286.0              NaN     17.0\n",
       "44     1006      4          47.0           356.0              NaN     14.0"
      ]
     },
     "metadata": {},
     "output_type": "display_data"
    },
    {
     "data": {
      "text/html": [
       "<div>\n",
       "<style scoped>\n",
       "    .dataframe tbody tr th:only-of-type {\n",
       "        vertical-align: middle;\n",
       "    }\n",
       "\n",
       "    .dataframe tbody tr th {\n",
       "        vertical-align: top;\n",
       "    }\n",
       "\n",
       "    .dataframe thead th {\n",
       "        text-align: right;\n",
       "    }\n",
       "</style>\n",
       "<table border=\"1\" class=\"dataframe\">\n",
       "  <thead>\n",
       "    <tr style=\"text-align: right;\">\n",
       "      <th></th>\n",
       "      <th>id</th>\n",
       "      <th>message_date</th>\n",
       "      <th>user_id</th>\n",
       "      <th>month</th>\n",
       "    </tr>\n",
       "  </thead>\n",
       "  <tbody>\n",
       "  </tbody>\n",
       "</table>\n",
       "</div>"
      ],
      "text/plain": [
       "Empty DataFrame\n",
       "Columns: [id, message_date, user_id, month]\n",
       "Index: []"
      ]
     },
     "execution_count": 35,
     "metadata": {},
     "output_type": "execute_result"
    }
   ],
   "source": [
    "display(data_per_month[data_per_month['messages_number'].isna()].head())\n",
    "\n",
    "messages.query('user_id == 1006')"
   ]
  },
  {
   "cell_type": "code",
   "execution_count": 36,
   "metadata": {},
   "outputs": [
    {
     "data": {
      "text/html": [
       "<div>\n",
       "<style scoped>\n",
       "    .dataframe tbody tr th:only-of-type {\n",
       "        vertical-align: middle;\n",
       "    }\n",
       "\n",
       "    .dataframe tbody tr th {\n",
       "        vertical-align: top;\n",
       "    }\n",
       "\n",
       "    .dataframe thead th {\n",
       "        text-align: right;\n",
       "    }\n",
       "</style>\n",
       "<table border=\"1\" class=\"dataframe\">\n",
       "  <thead>\n",
       "    <tr style=\"text-align: right;\">\n",
       "      <th></th>\n",
       "      <th>user_id</th>\n",
       "      <th>month</th>\n",
       "      <th>calls_number</th>\n",
       "      <th>calls_duration</th>\n",
       "      <th>messages_number</th>\n",
       "      <th>gb_used</th>\n",
       "    </tr>\n",
       "  </thead>\n",
       "  <tbody>\n",
       "    <tr>\n",
       "      <th>1697</th>\n",
       "      <td>1273</td>\n",
       "      <td>5</td>\n",
       "      <td>24.0</td>\n",
       "      <td>220.0</td>\n",
       "      <td>21.0</td>\n",
       "      <td>NaN</td>\n",
       "    </tr>\n",
       "    <tr>\n",
       "      <th>1698</th>\n",
       "      <td>1273</td>\n",
       "      <td>6</td>\n",
       "      <td>40.0</td>\n",
       "      <td>230.0</td>\n",
       "      <td>38.0</td>\n",
       "      <td>NaN</td>\n",
       "    </tr>\n",
       "    <tr>\n",
       "      <th>1699</th>\n",
       "      <td>1273</td>\n",
       "      <td>7</td>\n",
       "      <td>44.0</td>\n",
       "      <td>253.0</td>\n",
       "      <td>37.0</td>\n",
       "      <td>NaN</td>\n",
       "    </tr>\n",
       "    <tr>\n",
       "      <th>1700</th>\n",
       "      <td>1273</td>\n",
       "      <td>8</td>\n",
       "      <td>53.0</td>\n",
       "      <td>253.0</td>\n",
       "      <td>41.0</td>\n",
       "      <td>NaN</td>\n",
       "    </tr>\n",
       "    <tr>\n",
       "      <th>1701</th>\n",
       "      <td>1273</td>\n",
       "      <td>9</td>\n",
       "      <td>33.0</td>\n",
       "      <td>223.0</td>\n",
       "      <td>32.0</td>\n",
       "      <td>NaN</td>\n",
       "    </tr>\n",
       "    <tr>\n",
       "      <th>1702</th>\n",
       "      <td>1273</td>\n",
       "      <td>10</td>\n",
       "      <td>40.0</td>\n",
       "      <td>315.0</td>\n",
       "      <td>35.0</td>\n",
       "      <td>NaN</td>\n",
       "    </tr>\n",
       "    <tr>\n",
       "      <th>1703</th>\n",
       "      <td>1273</td>\n",
       "      <td>11</td>\n",
       "      <td>45.0</td>\n",
       "      <td>272.0</td>\n",
       "      <td>29.0</td>\n",
       "      <td>NaN</td>\n",
       "    </tr>\n",
       "    <tr>\n",
       "      <th>1704</th>\n",
       "      <td>1273</td>\n",
       "      <td>12</td>\n",
       "      <td>41.0</td>\n",
       "      <td>260.0</td>\n",
       "      <td>39.0</td>\n",
       "      <td>NaN</td>\n",
       "    </tr>\n",
       "    <tr>\n",
       "      <th>2358</th>\n",
       "      <td>1377</td>\n",
       "      <td>2</td>\n",
       "      <td>23.0</td>\n",
       "      <td>179.0</td>\n",
       "      <td>2.0</td>\n",
       "      <td>NaN</td>\n",
       "    </tr>\n",
       "    <tr>\n",
       "      <th>2471</th>\n",
       "      <td>1392</td>\n",
       "      <td>2</td>\n",
       "      <td>2.0</td>\n",
       "      <td>13.0</td>\n",
       "      <td>3.0</td>\n",
       "      <td>NaN</td>\n",
       "    </tr>\n",
       "    <tr>\n",
       "      <th>2829</th>\n",
       "      <td>1446</td>\n",
       "      <td>8</td>\n",
       "      <td>4.0</td>\n",
       "      <td>50.0</td>\n",
       "      <td>1.0</td>\n",
       "      <td>NaN</td>\n",
       "    </tr>\n",
       "  </tbody>\n",
       "</table>\n",
       "</div>"
      ],
      "text/plain": [
       "      user_id  month  calls_number  calls_duration  messages_number  gb_used\n",
       "1697     1273      5          24.0           220.0             21.0      NaN\n",
       "1698     1273      6          40.0           230.0             38.0      NaN\n",
       "1699     1273      7          44.0           253.0             37.0      NaN\n",
       "1700     1273      8          53.0           253.0             41.0      NaN\n",
       "1701     1273      9          33.0           223.0             32.0      NaN\n",
       "1702     1273     10          40.0           315.0             35.0      NaN\n",
       "1703     1273     11          45.0           272.0             29.0      NaN\n",
       "1704     1273     12          41.0           260.0             39.0      NaN\n",
       "2358     1377      2          23.0           179.0              2.0      NaN\n",
       "2471     1392      2           2.0            13.0              3.0      NaN\n",
       "2829     1446      8           4.0            50.0              1.0      NaN"
      ]
     },
     "metadata": {},
     "output_type": "display_data"
    },
    {
     "data": {
      "text/html": [
       "<div>\n",
       "<style scoped>\n",
       "    .dataframe tbody tr th:only-of-type {\n",
       "        vertical-align: middle;\n",
       "    }\n",
       "\n",
       "    .dataframe tbody tr th {\n",
       "        vertical-align: top;\n",
       "    }\n",
       "\n",
       "    .dataframe thead th {\n",
       "        text-align: right;\n",
       "    }\n",
       "</style>\n",
       "<table border=\"1\" class=\"dataframe\">\n",
       "  <thead>\n",
       "    <tr style=\"text-align: right;\">\n",
       "      <th></th>\n",
       "      <th>id</th>\n",
       "      <th>mb_used</th>\n",
       "      <th>session_date</th>\n",
       "      <th>user_id</th>\n",
       "      <th>month</th>\n",
       "    </tr>\n",
       "  </thead>\n",
       "  <tbody>\n",
       "    <tr>\n",
       "      <th>111116</th>\n",
       "      <td>1377_0</td>\n",
       "      <td>0.00</td>\n",
       "      <td>2018-03-11</td>\n",
       "      <td>1377</td>\n",
       "      <td>3</td>\n",
       "    </tr>\n",
       "    <tr>\n",
       "      <th>111117</th>\n",
       "      <td>1377_1</td>\n",
       "      <td>375.26</td>\n",
       "      <td>2018-11-11</td>\n",
       "      <td>1377</td>\n",
       "      <td>11</td>\n",
       "    </tr>\n",
       "    <tr>\n",
       "      <th>111118</th>\n",
       "      <td>1377_2</td>\n",
       "      <td>571.53</td>\n",
       "      <td>2018-08-23</td>\n",
       "      <td>1377</td>\n",
       "      <td>8</td>\n",
       "    </tr>\n",
       "    <tr>\n",
       "      <th>111119</th>\n",
       "      <td>1377_3</td>\n",
       "      <td>832.70</td>\n",
       "      <td>2018-11-10</td>\n",
       "      <td>1377</td>\n",
       "      <td>11</td>\n",
       "    </tr>\n",
       "    <tr>\n",
       "      <th>111120</th>\n",
       "      <td>1377_4</td>\n",
       "      <td>477.69</td>\n",
       "      <td>2018-06-05</td>\n",
       "      <td>1377</td>\n",
       "      <td>6</td>\n",
       "    </tr>\n",
       "    <tr>\n",
       "      <th>...</th>\n",
       "      <td>...</td>\n",
       "      <td>...</td>\n",
       "      <td>...</td>\n",
       "      <td>...</td>\n",
       "      <td>...</td>\n",
       "    </tr>\n",
       "    <tr>\n",
       "      <th>133417</th>\n",
       "      <td>1446_200</td>\n",
       "      <td>77.74</td>\n",
       "      <td>2018-10-14</td>\n",
       "      <td>1446</td>\n",
       "      <td>10</td>\n",
       "    </tr>\n",
       "    <tr>\n",
       "      <th>133418</th>\n",
       "      <td>1446_201</td>\n",
       "      <td>581.61</td>\n",
       "      <td>2018-09-13</td>\n",
       "      <td>1446</td>\n",
       "      <td>9</td>\n",
       "    </tr>\n",
       "    <tr>\n",
       "      <th>133419</th>\n",
       "      <td>1446_202</td>\n",
       "      <td>105.85</td>\n",
       "      <td>2018-12-29</td>\n",
       "      <td>1446</td>\n",
       "      <td>12</td>\n",
       "    </tr>\n",
       "    <tr>\n",
       "      <th>133420</th>\n",
       "      <td>1446_203</td>\n",
       "      <td>170.22</td>\n",
       "      <td>2018-09-03</td>\n",
       "      <td>1446</td>\n",
       "      <td>9</td>\n",
       "    </tr>\n",
       "    <tr>\n",
       "      <th>133421</th>\n",
       "      <td>1446_204</td>\n",
       "      <td>575.34</td>\n",
       "      <td>2018-11-10</td>\n",
       "      <td>1446</td>\n",
       "      <td>11</td>\n",
       "    </tr>\n",
       "  </tbody>\n",
       "</table>\n",
       "<p>553 rows × 5 columns</p>\n",
       "</div>"
      ],
      "text/plain": [
       "              id  mb_used session_date  user_id  month\n",
       "111116    1377_0     0.00   2018-03-11     1377      3\n",
       "111117    1377_1   375.26   2018-11-11     1377     11\n",
       "111118    1377_2   571.53   2018-08-23     1377      8\n",
       "111119    1377_3   832.70   2018-11-10     1377     11\n",
       "111120    1377_4   477.69   2018-06-05     1377      6\n",
       "...          ...      ...          ...      ...    ...\n",
       "133417  1446_200    77.74   2018-10-14     1446     10\n",
       "133418  1446_201   581.61   2018-09-13     1446      9\n",
       "133419  1446_202   105.85   2018-12-29     1446     12\n",
       "133420  1446_203   170.22   2018-09-03     1446      9\n",
       "133421  1446_204   575.34   2018-11-10     1446     11\n",
       "\n",
       "[553 rows x 5 columns]"
      ]
     },
     "execution_count": 36,
     "metadata": {},
     "output_type": "execute_result"
    }
   ],
   "source": [
    "display(data_per_month[data_per_month['gb_used'].isna()])\n",
    "\n",
    "\n",
    "internet.query('user_id == (1273, 1377, 1392, 1446)')\n"
   ]
  },
  {
   "cell_type": "markdown",
   "metadata": {},
   "source": [
    "Пользователь под id 1273, похоже, не использовал мобильный интернет на протяжении 2018 года.\n",
    "\n",
    "Остальные абоненты, возможно, не пользовались интернетом в определённые месяцы. Проверим это предположение."
   ]
  },
  {
   "cell_type": "code",
   "execution_count": 37,
   "metadata": {},
   "outputs": [
    {
     "data": {
      "text/html": [
       "<div>\n",
       "<style scoped>\n",
       "    .dataframe tbody tr th:only-of-type {\n",
       "        vertical-align: middle;\n",
       "    }\n",
       "\n",
       "    .dataframe tbody tr th {\n",
       "        vertical-align: top;\n",
       "    }\n",
       "\n",
       "    .dataframe thead th {\n",
       "        text-align: right;\n",
       "    }\n",
       "</style>\n",
       "<table border=\"1\" class=\"dataframe\">\n",
       "  <thead>\n",
       "    <tr style=\"text-align: right;\">\n",
       "      <th></th>\n",
       "      <th>id</th>\n",
       "      <th>mb_used</th>\n",
       "      <th>session_date</th>\n",
       "      <th>user_id</th>\n",
       "      <th>month</th>\n",
       "    </tr>\n",
       "  </thead>\n",
       "  <tbody>\n",
       "  </tbody>\n",
       "</table>\n",
       "</div>"
      ],
      "text/plain": [
       "Empty DataFrame\n",
       "Columns: [id, mb_used, session_date, user_id, month]\n",
       "Index: []"
      ]
     },
     "metadata": {},
     "output_type": "display_data"
    },
    {
     "data": {
      "text/html": [
       "<div>\n",
       "<style scoped>\n",
       "    .dataframe tbody tr th:only-of-type {\n",
       "        vertical-align: middle;\n",
       "    }\n",
       "\n",
       "    .dataframe tbody tr th {\n",
       "        vertical-align: top;\n",
       "    }\n",
       "\n",
       "    .dataframe thead th {\n",
       "        text-align: right;\n",
       "    }\n",
       "</style>\n",
       "<table border=\"1\" class=\"dataframe\">\n",
       "  <thead>\n",
       "    <tr style=\"text-align: right;\">\n",
       "      <th></th>\n",
       "      <th>id</th>\n",
       "      <th>mb_used</th>\n",
       "      <th>session_date</th>\n",
       "      <th>user_id</th>\n",
       "      <th>month</th>\n",
       "    </tr>\n",
       "  </thead>\n",
       "  <tbody>\n",
       "  </tbody>\n",
       "</table>\n",
       "</div>"
      ],
      "text/plain": [
       "Empty DataFrame\n",
       "Columns: [id, mb_used, session_date, user_id, month]\n",
       "Index: []"
      ]
     },
     "execution_count": 37,
     "metadata": {},
     "output_type": "execute_result"
    }
   ],
   "source": [
    "display(internet.query('(user_id == 1377) and (month == 2)'))\n",
    "internet.query('(user_id == 1446) and (month == 8)')"
   ]
  },
  {
   "cell_type": "markdown",
   "metadata": {},
   "source": [
    "Действительно, можно утверждать, что некоторые абоненты просто не использовали звонки, смс или интернет в определённые месяцы. В таком случае можно заполнить пропущенные значения на 0."
   ]
  },
  {
   "cell_type": "code",
   "execution_count": 38,
   "metadata": {},
   "outputs": [
    {
     "name": "stdout",
     "output_type": "stream",
     "text": [
      "<class 'pandas.core.frame.DataFrame'>\n",
      "Int64Index: 3214 entries, 0 to 3213\n",
      "Data columns (total 6 columns):\n",
      " #   Column           Non-Null Count  Dtype  \n",
      "---  ------           --------------  -----  \n",
      " 0   user_id          3214 non-null   int64  \n",
      " 1   month            3214 non-null   int64  \n",
      " 2   calls_number     3214 non-null   float64\n",
      " 3   calls_duration   3214 non-null   float64\n",
      " 4   messages_number  3214 non-null   float64\n",
      " 5   gb_used          3214 non-null   float64\n",
      "dtypes: float64(4), int64(2)\n",
      "memory usage: 175.8 KB\n"
     ]
    }
   ],
   "source": [
    "data_per_month = data_per_month.fillna(0)\n",
    "\n",
    "# check\n",
    "data_per_month.info()"
   ]
  },
  {
   "cell_type": "markdown",
   "metadata": {},
   "source": [
    "Все клиенты пользуются одним из двух тарифных планов - и от этого зависит, как будет производиться расчёт их расходов. Сделаем из этой таблицы два среза: для пользователей тарифов \"ultra\" и \"smart\" - и в каждом из них рассчитаем расходы абонентов."
   ]
  },
  {
   "cell_type": "code",
   "execution_count": 39,
   "metadata": {},
   "outputs": [
    {
     "name": "stdout",
     "output_type": "stream",
     "text": [
      "<class 'pandas.core.frame.DataFrame'>\n",
      "Int64Index: 985 entries, 0 to 3213\n",
      "Data columns (total 6 columns):\n",
      " #   Column           Non-Null Count  Dtype  \n",
      "---  ------           --------------  -----  \n",
      " 0   user_id          985 non-null    int64  \n",
      " 1   month            985 non-null    int64  \n",
      " 2   calls_number     985 non-null    float64\n",
      " 3   calls_duration   985 non-null    float64\n",
      " 4   messages_number  985 non-null    float64\n",
      " 5   gb_used          985 non-null    float64\n",
      "dtypes: float64(4), int64(2)\n",
      "memory usage: 53.9 KB\n",
      "None\n",
      "<class 'pandas.core.frame.DataFrame'>\n",
      "Int64Index: 2229 entries, 8 to 3212\n",
      "Data columns (total 6 columns):\n",
      " #   Column           Non-Null Count  Dtype  \n",
      "---  ------           --------------  -----  \n",
      " 0   user_id          2229 non-null   int64  \n",
      " 1   month            2229 non-null   int64  \n",
      " 2   calls_number     2229 non-null   float64\n",
      " 3   calls_duration   2229 non-null   float64\n",
      " 4   messages_number  2229 non-null   float64\n",
      " 5   gb_used          2229 non-null   float64\n",
      "dtypes: float64(4), int64(2)\n",
      "memory usage: 121.9 KB\n"
     ]
    }
   ],
   "source": [
    "# разделяем клиентов на две группы в таблице users\n",
    "ultra_users = users.loc[users['tariff'] == 'ultra']['user_id']\n",
    "smart_users = users.loc[users['tariff'] == 'smart']['user_id']\n",
    "\n",
    "# выделяем два среза из таблицы data_per_month\n",
    "ultra_data = data_per_month.query('user_id in @ultra_users')\n",
    "smart_data = data_per_month.query('user_id in @smart_users')\n",
    "\n",
    "print(ultra_data.info())\n",
    "smart_data.info()"
   ]
  },
  {
   "cell_type": "code",
   "execution_count": 40,
   "metadata": {
    "scrolled": true
   },
   "outputs": [
    {
     "data": {
      "text/html": [
       "<div>\n",
       "<style scoped>\n",
       "    .dataframe tbody tr th:only-of-type {\n",
       "        vertical-align: middle;\n",
       "    }\n",
       "\n",
       "    .dataframe tbody tr th {\n",
       "        vertical-align: top;\n",
       "    }\n",
       "\n",
       "    .dataframe thead th {\n",
       "        text-align: right;\n",
       "    }\n",
       "</style>\n",
       "<table border=\"1\" class=\"dataframe\">\n",
       "  <thead>\n",
       "    <tr style=\"text-align: right;\">\n",
       "      <th></th>\n",
       "      <th>user_id</th>\n",
       "      <th>month</th>\n",
       "      <th>calls_number</th>\n",
       "      <th>calls_duration</th>\n",
       "      <th>messages_number</th>\n",
       "      <th>gb_used</th>\n",
       "    </tr>\n",
       "  </thead>\n",
       "  <tbody>\n",
       "    <tr>\n",
       "      <th>count</th>\n",
       "      <td>985.000000</td>\n",
       "      <td>985.000000</td>\n",
       "      <td>985.000000</td>\n",
       "      <td>985.000000</td>\n",
       "      <td>985.000000</td>\n",
       "      <td>985.000000</td>\n",
       "    </tr>\n",
       "    <tr>\n",
       "      <th>mean</th>\n",
       "      <td>1263.094416</td>\n",
       "      <td>8.250761</td>\n",
       "      <td>73.392893</td>\n",
       "      <td>526.623350</td>\n",
       "      <td>49.363452</td>\n",
       "      <td>19.494416</td>\n",
       "    </tr>\n",
       "    <tr>\n",
       "      <th>std</th>\n",
       "      <td>140.694908</td>\n",
       "      <td>2.871762</td>\n",
       "      <td>43.916853</td>\n",
       "      <td>317.606098</td>\n",
       "      <td>47.804457</td>\n",
       "      <td>9.853511</td>\n",
       "    </tr>\n",
       "    <tr>\n",
       "      <th>min</th>\n",
       "      <td>1000.000000</td>\n",
       "      <td>1.000000</td>\n",
       "      <td>0.000000</td>\n",
       "      <td>0.000000</td>\n",
       "      <td>0.000000</td>\n",
       "      <td>0.000000</td>\n",
       "    </tr>\n",
       "    <tr>\n",
       "      <th>25%</th>\n",
       "      <td>1143.000000</td>\n",
       "      <td>6.000000</td>\n",
       "      <td>41.000000</td>\n",
       "      <td>284.000000</td>\n",
       "      <td>6.000000</td>\n",
       "      <td>12.000000</td>\n",
       "    </tr>\n",
       "    <tr>\n",
       "      <th>50%</th>\n",
       "      <td>1277.000000</td>\n",
       "      <td>9.000000</td>\n",
       "      <td>74.000000</td>\n",
       "      <td>518.000000</td>\n",
       "      <td>38.000000</td>\n",
       "      <td>19.000000</td>\n",
       "    </tr>\n",
       "    <tr>\n",
       "      <th>75%</th>\n",
       "      <td>1381.000000</td>\n",
       "      <td>11.000000</td>\n",
       "      <td>104.000000</td>\n",
       "      <td>752.000000</td>\n",
       "      <td>79.000000</td>\n",
       "      <td>27.000000</td>\n",
       "    </tr>\n",
       "    <tr>\n",
       "      <th>max</th>\n",
       "      <td>1495.000000</td>\n",
       "      <td>12.000000</td>\n",
       "      <td>244.000000</td>\n",
       "      <td>1673.000000</td>\n",
       "      <td>224.000000</td>\n",
       "      <td>49.000000</td>\n",
       "    </tr>\n",
       "  </tbody>\n",
       "</table>\n",
       "</div>"
      ],
      "text/plain": [
       "           user_id       month  calls_number  calls_duration  messages_number  \\\n",
       "count   985.000000  985.000000    985.000000      985.000000       985.000000   \n",
       "mean   1263.094416    8.250761     73.392893      526.623350        49.363452   \n",
       "std     140.694908    2.871762     43.916853      317.606098        47.804457   \n",
       "min    1000.000000    1.000000      0.000000        0.000000         0.000000   \n",
       "25%    1143.000000    6.000000     41.000000      284.000000         6.000000   \n",
       "50%    1277.000000    9.000000     74.000000      518.000000        38.000000   \n",
       "75%    1381.000000   11.000000    104.000000      752.000000        79.000000   \n",
       "max    1495.000000   12.000000    244.000000     1673.000000       224.000000   \n",
       "\n",
       "          gb_used  \n",
       "count  985.000000  \n",
       "mean    19.494416  \n",
       "std      9.853511  \n",
       "min      0.000000  \n",
       "25%     12.000000  \n",
       "50%     19.000000  \n",
       "75%     27.000000  \n",
       "max     49.000000  "
      ]
     },
     "metadata": {},
     "output_type": "display_data"
    },
    {
     "data": {
      "text/html": [
       "<div>\n",
       "<style scoped>\n",
       "    .dataframe tbody tr th:only-of-type {\n",
       "        vertical-align: middle;\n",
       "    }\n",
       "\n",
       "    .dataframe tbody tr th {\n",
       "        vertical-align: top;\n",
       "    }\n",
       "\n",
       "    .dataframe thead th {\n",
       "        text-align: right;\n",
       "    }\n",
       "</style>\n",
       "<table border=\"1\" class=\"dataframe\">\n",
       "  <thead>\n",
       "    <tr style=\"text-align: right;\">\n",
       "      <th></th>\n",
       "      <th>user_id</th>\n",
       "      <th>month</th>\n",
       "      <th>calls_number</th>\n",
       "      <th>calls_duration</th>\n",
       "      <th>messages_number</th>\n",
       "      <th>gb_used</th>\n",
       "    </tr>\n",
       "  </thead>\n",
       "  <tbody>\n",
       "    <tr>\n",
       "      <th>count</th>\n",
       "      <td>2229.000000</td>\n",
       "      <td>2229.000000</td>\n",
       "      <td>2229.000000</td>\n",
       "      <td>2229.000000</td>\n",
       "      <td>2229.000000</td>\n",
       "      <td>2229.000000</td>\n",
       "    </tr>\n",
       "    <tr>\n",
       "      <th>mean</th>\n",
       "      <td>1246.506505</td>\n",
       "      <td>8.346792</td>\n",
       "      <td>58.463437</td>\n",
       "      <td>417.934948</td>\n",
       "      <td>33.384029</td>\n",
       "      <td>16.328847</td>\n",
       "    </tr>\n",
       "    <tr>\n",
       "      <th>std</th>\n",
       "      <td>146.119496</td>\n",
       "      <td>2.920316</td>\n",
       "      <td>25.939858</td>\n",
       "      <td>190.313730</td>\n",
       "      <td>28.227876</td>\n",
       "      <td>5.747061</td>\n",
       "    </tr>\n",
       "    <tr>\n",
       "      <th>min</th>\n",
       "      <td>1001.000000</td>\n",
       "      <td>1.000000</td>\n",
       "      <td>0.000000</td>\n",
       "      <td>0.000000</td>\n",
       "      <td>0.000000</td>\n",
       "      <td>0.000000</td>\n",
       "    </tr>\n",
       "    <tr>\n",
       "      <th>25%</th>\n",
       "      <td>1121.000000</td>\n",
       "      <td>6.000000</td>\n",
       "      <td>40.000000</td>\n",
       "      <td>282.000000</td>\n",
       "      <td>10.000000</td>\n",
       "      <td>13.000000</td>\n",
       "    </tr>\n",
       "    <tr>\n",
       "      <th>50%</th>\n",
       "      <td>1239.000000</td>\n",
       "      <td>9.000000</td>\n",
       "      <td>60.000000</td>\n",
       "      <td>422.000000</td>\n",
       "      <td>28.000000</td>\n",
       "      <td>17.000000</td>\n",
       "    </tr>\n",
       "    <tr>\n",
       "      <th>75%</th>\n",
       "      <td>1376.000000</td>\n",
       "      <td>11.000000</td>\n",
       "      <td>76.000000</td>\n",
       "      <td>545.000000</td>\n",
       "      <td>51.000000</td>\n",
       "      <td>20.000000</td>\n",
       "    </tr>\n",
       "    <tr>\n",
       "      <th>max</th>\n",
       "      <td>1499.000000</td>\n",
       "      <td>12.000000</td>\n",
       "      <td>198.000000</td>\n",
       "      <td>1435.000000</td>\n",
       "      <td>143.000000</td>\n",
       "      <td>38.000000</td>\n",
       "    </tr>\n",
       "  </tbody>\n",
       "</table>\n",
       "</div>"
      ],
      "text/plain": [
       "           user_id        month  calls_number  calls_duration  \\\n",
       "count  2229.000000  2229.000000   2229.000000     2229.000000   \n",
       "mean   1246.506505     8.346792     58.463437      417.934948   \n",
       "std     146.119496     2.920316     25.939858      190.313730   \n",
       "min    1001.000000     1.000000      0.000000        0.000000   \n",
       "25%    1121.000000     6.000000     40.000000      282.000000   \n",
       "50%    1239.000000     9.000000     60.000000      422.000000   \n",
       "75%    1376.000000    11.000000     76.000000      545.000000   \n",
       "max    1499.000000    12.000000    198.000000     1435.000000   \n",
       "\n",
       "       messages_number      gb_used  \n",
       "count      2229.000000  2229.000000  \n",
       "mean         33.384029    16.328847  \n",
       "std          28.227876     5.747061  \n",
       "min           0.000000     0.000000  \n",
       "25%          10.000000    13.000000  \n",
       "50%          28.000000    17.000000  \n",
       "75%          51.000000    20.000000  \n",
       "max         143.000000    38.000000  "
      ]
     },
     "execution_count": 40,
     "metadata": {},
     "output_type": "execute_result"
    }
   ],
   "source": [
    "display(ultra_data.describe())\n",
    "smart_data.describe()"
   ]
  },
  {
   "cell_type": "markdown",
   "metadata": {},
   "source": [
    "Пока отметим, что пользователи тарифа \"Смарт\" более активны и чаще превышают показатели, включённые в их тариф - это делают более 25% клиентов. Что касается пользователей тарифа \"Ультра\", то среди них нет тех, кто потратил бы за месяц более 3000 минут и 1000 сообщений, \"заложенных\" в тариф. Очень активных пользователей интернета среди них также совсем немного. \n",
    "\n",
    "Добавим столбцы с расчётами дополнительных расходов пользователей на **звонки**. "
   ]
  },
  {
   "cell_type": "code",
   "execution_count": 41,
   "metadata": {},
   "outputs": [
    {
     "name": "stderr",
     "output_type": "stream",
     "text": [
      "/tmp/ipykernel_256/3651609376.py:9: SettingWithCopyWarning: \n",
      "A value is trying to be set on a copy of a slice from a DataFrame.\n",
      "Try using .loc[row_indexer,col_indexer] = value instead\n",
      "\n",
      "See the caveats in the documentation: https://pandas.pydata.org/pandas-docs/stable/user_guide/indexing.html#returning-a-view-versus-a-copy\n",
      "  ultra_data['calls_cost'] = ultra_data.apply(extra_calls_ultra, axis=1)\n",
      "/tmp/ipykernel_256/3651609376.py:19: SettingWithCopyWarning: \n",
      "A value is trying to be set on a copy of a slice from a DataFrame.\n",
      "Try using .loc[row_indexer,col_indexer] = value instead\n",
      "\n",
      "See the caveats in the documentation: https://pandas.pydata.org/pandas-docs/stable/user_guide/indexing.html#returning-a-view-versus-a-copy\n",
      "  smart_data['calls_cost'] = smart_data.apply(extra_calls_smart, axis=1)\n"
     ]
    },
    {
     "data": {
      "text/plain": [
       "count    2229.000000\n",
       "mean      124.816958\n",
       "std       254.035718\n",
       "min         0.000000\n",
       "25%         0.000000\n",
       "50%         0.000000\n",
       "75%       135.000000\n",
       "max      2805.000000\n",
       "Name: calls_cost, dtype: float64"
      ]
     },
     "execution_count": 41,
     "metadata": {},
     "output_type": "execute_result"
    }
   ],
   "source": [
    "# столбец с перерасходом за минуты для пользователей ultra\n",
    "def extra_calls_ultra(row):\n",
    "    calls_duration = row['calls_duration']\n",
    "    if calls_duration > tariffs.loc[1, 'minutes_included']:\n",
    "        return (calls_duration - tariffs.loc[1, 'minutes_included'])\n",
    "    else:\n",
    "        return 0\n",
    "\n",
    "ultra_data['calls_cost'] = ultra_data.apply(extra_calls_ultra, axis=1)\n",
    "\n",
    "# столбец с перерасходом за минуты для пользователей smart\n",
    "def extra_calls_smart(row):\n",
    "    calls_duration = row['calls_duration']\n",
    "    if calls_duration > tariffs.loc[0, 'minutes_included']:\n",
    "        return (calls_duration - tariffs.loc[0, 'minutes_included']) * tariffs.loc[0, 'rub_per_minute']\n",
    "    else:\n",
    "        return 0\n",
    "\n",
    "smart_data['calls_cost'] = smart_data.apply(extra_calls_smart, axis=1)\n",
    "\n",
    "# отключим оповещения Pandas\n",
    "pd.options.mode.chained_assignment = None\n",
    "\n",
    "# проверяем, сработала ли функция\n",
    "smart_data['calls_cost'].describe()\n"
   ]
  },
  {
   "cell_type": "markdown",
   "metadata": {},
   "source": [
    "По тому же принципу рассчитаем дополнительные расходы на **сообщения**."
   ]
  },
  {
   "cell_type": "code",
   "execution_count": 42,
   "metadata": {},
   "outputs": [
    {
     "data": {
      "text/plain": [
       "count    2229.000000\n",
       "mean       17.399731\n",
       "std        40.327368\n",
       "min         0.000000\n",
       "25%         0.000000\n",
       "50%         0.000000\n",
       "75%         3.000000\n",
       "max       279.000000\n",
       "Name: messages_cost, dtype: float64"
      ]
     },
     "execution_count": 42,
     "metadata": {},
     "output_type": "execute_result"
    }
   ],
   "source": [
    "# столбец с перерасходом за сообщения для пользователей ultra\n",
    "def extra_messages_ultra(row):\n",
    "    messages_number = row['messages_number']\n",
    "    if messages_number > tariffs.loc[1, 'messages_included']:\n",
    "        return (messages_number - tariffs.loc[1, 'messages_included'])\n",
    "    else:\n",
    "        return 0\n",
    "\n",
    "ultra_data['messages_cost'] = ultra_data.apply(extra_messages_ultra, axis=1)\n",
    "\n",
    "# столбец с перерасходом за сообщения для клиентов на тарифе smart\n",
    "def extra_messages_smart(row):\n",
    "    messages_number = row['messages_number']\n",
    "    if messages_number > tariffs.loc[0, 'messages_included']:\n",
    "        return (messages_number - tariffs.loc[0, 'messages_included']) * tariffs.loc[0, 'rub_per_message']\n",
    "    else:\n",
    "        return 0\n",
    "\n",
    "smart_data['messages_cost'] = smart_data.apply(extra_messages_smart, axis=1)\n",
    "# check\n",
    "smart_data['messages_cost'].describe()"
   ]
  },
  {
   "cell_type": "markdown",
   "metadata": {},
   "source": [
    "Наконец, подсчитаем, сколько дополнительно клиенты должны заплатить за \"перерасход\" **мобильного интернета**."
   ]
  },
  {
   "cell_type": "code",
   "execution_count": 43,
   "metadata": {
    "scrolled": true
   },
   "outputs": [
    {
     "data": {
      "text/html": [
       "<div>\n",
       "<style scoped>\n",
       "    .dataframe tbody tr th:only-of-type {\n",
       "        vertical-align: middle;\n",
       "    }\n",
       "\n",
       "    .dataframe tbody tr th {\n",
       "        vertical-align: top;\n",
       "    }\n",
       "\n",
       "    .dataframe thead th {\n",
       "        text-align: right;\n",
       "    }\n",
       "</style>\n",
       "<table border=\"1\" class=\"dataframe\">\n",
       "  <thead>\n",
       "    <tr style=\"text-align: right;\">\n",
       "      <th></th>\n",
       "      <th>user_id</th>\n",
       "      <th>month</th>\n",
       "      <th>calls_number</th>\n",
       "      <th>calls_duration</th>\n",
       "      <th>messages_number</th>\n",
       "      <th>gb_used</th>\n",
       "      <th>calls_cost</th>\n",
       "      <th>messages_cost</th>\n",
       "      <th>gb_cost</th>\n",
       "    </tr>\n",
       "  </thead>\n",
       "  <tbody>\n",
       "    <tr>\n",
       "      <th>count</th>\n",
       "      <td>985.000000</td>\n",
       "      <td>985.000000</td>\n",
       "      <td>985.000000</td>\n",
       "      <td>985.000000</td>\n",
       "      <td>985.000000</td>\n",
       "      <td>985.000000</td>\n",
       "      <td>985.0</td>\n",
       "      <td>985.0</td>\n",
       "      <td>985.000000</td>\n",
       "    </tr>\n",
       "    <tr>\n",
       "      <th>mean</th>\n",
       "      <td>1263.094416</td>\n",
       "      <td>8.250761</td>\n",
       "      <td>73.392893</td>\n",
       "      <td>526.623350</td>\n",
       "      <td>49.363452</td>\n",
       "      <td>19.494416</td>\n",
       "      <td>0.0</td>\n",
       "      <td>0.0</td>\n",
       "      <td>120.152284</td>\n",
       "    </tr>\n",
       "    <tr>\n",
       "      <th>std</th>\n",
       "      <td>140.694908</td>\n",
       "      <td>2.871762</td>\n",
       "      <td>43.916853</td>\n",
       "      <td>317.606098</td>\n",
       "      <td>47.804457</td>\n",
       "      <td>9.853511</td>\n",
       "      <td>0.0</td>\n",
       "      <td>0.0</td>\n",
       "      <td>376.187114</td>\n",
       "    </tr>\n",
       "    <tr>\n",
       "      <th>min</th>\n",
       "      <td>1000.000000</td>\n",
       "      <td>1.000000</td>\n",
       "      <td>0.000000</td>\n",
       "      <td>0.000000</td>\n",
       "      <td>0.000000</td>\n",
       "      <td>0.000000</td>\n",
       "      <td>0.0</td>\n",
       "      <td>0.0</td>\n",
       "      <td>0.000000</td>\n",
       "    </tr>\n",
       "    <tr>\n",
       "      <th>25%</th>\n",
       "      <td>1143.000000</td>\n",
       "      <td>6.000000</td>\n",
       "      <td>41.000000</td>\n",
       "      <td>284.000000</td>\n",
       "      <td>6.000000</td>\n",
       "      <td>12.000000</td>\n",
       "      <td>0.0</td>\n",
       "      <td>0.0</td>\n",
       "      <td>0.000000</td>\n",
       "    </tr>\n",
       "    <tr>\n",
       "      <th>50%</th>\n",
       "      <td>1277.000000</td>\n",
       "      <td>9.000000</td>\n",
       "      <td>74.000000</td>\n",
       "      <td>518.000000</td>\n",
       "      <td>38.000000</td>\n",
       "      <td>19.000000</td>\n",
       "      <td>0.0</td>\n",
       "      <td>0.0</td>\n",
       "      <td>0.000000</td>\n",
       "    </tr>\n",
       "    <tr>\n",
       "      <th>75%</th>\n",
       "      <td>1381.000000</td>\n",
       "      <td>11.000000</td>\n",
       "      <td>104.000000</td>\n",
       "      <td>752.000000</td>\n",
       "      <td>79.000000</td>\n",
       "      <td>27.000000</td>\n",
       "      <td>0.0</td>\n",
       "      <td>0.0</td>\n",
       "      <td>0.000000</td>\n",
       "    </tr>\n",
       "    <tr>\n",
       "      <th>max</th>\n",
       "      <td>1495.000000</td>\n",
       "      <td>12.000000</td>\n",
       "      <td>244.000000</td>\n",
       "      <td>1673.000000</td>\n",
       "      <td>224.000000</td>\n",
       "      <td>49.000000</td>\n",
       "      <td>0.0</td>\n",
       "      <td>0.0</td>\n",
       "      <td>2850.000000</td>\n",
       "    </tr>\n",
       "  </tbody>\n",
       "</table>\n",
       "</div>"
      ],
      "text/plain": [
       "           user_id       month  calls_number  calls_duration  messages_number  \\\n",
       "count   985.000000  985.000000    985.000000      985.000000       985.000000   \n",
       "mean   1263.094416    8.250761     73.392893      526.623350        49.363452   \n",
       "std     140.694908    2.871762     43.916853      317.606098        47.804457   \n",
       "min    1000.000000    1.000000      0.000000        0.000000         0.000000   \n",
       "25%    1143.000000    6.000000     41.000000      284.000000         6.000000   \n",
       "50%    1277.000000    9.000000     74.000000      518.000000        38.000000   \n",
       "75%    1381.000000   11.000000    104.000000      752.000000        79.000000   \n",
       "max    1495.000000   12.000000    244.000000     1673.000000       224.000000   \n",
       "\n",
       "          gb_used  calls_cost  messages_cost      gb_cost  \n",
       "count  985.000000       985.0          985.0   985.000000  \n",
       "mean    19.494416         0.0            0.0   120.152284  \n",
       "std      9.853511         0.0            0.0   376.187114  \n",
       "min      0.000000         0.0            0.0     0.000000  \n",
       "25%     12.000000         0.0            0.0     0.000000  \n",
       "50%     19.000000         0.0            0.0     0.000000  \n",
       "75%     27.000000         0.0            0.0     0.000000  \n",
       "max     49.000000         0.0            0.0  2850.000000  "
      ]
     },
     "execution_count": 43,
     "metadata": {},
     "output_type": "execute_result"
    }
   ],
   "source": [
    "# рассчитываем стоимость \"лишнего\" интернета для клиентов ultra\n",
    "def extra_gb_ultra(row):\n",
    "    gb_used = row['gb_used']\n",
    "    if gb_used > (tariffs.loc[1, 'mb_per_month_included'] / 1024):\n",
    "        return (gb_used - (tariffs.loc[1, 'mb_per_month_included'] / 1024)) * tariffs.loc[1, 'rub_per_gb']\n",
    "    else:\n",
    "        return 0\n",
    "ultra_data['gb_cost'] = ultra_data.apply(extra_gb_ultra, axis=1)\n",
    "\n",
    "# та же операция для клиентов smart\n",
    "def extra_gb_smart(row):\n",
    "    gb_used = row['gb_used']\n",
    "    if gb_used > (tariffs.loc[0, 'mb_per_month_included'] / 1024):\n",
    "        return (gb_used - (tariffs.loc[0, 'mb_per_month_included'] / 1024)) * tariffs.loc[0, 'rub_per_gb']\n",
    "    else:\n",
    "        return 0\n",
    "smart_data['gb_cost'] = smart_data.apply(extra_gb_smart, axis=1)\n",
    "\n",
    "# посмотрим, появились ли новые столбцы\n",
    "ultra_data.describe()"
   ]
  },
  {
   "cell_type": "markdown",
   "metadata": {},
   "source": [
    "Видим, что все новые столбцы добавлены, а самые большие дополнительные расходы у клиентов мобильного оператора - за дополниительные гигабайты интернета.\n",
    "\n",
    "Сложим все расходы и прибавим абонентскую плату - так мы получим **данные о том, сколько каждый пользователь тратит на мобильную связь каждый месяц**."
   ]
  },
  {
   "cell_type": "code",
   "execution_count": 44,
   "metadata": {
    "scrolled": true
   },
   "outputs": [
    {
     "data": {
      "text/html": [
       "<div>\n",
       "<style scoped>\n",
       "    .dataframe tbody tr th:only-of-type {\n",
       "        vertical-align: middle;\n",
       "    }\n",
       "\n",
       "    .dataframe tbody tr th {\n",
       "        vertical-align: top;\n",
       "    }\n",
       "\n",
       "    .dataframe thead th {\n",
       "        text-align: right;\n",
       "    }\n",
       "</style>\n",
       "<table border=\"1\" class=\"dataframe\">\n",
       "  <thead>\n",
       "    <tr style=\"text-align: right;\">\n",
       "      <th></th>\n",
       "      <th>user_id</th>\n",
       "      <th>month</th>\n",
       "      <th>calls_number</th>\n",
       "      <th>calls_duration</th>\n",
       "      <th>messages_number</th>\n",
       "      <th>gb_used</th>\n",
       "      <th>calls_cost</th>\n",
       "      <th>messages_cost</th>\n",
       "      <th>gb_cost</th>\n",
       "      <th>monthly_cost</th>\n",
       "    </tr>\n",
       "  </thead>\n",
       "  <tbody>\n",
       "    <tr>\n",
       "      <th>count</th>\n",
       "      <td>985.000000</td>\n",
       "      <td>985.000000</td>\n",
       "      <td>985.000000</td>\n",
       "      <td>985.000000</td>\n",
       "      <td>985.000000</td>\n",
       "      <td>985.000000</td>\n",
       "      <td>985.0</td>\n",
       "      <td>985.0</td>\n",
       "      <td>985.000000</td>\n",
       "      <td>985.000000</td>\n",
       "    </tr>\n",
       "    <tr>\n",
       "      <th>mean</th>\n",
       "      <td>1263.094416</td>\n",
       "      <td>8.250761</td>\n",
       "      <td>73.392893</td>\n",
       "      <td>526.623350</td>\n",
       "      <td>49.363452</td>\n",
       "      <td>19.494416</td>\n",
       "      <td>0.0</td>\n",
       "      <td>0.0</td>\n",
       "      <td>120.152284</td>\n",
       "      <td>2070.152284</td>\n",
       "    </tr>\n",
       "    <tr>\n",
       "      <th>std</th>\n",
       "      <td>140.694908</td>\n",
       "      <td>2.871762</td>\n",
       "      <td>43.916853</td>\n",
       "      <td>317.606098</td>\n",
       "      <td>47.804457</td>\n",
       "      <td>9.853511</td>\n",
       "      <td>0.0</td>\n",
       "      <td>0.0</td>\n",
       "      <td>376.187114</td>\n",
       "      <td>376.187114</td>\n",
       "    </tr>\n",
       "    <tr>\n",
       "      <th>min</th>\n",
       "      <td>1000.000000</td>\n",
       "      <td>1.000000</td>\n",
       "      <td>0.000000</td>\n",
       "      <td>0.000000</td>\n",
       "      <td>0.000000</td>\n",
       "      <td>0.000000</td>\n",
       "      <td>0.0</td>\n",
       "      <td>0.0</td>\n",
       "      <td>0.000000</td>\n",
       "      <td>1950.000000</td>\n",
       "    </tr>\n",
       "    <tr>\n",
       "      <th>25%</th>\n",
       "      <td>1143.000000</td>\n",
       "      <td>6.000000</td>\n",
       "      <td>41.000000</td>\n",
       "      <td>284.000000</td>\n",
       "      <td>6.000000</td>\n",
       "      <td>12.000000</td>\n",
       "      <td>0.0</td>\n",
       "      <td>0.0</td>\n",
       "      <td>0.000000</td>\n",
       "      <td>1950.000000</td>\n",
       "    </tr>\n",
       "    <tr>\n",
       "      <th>50%</th>\n",
       "      <td>1277.000000</td>\n",
       "      <td>9.000000</td>\n",
       "      <td>74.000000</td>\n",
       "      <td>518.000000</td>\n",
       "      <td>38.000000</td>\n",
       "      <td>19.000000</td>\n",
       "      <td>0.0</td>\n",
       "      <td>0.0</td>\n",
       "      <td>0.000000</td>\n",
       "      <td>1950.000000</td>\n",
       "    </tr>\n",
       "    <tr>\n",
       "      <th>75%</th>\n",
       "      <td>1381.000000</td>\n",
       "      <td>11.000000</td>\n",
       "      <td>104.000000</td>\n",
       "      <td>752.000000</td>\n",
       "      <td>79.000000</td>\n",
       "      <td>27.000000</td>\n",
       "      <td>0.0</td>\n",
       "      <td>0.0</td>\n",
       "      <td>0.000000</td>\n",
       "      <td>1950.000000</td>\n",
       "    </tr>\n",
       "    <tr>\n",
       "      <th>max</th>\n",
       "      <td>1495.000000</td>\n",
       "      <td>12.000000</td>\n",
       "      <td>244.000000</td>\n",
       "      <td>1673.000000</td>\n",
       "      <td>224.000000</td>\n",
       "      <td>49.000000</td>\n",
       "      <td>0.0</td>\n",
       "      <td>0.0</td>\n",
       "      <td>2850.000000</td>\n",
       "      <td>4800.000000</td>\n",
       "    </tr>\n",
       "  </tbody>\n",
       "</table>\n",
       "</div>"
      ],
      "text/plain": [
       "           user_id       month  calls_number  calls_duration  messages_number  \\\n",
       "count   985.000000  985.000000    985.000000      985.000000       985.000000   \n",
       "mean   1263.094416    8.250761     73.392893      526.623350        49.363452   \n",
       "std     140.694908    2.871762     43.916853      317.606098        47.804457   \n",
       "min    1000.000000    1.000000      0.000000        0.000000         0.000000   \n",
       "25%    1143.000000    6.000000     41.000000      284.000000         6.000000   \n",
       "50%    1277.000000    9.000000     74.000000      518.000000        38.000000   \n",
       "75%    1381.000000   11.000000    104.000000      752.000000        79.000000   \n",
       "max    1495.000000   12.000000    244.000000     1673.000000       224.000000   \n",
       "\n",
       "          gb_used  calls_cost  messages_cost      gb_cost  monthly_cost  \n",
       "count  985.000000       985.0          985.0   985.000000    985.000000  \n",
       "mean    19.494416         0.0            0.0   120.152284   2070.152284  \n",
       "std      9.853511         0.0            0.0   376.187114    376.187114  \n",
       "min      0.000000         0.0            0.0     0.000000   1950.000000  \n",
       "25%     12.000000         0.0            0.0     0.000000   1950.000000  \n",
       "50%     19.000000         0.0            0.0     0.000000   1950.000000  \n",
       "75%     27.000000         0.0            0.0     0.000000   1950.000000  \n",
       "max     49.000000         0.0            0.0  2850.000000   4800.000000  "
      ]
     },
     "metadata": {},
     "output_type": "display_data"
    },
    {
     "data": {
      "text/html": [
       "<div>\n",
       "<style scoped>\n",
       "    .dataframe tbody tr th:only-of-type {\n",
       "        vertical-align: middle;\n",
       "    }\n",
       "\n",
       "    .dataframe tbody tr th {\n",
       "        vertical-align: top;\n",
       "    }\n",
       "\n",
       "    .dataframe thead th {\n",
       "        text-align: right;\n",
       "    }\n",
       "</style>\n",
       "<table border=\"1\" class=\"dataframe\">\n",
       "  <thead>\n",
       "    <tr style=\"text-align: right;\">\n",
       "      <th></th>\n",
       "      <th>user_id</th>\n",
       "      <th>month</th>\n",
       "      <th>calls_number</th>\n",
       "      <th>calls_duration</th>\n",
       "      <th>messages_number</th>\n",
       "      <th>gb_used</th>\n",
       "      <th>calls_cost</th>\n",
       "      <th>messages_cost</th>\n",
       "      <th>gb_cost</th>\n",
       "      <th>monthly_cost</th>\n",
       "    </tr>\n",
       "  </thead>\n",
       "  <tbody>\n",
       "    <tr>\n",
       "      <th>count</th>\n",
       "      <td>2229.000000</td>\n",
       "      <td>2229.000000</td>\n",
       "      <td>2229.000000</td>\n",
       "      <td>2229.000000</td>\n",
       "      <td>2229.000000</td>\n",
       "      <td>2229.000000</td>\n",
       "      <td>2229.000000</td>\n",
       "      <td>2229.000000</td>\n",
       "      <td>2229.000000</td>\n",
       "      <td>2229.000000</td>\n",
       "    </tr>\n",
       "    <tr>\n",
       "      <th>mean</th>\n",
       "      <td>1246.506505</td>\n",
       "      <td>8.346792</td>\n",
       "      <td>58.463437</td>\n",
       "      <td>417.934948</td>\n",
       "      <td>33.384029</td>\n",
       "      <td>16.328847</td>\n",
       "      <td>124.816958</td>\n",
       "      <td>17.399731</td>\n",
       "      <td>597.756842</td>\n",
       "      <td>1289.973531</td>\n",
       "    </tr>\n",
       "    <tr>\n",
       "      <th>std</th>\n",
       "      <td>146.119496</td>\n",
       "      <td>2.920316</td>\n",
       "      <td>25.939858</td>\n",
       "      <td>190.313730</td>\n",
       "      <td>28.227876</td>\n",
       "      <td>5.747061</td>\n",
       "      <td>254.035718</td>\n",
       "      <td>40.327368</td>\n",
       "      <td>736.563904</td>\n",
       "      <td>818.404367</td>\n",
       "    </tr>\n",
       "    <tr>\n",
       "      <th>min</th>\n",
       "      <td>1001.000000</td>\n",
       "      <td>1.000000</td>\n",
       "      <td>0.000000</td>\n",
       "      <td>0.000000</td>\n",
       "      <td>0.000000</td>\n",
       "      <td>0.000000</td>\n",
       "      <td>0.000000</td>\n",
       "      <td>0.000000</td>\n",
       "      <td>0.000000</td>\n",
       "      <td>550.000000</td>\n",
       "    </tr>\n",
       "    <tr>\n",
       "      <th>25%</th>\n",
       "      <td>1121.000000</td>\n",
       "      <td>6.000000</td>\n",
       "      <td>40.000000</td>\n",
       "      <td>282.000000</td>\n",
       "      <td>10.000000</td>\n",
       "      <td>13.000000</td>\n",
       "      <td>0.000000</td>\n",
       "      <td>0.000000</td>\n",
       "      <td>0.000000</td>\n",
       "      <td>550.000000</td>\n",
       "    </tr>\n",
       "    <tr>\n",
       "      <th>50%</th>\n",
       "      <td>1239.000000</td>\n",
       "      <td>9.000000</td>\n",
       "      <td>60.000000</td>\n",
       "      <td>422.000000</td>\n",
       "      <td>28.000000</td>\n",
       "      <td>17.000000</td>\n",
       "      <td>0.000000</td>\n",
       "      <td>0.000000</td>\n",
       "      <td>400.000000</td>\n",
       "      <td>1023.000000</td>\n",
       "    </tr>\n",
       "    <tr>\n",
       "      <th>75%</th>\n",
       "      <td>1376.000000</td>\n",
       "      <td>11.000000</td>\n",
       "      <td>76.000000</td>\n",
       "      <td>545.000000</td>\n",
       "      <td>51.000000</td>\n",
       "      <td>20.000000</td>\n",
       "      <td>135.000000</td>\n",
       "      <td>3.000000</td>\n",
       "      <td>1000.000000</td>\n",
       "      <td>1750.000000</td>\n",
       "    </tr>\n",
       "    <tr>\n",
       "      <th>max</th>\n",
       "      <td>1499.000000</td>\n",
       "      <td>12.000000</td>\n",
       "      <td>198.000000</td>\n",
       "      <td>1435.000000</td>\n",
       "      <td>143.000000</td>\n",
       "      <td>38.000000</td>\n",
       "      <td>2805.000000</td>\n",
       "      <td>279.000000</td>\n",
       "      <td>4600.000000</td>\n",
       "      <td>6770.000000</td>\n",
       "    </tr>\n",
       "  </tbody>\n",
       "</table>\n",
       "</div>"
      ],
      "text/plain": [
       "           user_id        month  calls_number  calls_duration  \\\n",
       "count  2229.000000  2229.000000   2229.000000     2229.000000   \n",
       "mean   1246.506505     8.346792     58.463437      417.934948   \n",
       "std     146.119496     2.920316     25.939858      190.313730   \n",
       "min    1001.000000     1.000000      0.000000        0.000000   \n",
       "25%    1121.000000     6.000000     40.000000      282.000000   \n",
       "50%    1239.000000     9.000000     60.000000      422.000000   \n",
       "75%    1376.000000    11.000000     76.000000      545.000000   \n",
       "max    1499.000000    12.000000    198.000000     1435.000000   \n",
       "\n",
       "       messages_number      gb_used   calls_cost  messages_cost      gb_cost  \\\n",
       "count      2229.000000  2229.000000  2229.000000    2229.000000  2229.000000   \n",
       "mean         33.384029    16.328847   124.816958      17.399731   597.756842   \n",
       "std          28.227876     5.747061   254.035718      40.327368   736.563904   \n",
       "min           0.000000     0.000000     0.000000       0.000000     0.000000   \n",
       "25%          10.000000    13.000000     0.000000       0.000000     0.000000   \n",
       "50%          28.000000    17.000000     0.000000       0.000000   400.000000   \n",
       "75%          51.000000    20.000000   135.000000       3.000000  1000.000000   \n",
       "max         143.000000    38.000000  2805.000000     279.000000  4600.000000   \n",
       "\n",
       "       monthly_cost  \n",
       "count   2229.000000  \n",
       "mean    1289.973531  \n",
       "std      818.404367  \n",
       "min      550.000000  \n",
       "25%      550.000000  \n",
       "50%     1023.000000  \n",
       "75%     1750.000000  \n",
       "max     6770.000000  "
      ]
     },
     "execution_count": 44,
     "metadata": {},
     "output_type": "execute_result"
    }
   ],
   "source": [
    "# у пользователей тарифа ultra\n",
    "ultra_data['monthly_cost'] = tariffs.loc[1, 'rub_monthly_fee'] + ultra_data['calls_cost'] + ultra_data['messages_cost'] + ultra_data['gb_cost']\n",
    "\n",
    "# у пользователей тарифа smart\n",
    "smart_data['monthly_cost'] = tariffs.loc[0, 'rub_monthly_fee'] + smart_data['calls_cost'] + smart_data['messages_cost'] + smart_data['gb_cost']\n",
    "\n",
    "# посмотрим на статистику ежемесячных расходов для пользователей того и другого тарифов\n",
    "display(ultra_data.describe())\n",
    "smart_data.describe()"
   ]
  },
  {
   "cell_type": "markdown",
   "metadata": {},
   "source": [
    "Средние расходы пользователя на тарифе \"Ультра\" не очень превышают размер абонентской платы, большинство пользователей вообще не переплачивают. А среди пользователей \"Смарт\" половина платят почти в 2 раза больше своей абонентской платы, хотя средний показатель существенно меньше, чем на тарифе \"Ультра\". Интересно также, что максимальные расходы из всей выборки понёс один из абонентов более дешёвого тарифа.\n",
    "\n",
    "Любопытно посмотреть, сколько в сумме принесли компании - мобильному оператору клиенты на одном и другом тарифном планах."
   ]
  },
  {
   "cell_type": "code",
   "execution_count": 45,
   "metadata": {
    "scrolled": false
   },
   "outputs": [
    {
     "name": "stdout",
     "output_type": "stream",
     "text": [
      "На тарифе \"Ультра\" оператор заработал 2039100.0 рублей\n",
      "На тарифе \"Смарт\" оператор заработал 2875351.0 рублей\n"
     ]
    }
   ],
   "source": [
    "print('На тарифе \"Ультра\" оператор заработал', ultra_data['monthly_cost'].sum(), 'рублей')\n",
    "print('На тарифе \"Смарт\" оператор заработал', smart_data['monthly_cost'].sum(), 'рублей')"
   ]
  },
  {
   "cell_type": "markdown",
   "metadata": {},
   "source": [
    "В целом, выручка оказалась больше от абонентов тарифа \"Смарт\" - но необходимо учитывать, что и самих таких абонентов гораздо больше.\n",
    "\n",
    "Объединим получившиеся таблицы и добавим в сводную таблицу data_per_month столбец с данными, какой тарифный план у каждого клиента."
   ]
  },
  {
   "cell_type": "code",
   "execution_count": 46,
   "metadata": {
    "scrolled": false
   },
   "outputs": [
    {
     "name": "stdout",
     "output_type": "stream",
     "text": [
      "<class 'pandas.core.frame.DataFrame'>\n",
      "Int64Index: 3214 entries, 0 to 3213\n",
      "Data columns (total 12 columns):\n",
      " #   Column           Non-Null Count  Dtype  \n",
      "---  ------           --------------  -----  \n",
      " 0   user_id          3214 non-null   int64  \n",
      " 1   month            3214 non-null   int64  \n",
      " 2   calls_number     3214 non-null   float64\n",
      " 3   calls_duration   3214 non-null   float64\n",
      " 4   messages_number  3214 non-null   float64\n",
      " 5   gb_used          3214 non-null   float64\n",
      " 6   calls_cost       3214 non-null   float64\n",
      " 7   messages_cost    3214 non-null   float64\n",
      " 8   gb_cost          3214 non-null   float64\n",
      " 9   monthly_cost     3214 non-null   float64\n",
      " 10  tariff           3214 non-null   object \n",
      " 11  city             3214 non-null   object \n",
      "dtypes: float64(8), int64(2), object(2)\n",
      "memory usage: 326.4+ KB\n",
      "None\n"
     ]
    },
    {
     "data": {
      "text/html": [
       "<div>\n",
       "<style scoped>\n",
       "    .dataframe tbody tr th:only-of-type {\n",
       "        vertical-align: middle;\n",
       "    }\n",
       "\n",
       "    .dataframe tbody tr th {\n",
       "        vertical-align: top;\n",
       "    }\n",
       "\n",
       "    .dataframe thead th {\n",
       "        text-align: right;\n",
       "    }\n",
       "</style>\n",
       "<table border=\"1\" class=\"dataframe\">\n",
       "  <thead>\n",
       "    <tr style=\"text-align: right;\">\n",
       "      <th></th>\n",
       "      <th>user_id</th>\n",
       "      <th>month</th>\n",
       "      <th>calls_number</th>\n",
       "      <th>calls_duration</th>\n",
       "      <th>messages_number</th>\n",
       "      <th>gb_used</th>\n",
       "      <th>calls_cost</th>\n",
       "      <th>messages_cost</th>\n",
       "      <th>gb_cost</th>\n",
       "      <th>monthly_cost</th>\n",
       "      <th>tariff</th>\n",
       "      <th>city</th>\n",
       "    </tr>\n",
       "  </thead>\n",
       "  <tbody>\n",
       "    <tr>\n",
       "      <th>0</th>\n",
       "      <td>1000</td>\n",
       "      <td>5</td>\n",
       "      <td>22.0</td>\n",
       "      <td>159.0</td>\n",
       "      <td>22.0</td>\n",
       "      <td>3.0</td>\n",
       "      <td>0.0</td>\n",
       "      <td>0.0</td>\n",
       "      <td>0.0</td>\n",
       "      <td>1950.0</td>\n",
       "      <td>ultra</td>\n",
       "      <td>Краснодар</td>\n",
       "    </tr>\n",
       "    <tr>\n",
       "      <th>1</th>\n",
       "      <td>1000</td>\n",
       "      <td>6</td>\n",
       "      <td>43.0</td>\n",
       "      <td>172.0</td>\n",
       "      <td>60.0</td>\n",
       "      <td>23.0</td>\n",
       "      <td>0.0</td>\n",
       "      <td>0.0</td>\n",
       "      <td>0.0</td>\n",
       "      <td>1950.0</td>\n",
       "      <td>ultra</td>\n",
       "      <td>Краснодар</td>\n",
       "    </tr>\n",
       "    <tr>\n",
       "      <th>2</th>\n",
       "      <td>1000</td>\n",
       "      <td>7</td>\n",
       "      <td>47.0</td>\n",
       "      <td>340.0</td>\n",
       "      <td>75.0</td>\n",
       "      <td>14.0</td>\n",
       "      <td>0.0</td>\n",
       "      <td>0.0</td>\n",
       "      <td>0.0</td>\n",
       "      <td>1950.0</td>\n",
       "      <td>ultra</td>\n",
       "      <td>Краснодар</td>\n",
       "    </tr>\n",
       "    <tr>\n",
       "      <th>3</th>\n",
       "      <td>1000</td>\n",
       "      <td>8</td>\n",
       "      <td>52.0</td>\n",
       "      <td>408.0</td>\n",
       "      <td>81.0</td>\n",
       "      <td>14.0</td>\n",
       "      <td>0.0</td>\n",
       "      <td>0.0</td>\n",
       "      <td>0.0</td>\n",
       "      <td>1950.0</td>\n",
       "      <td>ultra</td>\n",
       "      <td>Краснодар</td>\n",
       "    </tr>\n",
       "    <tr>\n",
       "      <th>4</th>\n",
       "      <td>1000</td>\n",
       "      <td>9</td>\n",
       "      <td>58.0</td>\n",
       "      <td>466.0</td>\n",
       "      <td>57.0</td>\n",
       "      <td>15.0</td>\n",
       "      <td>0.0</td>\n",
       "      <td>0.0</td>\n",
       "      <td>0.0</td>\n",
       "      <td>1950.0</td>\n",
       "      <td>ultra</td>\n",
       "      <td>Краснодар</td>\n",
       "    </tr>\n",
       "    <tr>\n",
       "      <th>5</th>\n",
       "      <td>1000</td>\n",
       "      <td>10</td>\n",
       "      <td>57.0</td>\n",
       "      <td>350.0</td>\n",
       "      <td>73.0</td>\n",
       "      <td>15.0</td>\n",
       "      <td>0.0</td>\n",
       "      <td>0.0</td>\n",
       "      <td>0.0</td>\n",
       "      <td>1950.0</td>\n",
       "      <td>ultra</td>\n",
       "      <td>Краснодар</td>\n",
       "    </tr>\n",
       "    <tr>\n",
       "      <th>6</th>\n",
       "      <td>1000</td>\n",
       "      <td>11</td>\n",
       "      <td>43.0</td>\n",
       "      <td>338.0</td>\n",
       "      <td>58.0</td>\n",
       "      <td>15.0</td>\n",
       "      <td>0.0</td>\n",
       "      <td>0.0</td>\n",
       "      <td>0.0</td>\n",
       "      <td>1950.0</td>\n",
       "      <td>ultra</td>\n",
       "      <td>Краснодар</td>\n",
       "    </tr>\n",
       "    <tr>\n",
       "      <th>7</th>\n",
       "      <td>1000</td>\n",
       "      <td>12</td>\n",
       "      <td>46.0</td>\n",
       "      <td>333.0</td>\n",
       "      <td>70.0</td>\n",
       "      <td>10.0</td>\n",
       "      <td>0.0</td>\n",
       "      <td>0.0</td>\n",
       "      <td>0.0</td>\n",
       "      <td>1950.0</td>\n",
       "      <td>ultra</td>\n",
       "      <td>Краснодар</td>\n",
       "    </tr>\n",
       "    <tr>\n",
       "      <th>8</th>\n",
       "      <td>1003</td>\n",
       "      <td>8</td>\n",
       "      <td>55.0</td>\n",
       "      <td>380.0</td>\n",
       "      <td>37.0</td>\n",
       "      <td>9.0</td>\n",
       "      <td>0.0</td>\n",
       "      <td>0.0</td>\n",
       "      <td>0.0</td>\n",
       "      <td>1950.0</td>\n",
       "      <td>ultra</td>\n",
       "      <td>Москва</td>\n",
       "    </tr>\n",
       "    <tr>\n",
       "      <th>9</th>\n",
       "      <td>1003</td>\n",
       "      <td>9</td>\n",
       "      <td>134.0</td>\n",
       "      <td>961.0</td>\n",
       "      <td>91.0</td>\n",
       "      <td>13.0</td>\n",
       "      <td>0.0</td>\n",
       "      <td>0.0</td>\n",
       "      <td>0.0</td>\n",
       "      <td>1950.0</td>\n",
       "      <td>ultra</td>\n",
       "      <td>Москва</td>\n",
       "    </tr>\n",
       "  </tbody>\n",
       "</table>\n",
       "</div>"
      ],
      "text/plain": [
       "   user_id  month  calls_number  calls_duration  messages_number  gb_used  \\\n",
       "0     1000      5          22.0           159.0             22.0      3.0   \n",
       "1     1000      6          43.0           172.0             60.0     23.0   \n",
       "2     1000      7          47.0           340.0             75.0     14.0   \n",
       "3     1000      8          52.0           408.0             81.0     14.0   \n",
       "4     1000      9          58.0           466.0             57.0     15.0   \n",
       "5     1000     10          57.0           350.0             73.0     15.0   \n",
       "6     1000     11          43.0           338.0             58.0     15.0   \n",
       "7     1000     12          46.0           333.0             70.0     10.0   \n",
       "8     1003      8          55.0           380.0             37.0      9.0   \n",
       "9     1003      9         134.0           961.0             91.0     13.0   \n",
       "\n",
       "   calls_cost  messages_cost  gb_cost  monthly_cost tariff       city  \n",
       "0         0.0            0.0      0.0        1950.0  ultra  Краснодар  \n",
       "1         0.0            0.0      0.0        1950.0  ultra  Краснодар  \n",
       "2         0.0            0.0      0.0        1950.0  ultra  Краснодар  \n",
       "3         0.0            0.0      0.0        1950.0  ultra  Краснодар  \n",
       "4         0.0            0.0      0.0        1950.0  ultra  Краснодар  \n",
       "5         0.0            0.0      0.0        1950.0  ultra  Краснодар  \n",
       "6         0.0            0.0      0.0        1950.0  ultra  Краснодар  \n",
       "7         0.0            0.0      0.0        1950.0  ultra  Краснодар  \n",
       "8         0.0            0.0      0.0        1950.0  ultra     Москва  \n",
       "9         0.0            0.0      0.0        1950.0  ultra     Москва  "
      ]
     },
     "execution_count": 46,
     "metadata": {},
     "output_type": "execute_result"
    }
   ],
   "source": [
    "# объединяем таблицы\n",
    "data_per_month = pd.concat([ultra_data, smart_data])\n",
    "\n",
    "# добавляем в таблицу столбцы 'tariff' и 'city', что потребуется для дальнейшего анализа\n",
    "data_per_month = data_per_month.merge(users[['user_id', 'tariff', 'city']], on='user_id')\n",
    "\n",
    "\n",
    "# проверяем, что получилось\n",
    "print(data_per_month.info())\n",
    "data_per_month.head(10)"
   ]
  },
  {
   "cell_type": "code",
   "execution_count": 47,
   "metadata": {
    "scrolled": true
   },
   "outputs": [
    {
     "data": {
      "text/plain": [
       "smart    2229\n",
       "ultra     985\n",
       "Name: tariff, dtype: int64"
      ]
     },
     "execution_count": 47,
     "metadata": {},
     "output_type": "execute_result"
    }
   ],
   "source": [
    "data_per_month['tariff'].value_counts()"
   ]
  },
  {
   "cell_type": "code",
   "execution_count": 48,
   "metadata": {
    "scrolled": true
   },
   "outputs": [],
   "source": [
    "# рассчитываем средние траты на абонента\n",
    "mean_costs = data_per_month.pivot_table(index='user_id', values='monthly_cost')"
   ]
  },
  {
   "cell_type": "markdown",
   "metadata": {},
   "source": [
    "Теперь поместим столбец с получившимся результатами в таблицу users - именно с ней будем работать для выполнения задач исследования. То есть, будем исследовать средние расходы на мобильную связь каждого абонента в выборке в месяц."
   ]
  },
  {
   "cell_type": "code",
   "execution_count": 49,
   "metadata": {},
   "outputs": [],
   "source": [
    "users = users.merge(mean_costs, on='user_id', how='left')"
   ]
  },
  {
   "cell_type": "markdown",
   "metadata": {},
   "source": [
    "#### Подготовка данных - выводы"
   ]
  },
  {
   "cell_type": "markdown",
   "metadata": {},
   "source": [
    "В целом, датасеты оказались почти готовы к анализу: не было обнаружено большого количества пропусков (за исключением логичных - в столбце, содержащем дату расторжения договора с оператором), дубликатов. Оставалось, фактически, лишь исправить формат данных в столбцах, которые связаны с отображением дат - что и было сделано. Также в таблице **internet** количество используемых мегабайт было заменено на целое число гигабайт.\n",
    "\n",
    "Уже в ходе обзора данных стало понятно, что звонков пользователи совершают больше, чем открывают интернет-сессий и отправляют сообщений. В среднем пользователь инициирует 405 звонков в год, выходит в интернет 298 раз и отправляет 246 смс. Некоторые пользователи при этом (таковых немного) не каждый месяц пользуются определёнными услугами оператора (например, не совершают звонков).\n",
    "\n",
    "Были проведены расчёты средней продолжительности звонков, количества сообщений и потраченных Гб интернета для каждого пользователя за каждый месяц. Аналогичным образом была подсчитана и средняя плата за месяц для пользователей каждого из тарифов. Если анализировать данные по представленной выборке, то оказывается, что абоненты более дорогого тарифа редко выходят за рамки предлагаемого пакета минут, смс и мобильного интернета. При этом в среднем они платят заметно больше, чем абоненты тарифа \"Смарт\". Последние регулярно превышают выделенные им лимиты мобильной связи, более половины из них платят за связь значительно больше абонентской платы.\n",
    "\n",
    "Пользователи тарифа \"Смарт\" приносят компании больше выручки, но этих абонентов больше, чем тех, кто использует \"Ультра\"."
   ]
  },
  {
   "cell_type": "markdown",
   "metadata": {},
   "source": [
    "## Анализ данных"
   ]
  },
  {
   "cell_type": "markdown",
   "metadata": {},
   "source": [
    "В задачи исследования входит описать поведение клиентов мобильного оператора. В частности, необходимо посчитать среднее количество, дисперсию и стандартное отклонение следующих показателей для двух тарифов:\n",
    "* длительность разговоров за месяц,\n",
    "* количество сообщений,\n",
    "* объём интернет-трафика.\n",
    "\n",
    "Убедимся, что в таблице data_per_month есть все необходимые данные."
   ]
  },
  {
   "cell_type": "code",
   "execution_count": 50,
   "metadata": {
    "scrolled": true
   },
   "outputs": [
    {
     "data": {
      "text/html": [
       "<div>\n",
       "<style scoped>\n",
       "    .dataframe tbody tr th:only-of-type {\n",
       "        vertical-align: middle;\n",
       "    }\n",
       "\n",
       "    .dataframe tbody tr th {\n",
       "        vertical-align: top;\n",
       "    }\n",
       "\n",
       "    .dataframe thead th {\n",
       "        text-align: right;\n",
       "    }\n",
       "</style>\n",
       "<table border=\"1\" class=\"dataframe\">\n",
       "  <thead>\n",
       "    <tr style=\"text-align: right;\">\n",
       "      <th></th>\n",
       "      <th>user_id</th>\n",
       "      <th>month</th>\n",
       "      <th>calls_number</th>\n",
       "      <th>calls_duration</th>\n",
       "      <th>messages_number</th>\n",
       "      <th>gb_used</th>\n",
       "      <th>calls_cost</th>\n",
       "      <th>messages_cost</th>\n",
       "      <th>gb_cost</th>\n",
       "      <th>monthly_cost</th>\n",
       "    </tr>\n",
       "  </thead>\n",
       "  <tbody>\n",
       "    <tr>\n",
       "      <th>count</th>\n",
       "      <td>3214.000000</td>\n",
       "      <td>3214.000000</td>\n",
       "      <td>3214.000000</td>\n",
       "      <td>3214.000000</td>\n",
       "      <td>3214.000000</td>\n",
       "      <td>3214.000000</td>\n",
       "      <td>3214.000000</td>\n",
       "      <td>3214.000000</td>\n",
       "      <td>3214.000000</td>\n",
       "      <td>3214.000000</td>\n",
       "    </tr>\n",
       "    <tr>\n",
       "      <th>mean</th>\n",
       "      <td>1251.590230</td>\n",
       "      <td>8.317362</td>\n",
       "      <td>63.038892</td>\n",
       "      <td>451.244866</td>\n",
       "      <td>38.281269</td>\n",
       "      <td>17.299004</td>\n",
       "      <td>86.564095</td>\n",
       "      <td>12.067206</td>\n",
       "      <td>451.384568</td>\n",
       "      <td>1529.076229</td>\n",
       "    </tr>\n",
       "    <tr>\n",
       "      <th>std</th>\n",
       "      <td>144.659172</td>\n",
       "      <td>2.905413</td>\n",
       "      <td>33.236368</td>\n",
       "      <td>241.909978</td>\n",
       "      <td>36.148326</td>\n",
       "      <td>7.400584</td>\n",
       "      <td>219.231515</td>\n",
       "      <td>34.526748</td>\n",
       "      <td>684.137633</td>\n",
       "      <td>798.251091</td>\n",
       "    </tr>\n",
       "    <tr>\n",
       "      <th>min</th>\n",
       "      <td>1000.000000</td>\n",
       "      <td>1.000000</td>\n",
       "      <td>0.000000</td>\n",
       "      <td>0.000000</td>\n",
       "      <td>0.000000</td>\n",
       "      <td>0.000000</td>\n",
       "      <td>0.000000</td>\n",
       "      <td>0.000000</td>\n",
       "      <td>0.000000</td>\n",
       "      <td>550.000000</td>\n",
       "    </tr>\n",
       "    <tr>\n",
       "      <th>25%</th>\n",
       "      <td>1125.000000</td>\n",
       "      <td>6.000000</td>\n",
       "      <td>40.000000</td>\n",
       "      <td>282.000000</td>\n",
       "      <td>9.000000</td>\n",
       "      <td>13.000000</td>\n",
       "      <td>0.000000</td>\n",
       "      <td>0.000000</td>\n",
       "      <td>0.000000</td>\n",
       "      <td>750.000000</td>\n",
       "    </tr>\n",
       "    <tr>\n",
       "      <th>50%</th>\n",
       "      <td>1253.000000</td>\n",
       "      <td>9.000000</td>\n",
       "      <td>62.000000</td>\n",
       "      <td>443.000000</td>\n",
       "      <td>30.000000</td>\n",
       "      <td>17.000000</td>\n",
       "      <td>0.000000</td>\n",
       "      <td>0.000000</td>\n",
       "      <td>0.000000</td>\n",
       "      <td>1653.500000</td>\n",
       "    </tr>\n",
       "    <tr>\n",
       "      <th>75%</th>\n",
       "      <td>1378.750000</td>\n",
       "      <td>11.000000</td>\n",
       "      <td>82.000000</td>\n",
       "      <td>589.000000</td>\n",
       "      <td>57.000000</td>\n",
       "      <td>21.000000</td>\n",
       "      <td>0.000000</td>\n",
       "      <td>0.000000</td>\n",
       "      <td>800.000000</td>\n",
       "      <td>1950.000000</td>\n",
       "    </tr>\n",
       "    <tr>\n",
       "      <th>max</th>\n",
       "      <td>1499.000000</td>\n",
       "      <td>12.000000</td>\n",
       "      <td>244.000000</td>\n",
       "      <td>1673.000000</td>\n",
       "      <td>224.000000</td>\n",
       "      <td>49.000000</td>\n",
       "      <td>2805.000000</td>\n",
       "      <td>279.000000</td>\n",
       "      <td>4600.000000</td>\n",
       "      <td>6770.000000</td>\n",
       "    </tr>\n",
       "  </tbody>\n",
       "</table>\n",
       "</div>"
      ],
      "text/plain": [
       "           user_id        month  calls_number  calls_duration  \\\n",
       "count  3214.000000  3214.000000   3214.000000     3214.000000   \n",
       "mean   1251.590230     8.317362     63.038892      451.244866   \n",
       "std     144.659172     2.905413     33.236368      241.909978   \n",
       "min    1000.000000     1.000000      0.000000        0.000000   \n",
       "25%    1125.000000     6.000000     40.000000      282.000000   \n",
       "50%    1253.000000     9.000000     62.000000      443.000000   \n",
       "75%    1378.750000    11.000000     82.000000      589.000000   \n",
       "max    1499.000000    12.000000    244.000000     1673.000000   \n",
       "\n",
       "       messages_number      gb_used   calls_cost  messages_cost      gb_cost  \\\n",
       "count      3214.000000  3214.000000  3214.000000    3214.000000  3214.000000   \n",
       "mean         38.281269    17.299004    86.564095      12.067206   451.384568   \n",
       "std          36.148326     7.400584   219.231515      34.526748   684.137633   \n",
       "min           0.000000     0.000000     0.000000       0.000000     0.000000   \n",
       "25%           9.000000    13.000000     0.000000       0.000000     0.000000   \n",
       "50%          30.000000    17.000000     0.000000       0.000000     0.000000   \n",
       "75%          57.000000    21.000000     0.000000       0.000000   800.000000   \n",
       "max         224.000000    49.000000  2805.000000     279.000000  4600.000000   \n",
       "\n",
       "       monthly_cost  \n",
       "count   3214.000000  \n",
       "mean    1529.076229  \n",
       "std      798.251091  \n",
       "min      550.000000  \n",
       "25%      750.000000  \n",
       "50%     1653.500000  \n",
       "75%     1950.000000  \n",
       "max     6770.000000  "
      ]
     },
     "metadata": {},
     "output_type": "display_data"
    },
    {
     "data": {
      "text/html": [
       "<div>\n",
       "<style scoped>\n",
       "    .dataframe tbody tr th:only-of-type {\n",
       "        vertical-align: middle;\n",
       "    }\n",
       "\n",
       "    .dataframe tbody tr th {\n",
       "        vertical-align: top;\n",
       "    }\n",
       "\n",
       "    .dataframe thead th {\n",
       "        text-align: right;\n",
       "    }\n",
       "</style>\n",
       "<table border=\"1\" class=\"dataframe\">\n",
       "  <thead>\n",
       "    <tr style=\"text-align: right;\">\n",
       "      <th></th>\n",
       "      <th>user_id</th>\n",
       "      <th>month</th>\n",
       "      <th>calls_number</th>\n",
       "      <th>calls_duration</th>\n",
       "      <th>messages_number</th>\n",
       "      <th>gb_used</th>\n",
       "      <th>calls_cost</th>\n",
       "      <th>messages_cost</th>\n",
       "      <th>gb_cost</th>\n",
       "      <th>monthly_cost</th>\n",
       "      <th>tariff</th>\n",
       "      <th>city</th>\n",
       "    </tr>\n",
       "  </thead>\n",
       "  <tbody>\n",
       "    <tr>\n",
       "      <th>0</th>\n",
       "      <td>1000</td>\n",
       "      <td>5</td>\n",
       "      <td>22.0</td>\n",
       "      <td>159.0</td>\n",
       "      <td>22.0</td>\n",
       "      <td>3.0</td>\n",
       "      <td>0.0</td>\n",
       "      <td>0.0</td>\n",
       "      <td>0.0</td>\n",
       "      <td>1950.0</td>\n",
       "      <td>ultra</td>\n",
       "      <td>Краснодар</td>\n",
       "    </tr>\n",
       "    <tr>\n",
       "      <th>1</th>\n",
       "      <td>1000</td>\n",
       "      <td>6</td>\n",
       "      <td>43.0</td>\n",
       "      <td>172.0</td>\n",
       "      <td>60.0</td>\n",
       "      <td>23.0</td>\n",
       "      <td>0.0</td>\n",
       "      <td>0.0</td>\n",
       "      <td>0.0</td>\n",
       "      <td>1950.0</td>\n",
       "      <td>ultra</td>\n",
       "      <td>Краснодар</td>\n",
       "    </tr>\n",
       "    <tr>\n",
       "      <th>2</th>\n",
       "      <td>1000</td>\n",
       "      <td>7</td>\n",
       "      <td>47.0</td>\n",
       "      <td>340.0</td>\n",
       "      <td>75.0</td>\n",
       "      <td>14.0</td>\n",
       "      <td>0.0</td>\n",
       "      <td>0.0</td>\n",
       "      <td>0.0</td>\n",
       "      <td>1950.0</td>\n",
       "      <td>ultra</td>\n",
       "      <td>Краснодар</td>\n",
       "    </tr>\n",
       "    <tr>\n",
       "      <th>3</th>\n",
       "      <td>1000</td>\n",
       "      <td>8</td>\n",
       "      <td>52.0</td>\n",
       "      <td>408.0</td>\n",
       "      <td>81.0</td>\n",
       "      <td>14.0</td>\n",
       "      <td>0.0</td>\n",
       "      <td>0.0</td>\n",
       "      <td>0.0</td>\n",
       "      <td>1950.0</td>\n",
       "      <td>ultra</td>\n",
       "      <td>Краснодар</td>\n",
       "    </tr>\n",
       "    <tr>\n",
       "      <th>4</th>\n",
       "      <td>1000</td>\n",
       "      <td>9</td>\n",
       "      <td>58.0</td>\n",
       "      <td>466.0</td>\n",
       "      <td>57.0</td>\n",
       "      <td>15.0</td>\n",
       "      <td>0.0</td>\n",
       "      <td>0.0</td>\n",
       "      <td>0.0</td>\n",
       "      <td>1950.0</td>\n",
       "      <td>ultra</td>\n",
       "      <td>Краснодар</td>\n",
       "    </tr>\n",
       "  </tbody>\n",
       "</table>\n",
       "</div>"
      ],
      "text/plain": [
       "   user_id  month  calls_number  calls_duration  messages_number  gb_used  \\\n",
       "0     1000      5          22.0           159.0             22.0      3.0   \n",
       "1     1000      6          43.0           172.0             60.0     23.0   \n",
       "2     1000      7          47.0           340.0             75.0     14.0   \n",
       "3     1000      8          52.0           408.0             81.0     14.0   \n",
       "4     1000      9          58.0           466.0             57.0     15.0   \n",
       "\n",
       "   calls_cost  messages_cost  gb_cost  monthly_cost tariff       city  \n",
       "0         0.0            0.0      0.0        1950.0  ultra  Краснодар  \n",
       "1         0.0            0.0      0.0        1950.0  ultra  Краснодар  \n",
       "2         0.0            0.0      0.0        1950.0  ultra  Краснодар  \n",
       "3         0.0            0.0      0.0        1950.0  ultra  Краснодар  \n",
       "4         0.0            0.0      0.0        1950.0  ultra  Краснодар  "
      ]
     },
     "execution_count": 50,
     "metadata": {},
     "output_type": "execute_result"
    }
   ],
   "source": [
    "display(data_per_month.describe())\n",
    "data_per_month.head()"
   ]
  },
  {
   "cell_type": "markdown",
   "metadata": {},
   "source": [
    "### Анализ длительности разговоров"
   ]
  },
  {
   "cell_type": "markdown",
   "metadata": {},
   "source": [
    "Обратим внимание на описательную статистику средней продолжительности разговоров в месяц - для пользователей каждого из тарифов. Помним, что в среднем все абоненты разговаривают около 450 минут."
   ]
  },
  {
   "cell_type": "code",
   "execution_count": 51,
   "metadata": {},
   "outputs": [
    {
     "data": {
      "text/plain": [
       "count    2229.000000\n",
       "mean      417.934948\n",
       "std       190.313730\n",
       "min         0.000000\n",
       "25%       282.000000\n",
       "50%       422.000000\n",
       "75%       545.000000\n",
       "max      1435.000000\n",
       "Name: calls_duration, dtype: float64"
      ]
     },
     "execution_count": 51,
     "metadata": {},
     "output_type": "execute_result"
    }
   ],
   "source": [
    "data_per_month[data_per_month['tariff'] == 'smart']['calls_duration'].describe()"
   ]
  },
  {
   "cell_type": "code",
   "execution_count": 52,
   "metadata": {
    "scrolled": true
   },
   "outputs": [
    {
     "data": {
      "text/plain": [
       "count     985.000000\n",
       "mean      526.623350\n",
       "std       317.606098\n",
       "min         0.000000\n",
       "25%       284.000000\n",
       "50%       518.000000\n",
       "75%       752.000000\n",
       "max      1673.000000\n",
       "Name: calls_duration, dtype: float64"
      ]
     },
     "execution_count": 52,
     "metadata": {},
     "output_type": "execute_result"
    }
   ],
   "source": [
    "data_per_month[data_per_month['tariff'] == 'ultra']['calls_duration'].describe()"
   ]
  },
  {
   "cell_type": "markdown",
   "metadata": {},
   "source": [
    "Посчитаем дисперсию для обоих наборов данных - учитывая, что мы работаем с выборкой, а не с генеральной совокупностью."
   ]
  },
  {
   "cell_type": "code",
   "execution_count": 53,
   "metadata": {
    "scrolled": false
   },
   "outputs": [
    {
     "name": "stdout",
     "output_type": "stream",
     "text": [
      "36219.31578434428\n",
      "100873.63339730098\n"
     ]
    }
   ],
   "source": [
    "print(np.var(data_per_month[data_per_month['tariff'] == 'smart']['calls_duration'], ddof=1))\n",
    "print(np.var(data_per_month[data_per_month['tariff'] == 'ultra']['calls_duration'], ddof=1))"
   ]
  },
  {
   "cell_type": "markdown",
   "metadata": {},
   "source": [
    "Теперь узнаем стандартное отклонение по формуле и рассчитаем промежутки, в которые должно попасть 99% значений."
   ]
  },
  {
   "cell_type": "code",
   "execution_count": 54,
   "metadata": {
    "scrolled": true
   },
   "outputs": [
    {
     "name": "stdout",
     "output_type": "stream",
     "text": [
      "190.31372988921288\n",
      "317.6060978591264\n",
      "-153.006241260281 988.8761380749961\n",
      "-426.19494332357215 1479.4416438311864\n"
     ]
    }
   ],
   "source": [
    "smart_calls_var = np.std(data_per_month[data_per_month['tariff'] == 'smart']['calls_duration'], ddof=1)\n",
    "ultra_calls_var = np.std(data_per_month[data_per_month['tariff'] == 'ultra']['calls_duration'], ddof=1)\n",
    "\n",
    "print(smart_calls_var)\n",
    "print(ultra_calls_var)\n",
    "\n",
    "print((data_per_month[data_per_month['tariff'] == 'smart']['calls_duration'].mean() - 3 * smart_calls_var), \n",
    "     (data_per_month[data_per_month['tariff'] == 'smart']['calls_duration'].mean() + 3 * smart_calls_var))\n",
    "print((data_per_month[data_per_month['tariff'] == 'ultra']['calls_duration'].mean() - 3 * ultra_calls_var),\n",
    "     (data_per_month[data_per_month['tariff'] == 'ultra']['calls_duration'].mean() + 3 * ultra_calls_var))"
   ]
  },
  {
   "cell_type": "markdown",
   "metadata": {},
   "source": [
    "Построим обычные гистограммы и графики плотности распределения для того, чтобы визуально оценить распределение данных."
   ]
  },
  {
   "cell_type": "code",
   "execution_count": 55,
   "metadata": {
    "scrolled": true
   },
   "outputs": [
    {
     "data": {
      "image/png": "[encoded data removed]",
      "text/plain": [
       "<Figure size 432x288 with 1 Axes>"
      ]
     },
     "metadata": {
      "needs_background": "light"
     },
     "output_type": "display_data"
    }
   ],
   "source": [
    "fig, ax = plt.subplots()\n",
    "\n",
    "plt.hist(data_per_month[data_per_month['tariff'] == 'smart']['calls_duration'], bins=50, \n",
    "           color='g', label='Тариф \"Смарт\"', alpha=0.8)\n",
    "plt.hist(data_per_month[data_per_month['tariff'] == 'ultra']['calls_duration'], bins=50,\n",
    "          color='blue', label='Тариф \"Ультра\"', alpha=0.5)\n",
    "\n",
    "ax.set_title('Продолжительность звонков в месяц')\n",
    "ax.set_xlabel('Продолжительность звонков')\n",
    "ax.set_ylabel('Число пользователей в месяц')\n",
    "plt.legend()\n",
    "plt.show()"
   ]
  },
  {
   "cell_type": "markdown",
   "metadata": {},
   "source": [
    "Данные о средней продолжительности звонков получают наглядное подтверждение и в целом видно, что в большинство месяцев пользователи тарифа \"Смарт\" проводят за разговорами по телефону от 250 до 600 минут - то есть, примерно от 4 до 10 часов. Распределение похоже по форме на нормальное.\n",
    "\n",
    "При этом на обоих тарифах наблюдаем всплеск на значениях около 0 минут: вероятно, ряд абонентов редко пользуются звонками. Распределение продолжительности звонков в месяц у абонентов \"Ультра\" выглядит очень уплощённым."
   ]
  },
  {
   "cell_type": "code",
   "execution_count": 56,
   "metadata": {
    "scrolled": true
   },
   "outputs": [
    {
     "data": {
      "image/png": "[encoded data removed]",
      "text/plain": [
       "<Figure size 432x288 with 1 Axes>"
      ]
     },
     "metadata": {
      "needs_background": "light"
     },
     "output_type": "display_data"
    }
   ],
   "source": [
    "fig, ax = plt.subplots()\n",
    "\n",
    "sn.kdeplot(data_per_month[data_per_month['tariff'] == 'smart']['calls_duration'], \n",
    "           color='g', label='Тариф \"Смарт\"', shade=True)\n",
    "sn.kdeplot(data_per_month[data_per_month['tariff'] == 'ultra']['calls_duration'],\n",
    "          label='Тариф \"Ультра\"')\n",
    "\n",
    "ax.set_title('Плотность распределения длительности звонков')\n",
    "ax.set_xlabel('Длительность звонков')\n",
    "ax.set_ylabel('Плотность распределения')\n",
    "plt.legend()\n",
    "plt.show()"
   ]
  },
  {
   "cell_type": "markdown",
   "metadata": {},
   "source": [
    "Оба распределения по форме напоминают нормальное и демонстрируют, что по продолжительности звонков абоненты двух тарифов заметно отличаются - о том же говорят и другие статистики. "
   ]
  },
  {
   "cell_type": "markdown",
   "metadata": {},
   "source": [
    "Можно сделать следующие **выводы**:\n",
    "* средняя продолжительность разговоров в месяц у абонентов тарифа \"Ультра\" в исследуемой выборке примерно на 100 минут больше продолжительности разговоров у пользователей \"Смарт\". Среди первых много тех, кто активно пользуется возможностью больше разговаривать\n",
    "* Необходимо заметить: множество пользователей тарифа \"Смарт\" превышают количество включённых в тариф минут - а абоненты \"Ультра\" из представленной выборки ни разу не вышли за лимит своего тарифа.\n",
    "* Правда, в обеих группах есть выбросы - результаты на расстоянии больше 3 стандартных отклонений от среднего.\n",
    "* В целом же по форме распределения плотностей можно говорить о том, что дисперсия в группе \"Ультра\" значительно больше."
   ]
  },
  {
   "cell_type": "markdown",
   "metadata": {},
   "source": [
    "### Анализ количества сообщений"
   ]
  },
  {
   "cell_type": "markdown",
   "metadata": {},
   "source": [
    "С учётом того, что пользователи из выборки отправляют в среднем около 45 сообщений в месяц, посмотрим на данные по пользователям каждого из тарифов."
   ]
  },
  {
   "cell_type": "code",
   "execution_count": 57,
   "metadata": {},
   "outputs": [
    {
     "data": {
      "text/plain": [
       "count    2229.000000\n",
       "mean       33.384029\n",
       "std        28.227876\n",
       "min         0.000000\n",
       "25%        10.000000\n",
       "50%        28.000000\n",
       "75%        51.000000\n",
       "max       143.000000\n",
       "Name: messages_number, dtype: float64"
      ]
     },
     "execution_count": 57,
     "metadata": {},
     "output_type": "execute_result"
    }
   ],
   "source": [
    "data_per_month[data_per_month['tariff'] == 'smart']['messages_number'].describe()"
   ]
  },
  {
   "cell_type": "code",
   "execution_count": 58,
   "metadata": {},
   "outputs": [
    {
     "data": {
      "text/plain": [
       "count    985.000000\n",
       "mean      49.363452\n",
       "std       47.804457\n",
       "min        0.000000\n",
       "25%        6.000000\n",
       "50%       38.000000\n",
       "75%       79.000000\n",
       "max      224.000000\n",
       "Name: messages_number, dtype: float64"
      ]
     },
     "execution_count": 58,
     "metadata": {},
     "output_type": "execute_result"
    }
   ],
   "source": [
    "data_per_month[data_per_month['tariff'] == 'ultra']['messages_number'].describe()"
   ]
  },
  {
   "cell_type": "markdown",
   "metadata": {},
   "source": [
    "Кажется, что пользователи \"Ультра\" в среднем отправляют чуть больше смс. Посчитаем дисперсию и стандартное отклонение для каждой группы."
   ]
  },
  {
   "cell_type": "code",
   "execution_count": 59,
   "metadata": {},
   "outputs": [
    {
     "name": "stdout",
     "output_type": "stream",
     "text": [
      "796.8129584480083\n",
      "28.22787555676141\n",
      "2285.2661425446736\n",
      "47.804457350174715\n"
     ]
    }
   ],
   "source": [
    "print(np.var(data_per_month[data_per_month['tariff'] == 'smart']['messages_number'], ddof=1))\n",
    "smart_sms_var = np.sqrt(np.var(data_per_month[data_per_month['tariff'] == 'smart']['messages_number'], ddof=1))\n",
    "print(smart_sms_var)\n",
    "\n",
    "print(np.var(data_per_month[data_per_month['tariff'] == 'ultra']['messages_number'], ddof=1))\n",
    "ultra_sms_var = np.sqrt(np.var(data_per_month[data_per_month['tariff'] == 'ultra']['messages_number'], ddof=1))\n",
    "print(ultra_sms_var)"
   ]
  },
  {
   "cell_type": "markdown",
   "metadata": {},
   "source": [
    "Получается, что - как и в случае с минутами разговоров - количество смс в месяц у обоих групп отличается и у пользователей \"Ультра\" варьирует в более широких пределах.\n",
    "\n",
    "99% пользователей \"Смарт\" отправляют от 0 до 117 смс в месяц, на тарифе \"Ультра\" - от 0 до 192.\n",
    "\n",
    "Интересно посмотреть на визуальное представление этих данных. "
   ]
  },
  {
   "cell_type": "code",
   "execution_count": 60,
   "metadata": {
    "scrolled": true
   },
   "outputs": [
    {
     "data": {
      "image/png": "[encoded data removed]",
      "text/plain": [
       "<Figure size 432x288 with 1 Axes>"
      ]
     },
     "metadata": {
      "needs_background": "light"
     },
     "output_type": "display_data"
    }
   ],
   "source": [
    "fig, ax = plt.subplots()\n",
    "\n",
    "plt.hist(data_per_month[data_per_month['tariff'] == 'smart']['messages_number'], bins=50, \n",
    "           color='orange', label='Тариф \"Смарт\"')\n",
    "plt.hist(data_per_month[data_per_month['tariff'] == 'ultra']['messages_number'], bins=50,\n",
    "          color='blue', label='Тариф \"Ультра\"', alpha=0.6)\n",
    "\n",
    "ax.set_title('Использование текстовых сообщений в месяц')\n",
    "ax.set_xlabel('Количество сообщений')\n",
    "ax.set_ylabel('Число пользователей в месяц')\n",
    "plt.legend()\n",
    "plt.show()"
   ]
  },
  {
   "cell_type": "markdown",
   "metadata": {},
   "source": [
    "Видно, что пользователи обоих тарифов часто либо не пишут сообщений целый месяц, либо отправляют всего несколько смс. Отсюда низкое среднее - при наличии длинного \"хвоста\" выбросов. При этом нельзя говорить о нормальном распределении показателя количества сообщений."
   ]
  },
  {
   "cell_type": "code",
   "execution_count": 61,
   "metadata": {
    "scrolled": true
   },
   "outputs": [
    {
     "data": {
      "image/png": "[encoded data removed]",
      "text/plain": [
       "<Figure size 432x288 with 1 Axes>"
      ]
     },
     "metadata": {
      "needs_background": "light"
     },
     "output_type": "display_data"
    }
   ],
   "source": [
    "fig, ax = plt.subplots()\n",
    "\n",
    "sn.kdeplot(data_per_month[data_per_month['tariff'] == 'smart']['messages_number'], \n",
    "           color='orange', label='Тариф \"Смарт\"', shade=True, alpha=0.7)\n",
    "sn.kdeplot(data_per_month[data_per_month['tariff'] == 'ultra']['messages_number'],\n",
    "          label='Тариф \"Ультра\"')\n",
    "\n",
    "ax.set_title('Плотность распределения количества смс')\n",
    "ax.set_xlabel('Количество смс')\n",
    "ax.set_ylabel('Плотность распределения')\n",
    "plt.legend()\n",
    "plt.show()"
   ]
  },
  {
   "cell_type": "markdown",
   "metadata": {},
   "source": [
    "Помимо эффектов, описанных выше, имеет смысл добавить, что, судя по гистограмме плотностей, большинство абонентов \"smart\" отправляют смс сравнительно немного. Часть абонентов \"ultra\" также тяготеет к отказу от этого средства коммуникации, но любителей текстовых сообщений среди них всё же больше."
   ]
  },
  {
   "cell_type": "markdown",
   "metadata": {},
   "source": [
    "Суммируя, можно сделать следующие **выводы**:\n",
    "* абоненты тарифа \"Смарт\" не постоянно, но довольно часто выходят за пределы отведённого им количества сообщений. С абонентами \"Ультра\" такого почти никогда не случается.\n",
    "* статистики, однако, говорят, что общение с помощью смс у абонентов \"Смарт\" чуть менее популярно, чем у пользователей \"Ультра\". При этом на обоих тарифах есть довольно много пользователей, которые редко отправляют смс."
   ]
  },
  {
   "cell_type": "markdown",
   "metadata": {},
   "source": [
    "### Анализ использования интернета"
   ]
  },
  {
   "cell_type": "markdown",
   "metadata": {},
   "source": [
    "В среднем пользователи в выборке используют в месяц чуть больше 17 Гб мобильного интернета. Узнаем, отличаются ли данные пользователей разных тарифов."
   ]
  },
  {
   "cell_type": "code",
   "execution_count": 62,
   "metadata": {},
   "outputs": [
    {
     "data": {
      "text/plain": [
       "count    2229.000000\n",
       "mean       16.328847\n",
       "std         5.747061\n",
       "min         0.000000\n",
       "25%        13.000000\n",
       "50%        17.000000\n",
       "75%        20.000000\n",
       "max        38.000000\n",
       "Name: gb_used, dtype: float64"
      ]
     },
     "execution_count": 62,
     "metadata": {},
     "output_type": "execute_result"
    }
   ],
   "source": [
    "data_per_month[data_per_month['tariff'] == 'smart']['gb_used'].describe()"
   ]
  },
  {
   "cell_type": "code",
   "execution_count": 63,
   "metadata": {},
   "outputs": [
    {
     "data": {
      "text/plain": [
       "count    985.000000\n",
       "mean      19.494416\n",
       "std        9.853511\n",
       "min        0.000000\n",
       "25%       12.000000\n",
       "50%       19.000000\n",
       "75%       27.000000\n",
       "max       49.000000\n",
       "Name: gb_used, dtype: float64"
      ]
     },
     "execution_count": 63,
     "metadata": {},
     "output_type": "execute_result"
    }
   ],
   "source": [
    "data_per_month[data_per_month['tariff'] == 'ultra']['gb_used'].describe()"
   ]
  },
  {
   "cell_type": "markdown",
   "metadata": {},
   "source": [
    "Представляется, что между средними нет большой разницы. Стандартные отклонения, впрочем, указывают на то, что пользователи тарифа \"Ультра\" используют мобильный интернет более вариативно, кроме того они и в целом используют больше мобильного интернета.\n",
    "\n",
    "Обратим внимание: более половины пользователей \"Смарт\" превышают лимит использования мобильного интернета, заложенный в тариф. Среди пользователей \"Ультра\" есть те, кто также превышает свой лимит в 30 Гб, но их значительно меньше.\n",
    "\n",
    "99% пользователей \"Смарт\" используют не более 33 Гб в месяц (что в 2 раза больше выделенного тарифом), 99% абонентов \"Ультра\" - не более 48 Гб.\n",
    "\n",
    "Изучим дисперсию."
   ]
  },
  {
   "cell_type": "code",
   "execution_count": 64,
   "metadata": {},
   "outputs": [
    {
     "name": "stdout",
     "output_type": "stream",
     "text": [
      "33.02870517811161\n",
      "97.09168626965459\n"
     ]
    }
   ],
   "source": [
    "print(np.var(data_per_month[data_per_month['tariff'] == 'smart']['gb_used'], ddof=1))\n",
    "print(np.var(data_per_month[data_per_month['tariff'] == 'ultra']['gb_used'], ddof=1))"
   ]
  },
  {
   "cell_type": "markdown",
   "metadata": {},
   "source": [
    "Построим гистограммы и гистограммы плотностей."
   ]
  },
  {
   "cell_type": "code",
   "execution_count": 65,
   "metadata": {
    "scrolled": true
   },
   "outputs": [
    {
     "data": {
      "image/png": "[encoded data removed]",
      "text/plain": [
       "<Figure size 432x288 with 1 Axes>"
      ]
     },
     "metadata": {
      "needs_background": "light"
     },
     "output_type": "display_data"
    }
   ],
   "source": [
    "fig, ax = plt.subplots()\n",
    "\n",
    "plt.hist(data_per_month[data_per_month['tariff'] == 'smart']['gb_used'], bins=50, \n",
    "           color='orange', label='Тариф \"Смарт\"')\n",
    "plt.hist(data_per_month[data_per_month['tariff'] == 'ultra']['gb_used'], bins=50,\n",
    "          color='g', label='Тариф \"Ультра\"', alpha=0.5)\n",
    "\n",
    "ax.set_title('Использование мобильного интернета в месяц, ГБ')\n",
    "ax.set_xlabel('Количество Гб')\n",
    "ax.set_ylabel('Число пользователей в месяц')\n",
    "plt.legend()\n",
    "plt.show()"
   ]
  },
  {
   "cell_type": "markdown",
   "metadata": {},
   "source": [
    "На гистограммах отлично видно, что среднее попадает в промежуток от 15 до 20 Гб."
   ]
  },
  {
   "cell_type": "code",
   "execution_count": 66,
   "metadata": {},
   "outputs": [
    {
     "data": {
      "image/png": "[encoded data removed]",
      "text/plain": [
       "<Figure size 432x288 with 1 Axes>"
      ]
     },
     "metadata": {
      "needs_background": "light"
     },
     "output_type": "display_data"
    }
   ],
   "source": [
    "fig, ax = plt.subplots()\n",
    "\n",
    "sn.kdeplot(data_per_month[data_per_month['tariff'] == 'smart']['gb_used'], \n",
    "           color='pink', label='Тариф \"Смарт\"', shade=True, alpha=0.7)\n",
    "sn.kdeplot(data_per_month[data_per_month['tariff'] == 'ultra']['gb_used'],\n",
    "          label='Тариф \"Ультра\"')\n",
    "\n",
    "ax.set_title('Плотность распределения количества использованного трафика')\n",
    "ax.set_xlabel('Количество Гб')\n",
    "ax.set_ylabel('Плотность распределения')\n",
    "plt.legend()\n",
    "plt.show()"
   ]
  },
  {
   "cell_type": "markdown",
   "metadata": {},
   "source": [
    "Действительно, распределение частот для тарифа \"Ультра\" значительно более \"плоское\" - как и предсказывают дисперсия и стандартное отклонение.\n",
    "\n",
    "Сделаем **выводы**:\n",
    "* значимому количеству пользователей на обоих тарифах не хватает \"встроенных\" Гб трафика, но пользователи \"Смарт\" чаще выходят за обозначенный предел - не менее, чем в 50% случаев. \n",
    "* по всей видимости, именно тот факт, что в тариф \"Смарт\" входит меньше Гб мобильного интернета приводит к переплате солидных сумм абонентами этого тарифа (ведь каждый лишний Гб стоит им 200 рублей).\n",
    "* среди пользователей тарифа \"Ультра\" также есть те, кто использует более лимита (30 Гб в месяц). В целом, можно говорить о том, что многие пользователи на обоих тарифах являются активными потребителями трафика."
   ]
  },
  {
   "cell_type": "markdown",
   "metadata": {},
   "source": [
    "## Проверка гипотез"
   ]
  },
  {
   "cell_type": "markdown",
   "metadata": {},
   "source": [
    "### Средняя выручка пользователей тарифов \"Ультра\" и \"Смарт\" различаются"
   ]
  },
  {
   "cell_type": "markdown",
   "metadata": {},
   "source": [
    "Перед нами задача сравнить средние двух генеральных совокупностей по представленным выборкам. Для проверки сформулируем нулевую гипотезу: средняя выручка на обоих тарифах не отличается. Альтернативная гипотеза - выручки различаются. В такой формулировке нам необходимо проверить двустороннюю гипотезу.\n",
    "\n",
    "Посмотрим на основные статистики по столбцу `monthly_cost`, в котором содержатся данные о средней выручке."
   ]
  },
  {
   "cell_type": "code",
   "execution_count": 67,
   "metadata": {
    "scrolled": false
   },
   "outputs": [
    {
     "data": {
      "text/plain": [
       "count    2229.000000\n",
       "mean     1289.973531\n",
       "std       818.404367\n",
       "min       550.000000\n",
       "25%       550.000000\n",
       "50%      1023.000000\n",
       "75%      1750.000000\n",
       "max      6770.000000\n",
       "Name: monthly_cost, dtype: float64"
      ]
     },
     "execution_count": 67,
     "metadata": {},
     "output_type": "execute_result"
    }
   ],
   "source": [
    "data_per_month[data_per_month['tariff'] == 'smart']['monthly_cost'].describe()"
   ]
  },
  {
   "cell_type": "code",
   "execution_count": 68,
   "metadata": {
    "scrolled": false
   },
   "outputs": [
    {
     "data": {
      "text/plain": [
       "count     985.000000\n",
       "mean     2070.152284\n",
       "std       376.187114\n",
       "min      1950.000000\n",
       "25%      1950.000000\n",
       "50%      1950.000000\n",
       "75%      1950.000000\n",
       "max      4800.000000\n",
       "Name: monthly_cost, dtype: float64"
      ]
     },
     "execution_count": 68,
     "metadata": {},
     "output_type": "execute_result"
    }
   ],
   "source": [
    "data_per_month[data_per_month['tariff'] == 'ultra']['monthly_cost'].describe()"
   ]
  },
  {
   "cell_type": "markdown",
   "metadata": {},
   "source": [
    "Проверим гипотезу с помощью метода проверки равенства средних двух генеральных совокупностей по выборкам. При этом учтём, что дисперсии генеральных совокупностей, по всей видимости, не равны. Примем критический уровень статистической значимости равным 5%."
   ]
  },
  {
   "cell_type": "code",
   "execution_count": 69,
   "metadata": {
    "scrolled": true
   },
   "outputs": [
    {
     "name": "stdout",
     "output_type": "stream",
     "text": [
      "4.2606313931076085e-250\n",
      "Отвергаем нулевую гипотезу\n"
     ]
    }
   ],
   "source": [
    "alpha = 0.05\n",
    "\n",
    "# в выборке есть пропущенные значения, поэтому установим соответствующий параметр методу\n",
    "results = st.ttest_ind(\n",
    "    data_per_month[data_per_month['tariff'] == 'smart']['monthly_cost'], \n",
    "    data_per_month[data_per_month['tariff'] == 'ultra']['monthly_cost'], equal_var=False)\n",
    "\n",
    "print(results.pvalue)\n",
    "\n",
    "if results.pvalue < alpha:\n",
    "    print(\"Отвергаем нулевую гипотезу\")\n",
    "else:\n",
    "    print(\"Не получилось отвергнуть нулевую гипотезу\")"
   ]
  },
  {
   "cell_type": "markdown",
   "metadata": {},
   "source": [
    "Поскольку нулевая гипотеза о равенстве средних была отвергнута, можем принять гипотезу о том, что **средняя ежемесячная выручка от пользователей двух тарифов различается**."
   ]
  },
  {
   "cell_type": "markdown",
   "metadata": {},
   "source": [
    "### Cредняя выручка пользователей из Москвы отличается от выручки пользователей из других регионов"
   ]
  },
  {
   "cell_type": "markdown",
   "metadata": {},
   "source": [
    "Нулевая гипотеза в этом случае также будет состоять в том, что выручка оператора от пользователей из Москвы равна выручке от пользователей из других регионов. Альтернативная гипотеза - выручки не равны. \n",
    "\n",
    "Сначала посмотрим на статистики."
   ]
  },
  {
   "cell_type": "code",
   "execution_count": 70,
   "metadata": {
    "scrolled": true
   },
   "outputs": [
    {
     "data": {
      "text/plain": [
       "count     611.000000\n",
       "mean     1546.713584\n",
       "std       752.088071\n",
       "min       550.000000\n",
       "25%       780.500000\n",
       "50%      1750.000000\n",
       "75%      1950.000000\n",
       "max      5321.000000\n",
       "Name: monthly_cost, dtype: float64"
      ]
     },
     "execution_count": 70,
     "metadata": {},
     "output_type": "execute_result"
    }
   ],
   "source": [
    "data_per_month[data_per_month['city'] == 'Москва']['monthly_cost'].describe()"
   ]
  },
  {
   "cell_type": "code",
   "execution_count": 71,
   "metadata": {
    "scrolled": true
   },
   "outputs": [
    {
     "data": {
      "text/plain": [
       "count    2603.000000\n",
       "mean     1524.936227\n",
       "std       808.787752\n",
       "min       550.000000\n",
       "25%       750.000000\n",
       "50%      1583.000000\n",
       "75%      1950.000000\n",
       "max      6770.000000\n",
       "Name: monthly_cost, dtype: float64"
      ]
     },
     "execution_count": 71,
     "metadata": {},
     "output_type": "execute_result"
    }
   ],
   "source": [
    "data_per_month[data_per_month['city'] != 'Москва']['monthly_cost'].describe()"
   ]
  },
  {
   "cell_type": "markdown",
   "metadata": {},
   "source": [
    "На первый взгляд кажется, что средние находятся близко друг к другу. Проверим гипотезу, на этот раз, полагая, что дисперсии генеральных совокупностей примерно равны. Пусть критический уровень статистической значимости остаётся равным 5%."
   ]
  },
  {
   "cell_type": "code",
   "execution_count": 72,
   "metadata": {
    "scrolled": true
   },
   "outputs": [
    {
     "name": "stdout",
     "output_type": "stream",
     "text": [
      "0.5440152911670224\n",
      "Не получилось отвергнуть нулевую гипотезу\n"
     ]
    }
   ],
   "source": [
    "results = st.ttest_ind(\n",
    "    data_per_month[data_per_month['city'] == 'Москва']['monthly_cost'], \n",
    "    data_per_month[data_per_month['city'] != 'Москва']['monthly_cost'])\n",
    "\n",
    "print(results.pvalue)\n",
    "\n",
    "if results.pvalue < alpha:\n",
    "    print(\"Отвергаем нулевую гипотезу\")\n",
    "else:\n",
    "    print(\"Не получилось отвергнуть нулевую гипотезу\")"
   ]
  },
  {
   "cell_type": "markdown",
   "metadata": {},
   "source": [
    "Высокое p-значение в данном случае говорит о том, что весьма маловероятно случайно получить результат, который опроверг бы гипотезу о равенстве двух средних в генеральных совокупностях - напротив, скорее всего, исследования других выборок из генеральной совокупности также подтвердят нулевую гипотезу."
   ]
  },
  {
   "cell_type": "code",
   "execution_count": 73,
   "metadata": {},
   "outputs": [
    {
     "name": "stdout",
     "output_type": "stream",
     "text": [
      "p-значение: 0.1912450522572209\n",
      "Не получилось отвергнуть нулевую гипотезу\n"
     ]
    }
   ],
   "source": [
    "# Приведены два датасета: сумма покупок, совершённых за месяц посетителями ...\n",
    "\n",
    "sample_1 = [3071, 3636, 3454, 3151, 2185, 3259, 1727, 2263, 2015,\n",
    "2582, 4815, 633, 3186, 887, 2028, 3589, 2564, 1422, 1785,\n",
    "3180, 1770, 2716, 2546, 1848, 4644, 3134, 475, 2686,\n",
    "1838, 3352]\n",
    "sample_2 = [1211, 1228, 2157, 3699, 600, 1898, 1688, 1420, 5048, 3007,\n",
    "509, 3777, 5583, 3949, 121, 1674, 4300, 1338, 3066,\n",
    "3562, 1010, 2311, 462, 863, 2021, 528, 1849, 255,\n",
    "1740, 2596]\n",
    "alpha = .05 # критический уровень статистической значимости\n",
    "# если p-value окажется меньше него - отвергнем гипотезу\n",
    "results = st.ttest_ind(\n",
    "sample_1,\n",
    "sample_2)\n",
    "print('p-значение:', results.pvalue)\n",
    "if (results.pvalue < alpha):\n",
    "    print(\"Отвергаем нулевую гипотезу\")\n",
    "else:\n",
    "\n",
    "    print(\"Не получилось отвергнуть нулевую гипотезу\")"
   ]
  },
  {
   "cell_type": "markdown",
   "metadata": {},
   "source": [
    "Таким образом, гипотеза о равенстве средних выручек в Москве и других регионах остаётся не опровергнутой."
   ]
  },
  {
   "cell_type": "markdown",
   "metadata": {},
   "source": [
    "## Выводы"
   ]
  },
  {
   "cell_type": "markdown",
   "metadata": {},
   "source": [
    "* Проведённый анализ показывает, что абоненты тарифа \"Ультра\" в среднем в пересчёте на одного клиента приносят мобильному оператору больше выручки. Они регулярно используют меньше минут связи и меньше сообщений, чем это предусмотрено тарифным планом - что также может быть выгодно.\n",
    "* Вместе с тем, абоненты более дорогого тарифа в среднем больше разговаривают по телефону (на 100 минут в месяц, чем пользователи \"Смарт\"), отправляют больше смс (примерно на 16 штук больше, чем абоненты \"Смарт\".\n",
    "* В год абоненты тарифа \"Ультра\" из выборки принесли оператору чуть более 2 млн рублей, а абоненты \"Смарт\" - 2,8 млн рублей, тогда как последних в 2,5 раза больше.\n",
    "* Абоненты тарифа \"Ультра\" отличаются также весьма активным использованием мобильного интернета: фактически, это единственный вид связи, за который около 1/5 из них приходится переплачивать сверх абонентской платы. В месяц они используют в среднем на 3 Гб больше.\n",
    "* Что касается тарифа \"Смарт\", то пользователей очевидно привлекает низкая абонентская плата, но многим приходится переплачивать - в особенности, за дополнительные Гб интернета. Около 50% абонентов на этом тарифе расходуют больше заложенных в тариф 15 Гб. \n",
    "* На обоих тарифах есть абоненты, которые сравнительно немного используют звонки и сообщения. Целесообразно провести дальнейший анализ: для каких имнно абонентов (по возрасту, возможно, по регионам) это характерно.\n",
    "* Статистический анализ показывает, что есть основания предполагать - абоненты из Москвы и других городов тратят на мобильную связь похожие суммы.\n",
    "* Суммируя изложенное выше, одной из маркетинговых стратегий могло бы стать небольшое снижение абонентской платы на тарифе \"Ультра\" (что привлечёт на тариф более широкую аудиторию), с одновременным небольшим урезанием встроенных пакетов звонков, смс и Гб (что принесёт больше выручки)."
   ]
  }
 ],
 "metadata": {
  "ExecuteTimeLog": [
   {
    "duration": 35,
    "start_time": "2022-05-22T11:40:00.420Z"
   },
   {
    "duration": 77,
    "start_time": "2022-05-22T11:46:21.158Z"
   },
   {
    "duration": 7,
    "start_time": "2022-05-22T11:47:35.967Z"
   },
   {
    "duration": 5,
    "start_time": "2022-05-22T11:51:04.227Z"
   },
   {
    "duration": 6,
    "start_time": "2022-05-22T11:51:40.768Z"
   },
   {
    "duration": 6,
    "start_time": "2022-05-22T11:51:54.386Z"
   },
   {
    "duration": 5,
    "start_time": "2022-05-22T11:53:01.209Z"
   },
   {
    "duration": 801,
    "start_time": "2022-05-22T11:53:52.906Z"
   },
   {
    "duration": 122,
    "start_time": "2022-05-22T11:54:17.278Z"
   },
   {
    "duration": 6,
    "start_time": "2022-05-22T11:56:09.569Z"
   },
   {
    "duration": 6,
    "start_time": "2022-05-22T11:56:51.269Z"
   },
   {
    "duration": 6,
    "start_time": "2022-05-22T11:58:24.678Z"
   },
   {
    "duration": 14,
    "start_time": "2022-05-22T12:04:24.486Z"
   },
   {
    "duration": 17,
    "start_time": "2022-05-22T12:05:00.873Z"
   },
   {
    "duration": 16,
    "start_time": "2022-05-22T12:05:35.965Z"
   },
   {
    "duration": 15,
    "start_time": "2022-05-22T12:05:46.465Z"
   },
   {
    "duration": 35,
    "start_time": "2022-05-22T12:05:53.664Z"
   },
   {
    "duration": 6,
    "start_time": "2022-05-22T12:05:53.701Z"
   },
   {
    "duration": 129,
    "start_time": "2022-05-22T12:05:53.708Z"
   },
   {
    "duration": 5,
    "start_time": "2022-05-22T12:05:53.839Z"
   },
   {
    "duration": 12,
    "start_time": "2022-05-22T12:05:53.846Z"
   },
   {
    "duration": 15,
    "start_time": "2022-05-22T12:05:53.859Z"
   },
   {
    "duration": 379,
    "start_time": "2022-05-22T12:09:10.717Z"
   },
   {
    "duration": 12,
    "start_time": "2022-05-22T12:11:43.079Z"
   },
   {
    "duration": 229,
    "start_time": "2022-05-23T05:54:03.813Z"
   },
   {
    "duration": 114,
    "start_time": "2022-05-23T05:55:50.668Z"
   },
   {
    "duration": 18,
    "start_time": "2022-05-23T06:01:03.715Z"
   },
   {
    "duration": 79,
    "start_time": "2022-05-23T06:01:12.483Z"
   },
   {
    "duration": 8,
    "start_time": "2022-05-23T06:01:12.565Z"
   },
   {
    "duration": 178,
    "start_time": "2022-05-23T06:01:12.576Z"
   },
   {
    "duration": 5,
    "start_time": "2022-05-23T06:01:12.756Z"
   },
   {
    "duration": 18,
    "start_time": "2022-05-23T06:01:12.762Z"
   },
   {
    "duration": 22,
    "start_time": "2022-05-23T06:01:12.782Z"
   },
   {
    "duration": 22,
    "start_time": "2022-05-23T06:01:12.806Z"
   },
   {
    "duration": 193,
    "start_time": "2022-05-23T06:01:12.830Z"
   },
   {
    "duration": 112,
    "start_time": "2022-05-23T06:01:13.025Z"
   },
   {
    "duration": 40,
    "start_time": "2022-05-23T06:01:13.139Z"
   },
   {
    "duration": 32,
    "start_time": "2022-05-23T06:01:37.707Z"
   },
   {
    "duration": 144,
    "start_time": "2022-05-23T06:03:51.706Z"
   },
   {
    "duration": 21,
    "start_time": "2022-05-23T06:12:58.294Z"
   },
   {
    "duration": 75,
    "start_time": "2022-05-23T06:13:21.514Z"
   },
   {
    "duration": 22,
    "start_time": "2022-05-23T06:14:48.373Z"
   },
   {
    "duration": 2,
    "start_time": "2022-05-23T06:18:23.564Z"
   },
   {
    "duration": 328,
    "start_time": "2022-05-23T06:21:34.861Z"
   },
   {
    "duration": 54,
    "start_time": "2022-05-23T06:22:05.910Z"
   },
   {
    "duration": 63,
    "start_time": "2022-05-23T06:26:33.771Z"
   },
   {
    "duration": 31,
    "start_time": "2022-05-23T06:29:16.152Z"
   },
   {
    "duration": 2,
    "start_time": "2022-05-23T06:34:59.739Z"
   },
   {
    "duration": 43,
    "start_time": "2022-05-23T06:35:53.297Z"
   },
   {
    "duration": 23,
    "start_time": "2022-05-23T06:36:05.389Z"
   },
   {
    "duration": 27,
    "start_time": "2022-05-23T06:37:49.011Z"
   },
   {
    "duration": 22,
    "start_time": "2022-05-23T06:38:04.611Z"
   },
   {
    "duration": 3,
    "start_time": "2022-05-23T06:48:11.405Z"
   },
   {
    "duration": 10,
    "start_time": "2022-05-23T06:55:24.230Z"
   },
   {
    "duration": 12,
    "start_time": "2022-05-23T06:57:08.161Z"
   },
   {
    "duration": 23,
    "start_time": "2022-05-23T07:07:19.838Z"
   },
   {
    "duration": 17,
    "start_time": "2022-05-23T07:08:13.619Z"
   },
   {
    "duration": 37,
    "start_time": "2022-05-23T07:13:09.320Z"
   },
   {
    "duration": 42,
    "start_time": "2022-05-23T07:25:27.069Z"
   },
   {
    "duration": 52,
    "start_time": "2022-05-23T07:26:57.219Z"
   },
   {
    "duration": 58,
    "start_time": "2022-05-23T07:27:10.081Z"
   },
   {
    "duration": 32,
    "start_time": "2022-05-23T07:29:17.462Z"
   },
   {
    "duration": 22,
    "start_time": "2022-05-23T07:29:41.672Z"
   },
   {
    "duration": 25,
    "start_time": "2022-05-23T08:06:18.103Z"
   },
   {
    "duration": 25,
    "start_time": "2022-05-23T08:07:17.295Z"
   },
   {
    "duration": 32,
    "start_time": "2022-05-23T08:07:29.356Z"
   },
   {
    "duration": 11,
    "start_time": "2022-05-23T09:10:07.427Z"
   },
   {
    "duration": 12,
    "start_time": "2022-05-23T09:10:19.968Z"
   },
   {
    "duration": 28,
    "start_time": "2022-05-23T09:10:43.398Z"
   },
   {
    "duration": 46,
    "start_time": "2022-05-23T09:11:17.988Z"
   },
   {
    "duration": 44,
    "start_time": "2022-05-23T09:12:02.759Z"
   },
   {
    "duration": 28,
    "start_time": "2022-05-23T09:26:58.397Z"
   },
   {
    "duration": 303,
    "start_time": "2022-05-23T09:29:55.549Z"
   },
   {
    "duration": 26,
    "start_time": "2022-05-23T09:30:17.219Z"
   },
   {
    "duration": 20,
    "start_time": "2022-05-23T09:38:52.167Z"
   },
   {
    "duration": 57,
    "start_time": "2022-05-23T09:39:11.377Z"
   },
   {
    "duration": 81,
    "start_time": "2022-05-23T09:41:18.946Z"
   },
   {
    "duration": 74,
    "start_time": "2022-05-23T09:41:35.339Z"
   },
   {
    "duration": 59,
    "start_time": "2022-05-23T09:45:06.071Z"
   },
   {
    "duration": 61,
    "start_time": "2022-05-23T09:45:22.763Z"
   },
   {
    "duration": 8,
    "start_time": "2022-05-23T09:58:00.705Z"
   },
   {
    "duration": 22,
    "start_time": "2022-05-23T09:58:35.307Z"
   },
   {
    "duration": 17,
    "start_time": "2022-05-23T09:58:59.605Z"
   },
   {
    "duration": 41,
    "start_time": "2022-05-23T09:59:55.547Z"
   },
   {
    "duration": 23,
    "start_time": "2022-05-23T10:04:09.318Z"
   },
   {
    "duration": 15,
    "start_time": "2022-05-23T10:05:21.508Z"
   },
   {
    "duration": 14,
    "start_time": "2022-05-23T10:05:37.851Z"
   },
   {
    "duration": 12,
    "start_time": "2022-05-23T10:11:23.263Z"
   },
   {
    "duration": 15,
    "start_time": "2022-05-23T10:12:24.073Z"
   },
   {
    "duration": 16,
    "start_time": "2022-05-23T10:18:11.876Z"
   },
   {
    "duration": 17,
    "start_time": "2022-05-23T10:19:40.467Z"
   },
   {
    "duration": 16,
    "start_time": "2022-05-23T10:20:36.290Z"
   },
   {
    "duration": 17,
    "start_time": "2022-05-23T10:20:43.538Z"
   },
   {
    "duration": 38,
    "start_time": "2022-05-23T10:22:08.685Z"
   },
   {
    "duration": 6,
    "start_time": "2022-05-23T10:22:08.725Z"
   },
   {
    "duration": 146,
    "start_time": "2022-05-23T10:22:08.733Z"
   },
   {
    "duration": 4,
    "start_time": "2022-05-23T10:22:08.882Z"
   },
   {
    "duration": 8,
    "start_time": "2022-05-23T10:22:08.888Z"
   },
   {
    "duration": 39,
    "start_time": "2022-05-23T10:22:08.898Z"
   },
   {
    "duration": 24,
    "start_time": "2022-05-23T10:22:08.938Z"
   },
   {
    "duration": 191,
    "start_time": "2022-05-23T10:22:08.964Z"
   },
   {
    "duration": 114,
    "start_time": "2022-05-23T10:22:09.157Z"
   },
   {
    "duration": 44,
    "start_time": "2022-05-23T10:22:09.274Z"
   },
   {
    "duration": 119,
    "start_time": "2022-05-23T10:22:09.320Z"
   },
   {
    "duration": 53,
    "start_time": "2022-05-23T10:22:09.441Z"
   },
   {
    "duration": 24,
    "start_time": "2022-05-23T10:22:09.496Z"
   },
   {
    "duration": 174,
    "start_time": "2022-05-23T10:22:09.522Z"
   },
   {
    "duration": 75,
    "start_time": "2022-05-23T10:22:09.697Z"
   },
   {
    "duration": 27,
    "start_time": "2022-05-23T10:22:09.774Z"
   },
   {
    "duration": 21,
    "start_time": "2022-05-23T10:22:09.803Z"
   },
   {
    "duration": 34,
    "start_time": "2022-05-23T10:22:09.826Z"
   },
   {
    "duration": 42,
    "start_time": "2022-05-23T10:22:09.862Z"
   },
   {
    "duration": 94,
    "start_time": "2022-05-23T10:22:09.906Z"
   },
   {
    "duration": 19,
    "start_time": "2022-05-23T10:22:10.003Z"
   },
   {
    "duration": 39,
    "start_time": "2022-05-23T10:22:10.024Z"
   },
   {
    "duration": 28,
    "start_time": "2022-05-23T10:22:10.065Z"
   },
   {
    "duration": 34,
    "start_time": "2022-05-23T10:22:10.096Z"
   },
   {
    "duration": 27,
    "start_time": "2022-05-23T10:22:10.152Z"
   },
   {
    "duration": 36,
    "start_time": "2022-05-23T10:22:10.181Z"
   },
   {
    "duration": 59,
    "start_time": "2022-05-23T10:26:48.562Z"
   },
   {
    "duration": 23,
    "start_time": "2022-05-23T10:29:04.504Z"
   },
   {
    "duration": 31,
    "start_time": "2022-05-23T10:29:10.515Z"
   },
   {
    "duration": 19,
    "start_time": "2022-05-23T10:48:37.717Z"
   },
   {
    "duration": 532,
    "start_time": "2022-05-23T10:49:23.236Z"
   },
   {
    "duration": 36,
    "start_time": "2022-05-23T10:49:41.628Z"
   },
   {
    "duration": 5,
    "start_time": "2022-05-23T10:49:41.666Z"
   },
   {
    "duration": 140,
    "start_time": "2022-05-23T10:49:41.673Z"
   },
   {
    "duration": 5,
    "start_time": "2022-05-23T10:49:41.815Z"
   },
   {
    "duration": 9,
    "start_time": "2022-05-23T10:49:41.821Z"
   },
   {
    "duration": 29,
    "start_time": "2022-05-23T10:49:41.831Z"
   },
   {
    "duration": 13,
    "start_time": "2022-05-23T10:49:41.861Z"
   },
   {
    "duration": 177,
    "start_time": "2022-05-23T10:49:41.875Z"
   },
   {
    "duration": 101,
    "start_time": "2022-05-23T10:49:42.053Z"
   },
   {
    "duration": 34,
    "start_time": "2022-05-23T10:49:42.156Z"
   },
   {
    "duration": 118,
    "start_time": "2022-05-23T10:49:42.191Z"
   },
   {
    "duration": 57,
    "start_time": "2022-05-23T10:49:42.311Z"
   },
   {
    "duration": 21,
    "start_time": "2022-05-23T10:49:42.370Z"
   },
   {
    "duration": 167,
    "start_time": "2022-05-23T10:49:42.392Z"
   },
   {
    "duration": 74,
    "start_time": "2022-05-23T10:49:42.561Z"
   },
   {
    "duration": 41,
    "start_time": "2022-05-23T10:49:42.637Z"
   },
   {
    "duration": 16,
    "start_time": "2022-05-23T10:49:42.680Z"
   },
   {
    "duration": 24,
    "start_time": "2022-05-23T10:49:42.698Z"
   },
   {
    "duration": 39,
    "start_time": "2022-05-23T10:49:42.723Z"
   },
   {
    "duration": 38,
    "start_time": "2022-05-23T10:49:42.763Z"
   },
   {
    "duration": 79,
    "start_time": "2022-05-23T10:49:42.802Z"
   },
   {
    "duration": 15,
    "start_time": "2022-05-23T10:49:42.883Z"
   },
   {
    "duration": 13,
    "start_time": "2022-05-23T10:49:42.899Z"
   },
   {
    "duration": 47,
    "start_time": "2022-05-23T10:49:42.914Z"
   },
   {
    "duration": 33,
    "start_time": "2022-05-23T10:49:42.964Z"
   },
   {
    "duration": 15,
    "start_time": "2022-05-23T10:49:42.999Z"
   },
   {
    "duration": 47,
    "start_time": "2022-05-23T10:49:43.015Z"
   },
   {
    "duration": 31,
    "start_time": "2022-05-23T10:49:43.065Z"
   },
   {
    "duration": 23,
    "start_time": "2022-05-23T10:49:43.098Z"
   },
   {
    "duration": 36,
    "start_time": "2022-05-23T10:54:22.333Z"
   },
   {
    "duration": 5,
    "start_time": "2022-05-23T10:54:22.372Z"
   },
   {
    "duration": 168,
    "start_time": "2022-05-23T10:54:22.379Z"
   },
   {
    "duration": 6,
    "start_time": "2022-05-23T10:54:22.553Z"
   },
   {
    "duration": 23,
    "start_time": "2022-05-23T10:54:22.560Z"
   },
   {
    "duration": 30,
    "start_time": "2022-05-23T10:54:22.585Z"
   },
   {
    "duration": 36,
    "start_time": "2022-05-23T10:54:22.617Z"
   },
   {
    "duration": 178,
    "start_time": "2022-05-23T10:54:22.655Z"
   },
   {
    "duration": 95,
    "start_time": "2022-05-23T10:54:22.835Z"
   },
   {
    "duration": 38,
    "start_time": "2022-05-23T10:54:22.939Z"
   },
   {
    "duration": 110,
    "start_time": "2022-05-23T10:54:22.979Z"
   },
   {
    "duration": 62,
    "start_time": "2022-05-23T10:54:23.090Z"
   },
   {
    "duration": 22,
    "start_time": "2022-05-23T10:54:23.154Z"
   },
   {
    "duration": 154,
    "start_time": "2022-05-23T10:54:23.178Z"
   },
   {
    "duration": 76,
    "start_time": "2022-05-23T10:54:23.334Z"
   },
   {
    "duration": 44,
    "start_time": "2022-05-23T10:54:23.412Z"
   },
   {
    "duration": 27,
    "start_time": "2022-05-23T10:54:23.457Z"
   },
   {
    "duration": 19,
    "start_time": "2022-05-23T10:54:23.486Z"
   },
   {
    "duration": 54,
    "start_time": "2022-05-23T10:54:23.507Z"
   },
   {
    "duration": 54,
    "start_time": "2022-05-23T10:54:23.563Z"
   },
   {
    "duration": 47,
    "start_time": "2022-05-23T10:54:23.619Z"
   },
   {
    "duration": 27,
    "start_time": "2022-05-23T10:54:23.668Z"
   },
   {
    "duration": 38,
    "start_time": "2022-05-23T10:54:23.698Z"
   },
   {
    "duration": 40,
    "start_time": "2022-05-23T10:54:23.738Z"
   },
   {
    "duration": 19,
    "start_time": "2022-05-23T10:54:23.781Z"
   },
   {
    "duration": 18,
    "start_time": "2022-05-23T10:54:23.802Z"
   },
   {
    "duration": 55,
    "start_time": "2022-05-23T10:54:23.821Z"
   },
   {
    "duration": 29,
    "start_time": "2022-05-23T10:57:05.292Z"
   },
   {
    "duration": 22,
    "start_time": "2022-05-23T10:57:31.352Z"
   },
   {
    "duration": 20,
    "start_time": "2022-05-23T11:07:07.218Z"
   },
   {
    "duration": 11,
    "start_time": "2022-05-23T11:08:04.380Z"
   },
   {
    "duration": 10,
    "start_time": "2022-05-23T11:08:28.131Z"
   },
   {
    "duration": 35,
    "start_time": "2022-05-23T11:08:44.304Z"
   },
   {
    "duration": 6,
    "start_time": "2022-05-23T11:08:44.342Z"
   },
   {
    "duration": 124,
    "start_time": "2022-05-23T11:08:44.349Z"
   },
   {
    "duration": 6,
    "start_time": "2022-05-23T11:08:44.475Z"
   },
   {
    "duration": 11,
    "start_time": "2022-05-23T11:08:44.483Z"
   },
   {
    "duration": 16,
    "start_time": "2022-05-23T11:08:44.496Z"
   },
   {
    "duration": 40,
    "start_time": "2022-05-23T11:08:44.514Z"
   },
   {
    "duration": 170,
    "start_time": "2022-05-23T11:08:44.556Z"
   },
   {
    "duration": 107,
    "start_time": "2022-05-23T11:08:44.728Z"
   },
   {
    "duration": 37,
    "start_time": "2022-05-23T11:08:44.839Z"
   },
   {
    "duration": 117,
    "start_time": "2022-05-23T11:08:44.878Z"
   },
   {
    "duration": 47,
    "start_time": "2022-05-23T11:08:44.997Z"
   },
   {
    "duration": 22,
    "start_time": "2022-05-23T11:08:45.051Z"
   },
   {
    "duration": 161,
    "start_time": "2022-05-23T11:08:45.074Z"
   },
   {
    "duration": 95,
    "start_time": "2022-05-23T11:08:45.237Z"
   },
   {
    "duration": 38,
    "start_time": "2022-05-23T11:08:45.334Z"
   },
   {
    "duration": 29,
    "start_time": "2022-05-23T11:08:45.374Z"
   },
   {
    "duration": 21,
    "start_time": "2022-05-23T11:08:45.405Z"
   },
   {
    "duration": 58,
    "start_time": "2022-05-23T11:08:45.429Z"
   },
   {
    "duration": 72,
    "start_time": "2022-05-23T11:08:45.488Z"
   },
   {
    "duration": 14,
    "start_time": "2022-05-23T11:08:45.562Z"
   },
   {
    "duration": 13,
    "start_time": "2022-05-23T11:08:45.578Z"
   },
   {
    "duration": 28,
    "start_time": "2022-05-23T11:08:45.592Z"
   },
   {
    "duration": 55,
    "start_time": "2022-05-23T11:08:45.622Z"
   },
   {
    "duration": 16,
    "start_time": "2022-05-23T11:08:45.678Z"
   },
   {
    "duration": 16,
    "start_time": "2022-05-23T11:08:45.696Z"
   },
   {
    "duration": 59,
    "start_time": "2022-05-23T11:08:45.714Z"
   },
   {
    "duration": 27,
    "start_time": "2022-05-23T11:08:45.776Z"
   },
   {
    "duration": 11,
    "start_time": "2022-05-23T11:08:45.805Z"
   },
   {
    "duration": 12,
    "start_time": "2022-05-23T11:13:32.433Z"
   },
   {
    "duration": 22,
    "start_time": "2022-05-23T11:16:29.394Z"
   },
   {
    "duration": 27,
    "start_time": "2022-05-23T11:29:06.433Z"
   },
   {
    "duration": 31,
    "start_time": "2022-05-23T11:29:53.203Z"
   },
   {
    "duration": 23,
    "start_time": "2022-05-23T11:30:52.675Z"
   },
   {
    "duration": 39,
    "start_time": "2022-05-23T11:33:06.153Z"
   },
   {
    "duration": 10,
    "start_time": "2022-05-23T11:33:12.923Z"
   },
   {
    "duration": 15,
    "start_time": "2022-05-23T11:33:28.775Z"
   },
   {
    "duration": 26,
    "start_time": "2022-05-23T11:36:26.454Z"
   },
   {
    "duration": 36,
    "start_time": "2022-05-23T11:47:24.824Z"
   },
   {
    "duration": 37,
    "start_time": "2022-05-23T11:47:50.036Z"
   },
   {
    "duration": 6,
    "start_time": "2022-05-23T11:47:50.075Z"
   },
   {
    "duration": 176,
    "start_time": "2022-05-23T11:47:50.083Z"
   },
   {
    "duration": 5,
    "start_time": "2022-05-23T11:47:50.261Z"
   },
   {
    "duration": 11,
    "start_time": "2022-05-23T11:47:50.268Z"
   },
   {
    "duration": 23,
    "start_time": "2022-05-23T11:47:50.282Z"
   },
   {
    "duration": 15,
    "start_time": "2022-05-23T11:47:50.307Z"
   },
   {
    "duration": 204,
    "start_time": "2022-05-23T11:47:50.353Z"
   },
   {
    "duration": 121,
    "start_time": "2022-05-23T11:47:50.560Z"
   },
   {
    "duration": 35,
    "start_time": "2022-05-23T11:47:50.684Z"
   },
   {
    "duration": 115,
    "start_time": "2022-05-23T11:47:50.720Z"
   },
   {
    "duration": 59,
    "start_time": "2022-05-23T11:47:50.837Z"
   },
   {
    "duration": 23,
    "start_time": "2022-05-23T11:47:50.898Z"
   },
   {
    "duration": 168,
    "start_time": "2022-05-23T11:47:50.923Z"
   },
   {
    "duration": 71,
    "start_time": "2022-05-23T11:47:51.093Z"
   },
   {
    "duration": 26,
    "start_time": "2022-05-23T11:47:51.166Z"
   },
   {
    "duration": 24,
    "start_time": "2022-05-23T11:47:51.194Z"
   },
   {
    "duration": 35,
    "start_time": "2022-05-23T11:47:51.220Z"
   },
   {
    "duration": 39,
    "start_time": "2022-05-23T11:47:51.257Z"
   },
   {
    "duration": 69,
    "start_time": "2022-05-23T11:47:51.299Z"
   },
   {
    "duration": 16,
    "start_time": "2022-05-23T11:47:51.370Z"
   },
   {
    "duration": 14,
    "start_time": "2022-05-23T11:47:51.388Z"
   },
   {
    "duration": 54,
    "start_time": "2022-05-23T11:47:51.404Z"
   },
   {
    "duration": 29,
    "start_time": "2022-05-23T11:47:51.460Z"
   },
   {
    "duration": 16,
    "start_time": "2022-05-23T11:47:51.491Z"
   },
   {
    "duration": 43,
    "start_time": "2022-05-23T11:47:51.509Z"
   },
   {
    "duration": 44,
    "start_time": "2022-05-23T11:47:51.554Z"
   },
   {
    "duration": 24,
    "start_time": "2022-05-23T11:47:51.601Z"
   },
   {
    "duration": 30,
    "start_time": "2022-05-23T11:47:51.627Z"
   },
   {
    "duration": 23,
    "start_time": "2022-05-23T11:47:51.658Z"
   },
   {
    "duration": 38,
    "start_time": "2022-05-23T11:47:51.682Z"
   },
   {
    "duration": 27,
    "start_time": "2022-05-23T11:52:37.299Z"
   },
   {
    "duration": 25,
    "start_time": "2022-05-23T11:53:51.290Z"
   },
   {
    "duration": 55,
    "start_time": "2022-05-23T14:42:27.826Z"
   },
   {
    "duration": 46,
    "start_time": "2022-05-23T14:43:55.370Z"
   },
   {
    "duration": 13,
    "start_time": "2022-05-23T14:44:14.021Z"
   },
   {
    "duration": 39,
    "start_time": "2022-05-23T14:47:34.079Z"
   },
   {
    "duration": 42,
    "start_time": "2022-05-23T14:47:54.445Z"
   },
   {
    "duration": 24,
    "start_time": "2022-05-23T14:50:11.113Z"
   },
   {
    "duration": 38,
    "start_time": "2022-05-23T15:13:54.078Z"
   },
   {
    "duration": 11,
    "start_time": "2022-05-23T15:15:01.970Z"
   },
   {
    "duration": 41,
    "start_time": "2022-05-23T15:15:32.583Z"
   },
   {
    "duration": 43,
    "start_time": "2022-05-23T15:16:06.361Z"
   },
   {
    "duration": 31,
    "start_time": "2022-05-23T15:18:29.656Z"
   },
   {
    "duration": 44,
    "start_time": "2022-05-23T15:19:38.064Z"
   },
   {
    "duration": 54,
    "start_time": "2022-05-23T15:19:49.758Z"
   },
   {
    "duration": 45,
    "start_time": "2022-05-23T15:44:44.718Z"
   },
   {
    "duration": 40,
    "start_time": "2022-05-23T15:48:06.116Z"
   },
   {
    "duration": 62,
    "start_time": "2022-05-23T15:57:51.282Z"
   },
   {
    "duration": 61,
    "start_time": "2022-05-23T16:04:25.954Z"
   },
   {
    "duration": 6,
    "start_time": "2022-05-23T17:11:15.247Z"
   },
   {
    "duration": 5,
    "start_time": "2022-05-23T17:11:57.445Z"
   },
   {
    "duration": 20,
    "start_time": "2022-05-23T17:15:45.647Z"
   },
   {
    "duration": 8,
    "start_time": "2022-05-23T17:19:05.469Z"
   },
   {
    "duration": 14,
    "start_time": "2022-05-23T17:20:47.490Z"
   },
   {
    "duration": 27,
    "start_time": "2022-05-23T17:21:22.800Z"
   },
   {
    "duration": 31,
    "start_time": "2022-05-23T17:21:35.571Z"
   },
   {
    "duration": 14,
    "start_time": "2022-05-23T17:24:28.090Z"
   },
   {
    "duration": 11,
    "start_time": "2022-05-23T17:29:50.455Z"
   },
   {
    "duration": 82,
    "start_time": "2022-05-23T17:30:53.304Z"
   },
   {
    "duration": 6,
    "start_time": "2022-05-23T17:30:53.388Z"
   },
   {
    "duration": 165,
    "start_time": "2022-05-23T17:30:53.396Z"
   },
   {
    "duration": 6,
    "start_time": "2022-05-23T17:30:53.564Z"
   },
   {
    "duration": 11,
    "start_time": "2022-05-23T17:30:53.572Z"
   },
   {
    "duration": 20,
    "start_time": "2022-05-23T17:30:53.584Z"
   },
   {
    "duration": 14,
    "start_time": "2022-05-23T17:30:53.606Z"
   },
   {
    "duration": 183,
    "start_time": "2022-05-23T17:30:53.622Z"
   },
   {
    "duration": 96,
    "start_time": "2022-05-23T17:30:53.806Z"
   },
   {
    "duration": 32,
    "start_time": "2022-05-23T17:30:53.905Z"
   },
   {
    "duration": 121,
    "start_time": "2022-05-23T17:30:53.938Z"
   },
   {
    "duration": 46,
    "start_time": "2022-05-23T17:30:54.060Z"
   },
   {
    "duration": 24,
    "start_time": "2022-05-23T17:30:54.108Z"
   },
   {
    "duration": 167,
    "start_time": "2022-05-23T17:30:54.134Z"
   },
   {
    "duration": 71,
    "start_time": "2022-05-23T17:30:54.302Z"
   },
   {
    "duration": 28,
    "start_time": "2022-05-23T17:30:54.375Z"
   },
   {
    "duration": 35,
    "start_time": "2022-05-23T17:30:54.405Z"
   },
   {
    "duration": 23,
    "start_time": "2022-05-23T17:30:54.442Z"
   },
   {
    "duration": 38,
    "start_time": "2022-05-23T17:30:54.467Z"
   },
   {
    "duration": 71,
    "start_time": "2022-05-23T17:30:54.507Z"
   },
   {
    "duration": 18,
    "start_time": "2022-05-23T17:30:54.580Z"
   },
   {
    "duration": 18,
    "start_time": "2022-05-23T17:30:54.600Z"
   },
   {
    "duration": 51,
    "start_time": "2022-05-23T17:30:54.620Z"
   },
   {
    "duration": 30,
    "start_time": "2022-05-23T17:30:54.672Z"
   },
   {
    "duration": 15,
    "start_time": "2022-05-23T17:30:54.704Z"
   },
   {
    "duration": 46,
    "start_time": "2022-05-23T17:30:54.721Z"
   },
   {
    "duration": 31,
    "start_time": "2022-05-23T17:30:54.769Z"
   },
   {
    "duration": 24,
    "start_time": "2022-05-23T17:30:54.805Z"
   },
   {
    "duration": 14,
    "start_time": "2022-05-23T17:30:54.857Z"
   },
   {
    "duration": 22,
    "start_time": "2022-05-23T17:30:54.873Z"
   },
   {
    "duration": 24,
    "start_time": "2022-05-23T17:30:54.897Z"
   },
   {
    "duration": 50,
    "start_time": "2022-05-23T17:30:54.922Z"
   },
   {
    "duration": 36,
    "start_time": "2022-05-23T17:30:54.974Z"
   },
   {
    "duration": 66,
    "start_time": "2022-05-23T17:30:55.011Z"
   },
   {
    "duration": 32,
    "start_time": "2022-05-23T17:30:55.079Z"
   },
   {
    "duration": 82,
    "start_time": "2022-05-23T17:30:55.112Z"
   },
   {
    "duration": 105,
    "start_time": "2022-05-23T17:30:55.196Z"
   },
   {
    "duration": 6,
    "start_time": "2022-05-23T17:30:55.304Z"
   },
   {
    "duration": 54,
    "start_time": "2022-05-23T17:30:55.313Z"
   },
   {
    "duration": 11,
    "start_time": "2022-05-23T17:30:55.369Z"
   },
   {
    "duration": 30,
    "start_time": "2022-05-23T17:30:55.382Z"
   },
   {
    "duration": 8,
    "start_time": "2022-05-23T17:31:01.323Z"
   },
   {
    "duration": 9,
    "start_time": "2022-05-23T17:31:15.705Z"
   },
   {
    "duration": 29,
    "start_time": "2022-05-23T17:34:43.470Z"
   },
   {
    "duration": 31,
    "start_time": "2022-05-23T17:34:59.759Z"
   },
   {
    "duration": 9,
    "start_time": "2022-05-23T17:35:08.707Z"
   },
   {
    "duration": 7,
    "start_time": "2022-05-23T17:35:11.567Z"
   },
   {
    "duration": 27,
    "start_time": "2022-05-23T17:35:14.788Z"
   },
   {
    "duration": 27,
    "start_time": "2022-05-23T17:37:00.599Z"
   },
   {
    "duration": 34,
    "start_time": "2022-05-23T17:38:54.554Z"
   },
   {
    "duration": 29,
    "start_time": "2022-05-23T17:39:08.101Z"
   },
   {
    "duration": 9,
    "start_time": "2022-05-23T17:39:48.781Z"
   },
   {
    "duration": 46,
    "start_time": "2022-05-23T17:42:15.650Z"
   },
   {
    "duration": 14,
    "start_time": "2022-05-23T17:42:40.651Z"
   },
   {
    "duration": 65,
    "start_time": "2022-05-26T16:17:32.399Z"
   },
   {
    "duration": 644,
    "start_time": "2022-05-26T16:17:36.857Z"
   },
   {
    "duration": 6,
    "start_time": "2022-05-26T16:17:37.502Z"
   },
   {
    "duration": 608,
    "start_time": "2022-05-26T16:17:37.510Z"
   },
   {
    "duration": 12,
    "start_time": "2022-05-26T16:17:38.123Z"
   },
   {
    "duration": 7,
    "start_time": "2022-05-26T16:17:38.137Z"
   },
   {
    "duration": 22,
    "start_time": "2022-05-26T16:17:38.146Z"
   },
   {
    "duration": 47,
    "start_time": "2022-05-26T16:17:38.170Z"
   },
   {
    "duration": 533,
    "start_time": "2022-05-26T16:17:38.219Z"
   },
   {
    "duration": 110,
    "start_time": "2022-05-26T16:17:38.754Z"
   },
   {
    "duration": 31,
    "start_time": "2022-05-26T16:17:38.866Z"
   },
   {
    "duration": 176,
    "start_time": "2022-05-26T16:17:38.898Z"
   },
   {
    "duration": 41,
    "start_time": "2022-05-26T16:17:39.076Z"
   },
   {
    "duration": 34,
    "start_time": "2022-05-26T16:17:39.120Z"
   },
   {
    "duration": 436,
    "start_time": "2022-05-26T16:17:39.155Z"
   },
   {
    "duration": 72,
    "start_time": "2022-05-26T16:17:39.593Z"
   },
   {
    "duration": 30,
    "start_time": "2022-05-26T16:17:39.667Z"
   },
   {
    "duration": 71,
    "start_time": "2022-05-26T16:17:39.699Z"
   },
   {
    "duration": 16,
    "start_time": "2022-05-26T16:17:39.771Z"
   },
   {
    "duration": 41,
    "start_time": "2022-05-26T16:17:39.788Z"
   },
   {
    "duration": 63,
    "start_time": "2022-05-26T16:17:39.831Z"
   },
   {
    "duration": 29,
    "start_time": "2022-05-26T16:17:39.895Z"
   },
   {
    "duration": 23,
    "start_time": "2022-05-26T16:17:39.926Z"
   },
   {
    "duration": 29,
    "start_time": "2022-05-26T16:17:39.951Z"
   },
   {
    "duration": 42,
    "start_time": "2022-05-26T16:17:39.982Z"
   },
   {
    "duration": 18,
    "start_time": "2022-05-26T16:17:40.026Z"
   },
   {
    "duration": 17,
    "start_time": "2022-05-26T16:17:40.046Z"
   },
   {
    "duration": 58,
    "start_time": "2022-05-26T16:17:40.064Z"
   },
   {
    "duration": 27,
    "start_time": "2022-05-26T16:17:40.126Z"
   },
   {
    "duration": 10,
    "start_time": "2022-05-26T16:17:40.155Z"
   },
   {
    "duration": 19,
    "start_time": "2022-05-26T16:17:40.167Z"
   },
   {
    "duration": 47,
    "start_time": "2022-05-26T16:17:40.187Z"
   },
   {
    "duration": 24,
    "start_time": "2022-05-26T16:17:40.237Z"
   },
   {
    "duration": 75,
    "start_time": "2022-05-26T16:17:40.263Z"
   },
   {
    "duration": 32,
    "start_time": "2022-05-26T16:17:40.339Z"
   },
   {
    "duration": 25,
    "start_time": "2022-05-26T16:17:40.372Z"
   },
   {
    "duration": 56,
    "start_time": "2022-05-26T16:17:40.413Z"
   },
   {
    "duration": 80,
    "start_time": "2022-05-26T16:17:40.471Z"
   },
   {
    "duration": 4,
    "start_time": "2022-05-26T16:17:40.553Z"
   },
   {
    "duration": 32,
    "start_time": "2022-05-26T16:17:40.559Z"
   },
   {
    "duration": 9,
    "start_time": "2022-05-26T16:17:40.615Z"
   },
   {
    "duration": 14,
    "start_time": "2022-05-26T16:17:40.627Z"
   },
   {
    "duration": 35,
    "start_time": "2022-05-26T16:17:40.642Z"
   },
   {
    "duration": 8,
    "start_time": "2022-05-26T16:17:40.679Z"
   },
   {
    "duration": 29,
    "start_time": "2022-05-26T16:17:40.689Z"
   },
   {
    "duration": 48,
    "start_time": "2022-05-26T16:17:50.015Z"
   },
   {
    "duration": 48,
    "start_time": "2022-05-26T16:29:30.781Z"
   },
   {
    "duration": 10,
    "start_time": "2022-05-26T16:29:48.452Z"
   },
   {
    "duration": 8,
    "start_time": "2022-05-26T16:30:07.032Z"
   },
   {
    "duration": 8,
    "start_time": "2022-05-26T16:35:34.135Z"
   },
   {
    "duration": 16,
    "start_time": "2022-05-26T16:41:01.821Z"
   },
   {
    "duration": 10,
    "start_time": "2022-05-26T16:41:42.861Z"
   },
   {
    "duration": 144,
    "start_time": "2022-05-26T16:53:16.902Z"
   },
   {
    "duration": 866,
    "start_time": "2022-05-26T16:58:57.507Z"
   },
   {
    "duration": 117,
    "start_time": "2022-05-26T16:59:30.165Z"
   },
   {
    "duration": 112,
    "start_time": "2022-05-26T17:00:09.528Z"
   },
   {
    "duration": 145,
    "start_time": "2022-05-26T17:00:35.153Z"
   },
   {
    "duration": 123,
    "start_time": "2022-05-26T17:00:50.619Z"
   },
   {
    "duration": 144,
    "start_time": "2022-05-26T17:01:08.049Z"
   },
   {
    "duration": 136,
    "start_time": "2022-05-26T17:01:47.299Z"
   },
   {
    "duration": 141,
    "start_time": "2022-05-26T17:02:10.852Z"
   },
   {
    "duration": 150,
    "start_time": "2022-05-26T17:02:34.799Z"
   },
   {
    "duration": 138,
    "start_time": "2022-05-26T17:03:49.689Z"
   },
   {
    "duration": 140,
    "start_time": "2022-05-26T17:05:00.591Z"
   },
   {
    "duration": 10,
    "start_time": "2022-05-26T17:22:57.817Z"
   },
   {
    "duration": 9,
    "start_time": "2022-05-26T17:23:30.090Z"
   },
   {
    "duration": 10,
    "start_time": "2022-05-26T17:27:21.789Z"
   },
   {
    "duration": 143,
    "start_time": "2022-05-26T17:35:56.094Z"
   },
   {
    "duration": 250,
    "start_time": "2022-05-26T17:36:13.116Z"
   },
   {
    "duration": 140,
    "start_time": "2022-05-26T17:38:17.873Z"
   },
   {
    "duration": 143,
    "start_time": "2022-05-26T17:41:00.672Z"
   },
   {
    "duration": 157,
    "start_time": "2022-05-26T17:41:17.799Z"
   },
   {
    "duration": 47,
    "start_time": "2022-05-26T17:51:31.402Z"
   },
   {
    "duration": 9,
    "start_time": "2022-05-26T17:52:15.413Z"
   },
   {
    "duration": 8,
    "start_time": "2022-05-26T17:52:30.549Z"
   },
   {
    "duration": 7,
    "start_time": "2022-05-26T18:07:39.510Z"
   },
   {
    "duration": 37,
    "start_time": "2022-05-26T18:09:03.036Z"
   },
   {
    "duration": 146,
    "start_time": "2022-05-26T18:10:02.685Z"
   },
   {
    "duration": 215,
    "start_time": "2022-05-26T18:10:38.144Z"
   },
   {
    "duration": 138,
    "start_time": "2022-05-26T18:12:18.404Z"
   },
   {
    "duration": 4,
    "start_time": "2022-05-26T18:24:08.741Z"
   },
   {
    "duration": 6,
    "start_time": "2022-05-26T18:36:54.877Z"
   },
   {
    "duration": 6,
    "start_time": "2022-05-26T18:37:06.839Z"
   },
   {
    "duration": 12,
    "start_time": "2022-05-26T18:38:31.552Z"
   },
   {
    "duration": 10,
    "start_time": "2022-05-26T18:38:49.518Z"
   },
   {
    "duration": 9,
    "start_time": "2022-05-26T18:53:41.435Z"
   },
   {
    "duration": 7,
    "start_time": "2022-05-26T18:58:58.198Z"
   },
   {
    "duration": 10,
    "start_time": "2022-05-26T18:59:38.318Z"
   },
   {
    "duration": 10,
    "start_time": "2022-05-26T19:00:59.935Z"
   },
   {
    "duration": 8,
    "start_time": "2022-05-26T19:02:29.654Z"
   },
   {
    "duration": 8,
    "start_time": "2022-05-26T19:03:03.340Z"
   },
   {
    "duration": 33,
    "start_time": "2022-05-26T19:21:08.317Z"
   },
   {
    "duration": 11,
    "start_time": "2022-05-26T19:21:20.333Z"
   },
   {
    "duration": 15,
    "start_time": "2022-05-26T19:22:51.616Z"
   },
   {
    "duration": 12,
    "start_time": "2022-05-26T19:23:58.853Z"
   },
   {
    "duration": 10,
    "start_time": "2022-05-26T19:24:28.493Z"
   },
   {
    "duration": 11,
    "start_time": "2022-05-26T19:24:35.794Z"
   },
   {
    "duration": 39,
    "start_time": "2022-05-26T19:27:21.868Z"
   },
   {
    "duration": 9,
    "start_time": "2022-05-26T19:44:57.835Z"
   },
   {
    "duration": 8,
    "start_time": "2022-05-26T19:45:15.855Z"
   },
   {
    "duration": 33,
    "start_time": "2022-05-26T19:47:00.475Z"
   },
   {
    "duration": 7,
    "start_time": "2022-05-26T19:48:44.028Z"
   },
   {
    "duration": 8,
    "start_time": "2022-05-26T19:54:43.672Z"
   },
   {
    "duration": 9,
    "start_time": "2022-05-26T19:55:05.979Z"
   },
   {
    "duration": 10,
    "start_time": "2022-05-26T19:56:05.839Z"
   },
   {
    "duration": 12,
    "start_time": "2022-05-26T19:58:35.625Z"
   },
   {
    "duration": 9,
    "start_time": "2022-05-26T19:59:07.293Z"
   },
   {
    "duration": 7,
    "start_time": "2022-05-26T20:00:27.984Z"
   },
   {
    "duration": 7,
    "start_time": "2022-05-26T20:00:40.383Z"
   },
   {
    "duration": 7,
    "start_time": "2022-05-26T20:00:59.153Z"
   },
   {
    "duration": 679,
    "start_time": "2022-05-28T16:57:15.854Z"
   },
   {
    "duration": 10,
    "start_time": "2022-05-28T16:57:16.537Z"
   },
   {
    "duration": 886,
    "start_time": "2022-05-28T16:57:16.549Z"
   },
   {
    "duration": 7,
    "start_time": "2022-05-28T16:57:17.437Z"
   },
   {
    "duration": 15,
    "start_time": "2022-05-28T16:57:17.446Z"
   },
   {
    "duration": 25,
    "start_time": "2022-05-28T16:57:17.464Z"
   },
   {
    "duration": 18,
    "start_time": "2022-05-28T16:57:17.496Z"
   },
   {
    "duration": 821,
    "start_time": "2022-05-28T16:57:17.516Z"
   },
   {
    "duration": 163,
    "start_time": "2022-05-28T16:57:18.340Z"
   },
   {
    "duration": 66,
    "start_time": "2022-05-28T16:57:18.506Z"
   },
   {
    "duration": 396,
    "start_time": "2022-05-28T16:57:18.576Z"
   },
   {
    "duration": 116,
    "start_time": "2022-05-28T16:57:18.981Z"
   },
   {
    "duration": 53,
    "start_time": "2022-05-28T16:57:19.103Z"
   },
   {
    "duration": 607,
    "start_time": "2022-05-28T16:57:19.165Z"
   },
   {
    "duration": 111,
    "start_time": "2022-05-28T16:57:19.774Z"
   },
   {
    "duration": 43,
    "start_time": "2022-05-28T16:57:19.889Z"
   },
   {
    "duration": 74,
    "start_time": "2022-05-28T16:57:19.934Z"
   },
   {
    "duration": 22,
    "start_time": "2022-05-28T16:57:20.010Z"
   },
   {
    "duration": 64,
    "start_time": "2022-05-28T16:57:20.034Z"
   },
   {
    "duration": 102,
    "start_time": "2022-05-28T16:57:20.100Z"
   },
   {
    "duration": 28,
    "start_time": "2022-05-28T16:57:20.206Z"
   },
   {
    "duration": 39,
    "start_time": "2022-05-28T16:57:20.241Z"
   },
   {
    "duration": 66,
    "start_time": "2022-05-28T16:57:20.286Z"
   },
   {
    "duration": 41,
    "start_time": "2022-05-28T16:57:20.356Z"
   },
   {
    "duration": 18,
    "start_time": "2022-05-28T16:57:20.400Z"
   },
   {
    "duration": 59,
    "start_time": "2022-05-28T16:57:20.420Z"
   },
   {
    "duration": 52,
    "start_time": "2022-05-28T16:57:20.482Z"
   },
   {
    "duration": 33,
    "start_time": "2022-05-28T16:57:20.536Z"
   },
   {
    "duration": 33,
    "start_time": "2022-05-28T16:57:20.571Z"
   },
   {
    "duration": 26,
    "start_time": "2022-05-28T16:57:20.606Z"
   },
   {
    "duration": 26,
    "start_time": "2022-05-28T16:57:20.633Z"
   },
   {
    "duration": 56,
    "start_time": "2022-05-28T16:57:20.661Z"
   },
   {
    "duration": 44,
    "start_time": "2022-05-28T16:57:20.719Z"
   },
   {
    "duration": 74,
    "start_time": "2022-05-28T16:57:20.765Z"
   },
   {
    "duration": 55,
    "start_time": "2022-05-28T16:57:20.841Z"
   },
   {
    "duration": 102,
    "start_time": "2022-05-28T16:57:20.898Z"
   },
   {
    "duration": 93,
    "start_time": "2022-05-28T16:57:21.002Z"
   },
   {
    "duration": 5,
    "start_time": "2022-05-28T16:57:21.097Z"
   },
   {
    "duration": 50,
    "start_time": "2022-05-28T16:57:21.104Z"
   },
   {
    "duration": 10,
    "start_time": "2022-05-28T16:57:21.157Z"
   },
   {
    "duration": 26,
    "start_time": "2022-05-28T16:57:21.173Z"
   },
   {
    "duration": 63,
    "start_time": "2022-05-28T16:57:21.201Z"
   },
   {
    "duration": 11,
    "start_time": "2022-05-28T16:57:21.265Z"
   },
   {
    "duration": 14,
    "start_time": "2022-05-28T16:57:21.296Z"
   },
   {
    "duration": 20,
    "start_time": "2022-05-28T16:57:21.312Z"
   },
   {
    "duration": 33,
    "start_time": "2022-05-28T16:57:21.334Z"
   },
   {
    "duration": 838,
    "start_time": "2022-05-28T16:57:21.368Z"
   },
   {
    "duration": 13,
    "start_time": "2022-05-28T16:57:22.208Z"
   },
   {
    "duration": 24,
    "start_time": "2022-05-28T16:57:22.223Z"
   },
   {
    "duration": 47,
    "start_time": "2022-05-28T16:57:22.248Z"
   },
   {
    "duration": 234,
    "start_time": "2022-05-28T16:57:22.297Z"
   },
   {
    "duration": 13,
    "start_time": "2022-05-28T16:57:22.533Z"
   },
   {
    "duration": 13,
    "start_time": "2022-05-28T16:57:22.550Z"
   },
   {
    "duration": 34,
    "start_time": "2022-05-28T16:57:22.565Z"
   },
   {
    "duration": 341,
    "start_time": "2022-05-28T16:57:22.601Z"
   },
   {
    "duration": 211,
    "start_time": "2022-05-28T16:57:22.945Z"
   },
   {
    "duration": 21,
    "start_time": "2022-05-28T16:57:23.160Z"
   },
   {
    "duration": 13,
    "start_time": "2022-05-28T16:57:23.195Z"
   },
   {
    "duration": 11,
    "start_time": "2022-05-28T16:57:23.210Z"
   },
   {
    "duration": 28,
    "start_time": "2022-05-28T16:57:23.223Z"
   },
   {
    "duration": 17,
    "start_time": "2022-05-28T16:57:23.253Z"
   },
   {
    "duration": 28,
    "start_time": "2022-05-28T16:57:23.272Z"
   },
   {
    "duration": 177,
    "start_time": "2022-05-28T17:21:29.984Z"
   },
   {
    "duration": 29,
    "start_time": "2022-05-28T17:21:40.980Z"
   },
   {
    "duration": 16,
    "start_time": "2022-05-28T17:24:20.612Z"
   },
   {
    "duration": 59,
    "start_time": "2022-05-28T17:24:24.468Z"
   },
   {
    "duration": 5,
    "start_time": "2022-05-28T17:24:24.529Z"
   },
   {
    "duration": 182,
    "start_time": "2022-05-28T17:24:24.535Z"
   },
   {
    "duration": 6,
    "start_time": "2022-05-28T17:24:24.719Z"
   },
   {
    "duration": 6,
    "start_time": "2022-05-28T17:24:24.727Z"
   },
   {
    "duration": 17,
    "start_time": "2022-05-28T17:24:24.735Z"
   },
   {
    "duration": 10,
    "start_time": "2022-05-28T17:24:24.755Z"
   },
   {
    "duration": 215,
    "start_time": "2022-05-28T17:24:24.795Z"
   },
   {
    "duration": 100,
    "start_time": "2022-05-28T17:24:25.012Z"
   },
   {
    "duration": 37,
    "start_time": "2022-05-28T17:24:25.114Z"
   },
   {
    "duration": 116,
    "start_time": "2022-05-28T17:24:25.153Z"
   },
   {
    "duration": 60,
    "start_time": "2022-05-28T17:24:25.270Z"
   },
   {
    "duration": 23,
    "start_time": "2022-05-28T17:24:25.331Z"
   },
   {
    "duration": 198,
    "start_time": "2022-05-28T17:24:25.357Z"
   },
   {
    "duration": 73,
    "start_time": "2022-05-28T17:24:25.557Z"
   },
   {
    "duration": 27,
    "start_time": "2022-05-28T17:24:25.632Z"
   },
   {
    "duration": 33,
    "start_time": "2022-05-28T17:24:25.661Z"
   },
   {
    "duration": 23,
    "start_time": "2022-05-28T17:24:25.696Z"
   },
   {
    "duration": 42,
    "start_time": "2022-05-28T17:24:25.721Z"
   },
   {
    "duration": 84,
    "start_time": "2022-05-28T17:24:25.765Z"
   },
   {
    "duration": 15,
    "start_time": "2022-05-28T17:24:25.851Z"
   },
   {
    "duration": 29,
    "start_time": "2022-05-28T17:24:25.868Z"
   },
   {
    "duration": 31,
    "start_time": "2022-05-28T17:24:25.900Z"
   },
   {
    "duration": 30,
    "start_time": "2022-05-28T17:24:25.932Z"
   },
   {
    "duration": 46,
    "start_time": "2022-05-28T17:24:25.964Z"
   },
   {
    "duration": 17,
    "start_time": "2022-05-28T17:24:26.012Z"
   },
   {
    "duration": 31,
    "start_time": "2022-05-28T17:24:26.031Z"
   },
   {
    "duration": 52,
    "start_time": "2022-05-28T17:24:26.064Z"
   },
   {
    "duration": 10,
    "start_time": "2022-05-28T17:24:26.118Z"
   },
   {
    "duration": 23,
    "start_time": "2022-05-28T17:24:26.130Z"
   },
   {
    "duration": 46,
    "start_time": "2022-05-28T17:24:26.155Z"
   },
   {
    "duration": 27,
    "start_time": "2022-05-28T17:24:26.203Z"
   },
   {
    "duration": 63,
    "start_time": "2022-05-28T17:24:26.232Z"
   },
   {
    "duration": 42,
    "start_time": "2022-05-28T17:24:26.297Z"
   },
   {
    "duration": 28,
    "start_time": "2022-05-28T17:24:26.340Z"
   },
   {
    "duration": 83,
    "start_time": "2022-05-28T17:24:26.370Z"
   },
   {
    "duration": 81,
    "start_time": "2022-05-28T17:24:26.455Z"
   },
   {
    "duration": 5,
    "start_time": "2022-05-28T17:24:26.538Z"
   },
   {
    "duration": 52,
    "start_time": "2022-05-28T17:24:26.545Z"
   },
   {
    "duration": 11,
    "start_time": "2022-05-28T17:24:26.599Z"
   },
   {
    "duration": 32,
    "start_time": "2022-05-28T17:24:26.616Z"
   },
   {
    "duration": 55,
    "start_time": "2022-05-28T17:24:26.651Z"
   },
   {
    "duration": 13,
    "start_time": "2022-05-28T17:24:26.708Z"
   },
   {
    "duration": 15,
    "start_time": "2022-05-28T17:24:26.723Z"
   },
   {
    "duration": 12,
    "start_time": "2022-05-28T17:24:26.740Z"
   },
   {
    "duration": 47,
    "start_time": "2022-05-28T17:24:26.754Z"
   },
   {
    "duration": 182,
    "start_time": "2022-05-28T17:24:26.804Z"
   },
   {
    "duration": 17,
    "start_time": "2022-05-28T17:24:26.988Z"
   },
   {
    "duration": 17,
    "start_time": "2022-05-28T17:24:27.007Z"
   },
   {
    "duration": 11,
    "start_time": "2022-05-28T17:24:27.025Z"
   },
   {
    "duration": 220,
    "start_time": "2022-05-28T17:24:27.037Z"
   },
   {
    "duration": 13,
    "start_time": "2022-05-28T17:24:27.259Z"
   },
   {
    "duration": 22,
    "start_time": "2022-05-28T17:24:27.274Z"
   },
   {
    "duration": 28,
    "start_time": "2022-05-28T17:24:27.298Z"
   },
   {
    "duration": 389,
    "start_time": "2022-05-28T17:24:27.329Z"
   },
   {
    "duration": 164,
    "start_time": "2022-05-28T17:24:27.720Z"
   },
   {
    "duration": 13,
    "start_time": "2022-05-28T17:24:27.894Z"
   },
   {
    "duration": 14,
    "start_time": "2022-05-28T17:24:27.909Z"
   },
   {
    "duration": 9,
    "start_time": "2022-05-28T17:24:27.924Z"
   },
   {
    "duration": 10,
    "start_time": "2022-05-28T17:24:27.935Z"
   },
   {
    "duration": 8,
    "start_time": "2022-05-28T17:24:27.947Z"
   },
   {
    "duration": 9,
    "start_time": "2022-05-28T17:24:27.957Z"
   },
   {
    "duration": 35,
    "start_time": "2022-05-28T17:40:17.625Z"
   },
   {
    "duration": 55,
    "start_time": "2022-05-28T17:40:21.862Z"
   },
   {
    "duration": 48,
    "start_time": "2022-05-28T17:40:35.023Z"
   },
   {
    "duration": 41,
    "start_time": "2022-05-28T17:40:41.732Z"
   },
   {
    "duration": 41,
    "start_time": "2022-05-28T17:40:44.234Z"
   },
   {
    "duration": 33,
    "start_time": "2022-05-28T17:41:26.356Z"
   },
   {
    "duration": 36,
    "start_time": "2022-05-28T17:41:39.443Z"
   },
   {
    "duration": 42,
    "start_time": "2022-05-28T17:41:48.344Z"
   },
   {
    "duration": 41,
    "start_time": "2022-05-28T17:41:53.795Z"
   },
   {
    "duration": 60,
    "start_time": "2022-05-28T17:42:06.343Z"
   },
   {
    "duration": 8,
    "start_time": "2022-05-28T17:42:06.405Z"
   },
   {
    "duration": 267,
    "start_time": "2022-05-28T17:42:06.415Z"
   },
   {
    "duration": 11,
    "start_time": "2022-05-28T17:42:06.685Z"
   },
   {
    "duration": 7,
    "start_time": "2022-05-28T17:42:06.698Z"
   },
   {
    "duration": 20,
    "start_time": "2022-05-28T17:42:06.706Z"
   },
   {
    "duration": 12,
    "start_time": "2022-05-28T17:42:06.729Z"
   },
   {
    "duration": 227,
    "start_time": "2022-05-28T17:42:06.743Z"
   },
   {
    "duration": 138,
    "start_time": "2022-05-28T17:42:06.972Z"
   },
   {
    "duration": 33,
    "start_time": "2022-05-28T17:42:07.114Z"
   },
   {
    "duration": 146,
    "start_time": "2022-05-28T17:42:07.150Z"
   },
   {
    "duration": 68,
    "start_time": "2022-05-28T17:42:07.301Z"
   },
   {
    "duration": 45,
    "start_time": "2022-05-28T17:42:07.372Z"
   },
   {
    "duration": 267,
    "start_time": "2022-05-28T17:42:07.420Z"
   },
   {
    "duration": 105,
    "start_time": "2022-05-28T17:42:07.695Z"
   },
   {
    "duration": 27,
    "start_time": "2022-05-28T17:42:07.802Z"
   },
   {
    "duration": 22,
    "start_time": "2022-05-28T17:42:07.831Z"
   },
   {
    "duration": 18,
    "start_time": "2022-05-28T17:42:07.855Z"
   },
   {
    "duration": 53,
    "start_time": "2022-05-28T17:42:07.896Z"
   },
   {
    "duration": 97,
    "start_time": "2022-05-28T17:42:07.951Z"
   },
   {
    "duration": 24,
    "start_time": "2022-05-28T17:42:08.049Z"
   },
   {
    "duration": 31,
    "start_time": "2022-05-28T17:42:08.076Z"
   },
   {
    "duration": 25,
    "start_time": "2022-05-28T17:42:08.109Z"
   },
   {
    "duration": 30,
    "start_time": "2022-05-28T17:42:08.135Z"
   },
   {
    "duration": 17,
    "start_time": "2022-05-28T17:42:08.196Z"
   },
   {
    "duration": 18,
    "start_time": "2022-05-28T17:42:08.216Z"
   },
   {
    "duration": 68,
    "start_time": "2022-05-28T17:42:08.236Z"
   },
   {
    "duration": 34,
    "start_time": "2022-05-28T17:42:08.309Z"
   },
   {
    "duration": 12,
    "start_time": "2022-05-28T17:42:08.345Z"
   },
   {
    "duration": 52,
    "start_time": "2022-05-28T17:42:08.359Z"
   },
   {
    "duration": 24,
    "start_time": "2022-05-28T17:42:08.413Z"
   },
   {
    "duration": 26,
    "start_time": "2022-05-28T17:42:08.439Z"
   },
   {
    "duration": 74,
    "start_time": "2022-05-28T17:42:08.467Z"
   },
   {
    "duration": 66,
    "start_time": "2022-05-28T17:42:08.543Z"
   },
   {
    "duration": 45,
    "start_time": "2022-05-28T17:42:08.610Z"
   },
   {
    "duration": 101,
    "start_time": "2022-05-28T17:42:08.658Z"
   },
   {
    "duration": 78,
    "start_time": "2022-05-28T17:42:08.761Z"
   },
   {
    "duration": 6,
    "start_time": "2022-05-28T17:42:08.841Z"
   },
   {
    "duration": 53,
    "start_time": "2022-05-28T17:42:08.849Z"
   },
   {
    "duration": 10,
    "start_time": "2022-05-28T17:42:08.904Z"
   },
   {
    "duration": 7,
    "start_time": "2022-05-28T17:42:08.916Z"
   },
   {
    "duration": 74,
    "start_time": "2022-05-28T17:42:08.925Z"
   },
   {
    "duration": 11,
    "start_time": "2022-05-28T17:42:09.002Z"
   },
   {
    "duration": 11,
    "start_time": "2022-05-28T17:42:09.016Z"
   },
   {
    "duration": 16,
    "start_time": "2022-05-28T17:42:09.029Z"
   },
   {
    "duration": 48,
    "start_time": "2022-05-28T17:42:09.047Z"
   },
   {
    "duration": 218,
    "start_time": "2022-05-28T17:42:09.098Z"
   },
   {
    "duration": 11,
    "start_time": "2022-05-28T17:42:09.318Z"
   },
   {
    "duration": 12,
    "start_time": "2022-05-28T17:42:09.331Z"
   },
   {
    "duration": 15,
    "start_time": "2022-05-28T17:42:09.346Z"
   },
   {
    "duration": 223,
    "start_time": "2022-05-28T17:42:09.363Z"
   },
   {
    "duration": 15,
    "start_time": "2022-05-28T17:42:09.588Z"
   },
   {
    "duration": 13,
    "start_time": "2022-05-28T17:42:09.606Z"
   },
   {
    "duration": 16,
    "start_time": "2022-05-28T17:42:09.622Z"
   },
   {
    "duration": 272,
    "start_time": "2022-05-28T17:42:09.640Z"
   },
   {
    "duration": 164,
    "start_time": "2022-05-28T17:42:09.913Z"
   },
   {
    "duration": 22,
    "start_time": "2022-05-28T17:42:10.080Z"
   },
   {
    "duration": 11,
    "start_time": "2022-05-28T17:42:10.104Z"
   },
   {
    "duration": 11,
    "start_time": "2022-05-28T17:42:10.117Z"
   },
   {
    "duration": 14,
    "start_time": "2022-05-28T17:42:10.130Z"
   },
   {
    "duration": 10,
    "start_time": "2022-05-28T17:42:10.147Z"
   },
   {
    "duration": 43,
    "start_time": "2022-05-28T17:42:10.159Z"
   },
   {
    "duration": 644,
    "start_time": "2022-05-28T19:29:22.817Z"
   },
   {
    "duration": 9,
    "start_time": "2022-05-28T19:29:23.463Z"
   },
   {
    "duration": 536,
    "start_time": "2022-05-28T19:29:23.474Z"
   },
   {
    "duration": 16,
    "start_time": "2022-05-28T19:29:24.012Z"
   },
   {
    "duration": 11,
    "start_time": "2022-05-28T19:29:24.031Z"
   },
   {
    "duration": 24,
    "start_time": "2022-05-28T19:29:24.044Z"
   },
   {
    "duration": 38,
    "start_time": "2022-05-28T19:29:24.070Z"
   },
   {
    "duration": 339,
    "start_time": "2022-05-28T19:29:24.109Z"
   },
   {
    "duration": 183,
    "start_time": "2022-05-28T19:29:24.451Z"
   },
   {
    "duration": 82,
    "start_time": "2022-05-28T19:29:24.637Z"
   },
   {
    "duration": 200,
    "start_time": "2022-05-28T19:29:24.724Z"
   },
   {
    "duration": 64,
    "start_time": "2022-05-28T19:29:24.930Z"
   },
   {
    "duration": 35,
    "start_time": "2022-05-28T19:29:24.998Z"
   },
   {
    "duration": 211,
    "start_time": "2022-05-28T19:29:25.038Z"
   },
   {
    "duration": 103,
    "start_time": "2022-05-28T19:29:25.251Z"
   },
   {
    "duration": 64,
    "start_time": "2022-05-28T19:29:25.357Z"
   },
   {
    "duration": 40,
    "start_time": "2022-05-28T19:29:25.423Z"
   },
   {
    "duration": 27,
    "start_time": "2022-05-28T19:29:25.466Z"
   },
   {
    "duration": 65,
    "start_time": "2022-05-28T19:29:25.499Z"
   },
   {
    "duration": 114,
    "start_time": "2022-05-28T19:29:25.566Z"
   },
   {
    "duration": 31,
    "start_time": "2022-05-28T19:29:25.682Z"
   },
   {
    "duration": 41,
    "start_time": "2022-05-28T19:29:25.720Z"
   },
   {
    "duration": 42,
    "start_time": "2022-05-28T19:29:25.763Z"
   },
   {
    "duration": 46,
    "start_time": "2022-05-28T19:29:25.807Z"
   },
   {
    "duration": 18,
    "start_time": "2022-05-28T19:29:25.856Z"
   },
   {
    "duration": 49,
    "start_time": "2022-05-28T19:29:25.877Z"
   },
   {
    "duration": 34,
    "start_time": "2022-05-28T19:29:25.929Z"
   },
   {
    "duration": 57,
    "start_time": "2022-05-28T19:29:25.965Z"
   },
   {
    "duration": 15,
    "start_time": "2022-05-28T19:29:26.025Z"
   },
   {
    "duration": 37,
    "start_time": "2022-05-28T19:29:26.043Z"
   },
   {
    "duration": 48,
    "start_time": "2022-05-28T19:29:26.094Z"
   },
   {
    "duration": 37,
    "start_time": "2022-05-28T19:29:26.144Z"
   },
   {
    "duration": 69,
    "start_time": "2022-05-28T19:29:26.184Z"
   },
   {
    "duration": 71,
    "start_time": "2022-05-28T19:29:26.256Z"
   },
   {
    "duration": 48,
    "start_time": "2022-05-28T19:29:26.331Z"
   },
   {
    "duration": 107,
    "start_time": "2022-05-28T19:29:26.394Z"
   },
   {
    "duration": 126,
    "start_time": "2022-05-28T19:29:26.504Z"
   },
   {
    "duration": 6,
    "start_time": "2022-05-28T19:29:26.633Z"
   },
   {
    "duration": 76,
    "start_time": "2022-05-28T19:29:26.641Z"
   },
   {
    "duration": 16,
    "start_time": "2022-05-28T19:29:26.722Z"
   },
   {
    "duration": 7,
    "start_time": "2022-05-28T19:29:26.744Z"
   },
   {
    "duration": 54,
    "start_time": "2022-05-28T19:29:26.753Z"
   },
   {
    "duration": 21,
    "start_time": "2022-05-28T19:29:26.808Z"
   },
   {
    "duration": 21,
    "start_time": "2022-05-28T19:29:26.831Z"
   },
   {
    "duration": 20,
    "start_time": "2022-05-28T19:29:26.855Z"
   },
   {
    "duration": 29,
    "start_time": "2022-05-28T19:29:26.876Z"
   },
   {
    "duration": 1006,
    "start_time": "2022-05-28T19:29:26.908Z"
   },
   {
    "duration": 17,
    "start_time": "2022-05-28T19:29:27.922Z"
   },
   {
    "duration": 26,
    "start_time": "2022-05-28T19:29:27.941Z"
   },
   {
    "duration": 21,
    "start_time": "2022-05-28T19:29:27.970Z"
   },
   {
    "duration": 309,
    "start_time": "2022-05-28T19:29:27.994Z"
   },
   {
    "duration": 14,
    "start_time": "2022-05-28T19:29:28.318Z"
   },
   {
    "duration": 17,
    "start_time": "2022-05-28T19:29:28.335Z"
   },
   {
    "duration": 15,
    "start_time": "2022-05-28T19:29:28.355Z"
   },
   {
    "duration": 358,
    "start_time": "2022-05-28T19:29:28.373Z"
   },
   {
    "duration": 281,
    "start_time": "2022-05-28T19:29:28.733Z"
   },
   {
    "duration": 16,
    "start_time": "2022-05-28T19:29:29.021Z"
   },
   {
    "duration": 23,
    "start_time": "2022-05-28T19:29:29.039Z"
   },
   {
    "duration": 31,
    "start_time": "2022-05-28T19:29:29.065Z"
   },
   {
    "duration": 39,
    "start_time": "2022-05-28T19:29:29.099Z"
   },
   {
    "duration": 19,
    "start_time": "2022-05-28T19:29:29.141Z"
   },
   {
    "duration": 19,
    "start_time": "2022-05-28T19:29:29.163Z"
   },
   {
    "duration": 53,
    "start_time": "2022-05-28T19:30:49.066Z"
   },
   {
    "duration": 46,
    "start_time": "2022-05-28T19:30:52.913Z"
   },
   {
    "duration": 91,
    "start_time": "2022-05-28T19:30:57.527Z"
   },
   {
    "duration": 127,
    "start_time": "2022-05-28T19:31:02.286Z"
   },
   {
    "duration": 553,
    "start_time": "2022-05-28T19:31:19.067Z"
   },
   {
    "duration": 10,
    "start_time": "2022-05-28T19:31:19.623Z"
   },
   {
    "duration": 565,
    "start_time": "2022-05-28T19:31:19.635Z"
   },
   {
    "duration": 12,
    "start_time": "2022-05-28T19:31:20.203Z"
   },
   {
    "duration": 41,
    "start_time": "2022-05-28T19:31:20.217Z"
   },
   {
    "duration": 41,
    "start_time": "2022-05-28T19:31:20.260Z"
   },
   {
    "duration": 24,
    "start_time": "2022-05-28T19:31:20.307Z"
   },
   {
    "duration": 305,
    "start_time": "2022-05-28T19:31:20.333Z"
   },
   {
    "duration": 190,
    "start_time": "2022-05-28T19:31:20.641Z"
   },
   {
    "duration": 76,
    "start_time": "2022-05-28T19:31:20.836Z"
   },
   {
    "duration": 213,
    "start_time": "2022-05-28T19:31:20.921Z"
   },
   {
    "duration": 82,
    "start_time": "2022-05-28T19:31:21.141Z"
   },
   {
    "duration": 42,
    "start_time": "2022-05-28T19:31:21.224Z"
   },
   {
    "duration": 221,
    "start_time": "2022-05-28T19:31:21.268Z"
   },
   {
    "duration": 129,
    "start_time": "2022-05-28T19:31:21.504Z"
   },
   {
    "duration": 46,
    "start_time": "2022-05-28T19:31:21.635Z"
   },
   {
    "duration": 43,
    "start_time": "2022-05-28T19:31:21.683Z"
   },
   {
    "duration": 39,
    "start_time": "2022-05-28T19:31:21.730Z"
   },
   {
    "duration": 64,
    "start_time": "2022-05-28T19:31:21.772Z"
   },
   {
    "duration": 116,
    "start_time": "2022-05-28T19:31:21.840Z"
   },
   {
    "duration": 28,
    "start_time": "2022-05-28T19:31:21.961Z"
   },
   {
    "duration": 24,
    "start_time": "2022-05-28T19:31:21.996Z"
   },
   {
    "duration": 65,
    "start_time": "2022-05-28T19:31:22.023Z"
   },
   {
    "duration": 57,
    "start_time": "2022-05-28T19:31:22.090Z"
   },
   {
    "duration": 19,
    "start_time": "2022-05-28T19:31:22.149Z"
   },
   {
    "duration": 38,
    "start_time": "2022-05-28T19:31:22.172Z"
   },
   {
    "duration": 91,
    "start_time": "2022-05-28T19:31:22.214Z"
   },
   {
    "duration": 42,
    "start_time": "2022-05-28T19:31:22.317Z"
   },
   {
    "duration": 14,
    "start_time": "2022-05-28T19:31:22.361Z"
   },
   {
    "duration": 43,
    "start_time": "2022-05-28T19:31:22.378Z"
   },
   {
    "duration": 44,
    "start_time": "2022-05-28T19:31:22.424Z"
   },
   {
    "duration": 54,
    "start_time": "2022-05-28T19:31:22.470Z"
   },
   {
    "duration": 50,
    "start_time": "2022-05-28T19:31:22.529Z"
   },
   {
    "duration": 63,
    "start_time": "2022-05-28T19:31:22.581Z"
   },
   {
    "duration": 33,
    "start_time": "2022-05-28T19:31:22.647Z"
   },
   {
    "duration": 80,
    "start_time": "2022-05-28T19:31:22.682Z"
   },
   {
    "duration": 103,
    "start_time": "2022-05-28T19:31:22.764Z"
   },
   {
    "duration": 7,
    "start_time": "2022-05-28T19:31:22.870Z"
   },
   {
    "duration": 65,
    "start_time": "2022-05-28T19:31:22.880Z"
   },
   {
    "duration": 31,
    "start_time": "2022-05-28T19:31:22.947Z"
   },
   {
    "duration": 14,
    "start_time": "2022-05-28T19:31:22.980Z"
   },
   {
    "duration": 96,
    "start_time": "2022-05-28T19:31:22.997Z"
   },
   {
    "duration": 18,
    "start_time": "2022-05-28T19:31:23.095Z"
   },
   {
    "duration": 28,
    "start_time": "2022-05-28T19:31:23.115Z"
   },
   {
    "duration": 12,
    "start_time": "2022-05-28T19:31:23.145Z"
   },
   {
    "duration": 14,
    "start_time": "2022-05-28T19:31:23.159Z"
   },
   {
    "duration": 1000,
    "start_time": "2022-05-28T19:31:23.175Z"
   },
   {
    "duration": 19,
    "start_time": "2022-05-28T19:31:24.180Z"
   },
   {
    "duration": 45,
    "start_time": "2022-05-28T19:31:24.202Z"
   },
   {
    "duration": 40,
    "start_time": "2022-05-28T19:31:24.249Z"
   },
   {
    "duration": 210,
    "start_time": "2022-05-28T19:31:24.291Z"
   },
   {
    "duration": 14,
    "start_time": "2022-05-28T19:31:24.508Z"
   },
   {
    "duration": 19,
    "start_time": "2022-05-28T19:31:24.525Z"
   },
   {
    "duration": 10,
    "start_time": "2022-05-28T19:31:24.546Z"
   },
   {
    "duration": 345,
    "start_time": "2022-05-28T19:31:24.558Z"
   },
   {
    "duration": 220,
    "start_time": "2022-05-28T19:31:24.905Z"
   },
   {
    "duration": 14,
    "start_time": "2022-05-28T19:31:25.135Z"
   },
   {
    "duration": 15,
    "start_time": "2022-05-28T19:31:25.152Z"
   },
   {
    "duration": 17,
    "start_time": "2022-05-28T19:31:25.170Z"
   },
   {
    "duration": 45,
    "start_time": "2022-05-28T19:31:25.195Z"
   },
   {
    "duration": 13,
    "start_time": "2022-05-28T19:31:25.243Z"
   },
   {
    "duration": 15,
    "start_time": "2022-05-28T19:31:25.258Z"
   },
   {
    "duration": 488,
    "start_time": "2022-05-29T09:15:19.872Z"
   },
   {
    "duration": 7,
    "start_time": "2022-05-29T09:15:20.362Z"
   },
   {
    "duration": 441,
    "start_time": "2022-05-29T09:15:20.371Z"
   },
   {
    "duration": 5,
    "start_time": "2022-05-29T09:15:20.813Z"
   },
   {
    "duration": 7,
    "start_time": "2022-05-29T09:15:20.820Z"
   },
   {
    "duration": 16,
    "start_time": "2022-05-29T09:15:20.829Z"
   },
   {
    "duration": 9,
    "start_time": "2022-05-29T09:15:20.846Z"
   },
   {
    "duration": 183,
    "start_time": "2022-05-29T09:15:20.857Z"
   },
   {
    "duration": 93,
    "start_time": "2022-05-29T09:15:21.041Z"
   },
   {
    "duration": 41,
    "start_time": "2022-05-29T09:15:21.135Z"
   },
   {
    "duration": 103,
    "start_time": "2022-05-29T09:15:21.177Z"
   },
   {
    "duration": 48,
    "start_time": "2022-05-29T09:15:21.282Z"
   },
   {
    "duration": 22,
    "start_time": "2022-05-29T09:15:21.331Z"
   },
   {
    "duration": 159,
    "start_time": "2022-05-29T09:15:21.374Z"
   },
   {
    "duration": 84,
    "start_time": "2022-05-29T09:15:21.535Z"
   },
   {
    "duration": 34,
    "start_time": "2022-05-29T09:15:21.620Z"
   },
   {
    "duration": 26,
    "start_time": "2022-05-29T09:15:21.656Z"
   },
   {
    "duration": 27,
    "start_time": "2022-05-29T09:15:21.684Z"
   },
   {
    "duration": 34,
    "start_time": "2022-05-29T09:15:21.712Z"
   },
   {
    "duration": 75,
    "start_time": "2022-05-29T09:15:21.747Z"
   },
   {
    "duration": 14,
    "start_time": "2022-05-29T09:15:21.823Z"
   },
   {
    "duration": 13,
    "start_time": "2022-05-29T09:15:21.838Z"
   },
   {
    "duration": 48,
    "start_time": "2022-05-29T09:15:21.852Z"
   },
   {
    "duration": 28,
    "start_time": "2022-05-29T09:15:21.901Z"
   },
   {
    "duration": 13,
    "start_time": "2022-05-29T09:15:21.931Z"
   },
   {
    "duration": 49,
    "start_time": "2022-05-29T09:15:21.945Z"
   },
   {
    "duration": 35,
    "start_time": "2022-05-29T09:15:21.996Z"
   },
   {
    "duration": 24,
    "start_time": "2022-05-29T09:15:22.033Z"
   },
   {
    "duration": 35,
    "start_time": "2022-05-29T09:15:22.058Z"
   },
   {
    "duration": 19,
    "start_time": "2022-05-29T09:15:22.095Z"
   },
   {
    "duration": 20,
    "start_time": "2022-05-29T09:15:22.116Z"
   },
   {
    "duration": 10,
    "start_time": "2022-05-29T09:15:22.138Z"
   },
   {
    "duration": 51,
    "start_time": "2022-05-29T09:15:22.149Z"
   },
   {
    "duration": 38,
    "start_time": "2022-05-29T09:15:22.202Z"
   },
   {
    "duration": 49,
    "start_time": "2022-05-29T09:15:22.242Z"
   },
   {
    "duration": 26,
    "start_time": "2022-05-29T09:15:22.293Z"
   },
   {
    "duration": 68,
    "start_time": "2022-05-29T09:15:22.320Z"
   },
   {
    "duration": 55,
    "start_time": "2022-05-29T09:15:22.390Z"
   },
   {
    "duration": 4,
    "start_time": "2022-05-29T09:15:22.446Z"
   },
   {
    "duration": 49,
    "start_time": "2022-05-29T09:15:22.452Z"
   },
   {
    "duration": 7,
    "start_time": "2022-05-29T09:15:22.506Z"
   },
   {
    "duration": 6,
    "start_time": "2022-05-29T09:15:22.514Z"
   },
   {
    "duration": 58,
    "start_time": "2022-05-29T09:15:22.522Z"
   },
   {
    "duration": 10,
    "start_time": "2022-05-29T09:15:22.581Z"
   },
   {
    "duration": 9,
    "start_time": "2022-05-29T09:15:22.593Z"
   },
   {
    "duration": 6,
    "start_time": "2022-05-29T09:15:22.604Z"
   },
   {
    "duration": 11,
    "start_time": "2022-05-29T09:15:22.612Z"
   },
   {
    "duration": 711,
    "start_time": "2022-05-29T09:15:22.625Z"
   },
   {
    "duration": 8,
    "start_time": "2022-05-29T09:15:23.337Z"
   },
   {
    "duration": 7,
    "start_time": "2022-05-29T09:15:23.347Z"
   },
   {
    "duration": 26,
    "start_time": "2022-05-29T09:15:23.355Z"
   },
   {
    "duration": 163,
    "start_time": "2022-05-29T09:15:23.385Z"
   },
   {
    "duration": 9,
    "start_time": "2022-05-29T09:15:23.550Z"
   },
   {
    "duration": 27,
    "start_time": "2022-05-29T09:15:23.561Z"
   },
   {
    "duration": 8,
    "start_time": "2022-05-29T09:15:23.592Z"
   },
   {
    "duration": 220,
    "start_time": "2022-05-29T09:15:23.602Z"
   },
   {
    "duration": 146,
    "start_time": "2022-05-29T09:15:23.824Z"
   },
   {
    "duration": 19,
    "start_time": "2022-05-29T09:15:23.974Z"
   },
   {
    "duration": 7,
    "start_time": "2022-05-29T09:15:23.995Z"
   },
   {
    "duration": 9,
    "start_time": "2022-05-29T09:15:24.004Z"
   },
   {
    "duration": 9,
    "start_time": "2022-05-29T09:15:24.015Z"
   },
   {
    "duration": 8,
    "start_time": "2022-05-29T09:15:24.026Z"
   },
   {
    "duration": 7,
    "start_time": "2022-05-29T09:15:24.035Z"
   },
   {
    "duration": 12,
    "start_time": "2022-05-29T09:15:55.395Z"
   },
   {
    "duration": 10,
    "start_time": "2022-05-29T09:16:19.591Z"
   },
   {
    "duration": 11,
    "start_time": "2022-05-29T09:16:51.591Z"
   },
   {
    "duration": 6,
    "start_time": "2022-05-29T09:19:14.605Z"
   },
   {
    "duration": 21,
    "start_time": "2022-05-29T09:19:17.244Z"
   },
   {
    "duration": 12,
    "start_time": "2022-05-29T09:19:19.964Z"
   },
   {
    "duration": 457,
    "start_time": "2022-05-29T09:47:06.614Z"
   },
   {
    "duration": 8,
    "start_time": "2022-05-29T09:47:07.073Z"
   },
   {
    "duration": 505,
    "start_time": "2022-05-29T09:47:07.082Z"
   },
   {
    "duration": 6,
    "start_time": "2022-05-29T09:47:07.597Z"
   },
   {
    "duration": 8,
    "start_time": "2022-05-29T09:47:07.606Z"
   },
   {
    "duration": 17,
    "start_time": "2022-05-29T09:47:07.615Z"
   },
   {
    "duration": 10,
    "start_time": "2022-05-29T09:47:07.633Z"
   },
   {
    "duration": 190,
    "start_time": "2022-05-29T09:47:07.644Z"
   },
   {
    "duration": 100,
    "start_time": "2022-05-29T09:47:07.836Z"
   },
   {
    "duration": 42,
    "start_time": "2022-05-29T09:47:07.937Z"
   },
   {
    "duration": 133,
    "start_time": "2022-05-29T09:47:07.981Z"
   },
   {
    "duration": 41,
    "start_time": "2022-05-29T09:47:08.116Z"
   },
   {
    "duration": 40,
    "start_time": "2022-05-29T09:47:08.158Z"
   },
   {
    "duration": 161,
    "start_time": "2022-05-29T09:47:08.201Z"
   },
   {
    "duration": 69,
    "start_time": "2022-05-29T09:47:08.363Z"
   },
   {
    "duration": 24,
    "start_time": "2022-05-29T09:47:08.434Z"
   },
   {
    "duration": 27,
    "start_time": "2022-05-29T09:47:08.460Z"
   },
   {
    "duration": 21,
    "start_time": "2022-05-29T09:47:08.491Z"
   },
   {
    "duration": 44,
    "start_time": "2022-05-29T09:47:08.514Z"
   },
   {
    "duration": 73,
    "start_time": "2022-05-29T09:47:08.560Z"
   },
   {
    "duration": 15,
    "start_time": "2022-05-29T09:47:08.634Z"
   },
   {
    "duration": 42,
    "start_time": "2022-05-29T09:47:08.651Z"
   },
   {
    "duration": 55,
    "start_time": "2022-05-29T09:47:08.694Z"
   },
   {
    "duration": 33,
    "start_time": "2022-05-29T09:47:08.750Z"
   },
   {
    "duration": 19,
    "start_time": "2022-05-29T09:47:08.785Z"
   },
   {
    "duration": 21,
    "start_time": "2022-05-29T09:47:08.806Z"
   },
   {
    "duration": 50,
    "start_time": "2022-05-29T09:47:08.829Z"
   },
   {
    "duration": 33,
    "start_time": "2022-05-29T09:47:08.881Z"
   },
   {
    "duration": 25,
    "start_time": "2022-05-29T09:47:08.917Z"
   },
   {
    "duration": 20,
    "start_time": "2022-05-29T09:47:08.944Z"
   },
   {
    "duration": 44,
    "start_time": "2022-05-29T09:47:08.965Z"
   },
   {
    "duration": 13,
    "start_time": "2022-05-29T09:47:09.012Z"
   },
   {
    "duration": 22,
    "start_time": "2022-05-29T09:47:09.027Z"
   },
   {
    "duration": 50,
    "start_time": "2022-05-29T09:47:09.050Z"
   },
   {
    "duration": 36,
    "start_time": "2022-05-29T09:47:09.102Z"
   },
   {
    "duration": 44,
    "start_time": "2022-05-29T09:47:09.140Z"
   },
   {
    "duration": 70,
    "start_time": "2022-05-29T09:47:09.189Z"
   },
   {
    "duration": 66,
    "start_time": "2022-05-29T09:47:09.260Z"
   },
   {
    "duration": 4,
    "start_time": "2022-05-29T09:47:09.328Z"
   },
   {
    "duration": 32,
    "start_time": "2022-05-29T09:47:09.333Z"
   },
   {
    "duration": 18,
    "start_time": "2022-05-29T09:47:09.375Z"
   },
   {
    "duration": 17,
    "start_time": "2022-05-29T09:47:09.398Z"
   },
   {
    "duration": 38,
    "start_time": "2022-05-29T09:47:09.416Z"
   },
   {
    "duration": 8,
    "start_time": "2022-05-29T09:47:09.456Z"
   },
   {
    "duration": 8,
    "start_time": "2022-05-29T09:47:09.465Z"
   },
   {
    "duration": 42,
    "start_time": "2022-05-29T09:47:09.474Z"
   },
   {
    "duration": 18,
    "start_time": "2022-05-29T09:47:09.518Z"
   },
   {
    "duration": 698,
    "start_time": "2022-05-29T09:47:09.537Z"
   },
   {
    "duration": 10,
    "start_time": "2022-05-29T09:47:10.236Z"
   },
   {
    "duration": 12,
    "start_time": "2022-05-29T09:47:10.247Z"
   },
   {
    "duration": 19,
    "start_time": "2022-05-29T09:47:10.274Z"
   },
   {
    "duration": 170,
    "start_time": "2022-05-29T09:47:10.295Z"
   },
   {
    "duration": 30,
    "start_time": "2022-05-29T09:47:10.466Z"
   },
   {
    "duration": 14,
    "start_time": "2022-05-29T09:47:10.502Z"
   },
   {
    "duration": 6,
    "start_time": "2022-05-29T09:47:10.518Z"
   },
   {
    "duration": 228,
    "start_time": "2022-05-29T09:47:10.525Z"
   },
   {
    "duration": 160,
    "start_time": "2022-05-29T09:47:10.754Z"
   },
   {
    "duration": 8,
    "start_time": "2022-05-29T09:47:10.916Z"
   },
   {
    "duration": 12,
    "start_time": "2022-05-29T09:47:10.926Z"
   },
   {
    "duration": 10,
    "start_time": "2022-05-29T09:47:10.939Z"
   },
   {
    "duration": 25,
    "start_time": "2022-05-29T09:47:10.951Z"
   },
   {
    "duration": 30,
    "start_time": "2022-05-29T09:47:10.981Z"
   },
   {
    "duration": 9,
    "start_time": "2022-05-29T09:47:11.012Z"
   },
   {
    "duration": 502,
    "start_time": "2022-05-29T09:49:51.361Z"
   },
   {
    "duration": 5,
    "start_time": "2022-05-29T09:49:51.865Z"
   },
   {
    "duration": 462,
    "start_time": "2022-05-29T09:49:51.871Z"
   },
   {
    "duration": 6,
    "start_time": "2022-05-29T09:49:52.336Z"
   },
   {
    "duration": 9,
    "start_time": "2022-05-29T09:49:52.344Z"
   },
   {
    "duration": 41,
    "start_time": "2022-05-29T09:49:52.355Z"
   },
   {
    "duration": 28,
    "start_time": "2022-05-29T09:49:52.400Z"
   },
   {
    "duration": 189,
    "start_time": "2022-05-29T09:49:52.429Z"
   },
   {
    "duration": 105,
    "start_time": "2022-05-29T09:49:52.619Z"
   },
   {
    "duration": 49,
    "start_time": "2022-05-29T09:49:52.726Z"
   },
   {
    "duration": 138,
    "start_time": "2022-05-29T09:49:52.777Z"
   },
   {
    "duration": 62,
    "start_time": "2022-05-29T09:49:52.917Z"
   },
   {
    "duration": 34,
    "start_time": "2022-05-29T09:49:52.981Z"
   },
   {
    "duration": 208,
    "start_time": "2022-05-29T09:49:53.017Z"
   },
   {
    "duration": 72,
    "start_time": "2022-05-29T09:49:53.226Z"
   },
   {
    "duration": 24,
    "start_time": "2022-05-29T09:49:53.301Z"
   },
   {
    "duration": 20,
    "start_time": "2022-05-29T09:49:53.326Z"
   },
   {
    "duration": 15,
    "start_time": "2022-05-29T09:49:53.347Z"
   },
   {
    "duration": 56,
    "start_time": "2022-05-29T09:49:53.363Z"
   },
   {
    "duration": 64,
    "start_time": "2022-05-29T09:49:53.420Z"
   },
   {
    "duration": 20,
    "start_time": "2022-05-29T09:49:53.485Z"
   },
   {
    "duration": 17,
    "start_time": "2022-05-29T09:49:53.507Z"
   },
   {
    "duration": 25,
    "start_time": "2022-05-29T09:49:53.526Z"
   },
   {
    "duration": 61,
    "start_time": "2022-05-29T09:49:53.553Z"
   },
   {
    "duration": 13,
    "start_time": "2022-05-29T09:49:53.616Z"
   },
   {
    "duration": 16,
    "start_time": "2022-05-29T09:49:53.631Z"
   },
   {
    "duration": 49,
    "start_time": "2022-05-29T09:49:53.648Z"
   },
   {
    "duration": 24,
    "start_time": "2022-05-29T09:49:53.702Z"
   },
   {
    "duration": 10,
    "start_time": "2022-05-29T09:49:53.728Z"
   },
   {
    "duration": 47,
    "start_time": "2022-05-29T09:49:53.739Z"
   },
   {
    "duration": 32,
    "start_time": "2022-05-29T09:49:53.789Z"
   },
   {
    "duration": 11,
    "start_time": "2022-05-29T09:49:53.823Z"
   },
   {
    "duration": 42,
    "start_time": "2022-05-29T09:49:53.835Z"
   },
   {
    "duration": 38,
    "start_time": "2022-05-29T09:49:53.888Z"
   },
   {
    "duration": 34,
    "start_time": "2022-05-29T09:49:53.928Z"
   },
   {
    "duration": 38,
    "start_time": "2022-05-29T09:49:53.978Z"
   },
   {
    "duration": 48,
    "start_time": "2022-05-29T09:49:54.017Z"
   },
   {
    "duration": 72,
    "start_time": "2022-05-29T09:49:54.066Z"
   },
   {
    "duration": 4,
    "start_time": "2022-05-29T09:49:54.140Z"
   },
   {
    "duration": 51,
    "start_time": "2022-05-29T09:49:54.146Z"
   },
   {
    "duration": 8,
    "start_time": "2022-05-29T09:49:54.200Z"
   },
   {
    "duration": 7,
    "start_time": "2022-05-29T09:49:54.210Z"
   },
   {
    "duration": 62,
    "start_time": "2022-05-29T09:49:54.218Z"
   },
   {
    "duration": 19,
    "start_time": "2022-05-29T09:49:54.281Z"
   },
   {
    "duration": 12,
    "start_time": "2022-05-29T09:49:54.303Z"
   },
   {
    "duration": 9,
    "start_time": "2022-05-29T09:49:54.317Z"
   },
   {
    "duration": 25,
    "start_time": "2022-05-29T09:49:54.327Z"
   },
   {
    "duration": 672,
    "start_time": "2022-05-29T09:49:54.353Z"
   },
   {
    "duration": 9,
    "start_time": "2022-05-29T09:49:55.027Z"
   },
   {
    "duration": 10,
    "start_time": "2022-05-29T09:49:55.037Z"
   },
   {
    "duration": 8,
    "start_time": "2022-05-29T09:49:55.048Z"
   },
   {
    "duration": 159,
    "start_time": "2022-05-29T09:49:55.075Z"
   },
   {
    "duration": 9,
    "start_time": "2022-05-29T09:49:55.236Z"
   },
   {
    "duration": 11,
    "start_time": "2022-05-29T09:49:55.246Z"
   },
   {
    "duration": 19,
    "start_time": "2022-05-29T09:49:55.258Z"
   },
   {
    "duration": 227,
    "start_time": "2022-05-29T09:49:55.279Z"
   },
   {
    "duration": 151,
    "start_time": "2022-05-29T09:49:55.508Z"
   },
   {
    "duration": 8,
    "start_time": "2022-05-29T09:49:55.660Z"
   },
   {
    "duration": 14,
    "start_time": "2022-05-29T09:49:55.670Z"
   },
   {
    "duration": 25,
    "start_time": "2022-05-29T09:49:55.685Z"
   },
   {
    "duration": 10,
    "start_time": "2022-05-29T09:49:55.711Z"
   },
   {
    "duration": 11,
    "start_time": "2022-05-29T09:49:55.722Z"
   },
   {
    "duration": 8,
    "start_time": "2022-05-29T09:49:55.735Z"
   },
   {
    "duration": 57,
    "start_time": "2022-05-29T17:43:14.751Z"
   },
   {
    "duration": 771,
    "start_time": "2022-05-29T17:43:20.491Z"
   },
   {
    "duration": 8,
    "start_time": "2022-05-29T17:43:21.264Z"
   },
   {
    "duration": 637,
    "start_time": "2022-05-29T17:43:21.274Z"
   },
   {
    "duration": 10,
    "start_time": "2022-05-29T17:43:21.913Z"
   },
   {
    "duration": 7,
    "start_time": "2022-05-29T17:43:21.925Z"
   },
   {
    "duration": 18,
    "start_time": "2022-05-29T17:43:21.934Z"
   },
   {
    "duration": 11,
    "start_time": "2022-05-29T17:43:21.954Z"
   },
   {
    "duration": 259,
    "start_time": "2022-05-29T17:43:21.967Z"
   },
   {
    "duration": 111,
    "start_time": "2022-05-29T17:43:22.228Z"
   },
   {
    "duration": 34,
    "start_time": "2022-05-29T17:43:22.341Z"
   },
   {
    "duration": 373,
    "start_time": "2022-05-29T17:43:22.377Z"
   },
   {
    "duration": 53,
    "start_time": "2022-05-29T17:43:22.752Z"
   },
   {
    "duration": 32,
    "start_time": "2022-05-29T17:43:22.807Z"
   },
   {
    "duration": 342,
    "start_time": "2022-05-29T17:43:27.603Z"
   },
   {
    "duration": 44,
    "start_time": "2022-05-29T17:47:32.500Z"
   },
   {
    "duration": 13,
    "start_time": "2022-05-29T17:48:09.418Z"
   },
   {
    "duration": 52,
    "start_time": "2022-05-29T17:50:36.846Z"
   },
   {
    "duration": 5,
    "start_time": "2022-05-29T17:50:36.900Z"
   },
   {
    "duration": 139,
    "start_time": "2022-05-29T17:50:36.907Z"
   },
   {
    "duration": 5,
    "start_time": "2022-05-29T17:50:37.048Z"
   },
   {
    "duration": 8,
    "start_time": "2022-05-29T17:50:37.055Z"
   },
   {
    "duration": 14,
    "start_time": "2022-05-29T17:50:37.065Z"
   },
   {
    "duration": 47,
    "start_time": "2022-05-29T17:50:37.081Z"
   },
   {
    "duration": 182,
    "start_time": "2022-05-29T17:50:37.130Z"
   },
   {
    "duration": 99,
    "start_time": "2022-05-29T17:50:37.313Z"
   },
   {
    "duration": 40,
    "start_time": "2022-05-29T17:50:37.414Z"
   },
   {
    "duration": 113,
    "start_time": "2022-05-29T17:50:37.455Z"
   },
   {
    "duration": 59,
    "start_time": "2022-05-29T17:50:37.570Z"
   },
   {
    "duration": 22,
    "start_time": "2022-05-29T17:50:37.631Z"
   },
   {
    "duration": 181,
    "start_time": "2022-05-29T17:50:37.655Z"
   },
   {
    "duration": 46,
    "start_time": "2022-05-29T17:50:37.838Z"
   },
   {
    "duration": 49,
    "start_time": "2022-05-29T17:50:37.885Z"
   },
   {
    "duration": 83,
    "start_time": "2022-05-29T17:50:37.936Z"
   },
   {
    "duration": 9,
    "start_time": "2022-05-29T17:50:40.690Z"
   },
   {
    "duration": 19,
    "start_time": "2022-05-29T17:51:16.462Z"
   },
   {
    "duration": 8,
    "start_time": "2022-05-29T18:04:10.920Z"
   },
   {
    "duration": 75,
    "start_time": "2022-05-29T18:04:18.221Z"
   },
   {
    "duration": 8,
    "start_time": "2022-05-29T18:04:18.299Z"
   },
   {
    "duration": 201,
    "start_time": "2022-05-29T18:04:18.310Z"
   },
   {
    "duration": 11,
    "start_time": "2022-05-29T18:04:18.513Z"
   },
   {
    "duration": 14,
    "start_time": "2022-05-29T18:04:18.526Z"
   },
   {
    "duration": 24,
    "start_time": "2022-05-29T18:04:18.542Z"
   },
   {
    "duration": 23,
    "start_time": "2022-05-29T18:04:18.568Z"
   },
   {
    "duration": 272,
    "start_time": "2022-05-29T18:04:18.593Z"
   },
   {
    "duration": 167,
    "start_time": "2022-05-29T18:04:18.867Z"
   },
   {
    "duration": 55,
    "start_time": "2022-05-29T18:04:19.039Z"
   },
   {
    "duration": 169,
    "start_time": "2022-05-29T18:04:19.096Z"
   },
   {
    "duration": 91,
    "start_time": "2022-05-29T18:04:19.267Z"
   },
   {
    "duration": 38,
    "start_time": "2022-05-29T18:04:19.360Z"
   },
   {
    "duration": 213,
    "start_time": "2022-05-29T18:04:19.400Z"
   },
   {
    "duration": 54,
    "start_time": "2022-05-29T18:04:19.614Z"
   },
   {
    "duration": 27,
    "start_time": "2022-05-29T18:04:19.669Z"
   },
   {
    "duration": 46,
    "start_time": "2022-05-29T18:04:19.698Z"
   },
   {
    "duration": 19,
    "start_time": "2022-05-29T18:04:19.746Z"
   },
   {
    "duration": 75,
    "start_time": "2022-05-29T18:04:19.767Z"
   },
   {
    "duration": 399,
    "start_time": "2022-05-29T18:04:19.844Z"
   },
   {
    "duration": 18,
    "start_time": "2022-05-29T18:04:20.244Z"
   },
   {
    "duration": 18,
    "start_time": "2022-05-29T18:04:20.263Z"
   },
   {
    "duration": 60,
    "start_time": "2022-05-29T18:04:20.283Z"
   },
   {
    "duration": 44,
    "start_time": "2022-05-29T18:04:20.345Z"
   },
   {
    "duration": 45,
    "start_time": "2022-05-29T18:04:20.391Z"
   },
   {
    "duration": 23,
    "start_time": "2022-05-29T18:04:20.438Z"
   },
   {
    "duration": 61,
    "start_time": "2022-05-29T18:04:20.462Z"
   },
   {
    "duration": 24,
    "start_time": "2022-05-29T18:04:20.526Z"
   },
   {
    "duration": 13,
    "start_time": "2022-05-29T18:04:24.219Z"
   },
   {
    "duration": 26,
    "start_time": "2022-05-29T18:08:09.122Z"
   },
   {
    "duration": 13,
    "start_time": "2022-05-29T18:08:18.793Z"
   },
   {
    "duration": 28,
    "start_time": "2022-05-29T18:13:58.195Z"
   },
   {
    "duration": 43,
    "start_time": "2022-05-29T18:14:19.548Z"
   },
   {
    "duration": 63,
    "start_time": "2022-05-29T18:14:25.276Z"
   },
   {
    "duration": 6,
    "start_time": "2022-05-29T18:14:25.341Z"
   },
   {
    "duration": 172,
    "start_time": "2022-05-29T18:14:25.348Z"
   },
   {
    "duration": 5,
    "start_time": "2022-05-29T18:14:25.524Z"
   },
   {
    "duration": 12,
    "start_time": "2022-05-29T18:14:25.531Z"
   },
   {
    "duration": 17,
    "start_time": "2022-05-29T18:14:25.544Z"
   },
   {
    "duration": 11,
    "start_time": "2022-05-29T18:14:25.562Z"
   },
   {
    "duration": 222,
    "start_time": "2022-05-29T18:14:25.575Z"
   },
   {
    "duration": 137,
    "start_time": "2022-05-29T18:14:25.799Z"
   },
   {
    "duration": 37,
    "start_time": "2022-05-29T18:14:25.939Z"
   },
   {
    "duration": 129,
    "start_time": "2022-05-29T18:14:25.978Z"
   },
   {
    "duration": 67,
    "start_time": "2022-05-29T18:14:26.110Z"
   },
   {
    "duration": 21,
    "start_time": "2022-05-29T18:14:26.179Z"
   },
   {
    "duration": 180,
    "start_time": "2022-05-29T18:14:26.201Z"
   },
   {
    "duration": 62,
    "start_time": "2022-05-29T18:14:26.382Z"
   },
   {
    "duration": 26,
    "start_time": "2022-05-29T18:14:26.446Z"
   },
   {
    "duration": 41,
    "start_time": "2022-05-29T18:14:26.474Z"
   },
   {
    "duration": 16,
    "start_time": "2022-05-29T18:14:26.523Z"
   },
   {
    "duration": 37,
    "start_time": "2022-05-29T18:14:26.541Z"
   },
   {
    "duration": 88,
    "start_time": "2022-05-29T18:14:26.580Z"
   },
   {
    "duration": 24,
    "start_time": "2022-05-29T18:14:26.670Z"
   },
   {
    "duration": 46,
    "start_time": "2022-05-29T18:14:26.696Z"
   },
   {
    "duration": 41,
    "start_time": "2022-05-29T18:14:26.745Z"
   },
   {
    "duration": 68,
    "start_time": "2022-05-29T18:14:26.788Z"
   },
   {
    "duration": 21,
    "start_time": "2022-05-29T18:14:26.858Z"
   },
   {
    "duration": 49,
    "start_time": "2022-05-29T18:14:26.881Z"
   },
   {
    "duration": 43,
    "start_time": "2022-05-29T18:14:26.932Z"
   },
   {
    "duration": 45,
    "start_time": "2022-05-29T18:14:26.978Z"
   },
   {
    "duration": 12,
    "start_time": "2022-05-29T18:14:27.025Z"
   },
   {
    "duration": 21,
    "start_time": "2022-05-29T18:14:27.038Z"
   },
   {
    "duration": 27,
    "start_time": "2022-05-29T18:14:29.887Z"
   },
   {
    "duration": 27,
    "start_time": "2022-05-29T18:15:17.229Z"
   },
   {
    "duration": 13,
    "start_time": "2022-05-29T18:15:27.218Z"
   },
   {
    "duration": 22,
    "start_time": "2022-05-29T18:15:52.390Z"
   },
   {
    "duration": 11,
    "start_time": "2022-05-29T18:15:55.308Z"
   },
   {
    "duration": 51,
    "start_time": "2022-05-29T18:16:38.302Z"
   },
   {
    "duration": 6,
    "start_time": "2022-05-29T18:16:38.354Z"
   },
   {
    "duration": 183,
    "start_time": "2022-05-29T18:16:38.361Z"
   },
   {
    "duration": 6,
    "start_time": "2022-05-29T18:16:38.546Z"
   },
   {
    "duration": 11,
    "start_time": "2022-05-29T18:16:38.553Z"
   },
   {
    "duration": 15,
    "start_time": "2022-05-29T18:16:38.566Z"
   },
   {
    "duration": 48,
    "start_time": "2022-05-29T18:16:38.583Z"
   },
   {
    "duration": 202,
    "start_time": "2022-05-29T18:16:38.633Z"
   },
   {
    "duration": 126,
    "start_time": "2022-05-29T18:16:38.837Z"
   },
   {
    "duration": 34,
    "start_time": "2022-05-29T18:16:38.966Z"
   },
   {
    "duration": 136,
    "start_time": "2022-05-29T18:16:39.002Z"
   },
   {
    "duration": 44,
    "start_time": "2022-05-29T18:16:39.139Z"
   },
   {
    "duration": 44,
    "start_time": "2022-05-29T18:16:39.184Z"
   },
   {
    "duration": 216,
    "start_time": "2022-05-29T18:16:39.230Z"
   },
   {
    "duration": 43,
    "start_time": "2022-05-29T18:16:39.448Z"
   },
   {
    "duration": 42,
    "start_time": "2022-05-29T18:16:39.493Z"
   },
   {
    "duration": 35,
    "start_time": "2022-05-29T18:16:39.537Z"
   },
   {
    "duration": 17,
    "start_time": "2022-05-29T18:16:39.573Z"
   },
   {
    "duration": 56,
    "start_time": "2022-05-29T18:16:39.592Z"
   },
   {
    "duration": 76,
    "start_time": "2022-05-29T18:16:39.650Z"
   },
   {
    "duration": 15,
    "start_time": "2022-05-29T18:16:39.728Z"
   },
   {
    "duration": 18,
    "start_time": "2022-05-29T18:16:39.745Z"
   },
   {
    "duration": 81,
    "start_time": "2022-05-29T18:16:39.765Z"
   },
   {
    "duration": 34,
    "start_time": "2022-05-29T18:16:39.849Z"
   },
   {
    "duration": 15,
    "start_time": "2022-05-29T18:16:39.884Z"
   },
   {
    "duration": 22,
    "start_time": "2022-05-29T18:16:39.922Z"
   },
   {
    "duration": 44,
    "start_time": "2022-05-29T18:16:39.946Z"
   },
   {
    "duration": 44,
    "start_time": "2022-05-29T18:16:39.994Z"
   },
   {
    "duration": 12,
    "start_time": "2022-05-29T18:16:40.039Z"
   },
   {
    "duration": 25,
    "start_time": "2022-05-29T18:16:40.053Z"
   },
   {
    "duration": 51,
    "start_time": "2022-05-29T18:16:40.079Z"
   },
   {
    "duration": 0,
    "start_time": "2022-05-29T18:16:40.132Z"
   },
   {
    "duration": 0,
    "start_time": "2022-05-29T18:16:40.133Z"
   },
   {
    "duration": 0,
    "start_time": "2022-05-29T18:16:40.134Z"
   },
   {
    "duration": 0,
    "start_time": "2022-05-29T18:16:40.136Z"
   },
   {
    "duration": 0,
    "start_time": "2022-05-29T18:16:40.138Z"
   },
   {
    "duration": 0,
    "start_time": "2022-05-29T18:16:40.140Z"
   },
   {
    "duration": 0,
    "start_time": "2022-05-29T18:16:40.142Z"
   },
   {
    "duration": 0,
    "start_time": "2022-05-29T18:16:40.144Z"
   },
   {
    "duration": 0,
    "start_time": "2022-05-29T18:16:40.145Z"
   },
   {
    "duration": 0,
    "start_time": "2022-05-29T18:16:40.147Z"
   },
   {
    "duration": 0,
    "start_time": "2022-05-29T18:16:40.148Z"
   },
   {
    "duration": 0,
    "start_time": "2022-05-29T18:16:40.150Z"
   },
   {
    "duration": 0,
    "start_time": "2022-05-29T18:16:40.151Z"
   },
   {
    "duration": 0,
    "start_time": "2022-05-29T18:16:40.153Z"
   },
   {
    "duration": 0,
    "start_time": "2022-05-29T18:16:40.154Z"
   },
   {
    "duration": 0,
    "start_time": "2022-05-29T18:16:40.155Z"
   },
   {
    "duration": 0,
    "start_time": "2022-05-29T18:16:40.157Z"
   },
   {
    "duration": 0,
    "start_time": "2022-05-29T18:16:40.159Z"
   },
   {
    "duration": 0,
    "start_time": "2022-05-29T18:16:40.160Z"
   },
   {
    "duration": 0,
    "start_time": "2022-05-29T18:16:40.161Z"
   },
   {
    "duration": 0,
    "start_time": "2022-05-29T18:16:40.162Z"
   },
   {
    "duration": 0,
    "start_time": "2022-05-29T18:16:40.163Z"
   },
   {
    "duration": 1,
    "start_time": "2022-05-29T18:16:40.164Z"
   },
   {
    "duration": 0,
    "start_time": "2022-05-29T18:16:40.166Z"
   },
   {
    "duration": 0,
    "start_time": "2022-05-29T18:16:40.223Z"
   },
   {
    "duration": 0,
    "start_time": "2022-05-29T18:16:40.225Z"
   },
   {
    "duration": 0,
    "start_time": "2022-05-29T18:16:40.226Z"
   },
   {
    "duration": 0,
    "start_time": "2022-05-29T18:16:40.227Z"
   },
   {
    "duration": 0,
    "start_time": "2022-05-29T18:16:40.228Z"
   },
   {
    "duration": 0,
    "start_time": "2022-05-29T18:16:40.232Z"
   },
   {
    "duration": 0,
    "start_time": "2022-05-29T18:16:40.234Z"
   },
   {
    "duration": 0,
    "start_time": "2022-05-29T18:16:40.236Z"
   },
   {
    "duration": 0,
    "start_time": "2022-05-29T18:16:40.237Z"
   },
   {
    "duration": 16,
    "start_time": "2022-05-29T18:17:17.030Z"
   },
   {
    "duration": 62,
    "start_time": "2022-05-29T18:17:35.226Z"
   },
   {
    "duration": 7,
    "start_time": "2022-05-29T18:17:35.291Z"
   },
   {
    "duration": 169,
    "start_time": "2022-05-29T18:17:35.300Z"
   },
   {
    "duration": 5,
    "start_time": "2022-05-29T18:17:35.471Z"
   },
   {
    "duration": 12,
    "start_time": "2022-05-29T18:17:35.477Z"
   },
   {
    "duration": 39,
    "start_time": "2022-05-29T18:17:35.491Z"
   },
   {
    "duration": 13,
    "start_time": "2022-05-29T18:17:35.531Z"
   },
   {
    "duration": 192,
    "start_time": "2022-05-29T18:17:35.545Z"
   },
   {
    "duration": 97,
    "start_time": "2022-05-29T18:17:35.738Z"
   },
   {
    "duration": 33,
    "start_time": "2022-05-29T18:17:35.837Z"
   },
   {
    "duration": 193,
    "start_time": "2022-05-29T18:17:35.871Z"
   },
   {
    "duration": 62,
    "start_time": "2022-05-29T18:17:36.065Z"
   },
   {
    "duration": 22,
    "start_time": "2022-05-29T18:17:36.129Z"
   },
   {
    "duration": 189,
    "start_time": "2022-05-29T18:17:36.153Z"
   },
   {
    "duration": 44,
    "start_time": "2022-05-29T18:17:36.343Z"
   },
   {
    "duration": 41,
    "start_time": "2022-05-29T18:17:36.388Z"
   },
   {
    "duration": 35,
    "start_time": "2022-05-29T18:17:36.431Z"
   },
   {
    "duration": 16,
    "start_time": "2022-05-29T18:17:36.467Z"
   },
   {
    "duration": 49,
    "start_time": "2022-05-29T18:17:36.484Z"
   },
   {
    "duration": 46,
    "start_time": "2022-05-29T18:17:36.535Z"
   },
   {
    "duration": 41,
    "start_time": "2022-05-29T18:17:36.583Z"
   },
   {
    "duration": 12,
    "start_time": "2022-05-29T18:17:36.625Z"
   },
   {
    "duration": 24,
    "start_time": "2022-05-29T18:17:36.639Z"
   },
   {
    "duration": 59,
    "start_time": "2022-05-29T18:17:36.665Z"
   },
   {
    "duration": 14,
    "start_time": "2022-05-29T18:17:36.725Z"
   },
   {
    "duration": 17,
    "start_time": "2022-05-29T18:17:36.740Z"
   },
   {
    "duration": 64,
    "start_time": "2022-05-29T18:17:36.759Z"
   },
   {
    "duration": 21,
    "start_time": "2022-05-29T18:17:36.827Z"
   },
   {
    "duration": 10,
    "start_time": "2022-05-29T18:17:36.850Z"
   },
   {
    "duration": 20,
    "start_time": "2022-05-29T18:17:36.861Z"
   },
   {
    "duration": 62,
    "start_time": "2022-05-29T18:17:36.882Z"
   },
   {
    "duration": 10,
    "start_time": "2022-05-29T18:17:36.945Z"
   },
   {
    "duration": 21,
    "start_time": "2022-05-29T18:17:36.956Z"
   },
   {
    "duration": 0,
    "start_time": "2022-05-29T18:17:36.978Z"
   },
   {
    "duration": 0,
    "start_time": "2022-05-29T18:17:36.979Z"
   },
   {
    "duration": 0,
    "start_time": "2022-05-29T18:17:36.980Z"
   },
   {
    "duration": 0,
    "start_time": "2022-05-29T18:17:36.982Z"
   },
   {
    "duration": 0,
    "start_time": "2022-05-29T18:17:36.983Z"
   },
   {
    "duration": 0,
    "start_time": "2022-05-29T18:17:36.984Z"
   },
   {
    "duration": 0,
    "start_time": "2022-05-29T18:17:36.985Z"
   },
   {
    "duration": 0,
    "start_time": "2022-05-29T18:17:36.986Z"
   },
   {
    "duration": 0,
    "start_time": "2022-05-29T18:17:36.987Z"
   },
   {
    "duration": 0,
    "start_time": "2022-05-29T18:17:37.023Z"
   },
   {
    "duration": 0,
    "start_time": "2022-05-29T18:17:37.025Z"
   },
   {
    "duration": 0,
    "start_time": "2022-05-29T18:17:37.026Z"
   },
   {
    "duration": 0,
    "start_time": "2022-05-29T18:17:37.027Z"
   },
   {
    "duration": 0,
    "start_time": "2022-05-29T18:17:37.028Z"
   },
   {
    "duration": 0,
    "start_time": "2022-05-29T18:17:37.029Z"
   },
   {
    "duration": 0,
    "start_time": "2022-05-29T18:17:37.030Z"
   },
   {
    "duration": 0,
    "start_time": "2022-05-29T18:17:37.031Z"
   },
   {
    "duration": 0,
    "start_time": "2022-05-29T18:17:37.033Z"
   },
   {
    "duration": 0,
    "start_time": "2022-05-29T18:17:37.034Z"
   },
   {
    "duration": 0,
    "start_time": "2022-05-29T18:17:37.034Z"
   },
   {
    "duration": 0,
    "start_time": "2022-05-29T18:17:37.035Z"
   },
   {
    "duration": 0,
    "start_time": "2022-05-29T18:17:37.036Z"
   },
   {
    "duration": 0,
    "start_time": "2022-05-29T18:17:37.037Z"
   },
   {
    "duration": 0,
    "start_time": "2022-05-29T18:17:37.038Z"
   },
   {
    "duration": 0,
    "start_time": "2022-05-29T18:17:37.039Z"
   },
   {
    "duration": 0,
    "start_time": "2022-05-29T18:17:37.040Z"
   },
   {
    "duration": 0,
    "start_time": "2022-05-29T18:17:37.041Z"
   },
   {
    "duration": 0,
    "start_time": "2022-05-29T18:17:37.042Z"
   },
   {
    "duration": 0,
    "start_time": "2022-05-29T18:17:37.043Z"
   },
   {
    "duration": 0,
    "start_time": "2022-05-29T18:17:37.043Z"
   },
   {
    "duration": 0,
    "start_time": "2022-05-29T18:17:37.044Z"
   },
   {
    "duration": 5,
    "start_time": "2022-05-29T18:19:26.592Z"
   },
   {
    "duration": 7,
    "start_time": "2022-05-29T18:21:13.262Z"
   },
   {
    "duration": 17,
    "start_time": "2022-05-29T18:21:38.123Z"
   },
   {
    "duration": 11,
    "start_time": "2022-05-29T18:22:45.235Z"
   },
   {
    "duration": 16,
    "start_time": "2022-05-29T18:28:26.475Z"
   },
   {
    "duration": 10,
    "start_time": "2022-05-29T18:28:35.049Z"
   },
   {
    "duration": 11,
    "start_time": "2022-05-29T18:29:11.787Z"
   },
   {
    "duration": 33,
    "start_time": "2022-05-29T18:29:33.998Z"
   },
   {
    "duration": 15,
    "start_time": "2022-05-29T18:31:23.009Z"
   },
   {
    "duration": 30,
    "start_time": "2022-05-29T18:32:08.309Z"
   },
   {
    "duration": 15,
    "start_time": "2022-05-29T18:32:20.179Z"
   },
   {
    "duration": 62,
    "start_time": "2022-05-29T18:32:29.047Z"
   },
   {
    "duration": 8,
    "start_time": "2022-05-29T18:32:29.111Z"
   },
   {
    "duration": 185,
    "start_time": "2022-05-29T18:32:29.121Z"
   },
   {
    "duration": 6,
    "start_time": "2022-05-29T18:32:29.323Z"
   },
   {
    "duration": 8,
    "start_time": "2022-05-29T18:32:29.332Z"
   },
   {
    "duration": 16,
    "start_time": "2022-05-29T18:32:29.342Z"
   },
   {
    "duration": 12,
    "start_time": "2022-05-29T18:32:29.359Z"
   },
   {
    "duration": 199,
    "start_time": "2022-05-29T18:32:29.373Z"
   },
   {
    "duration": 111,
    "start_time": "2022-05-29T18:32:29.573Z"
   },
   {
    "duration": 47,
    "start_time": "2022-05-29T18:32:29.686Z"
   },
   {
    "duration": 110,
    "start_time": "2022-05-29T18:32:29.735Z"
   },
   {
    "duration": 44,
    "start_time": "2022-05-29T18:32:29.846Z"
   },
   {
    "duration": 45,
    "start_time": "2022-05-29T18:32:29.892Z"
   },
   {
    "duration": 186,
    "start_time": "2022-05-29T18:32:29.942Z"
   },
   {
    "duration": 53,
    "start_time": "2022-05-29T18:32:30.130Z"
   },
   {
    "duration": 48,
    "start_time": "2022-05-29T18:32:30.185Z"
   },
   {
    "duration": 38,
    "start_time": "2022-05-29T18:32:30.236Z"
   },
   {
    "duration": 17,
    "start_time": "2022-05-29T18:32:30.277Z"
   },
   {
    "duration": 46,
    "start_time": "2022-05-29T18:32:30.296Z"
   },
   {
    "duration": 60,
    "start_time": "2022-05-29T18:32:30.344Z"
   },
   {
    "duration": 24,
    "start_time": "2022-05-29T18:32:30.423Z"
   },
   {
    "duration": 22,
    "start_time": "2022-05-29T18:32:30.450Z"
   },
   {
    "duration": 75,
    "start_time": "2022-05-29T18:32:30.474Z"
   },
   {
    "duration": 40,
    "start_time": "2022-05-29T18:32:30.551Z"
   },
   {
    "duration": 35,
    "start_time": "2022-05-29T18:32:30.593Z"
   },
   {
    "duration": 16,
    "start_time": "2022-05-29T18:32:30.629Z"
   },
   {
    "duration": 35,
    "start_time": "2022-05-29T18:32:30.647Z"
   },
   {
    "duration": 54,
    "start_time": "2022-05-29T18:32:30.683Z"
   },
   {
    "duration": 11,
    "start_time": "2022-05-29T18:32:30.738Z"
   },
   {
    "duration": 24,
    "start_time": "2022-05-29T18:32:30.750Z"
   },
   {
    "duration": 50,
    "start_time": "2022-05-29T18:32:30.775Z"
   },
   {
    "duration": 12,
    "start_time": "2022-05-29T18:32:30.827Z"
   },
   {
    "duration": 12,
    "start_time": "2022-05-29T18:32:30.841Z"
   },
   {
    "duration": 13,
    "start_time": "2022-05-29T18:32:30.855Z"
   },
   {
    "duration": 0,
    "start_time": "2022-05-29T18:32:30.870Z"
   },
   {
    "duration": 0,
    "start_time": "2022-05-29T18:32:30.871Z"
   },
   {
    "duration": 0,
    "start_time": "2022-05-29T18:32:30.873Z"
   },
   {
    "duration": 0,
    "start_time": "2022-05-29T18:32:30.874Z"
   },
   {
    "duration": 0,
    "start_time": "2022-05-29T18:32:30.875Z"
   },
   {
    "duration": 0,
    "start_time": "2022-05-29T18:32:30.876Z"
   },
   {
    "duration": 0,
    "start_time": "2022-05-29T18:32:30.877Z"
   },
   {
    "duration": 0,
    "start_time": "2022-05-29T18:32:30.878Z"
   },
   {
    "duration": 0,
    "start_time": "2022-05-29T18:32:30.923Z"
   },
   {
    "duration": 0,
    "start_time": "2022-05-29T18:32:30.924Z"
   },
   {
    "duration": 0,
    "start_time": "2022-05-29T18:32:30.925Z"
   },
   {
    "duration": 0,
    "start_time": "2022-05-29T18:32:30.926Z"
   },
   {
    "duration": 0,
    "start_time": "2022-05-29T18:32:30.928Z"
   },
   {
    "duration": 0,
    "start_time": "2022-05-29T18:32:30.928Z"
   },
   {
    "duration": 0,
    "start_time": "2022-05-29T18:32:30.930Z"
   },
   {
    "duration": 0,
    "start_time": "2022-05-29T18:32:30.931Z"
   },
   {
    "duration": 0,
    "start_time": "2022-05-29T18:32:30.932Z"
   },
   {
    "duration": 0,
    "start_time": "2022-05-29T18:32:30.933Z"
   },
   {
    "duration": 0,
    "start_time": "2022-05-29T18:32:30.934Z"
   },
   {
    "duration": 0,
    "start_time": "2022-05-29T18:32:30.936Z"
   },
   {
    "duration": 0,
    "start_time": "2022-05-29T18:32:30.937Z"
   },
   {
    "duration": 0,
    "start_time": "2022-05-29T18:32:30.938Z"
   },
   {
    "duration": 0,
    "start_time": "2022-05-29T18:32:30.940Z"
   },
   {
    "duration": 0,
    "start_time": "2022-05-29T18:32:30.941Z"
   },
   {
    "duration": 0,
    "start_time": "2022-05-29T18:32:30.942Z"
   },
   {
    "duration": 0,
    "start_time": "2022-05-29T18:32:30.944Z"
   },
   {
    "duration": 0,
    "start_time": "2022-05-29T18:32:30.945Z"
   },
   {
    "duration": 0,
    "start_time": "2022-05-29T18:32:30.947Z"
   },
   {
    "duration": 0,
    "start_time": "2022-05-29T18:32:30.948Z"
   },
   {
    "duration": 0,
    "start_time": "2022-05-29T18:32:30.950Z"
   },
   {
    "duration": 0,
    "start_time": "2022-05-29T18:32:30.951Z"
   },
   {
    "duration": 12,
    "start_time": "2022-05-29T18:35:30.172Z"
   },
   {
    "duration": 29,
    "start_time": "2022-05-29T18:41:08.895Z"
   },
   {
    "duration": 19,
    "start_time": "2022-05-29T18:41:21.945Z"
   },
   {
    "duration": 17,
    "start_time": "2022-05-29T18:48:51.191Z"
   },
   {
    "duration": 16,
    "start_time": "2022-05-29T18:49:54.808Z"
   },
   {
    "duration": 41,
    "start_time": "2022-05-29T18:50:25.232Z"
   },
   {
    "duration": 10,
    "start_time": "2022-05-29T18:50:58.041Z"
   },
   {
    "duration": 11,
    "start_time": "2022-05-29T18:51:18.611Z"
   },
   {
    "duration": 8,
    "start_time": "2022-05-29T18:53:46.023Z"
   },
   {
    "duration": 9,
    "start_time": "2022-05-29T18:53:52.823Z"
   },
   {
    "duration": 82,
    "start_time": "2022-05-29T18:56:09.946Z"
   },
   {
    "duration": 63,
    "start_time": "2022-05-29T18:56:42.246Z"
   },
   {
    "duration": 18,
    "start_time": "2022-05-29T18:57:08.485Z"
   },
   {
    "duration": 96,
    "start_time": "2022-05-29T18:57:18.166Z"
   },
   {
    "duration": 57,
    "start_time": "2022-05-29T18:58:09.017Z"
   },
   {
    "duration": 60,
    "start_time": "2022-05-29T18:58:34.976Z"
   },
   {
    "duration": 12,
    "start_time": "2022-05-29T18:58:45.615Z"
   },
   {
    "duration": 19,
    "start_time": "2022-05-29T19:01:23.009Z"
   },
   {
    "duration": 20,
    "start_time": "2022-05-29T19:03:55.319Z"
   },
   {
    "duration": 16,
    "start_time": "2022-05-29T19:04:24.512Z"
   },
   {
    "duration": 11,
    "start_time": "2022-05-29T19:04:33.421Z"
   },
   {
    "duration": 13,
    "start_time": "2022-05-29T19:04:56.791Z"
   },
   {
    "duration": 16,
    "start_time": "2022-05-29T19:05:13.260Z"
   },
   {
    "duration": 10,
    "start_time": "2022-05-29T19:05:47.201Z"
   },
   {
    "duration": 11,
    "start_time": "2022-05-29T19:06:05.542Z"
   },
   {
    "duration": 18,
    "start_time": "2022-05-29T19:06:23.521Z"
   },
   {
    "duration": 36,
    "start_time": "2022-05-29T19:06:56.302Z"
   },
   {
    "duration": 19,
    "start_time": "2022-05-29T19:07:18.173Z"
   },
   {
    "duration": 30,
    "start_time": "2022-05-29T19:07:55.344Z"
   },
   {
    "duration": 42,
    "start_time": "2022-05-29T19:08:08.048Z"
   },
   {
    "duration": 33,
    "start_time": "2022-05-29T19:09:10.234Z"
   },
   {
    "duration": 19,
    "start_time": "2022-05-29T19:11:03.065Z"
   },
   {
    "duration": 40,
    "start_time": "2022-05-29T19:12:13.218Z"
   },
   {
    "duration": 30,
    "start_time": "2022-05-29T19:12:23.516Z"
   },
   {
    "duration": 48,
    "start_time": "2022-05-29T19:13:30.318Z"
   },
   {
    "duration": 36,
    "start_time": "2022-05-29T19:17:24.231Z"
   },
   {
    "duration": 18,
    "start_time": "2022-05-29T19:17:35.770Z"
   },
   {
    "duration": 15,
    "start_time": "2022-05-29T19:17:57.291Z"
   },
   {
    "duration": 10,
    "start_time": "2022-05-29T19:19:13.911Z"
   },
   {
    "duration": 25,
    "start_time": "2022-05-29T19:20:16.024Z"
   },
   {
    "duration": 13,
    "start_time": "2022-05-29T19:23:06.045Z"
   },
   {
    "duration": 7,
    "start_time": "2022-05-29T19:51:04.429Z"
   },
   {
    "duration": 52,
    "start_time": "2022-05-29T19:51:16.785Z"
   },
   {
    "duration": 6,
    "start_time": "2022-05-29T19:51:16.839Z"
   },
   {
    "duration": 181,
    "start_time": "2022-05-29T19:51:16.846Z"
   },
   {
    "duration": 4,
    "start_time": "2022-05-29T19:51:17.029Z"
   },
   {
    "duration": 6,
    "start_time": "2022-05-29T19:51:17.035Z"
   },
   {
    "duration": 18,
    "start_time": "2022-05-29T19:51:17.042Z"
   },
   {
    "duration": 9,
    "start_time": "2022-05-29T19:51:17.062Z"
   },
   {
    "duration": 185,
    "start_time": "2022-05-29T19:51:17.073Z"
   },
   {
    "duration": 102,
    "start_time": "2022-05-29T19:51:17.260Z"
   },
   {
    "duration": 31,
    "start_time": "2022-05-29T19:51:17.364Z"
   },
   {
    "duration": 109,
    "start_time": "2022-05-29T19:51:17.396Z"
   },
   {
    "duration": 54,
    "start_time": "2022-05-29T19:51:17.507Z"
   },
   {
    "duration": 21,
    "start_time": "2022-05-29T19:51:17.562Z"
   },
   {
    "duration": 172,
    "start_time": "2022-05-29T19:51:17.584Z"
   },
   {
    "duration": 65,
    "start_time": "2022-05-29T19:51:17.759Z"
   },
   {
    "duration": 28,
    "start_time": "2022-05-29T19:51:17.827Z"
   },
   {
    "duration": 37,
    "start_time": "2022-05-29T19:51:17.857Z"
   },
   {
    "duration": 34,
    "start_time": "2022-05-29T19:51:17.896Z"
   },
   {
    "duration": 46,
    "start_time": "2022-05-29T19:51:17.933Z"
   },
   {
    "duration": 73,
    "start_time": "2022-05-29T19:51:17.981Z"
   },
   {
    "duration": 15,
    "start_time": "2022-05-29T19:51:18.055Z"
   },
   {
    "duration": 13,
    "start_time": "2022-05-29T19:51:18.071Z"
   },
   {
    "duration": 52,
    "start_time": "2022-05-29T19:51:18.086Z"
   },
   {
    "duration": 29,
    "start_time": "2022-05-29T19:51:18.139Z"
   },
   {
    "duration": 14,
    "start_time": "2022-05-29T19:51:18.169Z"
   },
   {
    "duration": 38,
    "start_time": "2022-05-29T19:51:18.185Z"
   },
   {
    "duration": 29,
    "start_time": "2022-05-29T19:51:18.225Z"
   },
   {
    "duration": 25,
    "start_time": "2022-05-29T19:51:18.258Z"
   },
   {
    "duration": 9,
    "start_time": "2022-05-29T19:51:18.285Z"
   },
   {
    "duration": 21,
    "start_time": "2022-05-29T19:51:18.322Z"
   },
   {
    "duration": 23,
    "start_time": "2022-05-29T19:51:18.344Z"
   },
   {
    "duration": 10,
    "start_time": "2022-05-29T19:51:18.368Z"
   },
   {
    "duration": 16,
    "start_time": "2022-05-29T19:51:18.379Z"
   },
   {
    "duration": 37,
    "start_time": "2022-05-29T19:51:18.397Z"
   },
   {
    "duration": 14,
    "start_time": "2022-05-29T19:51:18.435Z"
   },
   {
    "duration": 26,
    "start_time": "2022-05-29T19:51:18.451Z"
   },
   {
    "duration": 14,
    "start_time": "2022-05-29T19:51:18.478Z"
   },
   {
    "duration": 35,
    "start_time": "2022-05-29T19:51:18.493Z"
   },
   {
    "duration": 20,
    "start_time": "2022-05-29T19:51:18.530Z"
   },
   {
    "duration": 46,
    "start_time": "2022-05-29T19:51:18.551Z"
   },
   {
    "duration": 58,
    "start_time": "2022-05-29T19:51:18.598Z"
   },
   {
    "duration": 26,
    "start_time": "2022-05-29T19:51:18.657Z"
   },
   {
    "duration": 70,
    "start_time": "2022-05-29T19:51:18.685Z"
   },
   {
    "duration": 76,
    "start_time": "2022-05-29T19:51:18.757Z"
   },
   {
    "duration": 4,
    "start_time": "2022-05-29T19:51:18.835Z"
   },
   {
    "duration": 28,
    "start_time": "2022-05-29T19:51:18.841Z"
   },
   {
    "duration": 8,
    "start_time": "2022-05-29T19:51:18.871Z"
   },
   {
    "duration": 6,
    "start_time": "2022-05-29T19:51:18.881Z"
   },
   {
    "duration": 68,
    "start_time": "2022-05-29T19:51:18.888Z"
   },
   {
    "duration": 9,
    "start_time": "2022-05-29T19:51:18.959Z"
   },
   {
    "duration": 9,
    "start_time": "2022-05-29T19:51:18.970Z"
   },
   {
    "duration": 8,
    "start_time": "2022-05-29T19:51:18.981Z"
   },
   {
    "duration": 41,
    "start_time": "2022-05-29T19:51:18.991Z"
   },
   {
    "duration": 873,
    "start_time": "2022-05-29T19:51:19.034Z"
   },
   {
    "duration": 15,
    "start_time": "2022-05-29T19:51:19.909Z"
   },
   {
    "duration": 9,
    "start_time": "2022-05-29T19:51:19.926Z"
   },
   {
    "duration": 11,
    "start_time": "2022-05-29T19:51:19.937Z"
   },
   {
    "duration": 185,
    "start_time": "2022-05-29T19:51:19.950Z"
   },
   {
    "duration": 9,
    "start_time": "2022-05-29T19:51:20.137Z"
   },
   {
    "duration": 11,
    "start_time": "2022-05-29T19:51:20.147Z"
   },
   {
    "duration": 8,
    "start_time": "2022-05-29T19:51:20.160Z"
   },
   {
    "duration": 257,
    "start_time": "2022-05-29T19:51:20.170Z"
   },
   {
    "duration": 136,
    "start_time": "2022-05-29T19:51:20.428Z"
   },
   {
    "duration": 9,
    "start_time": "2022-05-29T19:51:20.566Z"
   },
   {
    "duration": 10,
    "start_time": "2022-05-29T19:51:20.577Z"
   },
   {
    "duration": 11,
    "start_time": "2022-05-29T19:51:20.588Z"
   },
   {
    "duration": 30,
    "start_time": "2022-05-29T19:51:20.601Z"
   },
   {
    "duration": 8,
    "start_time": "2022-05-29T19:51:20.633Z"
   },
   {
    "duration": 10,
    "start_time": "2022-05-29T19:51:20.642Z"
   },
   {
    "duration": 49,
    "start_time": "2022-05-29T19:55:06.002Z"
   },
   {
    "duration": 56,
    "start_time": "2022-05-29T19:55:55.836Z"
   },
   {
    "duration": 60,
    "start_time": "2022-05-29T20:01:01.176Z"
   },
   {
    "duration": 100,
    "start_time": "2022-05-29T20:07:10.162Z"
   },
   {
    "duration": 24,
    "start_time": "2022-05-29T20:08:00.623Z"
   },
   {
    "duration": 5,
    "start_time": "2022-05-29T20:12:43.706Z"
   },
   {
    "duration": 10,
    "start_time": "2022-05-30T06:21:06.789Z"
   },
   {
    "duration": 53,
    "start_time": "2022-05-30T06:21:12.401Z"
   },
   {
    "duration": 6,
    "start_time": "2022-05-30T06:21:12.456Z"
   },
   {
    "duration": 182,
    "start_time": "2022-05-30T06:21:12.463Z"
   },
   {
    "duration": 7,
    "start_time": "2022-05-30T06:21:12.648Z"
   },
   {
    "duration": 15,
    "start_time": "2022-05-30T06:21:12.659Z"
   },
   {
    "duration": 31,
    "start_time": "2022-05-30T06:21:12.678Z"
   },
   {
    "duration": 14,
    "start_time": "2022-05-30T06:21:12.722Z"
   },
   {
    "duration": 196,
    "start_time": "2022-05-30T06:21:12.738Z"
   },
   {
    "duration": 98,
    "start_time": "2022-05-30T06:21:12.935Z"
   },
   {
    "duration": 33,
    "start_time": "2022-05-30T06:21:13.035Z"
   },
   {
    "duration": 115,
    "start_time": "2022-05-30T06:21:13.070Z"
   },
   {
    "duration": 63,
    "start_time": "2022-05-30T06:21:13.186Z"
   },
   {
    "duration": 22,
    "start_time": "2022-05-30T06:21:13.250Z"
   },
   {
    "duration": 174,
    "start_time": "2022-05-30T06:21:13.275Z"
   },
   {
    "duration": 45,
    "start_time": "2022-05-30T06:21:13.451Z"
   },
   {
    "duration": 41,
    "start_time": "2022-05-30T06:21:13.498Z"
   },
   {
    "duration": 43,
    "start_time": "2022-05-30T06:21:13.540Z"
   },
   {
    "duration": 18,
    "start_time": "2022-05-30T06:21:13.584Z"
   },
   {
    "duration": 39,
    "start_time": "2022-05-30T06:21:13.603Z"
   },
   {
    "duration": 49,
    "start_time": "2022-05-30T06:21:13.644Z"
   },
   {
    "duration": 35,
    "start_time": "2022-05-30T06:21:13.695Z"
   },
   {
    "duration": 14,
    "start_time": "2022-05-30T06:21:13.732Z"
   },
   {
    "duration": 27,
    "start_time": "2022-05-30T06:21:13.748Z"
   },
   {
    "duration": 54,
    "start_time": "2022-05-30T06:21:13.777Z"
   },
   {
    "duration": 15,
    "start_time": "2022-05-30T06:21:13.833Z"
   },
   {
    "duration": 15,
    "start_time": "2022-05-30T06:21:13.850Z"
   },
   {
    "duration": 60,
    "start_time": "2022-05-30T06:21:13.867Z"
   },
   {
    "duration": 23,
    "start_time": "2022-05-30T06:21:13.929Z"
   },
   {
    "duration": 10,
    "start_time": "2022-05-30T06:21:13.954Z"
   },
   {
    "duration": 21,
    "start_time": "2022-05-30T06:21:13.965Z"
   },
   {
    "duration": 54,
    "start_time": "2022-05-30T06:21:13.987Z"
   },
   {
    "duration": 11,
    "start_time": "2022-05-30T06:21:14.043Z"
   },
   {
    "duration": 12,
    "start_time": "2022-05-30T06:21:14.056Z"
   },
   {
    "duration": 16,
    "start_time": "2022-05-30T06:21:14.070Z"
   },
   {
    "duration": 49,
    "start_time": "2022-05-30T06:21:14.088Z"
   },
   {
    "duration": 24,
    "start_time": "2022-05-30T06:21:14.139Z"
   },
   {
    "duration": 15,
    "start_time": "2022-05-30T06:21:14.165Z"
   },
   {
    "duration": 9,
    "start_time": "2022-05-30T06:21:14.181Z"
   },
   {
    "duration": 50,
    "start_time": "2022-05-30T06:21:14.192Z"
   },
   {
    "duration": 43,
    "start_time": "2022-05-30T06:21:14.244Z"
   },
   {
    "duration": 88,
    "start_time": "2022-05-30T06:21:14.292Z"
   },
   {
    "duration": 78,
    "start_time": "2022-05-30T06:21:14.382Z"
   },
   {
    "duration": 104,
    "start_time": "2022-05-30T06:21:14.462Z"
   },
   {
    "duration": 10,
    "start_time": "2022-05-30T06:21:14.567Z"
   },
   {
    "duration": 0,
    "start_time": "2022-05-30T06:21:14.578Z"
   },
   {
    "duration": 0,
    "start_time": "2022-05-30T06:21:14.579Z"
   },
   {
    "duration": 0,
    "start_time": "2022-05-30T06:21:14.580Z"
   },
   {
    "duration": 0,
    "start_time": "2022-05-30T06:21:14.582Z"
   },
   {
    "duration": 0,
    "start_time": "2022-05-30T06:21:14.583Z"
   },
   {
    "duration": 0,
    "start_time": "2022-05-30T06:21:14.584Z"
   },
   {
    "duration": 0,
    "start_time": "2022-05-30T06:21:14.585Z"
   },
   {
    "duration": 0,
    "start_time": "2022-05-30T06:21:14.586Z"
   },
   {
    "duration": 0,
    "start_time": "2022-05-30T06:21:14.587Z"
   },
   {
    "duration": 0,
    "start_time": "2022-05-30T06:21:14.588Z"
   },
   {
    "duration": 0,
    "start_time": "2022-05-30T06:21:14.589Z"
   },
   {
    "duration": 0,
    "start_time": "2022-05-30T06:21:14.590Z"
   },
   {
    "duration": 0,
    "start_time": "2022-05-30T06:21:14.623Z"
   },
   {
    "duration": 0,
    "start_time": "2022-05-30T06:21:14.624Z"
   },
   {
    "duration": 0,
    "start_time": "2022-05-30T06:21:14.625Z"
   },
   {
    "duration": 0,
    "start_time": "2022-05-30T06:21:14.626Z"
   },
   {
    "duration": 0,
    "start_time": "2022-05-30T06:21:14.627Z"
   },
   {
    "duration": 0,
    "start_time": "2022-05-30T06:21:14.628Z"
   },
   {
    "duration": 0,
    "start_time": "2022-05-30T06:21:14.629Z"
   },
   {
    "duration": 0,
    "start_time": "2022-05-30T06:21:14.630Z"
   },
   {
    "duration": 0,
    "start_time": "2022-05-30T06:21:14.631Z"
   },
   {
    "duration": 0,
    "start_time": "2022-05-30T06:21:14.632Z"
   },
   {
    "duration": 0,
    "start_time": "2022-05-30T06:21:14.633Z"
   },
   {
    "duration": 0,
    "start_time": "2022-05-30T06:21:14.634Z"
   },
   {
    "duration": 0,
    "start_time": "2022-05-30T06:21:14.635Z"
   },
   {
    "duration": 25,
    "start_time": "2022-05-30T06:21:46.744Z"
   },
   {
    "duration": 90,
    "start_time": "2022-05-30T06:22:14.275Z"
   },
   {
    "duration": 29,
    "start_time": "2022-05-30T06:30:16.240Z"
   },
   {
    "duration": 52,
    "start_time": "2022-05-30T06:30:49.561Z"
   },
   {
    "duration": 57,
    "start_time": "2022-05-30T06:31:02.981Z"
   },
   {
    "duration": 5,
    "start_time": "2022-05-30T06:31:44.229Z"
   },
   {
    "duration": 56,
    "start_time": "2022-05-30T06:32:23.732Z"
   },
   {
    "duration": 6,
    "start_time": "2022-05-30T06:32:27.921Z"
   },
   {
    "duration": 38,
    "start_time": "2022-05-30T06:37:58.485Z"
   },
   {
    "duration": 47,
    "start_time": "2022-05-30T06:39:18.786Z"
   },
   {
    "duration": 46,
    "start_time": "2022-05-30T06:39:29.296Z"
   },
   {
    "duration": 11,
    "start_time": "2022-05-30T06:39:59.136Z"
   },
   {
    "duration": 10,
    "start_time": "2022-05-30T06:40:01.357Z"
   },
   {
    "duration": 8,
    "start_time": "2022-05-30T06:40:44.177Z"
   },
   {
    "duration": 17,
    "start_time": "2022-05-30T06:41:22.028Z"
   },
   {
    "duration": 51,
    "start_time": "2022-05-30T06:42:18.419Z"
   },
   {
    "duration": 180,
    "start_time": "2022-05-30T06:42:54.408Z"
   },
   {
    "duration": 51,
    "start_time": "2022-05-30T06:52:54.995Z"
   },
   {
    "duration": 113,
    "start_time": "2022-05-30T06:54:38.877Z"
   },
   {
    "duration": 99,
    "start_time": "2022-05-30T06:55:26.408Z"
   },
   {
    "duration": 96,
    "start_time": "2022-05-30T06:59:17.069Z"
   },
   {
    "duration": 172,
    "start_time": "2022-05-30T06:59:24.850Z"
   },
   {
    "duration": 182,
    "start_time": "2022-05-30T07:01:59.702Z"
   },
   {
    "duration": 291,
    "start_time": "2022-05-30T07:04:20.464Z"
   },
   {
    "duration": 14,
    "start_time": "2022-05-30T07:06:19.385Z"
   },
   {
    "duration": 9,
    "start_time": "2022-05-30T07:17:48.531Z"
   },
   {
    "duration": 9,
    "start_time": "2022-05-30T07:17:50.901Z"
   },
   {
    "duration": 11,
    "start_time": "2022-05-30T07:19:18.862Z"
   },
   {
    "duration": 168,
    "start_time": "2022-05-30T07:23:15.388Z"
   },
   {
    "duration": 179,
    "start_time": "2022-05-30T07:25:33.456Z"
   },
   {
    "duration": 173,
    "start_time": "2022-05-30T07:25:51.005Z"
   },
   {
    "duration": 12,
    "start_time": "2022-05-30T07:26:53.876Z"
   },
   {
    "duration": 10,
    "start_time": "2022-05-30T07:26:55.676Z"
   },
   {
    "duration": 9,
    "start_time": "2022-05-30T07:34:48.752Z"
   },
   {
    "duration": 137,
    "start_time": "2022-05-30T08:17:26.893Z"
   },
   {
    "duration": 174,
    "start_time": "2022-05-30T08:17:42.083Z"
   },
   {
    "duration": 187,
    "start_time": "2022-05-30T08:19:06.653Z"
   },
   {
    "duration": 335,
    "start_time": "2022-05-30T08:19:35.836Z"
   },
   {
    "duration": 343,
    "start_time": "2022-05-30T08:20:11.665Z"
   },
   {
    "duration": 192,
    "start_time": "2022-05-30T08:21:24.897Z"
   },
   {
    "duration": 446,
    "start_time": "2022-05-30T08:27:18.429Z"
   },
   {
    "duration": 299,
    "start_time": "2022-05-30T08:28:03.400Z"
   },
   {
    "duration": 268,
    "start_time": "2022-05-30T08:28:14.730Z"
   },
   {
    "duration": 39,
    "start_time": "2022-05-30T08:29:08.732Z"
   },
   {
    "duration": 290,
    "start_time": "2022-05-30T08:31:56.463Z"
   },
   {
    "duration": 19,
    "start_time": "2022-05-30T08:37:19.408Z"
   },
   {
    "duration": 9,
    "start_time": "2022-05-30T08:43:37.523Z"
   },
   {
    "duration": 10,
    "start_time": "2022-05-30T08:43:40.180Z"
   },
   {
    "duration": 8,
    "start_time": "2022-05-30T08:44:35.883Z"
   },
   {
    "duration": 1377,
    "start_time": "2022-05-30T08:57:52.262Z"
   },
   {
    "duration": 6,
    "start_time": "2022-05-30T08:58:35.251Z"
   },
   {
    "duration": 1638,
    "start_time": "2022-05-30T08:59:21.743Z"
   },
   {
    "duration": 6,
    "start_time": "2022-05-30T08:59:28.801Z"
   },
   {
    "duration": 54,
    "start_time": "2022-05-30T09:00:45.032Z"
   },
   {
    "duration": 24,
    "start_time": "2022-05-30T09:01:00.873Z"
   },
   {
    "duration": 54,
    "start_time": "2022-05-30T09:02:39.546Z"
   },
   {
    "duration": 7,
    "start_time": "2022-05-30T09:02:46.124Z"
   },
   {
    "duration": 25,
    "start_time": "2022-05-30T09:05:04.006Z"
   },
   {
    "duration": 53,
    "start_time": "2022-05-30T09:05:13.514Z"
   },
   {
    "duration": 6,
    "start_time": "2022-05-30T09:05:13.568Z"
   },
   {
    "duration": 152,
    "start_time": "2022-05-30T09:05:13.575Z"
   },
   {
    "duration": 5,
    "start_time": "2022-05-30T09:05:13.729Z"
   },
   {
    "duration": 10,
    "start_time": "2022-05-30T09:05:13.735Z"
   },
   {
    "duration": 23,
    "start_time": "2022-05-30T09:05:13.747Z"
   },
   {
    "duration": 10,
    "start_time": "2022-05-30T09:05:13.772Z"
   },
   {
    "duration": 198,
    "start_time": "2022-05-30T09:05:13.783Z"
   },
   {
    "duration": 113,
    "start_time": "2022-05-30T09:05:13.983Z"
   },
   {
    "duration": 46,
    "start_time": "2022-05-30T09:05:14.099Z"
   },
   {
    "duration": 110,
    "start_time": "2022-05-30T09:05:14.147Z"
   },
   {
    "duration": 44,
    "start_time": "2022-05-30T09:05:14.259Z"
   },
   {
    "duration": 34,
    "start_time": "2022-05-30T09:05:14.305Z"
   },
   {
    "duration": 167,
    "start_time": "2022-05-30T09:05:14.340Z"
   },
   {
    "duration": 58,
    "start_time": "2022-05-30T09:05:14.510Z"
   },
   {
    "duration": 28,
    "start_time": "2022-05-30T09:05:14.570Z"
   },
   {
    "duration": 44,
    "start_time": "2022-05-30T09:05:14.600Z"
   },
   {
    "duration": 16,
    "start_time": "2022-05-30T09:05:14.645Z"
   },
   {
    "duration": 55,
    "start_time": "2022-05-30T09:05:14.663Z"
   },
   {
    "duration": 56,
    "start_time": "2022-05-30T09:05:14.719Z"
   },
   {
    "duration": 20,
    "start_time": "2022-05-30T09:05:14.777Z"
   },
   {
    "duration": 31,
    "start_time": "2022-05-30T09:05:14.799Z"
   },
   {
    "duration": 31,
    "start_time": "2022-05-30T09:05:14.832Z"
   },
   {
    "duration": 30,
    "start_time": "2022-05-30T09:05:14.864Z"
   },
   {
    "duration": 35,
    "start_time": "2022-05-30T09:05:14.896Z"
   },
   {
    "duration": 36,
    "start_time": "2022-05-30T09:05:14.933Z"
   },
   {
    "duration": 33,
    "start_time": "2022-05-30T09:05:14.970Z"
   },
   {
    "duration": 24,
    "start_time": "2022-05-30T09:05:15.007Z"
   },
   {
    "duration": 12,
    "start_time": "2022-05-30T09:05:15.032Z"
   },
   {
    "duration": 48,
    "start_time": "2022-05-30T09:05:15.046Z"
   },
   {
    "duration": 34,
    "start_time": "2022-05-30T09:05:15.097Z"
   },
   {
    "duration": 11,
    "start_time": "2022-05-30T09:05:15.132Z"
   },
   {
    "duration": 30,
    "start_time": "2022-05-30T09:05:15.145Z"
   },
   {
    "duration": 26,
    "start_time": "2022-05-30T09:05:15.177Z"
   },
   {
    "duration": 20,
    "start_time": "2022-05-30T09:05:15.204Z"
   },
   {
    "duration": 36,
    "start_time": "2022-05-30T09:05:15.226Z"
   },
   {
    "duration": 15,
    "start_time": "2022-05-30T09:05:15.263Z"
   },
   {
    "duration": 9,
    "start_time": "2022-05-30T09:05:15.280Z"
   },
   {
    "duration": 42,
    "start_time": "2022-05-30T09:05:15.291Z"
   },
   {
    "duration": 44,
    "start_time": "2022-05-30T09:05:15.335Z"
   },
   {
    "duration": 80,
    "start_time": "2022-05-30T09:05:15.381Z"
   },
   {
    "duration": 66,
    "start_time": "2022-05-30T09:05:15.463Z"
   },
   {
    "duration": 105,
    "start_time": "2022-05-30T09:05:15.531Z"
   },
   {
    "duration": 87,
    "start_time": "2022-05-30T09:05:15.637Z"
   },
   {
    "duration": 5,
    "start_time": "2022-05-30T09:05:15.725Z"
   },
   {
    "duration": 80,
    "start_time": "2022-05-30T09:05:15.732Z"
   },
   {
    "duration": 6,
    "start_time": "2022-05-30T09:05:15.813Z"
   },
   {
    "duration": 31,
    "start_time": "2022-05-30T09:05:15.820Z"
   },
   {
    "duration": 19,
    "start_time": "2022-05-30T09:05:15.853Z"
   },
   {
    "duration": 64,
    "start_time": "2022-05-30T09:05:15.874Z"
   },
   {
    "duration": 9,
    "start_time": "2022-05-30T09:05:15.940Z"
   },
   {
    "duration": 31,
    "start_time": "2022-05-30T09:05:15.950Z"
   },
   {
    "duration": 23,
    "start_time": "2022-05-30T09:05:15.983Z"
   },
   {
    "duration": 31,
    "start_time": "2022-05-30T09:05:16.008Z"
   },
   {
    "duration": 330,
    "start_time": "2022-05-30T09:05:16.041Z"
   },
   {
    "duration": 217,
    "start_time": "2022-05-30T09:05:16.374Z"
   },
   {
    "duration": 9,
    "start_time": "2022-05-30T09:05:16.593Z"
   },
   {
    "duration": 22,
    "start_time": "2022-05-30T09:05:16.604Z"
   },
   {
    "duration": 32,
    "start_time": "2022-05-30T09:05:16.628Z"
   },
   {
    "duration": 465,
    "start_time": "2022-05-30T09:05:16.662Z"
   },
   {
    "duration": 194,
    "start_time": "2022-05-30T09:05:17.129Z"
   },
   {
    "duration": 11,
    "start_time": "2022-05-30T09:05:17.325Z"
   },
   {
    "duration": 11,
    "start_time": "2022-05-30T09:05:17.339Z"
   },
   {
    "duration": 18,
    "start_time": "2022-05-30T09:05:17.352Z"
   },
   {
    "duration": 306,
    "start_time": "2022-05-30T09:05:17.372Z"
   },
   {
    "duration": 177,
    "start_time": "2022-05-30T09:05:17.680Z"
   },
   {
    "duration": 10,
    "start_time": "2022-05-30T09:05:17.859Z"
   },
   {
    "duration": 13,
    "start_time": "2022-05-30T09:05:17.872Z"
   },
   {
    "duration": 35,
    "start_time": "2022-05-30T09:05:17.887Z"
   },
   {
    "duration": 16,
    "start_time": "2022-05-30T09:05:17.924Z"
   },
   {
    "duration": 15,
    "start_time": "2022-05-30T09:05:17.941Z"
   },
   {
    "duration": 32,
    "start_time": "2022-05-30T09:05:17.958Z"
   },
   {
    "duration": 58,
    "start_time": "2022-05-30T09:07:59.976Z"
   },
   {
    "duration": 61,
    "start_time": "2022-05-30T09:08:08.128Z"
   },
   {
    "duration": 89,
    "start_time": "2022-05-30T09:09:39.140Z"
   },
   {
    "duration": 107,
    "start_time": "2022-05-30T09:10:12.791Z"
   },
   {
    "duration": 5,
    "start_time": "2022-05-30T09:11:23.620Z"
   },
   {
    "duration": 74,
    "start_time": "2022-05-30T09:11:56.091Z"
   },
   {
    "duration": 62,
    "start_time": "2022-05-30T09:12:32.741Z"
   },
   {
    "duration": 6,
    "start_time": "2022-05-30T09:12:41.442Z"
   },
   {
    "duration": 53,
    "start_time": "2022-05-30T09:12:47.304Z"
   },
   {
    "duration": 5,
    "start_time": "2022-05-30T09:12:47.359Z"
   },
   {
    "duration": 170,
    "start_time": "2022-05-30T09:12:47.366Z"
   },
   {
    "duration": 6,
    "start_time": "2022-05-30T09:12:47.538Z"
   },
   {
    "duration": 8,
    "start_time": "2022-05-30T09:12:47.545Z"
   },
   {
    "duration": 16,
    "start_time": "2022-05-30T09:12:47.554Z"
   },
   {
    "duration": 11,
    "start_time": "2022-05-30T09:12:47.572Z"
   },
   {
    "duration": 203,
    "start_time": "2022-05-30T09:12:47.585Z"
   },
   {
    "duration": 112,
    "start_time": "2022-05-30T09:12:47.790Z"
   },
   {
    "duration": 39,
    "start_time": "2022-05-30T09:12:47.905Z"
   },
   {
    "duration": 115,
    "start_time": "2022-05-30T09:12:47.946Z"
   },
   {
    "duration": 61,
    "start_time": "2022-05-30T09:12:48.062Z"
   },
   {
    "duration": 22,
    "start_time": "2022-05-30T09:12:48.125Z"
   },
   {
    "duration": 163,
    "start_time": "2022-05-30T09:12:48.149Z"
   },
   {
    "duration": 49,
    "start_time": "2022-05-30T09:12:48.314Z"
   },
   {
    "duration": 25,
    "start_time": "2022-05-30T09:12:48.364Z"
   },
   {
    "duration": 39,
    "start_time": "2022-05-30T09:12:48.391Z"
   },
   {
    "duration": 16,
    "start_time": "2022-05-30T09:12:48.431Z"
   },
   {
    "duration": 35,
    "start_time": "2022-05-30T09:12:48.449Z"
   },
   {
    "duration": 70,
    "start_time": "2022-05-30T09:12:48.486Z"
   },
   {
    "duration": 15,
    "start_time": "2022-05-30T09:12:48.558Z"
   },
   {
    "duration": 13,
    "start_time": "2022-05-30T09:12:48.574Z"
   },
   {
    "duration": 50,
    "start_time": "2022-05-30T09:12:48.589Z"
   },
   {
    "duration": 27,
    "start_time": "2022-05-30T09:12:48.641Z"
   },
   {
    "duration": 13,
    "start_time": "2022-05-30T09:12:48.670Z"
   },
   {
    "duration": 44,
    "start_time": "2022-05-30T09:12:48.685Z"
   },
   {
    "duration": 29,
    "start_time": "2022-05-30T09:12:48.730Z"
   },
   {
    "duration": 20,
    "start_time": "2022-05-30T09:12:48.763Z"
   },
   {
    "duration": 10,
    "start_time": "2022-05-30T09:12:48.785Z"
   },
   {
    "duration": 45,
    "start_time": "2022-05-30T09:12:48.796Z"
   },
   {
    "duration": 36,
    "start_time": "2022-05-30T09:12:48.842Z"
   },
   {
    "duration": 12,
    "start_time": "2022-05-30T09:12:48.880Z"
   },
   {
    "duration": 41,
    "start_time": "2022-05-30T09:12:48.894Z"
   },
   {
    "duration": 38,
    "start_time": "2022-05-30T09:12:48.937Z"
   },
   {
    "duration": 18,
    "start_time": "2022-05-30T09:12:48.976Z"
   },
   {
    "duration": 40,
    "start_time": "2022-05-30T09:12:48.996Z"
   },
   {
    "duration": 22,
    "start_time": "2022-05-30T09:12:49.038Z"
   },
   {
    "duration": 13,
    "start_time": "2022-05-30T09:12:49.062Z"
   },
   {
    "duration": 52,
    "start_time": "2022-05-30T09:12:49.077Z"
   },
   {
    "duration": 45,
    "start_time": "2022-05-30T09:12:49.131Z"
   },
   {
    "duration": 89,
    "start_time": "2022-05-30T09:12:49.177Z"
   },
   {
    "duration": 73,
    "start_time": "2022-05-30T09:12:49.267Z"
   },
   {
    "duration": 96,
    "start_time": "2022-05-30T09:12:49.342Z"
   },
   {
    "duration": 64,
    "start_time": "2022-05-30T09:12:49.440Z"
   },
   {
    "duration": 19,
    "start_time": "2022-05-30T09:12:49.506Z"
   },
   {
    "duration": 50,
    "start_time": "2022-05-30T09:12:49.527Z"
   },
   {
    "duration": 5,
    "start_time": "2022-05-30T09:12:49.579Z"
   },
   {
    "duration": 38,
    "start_time": "2022-05-30T09:12:49.585Z"
   },
   {
    "duration": 7,
    "start_time": "2022-05-30T09:12:49.624Z"
   },
   {
    "duration": 45,
    "start_time": "2022-05-30T09:12:49.632Z"
   },
   {
    "duration": 8,
    "start_time": "2022-05-30T09:12:49.679Z"
   },
   {
    "duration": 6,
    "start_time": "2022-05-30T09:12:49.689Z"
   },
   {
    "duration": 7,
    "start_time": "2022-05-30T09:12:49.724Z"
   },
   {
    "duration": 17,
    "start_time": "2022-05-30T09:12:49.732Z"
   },
   {
    "duration": 339,
    "start_time": "2022-05-30T09:12:49.750Z"
   },
   {
    "duration": 183,
    "start_time": "2022-05-30T09:12:50.091Z"
   },
   {
    "duration": 11,
    "start_time": "2022-05-30T09:12:50.276Z"
   },
   {
    "duration": 15,
    "start_time": "2022-05-30T09:12:50.288Z"
   },
   {
    "duration": 26,
    "start_time": "2022-05-30T09:12:50.305Z"
   },
   {
    "duration": 441,
    "start_time": "2022-05-30T09:12:50.333Z"
   },
   {
    "duration": 165,
    "start_time": "2022-05-30T09:12:50.775Z"
   },
   {
    "duration": 9,
    "start_time": "2022-05-30T09:12:50.942Z"
   },
   {
    "duration": 17,
    "start_time": "2022-05-30T09:12:50.953Z"
   },
   {
    "duration": 16,
    "start_time": "2022-05-30T09:12:50.972Z"
   },
   {
    "duration": 304,
    "start_time": "2022-05-30T09:12:50.990Z"
   },
   {
    "duration": 196,
    "start_time": "2022-05-30T09:12:51.296Z"
   },
   {
    "duration": 13,
    "start_time": "2022-05-30T09:12:51.495Z"
   },
   {
    "duration": 13,
    "start_time": "2022-05-30T09:12:51.526Z"
   },
   {
    "duration": 14,
    "start_time": "2022-05-30T09:12:51.541Z"
   },
   {
    "duration": 18,
    "start_time": "2022-05-30T09:12:51.557Z"
   },
   {
    "duration": 10,
    "start_time": "2022-05-30T09:12:51.576Z"
   },
   {
    "duration": 14,
    "start_time": "2022-05-30T09:12:51.588Z"
   },
   {
    "duration": 52,
    "start_time": "2022-05-30T09:14:53.680Z"
   },
   {
    "duration": 52,
    "start_time": "2022-05-30T09:15:22.423Z"
   },
   {
    "duration": 26,
    "start_time": "2022-05-30T09:16:07.465Z"
   },
   {
    "duration": 60,
    "start_time": "2022-05-30T09:16:23.705Z"
   },
   {
    "duration": 8,
    "start_time": "2022-05-30T09:16:29.424Z"
   },
   {
    "duration": 53,
    "start_time": "2022-05-30T09:19:34.096Z"
   },
   {
    "duration": 6,
    "start_time": "2022-05-30T09:19:42.686Z"
   },
   {
    "duration": 33,
    "start_time": "2022-05-30T09:37:40.363Z"
   },
   {
    "duration": 7,
    "start_time": "2022-05-30T09:37:45.936Z"
   },
   {
    "duration": 66,
    "start_time": "2022-05-30T09:40:57.402Z"
   },
   {
    "duration": 7,
    "start_time": "2022-05-30T09:40:57.470Z"
   },
   {
    "duration": 187,
    "start_time": "2022-05-30T09:40:57.478Z"
   },
   {
    "duration": 6,
    "start_time": "2022-05-30T09:40:57.667Z"
   },
   {
    "duration": 8,
    "start_time": "2022-05-30T09:40:57.675Z"
   },
   {
    "duration": 55,
    "start_time": "2022-05-30T09:40:57.685Z"
   },
   {
    "duration": 13,
    "start_time": "2022-05-30T09:40:57.742Z"
   },
   {
    "duration": 181,
    "start_time": "2022-05-30T09:40:57.757Z"
   },
   {
    "duration": 129,
    "start_time": "2022-05-30T09:40:57.940Z"
   },
   {
    "duration": 34,
    "start_time": "2022-05-30T09:40:58.072Z"
   },
   {
    "duration": 156,
    "start_time": "2022-05-30T09:40:58.108Z"
   },
   {
    "duration": 74,
    "start_time": "2022-05-30T09:40:58.266Z"
   },
   {
    "duration": 24,
    "start_time": "2022-05-30T09:40:58.341Z"
   },
   {
    "duration": 188,
    "start_time": "2022-05-30T09:40:58.367Z"
   },
   {
    "duration": 70,
    "start_time": "2022-05-30T09:40:58.556Z"
   },
   {
    "duration": 38,
    "start_time": "2022-05-30T09:40:58.628Z"
   },
   {
    "duration": 35,
    "start_time": "2022-05-30T09:40:58.667Z"
   },
   {
    "duration": 28,
    "start_time": "2022-05-30T09:40:58.704Z"
   },
   {
    "duration": 43,
    "start_time": "2022-05-30T09:40:58.739Z"
   },
   {
    "duration": 71,
    "start_time": "2022-05-30T09:40:58.784Z"
   },
   {
    "duration": 16,
    "start_time": "2022-05-30T09:40:58.856Z"
   },
   {
    "duration": 14,
    "start_time": "2022-05-30T09:40:58.874Z"
   },
   {
    "duration": 59,
    "start_time": "2022-05-30T09:40:58.889Z"
   },
   {
    "duration": 37,
    "start_time": "2022-05-30T09:40:58.950Z"
   },
   {
    "duration": 37,
    "start_time": "2022-05-30T09:40:58.989Z"
   },
   {
    "duration": 27,
    "start_time": "2022-05-30T09:40:59.036Z"
   },
   {
    "duration": 30,
    "start_time": "2022-05-30T09:40:59.065Z"
   },
   {
    "duration": 38,
    "start_time": "2022-05-30T09:40:59.099Z"
   },
   {
    "duration": 13,
    "start_time": "2022-05-30T09:40:59.140Z"
   },
   {
    "duration": 22,
    "start_time": "2022-05-30T09:40:59.154Z"
   },
   {
    "duration": 52,
    "start_time": "2022-05-30T09:40:59.178Z"
   },
   {
    "duration": 16,
    "start_time": "2022-05-30T09:40:59.231Z"
   },
   {
    "duration": 17,
    "start_time": "2022-05-30T09:40:59.248Z"
   },
   {
    "duration": 15,
    "start_time": "2022-05-30T09:40:59.267Z"
   },
   {
    "duration": 49,
    "start_time": "2022-05-30T09:40:59.284Z"
   },
   {
    "duration": 33,
    "start_time": "2022-05-30T09:40:59.338Z"
   },
   {
    "duration": 19,
    "start_time": "2022-05-30T09:40:59.373Z"
   },
   {
    "duration": 38,
    "start_time": "2022-05-30T09:40:59.394Z"
   },
   {
    "duration": 30,
    "start_time": "2022-05-30T09:40:59.434Z"
   },
   {
    "duration": 59,
    "start_time": "2022-05-30T09:40:59.465Z"
   },
   {
    "duration": 74,
    "start_time": "2022-05-30T09:40:59.525Z"
   },
   {
    "duration": 86,
    "start_time": "2022-05-30T09:40:59.600Z"
   },
   {
    "duration": 106,
    "start_time": "2022-05-30T09:40:59.688Z"
   },
   {
    "duration": 89,
    "start_time": "2022-05-30T09:40:59.795Z"
   },
   {
    "duration": 5,
    "start_time": "2022-05-30T09:40:59.886Z"
   },
   {
    "duration": 63,
    "start_time": "2022-05-30T09:40:59.892Z"
   },
   {
    "duration": 6,
    "start_time": "2022-05-30T09:40:59.957Z"
   },
   {
    "duration": 17,
    "start_time": "2022-05-30T09:40:59.965Z"
   },
   {
    "duration": 7,
    "start_time": "2022-05-30T09:40:59.984Z"
   },
   {
    "duration": 70,
    "start_time": "2022-05-30T09:40:59.993Z"
   },
   {
    "duration": 10,
    "start_time": "2022-05-30T09:41:00.065Z"
   },
   {
    "duration": 14,
    "start_time": "2022-05-30T09:41:00.077Z"
   },
   {
    "duration": 11,
    "start_time": "2022-05-30T09:41:00.092Z"
   },
   {
    "duration": 45,
    "start_time": "2022-05-30T09:41:00.105Z"
   },
   {
    "duration": 306,
    "start_time": "2022-05-30T09:41:00.152Z"
   },
   {
    "duration": 190,
    "start_time": "2022-05-30T09:41:00.460Z"
   },
   {
    "duration": 8,
    "start_time": "2022-05-30T09:41:00.652Z"
   },
   {
    "duration": 12,
    "start_time": "2022-05-30T09:41:00.662Z"
   },
   {
    "duration": 16,
    "start_time": "2022-05-30T09:41:00.676Z"
   },
   {
    "duration": 378,
    "start_time": "2022-05-30T09:41:00.694Z"
   },
   {
    "duration": 369,
    "start_time": "2022-05-30T09:41:01.074Z"
   },
   {
    "duration": 9,
    "start_time": "2022-05-30T09:41:01.445Z"
   },
   {
    "duration": 39,
    "start_time": "2022-05-30T09:41:01.456Z"
   },
   {
    "duration": 59,
    "start_time": "2022-05-30T09:41:01.497Z"
   },
   {
    "duration": 343,
    "start_time": "2022-05-30T09:41:01.557Z"
   },
   {
    "duration": 234,
    "start_time": "2022-05-30T09:41:01.903Z"
   },
   {
    "duration": 9,
    "start_time": "2022-05-30T09:41:02.139Z"
   },
   {
    "duration": 13,
    "start_time": "2022-05-30T09:41:02.149Z"
   },
   {
    "duration": 7,
    "start_time": "2022-05-30T09:41:02.165Z"
   },
   {
    "duration": 16,
    "start_time": "2022-05-30T09:41:02.174Z"
   },
   {
    "duration": 12,
    "start_time": "2022-05-30T09:41:02.197Z"
   },
   {
    "duration": 24,
    "start_time": "2022-05-30T09:41:02.224Z"
   },
   {
    "duration": 43,
    "start_time": "2022-05-30T09:41:32.997Z"
   },
   {
    "duration": 30,
    "start_time": "2022-05-30T09:42:07.418Z"
   },
   {
    "duration": 51,
    "start_time": "2022-05-30T09:42:33.417Z"
   },
   {
    "duration": 32,
    "start_time": "2022-05-30T09:45:20.070Z"
   },
   {
    "duration": 6,
    "start_time": "2022-05-30T09:45:36.818Z"
   },
   {
    "duration": 42,
    "start_time": "2022-05-30T09:50:25.246Z"
   },
   {
    "duration": 6,
    "start_time": "2022-05-30T09:50:30.101Z"
   },
   {
    "duration": 71,
    "start_time": "2022-05-30T09:51:11.972Z"
   },
   {
    "duration": 37,
    "start_time": "2022-05-30T09:51:48.283Z"
   },
   {
    "duration": 7,
    "start_time": "2022-05-30T09:51:58.592Z"
   },
   {
    "duration": 36,
    "start_time": "2022-05-30T10:01:03.488Z"
   },
   {
    "duration": 3797,
    "start_time": "2022-05-30T10:10:23.244Z"
   },
   {
    "duration": 22,
    "start_time": "2022-05-30T10:10:48.622Z"
   },
   {
    "duration": 20,
    "start_time": "2022-05-30T10:14:29.194Z"
   },
   {
    "duration": 43,
    "start_time": "2022-05-30T10:14:40.029Z"
   },
   {
    "duration": 57,
    "start_time": "2022-05-30T10:15:52.914Z"
   },
   {
    "duration": 32,
    "start_time": "2022-05-30T10:17:39.315Z"
   },
   {
    "duration": 55,
    "start_time": "2022-05-30T10:17:56.056Z"
   },
   {
    "duration": 8,
    "start_time": "2022-05-30T10:17:56.113Z"
   },
   {
    "duration": 231,
    "start_time": "2022-05-30T10:17:56.123Z"
   },
   {
    "duration": 9,
    "start_time": "2022-05-30T10:17:56.357Z"
   },
   {
    "duration": 32,
    "start_time": "2022-05-30T10:17:56.369Z"
   },
   {
    "duration": 36,
    "start_time": "2022-05-30T10:17:56.403Z"
   },
   {
    "duration": 31,
    "start_time": "2022-05-30T10:17:56.442Z"
   },
   {
    "duration": 245,
    "start_time": "2022-05-30T10:17:56.475Z"
   },
   {
    "duration": 133,
    "start_time": "2022-05-30T10:17:56.722Z"
   },
   {
    "duration": 32,
    "start_time": "2022-05-30T10:17:56.858Z"
   },
   {
    "duration": 117,
    "start_time": "2022-05-30T10:17:56.892Z"
   },
   {
    "duration": 56,
    "start_time": "2022-05-30T10:17:57.010Z"
   },
   {
    "duration": 21,
    "start_time": "2022-05-30T10:17:57.067Z"
   },
   {
    "duration": 203,
    "start_time": "2022-05-30T10:17:57.089Z"
   },
   {
    "duration": 67,
    "start_time": "2022-05-30T10:17:57.294Z"
   },
   {
    "duration": 26,
    "start_time": "2022-05-30T10:17:57.363Z"
   },
   {
    "duration": 22,
    "start_time": "2022-05-30T10:17:57.391Z"
   },
   {
    "duration": 18,
    "start_time": "2022-05-30T10:17:57.439Z"
   },
   {
    "duration": 36,
    "start_time": "2022-05-30T10:17:57.458Z"
   },
   {
    "duration": 68,
    "start_time": "2022-05-30T10:17:57.496Z"
   },
   {
    "duration": 14,
    "start_time": "2022-05-30T10:17:57.566Z"
   },
   {
    "duration": 13,
    "start_time": "2022-05-30T10:17:57.581Z"
   },
   {
    "duration": 53,
    "start_time": "2022-05-30T10:17:57.596Z"
   },
   {
    "duration": 30,
    "start_time": "2022-05-30T10:17:57.651Z"
   },
   {
    "duration": 13,
    "start_time": "2022-05-30T10:17:57.682Z"
   },
   {
    "duration": 49,
    "start_time": "2022-05-30T10:17:57.697Z"
   },
   {
    "duration": 33,
    "start_time": "2022-05-30T10:17:57.747Z"
   },
   {
    "duration": 45,
    "start_time": "2022-05-30T10:17:57.786Z"
   },
   {
    "duration": 20,
    "start_time": "2022-05-30T10:17:57.834Z"
   },
   {
    "duration": 24,
    "start_time": "2022-05-30T10:17:57.855Z"
   },
   {
    "duration": 25,
    "start_time": "2022-05-30T10:17:57.880Z"
   },
   {
    "duration": 23,
    "start_time": "2022-05-30T10:17:57.907Z"
   },
   {
    "duration": 31,
    "start_time": "2022-05-30T10:17:57.936Z"
   },
   {
    "duration": 16,
    "start_time": "2022-05-30T10:17:57.969Z"
   },
   {
    "duration": 17,
    "start_time": "2022-05-30T10:17:57.986Z"
   },
   {
    "duration": 44,
    "start_time": "2022-05-30T10:17:58.004Z"
   },
   {
    "duration": 32,
    "start_time": "2022-05-30T10:17:58.050Z"
   },
   {
    "duration": 10,
    "start_time": "2022-05-30T10:17:58.084Z"
   },
   {
    "duration": 23,
    "start_time": "2022-05-30T10:17:58.096Z"
   },
   {
    "duration": 58,
    "start_time": "2022-05-30T10:17:58.120Z"
   },
   {
    "duration": 83,
    "start_time": "2022-05-30T10:17:58.180Z"
   },
   {
    "duration": 81,
    "start_time": "2022-05-30T10:17:58.265Z"
   },
   {
    "duration": 113,
    "start_time": "2022-05-30T10:17:58.347Z"
   },
   {
    "duration": 90,
    "start_time": "2022-05-30T10:17:58.462Z"
   },
   {
    "duration": 5,
    "start_time": "2022-05-30T10:17:58.554Z"
   },
   {
    "duration": 3775,
    "start_time": "2022-05-30T10:17:58.561Z"
   },
   {
    "duration": 9,
    "start_time": "2022-05-30T10:18:02.338Z"
   },
   {
    "duration": 47,
    "start_time": "2022-05-30T10:18:02.351Z"
   },
   {
    "duration": 57,
    "start_time": "2022-05-30T10:18:02.400Z"
   },
   {
    "duration": 12,
    "start_time": "2022-05-30T10:18:02.459Z"
   },
   {
    "duration": 52,
    "start_time": "2022-05-30T10:18:02.472Z"
   },
   {
    "duration": 14,
    "start_time": "2022-05-30T10:18:02.542Z"
   },
   {
    "duration": 15,
    "start_time": "2022-05-30T10:18:02.557Z"
   },
   {
    "duration": 15,
    "start_time": "2022-05-30T10:18:02.574Z"
   },
   {
    "duration": 20,
    "start_time": "2022-05-30T10:18:02.591Z"
   },
   {
    "duration": 378,
    "start_time": "2022-05-30T10:18:02.613Z"
   },
   {
    "duration": 198,
    "start_time": "2022-05-30T10:18:02.993Z"
   },
   {
    "duration": 9,
    "start_time": "2022-05-30T10:18:03.192Z"
   },
   {
    "duration": 12,
    "start_time": "2022-05-30T10:18:03.203Z"
   },
   {
    "duration": 36,
    "start_time": "2022-05-30T10:18:03.225Z"
   },
   {
    "duration": 309,
    "start_time": "2022-05-30T10:18:03.263Z"
   },
   {
    "duration": 183,
    "start_time": "2022-05-30T10:18:03.574Z"
   },
   {
    "duration": 10,
    "start_time": "2022-05-30T10:18:03.758Z"
   },
   {
    "duration": 9,
    "start_time": "2022-05-30T10:18:03.769Z"
   },
   {
    "duration": 15,
    "start_time": "2022-05-30T10:18:03.779Z"
   },
   {
    "duration": 506,
    "start_time": "2022-05-30T10:18:03.795Z"
   },
   {
    "duration": 189,
    "start_time": "2022-05-30T10:18:04.303Z"
   },
   {
    "duration": 11,
    "start_time": "2022-05-30T10:18:04.494Z"
   },
   {
    "duration": 26,
    "start_time": "2022-05-30T10:18:04.507Z"
   },
   {
    "duration": 23,
    "start_time": "2022-05-30T10:18:04.537Z"
   },
   {
    "duration": 11,
    "start_time": "2022-05-30T10:18:04.562Z"
   },
   {
    "duration": 9,
    "start_time": "2022-05-30T10:18:04.574Z"
   },
   {
    "duration": 12,
    "start_time": "2022-05-30T10:18:04.584Z"
   },
   {
    "duration": 46,
    "start_time": "2022-05-30T10:20:15.517Z"
   },
   {
    "duration": 6,
    "start_time": "2022-05-30T10:20:27.867Z"
   },
   {
    "duration": 49,
    "start_time": "2022-05-30T10:20:41.898Z"
   },
   {
    "duration": 30,
    "start_time": "2022-05-30T10:22:11.149Z"
   },
   {
    "duration": 60,
    "start_time": "2022-05-30T10:22:45.508Z"
   },
   {
    "duration": 66,
    "start_time": "2022-05-30T10:23:02.562Z"
   },
   {
    "duration": 21,
    "start_time": "2022-05-30T10:23:02.630Z"
   },
   {
    "duration": 229,
    "start_time": "2022-05-30T10:23:02.653Z"
   },
   {
    "duration": 7,
    "start_time": "2022-05-30T10:23:02.884Z"
   },
   {
    "duration": 43,
    "start_time": "2022-05-30T10:23:02.894Z"
   },
   {
    "duration": 48,
    "start_time": "2022-05-30T10:23:02.939Z"
   },
   {
    "duration": 20,
    "start_time": "2022-05-30T10:23:02.989Z"
   },
   {
    "duration": 259,
    "start_time": "2022-05-30T10:23:03.011Z"
   },
   {
    "duration": 113,
    "start_time": "2022-05-30T10:23:03.272Z"
   },
   {
    "duration": 44,
    "start_time": "2022-05-30T10:23:03.387Z"
   },
   {
    "duration": 123,
    "start_time": "2022-05-30T10:23:03.436Z"
   },
   {
    "duration": 43,
    "start_time": "2022-05-30T10:23:03.561Z"
   },
   {
    "duration": 39,
    "start_time": "2022-05-30T10:23:03.607Z"
   },
   {
    "duration": 190,
    "start_time": "2022-05-30T10:23:03.649Z"
   },
   {
    "duration": 51,
    "start_time": "2022-05-30T10:23:03.847Z"
   },
   {
    "duration": 34,
    "start_time": "2022-05-30T10:23:03.900Z"
   },
   {
    "duration": 29,
    "start_time": "2022-05-30T10:23:03.940Z"
   },
   {
    "duration": 16,
    "start_time": "2022-05-30T10:23:03.971Z"
   },
   {
    "duration": 48,
    "start_time": "2022-05-30T10:23:03.988Z"
   },
   {
    "duration": 55,
    "start_time": "2022-05-30T10:23:04.044Z"
   },
   {
    "duration": 17,
    "start_time": "2022-05-30T10:23:04.100Z"
   },
   {
    "duration": 28,
    "start_time": "2022-05-30T10:23:04.119Z"
   },
   {
    "duration": 31,
    "start_time": "2022-05-30T10:23:04.150Z"
   },
   {
    "duration": 29,
    "start_time": "2022-05-30T10:23:04.183Z"
   },
   {
    "duration": 24,
    "start_time": "2022-05-30T10:23:04.226Z"
   },
   {
    "duration": 22,
    "start_time": "2022-05-30T10:23:04.253Z"
   },
   {
    "duration": 34,
    "start_time": "2022-05-30T10:23:04.277Z"
   },
   {
    "duration": 38,
    "start_time": "2022-05-30T10:23:04.313Z"
   },
   {
    "duration": 11,
    "start_time": "2022-05-30T10:23:04.353Z"
   },
   {
    "duration": 20,
    "start_time": "2022-05-30T10:23:04.365Z"
   },
   {
    "duration": 40,
    "start_time": "2022-05-30T10:23:04.387Z"
   },
   {
    "duration": 14,
    "start_time": "2022-05-30T10:23:04.428Z"
   },
   {
    "duration": 26,
    "start_time": "2022-05-30T10:23:04.444Z"
   },
   {
    "duration": 17,
    "start_time": "2022-05-30T10:23:04.472Z"
   },
   {
    "duration": 46,
    "start_time": "2022-05-30T10:23:04.491Z"
   },
   {
    "duration": 24,
    "start_time": "2022-05-30T10:23:04.547Z"
   },
   {
    "duration": 15,
    "start_time": "2022-05-30T10:23:04.572Z"
   },
   {
    "duration": 11,
    "start_time": "2022-05-30T10:23:04.589Z"
   },
   {
    "duration": 49,
    "start_time": "2022-05-30T10:23:04.601Z"
   },
   {
    "duration": 44,
    "start_time": "2022-05-30T10:23:04.652Z"
   },
   {
    "duration": 84,
    "start_time": "2022-05-30T10:23:04.701Z"
   },
   {
    "duration": 86,
    "start_time": "2022-05-30T10:23:04.787Z"
   },
   {
    "duration": 112,
    "start_time": "2022-05-30T10:23:04.875Z"
   },
   {
    "duration": 91,
    "start_time": "2022-05-30T10:23:04.989Z"
   },
   {
    "duration": 5,
    "start_time": "2022-05-30T10:23:05.082Z"
   },
   {
    "duration": 61,
    "start_time": "2022-05-30T10:23:05.088Z"
   },
   {
    "duration": 7,
    "start_time": "2022-05-30T10:23:05.150Z"
   },
   {
    "duration": 11,
    "start_time": "2022-05-30T10:23:05.158Z"
   },
   {
    "duration": 5,
    "start_time": "2022-05-30T10:23:05.171Z"
   },
   {
    "duration": 69,
    "start_time": "2022-05-30T10:23:05.178Z"
   },
   {
    "duration": 9,
    "start_time": "2022-05-30T10:23:05.250Z"
   },
   {
    "duration": 11,
    "start_time": "2022-05-30T10:23:05.261Z"
   },
   {
    "duration": 7,
    "start_time": "2022-05-30T10:23:05.274Z"
   },
   {
    "duration": 19,
    "start_time": "2022-05-30T10:23:05.282Z"
   },
   {
    "duration": 379,
    "start_time": "2022-05-30T10:23:05.302Z"
   },
   {
    "duration": 215,
    "start_time": "2022-05-30T10:23:05.683Z"
   },
   {
    "duration": 48,
    "start_time": "2022-05-30T10:23:05.901Z"
   },
   {
    "duration": 11,
    "start_time": "2022-05-30T10:23:05.951Z"
   },
   {
    "duration": 13,
    "start_time": "2022-05-30T10:23:05.964Z"
   },
   {
    "duration": 334,
    "start_time": "2022-05-30T10:23:05.979Z"
   },
   {
    "duration": 204,
    "start_time": "2022-05-30T10:23:06.315Z"
   },
   {
    "duration": 24,
    "start_time": "2022-05-30T10:23:06.526Z"
   },
   {
    "duration": 18,
    "start_time": "2022-05-30T10:23:06.552Z"
   },
   {
    "duration": 18,
    "start_time": "2022-05-30T10:23:06.571Z"
   },
   {
    "duration": 312,
    "start_time": "2022-05-30T10:23:06.591Z"
   },
   {
    "duration": 208,
    "start_time": "2022-05-30T10:23:06.905Z"
   },
   {
    "duration": 22,
    "start_time": "2022-05-30T10:23:07.115Z"
   },
   {
    "duration": 26,
    "start_time": "2022-05-30T10:23:07.138Z"
   },
   {
    "duration": 9,
    "start_time": "2022-05-30T10:23:07.165Z"
   },
   {
    "duration": 13,
    "start_time": "2022-05-30T10:23:07.175Z"
   },
   {
    "duration": 10,
    "start_time": "2022-05-30T10:23:07.190Z"
   },
   {
    "duration": 47,
    "start_time": "2022-05-30T10:23:07.201Z"
   },
   {
    "duration": 567,
    "start_time": "2022-05-30T10:27:59.192Z"
   },
   {
    "duration": 341,
    "start_time": "2022-05-30T10:31:38.613Z"
   },
   {
    "duration": 14,
    "start_time": "2022-05-30T10:38:16.223Z"
   },
   {
    "duration": 10,
    "start_time": "2022-05-30T10:38:18.463Z"
   },
   {
    "duration": 8,
    "start_time": "2022-05-30T10:38:27.644Z"
   },
   {
    "duration": 9,
    "start_time": "2022-05-30T10:39:05.984Z"
   },
   {
    "duration": 38,
    "start_time": "2022-05-30T10:46:11.915Z"
   },
   {
    "duration": 15,
    "start_time": "2022-05-30T10:46:51.115Z"
   },
   {
    "duration": 11,
    "start_time": "2022-05-30T10:46:55.646Z"
   },
   {
    "duration": 10,
    "start_time": "2022-05-30T10:47:31.528Z"
   },
   {
    "duration": 1271,
    "start_time": "2022-05-30T11:23:01.600Z"
   },
   {
    "duration": 6,
    "start_time": "2022-05-30T11:23:02.873Z"
   },
   {
    "duration": 158,
    "start_time": "2022-05-30T11:23:02.880Z"
   },
   {
    "duration": 7,
    "start_time": "2022-05-30T11:23:03.040Z"
   },
   {
    "duration": 7,
    "start_time": "2022-05-30T11:23:03.049Z"
   },
   {
    "duration": 100,
    "start_time": "2022-05-30T11:23:03.058Z"
   },
   {
    "duration": 10,
    "start_time": "2022-05-30T11:23:03.159Z"
   },
   {
    "duration": 186,
    "start_time": "2022-05-30T11:23:03.170Z"
   },
   {
    "duration": 105,
    "start_time": "2022-05-30T11:23:03.358Z"
   },
   {
    "duration": 32,
    "start_time": "2022-05-30T11:23:03.466Z"
   },
   {
    "duration": 114,
    "start_time": "2022-05-30T11:23:03.499Z"
   },
   {
    "duration": 56,
    "start_time": "2022-05-30T11:23:03.614Z"
   },
   {
    "duration": 20,
    "start_time": "2022-05-30T11:23:03.671Z"
   },
   {
    "duration": 179,
    "start_time": "2022-05-30T11:23:03.693Z"
   },
   {
    "duration": 63,
    "start_time": "2022-05-30T11:23:03.873Z"
   },
   {
    "duration": 29,
    "start_time": "2022-05-30T11:23:03.938Z"
   },
   {
    "duration": 35,
    "start_time": "2022-05-30T11:23:03.969Z"
   },
   {
    "duration": 16,
    "start_time": "2022-05-30T11:23:04.005Z"
   },
   {
    "duration": 41,
    "start_time": "2022-05-30T11:23:04.023Z"
   },
   {
    "duration": 79,
    "start_time": "2022-05-30T11:23:04.066Z"
   },
   {
    "duration": 17,
    "start_time": "2022-05-30T11:23:04.147Z"
   },
   {
    "duration": 13,
    "start_time": "2022-05-30T11:23:04.166Z"
   },
   {
    "duration": 55,
    "start_time": "2022-05-30T11:23:04.180Z"
   },
   {
    "duration": 31,
    "start_time": "2022-05-30T11:23:04.237Z"
   },
   {
    "duration": 13,
    "start_time": "2022-05-30T11:23:04.270Z"
   },
   {
    "duration": 14,
    "start_time": "2022-05-30T11:23:04.285Z"
   },
   {
    "duration": 60,
    "start_time": "2022-05-30T11:23:04.301Z"
   },
   {
    "duration": 26,
    "start_time": "2022-05-30T11:23:04.365Z"
   },
   {
    "duration": 10,
    "start_time": "2022-05-30T11:23:04.392Z"
   },
   {
    "duration": 48,
    "start_time": "2022-05-30T11:23:04.404Z"
   },
   {
    "duration": 25,
    "start_time": "2022-05-30T11:23:04.453Z"
   },
   {
    "duration": 10,
    "start_time": "2022-05-30T11:23:04.479Z"
   },
   {
    "duration": 13,
    "start_time": "2022-05-30T11:23:04.490Z"
   },
   {
    "duration": 37,
    "start_time": "2022-05-30T11:23:04.505Z"
   },
   {
    "duration": 16,
    "start_time": "2022-05-30T11:23:04.543Z"
   },
   {
    "duration": 24,
    "start_time": "2022-05-30T11:23:04.560Z"
   },
   {
    "duration": 52,
    "start_time": "2022-05-30T11:23:04.585Z"
   },
   {
    "duration": 10,
    "start_time": "2022-05-30T11:23:04.638Z"
   },
   {
    "duration": 22,
    "start_time": "2022-05-30T11:23:04.650Z"
   },
   {
    "duration": 71,
    "start_time": "2022-05-30T11:23:04.674Z"
   },
   {
    "duration": 89,
    "start_time": "2022-05-30T11:23:04.747Z"
   },
   {
    "duration": 60,
    "start_time": "2022-05-30T11:23:04.838Z"
   },
   {
    "duration": 106,
    "start_time": "2022-05-30T11:23:04.899Z"
   },
   {
    "duration": 86,
    "start_time": "2022-05-30T11:23:05.007Z"
   },
   {
    "duration": 5,
    "start_time": "2022-05-30T11:23:05.095Z"
   },
   {
    "duration": 48,
    "start_time": "2022-05-30T11:23:05.102Z"
   },
   {
    "duration": 6,
    "start_time": "2022-05-30T11:23:05.151Z"
   },
   {
    "duration": 12,
    "start_time": "2022-05-30T11:23:05.158Z"
   },
   {
    "duration": 9,
    "start_time": "2022-05-30T11:23:05.171Z"
   },
   {
    "duration": 67,
    "start_time": "2022-05-30T11:23:05.181Z"
   },
   {
    "duration": 8,
    "start_time": "2022-05-30T11:23:05.250Z"
   },
   {
    "duration": 9,
    "start_time": "2022-05-30T11:23:05.260Z"
   },
   {
    "duration": 13,
    "start_time": "2022-05-30T11:23:05.270Z"
   },
   {
    "duration": 15,
    "start_time": "2022-05-30T11:23:05.285Z"
   },
   {
    "duration": 339,
    "start_time": "2022-05-30T11:23:05.325Z"
   },
   {
    "duration": 216,
    "start_time": "2022-05-30T11:23:05.666Z"
   },
   {
    "duration": 10,
    "start_time": "2022-05-30T11:23:05.884Z"
   },
   {
    "duration": 8,
    "start_time": "2022-05-30T11:23:05.895Z"
   },
   {
    "duration": 30,
    "start_time": "2022-05-30T11:23:05.905Z"
   },
   {
    "duration": 331,
    "start_time": "2022-05-30T11:23:05.939Z"
   },
   {
    "duration": 203,
    "start_time": "2022-05-30T11:23:06.272Z"
   },
   {
    "duration": 10,
    "start_time": "2022-05-30T11:23:06.476Z"
   },
   {
    "duration": 9,
    "start_time": "2022-05-30T11:23:06.487Z"
   },
   {
    "duration": 31,
    "start_time": "2022-05-30T11:23:06.498Z"
   },
   {
    "duration": 316,
    "start_time": "2022-05-30T11:23:06.532Z"
   },
   {
    "duration": 198,
    "start_time": "2022-05-30T11:23:06.850Z"
   },
   {
    "duration": 10,
    "start_time": "2022-05-30T11:23:07.049Z"
   },
   {
    "duration": 13,
    "start_time": "2022-05-30T11:23:07.060Z"
   },
   {
    "duration": 12,
    "start_time": "2022-05-30T11:23:07.074Z"
   },
   {
    "duration": 10,
    "start_time": "2022-05-30T11:23:07.087Z"
   },
   {
    "duration": 29,
    "start_time": "2022-05-30T11:23:07.098Z"
   },
   {
    "duration": 18,
    "start_time": "2022-05-30T11:23:07.128Z"
   },
   {
    "duration": 54,
    "start_time": "2022-05-30T21:50:22.240Z"
   },
   {
    "duration": 1164,
    "start_time": "2022-05-30T21:52:40.828Z"
   },
   {
    "duration": 6,
    "start_time": "2022-05-30T21:52:41.993Z"
   },
   {
    "duration": 142,
    "start_time": "2022-05-30T21:52:42.000Z"
   },
   {
    "duration": 6,
    "start_time": "2022-05-30T21:52:42.144Z"
   },
   {
    "duration": 9,
    "start_time": "2022-05-30T21:52:42.151Z"
   },
   {
    "duration": 89,
    "start_time": "2022-05-30T21:52:42.164Z"
   },
   {
    "duration": 9,
    "start_time": "2022-05-30T21:52:42.255Z"
   },
   {
    "duration": 178,
    "start_time": "2022-05-30T21:52:42.266Z"
   },
   {
    "duration": 111,
    "start_time": "2022-05-30T21:52:42.446Z"
   },
   {
    "duration": 35,
    "start_time": "2022-05-30T21:52:42.560Z"
   },
   {
    "duration": 113,
    "start_time": "2022-05-30T21:52:42.597Z"
   },
   {
    "duration": 48,
    "start_time": "2022-05-30T21:52:42.711Z"
   },
   {
    "duration": 20,
    "start_time": "2022-05-30T21:52:42.761Z"
   },
   {
    "duration": 157,
    "start_time": "2022-05-30T21:52:42.782Z"
   },
   {
    "duration": 48,
    "start_time": "2022-05-30T21:52:42.941Z"
   },
   {
    "duration": 41,
    "start_time": "2022-05-30T21:52:42.991Z"
   },
   {
    "duration": 32,
    "start_time": "2022-05-30T21:52:43.034Z"
   },
   {
    "duration": 16,
    "start_time": "2022-05-30T21:52:43.068Z"
   },
   {
    "duration": 34,
    "start_time": "2022-05-30T21:52:43.086Z"
   },
   {
    "duration": 56,
    "start_time": "2022-05-30T21:52:43.122Z"
   },
   {
    "duration": 15,
    "start_time": "2022-05-30T21:52:43.179Z"
   },
   {
    "duration": 33,
    "start_time": "2022-05-30T21:52:43.195Z"
   },
   {
    "duration": 32,
    "start_time": "2022-05-30T21:52:43.230Z"
   },
   {
    "duration": 33,
    "start_time": "2022-05-30T21:52:43.265Z"
   },
   {
    "duration": 37,
    "start_time": "2022-05-30T21:52:43.300Z"
   },
   {
    "duration": 24,
    "start_time": "2022-05-30T21:52:43.339Z"
   },
   {
    "duration": 28,
    "start_time": "2022-05-30T21:52:43.365Z"
   },
   {
    "duration": 45,
    "start_time": "2022-05-30T21:52:43.397Z"
   },
   {
    "duration": 9,
    "start_time": "2022-05-30T21:52:43.444Z"
   },
   {
    "duration": 23,
    "start_time": "2022-05-30T21:52:43.455Z"
   },
   {
    "duration": 21,
    "start_time": "2022-05-30T21:52:43.479Z"
   },
   {
    "duration": 32,
    "start_time": "2022-05-30T21:52:43.502Z"
   },
   {
    "duration": 13,
    "start_time": "2022-05-30T21:52:43.536Z"
   },
   {
    "duration": 13,
    "start_time": "2022-05-30T21:52:43.551Z"
   },
   {
    "duration": 16,
    "start_time": "2022-05-30T21:52:43.566Z"
   },
   {
    "duration": 57,
    "start_time": "2022-05-30T21:52:43.584Z"
   },
   {
    "duration": 16,
    "start_time": "2022-05-30T21:52:43.643Z"
   },
   {
    "duration": 9,
    "start_time": "2022-05-30T21:52:43.661Z"
   },
   {
    "duration": 19,
    "start_time": "2022-05-30T21:52:43.672Z"
   },
   {
    "duration": 67,
    "start_time": "2022-05-30T21:52:43.692Z"
   },
   {
    "duration": 92,
    "start_time": "2022-05-30T21:52:43.760Z"
   },
   {
    "duration": 74,
    "start_time": "2022-05-30T21:52:43.854Z"
   },
   {
    "duration": 88,
    "start_time": "2022-05-30T21:52:43.930Z"
   },
   {
    "duration": 63,
    "start_time": "2022-05-30T21:52:44.027Z"
   },
   {
    "duration": 5,
    "start_time": "2022-05-30T21:52:44.091Z"
   },
   {
    "duration": 51,
    "start_time": "2022-05-30T21:52:44.097Z"
   },
   {
    "duration": 5,
    "start_time": "2022-05-30T21:52:44.149Z"
   },
   {
    "duration": 9,
    "start_time": "2022-05-30T21:52:44.156Z"
   },
   {
    "duration": 5,
    "start_time": "2022-05-30T21:52:44.167Z"
   },
   {
    "duration": 61,
    "start_time": "2022-05-30T21:52:44.173Z"
   },
   {
    "duration": 9,
    "start_time": "2022-05-30T21:52:44.236Z"
   },
   {
    "duration": 7,
    "start_time": "2022-05-30T21:52:44.247Z"
   },
   {
    "duration": 7,
    "start_time": "2022-05-30T21:52:44.255Z"
   },
   {
    "duration": 15,
    "start_time": "2022-05-30T21:52:44.263Z"
   },
   {
    "duration": 329,
    "start_time": "2022-05-30T21:52:44.280Z"
   },
   {
    "duration": 188,
    "start_time": "2022-05-30T21:52:44.611Z"
   },
   {
    "duration": 10,
    "start_time": "2022-05-30T21:52:44.800Z"
   },
   {
    "duration": 19,
    "start_time": "2022-05-30T21:52:44.811Z"
   },
   {
    "duration": 13,
    "start_time": "2022-05-30T21:52:44.831Z"
   },
   {
    "duration": 299,
    "start_time": "2022-05-30T21:52:44.846Z"
   },
   {
    "duration": 183,
    "start_time": "2022-05-30T21:52:45.146Z"
   },
   {
    "duration": 11,
    "start_time": "2022-05-30T21:52:45.331Z"
   },
   {
    "duration": 13,
    "start_time": "2022-05-30T21:52:45.344Z"
   },
   {
    "duration": 9,
    "start_time": "2022-05-30T21:52:45.359Z"
   },
   {
    "duration": 347,
    "start_time": "2022-05-30T21:52:45.371Z"
   },
   {
    "duration": 188,
    "start_time": "2022-05-30T21:52:45.720Z"
   },
   {
    "duration": 18,
    "start_time": "2022-05-30T21:52:45.910Z"
   },
   {
    "duration": 8,
    "start_time": "2022-05-30T21:52:45.930Z"
   },
   {
    "duration": 11,
    "start_time": "2022-05-30T21:52:45.939Z"
   },
   {
    "duration": 8,
    "start_time": "2022-05-30T21:52:45.951Z"
   },
   {
    "duration": 10,
    "start_time": "2022-05-30T21:52:45.960Z"
   },
   {
    "duration": 7,
    "start_time": "2022-05-30T21:52:45.972Z"
   },
   {
    "duration": 8,
    "start_time": "2022-05-30T21:52:45.980Z"
   },
   {
    "duration": 6,
    "start_time": "2022-05-30T21:52:46.026Z"
   },
   {
    "duration": 4,
    "start_time": "2022-05-30T21:52:46.034Z"
   },
   {
    "duration": 119,
    "start_time": "2022-05-30T21:52:46.040Z"
   },
   {
    "duration": 0,
    "start_time": "2022-05-30T21:52:46.160Z"
   },
   {
    "duration": 0,
    "start_time": "2022-05-30T21:52:46.161Z"
   },
   {
    "duration": 0,
    "start_time": "2022-05-30T21:52:46.163Z"
   },
   {
    "duration": 0,
    "start_time": "2022-05-30T21:52:46.164Z"
   },
   {
    "duration": 2374,
    "start_time": "2022-05-30T21:53:26.455Z"
   },
   {
    "duration": 5,
    "start_time": "2022-05-30T21:53:37.410Z"
   },
   {
    "duration": 176,
    "start_time": "2022-05-30T21:53:43.471Z"
   },
   {
    "duration": 188,
    "start_time": "2022-05-30T21:53:47.950Z"
   },
   {
    "duration": 54,
    "start_time": "2022-05-30T21:53:51.043Z"
   },
   {
    "duration": 1181,
    "start_time": "2022-05-30T21:53:57.940Z"
   },
   {
    "duration": 13,
    "start_time": "2022-05-30T21:53:59.123Z"
   },
   {
    "duration": 157,
    "start_time": "2022-05-30T21:53:59.138Z"
   },
   {
    "duration": 5,
    "start_time": "2022-05-30T21:53:59.296Z"
   },
   {
    "duration": 27,
    "start_time": "2022-05-30T21:53:59.303Z"
   },
   {
    "duration": 76,
    "start_time": "2022-05-30T21:53:59.332Z"
   },
   {
    "duration": 17,
    "start_time": "2022-05-30T21:53:59.410Z"
   },
   {
    "duration": 183,
    "start_time": "2022-05-30T21:53:59.429Z"
   },
   {
    "duration": 104,
    "start_time": "2022-05-30T21:53:59.614Z"
   },
   {
    "duration": 39,
    "start_time": "2022-05-30T21:53:59.719Z"
   },
   {
    "duration": 100,
    "start_time": "2022-05-30T21:53:59.759Z"
   },
   {
    "duration": 42,
    "start_time": "2022-05-30T21:53:59.860Z"
   },
   {
    "duration": 35,
    "start_time": "2022-05-30T21:53:59.904Z"
   },
   {
    "duration": 181,
    "start_time": "2022-05-30T21:53:59.943Z"
   },
   {
    "duration": 44,
    "start_time": "2022-05-30T21:54:00.127Z"
   },
   {
    "duration": 54,
    "start_time": "2022-05-30T21:54:00.174Z"
   },
   {
    "duration": 33,
    "start_time": "2022-05-30T21:54:00.230Z"
   },
   {
    "duration": 18,
    "start_time": "2022-05-30T21:54:00.265Z"
   },
   {
    "duration": 35,
    "start_time": "2022-05-30T21:54:00.284Z"
   },
   {
    "duration": 64,
    "start_time": "2022-05-30T21:54:00.321Z"
   },
   {
    "duration": 20,
    "start_time": "2022-05-30T21:54:00.386Z"
   },
   {
    "duration": 31,
    "start_time": "2022-05-30T21:54:00.408Z"
   },
   {
    "duration": 52,
    "start_time": "2022-05-30T21:54:00.441Z"
   },
   {
    "duration": 44,
    "start_time": "2022-05-30T21:54:00.495Z"
   },
   {
    "duration": 18,
    "start_time": "2022-05-30T21:54:00.542Z"
   },
   {
    "duration": 16,
    "start_time": "2022-05-30T21:54:00.561Z"
   },
   {
    "duration": 58,
    "start_time": "2022-05-30T21:54:00.578Z"
   },
   {
    "duration": 30,
    "start_time": "2022-05-30T21:54:00.638Z"
   },
   {
    "duration": 23,
    "start_time": "2022-05-30T21:54:00.670Z"
   },
   {
    "duration": 24,
    "start_time": "2022-05-30T21:54:00.694Z"
   },
   {
    "duration": 29,
    "start_time": "2022-05-30T21:54:00.720Z"
   },
   {
    "duration": 24,
    "start_time": "2022-05-30T21:54:00.750Z"
   },
   {
    "duration": 20,
    "start_time": "2022-05-30T21:54:00.776Z"
   },
   {
    "duration": 15,
    "start_time": "2022-05-30T21:54:00.797Z"
   },
   {
    "duration": 24,
    "start_time": "2022-05-30T21:54:00.813Z"
   },
   {
    "duration": 58,
    "start_time": "2022-05-30T21:54:00.838Z"
   },
   {
    "duration": 15,
    "start_time": "2022-05-30T21:54:00.898Z"
   },
   {
    "duration": 16,
    "start_time": "2022-05-30T21:54:00.914Z"
   },
   {
    "duration": 23,
    "start_time": "2022-05-30T21:54:00.932Z"
   },
   {
    "duration": 88,
    "start_time": "2022-05-30T21:54:00.957Z"
   },
   {
    "duration": 82,
    "start_time": "2022-05-30T21:54:01.052Z"
   },
   {
    "duration": 75,
    "start_time": "2022-05-30T21:54:01.136Z"
   },
   {
    "duration": 128,
    "start_time": "2022-05-30T21:54:01.213Z"
   },
   {
    "duration": 69,
    "start_time": "2022-05-30T21:54:01.343Z"
   },
   {
    "duration": 5,
    "start_time": "2022-05-30T21:54:01.428Z"
   },
   {
    "duration": 48,
    "start_time": "2022-05-30T21:54:01.435Z"
   },
   {
    "duration": 6,
    "start_time": "2022-05-30T21:54:01.485Z"
   },
   {
    "duration": 33,
    "start_time": "2022-05-30T21:54:01.492Z"
   },
   {
    "duration": 32,
    "start_time": "2022-05-30T21:54:01.527Z"
   },
   {
    "duration": 87,
    "start_time": "2022-05-30T21:54:01.561Z"
   },
   {
    "duration": 13,
    "start_time": "2022-05-30T21:54:01.650Z"
   },
   {
    "duration": 19,
    "start_time": "2022-05-30T21:54:01.665Z"
   },
   {
    "duration": 20,
    "start_time": "2022-05-30T21:54:01.686Z"
   },
   {
    "duration": 20,
    "start_time": "2022-05-30T21:54:01.708Z"
   },
   {
    "duration": 366,
    "start_time": "2022-05-30T21:54:01.730Z"
   },
   {
    "duration": 213,
    "start_time": "2022-05-30T21:54:02.098Z"
   },
   {
    "duration": 16,
    "start_time": "2022-05-30T21:54:02.312Z"
   },
   {
    "duration": 12,
    "start_time": "2022-05-30T21:54:02.330Z"
   },
   {
    "duration": 29,
    "start_time": "2022-05-30T21:54:02.343Z"
   },
   {
    "duration": 477,
    "start_time": "2022-05-30T21:54:02.373Z"
   },
   {
    "duration": 440,
    "start_time": "2022-05-30T21:54:02.851Z"
   },
   {
    "duration": 45,
    "start_time": "2022-05-30T21:54:03.293Z"
   },
   {
    "duration": 24,
    "start_time": "2022-05-30T21:54:03.340Z"
   },
   {
    "duration": 16,
    "start_time": "2022-05-30T21:54:03.366Z"
   },
   {
    "duration": 560,
    "start_time": "2022-05-30T21:54:03.384Z"
   },
   {
    "duration": 237,
    "start_time": "2022-05-30T21:54:03.946Z"
   },
   {
    "duration": 10,
    "start_time": "2022-05-30T21:54:04.185Z"
   },
   {
    "duration": 17,
    "start_time": "2022-05-30T21:54:04.197Z"
   },
   {
    "duration": 17,
    "start_time": "2022-05-30T21:54:04.216Z"
   },
   {
    "duration": 12,
    "start_time": "2022-05-30T21:54:04.235Z"
   },
   {
    "duration": 12,
    "start_time": "2022-05-30T21:54:04.248Z"
   },
   {
    "duration": 8,
    "start_time": "2022-05-30T21:54:04.262Z"
   },
   {
    "duration": 6,
    "start_time": "2022-05-30T21:54:04.271Z"
   },
   {
    "duration": 15,
    "start_time": "2022-05-30T21:54:04.279Z"
   },
   {
    "duration": 5,
    "start_time": "2022-05-30T21:54:04.295Z"
   },
   {
    "duration": 2406,
    "start_time": "2022-05-30T21:54:04.327Z"
   },
   {
    "duration": 173,
    "start_time": "2022-05-30T21:54:06.735Z"
   },
   {
    "duration": 191,
    "start_time": "2022-05-30T21:54:06.909Z"
   },
   {
    "duration": 189,
    "start_time": "2022-05-30T21:54:07.102Z"
   },
   {
    "duration": 57,
    "start_time": "2022-05-30T21:54:07.293Z"
   }
  ],
  "kernelspec": {
   "display_name": "Python 3 (ipykernel)",
   "language": "python",
   "name": "python3"
  },
  "language_info": {
   "codemirror_mode": {
    "name": "ipython",
    "version": 3
   },
   "file_extension": ".py",
   "mimetype": "text/x-python",
   "name": "python",
   "nbconvert_exporter": "python",
   "pygments_lexer": "ipython3",
   "version": "3.9.7"
  },
  "toc": {
   "base_numbering": 1,
   "nav_menu": {},
   "number_sections": true,
   "sideBar": true,
   "skip_h1_title": true,
   "title_cell": "Table of Contents",
   "title_sidebar": "Contents",
   "toc_cell": true,
   "toc_position": {
    "height": "calc(100% - 180px)",
    "left": "10px",
    "top": "150px",
    "width": "238px"
   },
   "toc_section_display": true,
   "toc_window_display": true
  }
 },
 "nbformat": 4,
 "nbformat_minor": 2
}
