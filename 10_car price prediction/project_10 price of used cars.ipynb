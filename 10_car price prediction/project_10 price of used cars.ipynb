{
 "cells": [
  {
   "cell_type": "markdown",
   "metadata": {
    "toc": true
   },
   "source": [
    "<h1>Table of Contents<span class=\"tocSkip\"></span></h1>\n",
    "<div class=\"toc\"><ul class=\"toc-item\"><li><span><a href=\"#Вводные-данные,-цели-и-задачи\" data-toc-modified-id=\"Вводные-данные,-цели-и-задачи-1\"><span class=\"toc-item-num\">1&nbsp;&nbsp;</span>Вводные данные, цели и задачи</a></span><ul class=\"toc-item\"><li><span><a href=\"#Описание-данных\" data-toc-modified-id=\"Описание-данных-1.1\"><span class=\"toc-item-num\">1.1&nbsp;&nbsp;</span>Описание данных</a></span></li><li><span><a href=\"#Импорты-библиотек\" data-toc-modified-id=\"Импорты-библиотек-1.2\"><span class=\"toc-item-num\">1.2&nbsp;&nbsp;</span>Импорты библиотек</a></span></li></ul></li><li><span><a href=\"#Подготовка-данных\" data-toc-modified-id=\"Подготовка-данных-2\"><span class=\"toc-item-num\">2&nbsp;&nbsp;</span>Подготовка данных</a></span><ul class=\"toc-item\"><li><span><a href=\"#Обзор-данных\" data-toc-modified-id=\"Обзор-данных-2.1\"><span class=\"toc-item-num\">2.1&nbsp;&nbsp;</span>Обзор данных</a></span></li><li><span><a href=\"#Количественные-признаки---обработка\" data-toc-modified-id=\"Количественные-признаки---обработка-2.2\"><span class=\"toc-item-num\">2.2&nbsp;&nbsp;</span>Количественные признаки - обработка</a></span><ul class=\"toc-item\"><li><span><a href=\"#Целевой-признак---цена\" data-toc-modified-id=\"Целевой-признак---цена-2.2.1\"><span class=\"toc-item-num\">2.2.1&nbsp;&nbsp;</span>Целевой признак - цена</a></span></li><li><span><a href=\"#Год-и-месяц-регистрации-автомобиля\" data-toc-modified-id=\"Год-и-месяц-регистрации-автомобиля-2.2.2\"><span class=\"toc-item-num\">2.2.2&nbsp;&nbsp;</span>Год и месяц регистрации автомобиля</a></span></li><li><span><a href=\"#Мощность\" data-toc-modified-id=\"Мощность-2.2.3\"><span class=\"toc-item-num\">2.2.3&nbsp;&nbsp;</span>Мощность</a></span></li><li><span><a href=\"#Пробег\" data-toc-modified-id=\"Пробег-2.2.4\"><span class=\"toc-item-num\">2.2.4&nbsp;&nbsp;</span>Пробег</a></span></li></ul></li><li><span><a href=\"#Качественные-признаки---обработка\" data-toc-modified-id=\"Качественные-признаки---обработка-2.3\"><span class=\"toc-item-num\">2.3&nbsp;&nbsp;</span>Качественные признаки - обработка</a></span><ul class=\"toc-item\"><li><span><a href=\"#Тип-транспортного-средства\" data-toc-modified-id=\"Тип-транспортного-средства-2.3.1\"><span class=\"toc-item-num\">2.3.1&nbsp;&nbsp;</span>Тип транспортного средства</a></span></li><li><span><a href=\"#Тип-коробки-передач\" data-toc-modified-id=\"Тип-коробки-передач-2.3.2\"><span class=\"toc-item-num\">2.3.2&nbsp;&nbsp;</span>Тип коробки передач</a></span></li><li><span><a href=\"#Модель-и-бренд\" data-toc-modified-id=\"Модель-и-бренд-2.3.3\"><span class=\"toc-item-num\">2.3.3&nbsp;&nbsp;</span>Модель и бренд</a></span></li><li><span><a href=\"#Тип-топлива\" data-toc-modified-id=\"Тип-топлива-2.3.4\"><span class=\"toc-item-num\">2.3.4&nbsp;&nbsp;</span>Тип топлива</a></span></li><li><span><a href=\"#Ремонт\" data-toc-modified-id=\"Ремонт-2.3.5\"><span class=\"toc-item-num\">2.3.5&nbsp;&nbsp;</span>Ремонт</a></span></li></ul></li><li><span><a href=\"#Финальная-подготовка-данных-к-обучению\" data-toc-modified-id=\"Финальная-подготовка-данных-к-обучению-2.4\"><span class=\"toc-item-num\">2.4&nbsp;&nbsp;</span>Финальная подготовка данных к обучению</a></span></li><li><span><a href=\"#Подготовка-данных---выводы\" data-toc-modified-id=\"Подготовка-данных---выводы-2.5\"><span class=\"toc-item-num\">2.5&nbsp;&nbsp;</span>Подготовка данных - выводы</a></span></li></ul></li><li><span><a href=\"#Обучение-моделей\" data-toc-modified-id=\"Обучение-моделей-3\"><span class=\"toc-item-num\">3&nbsp;&nbsp;</span>Обучение моделей</a></span><ul class=\"toc-item\"><li><span><a href=\"#Модель-на-основе-алгоритма-линейной-регрессии\" data-toc-modified-id=\"Модель-на-основе-алгоритма-линейной-регрессии-3.1\"><span class=\"toc-item-num\">3.1&nbsp;&nbsp;</span>Модель на основе алгоритма линейной регрессии</a></span></li><li><span><a href=\"#Градиентный-бустинг-LightGBM\" data-toc-modified-id=\"Градиентный-бустинг-LightGBM-3.2\"><span class=\"toc-item-num\">3.2&nbsp;&nbsp;</span>Градиентный бустинг LightGBM</a></span></li><li><span><a href=\"#Градиентный-бустинг-CatBoost\" data-toc-modified-id=\"Градиентный-бустинг-CatBoost-3.3\"><span class=\"toc-item-num\">3.3&nbsp;&nbsp;</span>Градиентный бустинг CatBoost</a></span></li></ul></li><li><span><a href=\"#Анализ-моделей\" data-toc-modified-id=\"Анализ-моделей-4\"><span class=\"toc-item-num\">4&nbsp;&nbsp;</span>Анализ моделей</a></span><ul class=\"toc-item\"><li><span><a href=\"#Выводы\" data-toc-modified-id=\"Выводы-4.1\"><span class=\"toc-item-num\">4.1&nbsp;&nbsp;</span>Выводы</a></span></li></ul></li></ul></div>"
   ]
  },
  {
   "cell_type": "markdown",
   "metadata": {},
   "source": [
    "# Определение стоимости автомобилей"
   ]
  },
  {
   "cell_type": "markdown",
   "metadata": {},
   "source": [
    "## Вводные данные, цели и задачи"
   ]
  },
  {
   "cell_type": "markdown",
   "metadata": {},
   "source": [
    "Сервис по продаже автомобилей с пробегом «Не бит, не крашен» разрабатывает приложение для привлечения новых клиентов. В нём можно быстро узнать рыночную стоимость своего автомобиля. В вашем распоряжении исторические данные: технические характеристики, комплектации и цены автомобилей. Вам нужно построить модель для определения стоимости. \n",
    "\n",
    "Заказчику важны:\n",
    "\n",
    "- качество предсказания;\n",
    "- скорость предсказания;\n",
    "- время обучения."
   ]
  },
  {
   "cell_type": "markdown",
   "metadata": {},
   "source": [
    "**Цель исследования - построить модель для определения рыночной стоимости автомобиля по набору параметров.** Так как модель должна работать в приложении, то ключевыми параметрами являются качество предсказания, скорость предсказания и время обучения."
   ]
  },
  {
   "cell_type": "markdown",
   "metadata": {},
   "source": [
    "Таким образом, **задачи** состоят в следующем:\n",
    "- загрузить, изучить и подготовить данные: заполнить пропущенные значения, обработать аномалии, удалить неинформативные признаки, подготовить выборки для обучения моделей.\n",
    "- обучить модели: одну LightGBM, как минимум, одну - не использующую алгоритм градиентного бустинга. Попробовать различные гиперпараметры для разных моделей.\n",
    "- проанализировать время обучения, время предсказания и качество моделей (по метрике RMSE, значение которой должно быть менее 2500). Выбрать лучную модель в соответствии с целью исследования."
   ]
  },
  {
   "cell_type": "markdown",
   "metadata": {},
   "source": [
    "### Описание данных"
   ]
  },
  {
   "cell_type": "markdown",
   "metadata": {},
   "source": [
    "Признаки:\n",
    "- `DateCrawled` — дата скачивания анкеты из базы\n",
    "- `VehicleType` — тип автомобильного кузова\n",
    "- `RegistrationYear` — год регистрации автомобиля\n",
    "- `Gearbox` — тип коробки передач\n",
    "- `Power` — мощность (л. с.)\n",
    "- `Model` — модель автомобиля\n",
    "- `Kilometer` — пробег (км)\n",
    "- `RegistrationMonth` — месяц регистрации автомобиля\n",
    "- `FuelType` — тип топлива\n",
    "- `Brand` — марка автомобиля\n",
    "- `Repaired` — была машина в ремонте или нет\n",
    "- `DateCreated` — дата создания анкеты\n",
    "- `NumberOfPictures` — количество фотографий автомобиля\n",
    "- `PostalCode` — почтовый индекс владельца анкеты (пользователя)\n",
    "- `LastSeen` — дата последней активности пользователя\n",
    "\n",
    "Целевой признак:\n",
    "- Price — цена (евро)."
   ]
  },
  {
   "cell_type": "markdown",
   "metadata": {},
   "source": [
    "### Импорты библиотек"
   ]
  },
  {
   "cell_type": "markdown",
   "metadata": {},
   "source": [
    "В следующей ячейке содержатся импорты всех необходимых библиотек."
   ]
  },
  {
   "cell_type": "code",
   "execution_count": 1,
   "metadata": {},
   "outputs": [],
   "source": [
    "import pandas as pd\n",
    "import numpy as np\n",
    "import time\n",
    "import seaborn as sns\n",
    "from sklearn.compose import ColumnTransformer\n",
    "from sklearn.preprocessing import StandardScaler, OneHotEncoder\n",
    "from sklearn.linear_model import LinearRegression\n",
    "from sklearn.metrics import mean_squared_error\n",
    "from sklearn.model_selection import GridSearchCV\n",
    "import lightgbm as lgb\n",
    "from lightgbm import LGBMRegressor\n",
    "import catboost as cb\n",
    "from catboost import CatBoostRegressor\n",
    "import warnings\n",
    "warnings.filterwarnings(\"ignore\", category=UserWarning)"
   ]
  },
  {
   "cell_type": "markdown",
   "metadata": {},
   "source": [
    "## Подготовка данных"
   ]
  },
  {
   "cell_type": "markdown",
   "metadata": {},
   "source": [
    "### Обзор данных"
   ]
  },
  {
   "cell_type": "markdown",
   "metadata": {},
   "source": [
    "Загрузим данные и посмотрим, каковы их типы, есть ли пропуски и аномалии."
   ]
  },
  {
   "cell_type": "code",
   "execution_count": 2,
   "metadata": {
    "scrolled": true
   },
   "outputs": [
    {
     "name": "stdout",
     "output_type": "stream",
     "text": [
      "<class 'pandas.core.frame.DataFrame'>\n",
      "RangeIndex: 354369 entries, 0 to 354368\n",
      "Data columns (total 16 columns):\n",
      " #   Column             Non-Null Count   Dtype \n",
      "---  ------             --------------   ----- \n",
      " 0   DateCrawled        354369 non-null  object\n",
      " 1   Price              354369 non-null  int64 \n",
      " 2   VehicleType        316879 non-null  object\n",
      " 3   RegistrationYear   354369 non-null  int64 \n",
      " 4   Gearbox            334536 non-null  object\n",
      " 5   Power              354369 non-null  int64 \n",
      " 6   Model              334664 non-null  object\n",
      " 7   Kilometer          354369 non-null  int64 \n",
      " 8   RegistrationMonth  354369 non-null  int64 \n",
      " 9   FuelType           321474 non-null  object\n",
      " 10  Brand              354369 non-null  object\n",
      " 11  Repaired           283215 non-null  object\n",
      " 12  DateCreated        354369 non-null  object\n",
      " 13  NumberOfPictures   354369 non-null  int64 \n",
      " 14  PostalCode         354369 non-null  int64 \n",
      " 15  LastSeen           354369 non-null  object\n",
      "dtypes: int64(7), object(9)\n",
      "memory usage: 43.3+ MB\n"
     ]
    }
   ],
   "source": [
    "try:\n",
    "    data = pd.read_csv('C:\\\\Users\\\\Мамуля\\\\Documents\\\\autos.csv')\n",
    "except:\n",
    "    data = pd.read_csv('/datasets/autos.csv')\n",
    "\n",
    "data.info()\n"
   ]
  },
  {
   "cell_type": "code",
   "execution_count": 3,
   "metadata": {},
   "outputs": [
    {
     "data": {
      "text/html": [
       "<div>\n",
       "<style scoped>\n",
       "    .dataframe tbody tr th:only-of-type {\n",
       "        vertical-align: middle;\n",
       "    }\n",
       "\n",
       "    .dataframe tbody tr th {\n",
       "        vertical-align: top;\n",
       "    }\n",
       "\n",
       "    .dataframe thead th {\n",
       "        text-align: right;\n",
       "    }\n",
       "</style>\n",
       "<table border=\"1\" class=\"dataframe\">\n",
       "  <thead>\n",
       "    <tr style=\"text-align: right;\">\n",
       "      <th></th>\n",
       "      <th>DateCrawled</th>\n",
       "      <th>Price</th>\n",
       "      <th>VehicleType</th>\n",
       "      <th>RegistrationYear</th>\n",
       "      <th>Gearbox</th>\n",
       "      <th>Power</th>\n",
       "      <th>Model</th>\n",
       "      <th>Kilometer</th>\n",
       "      <th>RegistrationMonth</th>\n",
       "      <th>FuelType</th>\n",
       "      <th>Brand</th>\n",
       "      <th>Repaired</th>\n",
       "      <th>DateCreated</th>\n",
       "      <th>NumberOfPictures</th>\n",
       "      <th>PostalCode</th>\n",
       "      <th>LastSeen</th>\n",
       "    </tr>\n",
       "  </thead>\n",
       "  <tbody>\n",
       "    <tr>\n",
       "      <th>0</th>\n",
       "      <td>2016-03-24 11:52:17</td>\n",
       "      <td>480</td>\n",
       "      <td>NaN</td>\n",
       "      <td>1993</td>\n",
       "      <td>manual</td>\n",
       "      <td>0</td>\n",
       "      <td>golf</td>\n",
       "      <td>150000</td>\n",
       "      <td>0</td>\n",
       "      <td>petrol</td>\n",
       "      <td>volkswagen</td>\n",
       "      <td>NaN</td>\n",
       "      <td>2016-03-24 00:00:00</td>\n",
       "      <td>0</td>\n",
       "      <td>70435</td>\n",
       "      <td>2016-04-07 03:16:57</td>\n",
       "    </tr>\n",
       "    <tr>\n",
       "      <th>1</th>\n",
       "      <td>2016-03-24 10:58:45</td>\n",
       "      <td>18300</td>\n",
       "      <td>coupe</td>\n",
       "      <td>2011</td>\n",
       "      <td>manual</td>\n",
       "      <td>190</td>\n",
       "      <td>NaN</td>\n",
       "      <td>125000</td>\n",
       "      <td>5</td>\n",
       "      <td>gasoline</td>\n",
       "      <td>audi</td>\n",
       "      <td>yes</td>\n",
       "      <td>2016-03-24 00:00:00</td>\n",
       "      <td>0</td>\n",
       "      <td>66954</td>\n",
       "      <td>2016-04-07 01:46:50</td>\n",
       "    </tr>\n",
       "    <tr>\n",
       "      <th>2</th>\n",
       "      <td>2016-03-14 12:52:21</td>\n",
       "      <td>9800</td>\n",
       "      <td>suv</td>\n",
       "      <td>2004</td>\n",
       "      <td>auto</td>\n",
       "      <td>163</td>\n",
       "      <td>grand</td>\n",
       "      <td>125000</td>\n",
       "      <td>8</td>\n",
       "      <td>gasoline</td>\n",
       "      <td>jeep</td>\n",
       "      <td>NaN</td>\n",
       "      <td>2016-03-14 00:00:00</td>\n",
       "      <td>0</td>\n",
       "      <td>90480</td>\n",
       "      <td>2016-04-05 12:47:46</td>\n",
       "    </tr>\n",
       "    <tr>\n",
       "      <th>3</th>\n",
       "      <td>2016-03-17 16:54:04</td>\n",
       "      <td>1500</td>\n",
       "      <td>small</td>\n",
       "      <td>2001</td>\n",
       "      <td>manual</td>\n",
       "      <td>75</td>\n",
       "      <td>golf</td>\n",
       "      <td>150000</td>\n",
       "      <td>6</td>\n",
       "      <td>petrol</td>\n",
       "      <td>volkswagen</td>\n",
       "      <td>no</td>\n",
       "      <td>2016-03-17 00:00:00</td>\n",
       "      <td>0</td>\n",
       "      <td>91074</td>\n",
       "      <td>2016-03-17 17:40:17</td>\n",
       "    </tr>\n",
       "    <tr>\n",
       "      <th>4</th>\n",
       "      <td>2016-03-31 17:25:20</td>\n",
       "      <td>3600</td>\n",
       "      <td>small</td>\n",
       "      <td>2008</td>\n",
       "      <td>manual</td>\n",
       "      <td>69</td>\n",
       "      <td>fabia</td>\n",
       "      <td>90000</td>\n",
       "      <td>7</td>\n",
       "      <td>gasoline</td>\n",
       "      <td>skoda</td>\n",
       "      <td>no</td>\n",
       "      <td>2016-03-31 00:00:00</td>\n",
       "      <td>0</td>\n",
       "      <td>60437</td>\n",
       "      <td>2016-04-06 10:17:21</td>\n",
       "    </tr>\n",
       "  </tbody>\n",
       "</table>\n",
       "</div>"
      ],
      "text/plain": [
       "           DateCrawled  Price VehicleType  RegistrationYear Gearbox  Power  \\\n",
       "0  2016-03-24 11:52:17    480         NaN              1993  manual      0   \n",
       "1  2016-03-24 10:58:45  18300       coupe              2011  manual    190   \n",
       "2  2016-03-14 12:52:21   9800         suv              2004    auto    163   \n",
       "3  2016-03-17 16:54:04   1500       small              2001  manual     75   \n",
       "4  2016-03-31 17:25:20   3600       small              2008  manual     69   \n",
       "\n",
       "   Model  Kilometer  RegistrationMonth  FuelType       Brand Repaired  \\\n",
       "0   golf     150000                  0    petrol  volkswagen      NaN   \n",
       "1    NaN     125000                  5  gasoline        audi      yes   \n",
       "2  grand     125000                  8  gasoline        jeep      NaN   \n",
       "3   golf     150000                  6    petrol  volkswagen       no   \n",
       "4  fabia      90000                  7  gasoline       skoda       no   \n",
       "\n",
       "           DateCreated  NumberOfPictures  PostalCode             LastSeen  \n",
       "0  2016-03-24 00:00:00                 0       70435  2016-04-07 03:16:57  \n",
       "1  2016-03-24 00:00:00                 0       66954  2016-04-07 01:46:50  \n",
       "2  2016-03-14 00:00:00                 0       90480  2016-04-05 12:47:46  \n",
       "3  2016-03-17 00:00:00                 0       91074  2016-03-17 17:40:17  \n",
       "4  2016-03-31 00:00:00                 0       60437  2016-04-06 10:17:21  "
      ]
     },
     "execution_count": 3,
     "metadata": {},
     "output_type": "execute_result"
    }
   ],
   "source": [
    "data.head()"
   ]
  },
  {
   "cell_type": "markdown",
   "metadata": {},
   "source": [
    "В таблице 16 столбцов и 354369 строк - данных для обучения моделей будет вполне достаточно.\n",
    "\n",
    "Видим, что в некоторых столбцах, содержащих важные для предсказаний данные (например, `VehicleType`, `Repaired`) есть пропуски. Поработаем над их устранением.\n",
    "\n",
    "В то же время, очевидно, что некоторые столбцы не понадобятся для работы моделей, следовательно, нет смысла обрабатывать данные из соответствующих столбцов. Это:\n",
    "- `DateCrawled` - дата скачивания анкеты из базы,\n",
    "- `DateCreated ` - дата создания анкеты,\n",
    "- `NumberOfPictures` - количество фотографий автомобиля (все значения нулевые),\n",
    "- `PostalCode` - почтовый индекс владельца анкеты,\n",
    "- `LastSeen` - дата последней активности пользователя."
   ]
  },
  {
   "cell_type": "markdown",
   "metadata": {},
   "source": [
    "Для того, чтобы в дальнейшем анализ данных был менее громоздким, сразу удалим столбцы с ненужной информацией из датасета, над которым работаем. Кандидаты на удаление - столбцы с информацией о датах скачивания анкеты и последней активности пользователя, а также о почтовом индексе владельца анкеты. Сначала посмотрим на их содержание, а для этого столбцы с датами переведём в формат даты и времени."
   ]
  },
  {
   "cell_type": "code",
   "execution_count": 4,
   "metadata": {
    "scrolled": true
   },
   "outputs": [
    {
     "name": "stdout",
     "output_type": "stream",
     "text": [
      "count                           354369\n",
      "mean     2016-03-21 12:58:10.450648320\n",
      "min                2016-03-05 14:06:22\n",
      "25%                2016-03-13 11:52:33\n",
      "50%                2016-03-21 17:50:55\n",
      "75%                2016-03-29 14:37:20\n",
      "max                2016-04-07 14:36:58\n",
      "Name: DateCrawled, dtype: object\n",
      "count                           354369\n",
      "mean     2016-03-20 19:12:07.753274112\n",
      "min                2014-03-10 00:00:00\n",
      "25%                2016-03-13 00:00:00\n",
      "50%                2016-03-21 00:00:00\n",
      "75%                2016-03-29 00:00:00\n",
      "max                2016-04-07 00:00:00\n",
      "Name: DateCreated, dtype: object\n",
      "count                           354369\n",
      "mean     2016-03-29 23:51:00.667456768\n",
      "min                2016-03-05 14:15:08\n",
      "25%                2016-03-23 02:50:03\n",
      "50%                2016-04-03 15:15:51\n",
      "75%                2016-04-06 10:15:19\n",
      "max                2016-04-07 14:58:51\n",
      "Name: LastSeen, dtype: object\n"
     ]
    }
   ],
   "source": [
    "for column in ['DateCrawled', 'DateCreated', 'LastSeen']:\n",
    "    data[column] = pd.to_datetime(data[column], yearfirst = True)\n",
    "    print(data[column].describe(datetime_is_numeric=True))"
   ]
  },
  {
   "cell_type": "code",
   "execution_count": 5,
   "metadata": {
    "scrolled": false
   },
   "outputs": [
    {
     "data": {
      "text/html": [
       "<div>\n",
       "<style scoped>\n",
       "    .dataframe tbody tr th:only-of-type {\n",
       "        vertical-align: middle;\n",
       "    }\n",
       "\n",
       "    .dataframe tbody tr th {\n",
       "        vertical-align: top;\n",
       "    }\n",
       "\n",
       "    .dataframe thead th {\n",
       "        text-align: right;\n",
       "    }\n",
       "</style>\n",
       "<table border=\"1\" class=\"dataframe\">\n",
       "  <thead>\n",
       "    <tr style=\"text-align: right;\">\n",
       "      <th></th>\n",
       "      <th>NumberOfPictures</th>\n",
       "      <th>PostalCode</th>\n",
       "    </tr>\n",
       "  </thead>\n",
       "  <tbody>\n",
       "    <tr>\n",
       "      <th>count</th>\n",
       "      <td>354369.0</td>\n",
       "      <td>354369.000000</td>\n",
       "    </tr>\n",
       "    <tr>\n",
       "      <th>mean</th>\n",
       "      <td>0.0</td>\n",
       "      <td>50508.689087</td>\n",
       "    </tr>\n",
       "    <tr>\n",
       "      <th>std</th>\n",
       "      <td>0.0</td>\n",
       "      <td>25783.096248</td>\n",
       "    </tr>\n",
       "    <tr>\n",
       "      <th>min</th>\n",
       "      <td>0.0</td>\n",
       "      <td>1067.000000</td>\n",
       "    </tr>\n",
       "    <tr>\n",
       "      <th>25%</th>\n",
       "      <td>0.0</td>\n",
       "      <td>30165.000000</td>\n",
       "    </tr>\n",
       "    <tr>\n",
       "      <th>50%</th>\n",
       "      <td>0.0</td>\n",
       "      <td>49413.000000</td>\n",
       "    </tr>\n",
       "    <tr>\n",
       "      <th>75%</th>\n",
       "      <td>0.0</td>\n",
       "      <td>71083.000000</td>\n",
       "    </tr>\n",
       "    <tr>\n",
       "      <th>max</th>\n",
       "      <td>0.0</td>\n",
       "      <td>99998.000000</td>\n",
       "    </tr>\n",
       "  </tbody>\n",
       "</table>\n",
       "</div>"
      ],
      "text/plain": [
       "       NumberOfPictures     PostalCode\n",
       "count          354369.0  354369.000000\n",
       "mean                0.0   50508.689087\n",
       "std                 0.0   25783.096248\n",
       "min                 0.0    1067.000000\n",
       "25%                 0.0   30165.000000\n",
       "50%                 0.0   49413.000000\n",
       "75%                 0.0   71083.000000\n",
       "max                 0.0   99998.000000"
      ]
     },
     "execution_count": 5,
     "metadata": {},
     "output_type": "execute_result"
    }
   ],
   "source": [
    "data[['NumberOfPictures', 'PostalCode']].describe()"
   ]
  },
  {
   "cell_type": "markdown",
   "metadata": {},
   "source": [
    "Запомним, что в таблице представлены данные до 7 апреля 2016 года. В основном, таблица пополнялась данными в марте-апреле 2016. Теперь можем удалить лишние столбцы."
   ]
  },
  {
   "cell_type": "code",
   "execution_count": 6,
   "metadata": {},
   "outputs": [
    {
     "data": {
      "text/plain": [
       "Index(['Price', 'VehicleType', 'RegistrationYear', 'Gearbox', 'Power', 'Model',\n",
       "       'Kilometer', 'RegistrationMonth', 'FuelType', 'Brand', 'Repaired'],\n",
       "      dtype='object')"
      ]
     },
     "execution_count": 6,
     "metadata": {},
     "output_type": "execute_result"
    }
   ],
   "source": [
    "data.drop(columns = ['DateCrawled', 'DateCreated', 'NumberOfPictures', 'PostalCode', 'LastSeen'],axis = 1, inplace=True)\n",
    "\n",
    "# check\n",
    "data.columns"
   ]
  },
  {
   "cell_type": "markdown",
   "metadata": {},
   "source": [
    "Посмотрим, нет ли в данных явных дубликатов и удалим их, если таковые обнаружатся."
   ]
  },
  {
   "cell_type": "code",
   "execution_count": 7,
   "metadata": {},
   "outputs": [
    {
     "data": {
      "text/plain": [
       "27543"
      ]
     },
     "execution_count": 7,
     "metadata": {},
     "output_type": "execute_result"
    }
   ],
   "source": [
    "data.duplicated().sum()"
   ]
  },
  {
   "cell_type": "code",
   "execution_count": 8,
   "metadata": {},
   "outputs": [
    {
     "data": {
      "text/plain": [
       "(326826, 11)"
      ]
     },
     "execution_count": 8,
     "metadata": {},
     "output_type": "execute_result"
    }
   ],
   "source": [
    "data = data.drop_duplicates().reset_index(drop=True)\n",
    "\n",
    "# check\n",
    "data.shape"
   ]
  },
  {
   "cell_type": "markdown",
   "metadata": {},
   "source": [
    "### Количественные признаки - обработка"
   ]
  },
  {
   "cell_type": "markdown",
   "metadata": {},
   "source": [
    "Посмотрим подробнее на столбцы, содержащие данные о количественных признаках."
   ]
  },
  {
   "cell_type": "code",
   "execution_count": 9,
   "metadata": {
    "scrolled": true
   },
   "outputs": [
    {
     "data": {
      "text/html": [
       "<div>\n",
       "<style scoped>\n",
       "    .dataframe tbody tr th:only-of-type {\n",
       "        vertical-align: middle;\n",
       "    }\n",
       "\n",
       "    .dataframe tbody tr th {\n",
       "        vertical-align: top;\n",
       "    }\n",
       "\n",
       "    .dataframe thead th {\n",
       "        text-align: right;\n",
       "    }\n",
       "</style>\n",
       "<table border=\"1\" class=\"dataframe\">\n",
       "  <thead>\n",
       "    <tr style=\"text-align: right;\">\n",
       "      <th></th>\n",
       "      <th>Price</th>\n",
       "      <th>RegistrationYear</th>\n",
       "      <th>Power</th>\n",
       "      <th>Kilometer</th>\n",
       "      <th>RegistrationMonth</th>\n",
       "    </tr>\n",
       "  </thead>\n",
       "  <tbody>\n",
       "    <tr>\n",
       "      <th>count</th>\n",
       "      <td>326826.000000</td>\n",
       "      <td>326826.000000</td>\n",
       "      <td>326826.000000</td>\n",
       "      <td>326826.000000</td>\n",
       "      <td>326826.000000</td>\n",
       "    </tr>\n",
       "    <tr>\n",
       "      <th>mean</th>\n",
       "      <td>4403.747330</td>\n",
       "      <td>2004.230985</td>\n",
       "      <td>110.244705</td>\n",
       "      <td>128144.073605</td>\n",
       "      <td>5.696239</td>\n",
       "    </tr>\n",
       "    <tr>\n",
       "      <th>std</th>\n",
       "      <td>4518.209808</td>\n",
       "      <td>91.120018</td>\n",
       "      <td>195.886373</td>\n",
       "      <td>37947.663920</td>\n",
       "      <td>3.724122</td>\n",
       "    </tr>\n",
       "    <tr>\n",
       "      <th>min</th>\n",
       "      <td>0.000000</td>\n",
       "      <td>1000.000000</td>\n",
       "      <td>0.000000</td>\n",
       "      <td>5000.000000</td>\n",
       "      <td>0.000000</td>\n",
       "    </tr>\n",
       "    <tr>\n",
       "      <th>25%</th>\n",
       "      <td>1000.000000</td>\n",
       "      <td>1999.000000</td>\n",
       "      <td>69.000000</td>\n",
       "      <td>125000.000000</td>\n",
       "      <td>3.000000</td>\n",
       "    </tr>\n",
       "    <tr>\n",
       "      <th>50%</th>\n",
       "      <td>2700.000000</td>\n",
       "      <td>2003.000000</td>\n",
       "      <td>105.000000</td>\n",
       "      <td>150000.000000</td>\n",
       "      <td>6.000000</td>\n",
       "    </tr>\n",
       "    <tr>\n",
       "      <th>75%</th>\n",
       "      <td>6350.000000</td>\n",
       "      <td>2008.000000</td>\n",
       "      <td>141.000000</td>\n",
       "      <td>150000.000000</td>\n",
       "      <td>9.000000</td>\n",
       "    </tr>\n",
       "    <tr>\n",
       "      <th>max</th>\n",
       "      <td>20000.000000</td>\n",
       "      <td>9999.000000</td>\n",
       "      <td>20000.000000</td>\n",
       "      <td>150000.000000</td>\n",
       "      <td>12.000000</td>\n",
       "    </tr>\n",
       "  </tbody>\n",
       "</table>\n",
       "</div>"
      ],
      "text/plain": [
       "               Price  RegistrationYear          Power      Kilometer  \\\n",
       "count  326826.000000     326826.000000  326826.000000  326826.000000   \n",
       "mean     4403.747330       2004.230985     110.244705  128144.073605   \n",
       "std      4518.209808         91.120018     195.886373   37947.663920   \n",
       "min         0.000000       1000.000000       0.000000    5000.000000   \n",
       "25%      1000.000000       1999.000000      69.000000  125000.000000   \n",
       "50%      2700.000000       2003.000000     105.000000  150000.000000   \n",
       "75%      6350.000000       2008.000000     141.000000  150000.000000   \n",
       "max     20000.000000       9999.000000   20000.000000  150000.000000   \n",
       "\n",
       "       RegistrationMonth  \n",
       "count      326826.000000  \n",
       "mean            5.696239  \n",
       "std             3.724122  \n",
       "min             0.000000  \n",
       "25%             3.000000  \n",
       "50%             6.000000  \n",
       "75%             9.000000  \n",
       "max            12.000000  "
      ]
     },
     "execution_count": 9,
     "metadata": {},
     "output_type": "execute_result"
    }
   ],
   "source": [
    "# посмотрим, как данные распределены по всей выборке по количественным признакам\n",
    "data.describe()"
   ]
  },
  {
   "cell_type": "markdown",
   "metadata": {},
   "source": [
    "#### Целевой признак - цена"
   ]
  },
  {
   "cell_type": "code",
   "execution_count": 10,
   "metadata": {
    "scrolled": false
   },
   "outputs": [
    {
     "data": {
      "text/plain": [
       "count    326826.000000\n",
       "mean       4403.747330\n",
       "std        4518.209808\n",
       "min           0.000000\n",
       "25%        1000.000000\n",
       "50%        2700.000000\n",
       "75%        6350.000000\n",
       "max       20000.000000\n",
       "Name: Price, dtype: float64"
      ]
     },
     "metadata": {},
     "output_type": "display_data"
    },
    {
     "data": {
      "text/plain": [
       "<AxesSubplot:>"
      ]
     },
     "execution_count": 10,
     "metadata": {},
     "output_type": "execute_result"
    },
    {
     "data": {
      "image/png": "[encoded data removed]",
      "text/plain": [
       "<Figure size 432x288 with 1 Axes>"
      ]
     },
     "metadata": {
      "needs_background": "light"
     },
     "output_type": "display_data"
    }
   ],
   "source": [
    "display(data['Price'].describe())\n",
    "sns.boxplot(data=data['Price'], orient='h')"
   ]
  },
  {
   "cell_type": "markdown",
   "metadata": {},
   "source": [
    "В основном, в выборке присутствуют автомобили не дороже примерно 14 тыс. евро, причём средняя цена составляет около 4417 евро. Это случай, когда медиана и среднее довольно значительно отличаются: медианная стоимость ниже и составляет 2700. Интересны очень маленькая стоимость и \"выбросы\" в сторону самой высокой цены. Посмотрим, сколько их, и какие это объекты."
   ]
  },
  {
   "cell_type": "code",
   "execution_count": 11,
   "metadata": {
    "scrolled": true
   },
   "outputs": [
    {
     "data": {
      "text/html": [
       "<div>\n",
       "<style scoped>\n",
       "    .dataframe tbody tr th:only-of-type {\n",
       "        vertical-align: middle;\n",
       "    }\n",
       "\n",
       "    .dataframe tbody tr th {\n",
       "        vertical-align: top;\n",
       "    }\n",
       "\n",
       "    .dataframe thead th {\n",
       "        text-align: right;\n",
       "    }\n",
       "</style>\n",
       "<table border=\"1\" class=\"dataframe\">\n",
       "  <thead>\n",
       "    <tr style=\"text-align: right;\">\n",
       "      <th></th>\n",
       "      <th>Price</th>\n",
       "      <th>RegistrationYear</th>\n",
       "      <th>Power</th>\n",
       "      <th>Kilometer</th>\n",
       "      <th>RegistrationMonth</th>\n",
       "    </tr>\n",
       "  </thead>\n",
       "  <tbody>\n",
       "    <tr>\n",
       "      <th>count</th>\n",
       "      <td>11793.000000</td>\n",
       "      <td>11793.000000</td>\n",
       "      <td>11793.000000</td>\n",
       "      <td>11793.000000</td>\n",
       "      <td>11793.000000</td>\n",
       "    </tr>\n",
       "    <tr>\n",
       "      <th>mean</th>\n",
       "      <td>5.945985</td>\n",
       "      <td>2011.699907</td>\n",
       "      <td>79.615874</td>\n",
       "      <td>121426.269821</td>\n",
       "      <td>3.692021</td>\n",
       "    </tr>\n",
       "    <tr>\n",
       "      <th>std</th>\n",
       "      <td>18.891990</td>\n",
       "      <td>304.443714</td>\n",
       "      <td>233.883461</td>\n",
       "      <td>50808.932989</td>\n",
       "      <td>4.015335</td>\n",
       "    </tr>\n",
       "    <tr>\n",
       "      <th>min</th>\n",
       "      <td>0.000000</td>\n",
       "      <td>1000.000000</td>\n",
       "      <td>0.000000</td>\n",
       "      <td>5000.000000</td>\n",
       "      <td>0.000000</td>\n",
       "    </tr>\n",
       "    <tr>\n",
       "      <th>25%</th>\n",
       "      <td>0.000000</td>\n",
       "      <td>1996.000000</td>\n",
       "      <td>0.000000</td>\n",
       "      <td>125000.000000</td>\n",
       "      <td>0.000000</td>\n",
       "    </tr>\n",
       "    <tr>\n",
       "      <th>50%</th>\n",
       "      <td>0.000000</td>\n",
       "      <td>2000.000000</td>\n",
       "      <td>68.000000</td>\n",
       "      <td>150000.000000</td>\n",
       "      <td>2.000000</td>\n",
       "    </tr>\n",
       "    <tr>\n",
       "      <th>75%</th>\n",
       "      <td>0.000000</td>\n",
       "      <td>2005.000000</td>\n",
       "      <td>116.000000</td>\n",
       "      <td>150000.000000</td>\n",
       "      <td>7.000000</td>\n",
       "    </tr>\n",
       "    <tr>\n",
       "      <th>max</th>\n",
       "      <td>99.000000</td>\n",
       "      <td>9999.000000</td>\n",
       "      <td>15016.000000</td>\n",
       "      <td>150000.000000</td>\n",
       "      <td>12.000000</td>\n",
       "    </tr>\n",
       "  </tbody>\n",
       "</table>\n",
       "</div>"
      ],
      "text/plain": [
       "              Price  RegistrationYear         Power      Kilometer  \\\n",
       "count  11793.000000      11793.000000  11793.000000   11793.000000   \n",
       "mean       5.945985       2011.699907     79.615874  121426.269821   \n",
       "std       18.891990        304.443714    233.883461   50808.932989   \n",
       "min        0.000000       1000.000000      0.000000    5000.000000   \n",
       "25%        0.000000       1996.000000      0.000000  125000.000000   \n",
       "50%        0.000000       2000.000000     68.000000  150000.000000   \n",
       "75%        0.000000       2005.000000    116.000000  150000.000000   \n",
       "max       99.000000       9999.000000  15016.000000  150000.000000   \n",
       "\n",
       "       RegistrationMonth  \n",
       "count       11793.000000  \n",
       "mean            3.692021  \n",
       "std             4.015335  \n",
       "min             0.000000  \n",
       "25%             0.000000  \n",
       "50%             2.000000  \n",
       "75%             7.000000  \n",
       "max            12.000000  "
      ]
     },
     "execution_count": 11,
     "metadata": {},
     "output_type": "execute_result"
    }
   ],
   "source": [
    "# установим \"подозрительно низкую\" стоимость на уровне 100 евро\n",
    "\n",
    "data[data['Price'] < 100].describe()"
   ]
  },
  {
   "cell_type": "markdown",
   "metadata": {},
   "source": [
    "Видим, что автомобили, которые стоят меньше 100 евро, в среднем, чуть старше, чем в выборке в целом, а также чуть менее мощные. Заменить цену на медианную стоимость мы не можем, так как это повлияет на итоговое качество предсказаний. Целесообразно удалить строки таблицы, в которых была обозначена цена менее 100 евро."
   ]
  },
  {
   "cell_type": "code",
   "execution_count": 12,
   "metadata": {},
   "outputs": [],
   "source": [
    "data = data.loc[data['Price'] >= 100]"
   ]
  },
  {
   "cell_type": "markdown",
   "metadata": {},
   "source": [
    "Теперь обратим внимание на дорогие автомобили: установим порог в 14 тыс. евро."
   ]
  },
  {
   "cell_type": "code",
   "execution_count": 13,
   "metadata": {
    "scrolled": false
   },
   "outputs": [
    {
     "data": {
      "text/html": [
       "<div>\n",
       "<style scoped>\n",
       "    .dataframe tbody tr th:only-of-type {\n",
       "        vertical-align: middle;\n",
       "    }\n",
       "\n",
       "    .dataframe tbody tr th {\n",
       "        vertical-align: top;\n",
       "    }\n",
       "\n",
       "    .dataframe thead th {\n",
       "        text-align: right;\n",
       "    }\n",
       "</style>\n",
       "<table border=\"1\" class=\"dataframe\">\n",
       "  <thead>\n",
       "    <tr style=\"text-align: right;\">\n",
       "      <th></th>\n",
       "      <th>Price</th>\n",
       "      <th>RegistrationYear</th>\n",
       "      <th>Power</th>\n",
       "      <th>Kilometer</th>\n",
       "      <th>RegistrationMonth</th>\n",
       "    </tr>\n",
       "  </thead>\n",
       "  <tbody>\n",
       "    <tr>\n",
       "      <th>count</th>\n",
       "      <td>18714.000000</td>\n",
       "      <td>18714.000000</td>\n",
       "      <td>18714.000000</td>\n",
       "      <td>18714.000000</td>\n",
       "      <td>18714.000000</td>\n",
       "    </tr>\n",
       "    <tr>\n",
       "      <th>mean</th>\n",
       "      <td>16723.718874</td>\n",
       "      <td>2009.756279</td>\n",
       "      <td>177.447900</td>\n",
       "      <td>93979.373731</td>\n",
       "      <td>6.226675</td>\n",
       "    </tr>\n",
       "    <tr>\n",
       "      <th>std</th>\n",
       "      <td>1759.841569</td>\n",
       "      <td>93.546952</td>\n",
       "      <td>143.293494</td>\n",
       "      <td>46581.421019</td>\n",
       "      <td>3.426570</td>\n",
       "    </tr>\n",
       "    <tr>\n",
       "      <th>min</th>\n",
       "      <td>14000.000000</td>\n",
       "      <td>1000.000000</td>\n",
       "      <td>0.000000</td>\n",
       "      <td>5000.000000</td>\n",
       "      <td>0.000000</td>\n",
       "    </tr>\n",
       "    <tr>\n",
       "      <th>25%</th>\n",
       "      <td>15000.000000</td>\n",
       "      <td>2008.000000</td>\n",
       "      <td>136.000000</td>\n",
       "      <td>50000.000000</td>\n",
       "      <td>3.000000</td>\n",
       "    </tr>\n",
       "    <tr>\n",
       "      <th>50%</th>\n",
       "      <td>16500.000000</td>\n",
       "      <td>2010.000000</td>\n",
       "      <td>170.000000</td>\n",
       "      <td>90000.000000</td>\n",
       "      <td>6.000000</td>\n",
       "    </tr>\n",
       "    <tr>\n",
       "      <th>75%</th>\n",
       "      <td>18000.000000</td>\n",
       "      <td>2012.000000</td>\n",
       "      <td>211.000000</td>\n",
       "      <td>150000.000000</td>\n",
       "      <td>9.000000</td>\n",
       "    </tr>\n",
       "    <tr>\n",
       "      <th>max</th>\n",
       "      <td>20000.000000</td>\n",
       "      <td>9999.000000</td>\n",
       "      <td>13636.000000</td>\n",
       "      <td>150000.000000</td>\n",
       "      <td>12.000000</td>\n",
       "    </tr>\n",
       "  </tbody>\n",
       "</table>\n",
       "</div>"
      ],
      "text/plain": [
       "              Price  RegistrationYear         Power      Kilometer  \\\n",
       "count  18714.000000      18714.000000  18714.000000   18714.000000   \n",
       "mean   16723.718874       2009.756279    177.447900   93979.373731   \n",
       "std     1759.841569         93.546952    143.293494   46581.421019   \n",
       "min    14000.000000       1000.000000      0.000000    5000.000000   \n",
       "25%    15000.000000       2008.000000    136.000000   50000.000000   \n",
       "50%    16500.000000       2010.000000    170.000000   90000.000000   \n",
       "75%    18000.000000       2012.000000    211.000000  150000.000000   \n",
       "max    20000.000000       9999.000000  13636.000000  150000.000000   \n",
       "\n",
       "       RegistrationMonth  \n",
       "count       18714.000000  \n",
       "mean            6.226675  \n",
       "std             3.426570  \n",
       "min             0.000000  \n",
       "25%             3.000000  \n",
       "50%             6.000000  \n",
       "75%             9.000000  \n",
       "max            12.000000  "
      ]
     },
     "execution_count": 13,
     "metadata": {},
     "output_type": "execute_result"
    }
   ],
   "source": [
    "data[data['Price'] >=14000].describe()"
   ]
  },
  {
   "cell_type": "markdown",
   "metadata": {},
   "source": [
    "С дорогими автомобилями всё логично: это более новые и более мощные машины, чем в среднем по выборке, у них также меньше пробег. Относительная редкость таких наблюдений в общей выборке может объясняться тем, что владельцы дорогих авто не являются целевой аудиторией приложения для продажи подержанных машин. Оставим эти наблюдения в выборке. Часть из них, вероятно, будет удалена в ходе дальнейшей обработки данных."
   ]
  },
  {
   "cell_type": "markdown",
   "metadata": {},
   "source": [
    "#### Год и месяц регистрации автомобиля"
   ]
  },
  {
   "cell_type": "code",
   "execution_count": 14,
   "metadata": {
    "scrolled": false
   },
   "outputs": [
    {
     "data": {
      "text/plain": [
       "count    315033.000000\n",
       "mean       2003.951392\n",
       "std          71.708878\n",
       "min        1000.000000\n",
       "25%        1999.000000\n",
       "50%        2003.000000\n",
       "75%        2008.000000\n",
       "max        9999.000000\n",
       "Name: RegistrationYear, dtype: float64"
      ]
     },
     "execution_count": 14,
     "metadata": {},
     "output_type": "execute_result"
    }
   ],
   "source": [
    "data['RegistrationYear'].describe()\n"
   ]
  },
  {
   "cell_type": "markdown",
   "metadata": {},
   "source": [
    "В этом столбце явно присутствуют аномалии: не бывает автомобилей, зарегистрированных в 1000 или в 9999 году. Однако вполне возможно, что кто-то продаёт ретроавтомобили. "
   ]
  },
  {
   "cell_type": "code",
   "execution_count": 15,
   "metadata": {
    "scrolled": false
   },
   "outputs": [
    {
     "data": {
      "text/html": [
       "<div>\n",
       "<style scoped>\n",
       "    .dataframe tbody tr th:only-of-type {\n",
       "        vertical-align: middle;\n",
       "    }\n",
       "\n",
       "    .dataframe tbody tr th {\n",
       "        vertical-align: top;\n",
       "    }\n",
       "\n",
       "    .dataframe thead th {\n",
       "        text-align: right;\n",
       "    }\n",
       "</style>\n",
       "<table border=\"1\" class=\"dataframe\">\n",
       "  <thead>\n",
       "    <tr style=\"text-align: right;\">\n",
       "      <th></th>\n",
       "      <th>Price</th>\n",
       "      <th>RegistrationYear</th>\n",
       "      <th>Power</th>\n",
       "      <th>Kilometer</th>\n",
       "      <th>RegistrationMonth</th>\n",
       "    </tr>\n",
       "  </thead>\n",
       "  <tbody>\n",
       "    <tr>\n",
       "      <th>count</th>\n",
       "      <td>101.000000</td>\n",
       "      <td>101.000000</td>\n",
       "      <td>101.000000</td>\n",
       "      <td>101.000000</td>\n",
       "      <td>101.000000</td>\n",
       "    </tr>\n",
       "    <tr>\n",
       "      <th>mean</th>\n",
       "      <td>7091.000000</td>\n",
       "      <td>1928.089109</td>\n",
       "      <td>41.049505</td>\n",
       "      <td>59554.455446</td>\n",
       "      <td>2.386139</td>\n",
       "    </tr>\n",
       "    <tr>\n",
       "      <th>std</th>\n",
       "      <td>6199.835606</td>\n",
       "      <td>13.698977</td>\n",
       "      <td>141.246549</td>\n",
       "      <td>61826.770132</td>\n",
       "      <td>2.966379</td>\n",
       "    </tr>\n",
       "    <tr>\n",
       "      <th>min</th>\n",
       "      <td>135.000000</td>\n",
       "      <td>1910.000000</td>\n",
       "      <td>0.000000</td>\n",
       "      <td>5000.000000</td>\n",
       "      <td>0.000000</td>\n",
       "    </tr>\n",
       "    <tr>\n",
       "      <th>25%</th>\n",
       "      <td>1000.000000</td>\n",
       "      <td>1910.000000</td>\n",
       "      <td>0.000000</td>\n",
       "      <td>5000.000000</td>\n",
       "      <td>0.000000</td>\n",
       "    </tr>\n",
       "    <tr>\n",
       "      <th>50%</th>\n",
       "      <td>5900.000000</td>\n",
       "      <td>1932.000000</td>\n",
       "      <td>0.000000</td>\n",
       "      <td>30000.000000</td>\n",
       "      <td>1.000000</td>\n",
       "    </tr>\n",
       "    <tr>\n",
       "      <th>75%</th>\n",
       "      <td>11500.000000</td>\n",
       "      <td>1938.000000</td>\n",
       "      <td>38.000000</td>\n",
       "      <td>150000.000000</td>\n",
       "      <td>4.000000</td>\n",
       "    </tr>\n",
       "    <tr>\n",
       "      <th>max</th>\n",
       "      <td>20000.000000</td>\n",
       "      <td>1949.000000</td>\n",
       "      <td>1000.000000</td>\n",
       "      <td>150000.000000</td>\n",
       "      <td>12.000000</td>\n",
       "    </tr>\n",
       "  </tbody>\n",
       "</table>\n",
       "</div>"
      ],
      "text/plain": [
       "              Price  RegistrationYear        Power      Kilometer  \\\n",
       "count    101.000000        101.000000   101.000000     101.000000   \n",
       "mean    7091.000000       1928.089109    41.049505   59554.455446   \n",
       "std     6199.835606         13.698977   141.246549   61826.770132   \n",
       "min      135.000000       1910.000000     0.000000    5000.000000   \n",
       "25%     1000.000000       1910.000000     0.000000    5000.000000   \n",
       "50%     5900.000000       1932.000000     0.000000   30000.000000   \n",
       "75%    11500.000000       1938.000000    38.000000  150000.000000   \n",
       "max    20000.000000       1949.000000  1000.000000  150000.000000   \n",
       "\n",
       "       RegistrationMonth  \n",
       "count         101.000000  \n",
       "mean            2.386139  \n",
       "std             2.966379  \n",
       "min             0.000000  \n",
       "25%             0.000000  \n",
       "50%             1.000000  \n",
       "75%             4.000000  \n",
       "max            12.000000  "
      ]
     },
     "execution_count": 15,
     "metadata": {},
     "output_type": "execute_result"
    }
   ],
   "source": [
    "data.query('1900 < RegistrationYear < 1950').describe()"
   ]
  },
  {
   "cell_type": "markdown",
   "metadata": {},
   "source": [
    "Действительно, таковых совсем немного, но похоже, что они есть на рынке - и в среднем дороже, чем новые авто. Судя по всему, автомобили, выпущенные ранее 1910 года - это аномалии, связанные с неправильным заполнением данных или ошибкой базы."
   ]
  },
  {
   "cell_type": "code",
   "execution_count": 16,
   "metadata": {
    "scrolled": false
   },
   "outputs": [
    {
     "data": {
      "text/html": [
       "<div>\n",
       "<style scoped>\n",
       "    .dataframe tbody tr th:only-of-type {\n",
       "        vertical-align: middle;\n",
       "    }\n",
       "\n",
       "    .dataframe tbody tr th {\n",
       "        vertical-align: top;\n",
       "    }\n",
       "\n",
       "    .dataframe thead th {\n",
       "        text-align: right;\n",
       "    }\n",
       "</style>\n",
       "<table border=\"1\" class=\"dataframe\">\n",
       "  <thead>\n",
       "    <tr style=\"text-align: right;\">\n",
       "      <th></th>\n",
       "      <th>Price</th>\n",
       "      <th>RegistrationYear</th>\n",
       "      <th>Power</th>\n",
       "      <th>Kilometer</th>\n",
       "      <th>RegistrationMonth</th>\n",
       "    </tr>\n",
       "  </thead>\n",
       "  <tbody>\n",
       "    <tr>\n",
       "      <th>count</th>\n",
       "      <td>41.000000</td>\n",
       "      <td>41.000000</td>\n",
       "      <td>41.000000</td>\n",
       "      <td>41.000000</td>\n",
       "      <td>41.00000</td>\n",
       "    </tr>\n",
       "    <tr>\n",
       "      <th>mean</th>\n",
       "      <td>2295.024390</td>\n",
       "      <td>1196.195122</td>\n",
       "      <td>160.731707</td>\n",
       "      <td>11463.414634</td>\n",
       "      <td>0.95122</td>\n",
       "    </tr>\n",
       "    <tr>\n",
       "      <th>std</th>\n",
       "      <td>3834.355777</td>\n",
       "      <td>265.146301</td>\n",
       "      <td>443.766325</td>\n",
       "      <td>29031.101909</td>\n",
       "      <td>1.96152</td>\n",
       "    </tr>\n",
       "    <tr>\n",
       "      <th>min</th>\n",
       "      <td>100.000000</td>\n",
       "      <td>1000.000000</td>\n",
       "      <td>0.000000</td>\n",
       "      <td>5000.000000</td>\n",
       "      <td>0.00000</td>\n",
       "    </tr>\n",
       "    <tr>\n",
       "      <th>25%</th>\n",
       "      <td>400.000000</td>\n",
       "      <td>1000.000000</td>\n",
       "      <td>0.000000</td>\n",
       "      <td>5000.000000</td>\n",
       "      <td>0.00000</td>\n",
       "    </tr>\n",
       "    <tr>\n",
       "      <th>50%</th>\n",
       "      <td>500.000000</td>\n",
       "      <td>1000.000000</td>\n",
       "      <td>0.000000</td>\n",
       "      <td>5000.000000</td>\n",
       "      <td>0.00000</td>\n",
       "    </tr>\n",
       "    <tr>\n",
       "      <th>75%</th>\n",
       "      <td>1600.000000</td>\n",
       "      <td>1300.000000</td>\n",
       "      <td>0.000000</td>\n",
       "      <td>5000.000000</td>\n",
       "      <td>0.00000</td>\n",
       "    </tr>\n",
       "    <tr>\n",
       "      <th>max</th>\n",
       "      <td>16500.000000</td>\n",
       "      <td>1800.000000</td>\n",
       "      <td>1800.000000</td>\n",
       "      <td>150000.000000</td>\n",
       "      <td>6.00000</td>\n",
       "    </tr>\n",
       "  </tbody>\n",
       "</table>\n",
       "</div>"
      ],
      "text/plain": [
       "              Price  RegistrationYear        Power      Kilometer  \\\n",
       "count     41.000000         41.000000    41.000000      41.000000   \n",
       "mean    2295.024390       1196.195122   160.731707   11463.414634   \n",
       "std     3834.355777        265.146301   443.766325   29031.101909   \n",
       "min      100.000000       1000.000000     0.000000    5000.000000   \n",
       "25%      400.000000       1000.000000     0.000000    5000.000000   \n",
       "50%      500.000000       1000.000000     0.000000    5000.000000   \n",
       "75%     1600.000000       1300.000000     0.000000    5000.000000   \n",
       "max    16500.000000       1800.000000  1800.000000  150000.000000   \n",
       "\n",
       "       RegistrationMonth  \n",
       "count           41.00000  \n",
       "mean             0.95122  \n",
       "std              1.96152  \n",
       "min              0.00000  \n",
       "25%              0.00000  \n",
       "50%              0.00000  \n",
       "75%              0.00000  \n",
       "max              6.00000  "
      ]
     },
     "execution_count": 16,
     "metadata": {},
     "output_type": "execute_result"
    }
   ],
   "source": [
    "# посмотрим, сколько автомобилей с датой регистрации раньше 1910 года\n",
    "data[data['RegistrationYear'] < 1910].describe()"
   ]
  },
  {
   "cell_type": "markdown",
   "metadata": {},
   "source": [
    "Таких случаев совсем немного, можно удалить их. Теперь посмотрим, есть ли в таблице автомобили, зарегистрированные позже 2016 года - когда в таблицу в последний раз вносились новые данные."
   ]
  },
  {
   "cell_type": "code",
   "execution_count": 17,
   "metadata": {
    "scrolled": true
   },
   "outputs": [
    {
     "data": {
      "text/html": [
       "<div>\n",
       "<style scoped>\n",
       "    .dataframe tbody tr th:only-of-type {\n",
       "        vertical-align: middle;\n",
       "    }\n",
       "\n",
       "    .dataframe tbody tr th {\n",
       "        vertical-align: top;\n",
       "    }\n",
       "\n",
       "    .dataframe thead th {\n",
       "        text-align: right;\n",
       "    }\n",
       "</style>\n",
       "<table border=\"1\" class=\"dataframe\">\n",
       "  <thead>\n",
       "    <tr style=\"text-align: right;\">\n",
       "      <th></th>\n",
       "      <th>Price</th>\n",
       "      <th>RegistrationYear</th>\n",
       "      <th>Power</th>\n",
       "      <th>Kilometer</th>\n",
       "      <th>RegistrationMonth</th>\n",
       "    </tr>\n",
       "  </thead>\n",
       "  <tbody>\n",
       "    <tr>\n",
       "      <th>count</th>\n",
       "      <td>13044.000000</td>\n",
       "      <td>13044.000000</td>\n",
       "      <td>13044.000000</td>\n",
       "      <td>13044.000000</td>\n",
       "      <td>13044.000000</td>\n",
       "    </tr>\n",
       "    <tr>\n",
       "      <th>mean</th>\n",
       "      <td>3329.020776</td>\n",
       "      <td>2038.484361</td>\n",
       "      <td>88.682459</td>\n",
       "      <td>132097.132781</td>\n",
       "      <td>4.828734</td>\n",
       "    </tr>\n",
       "    <tr>\n",
       "      <th>std</th>\n",
       "      <td>3459.609047</td>\n",
       "      <td>345.807132</td>\n",
       "      <td>254.457241</td>\n",
       "      <td>36273.617869</td>\n",
       "      <td>3.990092</td>\n",
       "    </tr>\n",
       "    <tr>\n",
       "      <th>min</th>\n",
       "      <td>100.000000</td>\n",
       "      <td>2017.000000</td>\n",
       "      <td>0.000000</td>\n",
       "      <td>5000.000000</td>\n",
       "      <td>0.000000</td>\n",
       "    </tr>\n",
       "    <tr>\n",
       "      <th>25%</th>\n",
       "      <td>1099.000000</td>\n",
       "      <td>2017.000000</td>\n",
       "      <td>0.000000</td>\n",
       "      <td>125000.000000</td>\n",
       "      <td>1.000000</td>\n",
       "    </tr>\n",
       "    <tr>\n",
       "      <th>50%</th>\n",
       "      <td>2000.000000</td>\n",
       "      <td>2017.000000</td>\n",
       "      <td>80.000000</td>\n",
       "      <td>150000.000000</td>\n",
       "      <td>4.000000</td>\n",
       "    </tr>\n",
       "    <tr>\n",
       "      <th>75%</th>\n",
       "      <td>4250.000000</td>\n",
       "      <td>2018.000000</td>\n",
       "      <td>116.000000</td>\n",
       "      <td>150000.000000</td>\n",
       "      <td>8.000000</td>\n",
       "    </tr>\n",
       "    <tr>\n",
       "      <th>max</th>\n",
       "      <td>20000.000000</td>\n",
       "      <td>9999.000000</td>\n",
       "      <td>16011.000000</td>\n",
       "      <td>150000.000000</td>\n",
       "      <td>12.000000</td>\n",
       "    </tr>\n",
       "  </tbody>\n",
       "</table>\n",
       "</div>"
      ],
      "text/plain": [
       "              Price  RegistrationYear         Power      Kilometer  \\\n",
       "count  13044.000000      13044.000000  13044.000000   13044.000000   \n",
       "mean    3329.020776       2038.484361     88.682459  132097.132781   \n",
       "std     3459.609047        345.807132    254.457241   36273.617869   \n",
       "min      100.000000       2017.000000      0.000000    5000.000000   \n",
       "25%     1099.000000       2017.000000      0.000000  125000.000000   \n",
       "50%     2000.000000       2017.000000     80.000000  150000.000000   \n",
       "75%     4250.000000       2018.000000    116.000000  150000.000000   \n",
       "max    20000.000000       9999.000000  16011.000000  150000.000000   \n",
       "\n",
       "       RegistrationMonth  \n",
       "count       13044.000000  \n",
       "mean            4.828734  \n",
       "std             3.990092  \n",
       "min             0.000000  \n",
       "25%             1.000000  \n",
       "50%             4.000000  \n",
       "75%             8.000000  \n",
       "max            12.000000  "
      ]
     },
     "execution_count": 17,
     "metadata": {},
     "output_type": "execute_result"
    }
   ],
   "source": [
    "data[data['RegistrationYear'] > 2016].describe()"
   ]
  },
  {
   "cell_type": "markdown",
   "metadata": {},
   "source": [
    "Таких случаев около 5%, что довольно много, причём среди них преобладают машины, зарегистрированные, якобы, в 2017 году. При этом их средняя цена ниже, чем по выборке в целом. Определить причины сбоя мы не можем - возможно, данные вносились пользователями некорректно. Поэтому целесообразно удалить строки с ошибкой."
   ]
  },
  {
   "cell_type": "code",
   "execution_count": 18,
   "metadata": {
    "scrolled": true
   },
   "outputs": [
    {
     "data": {
      "text/html": [
       "<div>\n",
       "<style scoped>\n",
       "    .dataframe tbody tr th:only-of-type {\n",
       "        vertical-align: middle;\n",
       "    }\n",
       "\n",
       "    .dataframe tbody tr th {\n",
       "        vertical-align: top;\n",
       "    }\n",
       "\n",
       "    .dataframe thead th {\n",
       "        text-align: right;\n",
       "    }\n",
       "</style>\n",
       "<table border=\"1\" class=\"dataframe\">\n",
       "  <thead>\n",
       "    <tr style=\"text-align: right;\">\n",
       "      <th></th>\n",
       "      <th>Price</th>\n",
       "      <th>RegistrationYear</th>\n",
       "      <th>Power</th>\n",
       "      <th>Kilometer</th>\n",
       "      <th>RegistrationMonth</th>\n",
       "    </tr>\n",
       "  </thead>\n",
       "  <tbody>\n",
       "    <tr>\n",
       "      <th>count</th>\n",
       "      <td>301948.000000</td>\n",
       "      <td>301948.000000</td>\n",
       "      <td>301948.000000</td>\n",
       "      <td>301948.000000</td>\n",
       "      <td>301948.000000</td>\n",
       "    </tr>\n",
       "    <tr>\n",
       "      <th>mean</th>\n",
       "      <td>4622.223565</td>\n",
       "      <td>2002.569267</td>\n",
       "      <td>112.365580</td>\n",
       "      <td>128251.520129</td>\n",
       "      <td>5.812637</td>\n",
       "    </tr>\n",
       "    <tr>\n",
       "      <th>std</th>\n",
       "      <td>4552.318251</td>\n",
       "      <td>6.938118</td>\n",
       "      <td>191.081526</td>\n",
       "      <td>37371.216403</td>\n",
       "      <td>3.672587</td>\n",
       "    </tr>\n",
       "    <tr>\n",
       "      <th>min</th>\n",
       "      <td>100.000000</td>\n",
       "      <td>1910.000000</td>\n",
       "      <td>0.000000</td>\n",
       "      <td>5000.000000</td>\n",
       "      <td>0.000000</td>\n",
       "    </tr>\n",
       "    <tr>\n",
       "      <th>25%</th>\n",
       "      <td>1200.000000</td>\n",
       "      <td>1999.000000</td>\n",
       "      <td>71.000000</td>\n",
       "      <td>125000.000000</td>\n",
       "      <td>3.000000</td>\n",
       "    </tr>\n",
       "    <tr>\n",
       "      <th>50%</th>\n",
       "      <td>2900.000000</td>\n",
       "      <td>2003.000000</td>\n",
       "      <td>105.000000</td>\n",
       "      <td>150000.000000</td>\n",
       "      <td>6.000000</td>\n",
       "    </tr>\n",
       "    <tr>\n",
       "      <th>75%</th>\n",
       "      <td>6650.000000</td>\n",
       "      <td>2007.000000</td>\n",
       "      <td>143.000000</td>\n",
       "      <td>150000.000000</td>\n",
       "      <td>9.000000</td>\n",
       "    </tr>\n",
       "    <tr>\n",
       "      <th>max</th>\n",
       "      <td>20000.000000</td>\n",
       "      <td>2016.000000</td>\n",
       "      <td>20000.000000</td>\n",
       "      <td>150000.000000</td>\n",
       "      <td>12.000000</td>\n",
       "    </tr>\n",
       "  </tbody>\n",
       "</table>\n",
       "</div>"
      ],
      "text/plain": [
       "               Price  RegistrationYear          Power      Kilometer  \\\n",
       "count  301948.000000     301948.000000  301948.000000  301948.000000   \n",
       "mean     4622.223565       2002.569267     112.365580  128251.520129   \n",
       "std      4552.318251          6.938118     191.081526   37371.216403   \n",
       "min       100.000000       1910.000000       0.000000    5000.000000   \n",
       "25%      1200.000000       1999.000000      71.000000  125000.000000   \n",
       "50%      2900.000000       2003.000000     105.000000  150000.000000   \n",
       "75%      6650.000000       2007.000000     143.000000  150000.000000   \n",
       "max     20000.000000       2016.000000   20000.000000  150000.000000   \n",
       "\n",
       "       RegistrationMonth  \n",
       "count      301948.000000  \n",
       "mean            5.812637  \n",
       "std             3.672587  \n",
       "min             0.000000  \n",
       "25%             3.000000  \n",
       "50%             6.000000  \n",
       "75%             9.000000  \n",
       "max            12.000000  "
      ]
     },
     "execution_count": 18,
     "metadata": {},
     "output_type": "execute_result"
    }
   ],
   "source": [
    "data = data.query('1910 <= RegistrationYear <= 2016')\n",
    "\n",
    "#check\n",
    "data.describe()"
   ]
  },
  {
   "cell_type": "markdown",
   "metadata": {},
   "source": [
    "Интересно, влияет ли каким-либо образом месяц регистрации автомобиля на его стоимость? Сравним медианные цены по месяцам."
   ]
  },
  {
   "cell_type": "code",
   "execution_count": 19,
   "metadata": {
    "scrolled": false
   },
   "outputs": [
    {
     "data": {
      "text/plain": [
       "RegistrationMonth\n",
       "0     1111.0\n",
       "1     3000.0\n",
       "2     2999.0\n",
       "3     2995.0\n",
       "4     3200.0\n",
       "5     3150.0\n",
       "6     3200.0\n",
       "7     3200.0\n",
       "8     3000.0\n",
       "9     3399.0\n",
       "10    3300.0\n",
       "11    3399.0\n",
       "12    3000.0\n",
       "Name: Price, dtype: float64"
      ]
     },
     "execution_count": 19,
     "metadata": {},
     "output_type": "execute_result"
    }
   ],
   "source": [
    "data.groupby('RegistrationMonth')['Price'].median()"
   ]
  },
  {
   "cell_type": "markdown",
   "metadata": {},
   "source": [
    "Наиболее сильно от других значений отличается \"0\" - возможно, владельцы старых машин не могли указать точные данные. При этом по месяцам колебания не очень значительны, а в выборке присутствуют данные об авто, зарегистрированных на протяжении более века. Целесообразно удалить этот столбец."
   ]
  },
  {
   "cell_type": "code",
   "execution_count": 20,
   "metadata": {
    "scrolled": true
   },
   "outputs": [],
   "source": [
    "data = data.drop('RegistrationMonth',axis = 1)"
   ]
  },
  {
   "cell_type": "markdown",
   "metadata": {},
   "source": [
    "#### Мощность"
   ]
  },
  {
   "cell_type": "markdown",
   "metadata": {},
   "source": [
    "Известно, что самые мощные авто из выпускаемых серийно, имеют мощность двигателя до 2000 л.с. Следовательно, маловероятно появление более мощных автомобилей в исследуемой выборке. Посмотрим, каковы аномалии."
   ]
  },
  {
   "cell_type": "code",
   "execution_count": 21,
   "metadata": {
    "scrolled": false
   },
   "outputs": [
    {
     "data": {
      "text/plain": [
       "<AxesSubplot:>"
      ]
     },
     "execution_count": 21,
     "metadata": {},
     "output_type": "execute_result"
    },
    {
     "data": {
      "image/png": "[encoded data removed]",
      "text/plain": [
       "<Figure size 432x288 with 1 Axes>"
      ]
     },
     "metadata": {
      "needs_background": "light"
     },
     "output_type": "display_data"
    }
   ],
   "source": [
    "sns.boxplot(data=data['Power'], orient='h')"
   ]
  },
  {
   "cell_type": "markdown",
   "metadata": {},
   "source": [
    "График совсем неинформативен, поскольку очевидно, что \"нормальная\" мощность находится в довольно узких пределах - в особенности, по сравнению с имеющимися выбросами."
   ]
  },
  {
   "cell_type": "code",
   "execution_count": 22,
   "metadata": {
    "scrolled": false
   },
   "outputs": [
    {
     "data": {
      "text/plain": [
       "<AxesSubplot:>"
      ]
     },
     "execution_count": 22,
     "metadata": {},
     "output_type": "execute_result"
    },
    {
     "data": {
      "image/png": "[encoded data removed]",
      "text/plain": [
       "<Figure size 432x288 with 1 Axes>"
      ]
     },
     "metadata": {
      "needs_background": "light"
     },
     "output_type": "display_data"
    }
   ],
   "source": [
    "sns.boxplot(data=data.query('Power < 500')['Power'], orient='h')"
   ]
  },
  {
   "cell_type": "markdown",
   "metadata": {},
   "source": [
    "Видим, что, фактически, авто, более мощные, чем 250 л.с. можно считать аномалиями. Посмотрим, сколько таковых в выборке - и что они собой представляют."
   ]
  },
  {
   "cell_type": "code",
   "execution_count": 23,
   "metadata": {
    "scrolled": false
   },
   "outputs": [
    {
     "name": "stdout",
     "output_type": "stream",
     "text": [
      "['mercedes_benz' 'volkswagen' 'bmw' 'ford' 'mitsubishi' 'audi' 'opel'\n",
      " 'seat' 'chevrolet' 'porsche' 'subaru' 'toyota' 'sonstige_autos' 'jaguar'\n",
      " 'nissan' 'mazda' 'volvo' 'fiat' 'honda' 'lancia' 'chrysler' 'jeep'\n",
      " 'renault' 'citroen' 'saab' 'skoda' 'land_rover' 'peugeot' 'smart'\n",
      " 'alfa_romeo' 'kia' 'hyundai' 'suzuki' 'daihatsu' 'mini' 'rover' 'daewoo']\n"
     ]
    },
    {
     "data": {
      "text/plain": [
       "6487"
      ]
     },
     "execution_count": 23,
     "metadata": {},
     "output_type": "execute_result"
    }
   ],
   "source": [
    "print(data[data['Power'] > 250]['Brand'].unique())\n",
    "data[data['Power'] > 250]['Power'].count()"
   ]
  },
  {
   "cell_type": "markdown",
   "metadata": {},
   "source": [
    "Среди автомобилей, мощность которых заявлена как более 250 л.с. есть авто брендов, в реальности выпускающих более мощные автомобили, а также явно ошибочные значения. Попробуем увеличить порог мощности, чтобы выявить явные ошибки."
   ]
  },
  {
   "cell_type": "code",
   "execution_count": 24,
   "metadata": {},
   "outputs": [
    {
     "name": "stdout",
     "output_type": "stream",
     "text": [
      "['toyota' 'mitsubishi' 'opel' 'chevrolet' 'fiat' 'volkswagen' 'honda'\n",
      " 'lancia' 'ford' 'jaguar' 'renault' 'bmw' 'nissan' 'mercedes_benz'\n",
      " 'porsche' 'citroen' 'audi' 'skoda' 'volvo' 'sonstige_autos' 'peugeot'\n",
      " 'seat' 'smart' 'kia' 'mazda' 'suzuki' 'mini' 'alfa_romeo' 'daewoo'\n",
      " 'hyundai']\n"
     ]
    },
    {
     "data": {
      "text/plain": [
       "381"
      ]
     },
     "execution_count": 24,
     "metadata": {},
     "output_type": "execute_result"
    }
   ],
   "source": [
    "print(data[data['Power'] > 500]['Brand'].unique())\n",
    "data[data['Power'] > 500]['Power'].count()"
   ]
  },
  {
   "cell_type": "markdown",
   "metadata": {},
   "source": [
    "Видим, что автомобилей с заявленной мощностью более 500 л.с. очень мало - это явные аномалии. Такие значения можно удалить. Теперь обратим внимание на слишком маленькую заявленную мощность. В выборке явно есть довольно много наблюдений с мощностью 0 л.с. "
   ]
  },
  {
   "cell_type": "code",
   "execution_count": 25,
   "metadata": {
    "scrolled": true
   },
   "outputs": [
    {
     "data": {
      "text/html": [
       "<div>\n",
       "<style scoped>\n",
       "    .dataframe tbody tr th:only-of-type {\n",
       "        vertical-align: middle;\n",
       "    }\n",
       "\n",
       "    .dataframe tbody tr th {\n",
       "        vertical-align: top;\n",
       "    }\n",
       "\n",
       "    .dataframe thead th {\n",
       "        text-align: right;\n",
       "    }\n",
       "</style>\n",
       "<table border=\"1\" class=\"dataframe\">\n",
       "  <thead>\n",
       "    <tr style=\"text-align: right;\">\n",
       "      <th></th>\n",
       "      <th>Price</th>\n",
       "      <th>RegistrationYear</th>\n",
       "      <th>Power</th>\n",
       "      <th>Kilometer</th>\n",
       "    </tr>\n",
       "  </thead>\n",
       "  <tbody>\n",
       "    <tr>\n",
       "      <th>count</th>\n",
       "      <td>29340.000000</td>\n",
       "      <td>29340.000000</td>\n",
       "      <td>29340.0</td>\n",
       "      <td>29340.000000</td>\n",
       "    </tr>\n",
       "    <tr>\n",
       "      <th>mean</th>\n",
       "      <td>2482.738684</td>\n",
       "      <td>2000.542706</td>\n",
       "      <td>0.0</td>\n",
       "      <td>128568.847989</td>\n",
       "    </tr>\n",
       "    <tr>\n",
       "      <th>std</th>\n",
       "      <td>3216.232963</td>\n",
       "      <td>9.232561</td>\n",
       "      <td>0.0</td>\n",
       "      <td>41966.636831</td>\n",
       "    </tr>\n",
       "    <tr>\n",
       "      <th>min</th>\n",
       "      <td>100.000000</td>\n",
       "      <td>1910.000000</td>\n",
       "      <td>0.0</td>\n",
       "      <td>5000.000000</td>\n",
       "    </tr>\n",
       "    <tr>\n",
       "      <th>25%</th>\n",
       "      <td>599.000000</td>\n",
       "      <td>1997.000000</td>\n",
       "      <td>0.0</td>\n",
       "      <td>125000.000000</td>\n",
       "    </tr>\n",
       "    <tr>\n",
       "      <th>50%</th>\n",
       "      <td>1250.000000</td>\n",
       "      <td>2000.000000</td>\n",
       "      <td>0.0</td>\n",
       "      <td>150000.000000</td>\n",
       "    </tr>\n",
       "    <tr>\n",
       "      <th>75%</th>\n",
       "      <td>2980.000000</td>\n",
       "      <td>2005.000000</td>\n",
       "      <td>0.0</td>\n",
       "      <td>150000.000000</td>\n",
       "    </tr>\n",
       "    <tr>\n",
       "      <th>max</th>\n",
       "      <td>20000.000000</td>\n",
       "      <td>2016.000000</td>\n",
       "      <td>0.0</td>\n",
       "      <td>150000.000000</td>\n",
       "    </tr>\n",
       "  </tbody>\n",
       "</table>\n",
       "</div>"
      ],
      "text/plain": [
       "              Price  RegistrationYear    Power      Kilometer\n",
       "count  29340.000000      29340.000000  29340.0   29340.000000\n",
       "mean    2482.738684       2000.542706      0.0  128568.847989\n",
       "std     3216.232963          9.232561      0.0   41966.636831\n",
       "min      100.000000       1910.000000      0.0    5000.000000\n",
       "25%      599.000000       1997.000000      0.0  125000.000000\n",
       "50%     1250.000000       2000.000000      0.0  150000.000000\n",
       "75%     2980.000000       2005.000000      0.0  150000.000000\n",
       "max    20000.000000       2016.000000      0.0  150000.000000"
      ]
     },
     "execution_count": 25,
     "metadata": {},
     "output_type": "execute_result"
    }
   ],
   "source": [
    "data.query('Power < 1').describe()"
   ]
  },
  {
   "cell_type": "markdown",
   "metadata": {},
   "source": [
    "Таких случаев очень много - при этом остальные характеристики у них распределены примерно так же, как в целом по выборке. Вероятно, при заполнении анкеты пользователи не могли что-либо сказать о мощности автомобиля, либо имел место сбой в программе. Целесообразно заменить нули на медианную мощность.\n",
    "\n",
    "Посмотрим также на автомобили с низкой мощностью - много ли их."
   ]
  },
  {
   "cell_type": "code",
   "execution_count": 26,
   "metadata": {
    "scrolled": false
   },
   "outputs": [
    {
     "data": {
      "text/html": [
       "<div>\n",
       "<style scoped>\n",
       "    .dataframe tbody tr th:only-of-type {\n",
       "        vertical-align: middle;\n",
       "    }\n",
       "\n",
       "    .dataframe tbody tr th {\n",
       "        vertical-align: top;\n",
       "    }\n",
       "\n",
       "    .dataframe thead th {\n",
       "        text-align: right;\n",
       "    }\n",
       "</style>\n",
       "<table border=\"1\" class=\"dataframe\">\n",
       "  <thead>\n",
       "    <tr style=\"text-align: right;\">\n",
       "      <th></th>\n",
       "      <th>Price</th>\n",
       "      <th>RegistrationYear</th>\n",
       "      <th>Power</th>\n",
       "      <th>Kilometer</th>\n",
       "    </tr>\n",
       "  </thead>\n",
       "  <tbody>\n",
       "    <tr>\n",
       "      <th>count</th>\n",
       "      <td>763.000000</td>\n",
       "      <td>763.000000</td>\n",
       "      <td>763.000000</td>\n",
       "      <td>763.000000</td>\n",
       "    </tr>\n",
       "    <tr>\n",
       "      <th>mean</th>\n",
       "      <td>4161.686763</td>\n",
       "      <td>1987.684142</td>\n",
       "      <td>18.609436</td>\n",
       "      <td>59017.038008</td>\n",
       "    </tr>\n",
       "    <tr>\n",
       "      <th>std</th>\n",
       "      <td>3941.493277</td>\n",
       "      <td>17.147457</td>\n",
       "      <td>8.683530</td>\n",
       "      <td>44863.642613</td>\n",
       "    </tr>\n",
       "    <tr>\n",
       "      <th>min</th>\n",
       "      <td>100.000000</td>\n",
       "      <td>1923.000000</td>\n",
       "      <td>2.000000</td>\n",
       "      <td>5000.000000</td>\n",
       "    </tr>\n",
       "    <tr>\n",
       "      <th>25%</th>\n",
       "      <td>1300.000000</td>\n",
       "      <td>1977.000000</td>\n",
       "      <td>11.000000</td>\n",
       "      <td>20000.000000</td>\n",
       "    </tr>\n",
       "    <tr>\n",
       "      <th>50%</th>\n",
       "      <td>2890.000000</td>\n",
       "      <td>1988.000000</td>\n",
       "      <td>23.000000</td>\n",
       "      <td>50000.000000</td>\n",
       "    </tr>\n",
       "    <tr>\n",
       "      <th>75%</th>\n",
       "      <td>5799.500000</td>\n",
       "      <td>2001.000000</td>\n",
       "      <td>26.000000</td>\n",
       "      <td>80000.000000</td>\n",
       "    </tr>\n",
       "    <tr>\n",
       "      <th>max</th>\n",
       "      <td>20000.000000</td>\n",
       "      <td>2016.000000</td>\n",
       "      <td>29.000000</td>\n",
       "      <td>150000.000000</td>\n",
       "    </tr>\n",
       "  </tbody>\n",
       "</table>\n",
       "</div>"
      ],
      "text/plain": [
       "              Price  RegistrationYear       Power      Kilometer\n",
       "count    763.000000        763.000000  763.000000     763.000000\n",
       "mean    4161.686763       1987.684142   18.609436   59017.038008\n",
       "std     3941.493277         17.147457    8.683530   44863.642613\n",
       "min      100.000000       1923.000000    2.000000    5000.000000\n",
       "25%     1300.000000       1977.000000   11.000000   20000.000000\n",
       "50%     2890.000000       1988.000000   23.000000   50000.000000\n",
       "75%     5799.500000       2001.000000   26.000000   80000.000000\n",
       "max    20000.000000       2016.000000   29.000000  150000.000000"
      ]
     },
     "execution_count": 26,
     "metadata": {},
     "output_type": "execute_result"
    }
   ],
   "source": [
    "data.query('1 < Power < 30').describe()"
   ]
  },
  {
   "cell_type": "markdown",
   "metadata": {},
   "source": [
    "Таких наблюдений немного, значительная часть из них - машины, зарегистрированные давно. Тем не менее, целесообразно определить нижнюю границу мощности нашего датасета - скажем, 20 л.с., что выглядит правдоподобно.\n",
    "\n",
    "Проведём необходимые преобразования со столбцом `Power`."
   ]
  },
  {
   "cell_type": "code",
   "execution_count": 27,
   "metadata": {
    "scrolled": true
   },
   "outputs": [
    {
     "data": {
      "text/html": [
       "<div>\n",
       "<style scoped>\n",
       "    .dataframe tbody tr th:only-of-type {\n",
       "        vertical-align: middle;\n",
       "    }\n",
       "\n",
       "    .dataframe tbody tr th {\n",
       "        vertical-align: top;\n",
       "    }\n",
       "\n",
       "    .dataframe thead th {\n",
       "        text-align: right;\n",
       "    }\n",
       "</style>\n",
       "<table border=\"1\" class=\"dataframe\">\n",
       "  <thead>\n",
       "    <tr style=\"text-align: right;\">\n",
       "      <th></th>\n",
       "      <th>Price</th>\n",
       "      <th>RegistrationYear</th>\n",
       "      <th>Power</th>\n",
       "      <th>Kilometer</th>\n",
       "    </tr>\n",
       "  </thead>\n",
       "  <tbody>\n",
       "    <tr>\n",
       "      <th>count</th>\n",
       "      <td>271868.000000</td>\n",
       "      <td>271868.000000</td>\n",
       "      <td>271868.000000</td>\n",
       "      <td>271868.000000</td>\n",
       "    </tr>\n",
       "    <tr>\n",
       "      <th>mean</th>\n",
       "      <td>4852.886820</td>\n",
       "      <td>2002.798501</td>\n",
       "      <td>120.547560</td>\n",
       "      <td>128316.940574</td>\n",
       "    </tr>\n",
       "    <tr>\n",
       "      <th>std</th>\n",
       "      <td>4614.231461</td>\n",
       "      <td>6.566627</td>\n",
       "      <td>53.382895</td>\n",
       "      <td>36713.680154</td>\n",
       "    </tr>\n",
       "    <tr>\n",
       "      <th>min</th>\n",
       "      <td>100.000000</td>\n",
       "      <td>1910.000000</td>\n",
       "      <td>20.000000</td>\n",
       "      <td>5000.000000</td>\n",
       "    </tr>\n",
       "    <tr>\n",
       "      <th>25%</th>\n",
       "      <td>1340.000000</td>\n",
       "      <td>1999.000000</td>\n",
       "      <td>76.000000</td>\n",
       "      <td>125000.000000</td>\n",
       "    </tr>\n",
       "    <tr>\n",
       "      <th>50%</th>\n",
       "      <td>3200.000000</td>\n",
       "      <td>2003.000000</td>\n",
       "      <td>110.000000</td>\n",
       "      <td>150000.000000</td>\n",
       "    </tr>\n",
       "    <tr>\n",
       "      <th>75%</th>\n",
       "      <td>6990.000000</td>\n",
       "      <td>2007.000000</td>\n",
       "      <td>150.000000</td>\n",
       "      <td>150000.000000</td>\n",
       "    </tr>\n",
       "    <tr>\n",
       "      <th>max</th>\n",
       "      <td>20000.000000</td>\n",
       "      <td>2016.000000</td>\n",
       "      <td>500.000000</td>\n",
       "      <td>150000.000000</td>\n",
       "    </tr>\n",
       "  </tbody>\n",
       "</table>\n",
       "</div>"
      ],
      "text/plain": [
       "               Price  RegistrationYear          Power      Kilometer\n",
       "count  271868.000000     271868.000000  271868.000000  271868.000000\n",
       "mean     4852.886820       2002.798501     120.547560  128316.940574\n",
       "std      4614.231461          6.566627      53.382895   36713.680154\n",
       "min       100.000000       1910.000000      20.000000    5000.000000\n",
       "25%      1340.000000       1999.000000      76.000000  125000.000000\n",
       "50%      3200.000000       2003.000000     110.000000  150000.000000\n",
       "75%      6990.000000       2007.000000     150.000000  150000.000000\n",
       "max     20000.000000       2016.000000     500.000000  150000.000000"
      ]
     },
     "execution_count": 27,
     "metadata": {},
     "output_type": "execute_result"
    }
   ],
   "source": [
    "data = data.query('20 <= Power <= 500')\n",
    "\n",
    "# check\n",
    "data.describe()"
   ]
  },
  {
   "cell_type": "markdown",
   "metadata": {},
   "source": [
    "#### Пробег"
   ]
  },
  {
   "cell_type": "markdown",
   "metadata": {},
   "source": [
    "В столбце с пробегом присутствуют все значения - однако видим, что половина из них - пробег 150000 км. Посмотрим, как значения распределены."
   ]
  },
  {
   "cell_type": "code",
   "execution_count": 28,
   "metadata": {},
   "outputs": [
    {
     "data": {
      "text/plain": [
       "<AxesSubplot:xlabel='Kilometer', ylabel='Count'>"
      ]
     },
     "execution_count": 28,
     "metadata": {},
     "output_type": "execute_result"
    },
    {
     "data": {
      "image/png": "[encoded data removed]",
      "text/plain": [
       "<Figure size 432x288 with 1 Axes>"
      ]
     },
     "metadata": {
      "needs_background": "light"
     },
     "output_type": "display_data"
    }
   ],
   "source": [
    "sns.histplot(data['Kilometer'])"
   ]
  },
  {
   "cell_type": "markdown",
   "metadata": {},
   "source": [
    "По всей видимости, приложение не требует указывать пробег точно, а позволяет выбрать из \"круглых\" значений. В основном, в выборке представлены автомобили с большим пробегом - более 150 тыс. километров, таковых около 240 тысяч из 340 тысяч наблюдений. Оставим этот столбец в прежнем виде."
   ]
  },
  {
   "cell_type": "markdown",
   "metadata": {},
   "source": [
    "### Качественные признаки - обработка"
   ]
  },
  {
   "cell_type": "markdown",
   "metadata": {},
   "source": [
    "В датасете есть большой набор качественных признаков, с которыми не работают большинство моделей, предсказывающих количественный целевой признак. Кроме того, в столбцах с качественными данными есть многочисленные пропуски. Их необходимо обработать для того, чтобы подготовить данные к обучению моделей."
   ]
  },
  {
   "cell_type": "code",
   "execution_count": 29,
   "metadata": {
    "scrolled": true
   },
   "outputs": [
    {
     "name": "stdout",
     "output_type": "stream",
     "text": [
      "<class 'pandas.core.frame.DataFrame'>\n",
      "Int64Index: 271868 entries, 1 to 326825\n",
      "Data columns (total 10 columns):\n",
      " #   Column            Non-Null Count   Dtype \n",
      "---  ------            --------------   ----- \n",
      " 0   Price             271868 non-null  int64 \n",
      " 1   VehicleType       261397 non-null  object\n",
      " 2   RegistrationYear  271868 non-null  int64 \n",
      " 3   Gearbox           266797 non-null  object\n",
      " 4   Power             271868 non-null  int64 \n",
      " 5   Model             261394 non-null  object\n",
      " 6   Kilometer         271868 non-null  int64 \n",
      " 7   FuelType          256953 non-null  object\n",
      " 8   Brand             271868 non-null  object\n",
      " 9   Repaired          231654 non-null  object\n",
      "dtypes: int64(4), object(6)\n",
      "memory usage: 22.8+ MB\n"
     ]
    }
   ],
   "source": [
    "# выведем ещё раз информацию о данных в таблице\n",
    "data.info()"
   ]
  },
  {
   "cell_type": "markdown",
   "metadata": {},
   "source": [
    "#### Тип транспортного средства"
   ]
  },
  {
   "cell_type": "markdown",
   "metadata": {},
   "source": [
    "Выясним, какие типы транспортных средств представлены в таблице и сколько пропусков."
   ]
  },
  {
   "cell_type": "code",
   "execution_count": 30,
   "metadata": {
    "scrolled": false
   },
   "outputs": [
    {
     "name": "stdout",
     "output_type": "stream",
     "text": [
      "10471\n"
     ]
    },
    {
     "data": {
      "text/plain": [
       "sedan          75911\n",
       "small          63806\n",
       "wagon          54106\n",
       "bus            24329\n",
       "convertible    17342\n",
       "coupe          13589\n",
       "suv             9984\n",
       "other           2330\n",
       "Name: VehicleType, dtype: int64"
      ]
     },
     "execution_count": 30,
     "metadata": {},
     "output_type": "execute_result"
    }
   ],
   "source": [
    "print(data['VehicleType'].isna().sum())\n",
    "data['VehicleType'].value_counts()"
   ]
  },
  {
   "cell_type": "markdown",
   "metadata": {},
   "source": [
    "Пропущенных значений в столбце `VehicleType` много. Посмотрим, отличаются ли эти случаи от остальных по каким-либо признакам."
   ]
  },
  {
   "cell_type": "code",
   "execution_count": 31,
   "metadata": {
    "scrolled": true
   },
   "outputs": [
    {
     "name": "stdout",
     "output_type": "stream",
     "text": [
      "1200.0\n"
     ]
    },
    {
     "data": {
      "text/html": [
       "<div>\n",
       "<style scoped>\n",
       "    .dataframe tbody tr th:only-of-type {\n",
       "        vertical-align: middle;\n",
       "    }\n",
       "\n",
       "    .dataframe tbody tr th {\n",
       "        vertical-align: top;\n",
       "    }\n",
       "\n",
       "    .dataframe thead th {\n",
       "        text-align: right;\n",
       "    }\n",
       "</style>\n",
       "<table border=\"1\" class=\"dataframe\">\n",
       "  <thead>\n",
       "    <tr style=\"text-align: right;\">\n",
       "      <th></th>\n",
       "      <th>Price</th>\n",
       "      <th>RegistrationYear</th>\n",
       "      <th>Power</th>\n",
       "      <th>Kilometer</th>\n",
       "    </tr>\n",
       "  </thead>\n",
       "  <tbody>\n",
       "    <tr>\n",
       "      <th>count</th>\n",
       "      <td>10471.000000</td>\n",
       "      <td>10471.000000</td>\n",
       "      <td>10471.000000</td>\n",
       "      <td>10471.000000</td>\n",
       "    </tr>\n",
       "    <tr>\n",
       "      <th>mean</th>\n",
       "      <td>2567.271416</td>\n",
       "      <td>2009.207908</td>\n",
       "      <td>104.858084</td>\n",
       "      <td>133944.226912</td>\n",
       "    </tr>\n",
       "    <tr>\n",
       "      <th>std</th>\n",
       "      <td>3279.412836</td>\n",
       "      <td>9.164799</td>\n",
       "      <td>48.186050</td>\n",
       "      <td>35046.978199</td>\n",
       "    </tr>\n",
       "    <tr>\n",
       "      <th>min</th>\n",
       "      <td>100.000000</td>\n",
       "      <td>1910.000000</td>\n",
       "      <td>20.000000</td>\n",
       "      <td>5000.000000</td>\n",
       "    </tr>\n",
       "    <tr>\n",
       "      <th>25%</th>\n",
       "      <td>525.000000</td>\n",
       "      <td>2000.000000</td>\n",
       "      <td>75.000000</td>\n",
       "      <td>150000.000000</td>\n",
       "    </tr>\n",
       "    <tr>\n",
       "      <th>50%</th>\n",
       "      <td>1200.000000</td>\n",
       "      <td>2016.000000</td>\n",
       "      <td>100.000000</td>\n",
       "      <td>150000.000000</td>\n",
       "    </tr>\n",
       "    <tr>\n",
       "      <th>75%</th>\n",
       "      <td>3200.000000</td>\n",
       "      <td>2016.000000</td>\n",
       "      <td>125.000000</td>\n",
       "      <td>150000.000000</td>\n",
       "    </tr>\n",
       "    <tr>\n",
       "      <th>max</th>\n",
       "      <td>20000.000000</td>\n",
       "      <td>2016.000000</td>\n",
       "      <td>500.000000</td>\n",
       "      <td>150000.000000</td>\n",
       "    </tr>\n",
       "  </tbody>\n",
       "</table>\n",
       "</div>"
      ],
      "text/plain": [
       "              Price  RegistrationYear         Power      Kilometer\n",
       "count  10471.000000      10471.000000  10471.000000   10471.000000\n",
       "mean    2567.271416       2009.207908    104.858084  133944.226912\n",
       "std     3279.412836          9.164799     48.186050   35046.978199\n",
       "min      100.000000       1910.000000     20.000000    5000.000000\n",
       "25%      525.000000       2000.000000     75.000000  150000.000000\n",
       "50%     1200.000000       2016.000000    100.000000  150000.000000\n",
       "75%     3200.000000       2016.000000    125.000000  150000.000000\n",
       "max    20000.000000       2016.000000    500.000000  150000.000000"
      ]
     },
     "execution_count": 31,
     "metadata": {},
     "output_type": "execute_result"
    }
   ],
   "source": [
    "print(data[data['VehicleType'].isna()]['Price'].median())\n",
    "data[data['VehicleType'].isna()].describe()"
   ]
  },
  {
   "cell_type": "markdown",
   "metadata": {},
   "source": [
    "Видим, что автомобили, для которых не указан тип, дешевле, чем в среднем по всей выборке. Возможно, их целесообразно \"присоединить\" к какой-либо другой категории. Целесообразно в целом посмотреть, отличается ли медианная стоимость автомобилей разных категорий."
   ]
  },
  {
   "cell_type": "code",
   "execution_count": 32,
   "metadata": {
    "scrolled": false
   },
   "outputs": [
    {
     "data": {
      "text/plain": [
       "VehicleType\n",
       "suv            8700.0\n",
       "convertible    5700.0\n",
       "bus            4500.0\n",
       "coupe          4350.0\n",
       "wagon          3500.0\n",
       "sedan          3280.0\n",
       "other          2600.0\n",
       "small          1750.0\n",
       "Name: Price, dtype: float64"
      ]
     },
     "execution_count": 32,
     "metadata": {},
     "output_type": "execute_result"
    }
   ],
   "source": [
    "data.groupby('VehicleType')['Price'].median().sort_values(ascending=False)"
   ]
  },
  {
   "cell_type": "markdown",
   "metadata": {},
   "source": [
    "Итак, то, к какому типу относится авто, довольно существенно влияет на его стоимость. Следовательно, модели необходимо учитывать тип транспортного средства, чтобы делать качественные предсказания. Видим, что самые дорогие машины в нашей выборке - это SUV, самые дешёвые - маленькие автомобили. Пропуски целесообразно \"присоединить\" к категории \"small\" в силу соответствия их медианной стоимости."
   ]
  },
  {
   "cell_type": "code",
   "execution_count": 33,
   "metadata": {},
   "outputs": [
    {
     "data": {
      "text/html": [
       "<div>\n",
       "<style scoped>\n",
       "    .dataframe tbody tr th:only-of-type {\n",
       "        vertical-align: middle;\n",
       "    }\n",
       "\n",
       "    .dataframe tbody tr th {\n",
       "        vertical-align: top;\n",
       "    }\n",
       "\n",
       "    .dataframe thead th {\n",
       "        text-align: right;\n",
       "    }\n",
       "</style>\n",
       "<table border=\"1\" class=\"dataframe\">\n",
       "  <thead>\n",
       "    <tr style=\"text-align: right;\">\n",
       "      <th></th>\n",
       "      <th>Price</th>\n",
       "      <th>RegistrationYear</th>\n",
       "      <th>Power</th>\n",
       "      <th>Kilometer</th>\n",
       "    </tr>\n",
       "  </thead>\n",
       "  <tbody>\n",
       "    <tr>\n",
       "      <th>count</th>\n",
       "      <td>63806.000000</td>\n",
       "      <td>63806.000000</td>\n",
       "      <td>63806.000000</td>\n",
       "      <td>63806.000000</td>\n",
       "    </tr>\n",
       "    <tr>\n",
       "      <th>mean</th>\n",
       "      <td>2909.780162</td>\n",
       "      <td>2002.736232</td>\n",
       "      <td>73.328433</td>\n",
       "      <td>117974.876971</td>\n",
       "    </tr>\n",
       "    <tr>\n",
       "      <th>std</th>\n",
       "      <td>3071.218791</td>\n",
       "      <td>5.748193</td>\n",
       "      <td>25.124824</td>\n",
       "      <td>41639.919604</td>\n",
       "    </tr>\n",
       "    <tr>\n",
       "      <th>min</th>\n",
       "      <td>100.000000</td>\n",
       "      <td>1910.000000</td>\n",
       "      <td>20.000000</td>\n",
       "      <td>5000.000000</td>\n",
       "    </tr>\n",
       "    <tr>\n",
       "      <th>25%</th>\n",
       "      <td>850.000000</td>\n",
       "      <td>1999.000000</td>\n",
       "      <td>60.000000</td>\n",
       "      <td>90000.000000</td>\n",
       "    </tr>\n",
       "    <tr>\n",
       "      <th>50%</th>\n",
       "      <td>1750.000000</td>\n",
       "      <td>2002.000000</td>\n",
       "      <td>68.000000</td>\n",
       "      <td>150000.000000</td>\n",
       "    </tr>\n",
       "    <tr>\n",
       "      <th>75%</th>\n",
       "      <td>3946.750000</td>\n",
       "      <td>2007.000000</td>\n",
       "      <td>80.000000</td>\n",
       "      <td>150000.000000</td>\n",
       "    </tr>\n",
       "    <tr>\n",
       "      <th>max</th>\n",
       "      <td>20000.000000</td>\n",
       "      <td>2016.000000</td>\n",
       "      <td>500.000000</td>\n",
       "      <td>150000.000000</td>\n",
       "    </tr>\n",
       "  </tbody>\n",
       "</table>\n",
       "</div>"
      ],
      "text/plain": [
       "              Price  RegistrationYear         Power      Kilometer\n",
       "count  63806.000000      63806.000000  63806.000000   63806.000000\n",
       "mean    2909.780162       2002.736232     73.328433  117974.876971\n",
       "std     3071.218791          5.748193     25.124824   41639.919604\n",
       "min      100.000000       1910.000000     20.000000    5000.000000\n",
       "25%      850.000000       1999.000000     60.000000   90000.000000\n",
       "50%     1750.000000       2002.000000     68.000000  150000.000000\n",
       "75%     3946.750000       2007.000000     80.000000  150000.000000\n",
       "max    20000.000000       2016.000000    500.000000  150000.000000"
      ]
     },
     "execution_count": 33,
     "metadata": {},
     "output_type": "execute_result"
    }
   ],
   "source": [
    "# определим, в каких пределах изменяется стоимость автомобилей в категории small\n",
    "data.loc[data['VehicleType'] == 'small'].describe()"
   ]
  },
  {
   "cell_type": "code",
   "execution_count": 34,
   "metadata": {
    "scrolled": false
   },
   "outputs": [
    {
     "name": "stdout",
     "output_type": "stream",
     "text": [
      "0\n"
     ]
    }
   ],
   "source": [
    "data['VehicleType'] = data['VehicleType'].fillna('small')\n",
    "\n",
    "# check\n",
    "print(data['VehicleType'].isna().sum())\n"
   ]
  },
  {
   "cell_type": "markdown",
   "metadata": {},
   "source": [
    "На заключительном этапе подготовки данных целесообразно будет преобразовать категориальные значения этого столбца в числовые. "
   ]
  },
  {
   "cell_type": "markdown",
   "metadata": {},
   "source": [
    "#### Тип коробки передач"
   ]
  },
  {
   "cell_type": "markdown",
   "metadata": {},
   "source": [
    "В столбце, содержащем данные о коробке передач, есть пропуски. Изучим столбец подробнее, чтобы понять, как лучше их обработать."
   ]
  },
  {
   "cell_type": "code",
   "execution_count": 35,
   "metadata": {
    "scrolled": false
   },
   "outputs": [
    {
     "name": "stdout",
     "output_type": "stream",
     "text": [
      "5071\n"
     ]
    },
    {
     "data": {
      "text/plain": [
       "manual    213006\n",
       "auto       53791\n",
       "Name: Gearbox, dtype: int64"
      ]
     },
     "execution_count": 35,
     "metadata": {},
     "output_type": "execute_result"
    }
   ],
   "source": [
    "print(data['Gearbox'].isna().sum())\n",
    "data['Gearbox'].value_counts()"
   ]
  },
  {
   "cell_type": "markdown",
   "metadata": {},
   "source": [
    "Таким образом, в этом столбце есть данные трёх типов: либо NaN, либо механическая коробка передач, либо автоматическая. Для того, чтобы модель могла прогнозировать на основе этих данных, необходимо будет закодировать данные этого столбца. Пока же целесообразно заменить значения 'NaN' на 'unknown', чтобы в столбце не было пропусков."
   ]
  },
  {
   "cell_type": "code",
   "execution_count": 36,
   "metadata": {
    "scrolled": false
   },
   "outputs": [
    {
     "data": {
      "text/plain": [
       "manual     213006\n",
       "auto        53791\n",
       "unknown      5071\n",
       "Name: Gearbox, dtype: int64"
      ]
     },
     "execution_count": 36,
     "metadata": {},
     "output_type": "execute_result"
    }
   ],
   "source": [
    "data['Gearbox'] = data['Gearbox'].fillna('unknown')\n",
    "\n",
    "# check\n",
    "data['Gearbox'].value_counts()"
   ]
  },
  {
   "cell_type": "markdown",
   "metadata": {},
   "source": [
    "#### Модель и бренд"
   ]
  },
  {
   "cell_type": "markdown",
   "metadata": {},
   "source": [
    "Посмотрим, сколько брендов и моделей представлены в таблице и влияет ли бренд и модель на медианную цену подержанного автомобиля."
   ]
  },
  {
   "cell_type": "code",
   "execution_count": 37,
   "metadata": {
    "scrolled": true
   },
   "outputs": [
    {
     "name": "stdout",
     "output_type": "stream",
     "text": [
      "40\n"
     ]
    },
    {
     "data": {
      "text/plain": [
       "Brand\n",
       "porsche           12500.0\n",
       "mini               8500.0\n",
       "land_rover         8450.0\n",
       "sonstige_autos     6800.0\n",
       "jeep               6500.0\n",
       "jaguar             5500.0\n",
       "bmw                5490.0\n",
       "audi               5399.0\n",
       "dacia              5100.0\n",
       "skoda              5000.0\n",
       "mercedes_benz      4700.0\n",
       "chevrolet          4400.0\n",
       "hyundai            4300.0\n",
       "toyota             4200.0\n",
       "kia                3900.0\n",
       "suzuki             3290.0\n",
       "smart              3100.0\n",
       "volkswagen         3099.0\n",
       "lada               3000.0\n",
       "seat               2999.0\n",
       "volvo              2800.0\n",
       "saab               2725.0\n",
       "mazda              2700.0\n",
       "citroen            2700.0\n",
       "chrysler           2600.0\n",
       "honda              2599.0\n",
       "alfa_romeo         2500.0\n",
       "peugeot            2450.0\n",
       "nissan             2300.0\n",
       "ford               1950.0\n",
       "subaru             1900.0\n",
       "mitsubishi         1800.0\n",
       "fiat               1800.0\n",
       "opel               1799.0\n",
       "trabant            1600.0\n",
       "renault            1500.0\n",
       "lancia             1250.0\n",
       "daihatsu           1200.0\n",
       "daewoo             1000.0\n",
       "rover               999.0\n",
       "Name: Price, dtype: float64"
      ]
     },
     "execution_count": 37,
     "metadata": {},
     "output_type": "execute_result"
    }
   ],
   "source": [
    "print(data['Brand'].nunique())\n",
    "data.groupby('Brand')['Price'].median().sort_values(ascending=False)"
   ]
  },
  {
   "cell_type": "code",
   "execution_count": 38,
   "metadata": {
    "scrolled": true
   },
   "outputs": [
    {
     "data": {
      "text/plain": [
       "array(['100', '145', '147', '156', '159', '1_reihe', '1er', '200',\n",
       "       '2_reihe', '300c', '3_reihe', '3er', '4_reihe', '500', '5_reihe',\n",
       "       '5er', '601', '6_reihe', '6er', '7er', '80', '850', '90', '900',\n",
       "       '9000', '911', 'a1', 'a2', 'a3', 'a4', 'a5', 'a6', 'a8',\n",
       "       'a_klasse', 'accord', 'agila', 'alhambra', 'almera', 'altea',\n",
       "       'amarok', 'antara', 'arosa', 'astra', 'auris', 'avensis', 'aveo',\n",
       "       'aygo', 'b_klasse', 'b_max', 'beetle', 'berlingo', 'bora',\n",
       "       'boxster', 'bravo', 'c1', 'c2', 'c3', 'c4', 'c5', 'c_klasse',\n",
       "       'c_max', 'c_reihe', 'caddy', 'calibra', 'captiva', 'carisma',\n",
       "       'carnival', 'cayenne', 'cc', 'ceed', 'charade', 'cherokee',\n",
       "       'citigo', 'civic', 'cl', 'clio', 'clk', 'clubman', 'colt', 'combo',\n",
       "       'cooper', 'cordoba', 'corolla', 'corsa', 'cr_reihe', 'croma',\n",
       "       'crossfire', 'cuore', 'cx_reihe', 'defender', 'delta', 'discovery',\n",
       "       'doblo', 'ducato', 'duster', 'e_klasse', 'elefantino', 'eos',\n",
       "       'escort', 'espace', 'exeo', 'fabia', 'fiesta', 'focus', 'forester',\n",
       "       'forfour', 'fortwo', 'fox', 'freelander', 'fusion', 'g_klasse',\n",
       "       'galant', 'galaxy', 'getz', 'gl', 'glk', 'golf', 'grand', 'i3',\n",
       "       'i_reihe', 'ibiza', 'impreza', 'insignia', 'jazz', 'jetta',\n",
       "       'jimny', 'juke', 'justy', 'ka', 'kadett', 'kaefer', 'kalina',\n",
       "       'kalos', 'kangoo', 'kappa', 'kuga', 'laguna', 'lancer', 'lanos',\n",
       "       'legacy', 'leon', 'lodgy', 'logan', 'lupo', 'lybra', 'm_klasse',\n",
       "       'm_reihe', 'materia', 'matiz', 'megane', 'meriva', 'micra', 'mii',\n",
       "       'modus', 'mondeo', 'move', 'musa', 'mustang', 'mx_reihe', 'navara',\n",
       "       'niva', 'note', 'nubira', 'octavia', 'omega', 'one', 'other',\n",
       "       'outlander', 'pajero', 'panda', 'passat', 'phaeton', 'picanto',\n",
       "       'polo', 'primera', 'ptcruiser', 'punto', 'q3', 'q5', 'q7',\n",
       "       'qashqai', 'r19', 'range_rover', 'range_rover_evoque',\n",
       "       'range_rover_sport', 'rangerover', 'rav', 'rio', 'roadster',\n",
       "       'roomster', 'rx_reihe', 's60', 's_klasse', 's_max', 's_type',\n",
       "       'samara', 'sandero', 'santa', 'scenic', 'scirocco', 'seicento',\n",
       "       'serie_2', 'serie_3', 'sharan', 'signum', 'sirion', 'sl', 'slk',\n",
       "       'sorento', 'spark', 'spider', 'sportage', 'sprinter', 'stilo',\n",
       "       'superb', 'swift', 'terios', 'tigra', 'tiguan', 'toledo',\n",
       "       'touareg', 'touran', 'transit', 'transporter', 'tt', 'tucson',\n",
       "       'twingo', 'up', 'v40', 'v50', 'v60', 'v70', 'v_klasse', 'vectra',\n",
       "       'verso', 'viano', 'vito', 'vivaro', 'voyager', 'wrangler',\n",
       "       'x_reihe', 'x_trail', 'x_type', 'xc_reihe', 'yaris', 'yeti',\n",
       "       'ypsilon', 'z_reihe', 'zafira', nan], dtype=object)"
      ]
     },
     "execution_count": 38,
     "metadata": {},
     "output_type": "execute_result"
    }
   ],
   "source": [
    "# посмотрим, не ли неочевидных совпадений\n",
    "data['Model'].sort_values().unique()"
   ]
  },
  {
   "cell_type": "code",
   "execution_count": 39,
   "metadata": {
    "scrolled": true
   },
   "outputs": [
    {
     "data": {
      "text/plain": [
       "Model\n",
       "gl         18999.0\n",
       "amarok     18555.0\n",
       "q3         18499.0\n",
       "q5         17990.0\n",
       "glk        17949.5\n",
       "            ...   \n",
       "move         707.5\n",
       "charade      700.0\n",
       "samara       600.0\n",
       "escort       600.0\n",
       "lanos        600.0\n",
       "Name: Price, Length: 249, dtype: float64"
      ]
     },
     "execution_count": 39,
     "metadata": {},
     "output_type": "execute_result"
    }
   ],
   "source": [
    "# также посмотрим, влияет ли модель автомобиля на цену\n",
    "data.groupby('Model')['Price'].median().sort_values(ascending=False)"
   ]
  },
  {
   "cell_type": "markdown",
   "metadata": {},
   "source": [
    "Таким образом, в таблице представлены 40 брендов и 250 моделей машин, . К этим столбцам также нужно будет применить технику Ordinal Encoding, однако в столбце `Model` есть пропущенные значения. Посмотрим, к каким машинам они относятся."
   ]
  },
  {
   "cell_type": "code",
   "execution_count": 40,
   "metadata": {
    "scrolled": true
   },
   "outputs": [
    {
     "data": {
      "text/html": [
       "<div>\n",
       "<style scoped>\n",
       "    .dataframe tbody tr th:only-of-type {\n",
       "        vertical-align: middle;\n",
       "    }\n",
       "\n",
       "    .dataframe tbody tr th {\n",
       "        vertical-align: top;\n",
       "    }\n",
       "\n",
       "    .dataframe thead th {\n",
       "        text-align: right;\n",
       "    }\n",
       "</style>\n",
       "<table border=\"1\" class=\"dataframe\">\n",
       "  <thead>\n",
       "    <tr style=\"text-align: right;\">\n",
       "      <th></th>\n",
       "      <th>Price</th>\n",
       "      <th>RegistrationYear</th>\n",
       "      <th>Power</th>\n",
       "      <th>Kilometer</th>\n",
       "    </tr>\n",
       "  </thead>\n",
       "  <tbody>\n",
       "    <tr>\n",
       "      <th>count</th>\n",
       "      <td>10474.000000</td>\n",
       "      <td>10474.000000</td>\n",
       "      <td>10474.000000</td>\n",
       "      <td>10474.000000</td>\n",
       "    </tr>\n",
       "    <tr>\n",
       "      <th>mean</th>\n",
       "      <td>3753.637006</td>\n",
       "      <td>2000.178442</td>\n",
       "      <td>120.398129</td>\n",
       "      <td>129469.161734</td>\n",
       "    </tr>\n",
       "    <tr>\n",
       "      <th>std</th>\n",
       "      <td>4287.344386</td>\n",
       "      <td>9.543037</td>\n",
       "      <td>61.550787</td>\n",
       "      <td>39098.133518</td>\n",
       "    </tr>\n",
       "    <tr>\n",
       "      <th>min</th>\n",
       "      <td>100.000000</td>\n",
       "      <td>1910.000000</td>\n",
       "      <td>20.000000</td>\n",
       "      <td>5000.000000</td>\n",
       "    </tr>\n",
       "    <tr>\n",
       "      <th>25%</th>\n",
       "      <td>850.000000</td>\n",
       "      <td>1997.000000</td>\n",
       "      <td>75.000000</td>\n",
       "      <td>125000.000000</td>\n",
       "    </tr>\n",
       "    <tr>\n",
       "      <th>50%</th>\n",
       "      <td>1990.000000</td>\n",
       "      <td>2000.000000</td>\n",
       "      <td>109.000000</td>\n",
       "      <td>150000.000000</td>\n",
       "    </tr>\n",
       "    <tr>\n",
       "      <th>75%</th>\n",
       "      <td>4999.750000</td>\n",
       "      <td>2005.000000</td>\n",
       "      <td>150.000000</td>\n",
       "      <td>150000.000000</td>\n",
       "    </tr>\n",
       "    <tr>\n",
       "      <th>max</th>\n",
       "      <td>20000.000000</td>\n",
       "      <td>2016.000000</td>\n",
       "      <td>500.000000</td>\n",
       "      <td>150000.000000</td>\n",
       "    </tr>\n",
       "  </tbody>\n",
       "</table>\n",
       "</div>"
      ],
      "text/plain": [
       "              Price  RegistrationYear         Power      Kilometer\n",
       "count  10474.000000      10474.000000  10474.000000   10474.000000\n",
       "mean    3753.637006       2000.178442    120.398129  129469.161734\n",
       "std     4287.344386          9.543037     61.550787   39098.133518\n",
       "min      100.000000       1910.000000     20.000000    5000.000000\n",
       "25%      850.000000       1997.000000     75.000000  125000.000000\n",
       "50%     1990.000000       2000.000000    109.000000  150000.000000\n",
       "75%     4999.750000       2005.000000    150.000000  150000.000000\n",
       "max    20000.000000       2016.000000    500.000000  150000.000000"
      ]
     },
     "execution_count": 40,
     "metadata": {},
     "output_type": "execute_result"
    }
   ],
   "source": [
    "data[data['Model'].isna()].describe()"
   ]
  },
  {
   "cell_type": "markdown",
   "metadata": {},
   "source": [
    "Видим, что среднее чуть ниже среднего по выборке, есть и ряд других отличий. Имеет смысл выделить \"неизвестные\" модели в отдельную категорию."
   ]
  },
  {
   "cell_type": "code",
   "execution_count": 41,
   "metadata": {},
   "outputs": [
    {
     "data": {
      "text/plain": [
       "10474"
      ]
     },
     "execution_count": 41,
     "metadata": {},
     "output_type": "execute_result"
    }
   ],
   "source": [
    "# назовём это категорию \"unknown\"\n",
    "data['Model'] = data['Model'].fillna('unknown')\n",
    "\n",
    "#check\n",
    "data.loc[data['Model'] == 'unknown']['Model'].count()"
   ]
  },
  {
   "cell_type": "markdown",
   "metadata": {},
   "source": [
    "#### Тип топлива"
   ]
  },
  {
   "cell_type": "markdown",
   "metadata": {},
   "source": [
    "Посмотрим, какие типы топлива есть среди представленных в таблице и отличается ли медианная цена автомобилей на разных видах топлива."
   ]
  },
  {
   "cell_type": "code",
   "execution_count": 42,
   "metadata": {
    "scrolled": false
   },
   "outputs": [
    {
     "data": {
      "text/plain": [
       "FuelType\n",
       "hybrid      10900.0\n",
       "electric    10000.0\n",
       "gasoline     5650.0\n",
       "cng          3850.0\n",
       "lpg          3000.0\n",
       "petrol       2450.0\n",
       "other        1550.0\n",
       "Name: Price, dtype: float64"
      ]
     },
     "execution_count": 42,
     "metadata": {},
     "output_type": "execute_result"
    }
   ],
   "source": [
    "data.groupby('FuelType')['Price'].median().sort_values(ascending=False)"
   ]
  },
  {
   "cell_type": "markdown",
   "metadata": {},
   "source": [
    "Заметно, что медианная стоимость машин на разных типах топлива отличается - таким образом, данные в этом столбце также важны для качественной работы модели. При этом в столбце есть пропуски - посмотрим, чему равна медианная цена автомобилей в этой группе."
   ]
  },
  {
   "cell_type": "code",
   "execution_count": 43,
   "metadata": {
    "scrolled": false
   },
   "outputs": [
    {
     "name": "stdout",
     "output_type": "stream",
     "text": [
      "1450.0\n"
     ]
    },
    {
     "data": {
      "text/html": [
       "<div>\n",
       "<style scoped>\n",
       "    .dataframe tbody tr th:only-of-type {\n",
       "        vertical-align: middle;\n",
       "    }\n",
       "\n",
       "    .dataframe tbody tr th {\n",
       "        vertical-align: top;\n",
       "    }\n",
       "\n",
       "    .dataframe thead th {\n",
       "        text-align: right;\n",
       "    }\n",
       "</style>\n",
       "<table border=\"1\" class=\"dataframe\">\n",
       "  <thead>\n",
       "    <tr style=\"text-align: right;\">\n",
       "      <th></th>\n",
       "      <th>Price</th>\n",
       "      <th>RegistrationYear</th>\n",
       "      <th>Power</th>\n",
       "      <th>Kilometer</th>\n",
       "    </tr>\n",
       "  </thead>\n",
       "  <tbody>\n",
       "    <tr>\n",
       "      <th>count</th>\n",
       "      <td>14915.000000</td>\n",
       "      <td>14915.000000</td>\n",
       "      <td>14915.000000</td>\n",
       "      <td>14915.000000</td>\n",
       "    </tr>\n",
       "    <tr>\n",
       "      <th>mean</th>\n",
       "      <td>2793.761515</td>\n",
       "      <td>2002.610124</td>\n",
       "      <td>110.218907</td>\n",
       "      <td>134099.899430</td>\n",
       "    </tr>\n",
       "    <tr>\n",
       "      <th>std</th>\n",
       "      <td>3399.386373</td>\n",
       "      <td>8.228140</td>\n",
       "      <td>51.528893</td>\n",
       "      <td>34722.207568</td>\n",
       "    </tr>\n",
       "    <tr>\n",
       "      <th>min</th>\n",
       "      <td>100.000000</td>\n",
       "      <td>1910.000000</td>\n",
       "      <td>20.000000</td>\n",
       "      <td>5000.000000</td>\n",
       "    </tr>\n",
       "    <tr>\n",
       "      <th>25%</th>\n",
       "      <td>650.000000</td>\n",
       "      <td>1998.000000</td>\n",
       "      <td>75.000000</td>\n",
       "      <td>150000.000000</td>\n",
       "    </tr>\n",
       "    <tr>\n",
       "      <th>50%</th>\n",
       "      <td>1450.000000</td>\n",
       "      <td>2001.000000</td>\n",
       "      <td>101.000000</td>\n",
       "      <td>150000.000000</td>\n",
       "    </tr>\n",
       "    <tr>\n",
       "      <th>75%</th>\n",
       "      <td>3500.000000</td>\n",
       "      <td>2007.000000</td>\n",
       "      <td>140.000000</td>\n",
       "      <td>150000.000000</td>\n",
       "    </tr>\n",
       "    <tr>\n",
       "      <th>max</th>\n",
       "      <td>20000.000000</td>\n",
       "      <td>2016.000000</td>\n",
       "      <td>500.000000</td>\n",
       "      <td>150000.000000</td>\n",
       "    </tr>\n",
       "  </tbody>\n",
       "</table>\n",
       "</div>"
      ],
      "text/plain": [
       "              Price  RegistrationYear         Power      Kilometer\n",
       "count  14915.000000      14915.000000  14915.000000   14915.000000\n",
       "mean    2793.761515       2002.610124    110.218907  134099.899430\n",
       "std     3399.386373          8.228140     51.528893   34722.207568\n",
       "min      100.000000       1910.000000     20.000000    5000.000000\n",
       "25%      650.000000       1998.000000     75.000000  150000.000000\n",
       "50%     1450.000000       2001.000000    101.000000  150000.000000\n",
       "75%     3500.000000       2007.000000    140.000000  150000.000000\n",
       "max    20000.000000       2016.000000    500.000000  150000.000000"
      ]
     },
     "execution_count": 43,
     "metadata": {},
     "output_type": "execute_result"
    }
   ],
   "source": [
    "print(data[data['FuelType'].isna()]['Price'].median())\n",
    "data[data['FuelType'].isna()].describe()"
   ]
  },
  {
   "cell_type": "markdown",
   "metadata": {},
   "source": [
    "Машины с неопределённым типом топлива (а их в выборке много) оказались в среднем дешевле, чем машины из других типов. Посмотрим, насколько сходно распределение цены и других признаков у этих авто и у группы 'other'."
   ]
  },
  {
   "cell_type": "code",
   "execution_count": 44,
   "metadata": {
    "scrolled": true
   },
   "outputs": [
    {
     "data": {
      "text/html": [
       "<div>\n",
       "<style scoped>\n",
       "    .dataframe tbody tr th:only-of-type {\n",
       "        vertical-align: middle;\n",
       "    }\n",
       "\n",
       "    .dataframe tbody tr th {\n",
       "        vertical-align: top;\n",
       "    }\n",
       "\n",
       "    .dataframe thead th {\n",
       "        text-align: right;\n",
       "    }\n",
       "</style>\n",
       "<table border=\"1\" class=\"dataframe\">\n",
       "  <thead>\n",
       "    <tr style=\"text-align: right;\">\n",
       "      <th></th>\n",
       "      <th>Price</th>\n",
       "      <th>RegistrationYear</th>\n",
       "      <th>Power</th>\n",
       "      <th>Kilometer</th>\n",
       "    </tr>\n",
       "  </thead>\n",
       "  <tbody>\n",
       "    <tr>\n",
       "      <th>count</th>\n",
       "      <td>78.000000</td>\n",
       "      <td>78.000000</td>\n",
       "      <td>78.000000</td>\n",
       "      <td>78.000000</td>\n",
       "    </tr>\n",
       "    <tr>\n",
       "      <th>mean</th>\n",
       "      <td>2995.756410</td>\n",
       "      <td>1993.512821</td>\n",
       "      <td>91.230769</td>\n",
       "      <td>104935.897436</td>\n",
       "    </tr>\n",
       "    <tr>\n",
       "      <th>std</th>\n",
       "      <td>3560.107992</td>\n",
       "      <td>11.627044</td>\n",
       "      <td>70.755647</td>\n",
       "      <td>49349.624597</td>\n",
       "    </tr>\n",
       "    <tr>\n",
       "      <th>min</th>\n",
       "      <td>199.000000</td>\n",
       "      <td>1962.000000</td>\n",
       "      <td>20.000000</td>\n",
       "      <td>5000.000000</td>\n",
       "    </tr>\n",
       "    <tr>\n",
       "      <th>25%</th>\n",
       "      <td>962.250000</td>\n",
       "      <td>1989.000000</td>\n",
       "      <td>26.000000</td>\n",
       "      <td>60000.000000</td>\n",
       "    </tr>\n",
       "    <tr>\n",
       "      <th>50%</th>\n",
       "      <td>1550.000000</td>\n",
       "      <td>1996.000000</td>\n",
       "      <td>86.500000</td>\n",
       "      <td>125000.000000</td>\n",
       "    </tr>\n",
       "    <tr>\n",
       "      <th>75%</th>\n",
       "      <td>3887.500000</td>\n",
       "      <td>2001.000000</td>\n",
       "      <td>123.750000</td>\n",
       "      <td>150000.000000</td>\n",
       "    </tr>\n",
       "    <tr>\n",
       "      <th>max</th>\n",
       "      <td>17500.000000</td>\n",
       "      <td>2014.000000</td>\n",
       "      <td>400.000000</td>\n",
       "      <td>150000.000000</td>\n",
       "    </tr>\n",
       "  </tbody>\n",
       "</table>\n",
       "</div>"
      ],
      "text/plain": [
       "              Price  RegistrationYear       Power      Kilometer\n",
       "count     78.000000         78.000000   78.000000      78.000000\n",
       "mean    2995.756410       1993.512821   91.230769  104935.897436\n",
       "std     3560.107992         11.627044   70.755647   49349.624597\n",
       "min      199.000000       1962.000000   20.000000    5000.000000\n",
       "25%      962.250000       1989.000000   26.000000   60000.000000\n",
       "50%     1550.000000       1996.000000   86.500000  125000.000000\n",
       "75%     3887.500000       2001.000000  123.750000  150000.000000\n",
       "max    17500.000000       2014.000000  400.000000  150000.000000"
      ]
     },
     "execution_count": 44,
     "metadata": {},
     "output_type": "execute_result"
    }
   ],
   "source": [
    "data[data['FuelType'] == 'other'].describe()"
   ]
  },
  {
   "cell_type": "markdown",
   "metadata": {},
   "source": [
    "Всё же представляется, что есть существенные различия, а значит, логично выделить такие автомобили в отдельную категорию."
   ]
  },
  {
   "cell_type": "code",
   "execution_count": 45,
   "metadata": {},
   "outputs": [
    {
     "data": {
      "text/plain": [
       "14915"
      ]
     },
     "execution_count": 45,
     "metadata": {},
     "output_type": "execute_result"
    }
   ],
   "source": [
    "# назовём её также unknown\n",
    "data['FuelType'] = data['FuelType'].fillna('unknown')\n",
    "\n",
    "# check\n",
    "data.loc[data['FuelType'] == 'unknown']['FuelType'].count()"
   ]
  },
  {
   "cell_type": "markdown",
   "metadata": {},
   "source": [
    "Данные этого столбца также позже переведём в числовой формат."
   ]
  },
  {
   "cell_type": "markdown",
   "metadata": {},
   "source": [
    "#### Ремонт"
   ]
  },
  {
   "cell_type": "markdown",
   "metadata": {},
   "source": [
    "Целесообразно посмотреть, какие данные содержатся в столбце `Repaired` (была ли машина в ремонте)."
   ]
  },
  {
   "cell_type": "code",
   "execution_count": 46,
   "metadata": {},
   "outputs": [
    {
     "name": "stdout",
     "output_type": "stream",
     "text": [
      "no     204501\n",
      "yes     27153\n",
      "Name: Repaired, dtype: int64\n"
     ]
    },
    {
     "data": {
      "text/plain": [
       "Repaired\n",
       "no     3950.0\n",
       "yes    1050.0\n",
       "Name: Price, dtype: float64"
      ]
     },
     "execution_count": 46,
     "metadata": {},
     "output_type": "execute_result"
    }
   ],
   "source": [
    "# сколько машин из выборки были в ремонте\n",
    "print(data['Repaired'].value_counts())\n",
    "\n",
    "# насколько отличается медианная стоимость машины, в зависимости от её \"ремонтного\" статуса\n",
    "data.groupby('Repaired')['Price'].median()"
   ]
  },
  {
   "cell_type": "markdown",
   "metadata": {},
   "source": [
    "Видим, что в ремонте побывало около 10% машин выборки, при этом медианная стоимость отремонтированных авто гораздо ниже, чем другой категории и чем выборки в целом. Скорее всего, этот признак будет сильно влиять на предсказания модели. При этом в столбце большое количество пропусков: изучим их."
   ]
  },
  {
   "cell_type": "code",
   "execution_count": 47,
   "metadata": {
    "scrolled": true
   },
   "outputs": [
    {
     "name": "stdout",
     "output_type": "stream",
     "text": [
      "1750.0\n"
     ]
    },
    {
     "data": {
      "text/html": [
       "<div>\n",
       "<style scoped>\n",
       "    .dataframe tbody tr th:only-of-type {\n",
       "        vertical-align: middle;\n",
       "    }\n",
       "\n",
       "    .dataframe tbody tr th {\n",
       "        vertical-align: top;\n",
       "    }\n",
       "\n",
       "    .dataframe thead th {\n",
       "        text-align: right;\n",
       "    }\n",
       "</style>\n",
       "<table border=\"1\" class=\"dataframe\">\n",
       "  <thead>\n",
       "    <tr style=\"text-align: right;\">\n",
       "      <th></th>\n",
       "      <th>Price</th>\n",
       "      <th>RegistrationYear</th>\n",
       "      <th>Power</th>\n",
       "      <th>Kilometer</th>\n",
       "    </tr>\n",
       "  </thead>\n",
       "  <tbody>\n",
       "    <tr>\n",
       "      <th>count</th>\n",
       "      <td>40214.000000</td>\n",
       "      <td>40214.000000</td>\n",
       "      <td>40214.000000</td>\n",
       "      <td>40214.000000</td>\n",
       "    </tr>\n",
       "    <tr>\n",
       "      <th>mean</th>\n",
       "      <td>3166.559134</td>\n",
       "      <td>2001.299896</td>\n",
       "      <td>111.713184</td>\n",
       "      <td>134270.030338</td>\n",
       "    </tr>\n",
       "    <tr>\n",
       "      <th>std</th>\n",
       "      <td>3610.293687</td>\n",
       "      <td>7.255423</td>\n",
       "      <td>51.503091</td>\n",
       "      <td>34008.837353</td>\n",
       "    </tr>\n",
       "    <tr>\n",
       "      <th>min</th>\n",
       "      <td>100.000000</td>\n",
       "      <td>1910.000000</td>\n",
       "      <td>20.000000</td>\n",
       "      <td>5000.000000</td>\n",
       "    </tr>\n",
       "    <tr>\n",
       "      <th>25%</th>\n",
       "      <td>799.000000</td>\n",
       "      <td>1997.000000</td>\n",
       "      <td>75.000000</td>\n",
       "      <td>150000.000000</td>\n",
       "    </tr>\n",
       "    <tr>\n",
       "      <th>50%</th>\n",
       "      <td>1750.000000</td>\n",
       "      <td>2001.000000</td>\n",
       "      <td>102.000000</td>\n",
       "      <td>150000.000000</td>\n",
       "    </tr>\n",
       "    <tr>\n",
       "      <th>75%</th>\n",
       "      <td>4000.000000</td>\n",
       "      <td>2005.000000</td>\n",
       "      <td>140.000000</td>\n",
       "      <td>150000.000000</td>\n",
       "    </tr>\n",
       "    <tr>\n",
       "      <th>max</th>\n",
       "      <td>20000.000000</td>\n",
       "      <td>2016.000000</td>\n",
       "      <td>500.000000</td>\n",
       "      <td>150000.000000</td>\n",
       "    </tr>\n",
       "  </tbody>\n",
       "</table>\n",
       "</div>"
      ],
      "text/plain": [
       "              Price  RegistrationYear         Power      Kilometer\n",
       "count  40214.000000      40214.000000  40214.000000   40214.000000\n",
       "mean    3166.559134       2001.299896    111.713184  134270.030338\n",
       "std     3610.293687          7.255423     51.503091   34008.837353\n",
       "min      100.000000       1910.000000     20.000000    5000.000000\n",
       "25%      799.000000       1997.000000     75.000000  150000.000000\n",
       "50%     1750.000000       2001.000000    102.000000  150000.000000\n",
       "75%     4000.000000       2005.000000    140.000000  150000.000000\n",
       "max    20000.000000       2016.000000    500.000000  150000.000000"
      ]
     },
     "execution_count": 47,
     "metadata": {},
     "output_type": "execute_result"
    }
   ],
   "source": [
    "print(data.loc[data['Repaired'].isna()]['Price'].median())\n",
    "data.loc[data['Repaired'].isna()].describe()"
   ]
  },
  {
   "cell_type": "markdown",
   "metadata": {},
   "source": [
    "Медианная цена машин с неопределённым \"ремонтным\" статусом сильно отличается от обеих других категорий, а остальные параметры близки к средним по выборке. Кроме того, таких случаев очень много. Заменим 'NaN' на 'unknown' и в этом случае, а кодирование значений проведём перед обучением моделей."
   ]
  },
  {
   "cell_type": "code",
   "execution_count": 48,
   "metadata": {
    "scrolled": true
   },
   "outputs": [
    {
     "data": {
      "text/plain": [
       "no         204501\n",
       "unknown     40214\n",
       "yes         27153\n",
       "Name: Repaired, dtype: int64"
      ]
     },
     "execution_count": 48,
     "metadata": {},
     "output_type": "execute_result"
    }
   ],
   "source": [
    "data['Repaired'] = data['Repaired'].fillna('unknown')\n",
    "\n",
    "# check\n",
    "data['Repaired'].value_counts()"
   ]
  },
  {
   "cell_type": "code",
   "execution_count": 49,
   "metadata": {
    "scrolled": true
   },
   "outputs": [
    {
     "data": {
      "text/html": [
       "<div>\n",
       "<style scoped>\n",
       "    .dataframe tbody tr th:only-of-type {\n",
       "        vertical-align: middle;\n",
       "    }\n",
       "\n",
       "    .dataframe tbody tr th {\n",
       "        vertical-align: top;\n",
       "    }\n",
       "\n",
       "    .dataframe thead th {\n",
       "        text-align: right;\n",
       "    }\n",
       "</style>\n",
       "<table border=\"1\" class=\"dataframe\">\n",
       "  <thead>\n",
       "    <tr style=\"text-align: right;\">\n",
       "      <th></th>\n",
       "      <th>Price</th>\n",
       "      <th>VehicleType</th>\n",
       "      <th>RegistrationYear</th>\n",
       "      <th>Gearbox</th>\n",
       "      <th>Power</th>\n",
       "      <th>Model</th>\n",
       "      <th>Kilometer</th>\n",
       "      <th>FuelType</th>\n",
       "      <th>Brand</th>\n",
       "      <th>Repaired</th>\n",
       "    </tr>\n",
       "  </thead>\n",
       "  <tbody>\n",
       "    <tr>\n",
       "      <th>1</th>\n",
       "      <td>18300</td>\n",
       "      <td>coupe</td>\n",
       "      <td>2011</td>\n",
       "      <td>manual</td>\n",
       "      <td>190</td>\n",
       "      <td>unknown</td>\n",
       "      <td>125000</td>\n",
       "      <td>gasoline</td>\n",
       "      <td>audi</td>\n",
       "      <td>yes</td>\n",
       "    </tr>\n",
       "    <tr>\n",
       "      <th>2</th>\n",
       "      <td>9800</td>\n",
       "      <td>suv</td>\n",
       "      <td>2004</td>\n",
       "      <td>auto</td>\n",
       "      <td>163</td>\n",
       "      <td>grand</td>\n",
       "      <td>125000</td>\n",
       "      <td>gasoline</td>\n",
       "      <td>jeep</td>\n",
       "      <td>unknown</td>\n",
       "    </tr>\n",
       "    <tr>\n",
       "      <th>3</th>\n",
       "      <td>1500</td>\n",
       "      <td>small</td>\n",
       "      <td>2001</td>\n",
       "      <td>manual</td>\n",
       "      <td>75</td>\n",
       "      <td>golf</td>\n",
       "      <td>150000</td>\n",
       "      <td>petrol</td>\n",
       "      <td>volkswagen</td>\n",
       "      <td>no</td>\n",
       "    </tr>\n",
       "    <tr>\n",
       "      <th>4</th>\n",
       "      <td>3600</td>\n",
       "      <td>small</td>\n",
       "      <td>2008</td>\n",
       "      <td>manual</td>\n",
       "      <td>69</td>\n",
       "      <td>fabia</td>\n",
       "      <td>90000</td>\n",
       "      <td>gasoline</td>\n",
       "      <td>skoda</td>\n",
       "      <td>no</td>\n",
       "    </tr>\n",
       "    <tr>\n",
       "      <th>5</th>\n",
       "      <td>650</td>\n",
       "      <td>sedan</td>\n",
       "      <td>1995</td>\n",
       "      <td>manual</td>\n",
       "      <td>102</td>\n",
       "      <td>3er</td>\n",
       "      <td>150000</td>\n",
       "      <td>petrol</td>\n",
       "      <td>bmw</td>\n",
       "      <td>yes</td>\n",
       "    </tr>\n",
       "  </tbody>\n",
       "</table>\n",
       "</div>"
      ],
      "text/plain": [
       "   Price VehicleType  RegistrationYear Gearbox  Power    Model  Kilometer  \\\n",
       "1  18300       coupe              2011  manual    190  unknown     125000   \n",
       "2   9800         suv              2004    auto    163    grand     125000   \n",
       "3   1500       small              2001  manual     75     golf     150000   \n",
       "4   3600       small              2008  manual     69    fabia      90000   \n",
       "5    650       sedan              1995  manual    102      3er     150000   \n",
       "\n",
       "   FuelType       Brand Repaired  \n",
       "1  gasoline        audi      yes  \n",
       "2  gasoline        jeep  unknown  \n",
       "3    petrol  volkswagen       no  \n",
       "4  gasoline       skoda       no  \n",
       "5    petrol         bmw      yes  "
      ]
     },
     "execution_count": 49,
     "metadata": {},
     "output_type": "execute_result"
    }
   ],
   "source": [
    "data.head()"
   ]
  },
  {
   "cell_type": "code",
   "execution_count": 50,
   "metadata": {
    "scrolled": true
   },
   "outputs": [
    {
     "name": "stdout",
     "output_type": "stream",
     "text": [
      "<class 'pandas.core.frame.DataFrame'>\n",
      "Int64Index: 271868 entries, 1 to 326825\n",
      "Data columns (total 10 columns):\n",
      " #   Column            Non-Null Count   Dtype \n",
      "---  ------            --------------   ----- \n",
      " 0   Price             271868 non-null  int64 \n",
      " 1   VehicleType       271868 non-null  object\n",
      " 2   RegistrationYear  271868 non-null  int64 \n",
      " 3   Gearbox           271868 non-null  object\n",
      " 4   Power             271868 non-null  int64 \n",
      " 5   Model             271868 non-null  object\n",
      " 6   Kilometer         271868 non-null  int64 \n",
      " 7   FuelType          271868 non-null  object\n",
      " 8   Brand             271868 non-null  object\n",
      " 9   Repaired          271868 non-null  object\n",
      "dtypes: int64(4), object(6)\n",
      "memory usage: 22.8+ MB\n"
     ]
    }
   ],
   "source": [
    "data.info()"
   ]
  },
  {
   "cell_type": "code",
   "execution_count": 51,
   "metadata": {},
   "outputs": [
    {
     "data": {
      "text/html": [
       "<div>\n",
       "<style scoped>\n",
       "    .dataframe tbody tr th:only-of-type {\n",
       "        vertical-align: middle;\n",
       "    }\n",
       "\n",
       "    .dataframe tbody tr th {\n",
       "        vertical-align: top;\n",
       "    }\n",
       "\n",
       "    .dataframe thead th {\n",
       "        text-align: right;\n",
       "    }\n",
       "</style>\n",
       "<table border=\"1\" class=\"dataframe\">\n",
       "  <thead>\n",
       "    <tr style=\"text-align: right;\">\n",
       "      <th></th>\n",
       "      <th>Price</th>\n",
       "      <th>RegistrationYear</th>\n",
       "      <th>Power</th>\n",
       "      <th>Kilometer</th>\n",
       "    </tr>\n",
       "  </thead>\n",
       "  <tbody>\n",
       "    <tr>\n",
       "      <th>count</th>\n",
       "      <td>271868.000000</td>\n",
       "      <td>271868.000000</td>\n",
       "      <td>271868.000000</td>\n",
       "      <td>271868.000000</td>\n",
       "    </tr>\n",
       "    <tr>\n",
       "      <th>mean</th>\n",
       "      <td>4852.886820</td>\n",
       "      <td>2002.798501</td>\n",
       "      <td>120.547560</td>\n",
       "      <td>128316.940574</td>\n",
       "    </tr>\n",
       "    <tr>\n",
       "      <th>std</th>\n",
       "      <td>4614.231461</td>\n",
       "      <td>6.566627</td>\n",
       "      <td>53.382895</td>\n",
       "      <td>36713.680154</td>\n",
       "    </tr>\n",
       "    <tr>\n",
       "      <th>min</th>\n",
       "      <td>100.000000</td>\n",
       "      <td>1910.000000</td>\n",
       "      <td>20.000000</td>\n",
       "      <td>5000.000000</td>\n",
       "    </tr>\n",
       "    <tr>\n",
       "      <th>25%</th>\n",
       "      <td>1340.000000</td>\n",
       "      <td>1999.000000</td>\n",
       "      <td>76.000000</td>\n",
       "      <td>125000.000000</td>\n",
       "    </tr>\n",
       "    <tr>\n",
       "      <th>50%</th>\n",
       "      <td>3200.000000</td>\n",
       "      <td>2003.000000</td>\n",
       "      <td>110.000000</td>\n",
       "      <td>150000.000000</td>\n",
       "    </tr>\n",
       "    <tr>\n",
       "      <th>75%</th>\n",
       "      <td>6990.000000</td>\n",
       "      <td>2007.000000</td>\n",
       "      <td>150.000000</td>\n",
       "      <td>150000.000000</td>\n",
       "    </tr>\n",
       "    <tr>\n",
       "      <th>max</th>\n",
       "      <td>20000.000000</td>\n",
       "      <td>2016.000000</td>\n",
       "      <td>500.000000</td>\n",
       "      <td>150000.000000</td>\n",
       "    </tr>\n",
       "  </tbody>\n",
       "</table>\n",
       "</div>"
      ],
      "text/plain": [
       "               Price  RegistrationYear          Power      Kilometer\n",
       "count  271868.000000     271868.000000  271868.000000  271868.000000\n",
       "mean     4852.886820       2002.798501     120.547560  128316.940574\n",
       "std      4614.231461          6.566627      53.382895   36713.680154\n",
       "min       100.000000       1910.000000      20.000000    5000.000000\n",
       "25%      1340.000000       1999.000000      76.000000  125000.000000\n",
       "50%      3200.000000       2003.000000     110.000000  150000.000000\n",
       "75%      6990.000000       2007.000000     150.000000  150000.000000\n",
       "max     20000.000000       2016.000000     500.000000  150000.000000"
      ]
     },
     "execution_count": 51,
     "metadata": {},
     "output_type": "execute_result"
    }
   ],
   "source": [
    "#КОД РЕВЬЮЕРА\n",
    "\n",
    "data.describe()"
   ]
  },
  {
   "cell_type": "markdown",
   "metadata": {},
   "source": [
    "### Финальная подготовка данных к обучению"
   ]
  },
  {
   "cell_type": "markdown",
   "metadata": {},
   "source": [
    "Для подготовки данных к обучению разных моделей осталось преобразовать категориальные переменные. Однако способы преобразования потребуются разные. Для линейной регрессии не подходит кодирование признаков с помощью Ordinal Encoding - модель будет воспринимать числовые данные как расположенные в определённом порядке, что не соответствует смыслу признаков в нашем датасете. В то же время для модели LightGBM такие данные как раз подходят. Поэтому обработку категориальных признаков и разделение на датасеты будем проводить непосредственно перед обучением.\n",
    "\n",
    "На данном этапе построим heatmap для того, чтобы выявить, есть ли между признаками сильные зависимости."
   ]
  },
  {
   "cell_type": "code",
   "execution_count": 52,
   "metadata": {
    "scrolled": true
   },
   "outputs": [
    {
     "data": {
      "text/plain": [
       "<AxesSubplot:>"
      ]
     },
     "execution_count": 52,
     "metadata": {},
     "output_type": "execute_result"
    },
    {
     "data": {
      "image/png": "[encoded data removed]",
      "text/plain": [
       "<Figure size 432x288 with 2 Axes>"
      ]
     },
     "metadata": {
      "needs_background": "light"
     },
     "output_type": "display_data"
    }
   ],
   "source": [
    "sns.heatmap(data.corr())"
   ]
  },
  {
   "cell_type": "markdown",
   "metadata": {},
   "source": [
    "Заметно, что с ценой машин довольно сильно связаны год регистрации автомобиля и мощность двигателя. Среди других признаков сильных зависимостей не обнаруживаем.\n",
    "\n",
    "На текущем этапе можем также отделить целевой признак от остальных признаков - чтобы в дальнейшем не повторять эту операцию несколько раз."
   ]
  },
  {
   "cell_type": "code",
   "execution_count": 53,
   "metadata": {},
   "outputs": [],
   "source": [
    "data.reset_index()\n",
    "target = data['Price']\n",
    "features = data.drop('Price', axis=1)"
   ]
  },
  {
   "cell_type": "code",
   "execution_count": 54,
   "metadata": {
    "scrolled": false
   },
   "outputs": [
    {
     "name": "stdout",
     "output_type": "stream",
     "text": [
      "<class 'pandas.core.frame.DataFrame'>\n",
      "Int64Index: 271868 entries, 1 to 326825\n",
      "Data columns (total 9 columns):\n",
      " #   Column            Non-Null Count   Dtype \n",
      "---  ------            --------------   ----- \n",
      " 0   VehicleType       271868 non-null  object\n",
      " 1   RegistrationYear  271868 non-null  int64 \n",
      " 2   Gearbox           271868 non-null  object\n",
      " 3   Power             271868 non-null  int64 \n",
      " 4   Model             271868 non-null  object\n",
      " 5   Kilometer         271868 non-null  int64 \n",
      " 6   FuelType          271868 non-null  object\n",
      " 7   Brand             271868 non-null  object\n",
      " 8   Repaired          271868 non-null  object\n",
      "dtypes: int64(3), object(6)\n",
      "memory usage: 20.7+ MB\n"
     ]
    }
   ],
   "source": [
    "features.info()"
   ]
  },
  {
   "cell_type": "markdown",
   "metadata": {},
   "source": [
    "Наконец, разделим данные на тренировочную, валидационную и тестовую выборки в соотношении 3:1:1."
   ]
  },
  {
   "cell_type": "code",
   "execution_count": 55,
   "metadata": {},
   "outputs": [
    {
     "data": {
      "text/plain": [
       "0.5999970573955008"
      ]
     },
     "execution_count": 55,
     "metadata": {},
     "output_type": "execute_result"
    }
   ],
   "source": [
    "# сначала отделим тренировочную\n",
    "features_train, features_tv, target_train, target_tv, = train_test_split(\n",
    "    features, target, test_size=0.4, random_state=12345)\n",
    "\n",
    "# теперь выборку \"валидационные и тестовые\" разделим пополам\n",
    "features_valid, features_test, target_valid, target_test = train_test_split(\n",
    "    features_tv, target_tv, test_size=0.5, random_state=12345)\n",
    "\n",
    "# check\n",
    "target_train.shape[0] / target.shape[0]"
   ]
  },
  {
   "cell_type": "markdown",
   "metadata": {},
   "source": [
    "### Подготовка данных - выводы"
   ]
  },
  {
   "cell_type": "markdown",
   "metadata": {},
   "source": [
    "Основная часть работы по подготовке датасета была проведена. Обработка количественных признаков состояла в следующем:\n",
    "\n",
    "* Удалили из таблицы данные, где была указана слишком низкая стоимость автомобилей.\n",
    "* Удалили аномалии по году выпуска автомобиля – машины, у которых указан год регистрации раньше, чем 1910, а также автомобили, зарегистрированные после 2022 года.\n",
    "* Удалили автомобили с заявленной мощностью более 500 л.с. и менее 20 л.с.\n",
    "\n",
    "Обработка качественных признаков свелась к заполнению пропущенных значений, которых в представленных данных оказалось довольно много. Всякий раз при этом принималось во внимание, какой группе соответствует группа с отсутствующими значениями по медианной цене и другим параметрам. Практически во всех случаях эта группа обозначалась отдельно – однако в столбце `VehicleType` решено было присоединить её к группе small, основываясь на данных о медианной стоимости.\n",
    "\n",
    "Было также проведено исследование признаков на предмет мультиколлинеарности. Оно не выявило значимых зависимостей между признаками (за исключением корреляций с целевым признаком мощности автомобиля и года его регистрации). После этого целевой признак был отделён, выборки разделены на тренировочную, валидационную и тестовую в соотношении 3:1:1.\n"
   ]
  },
  {
   "cell_type": "markdown",
   "metadata": {},
   "source": [
    "## Обучение моделей"
   ]
  },
  {
   "cell_type": "markdown",
   "metadata": {},
   "source": [
    "### Модель на основе алгоритма линейной регрессии"
   ]
  },
  {
   "cell_type": "markdown",
   "metadata": {},
   "source": [
    "Подготовим данные для линейной регрессии. Пусть переменные для неё будут отмечены как **lr**. Проведём преобразование категориальных признаков во всех выборках с помощью инструмента OneHotEncoder."
   ]
  },
  {
   "cell_type": "code",
   "execution_count": 56,
   "metadata": {},
   "outputs": [
    {
     "data": {
      "text/plain": [
       "(163120, 309)"
      ]
     },
     "execution_count": 56,
     "metadata": {},
     "output_type": "execute_result"
    }
   ],
   "source": [
    "# используем для удобства инструмент ColumnTransformer\n",
    "ct = ColumnTransformer([('ohe', OneHotEncoder(drop='first'), [0, 2, 4, 6, 7, 8])], remainder='passthrough', sparse_threshold=0)\n",
    "ct.fit(features_train)\n",
    "lr_features_train = ct.transform(features_train)\n",
    "lr_features_train.shape"
   ]
  },
  {
   "cell_type": "code",
   "execution_count": 57,
   "metadata": {},
   "outputs": [],
   "source": [
    "# теперь таким же образом передадим ColumnTransformer две другие подвыборки\n",
    "lr_features_valid = ct.transform(features_valid)\n",
    "lr_features_test = ct.transform(features_test)"
   ]
  },
  {
   "cell_type": "markdown",
   "metadata": {},
   "source": [
    "Проведём нормализацию подвыборок `features` с помощью StandartScaler - это будет способствовать улучшению качества предсказаний."
   ]
  },
  {
   "cell_type": "code",
   "execution_count": 58,
   "metadata": {},
   "outputs": [],
   "source": [
    "scaler = StandardScaler()\n",
    "scaler.fit(lr_features_train)\n",
    "lr_features_train = scaler.transform(lr_features_train)\n",
    "lr_features_valid = scaler.transform(lr_features_valid)\n",
    "lr_features_test = scaler.transform(lr_features_test)"
   ]
  },
  {
   "cell_type": "markdown",
   "metadata": {},
   "source": [
    "Переходим к обучению модели - будем сразу определять оптимальные параметры с помощью кросс-валидации."
   ]
  },
  {
   "cell_type": "code",
   "execution_count": 59,
   "metadata": {
    "scrolled": true
   },
   "outputs": [
    {
     "data": {
      "text/html": [
       "<div>\n",
       "<style scoped>\n",
       "    .dataframe tbody tr th:only-of-type {\n",
       "        vertical-align: middle;\n",
       "    }\n",
       "\n",
       "    .dataframe tbody tr th {\n",
       "        vertical-align: top;\n",
       "    }\n",
       "\n",
       "    .dataframe thead th {\n",
       "        text-align: right;\n",
       "    }\n",
       "</style>\n",
       "<table border=\"1\" class=\"dataframe\">\n",
       "  <thead>\n",
       "    <tr style=\"text-align: right;\">\n",
       "      <th></th>\n",
       "      <th>fit_time</th>\n",
       "      <th>score_time</th>\n",
       "      <th>test_score</th>\n",
       "      <th>train_score</th>\n",
       "    </tr>\n",
       "  </thead>\n",
       "  <tbody>\n",
       "    <tr>\n",
       "      <th>0</th>\n",
       "      <td>2.135447</td>\n",
       "      <td>0.010002</td>\n",
       "      <td>-2635.055758</td>\n",
       "      <td>-2587.223812</td>\n",
       "    </tr>\n",
       "    <tr>\n",
       "      <th>1</th>\n",
       "      <td>2.064364</td>\n",
       "      <td>0.015625</td>\n",
       "      <td>-2628.868901</td>\n",
       "      <td>-2587.909506</td>\n",
       "    </tr>\n",
       "    <tr>\n",
       "      <th>2</th>\n",
       "      <td>1.974489</td>\n",
       "      <td>0.015625</td>\n",
       "      <td>-2603.623942</td>\n",
       "      <td>-2590.732941</td>\n",
       "    </tr>\n",
       "    <tr>\n",
       "      <th>3</th>\n",
       "      <td>1.934776</td>\n",
       "      <td>0.015628</td>\n",
       "      <td>-2625.865342</td>\n",
       "      <td>-2588.215897</td>\n",
       "    </tr>\n",
       "    <tr>\n",
       "      <th>4</th>\n",
       "      <td>1.984492</td>\n",
       "      <td>0.015626</td>\n",
       "      <td>-4555.751136</td>\n",
       "      <td>-2594.784757</td>\n",
       "    </tr>\n",
       "    <tr>\n",
       "      <th>5</th>\n",
       "      <td>1.900125</td>\n",
       "      <td>0.000000</td>\n",
       "      <td>-2583.239924</td>\n",
       "      <td>-2593.014226</td>\n",
       "    </tr>\n",
       "    <tr>\n",
       "      <th>6</th>\n",
       "      <td>1.961107</td>\n",
       "      <td>0.015626</td>\n",
       "      <td>-5351.807778</td>\n",
       "      <td>-2591.919328</td>\n",
       "    </tr>\n",
       "    <tr>\n",
       "      <th>7</th>\n",
       "      <td>2.053681</td>\n",
       "      <td>0.015626</td>\n",
       "      <td>-2574.797217</td>\n",
       "      <td>-2593.918746</td>\n",
       "    </tr>\n",
       "    <tr>\n",
       "      <th>8</th>\n",
       "      <td>2.047337</td>\n",
       "      <td>0.000000</td>\n",
       "      <td>-2597.542227</td>\n",
       "      <td>-2591.451572</td>\n",
       "    </tr>\n",
       "    <tr>\n",
       "      <th>9</th>\n",
       "      <td>2.006842</td>\n",
       "      <td>0.015626</td>\n",
       "      <td>-2565.298460</td>\n",
       "      <td>-2595.041564</td>\n",
       "    </tr>\n",
       "  </tbody>\n",
       "</table>\n",
       "</div>"
      ],
      "text/plain": [
       "   fit_time  score_time   test_score  train_score\n",
       "0  2.135447    0.010002 -2635.055758 -2587.223812\n",
       "1  2.064364    0.015625 -2628.868901 -2587.909506\n",
       "2  1.974489    0.015625 -2603.623942 -2590.732941\n",
       "3  1.934776    0.015628 -2625.865342 -2588.215897\n",
       "4  1.984492    0.015626 -4555.751136 -2594.784757\n",
       "5  1.900125    0.000000 -2583.239924 -2593.014226\n",
       "6  1.961107    0.015626 -5351.807778 -2591.919328\n",
       "7  2.053681    0.015626 -2574.797217 -2593.918746\n",
       "8  2.047337    0.000000 -2597.542227 -2591.451572\n",
       "9  2.006842    0.015626 -2565.298460 -2595.041564"
      ]
     },
     "metadata": {},
     "output_type": "display_data"
    },
    {
     "data": {
      "text/html": [
       "<div>\n",
       "<style scoped>\n",
       "    .dataframe tbody tr th:only-of-type {\n",
       "        vertical-align: middle;\n",
       "    }\n",
       "\n",
       "    .dataframe tbody tr th {\n",
       "        vertical-align: top;\n",
       "    }\n",
       "\n",
       "    .dataframe thead th {\n",
       "        text-align: right;\n",
       "    }\n",
       "</style>\n",
       "<table border=\"1\" class=\"dataframe\">\n",
       "  <thead>\n",
       "    <tr style=\"text-align: right;\">\n",
       "      <th></th>\n",
       "      <th>fit_time</th>\n",
       "      <th>score_time</th>\n",
       "      <th>test_score</th>\n",
       "      <th>train_score</th>\n",
       "    </tr>\n",
       "  </thead>\n",
       "  <tbody>\n",
       "    <tr>\n",
       "      <th>count</th>\n",
       "      <td>10.000000</td>\n",
       "      <td>10.000000</td>\n",
       "      <td>10.000000</td>\n",
       "      <td>10.000000</td>\n",
       "    </tr>\n",
       "    <tr>\n",
       "      <th>mean</th>\n",
       "      <td>2.006266</td>\n",
       "      <td>0.011938</td>\n",
       "      <td>-3072.185068</td>\n",
       "      <td>-2591.421235</td>\n",
       "    </tr>\n",
       "    <tr>\n",
       "      <th>std</th>\n",
       "      <td>0.069840</td>\n",
       "      <td>0.006532</td>\n",
       "      <td>1009.548411</td>\n",
       "      <td>2.870207</td>\n",
       "    </tr>\n",
       "    <tr>\n",
       "      <th>min</th>\n",
       "      <td>1.900125</td>\n",
       "      <td>0.000000</td>\n",
       "      <td>-5351.807778</td>\n",
       "      <td>-2595.041564</td>\n",
       "    </tr>\n",
       "    <tr>\n",
       "      <th>25%</th>\n",
       "      <td>1.964453</td>\n",
       "      <td>0.011407</td>\n",
       "      <td>-2633.509044</td>\n",
       "      <td>-2593.692616</td>\n",
       "    </tr>\n",
       "    <tr>\n",
       "      <th>50%</th>\n",
       "      <td>1.995667</td>\n",
       "      <td>0.015626</td>\n",
       "      <td>-2614.744642</td>\n",
       "      <td>-2591.685450</td>\n",
       "    </tr>\n",
       "    <tr>\n",
       "      <th>75%</th>\n",
       "      <td>2.052095</td>\n",
       "      <td>0.015626</td>\n",
       "      <td>-2586.815500</td>\n",
       "      <td>-2588.845158</td>\n",
       "    </tr>\n",
       "    <tr>\n",
       "      <th>max</th>\n",
       "      <td>2.135447</td>\n",
       "      <td>0.015628</td>\n",
       "      <td>-2565.298460</td>\n",
       "      <td>-2587.223812</td>\n",
       "    </tr>\n",
       "  </tbody>\n",
       "</table>\n",
       "</div>"
      ],
      "text/plain": [
       "        fit_time  score_time   test_score  train_score\n",
       "count  10.000000   10.000000    10.000000    10.000000\n",
       "mean    2.006266    0.011938 -3072.185068 -2591.421235\n",
       "std     0.069840    0.006532  1009.548411     2.870207\n",
       "min     1.900125    0.000000 -5351.807778 -2595.041564\n",
       "25%     1.964453    0.011407 -2633.509044 -2593.692616\n",
       "50%     1.995667    0.015626 -2614.744642 -2591.685450\n",
       "75%     2.052095    0.015626 -2586.815500 -2588.845158\n",
       "max     2.135447    0.015628 -2565.298460 -2587.223812"
      ]
     },
     "execution_count": 59,
     "metadata": {},
     "output_type": "execute_result"
    }
   ],
   "source": [
    "model_lr = LinearRegression()\n",
    "model_lr.fit(lr_features_train, target_train)\n",
    "\n",
    "lr_cv = cross_validate(model_lr, lr_features_train, target_train, cv=10, \n",
    "                     scoring='neg_root_mean_squared_error',\n",
    "                    return_train_score=True)\n",
    "lr_cv = pd.DataFrame(lr_cv)\n",
    "display(lr_cv)\n",
    "lr_cv.describe()"
   ]
  },
  {
   "cell_type": "markdown",
   "metadata": {},
   "source": [
    "Несмотря на то, что модель линейной регрессии работает быстро даже на довольно большом датасете, качество предсказаний не дотягивает до желаемого."
   ]
  },
  {
   "cell_type": "markdown",
   "metadata": {},
   "source": [
    "### Градиентный бустинг LightGBM"
   ]
  },
  {
   "cell_type": "markdown",
   "metadata": {},
   "source": [
    "Модель из библиотеки LightGBM, которая использует алгоритм градиентного бустинга, может работать с качественными признаками, которые закодированы в формате `int` или `category`. Переведём нужные столбцы в этот формат."
   ]
  },
  {
   "cell_type": "code",
   "execution_count": 60,
   "metadata": {
    "scrolled": true
   },
   "outputs": [
    {
     "name": "stdout",
     "output_type": "stream",
     "text": [
      "<class 'pandas.core.frame.DataFrame'>\n",
      "Int64Index: 163120 entries, 155230 to 261325\n",
      "Data columns (total 9 columns):\n",
      " #   Column            Non-Null Count   Dtype   \n",
      "---  ------            --------------   -----   \n",
      " 0   VehicleType       163120 non-null  category\n",
      " 1   RegistrationYear  163120 non-null  int64   \n",
      " 2   Gearbox           163120 non-null  category\n",
      " 3   Power             163120 non-null  int64   \n",
      " 4   Model             163120 non-null  category\n",
      " 5   Kilometer         163120 non-null  int64   \n",
      " 6   FuelType          163120 non-null  category\n",
      " 7   Brand             163120 non-null  category\n",
      " 8   Repaired          163120 non-null  category\n",
      "dtypes: category(6), int64(3)\n",
      "memory usage: 6.1 MB\n"
     ]
    },
    {
     "name": "stderr",
     "output_type": "stream",
     "text": [
      "C:\\Users\\35DE~1\\AppData\\Local\\Temp/ipykernel_2784/1145746903.py:5: SettingWithCopyWarning: \n",
      "A value is trying to be set on a copy of a slice from a DataFrame.\n",
      "Try using .loc[row_indexer,col_indexer] = value instead\n",
      "\n",
      "See the caveats in the documentation: https://pandas.pydata.org/pandas-docs/stable/user_guide/indexing.html#returning-a-view-versus-a-copy\n",
      "  lg_features_train[column] = lg_features_train[column].astype('category')\n"
     ]
    }
   ],
   "source": [
    "cat_columns = ['VehicleType', 'Model', 'FuelType', 'Brand', 'Gearbox', 'Repaired']\n",
    "lg_features_train = features_train\n",
    "\n",
    "for column in cat_columns:\n",
    "    lg_features_train[column] = lg_features_train[column].astype('category')\n",
    "\n",
    "# check\n",
    "lg_features_train.info()"
   ]
  },
  {
   "cell_type": "code",
   "execution_count": 61,
   "metadata": {},
   "outputs": [
    {
     "name": "stderr",
     "output_type": "stream",
     "text": [
      "C:\\Users\\35DE~1\\AppData\\Local\\Temp/ipykernel_2784/3231619095.py:5: SettingWithCopyWarning: \n",
      "A value is trying to be set on a copy of a slice from a DataFrame.\n",
      "Try using .loc[row_indexer,col_indexer] = value instead\n",
      "\n",
      "See the caveats in the documentation: https://pandas.pydata.org/pandas-docs/stable/user_guide/indexing.html#returning-a-view-versus-a-copy\n",
      "  lg_features_valid[column] = lg_features_valid[column].astype('category')\n",
      "C:\\Users\\35DE~1\\AppData\\Local\\Temp/ipykernel_2784/3231619095.py:9: SettingWithCopyWarning: \n",
      "A value is trying to be set on a copy of a slice from a DataFrame.\n",
      "Try using .loc[row_indexer,col_indexer] = value instead\n",
      "\n",
      "See the caveats in the documentation: https://pandas.pydata.org/pandas-docs/stable/user_guide/indexing.html#returning-a-view-versus-a-copy\n",
      "  lg_features_test[column] = lg_features_test[column].astype('category')\n"
     ]
    }
   ],
   "source": [
    "# повторим для двух других выборок\n",
    "lg_features_valid = features_valid\n",
    "\n",
    "for column in cat_columns:\n",
    "    lg_features_valid[column] = lg_features_valid[column].astype('category')\n",
    "\n",
    "lg_features_test = features_test\n",
    "for column in cat_columns:\n",
    "    lg_features_test[column] = lg_features_test[column].astype('category')"
   ]
  },
  {
   "cell_type": "markdown",
   "metadata": {},
   "source": [
    "Теперь можно обучать модель LightGBM с параметрами по умолчанию."
   ]
  },
  {
   "cell_type": "code",
   "execution_count": 62,
   "metadata": {
    "scrolled": true
   },
   "outputs": [
    {
     "data": {
      "text/plain": [
       "LGBMRegressor(random_state=12345)"
      ]
     },
     "execution_count": 62,
     "metadata": {},
     "output_type": "execute_result"
    }
   ],
   "source": [
    "model_lg = LGBMRegressor(random_state=12345)\n",
    "\n",
    "model_lg.fit(lg_features_train, target_train)"
   ]
  },
  {
   "cell_type": "code",
   "execution_count": 63,
   "metadata": {
    "scrolled": true
   },
   "outputs": [],
   "source": [
    "\n",
    "# predicted_lg = model_lg.predict(lg_features_valid)"
   ]
  },
  {
   "cell_type": "code",
   "execution_count": 64,
   "metadata": {},
   "outputs": [],
   "source": [
    "# qual_lg = mean_squared_error(target_valid, predicted_lg, squared=False)\n",
    "# qual_lg"
   ]
  },
  {
   "cell_type": "code",
   "execution_count": 65,
   "metadata": {
    "scrolled": true
   },
   "outputs": [],
   "source": [
    "params = {'num_iterations': range (200, 1100, 100),\n",
    "              'max_depth': [-2, -3],\n",
    "              'num_leaves': [10, 20],\n",
    "         'learning_rate': [0.2, 0.1, 0.05]}\n",
    "grid = GridSearchCV(model_lg, params, cv=5, scoring='neg_root_mean_squared_error')\n",
    "grid.fit(lg_features_train, target_train)\n",
    "\n",
    "lg_scores = pd.DataFrame(grid.cv_results_)"
   ]
  },
  {
   "cell_type": "code",
   "execution_count": 66,
   "metadata": {
    "scrolled": true
   },
   "outputs": [
    {
     "data": {
      "text/html": [
       "<div>\n",
       "<style scoped>\n",
       "    .dataframe tbody tr th:only-of-type {\n",
       "        vertical-align: middle;\n",
       "    }\n",
       "\n",
       "    .dataframe tbody tr th {\n",
       "        vertical-align: top;\n",
       "    }\n",
       "\n",
       "    .dataframe thead th {\n",
       "        text-align: right;\n",
       "    }\n",
       "</style>\n",
       "<table border=\"1\" class=\"dataframe\">\n",
       "  <thead>\n",
       "    <tr style=\"text-align: right;\">\n",
       "      <th></th>\n",
       "      <th>mean_fit_time</th>\n",
       "      <th>std_fit_time</th>\n",
       "      <th>mean_score_time</th>\n",
       "      <th>std_score_time</th>\n",
       "      <th>param_learning_rate</th>\n",
       "      <th>param_max_depth</th>\n",
       "      <th>param_num_iterations</th>\n",
       "      <th>param_num_leaves</th>\n",
       "      <th>params</th>\n",
       "      <th>split0_test_score</th>\n",
       "      <th>split1_test_score</th>\n",
       "      <th>split2_test_score</th>\n",
       "      <th>split3_test_score</th>\n",
       "      <th>split4_test_score</th>\n",
       "      <th>mean_test_score</th>\n",
       "      <th>std_test_score</th>\n",
       "      <th>rank_test_score</th>\n",
       "    </tr>\n",
       "  </thead>\n",
       "  <tbody>\n",
       "    <tr>\n",
       "      <th>0</th>\n",
       "      <td>0.438212</td>\n",
       "      <td>0.010574</td>\n",
       "      <td>0.046522</td>\n",
       "      <td>0.009038</td>\n",
       "      <td>0.2</td>\n",
       "      <td>-2</td>\n",
       "      <td>200</td>\n",
       "      <td>10</td>\n",
       "      <td>{'learning_rate': 0.2, 'max_depth': -2, 'num_i...</td>\n",
       "      <td>-1627.301637</td>\n",
       "      <td>-1615.183323</td>\n",
       "      <td>-1599.902807</td>\n",
       "      <td>-1591.648071</td>\n",
       "      <td>-1575.300958</td>\n",
       "      <td>-1601.867359</td>\n",
       "      <td>18.101295</td>\n",
       "      <td>93</td>\n",
       "    </tr>\n",
       "    <tr>\n",
       "      <th>1</th>\n",
       "      <td>0.540217</td>\n",
       "      <td>0.041347</td>\n",
       "      <td>0.056253</td>\n",
       "      <td>0.007655</td>\n",
       "      <td>0.2</td>\n",
       "      <td>-2</td>\n",
       "      <td>200</td>\n",
       "      <td>20</td>\n",
       "      <td>{'learning_rate': 0.2, 'max_depth': -2, 'num_i...</td>\n",
       "      <td>-1593.100830</td>\n",
       "      <td>-1584.462067</td>\n",
       "      <td>-1571.537912</td>\n",
       "      <td>-1566.579582</td>\n",
       "      <td>-1548.438610</td>\n",
       "      <td>-1572.823800</td>\n",
       "      <td>15.374579</td>\n",
       "      <td>63</td>\n",
       "    </tr>\n",
       "    <tr>\n",
       "      <th>2</th>\n",
       "      <td>0.582196</td>\n",
       "      <td>0.021491</td>\n",
       "      <td>0.060460</td>\n",
       "      <td>0.004087</td>\n",
       "      <td>0.2</td>\n",
       "      <td>-2</td>\n",
       "      <td>300</td>\n",
       "      <td>10</td>\n",
       "      <td>{'learning_rate': 0.2, 'max_depth': -2, 'num_i...</td>\n",
       "      <td>-1606.607740</td>\n",
       "      <td>-1599.806326</td>\n",
       "      <td>-1582.185157</td>\n",
       "      <td>-1573.518209</td>\n",
       "      <td>-1558.826936</td>\n",
       "      <td>-1584.188874</td>\n",
       "      <td>17.364425</td>\n",
       "      <td>79</td>\n",
       "    </tr>\n",
       "    <tr>\n",
       "      <th>3</th>\n",
       "      <td>0.717067</td>\n",
       "      <td>0.031309</td>\n",
       "      <td>0.061185</td>\n",
       "      <td>0.002635</td>\n",
       "      <td>0.2</td>\n",
       "      <td>-2</td>\n",
       "      <td>300</td>\n",
       "      <td>20</td>\n",
       "      <td>{'learning_rate': 0.2, 'max_depth': -2, 'num_i...</td>\n",
       "      <td>-1582.049037</td>\n",
       "      <td>-1573.990608</td>\n",
       "      <td>-1560.531626</td>\n",
       "      <td>-1557.172205</td>\n",
       "      <td>-1542.852455</td>\n",
       "      <td>-1563.319186</td>\n",
       "      <td>13.631798</td>\n",
       "      <td>45</td>\n",
       "    </tr>\n",
       "    <tr>\n",
       "      <th>4</th>\n",
       "      <td>0.751699</td>\n",
       "      <td>0.015713</td>\n",
       "      <td>0.074750</td>\n",
       "      <td>0.011301</td>\n",
       "      <td>0.2</td>\n",
       "      <td>-2</td>\n",
       "      <td>400</td>\n",
       "      <td>10</td>\n",
       "      <td>{'learning_rate': 0.2, 'max_depth': -2, 'num_i...</td>\n",
       "      <td>-1598.063636</td>\n",
       "      <td>-1590.094176</td>\n",
       "      <td>-1572.484334</td>\n",
       "      <td>-1566.740682</td>\n",
       "      <td>-1548.859997</td>\n",
       "      <td>-1575.248565</td>\n",
       "      <td>17.420110</td>\n",
       "      <td>67</td>\n",
       "    </tr>\n",
       "    <tr>\n",
       "      <th>...</th>\n",
       "      <td>...</td>\n",
       "      <td>...</td>\n",
       "      <td>...</td>\n",
       "      <td>...</td>\n",
       "      <td>...</td>\n",
       "      <td>...</td>\n",
       "      <td>...</td>\n",
       "      <td>...</td>\n",
       "      <td>...</td>\n",
       "      <td>...</td>\n",
       "      <td>...</td>\n",
       "      <td>...</td>\n",
       "      <td>...</td>\n",
       "      <td>...</td>\n",
       "      <td>...</td>\n",
       "      <td>...</td>\n",
       "      <td>...</td>\n",
       "    </tr>\n",
       "    <tr>\n",
       "      <th>103</th>\n",
       "      <td>1.820235</td>\n",
       "      <td>0.026332</td>\n",
       "      <td>0.198824</td>\n",
       "      <td>0.023261</td>\n",
       "      <td>0.05</td>\n",
       "      <td>-3</td>\n",
       "      <td>800</td>\n",
       "      <td>20</td>\n",
       "      <td>{'learning_rate': 0.05, 'max_depth': -3, 'num_...</td>\n",
       "      <td>-1584.699536</td>\n",
       "      <td>-1574.339115</td>\n",
       "      <td>-1555.497304</td>\n",
       "      <td>-1552.595960</td>\n",
       "      <td>-1536.450511</td>\n",
       "      <td>-1560.716485</td>\n",
       "      <td>16.986954</td>\n",
       "      <td>39</td>\n",
       "    </tr>\n",
       "    <tr>\n",
       "      <th>104</th>\n",
       "      <td>1.578008</td>\n",
       "      <td>0.046526</td>\n",
       "      <td>0.186155</td>\n",
       "      <td>0.011456</td>\n",
       "      <td>0.05</td>\n",
       "      <td>-3</td>\n",
       "      <td>900</td>\n",
       "      <td>10</td>\n",
       "      <td>{'learning_rate': 0.05, 'max_depth': -3, 'num_...</td>\n",
       "      <td>-1603.510644</td>\n",
       "      <td>-1601.583395</td>\n",
       "      <td>-1573.861628</td>\n",
       "      <td>-1572.732488</td>\n",
       "      <td>-1559.519597</td>\n",
       "      <td>-1582.241550</td>\n",
       "      <td>17.340207</td>\n",
       "      <td>75</td>\n",
       "    </tr>\n",
       "    <tr>\n",
       "      <th>105</th>\n",
       "      <td>2.016420</td>\n",
       "      <td>0.042658</td>\n",
       "      <td>0.238617</td>\n",
       "      <td>0.009621</td>\n",
       "      <td>0.05</td>\n",
       "      <td>-3</td>\n",
       "      <td>900</td>\n",
       "      <td>20</td>\n",
       "      <td>{'learning_rate': 0.05, 'max_depth': -3, 'num_...</td>\n",
       "      <td>-1580.541257</td>\n",
       "      <td>-1570.645022</td>\n",
       "      <td>-1552.249085</td>\n",
       "      <td>-1549.976691</td>\n",
       "      <td>-1534.143724</td>\n",
       "      <td>-1557.511156</td>\n",
       "      <td>16.330208</td>\n",
       "      <td>31</td>\n",
       "    </tr>\n",
       "    <tr>\n",
       "      <th>106</th>\n",
       "      <td>1.779735</td>\n",
       "      <td>0.021885</td>\n",
       "      <td>0.198771</td>\n",
       "      <td>0.013446</td>\n",
       "      <td>0.05</td>\n",
       "      <td>-3</td>\n",
       "      <td>1000</td>\n",
       "      <td>10</td>\n",
       "      <td>{'learning_rate': 0.05, 'max_depth': -3, 'num_...</td>\n",
       "      <td>-1599.598558</td>\n",
       "      <td>-1598.723960</td>\n",
       "      <td>-1569.542319</td>\n",
       "      <td>-1568.464065</td>\n",
       "      <td>-1555.953656</td>\n",
       "      <td>-1578.456512</td>\n",
       "      <td>17.569553</td>\n",
       "      <td>71</td>\n",
       "    </tr>\n",
       "    <tr>\n",
       "      <th>107</th>\n",
       "      <td>2.279307</td>\n",
       "      <td>0.062600</td>\n",
       "      <td>0.241288</td>\n",
       "      <td>0.018665</td>\n",
       "      <td>0.05</td>\n",
       "      <td>-3</td>\n",
       "      <td>1000</td>\n",
       "      <td>20</td>\n",
       "      <td>{'learning_rate': 0.05, 'max_depth': -3, 'num_...</td>\n",
       "      <td>-1577.919241</td>\n",
       "      <td>-1567.013244</td>\n",
       "      <td>-1549.057567</td>\n",
       "      <td>-1547.594399</td>\n",
       "      <td>-1531.744393</td>\n",
       "      <td>-1554.665769</td>\n",
       "      <td>16.124700</td>\n",
       "      <td>23</td>\n",
       "    </tr>\n",
       "  </tbody>\n",
       "</table>\n",
       "<p>108 rows × 17 columns</p>\n",
       "</div>"
      ],
      "text/plain": [
       "     mean_fit_time  std_fit_time  mean_score_time  std_score_time  \\\n",
       "0         0.438212      0.010574         0.046522        0.009038   \n",
       "1         0.540217      0.041347         0.056253        0.007655   \n",
       "2         0.582196      0.021491         0.060460        0.004087   \n",
       "3         0.717067      0.031309         0.061185        0.002635   \n",
       "4         0.751699      0.015713         0.074750        0.011301   \n",
       "..             ...           ...              ...             ...   \n",
       "103       1.820235      0.026332         0.198824        0.023261   \n",
       "104       1.578008      0.046526         0.186155        0.011456   \n",
       "105       2.016420      0.042658         0.238617        0.009621   \n",
       "106       1.779735      0.021885         0.198771        0.013446   \n",
       "107       2.279307      0.062600         0.241288        0.018665   \n",
       "\n",
       "    param_learning_rate param_max_depth param_num_iterations param_num_leaves  \\\n",
       "0                   0.2              -2                  200               10   \n",
       "1                   0.2              -2                  200               20   \n",
       "2                   0.2              -2                  300               10   \n",
       "3                   0.2              -2                  300               20   \n",
       "4                   0.2              -2                  400               10   \n",
       "..                  ...             ...                  ...              ...   \n",
       "103                0.05              -3                  800               20   \n",
       "104                0.05              -3                  900               10   \n",
       "105                0.05              -3                  900               20   \n",
       "106                0.05              -3                 1000               10   \n",
       "107                0.05              -3                 1000               20   \n",
       "\n",
       "                                                params  split0_test_score  \\\n",
       "0    {'learning_rate': 0.2, 'max_depth': -2, 'num_i...       -1627.301637   \n",
       "1    {'learning_rate': 0.2, 'max_depth': -2, 'num_i...       -1593.100830   \n",
       "2    {'learning_rate': 0.2, 'max_depth': -2, 'num_i...       -1606.607740   \n",
       "3    {'learning_rate': 0.2, 'max_depth': -2, 'num_i...       -1582.049037   \n",
       "4    {'learning_rate': 0.2, 'max_depth': -2, 'num_i...       -1598.063636   \n",
       "..                                                 ...                ...   \n",
       "103  {'learning_rate': 0.05, 'max_depth': -3, 'num_...       -1584.699536   \n",
       "104  {'learning_rate': 0.05, 'max_depth': -3, 'num_...       -1603.510644   \n",
       "105  {'learning_rate': 0.05, 'max_depth': -3, 'num_...       -1580.541257   \n",
       "106  {'learning_rate': 0.05, 'max_depth': -3, 'num_...       -1599.598558   \n",
       "107  {'learning_rate': 0.05, 'max_depth': -3, 'num_...       -1577.919241   \n",
       "\n",
       "     split1_test_score  split2_test_score  split3_test_score  \\\n",
       "0         -1615.183323       -1599.902807       -1591.648071   \n",
       "1         -1584.462067       -1571.537912       -1566.579582   \n",
       "2         -1599.806326       -1582.185157       -1573.518209   \n",
       "3         -1573.990608       -1560.531626       -1557.172205   \n",
       "4         -1590.094176       -1572.484334       -1566.740682   \n",
       "..                 ...                ...                ...   \n",
       "103       -1574.339115       -1555.497304       -1552.595960   \n",
       "104       -1601.583395       -1573.861628       -1572.732488   \n",
       "105       -1570.645022       -1552.249085       -1549.976691   \n",
       "106       -1598.723960       -1569.542319       -1568.464065   \n",
       "107       -1567.013244       -1549.057567       -1547.594399   \n",
       "\n",
       "     split4_test_score  mean_test_score  std_test_score  rank_test_score  \n",
       "0         -1575.300958     -1601.867359       18.101295               93  \n",
       "1         -1548.438610     -1572.823800       15.374579               63  \n",
       "2         -1558.826936     -1584.188874       17.364425               79  \n",
       "3         -1542.852455     -1563.319186       13.631798               45  \n",
       "4         -1548.859997     -1575.248565       17.420110               67  \n",
       "..                 ...              ...             ...              ...  \n",
       "103       -1536.450511     -1560.716485       16.986954               39  \n",
       "104       -1559.519597     -1582.241550       17.340207               75  \n",
       "105       -1534.143724     -1557.511156       16.330208               31  \n",
       "106       -1555.953656     -1578.456512       17.569553               71  \n",
       "107       -1531.744393     -1554.665769       16.124700               23  \n",
       "\n",
       "[108 rows x 17 columns]"
      ]
     },
     "execution_count": 66,
     "metadata": {},
     "output_type": "execute_result"
    }
   ],
   "source": [
    "lg_scores"
   ]
  },
  {
   "cell_type": "code",
   "execution_count": 67,
   "metadata": {
    "scrolled": true
   },
   "outputs": [
    {
     "data": {
      "text/html": [
       "<div>\n",
       "<style scoped>\n",
       "    .dataframe tbody tr th:only-of-type {\n",
       "        vertical-align: middle;\n",
       "    }\n",
       "\n",
       "    .dataframe tbody tr th {\n",
       "        vertical-align: top;\n",
       "    }\n",
       "\n",
       "    .dataframe thead th {\n",
       "        text-align: right;\n",
       "    }\n",
       "</style>\n",
       "<table border=\"1\" class=\"dataframe\">\n",
       "  <thead>\n",
       "    <tr style=\"text-align: right;\">\n",
       "      <th></th>\n",
       "      <th>mean_fit_time</th>\n",
       "      <th>std_fit_time</th>\n",
       "      <th>mean_score_time</th>\n",
       "      <th>std_score_time</th>\n",
       "      <th>param_learning_rate</th>\n",
       "      <th>param_max_depth</th>\n",
       "      <th>param_num_iterations</th>\n",
       "      <th>param_num_leaves</th>\n",
       "      <th>params</th>\n",
       "      <th>split0_test_score</th>\n",
       "      <th>split1_test_score</th>\n",
       "      <th>split2_test_score</th>\n",
       "      <th>split3_test_score</th>\n",
       "      <th>split4_test_score</th>\n",
       "      <th>mean_test_score</th>\n",
       "      <th>std_test_score</th>\n",
       "      <th>rank_test_score</th>\n",
       "    </tr>\n",
       "  </thead>\n",
       "  <tbody>\n",
       "    <tr>\n",
       "      <th>53</th>\n",
       "      <td>2.121460</td>\n",
       "      <td>0.024670</td>\n",
       "      <td>0.216142</td>\n",
       "      <td>0.011664</td>\n",
       "      <td>0.1</td>\n",
       "      <td>-2</td>\n",
       "      <td>1000</td>\n",
       "      <td>20</td>\n",
       "      <td>{'learning_rate': 0.1, 'max_depth': -2, 'num_i...</td>\n",
       "      <td>-1565.140326</td>\n",
       "      <td>-1556.953298</td>\n",
       "      <td>-1537.679091</td>\n",
       "      <td>-1542.110565</td>\n",
       "      <td>-1524.585498</td>\n",
       "      <td>-1545.293756</td>\n",
       "      <td>14.330241</td>\n",
       "      <td>1</td>\n",
       "    </tr>\n",
       "    <tr>\n",
       "      <th>71</th>\n",
       "      <td>2.082545</td>\n",
       "      <td>0.030542</td>\n",
       "      <td>0.209629</td>\n",
       "      <td>0.006621</td>\n",
       "      <td>0.1</td>\n",
       "      <td>-3</td>\n",
       "      <td>1000</td>\n",
       "      <td>20</td>\n",
       "      <td>{'learning_rate': 0.1, 'max_depth': -3, 'num_i...</td>\n",
       "      <td>-1565.140326</td>\n",
       "      <td>-1556.953298</td>\n",
       "      <td>-1537.679091</td>\n",
       "      <td>-1542.110565</td>\n",
       "      <td>-1524.585498</td>\n",
       "      <td>-1545.293756</td>\n",
       "      <td>14.330241</td>\n",
       "      <td>1</td>\n",
       "    </tr>\n",
       "  </tbody>\n",
       "</table>\n",
       "</div>"
      ],
      "text/plain": [
       "    mean_fit_time  std_fit_time  mean_score_time  std_score_time  \\\n",
       "53       2.121460      0.024670         0.216142        0.011664   \n",
       "71       2.082545      0.030542         0.209629        0.006621   \n",
       "\n",
       "   param_learning_rate param_max_depth param_num_iterations param_num_leaves  \\\n",
       "53                 0.1              -2                 1000               20   \n",
       "71                 0.1              -3                 1000               20   \n",
       "\n",
       "                                               params  split0_test_score  \\\n",
       "53  {'learning_rate': 0.1, 'max_depth': -2, 'num_i...       -1565.140326   \n",
       "71  {'learning_rate': 0.1, 'max_depth': -3, 'num_i...       -1565.140326   \n",
       "\n",
       "    split1_test_score  split2_test_score  split3_test_score  \\\n",
       "53       -1556.953298       -1537.679091       -1542.110565   \n",
       "71       -1556.953298       -1537.679091       -1542.110565   \n",
       "\n",
       "    split4_test_score  mean_test_score  std_test_score  rank_test_score  \n",
       "53       -1524.585498     -1545.293756       14.330241                1  \n",
       "71       -1524.585498     -1545.293756       14.330241                1  "
      ]
     },
     "metadata": {},
     "output_type": "display_data"
    },
    {
     "name": "stdout",
     "output_type": "stream",
     "text": [
      "Время обучения: 2.1214595794677735, время предсказания: 0.21614160537719726\n"
     ]
    }
   ],
   "source": [
    "display(lg_scores[lg_scores['rank_test_score'] == 1])\n",
    "lg_best_score = lg_scores[lg_scores['rank_test_score'] == 1]['mean_test_score'].values[0]\n",
    "lg_fit_time = lg_scores[lg_scores['rank_test_score'] == 1]['mean_fit_time'].values[0]\n",
    "lg_pred_time = lg_scores[lg_scores['rank_test_score'] == 1]['mean_score_time'].values[0]\n",
    "print(f'Время обучения: {lg_fit_time}, время предсказания: {lg_pred_time}')"
   ]
  },
  {
   "cell_type": "markdown",
   "metadata": {},
   "source": [
    "Одинакового качества предсказания (с RMSE равным 1545) удалось добиться двум моделям, которые отличаются только параметром max_depth (-2 и -3). Остальные параметры следующие: количество деревьев 1000, скорость обучения 0.1, количество листьев 20. Необходимо заметить, что обе вариации справились с обучением довольно быстро, но лучшее время показывает модель с глубиной -2. "
   ]
  },
  {
   "cell_type": "markdown",
   "metadata": {},
   "source": [
    "### Градиентный бустинг CatBoost"
   ]
  },
  {
   "cell_type": "markdown",
   "metadata": {},
   "source": [
    "Попробуем также модель CatBoostRegressor, которая интересна тем, что может работать с категориальными переменными напрямую. Обозначим признаки для неё `cb_features` и разделим данные на выборки для работы CatBoost."
   ]
  },
  {
   "cell_type": "code",
   "execution_count": 68,
   "metadata": {},
   "outputs": [],
   "source": [
    "cb_features = features\n",
    "\n",
    "# Отделим тренировочную выборку от тестово-валидационной\n",
    "cb_features_train, cb_features_tv, target_train, target_tv, = train_test_split(\n",
    "    cb_features, target, test_size=0.4, random_state=12345)\n",
    "\n",
    "# теперь поделим пополам тестово-валидационную выборку\n",
    "cb_features_valid, cb_features_test, target_valid, target_test = train_test_split(\n",
    "    cb_features_tv, target_tv, test_size=0.5, random_state=12345)\n"
   ]
  },
  {
   "cell_type": "markdown",
   "metadata": {},
   "source": [
    "Посмотрим, как будет работать CatBoostRegressor с параметрами по умолчанию."
   ]
  },
  {
   "cell_type": "code",
   "execution_count": 69,
   "metadata": {
    "scrolled": true
   },
   "outputs": [
    {
     "name": "stdout",
     "output_type": "stream",
     "text": [
      "Learning rate set to 0.5\n",
      "0:\tlearn: 3252.4583491\ttotal: 196ms\tremaining: 3.72s\n",
      "10:\tlearn: 1840.4970638\ttotal: 687ms\tremaining: 562ms\n",
      "19:\tlearn: 1764.2649818\ttotal: 1.14s\tremaining: 0us\n",
      "Wall time: 1.6 s\n"
     ]
    },
    {
     "data": {
      "text/plain": [
       "<catboost.core.CatBoostRegressor at 0x270b8adf850>"
      ]
     },
     "execution_count": 69,
     "metadata": {},
     "output_type": "execute_result"
    }
   ],
   "source": [
    "%%time\n",
    "model_cb = CatBoostRegressor(loss_function='RMSE', iterations=20)\n",
    "# укажем модели на категориальные признаки\n",
    "\n",
    "cat_features = ['VehicleType', 'Model', 'FuelType', 'Brand', 'Gearbox', 'Repaired']\n",
    "\n",
    "model_cb.fit(cb_features_train, target_train, cat_features=cat_features, \n",
    "             verbose=10)"
   ]
  },
  {
   "cell_type": "code",
   "execution_count": 70,
   "metadata": {},
   "outputs": [
    {
     "name": "stdout",
     "output_type": "stream",
     "text": [
      "Wall time: 123 ms\n"
     ]
    },
    {
     "data": {
      "text/plain": [
       "1781.7119695519862"
      ]
     },
     "execution_count": 70,
     "metadata": {},
     "output_type": "execute_result"
    }
   ],
   "source": [
    "%%time\n",
    "predicted_cb = model_cb.predict(cb_features_valid)\n",
    "qual_cb = mean_squared_error(target_valid, predicted_cb, squared=False)\n",
    "qual_cb"
   ]
  },
  {
   "cell_type": "markdown",
   "metadata": {},
   "source": [
    "Попробуем подобрать параметры таким образом, чтобы улучшить качество предсказаний."
   ]
  },
  {
   "cell_type": "code",
   "execution_count": 71,
   "metadata": {},
   "outputs": [
    {
     "name": "stdout",
     "output_type": "stream",
     "text": [
      "0:\tlearn: 4308.0263617\ttotal: 44.4ms\tremaining: 3.96s\n",
      "89:\tlearn: 1739.6303134\ttotal: 3.88s\tremaining: 0us\n",
      "0:\tlearn: 4298.5956343\ttotal: 44.4ms\tremaining: 3.96s\n",
      "89:\tlearn: 1735.7253185\ttotal: 3.91s\tremaining: 0us\n",
      "0:\tlearn: 4313.7363647\ttotal: 47.6ms\tremaining: 4.23s\n",
      "89:\tlearn: 1738.3895979\ttotal: 3.91s\tremaining: 0us\n",
      "0:\tlearn: 4315.4607471\ttotal: 45.4ms\tremaining: 4.04s\n",
      "89:\tlearn: 1731.1717286\ttotal: 3.91s\tremaining: 0us\n",
      "0:\tlearn: 4316.4597312\ttotal: 48.4ms\tremaining: 4.3s\n",
      "89:\tlearn: 1740.8979048\ttotal: 4.04s\tremaining: 0us\n",
      "0:\tlearn: 3744.3823107\ttotal: 49.4ms\tremaining: 4.4s\n",
      "89:\tlearn: 1609.1932448\ttotal: 4s\tremaining: 0us\n",
      "0:\tlearn: 3737.2608353\ttotal: 45.2ms\tremaining: 4.02s\n",
      "89:\tlearn: 1618.7799376\ttotal: 3.96s\tremaining: 0us\n",
      "0:\tlearn: 3753.8274228\ttotal: 44.5ms\tremaining: 3.96s\n",
      "89:\tlearn: 1618.8502961\ttotal: 3.98s\tremaining: 0us\n",
      "0:\tlearn: 3758.1193386\ttotal: 44.3ms\tremaining: 3.94s\n",
      "89:\tlearn: 1614.8502447\ttotal: 4.04s\tremaining: 0us\n",
      "0:\tlearn: 3754.0067044\ttotal: 46.3ms\tremaining: 4.12s\n",
      "89:\tlearn: 1620.4548902\ttotal: 3.9s\tremaining: 0us\n",
      "0:\tlearn: 3489.4891436\ttotal: 44.9ms\tremaining: 3.99s\n",
      "89:\tlearn: 1590.7617669\ttotal: 3.94s\tremaining: 0us\n",
      "0:\tlearn: 3483.4726668\ttotal: 44.3ms\tremaining: 3.94s\n",
      "89:\tlearn: 1592.7164132\ttotal: 3.93s\tremaining: 0us\n",
      "0:\tlearn: 3500.8750673\ttotal: 44.6ms\tremaining: 3.97s\n",
      "89:\tlearn: 1605.4100495\ttotal: 4s\tremaining: 0us\n",
      "0:\tlearn: 3506.4829425\ttotal: 45.2ms\tremaining: 4.02s\n",
      "89:\tlearn: 1591.1405609\ttotal: 3.91s\tremaining: 0us\n",
      "0:\tlearn: 3499.7816056\ttotal: 47.5ms\tremaining: 4.23s\n",
      "89:\tlearn: 1598.2438755\ttotal: 3.9s\tremaining: 0us\n",
      "0:\tlearn: 4308.0380024\ttotal: 45.5ms\tremaining: 4.05s\n",
      "89:\tlearn: 1737.0421841\ttotal: 3.92s\tremaining: 0us\n",
      "0:\tlearn: 4298.6079484\ttotal: 45.7ms\tremaining: 4.07s\n",
      "89:\tlearn: 1733.9403048\ttotal: 4.04s\tremaining: 0us\n",
      "0:\tlearn: 4313.7485890\ttotal: 44.9ms\tremaining: 3.99s\n",
      "89:\tlearn: 1744.8861326\ttotal: 3.99s\tremaining: 0us\n",
      "0:\tlearn: 4315.4712986\ttotal: 43.9ms\tremaining: 3.91s\n",
      "89:\tlearn: 1731.4827213\ttotal: 3.94s\tremaining: 0us\n",
      "0:\tlearn: 4316.4717350\ttotal: 45.9ms\tremaining: 4.08s\n",
      "89:\tlearn: 1741.2665605\ttotal: 3.92s\tremaining: 0us\n",
      "0:\tlearn: 3744.4135625\ttotal: 45.7ms\tremaining: 4.07s\n",
      "89:\tlearn: 1608.7985180\ttotal: 3.86s\tremaining: 0us\n",
      "0:\tlearn: 3737.2938860\ttotal: 44.5ms\tremaining: 3.96s\n",
      "89:\tlearn: 1615.2674980\ttotal: 3.85s\tremaining: 0us\n",
      "0:\tlearn: 3753.8602026\ttotal: 43ms\tremaining: 3.83s\n",
      "89:\tlearn: 1619.0490865\ttotal: 3.89s\tremaining: 0us\n",
      "0:\tlearn: 3758.1476117\ttotal: 43.8ms\tremaining: 3.89s\n",
      "89:\tlearn: 1616.3675965\ttotal: 3.89s\tremaining: 0us\n",
      "0:\tlearn: 3754.0389122\ttotal: 46.4ms\tremaining: 4.13s\n",
      "89:\tlearn: 1620.6538050\ttotal: 3.87s\tremaining: 0us\n",
      "0:\tlearn: 3489.5274704\ttotal: 42.7ms\tremaining: 3.8s\n",
      "89:\tlearn: 1584.6340944\ttotal: 3.85s\tremaining: 0us\n",
      "0:\tlearn: 3483.5131928\ttotal: 44.8ms\tremaining: 3.98s\n",
      "89:\tlearn: 1592.5412283\ttotal: 3.87s\tremaining: 0us\n",
      "0:\tlearn: 3500.9152389\ttotal: 44.5ms\tremaining: 3.96s\n",
      "89:\tlearn: 1602.0210891\ttotal: 3.86s\tremaining: 0us\n",
      "0:\tlearn: 3506.5175750\ttotal: 46.7ms\tremaining: 4.15s\n",
      "89:\tlearn: 1595.8807333\ttotal: 3.89s\tremaining: 0us\n",
      "0:\tlearn: 3499.8210904\ttotal: 42.8ms\tremaining: 3.81s\n",
      "89:\tlearn: 1600.3047201\ttotal: 3.84s\tremaining: 0us\n",
      "0:\tlearn: 4308.0729090\ttotal: 44.1ms\tremaining: 3.93s\n",
      "89:\tlearn: 1743.4354816\ttotal: 3.86s\tremaining: 0us\n",
      "0:\tlearn: 4298.6448724\ttotal: 43.9ms\tremaining: 3.9s\n",
      "89:\tlearn: 1744.6531573\ttotal: 3.79s\tremaining: 0us\n",
      "0:\tlearn: 4313.7852408\ttotal: 43.5ms\tremaining: 3.88s\n",
      "89:\tlearn: 1743.7211109\ttotal: 3.82s\tremaining: 0us\n",
      "0:\tlearn: 4315.5029372\ttotal: 44ms\tremaining: 3.92s\n",
      "89:\tlearn: 1734.8352672\ttotal: 3.8s\tremaining: 0us\n",
      "0:\tlearn: 4316.5077260\ttotal: 43.3ms\tremaining: 3.85s\n",
      "89:\tlearn: 1744.6178689\ttotal: 3.83s\tremaining: 0us\n",
      "0:\tlearn: 3744.5072825\ttotal: 43.9ms\tremaining: 3.91s\n",
      "89:\tlearn: 1607.3266185\ttotal: 3.87s\tremaining: 0us\n",
      "0:\tlearn: 3737.3929956\ttotal: 46.3ms\tremaining: 4.12s\n",
      "89:\tlearn: 1617.8072858\ttotal: 3.87s\tremaining: 0us\n",
      "0:\tlearn: 3753.9584944\ttotal: 42.6ms\tremaining: 3.79s\n",
      "89:\tlearn: 1620.8870816\ttotal: 3.86s\tremaining: 0us\n",
      "0:\tlearn: 3758.2323946\ttotal: 43.7ms\tremaining: 3.89s\n",
      "89:\tlearn: 1619.2309942\ttotal: 3.82s\tremaining: 0us\n",
      "0:\tlearn: 3754.1354883\ttotal: 42.7ms\tremaining: 3.8s\n",
      "89:\tlearn: 1623.0177704\ttotal: 3.84s\tremaining: 0us\n",
      "0:\tlearn: 3489.6424131\ttotal: 42.8ms\tremaining: 3.81s\n",
      "89:\tlearn: 1592.7008018\ttotal: 3.93s\tremaining: 0us\n",
      "0:\tlearn: 3483.6347254\ttotal: 43.8ms\tremaining: 3.89s\n",
      "89:\tlearn: 1590.7668624\ttotal: 3.9s\tremaining: 0us\n",
      "0:\tlearn: 3501.0357030\ttotal: 43.5ms\tremaining: 3.87s\n",
      "89:\tlearn: 1602.9434737\ttotal: 3.88s\tremaining: 0us\n",
      "0:\tlearn: 3506.6214340\ttotal: 44.4ms\tremaining: 3.95s\n",
      "89:\tlearn: 1598.1864789\ttotal: 3.89s\tremaining: 0us\n",
      "0:\tlearn: 3499.9394945\ttotal: 43.2ms\tremaining: 3.84s\n",
      "89:\tlearn: 1600.3714373\ttotal: 3.86s\tremaining: 0us\n",
      "0:\tlearn: 4290.8943190\ttotal: 59.2ms\tremaining: 5.27s\n",
      "89:\tlearn: 1663.6997644\ttotal: 5.13s\tremaining: 0us\n",
      "0:\tlearn: 4280.3624215\ttotal: 61.3ms\tremaining: 5.46s\n",
      "89:\tlearn: 1658.1501059\ttotal: 5.08s\tremaining: 0us\n",
      "0:\tlearn: 4293.5516864\ttotal: 55.9ms\tremaining: 4.97s\n",
      "89:\tlearn: 1665.4576685\ttotal: 5.11s\tremaining: 0us\n",
      "0:\tlearn: 4294.4764921\ttotal: 56.9ms\tremaining: 5.07s\n",
      "89:\tlearn: 1649.5151713\ttotal: 5.06s\tremaining: 0us\n",
      "0:\tlearn: 4296.7722735\ttotal: 57.1ms\tremaining: 5.08s\n",
      "89:\tlearn: 1664.9787849\ttotal: 5.08s\tremaining: 0us\n",
      "0:\tlearn: 3691.1938973\ttotal: 60.7ms\tremaining: 5.4s\n",
      "89:\tlearn: 1519.0236260\ttotal: 5.13s\tremaining: 0us\n",
      "0:\tlearn: 3680.6517512\ttotal: 59.3ms\tremaining: 5.28s\n",
      "89:\tlearn: 1520.7815716\ttotal: 5.15s\tremaining: 0us\n",
      "0:\tlearn: 3691.1875011\ttotal: 57.1ms\tremaining: 5.08s\n",
      "89:\tlearn: 1524.4576351\ttotal: 5.13s\tremaining: 0us\n",
      "0:\tlearn: 3693.0307924\ttotal: 56.1ms\tremaining: 4.99s\n",
      "89:\tlearn: 1520.9176850\ttotal: 5.09s\tremaining: 0us\n",
      "0:\tlearn: 3692.8826385\ttotal: 56.1ms\tremaining: 4.99s\n",
      "89:\tlearn: 1528.7073132\ttotal: 5.1s\tremaining: 0us\n",
      "0:\tlearn: 3417.6301218\ttotal: 61ms\tremaining: 5.43s\n",
      "89:\tlearn: 1491.9192326\ttotal: 5.16s\tremaining: 0us\n",
      "0:\tlearn: 3406.9903578\ttotal: 59.9ms\tremaining: 5.33s\n",
      "89:\tlearn: 1493.3057496\ttotal: 5.09s\tremaining: 0us\n",
      "0:\tlearn: 3416.2679394\ttotal: 57.8ms\tremaining: 5.14s\n",
      "89:\tlearn: 1495.7210473\ttotal: 5.12s\tremaining: 0us\n",
      "0:\tlearn: 3418.5961772\ttotal: 56.5ms\tremaining: 5.03s\n",
      "89:\tlearn: 1498.7130163\ttotal: 5.11s\tremaining: 0us\n",
      "0:\tlearn: 3417.1988932\ttotal: 56.3ms\tremaining: 5.01s\n",
      "89:\tlearn: 1500.9671755\ttotal: 5.11s\tremaining: 0us\n",
      "0:\tlearn: 4290.9247342\ttotal: 60.8ms\tremaining: 5.41s\n",
      "89:\tlearn: 1663.7609381\ttotal: 5.09s\tremaining: 0us\n",
      "0:\tlearn: 4280.3919926\ttotal: 59.3ms\tremaining: 5.27s\n",
      "89:\tlearn: 1667.2654533\ttotal: 5.06s\tremaining: 0us\n",
      "0:\tlearn: 4293.5682480\ttotal: 55.4ms\tremaining: 4.93s\n",
      "89:\tlearn: 1661.4826810\ttotal: 5.04s\tremaining: 0us\n",
      "0:\tlearn: 4294.4936737\ttotal: 55.9ms\tremaining: 4.97s\n",
      "89:\tlearn: 1647.0242457\ttotal: 5.03s\tremaining: 0us\n",
      "0:\tlearn: 4296.7894636\ttotal: 57.1ms\tremaining: 5.08s\n",
      "89:\tlearn: 1654.0546644\ttotal: 5.14s\tremaining: 0us\n",
      "0:\tlearn: 3691.2764249\ttotal: 59.7ms\tremaining: 5.31s\n",
      "89:\tlearn: 1521.6528981\ttotal: 5.18s\tremaining: 0us\n",
      "0:\tlearn: 3680.7320249\ttotal: 61.2ms\tremaining: 5.45s\n",
      "89:\tlearn: 1514.7124563\ttotal: 5.16s\tremaining: 0us\n",
      "0:\tlearn: 3691.2324622\ttotal: 56.3ms\tremaining: 5.01s\n",
      "89:\tlearn: 1525.9321951\ttotal: 5.11s\tremaining: 0us\n",
      "0:\tlearn: 3693.0774179\ttotal: 56.1ms\tremaining: 4.99s\n",
      "89:\tlearn: 1526.2344871\ttotal: 5.09s\tremaining: 0us\n",
      "0:\tlearn: 3692.9293147\ttotal: 57ms\tremaining: 5.07s\n",
      "89:\tlearn: 1532.5762625\ttotal: 5.34s\tremaining: 0us\n",
      "0:\tlearn: 3417.7320154\ttotal: 60.8ms\tremaining: 5.41s\n",
      "89:\tlearn: 1490.1265800\ttotal: 5.2s\tremaining: 0us\n",
      "0:\tlearn: 3407.0894979\ttotal: 60.1ms\tremaining: 5.35s\n",
      "89:\tlearn: 1496.5992419\ttotal: 5.18s\tremaining: 0us\n",
      "0:\tlearn: 3416.3234689\ttotal: 57.4ms\tremaining: 5.11s\n",
      "89:\tlearn: 1503.9410977\ttotal: 5.19s\tremaining: 0us\n",
      "0:\tlearn: 3418.6537469\ttotal: 61.2ms\tremaining: 5.44s\n",
      "89:\tlearn: 1502.1125958\ttotal: 5.17s\tremaining: 0us\n",
      "0:\tlearn: 3417.2565473\ttotal: 56.5ms\tremaining: 5.03s\n",
      "89:\tlearn: 1508.4889665\ttotal: 5.21s\tremaining: 0us\n",
      "0:\tlearn: 4291.0157233\ttotal: 60.8ms\tremaining: 5.42s\n",
      "89:\tlearn: 1662.5116387\ttotal: 5.09s\tremaining: 0us\n",
      "0:\tlearn: 4280.4804227\ttotal: 59.5ms\tremaining: 5.29s\n",
      "89:\tlearn: 1657.3819351\ttotal: 5.11s\tremaining: 0us\n",
      "0:\tlearn: 4293.6178349\ttotal: 56.7ms\tremaining: 5.05s\n",
      "89:\tlearn: 1663.7517058\ttotal: 5.17s\tremaining: 0us\n",
      "0:\tlearn: 4294.5451630\ttotal: 58.3ms\tremaining: 5.19s\n",
      "89:\tlearn: 1651.1672984\ttotal: 5.12s\tremaining: 0us\n",
      "0:\tlearn: 4296.8409729\ttotal: 58.1ms\tremaining: 5.17s\n",
      "89:\tlearn: 1657.0903918\ttotal: 5.11s\tremaining: 0us\n",
      "0:\tlearn: 3691.5234181\ttotal: 59.9ms\tremaining: 5.33s\n",
      "89:\tlearn: 1525.8519430\ttotal: 5.1s\tremaining: 0us\n",
      "0:\tlearn: 3680.9721942\ttotal: 59.7ms\tremaining: 5.31s\n",
      "89:\tlearn: 1524.2907302\ttotal: 5.12s\tremaining: 0us\n",
      "0:\tlearn: 3691.3671203\ttotal: 57.5ms\tremaining: 5.11s\n",
      "89:\tlearn: 1525.9362134\ttotal: 5.15s\tremaining: 0us\n",
      "0:\tlearn: 3693.2171665\ttotal: 56.5ms\tremaining: 5.03s\n",
      "89:\tlearn: 1527.1318543\ttotal: 5.15s\tremaining: 0us\n",
      "0:\tlearn: 3693.0692021\ttotal: 55.8ms\tremaining: 4.96s\n",
      "89:\tlearn: 1537.2475618\ttotal: 5.11s\tremaining: 0us\n",
      "0:\tlearn: 3418.0370692\ttotal: 59.3ms\tremaining: 5.27s\n",
      "89:\tlearn: 1492.1173352\ttotal: 5.15s\tremaining: 0us\n",
      "0:\tlearn: 3407.3862239\ttotal: 60.4ms\tremaining: 5.37s\n",
      "89:\tlearn: 1508.3233413\ttotal: 5.1s\tremaining: 0us\n",
      "0:\tlearn: 3416.4898177\ttotal: 55.6ms\tremaining: 4.95s\n",
      "89:\tlearn: 1508.0270342\ttotal: 5.09s\tremaining: 0us\n",
      "0:\tlearn: 3418.8263195\ttotal: 59.9ms\tremaining: 5.33s\n",
      "89:\tlearn: 1501.9753082\ttotal: 5.13s\tremaining: 0us\n",
      "0:\tlearn: 3417.4293591\ttotal: 56.7ms\tremaining: 5.04s\n",
      "89:\tlearn: 1503.3265563\ttotal: 5.09s\tremaining: 0us\n",
      "0:\tlearn: 4278.7672823\ttotal: 78.6ms\tremaining: 6.99s\n",
      "89:\tlearn: 1571.5374163\ttotal: 6.76s\tremaining: 0us\n",
      "0:\tlearn: 4266.7533953\ttotal: 79.4ms\tremaining: 7.07s\n",
      "89:\tlearn: 1579.9008999\ttotal: 6.71s\tremaining: 0us\n",
      "0:\tlearn: 4281.9556644\ttotal: 79.7ms\tremaining: 7.1s\n",
      "89:\tlearn: 1579.8928105\ttotal: 6.69s\tremaining: 0us\n",
      "0:\tlearn: 4281.7791844\ttotal: 79.2ms\tremaining: 7.05s\n",
      "89:\tlearn: 1564.4671656\ttotal: 6.73s\tremaining: 0us\n",
      "0:\tlearn: 4284.7799996\ttotal: 82.3ms\tremaining: 7.32s\n",
      "89:\tlearn: 1580.5681967\ttotal: 6.74s\tremaining: 0us\n",
      "0:\tlearn: 3653.2080588\ttotal: 79.2ms\tremaining: 7.04s\n",
      "89:\tlearn: 1412.7156522\ttotal: 6.78s\tremaining: 0us\n",
      "0:\tlearn: 3637.9877711\ttotal: 81ms\tremaining: 7.2s\n",
      "89:\tlearn: 1402.5879527\ttotal: 6.81s\tremaining: 0us\n",
      "0:\tlearn: 3654.8448901\ttotal: 80.6ms\tremaining: 7.17s\n",
      "89:\tlearn: 1422.5276170\ttotal: 6.79s\tremaining: 0us\n",
      "0:\tlearn: 3653.2338251\ttotal: 80.4ms\tremaining: 7.15s\n",
      "89:\tlearn: 1412.6215618\ttotal: 6.79s\tremaining: 0us\n",
      "0:\tlearn: 3655.2827759\ttotal: 79.4ms\tremaining: 7.06s\n",
      "89:\tlearn: 1427.2081542\ttotal: 6.8s\tremaining: 0us\n",
      "0:\tlearn: 3366.0181711\ttotal: 81ms\tremaining: 7.2s\n",
      "89:\tlearn: 1371.8791298\ttotal: 6.78s\tremaining: 0us\n",
      "0:\tlearn: 3348.9900828\ttotal: 80ms\tremaining: 7.12s\n",
      "89:\tlearn: 1375.9009733\ttotal: 6.9s\tremaining: 0us\n",
      "0:\tlearn: 3366.8712764\ttotal: 81.3ms\tremaining: 7.23s\n",
      "89:\tlearn: 1372.6928084\ttotal: 6.84s\tremaining: 0us\n",
      "0:\tlearn: 3364.5018123\ttotal: 80.9ms\tremaining: 7.2s\n",
      "89:\tlearn: 1379.6611210\ttotal: 6.86s\tremaining: 0us\n",
      "0:\tlearn: 3366.0797554\ttotal: 80.8ms\tremaining: 7.19s\n",
      "89:\tlearn: 1382.8634840\ttotal: 7.08s\tremaining: 0us\n",
      "0:\tlearn: 4278.8069992\ttotal: 83.5ms\tremaining: 7.43s\n",
      "89:\tlearn: 1579.0898334\ttotal: 7.1s\tremaining: 0us\n",
      "0:\tlearn: 4266.7898919\ttotal: 81.5ms\tremaining: 7.25s\n",
      "89:\tlearn: 1576.6020699\ttotal: 6.95s\tremaining: 0us\n",
      "0:\tlearn: 4281.9893237\ttotal: 84ms\tremaining: 7.48s\n",
      "89:\tlearn: 1586.6748606\ttotal: 6.93s\tremaining: 0us\n",
      "0:\tlearn: 4281.8166904\ttotal: 81.4ms\tremaining: 7.25s\n",
      "89:\tlearn: 1570.1129220\ttotal: 6.89s\tremaining: 0us\n",
      "0:\tlearn: 4284.8143846\ttotal: 83.7ms\tremaining: 7.45s\n",
      "89:\tlearn: 1574.8056782\ttotal: 6.86s\tremaining: 0us\n",
      "0:\tlearn: 3653.3166725\ttotal: 81.3ms\tremaining: 7.23s\n",
      "89:\tlearn: 1414.9029326\ttotal: 6.73s\tremaining: 0us\n",
      "0:\tlearn: 3638.0876998\ttotal: 81.3ms\tremaining: 7.23s\n",
      "89:\tlearn: 1414.8249458\ttotal: 6.96s\tremaining: 0us\n",
      "0:\tlearn: 3654.9369670\ttotal: 82.9ms\tremaining: 7.38s\n",
      "89:\tlearn: 1416.0042632\ttotal: 6.93s\tremaining: 0us\n",
      "0:\tlearn: 3653.3364350\ttotal: 81.6ms\tremaining: 7.26s\n",
      "89:\tlearn: 1420.7147700\ttotal: 6.95s\tremaining: 0us\n",
      "0:\tlearn: 3655.3768814\ttotal: 81.5ms\tremaining: 7.25s\n",
      "89:\tlearn: 1417.4405594\ttotal: 6.9s\tremaining: 0us\n",
      "0:\tlearn: 3366.1529593\ttotal: 82.6ms\tremaining: 7.35s\n",
      "89:\tlearn: 1380.8419344\ttotal: 6.85s\tremaining: 0us\n",
      "0:\tlearn: 3349.1141905\ttotal: 81.4ms\tremaining: 7.25s\n",
      "89:\tlearn: 1377.6382729\ttotal: 6.83s\tremaining: 0us\n",
      "0:\tlearn: 3366.9855666\ttotal: 81.2ms\tremaining: 7.23s\n",
      "89:\tlearn: 1385.4045255\ttotal: 6.85s\tremaining: 0us\n",
      "0:\tlearn: 3364.6291811\ttotal: 79.7ms\tremaining: 7.09s\n",
      "89:\tlearn: 1376.7203933\ttotal: 6.83s\tremaining: 0us\n",
      "0:\tlearn: 3366.1965976\ttotal: 82.7ms\tremaining: 7.36s\n",
      "89:\tlearn: 1384.2672452\ttotal: 6.86s\tremaining: 0us\n",
      "0:\tlearn: 4278.9255192\ttotal: 80.8ms\tremaining: 7.19s\n",
      "89:\tlearn: 1579.6612601\ttotal: 6.75s\tremaining: 0us\n",
      "0:\tlearn: 4266.8989281\ttotal: 81.5ms\tremaining: 7.25s\n",
      "89:\tlearn: 1579.3793202\ttotal: 6.75s\tremaining: 0us\n",
      "0:\tlearn: 4282.0897527\ttotal: 81.8ms\tremaining: 7.28s\n",
      "89:\tlearn: 1589.3811136\ttotal: 6.76s\tremaining: 0us\n",
      "0:\tlearn: 4281.9288611\ttotal: 79.5ms\tremaining: 7.08s\n",
      "89:\tlearn: 1582.5341415\ttotal: 6.74s\tremaining: 0us\n",
      "0:\tlearn: 4284.9170486\ttotal: 80.7ms\tremaining: 7.18s\n",
      "89:\tlearn: 1580.7095522\ttotal: 6.75s\tremaining: 0us\n",
      "0:\tlearn: 3653.6410534\ttotal: 80.3ms\tremaining: 7.15s\n",
      "89:\tlearn: 1422.1881359\ttotal: 6.75s\tremaining: 0us\n",
      "0:\tlearn: 3638.3864329\ttotal: 80.1ms\tremaining: 7.13s\n",
      "89:\tlearn: 1421.5407112\ttotal: 6.75s\tremaining: 0us\n",
      "0:\tlearn: 3655.2119292\ttotal: 82.6ms\tremaining: 7.36s\n",
      "89:\tlearn: 1435.2788946\ttotal: 6.79s\tremaining: 0us\n",
      "0:\tlearn: 3653.6434577\ttotal: 80.1ms\tremaining: 7.13s\n",
      "89:\tlearn: 1429.5988344\ttotal: 6.81s\tremaining: 0us\n",
      "0:\tlearn: 3655.6580569\ttotal: 81ms\tremaining: 7.21s\n",
      "89:\tlearn: 1435.5823138\ttotal: 6.78s\tremaining: 0us\n",
      "0:\tlearn: 3366.5557614\ttotal: 84.4ms\tremaining: 7.51s\n",
      "89:\tlearn: 1380.0367143\ttotal: 6.8s\tremaining: 0us\n",
      "0:\tlearn: 3349.4853854\ttotal: 83.2ms\tremaining: 7.41s\n",
      "89:\tlearn: 1390.7167100\ttotal: 6.8s\tremaining: 0us\n",
      "0:\tlearn: 3367.3270809\ttotal: 80.5ms\tremaining: 7.16s\n",
      "89:\tlearn: 1393.4242023\ttotal: 6.81s\tremaining: 0us\n",
      "0:\tlearn: 3365.0104220\ttotal: 80.6ms\tremaining: 7.18s\n",
      "89:\tlearn: 1390.7103494\ttotal: 6.86s\tremaining: 0us\n",
      "0:\tlearn: 3366.5459000\ttotal: 80.4ms\tremaining: 7.16s\n",
      "89:\tlearn: 1394.9938000\ttotal: 6.75s\tremaining: 0us\n",
      "0:\tlearn: 3652.4837722\ttotal: 84.4ms\tremaining: 7.51s\n",
      "89:\tlearn: 1435.8746985\ttotal: 7.41s\tremaining: 0us\n"
     ]
    }
   ],
   "source": [
    "# установим количество итераций вручную пока на 90\n",
    "model_cb = CatBoostRegressor(loss_function='RMSE', iterations=90, \n",
    "                             cat_features=cat_features, verbose=100,\n",
    "                            random_state=12345)\n",
    "params = {'l2_leaf_reg': [0.1, 0.2, 0.5],\n",
    "              'depth': [6, 8, 10],\n",
    "              'learning_rate': [0.1, 0.3, 0.4]}\n",
    "grid_cb = GridSearchCV(model_cb, params, cv=5, scoring='neg_root_mean_squared_error')\n",
    "grid_cb.fit(cb_features_train, target_train)\n",
    "\n",
    "cb_scores = pd.DataFrame(grid_cb.cv_results_)"
   ]
  },
  {
   "cell_type": "code",
   "execution_count": 72,
   "metadata": {},
   "outputs": [
    {
     "data": {
      "text/html": [
       "<div>\n",
       "<style scoped>\n",
       "    .dataframe tbody tr th:only-of-type {\n",
       "        vertical-align: middle;\n",
       "    }\n",
       "\n",
       "    .dataframe tbody tr th {\n",
       "        vertical-align: top;\n",
       "    }\n",
       "\n",
       "    .dataframe thead th {\n",
       "        text-align: right;\n",
       "    }\n",
       "</style>\n",
       "<table border=\"1\" class=\"dataframe\">\n",
       "  <thead>\n",
       "    <tr style=\"text-align: right;\">\n",
       "      <th></th>\n",
       "      <th>mean_fit_time</th>\n",
       "      <th>std_fit_time</th>\n",
       "      <th>mean_score_time</th>\n",
       "      <th>std_score_time</th>\n",
       "      <th>param_depth</th>\n",
       "      <th>param_l2_leaf_reg</th>\n",
       "      <th>param_learning_rate</th>\n",
       "      <th>params</th>\n",
       "      <th>split0_test_score</th>\n",
       "      <th>split1_test_score</th>\n",
       "      <th>split2_test_score</th>\n",
       "      <th>split3_test_score</th>\n",
       "      <th>split4_test_score</th>\n",
       "      <th>mean_test_score</th>\n",
       "      <th>std_test_score</th>\n",
       "      <th>rank_test_score</th>\n",
       "    </tr>\n",
       "  </thead>\n",
       "  <tbody>\n",
       "    <tr>\n",
       "      <th>0</th>\n",
       "      <td>4.319155</td>\n",
       "      <td>0.060723</td>\n",
       "      <td>0.074418</td>\n",
       "      <td>0.006118</td>\n",
       "      <td>6</td>\n",
       "      <td>0.1</td>\n",
       "      <td>0.1</td>\n",
       "      <td>{'depth': 6, 'l2_leaf_reg': 0.1, 'learning_rat...</td>\n",
       "      <td>-1770.559330</td>\n",
       "      <td>-1761.614896</td>\n",
       "      <td>-1734.644016</td>\n",
       "      <td>-1735.369277</td>\n",
       "      <td>-1727.694411</td>\n",
       "      <td>-1745.976386</td>\n",
       "      <td>16.876303</td>\n",
       "      <td>26</td>\n",
       "    </tr>\n",
       "    <tr>\n",
       "      <th>1</th>\n",
       "      <td>4.370860</td>\n",
       "      <td>0.047969</td>\n",
       "      <td>0.068537</td>\n",
       "      <td>0.009348</td>\n",
       "      <td>6</td>\n",
       "      <td>0.1</td>\n",
       "      <td>0.3</td>\n",
       "      <td>{'depth': 6, 'l2_leaf_reg': 0.1, 'learning_rat...</td>\n",
       "      <td>-1673.476807</td>\n",
       "      <td>-1675.174226</td>\n",
       "      <td>-1646.710477</td>\n",
       "      <td>-1648.084106</td>\n",
       "      <td>-1636.257905</td>\n",
       "      <td>-1655.940704</td>\n",
       "      <td>15.567781</td>\n",
       "      <td>19</td>\n",
       "    </tr>\n",
       "    <tr>\n",
       "      <th>2</th>\n",
       "      <td>4.325306</td>\n",
       "      <td>0.026736</td>\n",
       "      <td>0.075763</td>\n",
       "      <td>0.008191</td>\n",
       "      <td>6</td>\n",
       "      <td>0.1</td>\n",
       "      <td>0.4</td>\n",
       "      <td>{'depth': 6, 'l2_leaf_reg': 0.1, 'learning_rat...</td>\n",
       "      <td>-1665.500906</td>\n",
       "      <td>-1658.643105</td>\n",
       "      <td>-1644.738706</td>\n",
       "      <td>-1630.828454</td>\n",
       "      <td>-1626.278488</td>\n",
       "      <td>-1645.197932</td>\n",
       "      <td>15.215923</td>\n",
       "      <td>13</td>\n",
       "    </tr>\n",
       "    <tr>\n",
       "      <th>3</th>\n",
       "      <td>4.347306</td>\n",
       "      <td>0.048979</td>\n",
       "      <td>0.071098</td>\n",
       "      <td>0.004503</td>\n",
       "      <td>6</td>\n",
       "      <td>0.2</td>\n",
       "      <td>0.1</td>\n",
       "      <td>{'depth': 6, 'l2_leaf_reg': 0.2, 'learning_rat...</td>\n",
       "      <td>-1766.994938</td>\n",
       "      <td>-1758.310817</td>\n",
       "      <td>-1738.598623</td>\n",
       "      <td>-1736.007132</td>\n",
       "      <td>-1727.843316</td>\n",
       "      <td>-1745.550965</td>\n",
       "      <td>14.667232</td>\n",
       "      <td>25</td>\n",
       "    </tr>\n",
       "    <tr>\n",
       "      <th>4</th>\n",
       "      <td>4.247577</td>\n",
       "      <td>0.013669</td>\n",
       "      <td>0.071904</td>\n",
       "      <td>0.007624</td>\n",
       "      <td>6</td>\n",
       "      <td>0.2</td>\n",
       "      <td>0.3</td>\n",
       "      <td>{'depth': 6, 'l2_leaf_reg': 0.2, 'learning_rat...</td>\n",
       "      <td>-1669.143384</td>\n",
       "      <td>-1672.164164</td>\n",
       "      <td>-1648.440425</td>\n",
       "      <td>-1654.145309</td>\n",
       "      <td>-1640.502934</td>\n",
       "      <td>-1656.879243</td>\n",
       "      <td>12.090571</td>\n",
       "      <td>20</td>\n",
       "    </tr>\n",
       "    <tr>\n",
       "      <th>5</th>\n",
       "      <td>4.235367</td>\n",
       "      <td>0.018216</td>\n",
       "      <td>0.071916</td>\n",
       "      <td>0.007610</td>\n",
       "      <td>6</td>\n",
       "      <td>0.2</td>\n",
       "      <td>0.4</td>\n",
       "      <td>{'depth': 6, 'l2_leaf_reg': 0.2, 'learning_rat...</td>\n",
       "      <td>-1671.407618</td>\n",
       "      <td>-1657.172795</td>\n",
       "      <td>-1648.299801</td>\n",
       "      <td>-1646.780703</td>\n",
       "      <td>-1629.536185</td>\n",
       "      <td>-1650.639420</td>\n",
       "      <td>13.709216</td>\n",
       "      <td>18</td>\n",
       "    </tr>\n",
       "    <tr>\n",
       "      <th>6</th>\n",
       "      <td>4.194137</td>\n",
       "      <td>0.022314</td>\n",
       "      <td>0.066492</td>\n",
       "      <td>0.006043</td>\n",
       "      <td>6</td>\n",
       "      <td>0.5</td>\n",
       "      <td>0.1</td>\n",
       "      <td>{'depth': 6, 'l2_leaf_reg': 0.5, 'learning_rat...</td>\n",
       "      <td>-1773.976055</td>\n",
       "      <td>-1767.245505</td>\n",
       "      <td>-1737.822109</td>\n",
       "      <td>-1736.620007</td>\n",
       "      <td>-1733.809043</td>\n",
       "      <td>-1749.894544</td>\n",
       "      <td>17.097809</td>\n",
       "      <td>27</td>\n",
       "    </tr>\n",
       "    <tr>\n",
       "      <th>7</th>\n",
       "      <td>4.228069</td>\n",
       "      <td>0.018530</td>\n",
       "      <td>0.075005</td>\n",
       "      <td>0.006254</td>\n",
       "      <td>6</td>\n",
       "      <td>0.5</td>\n",
       "      <td>0.3</td>\n",
       "      <td>{'depth': 6, 'l2_leaf_reg': 0.5, 'learning_rat...</td>\n",
       "      <td>-1670.795399</td>\n",
       "      <td>-1673.272420</td>\n",
       "      <td>-1645.906801</td>\n",
       "      <td>-1654.208435</td>\n",
       "      <td>-1640.936036</td>\n",
       "      <td>-1657.023818</td>\n",
       "      <td>12.992342</td>\n",
       "      <td>21</td>\n",
       "    </tr>\n",
       "    <tr>\n",
       "      <th>8</th>\n",
       "      <td>4.266921</td>\n",
       "      <td>0.024580</td>\n",
       "      <td>0.073484</td>\n",
       "      <td>0.006015</td>\n",
       "      <td>6</td>\n",
       "      <td>0.5</td>\n",
       "      <td>0.4</td>\n",
       "      <td>{'depth': 6, 'l2_leaf_reg': 0.5, 'learning_rat...</td>\n",
       "      <td>-1664.052083</td>\n",
       "      <td>-1651.810692</td>\n",
       "      <td>-1649.548973</td>\n",
       "      <td>-1639.494347</td>\n",
       "      <td>-1621.801813</td>\n",
       "      <td>-1645.341582</td>\n",
       "      <td>14.127599</td>\n",
       "      <td>14</td>\n",
       "    </tr>\n",
       "    <tr>\n",
       "      <th>9</th>\n",
       "      <td>5.477193</td>\n",
       "      <td>0.022503</td>\n",
       "      <td>0.068755</td>\n",
       "      <td>0.007654</td>\n",
       "      <td>8</td>\n",
       "      <td>0.1</td>\n",
       "      <td>0.1</td>\n",
       "      <td>{'depth': 8, 'l2_leaf_reg': 0.1, 'learning_rat...</td>\n",
       "      <td>-1712.128964</td>\n",
       "      <td>-1706.535663</td>\n",
       "      <td>-1683.917210</td>\n",
       "      <td>-1675.335469</td>\n",
       "      <td>-1670.123117</td>\n",
       "      <td>-1689.608084</td>\n",
       "      <td>16.789821</td>\n",
       "      <td>24</td>\n",
       "    </tr>\n",
       "    <tr>\n",
       "      <th>10</th>\n",
       "      <td>5.498846</td>\n",
       "      <td>0.025088</td>\n",
       "      <td>0.071877</td>\n",
       "      <td>0.007649</td>\n",
       "      <td>8</td>\n",
       "      <td>0.1</td>\n",
       "      <td>0.3</td>\n",
       "      <td>{'depth': 8, 'l2_leaf_reg': 0.1, 'learning_rat...</td>\n",
       "      <td>-1640.666963</td>\n",
       "      <td>-1632.762961</td>\n",
       "      <td>-1613.105763</td>\n",
       "      <td>-1612.655965</td>\n",
       "      <td>-1601.757294</td>\n",
       "      <td>-1620.189789</td>\n",
       "      <td>14.311521</td>\n",
       "      <td>12</td>\n",
       "    </tr>\n",
       "    <tr>\n",
       "      <th>11</th>\n",
       "      <td>5.505748</td>\n",
       "      <td>0.023934</td>\n",
       "      <td>0.065630</td>\n",
       "      <td>0.006250</td>\n",
       "      <td>8</td>\n",
       "      <td>0.1</td>\n",
       "      <td>0.4</td>\n",
       "      <td>{'depth': 8, 'l2_leaf_reg': 0.1, 'learning_rat...</td>\n",
       "      <td>-1639.971439</td>\n",
       "      <td>-1630.227460</td>\n",
       "      <td>-1608.729964</td>\n",
       "      <td>-1611.318261</td>\n",
       "      <td>-1594.460968</td>\n",
       "      <td>-1616.941619</td>\n",
       "      <td>16.194563</td>\n",
       "      <td>10</td>\n",
       "    </tr>\n",
       "    <tr>\n",
       "      <th>12</th>\n",
       "      <td>5.447289</td>\n",
       "      <td>0.041839</td>\n",
       "      <td>0.075002</td>\n",
       "      <td>0.006250</td>\n",
       "      <td>8</td>\n",
       "      <td>0.2</td>\n",
       "      <td>0.1</td>\n",
       "      <td>{'depth': 8, 'l2_leaf_reg': 0.2, 'learning_rat...</td>\n",
       "      <td>-1712.678562</td>\n",
       "      <td>-1710.047387</td>\n",
       "      <td>-1681.493770</td>\n",
       "      <td>-1678.165260</td>\n",
       "      <td>-1665.301785</td>\n",
       "      <td>-1689.537353</td>\n",
       "      <td>18.641693</td>\n",
       "      <td>23</td>\n",
       "    </tr>\n",
       "    <tr>\n",
       "      <th>13</th>\n",
       "      <td>5.553871</td>\n",
       "      <td>0.093648</td>\n",
       "      <td>0.071879</td>\n",
       "      <td>0.007653</td>\n",
       "      <td>8</td>\n",
       "      <td>0.2</td>\n",
       "      <td>0.3</td>\n",
       "      <td>{'depth': 8, 'l2_leaf_reg': 0.2, 'learning_rat...</td>\n",
       "      <td>-1638.272326</td>\n",
       "      <td>-1630.636289</td>\n",
       "      <td>-1609.005545</td>\n",
       "      <td>-1613.786945</td>\n",
       "      <td>-1602.868885</td>\n",
       "      <td>-1618.913998</td>\n",
       "      <td>13.372111</td>\n",
       "      <td>11</td>\n",
       "    </tr>\n",
       "    <tr>\n",
       "      <th>14</th>\n",
       "      <td>5.566239</td>\n",
       "      <td>0.018351</td>\n",
       "      <td>0.075007</td>\n",
       "      <td>0.006248</td>\n",
       "      <td>8</td>\n",
       "      <td>0.2</td>\n",
       "      <td>0.4</td>\n",
       "      <td>{'depth': 8, 'l2_leaf_reg': 0.2, 'learning_rat...</td>\n",
       "      <td>-1631.170525</td>\n",
       "      <td>-1634.135197</td>\n",
       "      <td>-1609.900097</td>\n",
       "      <td>-1605.980892</td>\n",
       "      <td>-1602.814472</td>\n",
       "      <td>-1616.800237</td>\n",
       "      <td>13.170253</td>\n",
       "      <td>8</td>\n",
       "    </tr>\n",
       "    <tr>\n",
       "      <th>15</th>\n",
       "      <td>5.506077</td>\n",
       "      <td>0.025242</td>\n",
       "      <td>0.071876</td>\n",
       "      <td>0.007657</td>\n",
       "      <td>8</td>\n",
       "      <td>0.5</td>\n",
       "      <td>0.1</td>\n",
       "      <td>{'depth': 8, 'l2_leaf_reg': 0.5, 'learning_rat...</td>\n",
       "      <td>-1713.697270</td>\n",
       "      <td>-1699.935670</td>\n",
       "      <td>-1682.320346</td>\n",
       "      <td>-1678.776236</td>\n",
       "      <td>-1664.902708</td>\n",
       "      <td>-1687.926446</td>\n",
       "      <td>17.050537</td>\n",
       "      <td>22</td>\n",
       "    </tr>\n",
       "    <tr>\n",
       "      <th>16</th>\n",
       "      <td>5.505247</td>\n",
       "      <td>0.026340</td>\n",
       "      <td>0.074993</td>\n",
       "      <td>0.006307</td>\n",
       "      <td>8</td>\n",
       "      <td>0.5</td>\n",
       "      <td>0.3</td>\n",
       "      <td>{'depth': 8, 'l2_leaf_reg': 0.5, 'learning_rat...</td>\n",
       "      <td>-1636.694960</td>\n",
       "      <td>-1627.935685</td>\n",
       "      <td>-1605.667657</td>\n",
       "      <td>-1607.096021</td>\n",
       "      <td>-1604.573255</td>\n",
       "      <td>-1616.393515</td>\n",
       "      <td>13.315978</td>\n",
       "      <td>7</td>\n",
       "    </tr>\n",
       "    <tr>\n",
       "      <th>17</th>\n",
       "      <td>5.495410</td>\n",
       "      <td>0.025269</td>\n",
       "      <td>0.068753</td>\n",
       "      <td>0.007655</td>\n",
       "      <td>8</td>\n",
       "      <td>0.5</td>\n",
       "      <td>0.4</td>\n",
       "      <td>{'depth': 8, 'l2_leaf_reg': 0.5, 'learning_rat...</td>\n",
       "      <td>-1631.635539</td>\n",
       "      <td>-1635.130711</td>\n",
       "      <td>-1613.574498</td>\n",
       "      <td>-1609.448489</td>\n",
       "      <td>-1594.690772</td>\n",
       "      <td>-1616.896002</td>\n",
       "      <td>14.895158</td>\n",
       "      <td>9</td>\n",
       "    </tr>\n",
       "    <tr>\n",
       "      <th>18</th>\n",
       "      <td>7.120989</td>\n",
       "      <td>0.023670</td>\n",
       "      <td>0.076588</td>\n",
       "      <td>0.003019</td>\n",
       "      <td>10</td>\n",
       "      <td>0.1</td>\n",
       "      <td>0.1</td>\n",
       "      <td>{'depth': 10, 'l2_leaf_reg': 0.1, 'learning_ra...</td>\n",
       "      <td>-1671.372086</td>\n",
       "      <td>-1668.447173</td>\n",
       "      <td>-1643.939158</td>\n",
       "      <td>-1629.792074</td>\n",
       "      <td>-1627.182639</td>\n",
       "      <td>-1648.146626</td>\n",
       "      <td>18.684835</td>\n",
       "      <td>15</td>\n",
       "    </tr>\n",
       "    <tr>\n",
       "      <th>19</th>\n",
       "      <td>7.190179</td>\n",
       "      <td>0.009571</td>\n",
       "      <td>0.074977</td>\n",
       "      <td>0.006237</td>\n",
       "      <td>10</td>\n",
       "      <td>0.1</td>\n",
       "      <td>0.3</td>\n",
       "      <td>{'depth': 10, 'l2_leaf_reg': 0.1, 'learning_ra...</td>\n",
       "      <td>-1616.812866</td>\n",
       "      <td>-1615.796704</td>\n",
       "      <td>-1602.634347</td>\n",
       "      <td>-1603.507180</td>\n",
       "      <td>-1583.766873</td>\n",
       "      <td>-1604.503594</td>\n",
       "      <td>11.946138</td>\n",
       "      <td>4</td>\n",
       "    </tr>\n",
       "    <tr>\n",
       "      <th>20</th>\n",
       "      <td>7.292683</td>\n",
       "      <td>0.110489</td>\n",
       "      <td>0.078255</td>\n",
       "      <td>0.000385</td>\n",
       "      <td>10</td>\n",
       "      <td>0.1</td>\n",
       "      <td>0.4</td>\n",
       "      <td>{'depth': 10, 'l2_leaf_reg': 0.1, 'learning_ra...</td>\n",
       "      <td>-1625.185678</td>\n",
       "      <td>-1622.884528</td>\n",
       "      <td>-1594.323796</td>\n",
       "      <td>-1601.732267</td>\n",
       "      <td>-1589.254606</td>\n",
       "      <td>-1606.676175</td>\n",
       "      <td>14.736669</td>\n",
       "      <td>6</td>\n",
       "    </tr>\n",
       "    <tr>\n",
       "      <th>21</th>\n",
       "      <td>7.346817</td>\n",
       "      <td>0.092389</td>\n",
       "      <td>0.074978</td>\n",
       "      <td>0.006238</td>\n",
       "      <td>10</td>\n",
       "      <td>0.2</td>\n",
       "      <td>0.1</td>\n",
       "      <td>{'depth': 10, 'l2_leaf_reg': 0.2, 'learning_ra...</td>\n",
       "      <td>-1671.960230</td>\n",
       "      <td>-1664.142758</td>\n",
       "      <td>-1646.097813</td>\n",
       "      <td>-1631.511108</td>\n",
       "      <td>-1627.801364</td>\n",
       "      <td>-1648.302655</td>\n",
       "      <td>17.422457</td>\n",
       "      <td>16</td>\n",
       "    </tr>\n",
       "    <tr>\n",
       "      <th>22</th>\n",
       "      <td>7.294784</td>\n",
       "      <td>0.079659</td>\n",
       "      <td>0.078127</td>\n",
       "      <td>0.000077</td>\n",
       "      <td>10</td>\n",
       "      <td>0.2</td>\n",
       "      <td>0.3</td>\n",
       "      <td>{'depth': 10, 'l2_leaf_reg': 0.2, 'learning_ra...</td>\n",
       "      <td>-1622.867737</td>\n",
       "      <td>-1609.815090</td>\n",
       "      <td>-1582.114872</td>\n",
       "      <td>-1595.591310</td>\n",
       "      <td>-1576.618743</td>\n",
       "      <td>-1597.401550</td>\n",
       "      <td>17.155216</td>\n",
       "      <td>1</td>\n",
       "    </tr>\n",
       "    <tr>\n",
       "      <th>23</th>\n",
       "      <td>7.239036</td>\n",
       "      <td>0.016439</td>\n",
       "      <td>0.071879</td>\n",
       "      <td>0.007655</td>\n",
       "      <td>10</td>\n",
       "      <td>0.2</td>\n",
       "      <td>0.4</td>\n",
       "      <td>{'depth': 10, 'l2_leaf_reg': 0.2, 'learning_ra...</td>\n",
       "      <td>-1617.706868</td>\n",
       "      <td>-1625.744793</td>\n",
       "      <td>-1599.104468</td>\n",
       "      <td>-1604.449412</td>\n",
       "      <td>-1583.960564</td>\n",
       "      <td>-1606.193221</td>\n",
       "      <td>14.576765</td>\n",
       "      <td>5</td>\n",
       "    </tr>\n",
       "    <tr>\n",
       "      <th>24</th>\n",
       "      <td>7.149661</td>\n",
       "      <td>0.017003</td>\n",
       "      <td>0.075009</td>\n",
       "      <td>0.006252</td>\n",
       "      <td>10</td>\n",
       "      <td>0.5</td>\n",
       "      <td>0.1</td>\n",
       "      <td>{'depth': 10, 'l2_leaf_reg': 0.5, 'learning_ra...</td>\n",
       "      <td>-1669.895637</td>\n",
       "      <td>-1665.708351</td>\n",
       "      <td>-1646.957689</td>\n",
       "      <td>-1636.144563</td>\n",
       "      <td>-1626.197495</td>\n",
       "      <td>-1648.980747</td>\n",
       "      <td>16.764142</td>\n",
       "      <td>17</td>\n",
       "    </tr>\n",
       "    <tr>\n",
       "      <th>25</th>\n",
       "      <td>7.169805</td>\n",
       "      <td>0.023938</td>\n",
       "      <td>0.068727</td>\n",
       "      <td>0.007620</td>\n",
       "      <td>10</td>\n",
       "      <td>0.5</td>\n",
       "      <td>0.3</td>\n",
       "      <td>{'depth': 10, 'l2_leaf_reg': 0.5, 'learning_ra...</td>\n",
       "      <td>-1622.206688</td>\n",
       "      <td>-1617.895159</td>\n",
       "      <td>-1589.530917</td>\n",
       "      <td>-1590.584086</td>\n",
       "      <td>-1580.309763</td>\n",
       "      <td>-1600.105323</td>\n",
       "      <td>16.728926</td>\n",
       "      <td>2</td>\n",
       "    </tr>\n",
       "    <tr>\n",
       "      <th>26</th>\n",
       "      <td>7.196934</td>\n",
       "      <td>0.035546</td>\n",
       "      <td>0.075004</td>\n",
       "      <td>0.006251</td>\n",
       "      <td>10</td>\n",
       "      <td>0.5</td>\n",
       "      <td>0.4</td>\n",
       "      <td>{'depth': 10, 'l2_leaf_reg': 0.5, 'learning_ra...</td>\n",
       "      <td>-1618.758720</td>\n",
       "      <td>-1625.358550</td>\n",
       "      <td>-1592.066396</td>\n",
       "      <td>-1595.784250</td>\n",
       "      <td>-1578.384372</td>\n",
       "      <td>-1602.070458</td>\n",
       "      <td>17.443977</td>\n",
       "      <td>3</td>\n",
       "    </tr>\n",
       "  </tbody>\n",
       "</table>\n",
       "</div>"
      ],
      "text/plain": [
       "    mean_fit_time  std_fit_time  mean_score_time  std_score_time param_depth  \\\n",
       "0        4.319155      0.060723         0.074418        0.006118           6   \n",
       "1        4.370860      0.047969         0.068537        0.009348           6   \n",
       "2        4.325306      0.026736         0.075763        0.008191           6   \n",
       "3        4.347306      0.048979         0.071098        0.004503           6   \n",
       "4        4.247577      0.013669         0.071904        0.007624           6   \n",
       "5        4.235367      0.018216         0.071916        0.007610           6   \n",
       "6        4.194137      0.022314         0.066492        0.006043           6   \n",
       "7        4.228069      0.018530         0.075005        0.006254           6   \n",
       "8        4.266921      0.024580         0.073484        0.006015           6   \n",
       "9        5.477193      0.022503         0.068755        0.007654           8   \n",
       "10       5.498846      0.025088         0.071877        0.007649           8   \n",
       "11       5.505748      0.023934         0.065630        0.006250           8   \n",
       "12       5.447289      0.041839         0.075002        0.006250           8   \n",
       "13       5.553871      0.093648         0.071879        0.007653           8   \n",
       "14       5.566239      0.018351         0.075007        0.006248           8   \n",
       "15       5.506077      0.025242         0.071876        0.007657           8   \n",
       "16       5.505247      0.026340         0.074993        0.006307           8   \n",
       "17       5.495410      0.025269         0.068753        0.007655           8   \n",
       "18       7.120989      0.023670         0.076588        0.003019          10   \n",
       "19       7.190179      0.009571         0.074977        0.006237          10   \n",
       "20       7.292683      0.110489         0.078255        0.000385          10   \n",
       "21       7.346817      0.092389         0.074978        0.006238          10   \n",
       "22       7.294784      0.079659         0.078127        0.000077          10   \n",
       "23       7.239036      0.016439         0.071879        0.007655          10   \n",
       "24       7.149661      0.017003         0.075009        0.006252          10   \n",
       "25       7.169805      0.023938         0.068727        0.007620          10   \n",
       "26       7.196934      0.035546         0.075004        0.006251          10   \n",
       "\n",
       "   param_l2_leaf_reg param_learning_rate  \\\n",
       "0                0.1                 0.1   \n",
       "1                0.1                 0.3   \n",
       "2                0.1                 0.4   \n",
       "3                0.2                 0.1   \n",
       "4                0.2                 0.3   \n",
       "5                0.2                 0.4   \n",
       "6                0.5                 0.1   \n",
       "7                0.5                 0.3   \n",
       "8                0.5                 0.4   \n",
       "9                0.1                 0.1   \n",
       "10               0.1                 0.3   \n",
       "11               0.1                 0.4   \n",
       "12               0.2                 0.1   \n",
       "13               0.2                 0.3   \n",
       "14               0.2                 0.4   \n",
       "15               0.5                 0.1   \n",
       "16               0.5                 0.3   \n",
       "17               0.5                 0.4   \n",
       "18               0.1                 0.1   \n",
       "19               0.1                 0.3   \n",
       "20               0.1                 0.4   \n",
       "21               0.2                 0.1   \n",
       "22               0.2                 0.3   \n",
       "23               0.2                 0.4   \n",
       "24               0.5                 0.1   \n",
       "25               0.5                 0.3   \n",
       "26               0.5                 0.4   \n",
       "\n",
       "                                               params  split0_test_score  \\\n",
       "0   {'depth': 6, 'l2_leaf_reg': 0.1, 'learning_rat...       -1770.559330   \n",
       "1   {'depth': 6, 'l2_leaf_reg': 0.1, 'learning_rat...       -1673.476807   \n",
       "2   {'depth': 6, 'l2_leaf_reg': 0.1, 'learning_rat...       -1665.500906   \n",
       "3   {'depth': 6, 'l2_leaf_reg': 0.2, 'learning_rat...       -1766.994938   \n",
       "4   {'depth': 6, 'l2_leaf_reg': 0.2, 'learning_rat...       -1669.143384   \n",
       "5   {'depth': 6, 'l2_leaf_reg': 0.2, 'learning_rat...       -1671.407618   \n",
       "6   {'depth': 6, 'l2_leaf_reg': 0.5, 'learning_rat...       -1773.976055   \n",
       "7   {'depth': 6, 'l2_leaf_reg': 0.5, 'learning_rat...       -1670.795399   \n",
       "8   {'depth': 6, 'l2_leaf_reg': 0.5, 'learning_rat...       -1664.052083   \n",
       "9   {'depth': 8, 'l2_leaf_reg': 0.1, 'learning_rat...       -1712.128964   \n",
       "10  {'depth': 8, 'l2_leaf_reg': 0.1, 'learning_rat...       -1640.666963   \n",
       "11  {'depth': 8, 'l2_leaf_reg': 0.1, 'learning_rat...       -1639.971439   \n",
       "12  {'depth': 8, 'l2_leaf_reg': 0.2, 'learning_rat...       -1712.678562   \n",
       "13  {'depth': 8, 'l2_leaf_reg': 0.2, 'learning_rat...       -1638.272326   \n",
       "14  {'depth': 8, 'l2_leaf_reg': 0.2, 'learning_rat...       -1631.170525   \n",
       "15  {'depth': 8, 'l2_leaf_reg': 0.5, 'learning_rat...       -1713.697270   \n",
       "16  {'depth': 8, 'l2_leaf_reg': 0.5, 'learning_rat...       -1636.694960   \n",
       "17  {'depth': 8, 'l2_leaf_reg': 0.5, 'learning_rat...       -1631.635539   \n",
       "18  {'depth': 10, 'l2_leaf_reg': 0.1, 'learning_ra...       -1671.372086   \n",
       "19  {'depth': 10, 'l2_leaf_reg': 0.1, 'learning_ra...       -1616.812866   \n",
       "20  {'depth': 10, 'l2_leaf_reg': 0.1, 'learning_ra...       -1625.185678   \n",
       "21  {'depth': 10, 'l2_leaf_reg': 0.2, 'learning_ra...       -1671.960230   \n",
       "22  {'depth': 10, 'l2_leaf_reg': 0.2, 'learning_ra...       -1622.867737   \n",
       "23  {'depth': 10, 'l2_leaf_reg': 0.2, 'learning_ra...       -1617.706868   \n",
       "24  {'depth': 10, 'l2_leaf_reg': 0.5, 'learning_ra...       -1669.895637   \n",
       "25  {'depth': 10, 'l2_leaf_reg': 0.5, 'learning_ra...       -1622.206688   \n",
       "26  {'depth': 10, 'l2_leaf_reg': 0.5, 'learning_ra...       -1618.758720   \n",
       "\n",
       "    split1_test_score  split2_test_score  split3_test_score  \\\n",
       "0        -1761.614896       -1734.644016       -1735.369277   \n",
       "1        -1675.174226       -1646.710477       -1648.084106   \n",
       "2        -1658.643105       -1644.738706       -1630.828454   \n",
       "3        -1758.310817       -1738.598623       -1736.007132   \n",
       "4        -1672.164164       -1648.440425       -1654.145309   \n",
       "5        -1657.172795       -1648.299801       -1646.780703   \n",
       "6        -1767.245505       -1737.822109       -1736.620007   \n",
       "7        -1673.272420       -1645.906801       -1654.208435   \n",
       "8        -1651.810692       -1649.548973       -1639.494347   \n",
       "9        -1706.535663       -1683.917210       -1675.335469   \n",
       "10       -1632.762961       -1613.105763       -1612.655965   \n",
       "11       -1630.227460       -1608.729964       -1611.318261   \n",
       "12       -1710.047387       -1681.493770       -1678.165260   \n",
       "13       -1630.636289       -1609.005545       -1613.786945   \n",
       "14       -1634.135197       -1609.900097       -1605.980892   \n",
       "15       -1699.935670       -1682.320346       -1678.776236   \n",
       "16       -1627.935685       -1605.667657       -1607.096021   \n",
       "17       -1635.130711       -1613.574498       -1609.448489   \n",
       "18       -1668.447173       -1643.939158       -1629.792074   \n",
       "19       -1615.796704       -1602.634347       -1603.507180   \n",
       "20       -1622.884528       -1594.323796       -1601.732267   \n",
       "21       -1664.142758       -1646.097813       -1631.511108   \n",
       "22       -1609.815090       -1582.114872       -1595.591310   \n",
       "23       -1625.744793       -1599.104468       -1604.449412   \n",
       "24       -1665.708351       -1646.957689       -1636.144563   \n",
       "25       -1617.895159       -1589.530917       -1590.584086   \n",
       "26       -1625.358550       -1592.066396       -1595.784250   \n",
       "\n",
       "    split4_test_score  mean_test_score  std_test_score  rank_test_score  \n",
       "0        -1727.694411     -1745.976386       16.876303               26  \n",
       "1        -1636.257905     -1655.940704       15.567781               19  \n",
       "2        -1626.278488     -1645.197932       15.215923               13  \n",
       "3        -1727.843316     -1745.550965       14.667232               25  \n",
       "4        -1640.502934     -1656.879243       12.090571               20  \n",
       "5        -1629.536185     -1650.639420       13.709216               18  \n",
       "6        -1733.809043     -1749.894544       17.097809               27  \n",
       "7        -1640.936036     -1657.023818       12.992342               21  \n",
       "8        -1621.801813     -1645.341582       14.127599               14  \n",
       "9        -1670.123117     -1689.608084       16.789821               24  \n",
       "10       -1601.757294     -1620.189789       14.311521               12  \n",
       "11       -1594.460968     -1616.941619       16.194563               10  \n",
       "12       -1665.301785     -1689.537353       18.641693               23  \n",
       "13       -1602.868885     -1618.913998       13.372111               11  \n",
       "14       -1602.814472     -1616.800237       13.170253                8  \n",
       "15       -1664.902708     -1687.926446       17.050537               22  \n",
       "16       -1604.573255     -1616.393515       13.315978                7  \n",
       "17       -1594.690772     -1616.896002       14.895158                9  \n",
       "18       -1627.182639     -1648.146626       18.684835               15  \n",
       "19       -1583.766873     -1604.503594       11.946138                4  \n",
       "20       -1589.254606     -1606.676175       14.736669                6  \n",
       "21       -1627.801364     -1648.302655       17.422457               16  \n",
       "22       -1576.618743     -1597.401550       17.155216                1  \n",
       "23       -1583.960564     -1606.193221       14.576765                5  \n",
       "24       -1626.197495     -1648.980747       16.764142               17  \n",
       "25       -1580.309763     -1600.105323       16.728926                2  \n",
       "26       -1578.384372     -1602.070458       17.443977                3  "
      ]
     },
     "execution_count": 72,
     "metadata": {},
     "output_type": "execute_result"
    }
   ],
   "source": [
    "cb_scores"
   ]
  },
  {
   "cell_type": "code",
   "execution_count": 73,
   "metadata": {
    "scrolled": true
   },
   "outputs": [
    {
     "data": {
      "text/html": [
       "<div>\n",
       "<style scoped>\n",
       "    .dataframe tbody tr th:only-of-type {\n",
       "        vertical-align: middle;\n",
       "    }\n",
       "\n",
       "    .dataframe tbody tr th {\n",
       "        vertical-align: top;\n",
       "    }\n",
       "\n",
       "    .dataframe thead th {\n",
       "        text-align: right;\n",
       "    }\n",
       "</style>\n",
       "<table border=\"1\" class=\"dataframe\">\n",
       "  <thead>\n",
       "    <tr style=\"text-align: right;\">\n",
       "      <th></th>\n",
       "      <th>mean_fit_time</th>\n",
       "      <th>std_fit_time</th>\n",
       "      <th>mean_score_time</th>\n",
       "      <th>std_score_time</th>\n",
       "      <th>param_depth</th>\n",
       "      <th>param_l2_leaf_reg</th>\n",
       "      <th>param_learning_rate</th>\n",
       "      <th>params</th>\n",
       "      <th>split0_test_score</th>\n",
       "      <th>split1_test_score</th>\n",
       "      <th>split2_test_score</th>\n",
       "      <th>split3_test_score</th>\n",
       "      <th>split4_test_score</th>\n",
       "      <th>mean_test_score</th>\n",
       "      <th>std_test_score</th>\n",
       "      <th>rank_test_score</th>\n",
       "    </tr>\n",
       "  </thead>\n",
       "  <tbody>\n",
       "    <tr>\n",
       "      <th>22</th>\n",
       "      <td>7.294784</td>\n",
       "      <td>0.079659</td>\n",
       "      <td>0.078127</td>\n",
       "      <td>0.000077</td>\n",
       "      <td>10</td>\n",
       "      <td>0.2</td>\n",
       "      <td>0.3</td>\n",
       "      <td>{'depth': 10, 'l2_leaf_reg': 0.2, 'learning_ra...</td>\n",
       "      <td>-1622.867737</td>\n",
       "      <td>-1609.81509</td>\n",
       "      <td>-1582.114872</td>\n",
       "      <td>-1595.59131</td>\n",
       "      <td>-1576.618743</td>\n",
       "      <td>-1597.40155</td>\n",
       "      <td>17.155216</td>\n",
       "      <td>1</td>\n",
       "    </tr>\n",
       "  </tbody>\n",
       "</table>\n",
       "</div>"
      ],
      "text/plain": [
       "    mean_fit_time  std_fit_time  mean_score_time  std_score_time param_depth  \\\n",
       "22       7.294784      0.079659         0.078127        0.000077          10   \n",
       "\n",
       "   param_l2_leaf_reg param_learning_rate  \\\n",
       "22               0.2                 0.3   \n",
       "\n",
       "                                               params  split0_test_score  \\\n",
       "22  {'depth': 10, 'l2_leaf_reg': 0.2, 'learning_ra...       -1622.867737   \n",
       "\n",
       "    split1_test_score  split2_test_score  split3_test_score  \\\n",
       "22        -1609.81509       -1582.114872        -1595.59131   \n",
       "\n",
       "    split4_test_score  mean_test_score  std_test_score  rank_test_score  \n",
       "22       -1576.618743      -1597.40155       17.155216                1  "
      ]
     },
     "metadata": {},
     "output_type": "display_data"
    },
    {
     "name": "stdout",
     "output_type": "stream",
     "text": [
      "Время обучения: 7.294784259796143, время предсказания: 0.07812733650207519\n"
     ]
    }
   ],
   "source": [
    "display(cb_scores[cb_scores['rank_test_score'] == 1])\n",
    "cb_best_score = cb_scores[cb_scores['rank_test_score'] == 1]['mean_test_score'].values[0]\n",
    "cb_fit_time = cb_scores[cb_scores['rank_test_score'] == 1]['mean_fit_time'].values[0]\n",
    "cb_pred_time = cb_scores[cb_scores['rank_test_score'] == 1]['mean_score_time'].values[0]\n",
    "print(f'Время обучения: {cb_fit_time}, время предсказания: {cb_pred_time}')"
   ]
  },
  {
   "cell_type": "markdown",
   "metadata": {},
   "source": [
    "На небольшом количестве итераций модель CatBoost показала хороший результат. Оптимальными параметрами стали скорость обучения 0.3, коэффициент l12 0.1, глубина 10. Однако время обучения больше, чем у модели LightGBM."
   ]
  },
  {
   "cell_type": "markdown",
   "metadata": {},
   "source": [
    "Построим общую таблицу, в которой сравним модели по трём характеристикам: величина RMSE, время обучения и время предсказания."
   ]
  },
  {
   "cell_type": "code",
   "execution_count": 74,
   "metadata": {
    "scrolled": true
   },
   "outputs": [
    {
     "data": {
      "text/html": [
       "<div>\n",
       "<style scoped>\n",
       "    .dataframe tbody tr th:only-of-type {\n",
       "        vertical-align: middle;\n",
       "    }\n",
       "\n",
       "    .dataframe tbody tr th {\n",
       "        vertical-align: top;\n",
       "    }\n",
       "\n",
       "    .dataframe thead th {\n",
       "        text-align: right;\n",
       "    }\n",
       "</style>\n",
       "<table border=\"1\" class=\"dataframe\">\n",
       "  <thead>\n",
       "    <tr style=\"text-align: right;\">\n",
       "      <th></th>\n",
       "      <th>Модель</th>\n",
       "      <th>RMSE</th>\n",
       "      <th>Время обучения</th>\n",
       "      <th>Время предсказания</th>\n",
       "    </tr>\n",
       "  </thead>\n",
       "  <tbody>\n",
       "    <tr>\n",
       "      <th>0</th>\n",
       "      <td>LinearRegression</td>\n",
       "      <td>-3072.185068</td>\n",
       "      <td>2.006266</td>\n",
       "      <td>0.011938</td>\n",
       "    </tr>\n",
       "    <tr>\n",
       "      <th>1</th>\n",
       "      <td>LightGBM</td>\n",
       "      <td>-1545.293756</td>\n",
       "      <td>2.121460</td>\n",
       "      <td>0.216142</td>\n",
       "    </tr>\n",
       "    <tr>\n",
       "      <th>2</th>\n",
       "      <td>CatBoost</td>\n",
       "      <td>-1597.401550</td>\n",
       "      <td>7.294784</td>\n",
       "      <td>0.078127</td>\n",
       "    </tr>\n",
       "  </tbody>\n",
       "</table>\n",
       "</div>"
      ],
      "text/plain": [
       "             Модель         RMSE  Время обучения  Время предсказания\n",
       "0  LinearRegression -3072.185068        2.006266            0.011938\n",
       "1          LightGBM -1545.293756        2.121460            0.216142\n",
       "2          CatBoost -1597.401550        7.294784            0.078127"
      ]
     },
     "execution_count": 74,
     "metadata": {},
     "output_type": "execute_result"
    }
   ],
   "source": [
    "all_scores = pd.DataFrame(data=[['LinearRegression', lr_cv['test_score'].mean(), lr_cv['fit_time'].mean(), lr_cv['score_time'].mean()],\n",
    "                          ['LightGBM', lg_best_score, lg_fit_time, lg_pred_time],\n",
    "                         ['CatBoost', cb_best_score, cb_fit_time, cb_pred_time]],\n",
    "                         columns=['Модель', 'RMSE', 'Время обучения', 'Время предсказания'])\n",
    "\n",
    "all_scores"
   ]
  },
  {
   "cell_type": "markdown",
   "metadata": {},
   "source": [
    "Сопоставляя результаты видим, что наилучшие для целей исследования качества - у модели LightGBM. Время обучения почти такое же, как у линейной регрессии, но RMSE почти в два раза меньше. У этой модели, между тем, самое большое время предсказания - впрочем, разница во времени предсказания между моделями будет незаметна для среднего пользователя приложения. Модель CatBoost показала высокое качество предсказаний, но её время обучения значительно больше, чем у конкурентов. Таким образом, тестировать предстоит модель LightGBM."
   ]
  },
  {
   "cell_type": "markdown",
   "metadata": {},
   "source": [
    "## Анализ моделей"
   ]
  },
  {
   "cell_type": "markdown",
   "metadata": {},
   "source": [
    "В текущем разделе проведём испытание модели LightGBM на тестовой выборке."
   ]
  },
  {
   "cell_type": "markdown",
   "metadata": {},
   "source": [
    "Модель с оптимальными параметрами сохранена как **model_lg**. У неё 1000 деревьев, глубина -2 и максимальное количество листьев 20."
   ]
  },
  {
   "cell_type": "code",
   "execution_count": 75,
   "metadata": {},
   "outputs": [
    {
     "name": "stdout",
     "output_type": "stream",
     "text": [
      "Wall time: 72 ms\n"
     ]
    },
    {
     "data": {
      "text/plain": [
       "1606.2175012840373"
      ]
     },
     "execution_count": 75,
     "metadata": {},
     "output_type": "execute_result"
    }
   ],
   "source": [
    "%%time\n",
    "predicted_lg = model_lg.predict(lg_features_test)\n",
    "qual_lg = mean_squared_error(target_test, predicted_lg, squared=False)\n",
    "qual_lg"
   ]
  },
  {
   "cell_type": "markdown",
   "metadata": {},
   "source": [
    "Метрика RMSE находится в заданных пределах и не изменилась слишком значительно по сравнению с показателями на тренировочной выборке. Говорить о переобучении модели LightGBM не приходится."
   ]
  },
  {
   "cell_type": "markdown",
   "metadata": {},
   "source": [
    "### Выводы"
   ]
  },
  {
   "cell_type": "markdown",
   "metadata": {},
   "source": [
    "Задача исследования – выявить модель, наиболее подходящую для быстрого определения примерной цены подержанного автомобиля, при этом приложение, в рамках которого должна работать модель, располагает большим массивом данных – то есть, обучение модели также должно происходить быстро.\n",
    "\n",
    "Заданное значение RMSE, как представляется, весьма велико – 2500 при медианной стоимости автомобиля из выборки около 2700. Следовательно, желательно было и уменьшить RMSE, и добиться оптимальной скорости работы модели. \n",
    "\n",
    "В исследовании участвовали три модели: линейная регрессия и градиентные бустинги LightGBM и CatBoost. **Линейная регрессия** наиболее «требовательна» к входящим данным – для её работы все категориальные признаки были обработаны техникой OHE, что привело к значительному росту количества признаков. В результате модель работала не «моментально». При этом RMSE составила более 3000, что примерно равно медианному значению цены. Таким образом, линейная регрессия не рассматривалась как подходящая модель для решения задачи.\n",
    "\n",
    "Два градиентных бустинга показали высокое качество предсказаний, хотя и работали медленнее. **Градиентный бустинг LightGBM**. С помощью подбора параметров удалось улучшить качество предсказаний этой модели до RMSE равной 1546 на валидационной выборке, при этом время обучения и предсказания составило менее 3 секунд. На тестовой выборке модель сделала предсказание за 90 миллисекунд с RMSE 1606.\n",
    "\n",
    "**Градиентный бустинг CatBoost** наименее требователен к входящим данным. Однако время обучения у этой модели оказалось значительно большим, чем у LightGBM – даже с учётом того, что количество итераций было на порядок меньшим. \n",
    "\n",
    "**Результаты тестирования можно признать неоднозначными**. Различия в качестве работы двух градиентных бустингов незначительны, время обучения у LightGBM выигрывает. Однако большим преимуществом CatBoost в текущей ситуации является возможность работать с категориальными переменными без дополнительного кодирования. Это ускоряет обработку данных. Кроме того, с приложением работают пользователи, которые не всегда располагают полными данными о своём автомобиле (об этом говорит большое количество пропусков) – следовательно, могут появляться новые категории."
   ]
  }
 ],
 "metadata": {
  "ExecuteTimeLog": [
   {
    "duration": 359,
    "start_time": "2022-11-06T14:14:06.027Z"
   },
   {
    "duration": 3,
    "start_time": "2022-11-06T14:14:36.096Z"
   },
   {
    "duration": 1194,
    "start_time": "2022-11-06T14:37:23.609Z"
   },
   {
    "duration": 806,
    "start_time": "2022-11-06T15:16:48.815Z"
   },
   {
    "duration": 2,
    "start_time": "2022-11-06T15:17:53.553Z"
   },
   {
    "duration": 49,
    "start_time": "2022-11-06T15:18:38.873Z"
   },
   {
    "duration": 88,
    "start_time": "2022-11-06T15:18:55.373Z"
   },
   {
    "duration": 781,
    "start_time": "2022-11-06T15:39:32.157Z"
   },
   {
    "duration": 707,
    "start_time": "2022-11-06T15:39:36.160Z"
   },
   {
    "duration": 16,
    "start_time": "2022-11-06T15:40:46.953Z"
   },
   {
    "duration": 11,
    "start_time": "2022-11-06T15:41:13.880Z"
   },
   {
    "duration": 11,
    "start_time": "2022-11-06T15:41:42.071Z"
   },
   {
    "duration": 2,
    "start_time": "2022-11-06T15:42:22.411Z"
   },
   {
    "duration": 139,
    "start_time": "2022-11-06T15:42:50.041Z"
   },
   {
    "duration": 137,
    "start_time": "2022-11-06T15:43:27.561Z"
   },
   {
    "duration": 153,
    "start_time": "2022-11-06T15:43:41.542Z"
   },
   {
    "duration": 140,
    "start_time": "2022-11-06T15:44:32.845Z"
   },
   {
    "duration": 155,
    "start_time": "2022-11-06T15:45:04.468Z"
   },
   {
    "duration": 133,
    "start_time": "2022-11-06T15:45:13.744Z"
   },
   {
    "duration": 146,
    "start_time": "2022-11-06T15:45:24.167Z"
   },
   {
    "duration": 3,
    "start_time": "2022-11-06T17:48:43.139Z"
   },
   {
    "duration": 9,
    "start_time": "2022-11-06T17:55:50.419Z"
   },
   {
    "duration": 8,
    "start_time": "2022-11-06T17:56:03.677Z"
   },
   {
    "duration": 23,
    "start_time": "2022-11-06T17:59:17.096Z"
   },
   {
    "duration": 14,
    "start_time": "2022-11-06T17:59:51.279Z"
   },
   {
    "duration": 44,
    "start_time": "2022-11-06T18:00:58.827Z"
   },
   {
    "duration": 47,
    "start_time": "2022-11-06T18:01:11.735Z"
   },
   {
    "duration": 35,
    "start_time": "2022-11-06T18:01:23.291Z"
   },
   {
    "duration": 40,
    "start_time": "2022-11-06T18:03:42.965Z"
   },
   {
    "duration": 35,
    "start_time": "2022-11-06T18:04:06.314Z"
   },
   {
    "duration": 56,
    "start_time": "2022-11-06T18:12:24.199Z"
   },
   {
    "duration": 56,
    "start_time": "2022-11-06T18:12:35.788Z"
   },
   {
    "duration": 3,
    "start_time": "2022-11-06T18:12:42.577Z"
   },
   {
    "duration": 769,
    "start_time": "2022-11-06T18:12:42.582Z"
   },
   {
    "duration": 86,
    "start_time": "2022-11-06T18:12:43.353Z"
   },
   {
    "duration": 152,
    "start_time": "2022-11-06T18:12:43.440Z"
   },
   {
    "duration": 38,
    "start_time": "2022-11-06T18:12:43.594Z"
   },
   {
    "duration": 34,
    "start_time": "2022-11-06T18:12:43.634Z"
   },
   {
    "duration": 63,
    "start_time": "2022-11-06T18:12:43.669Z"
   },
   {
    "duration": 29,
    "start_time": "2022-11-06T18:13:29.892Z"
   },
   {
    "duration": 60,
    "start_time": "2022-11-06T18:15:54.138Z"
   },
   {
    "duration": 40,
    "start_time": "2022-11-06T18:17:09.852Z"
   },
   {
    "duration": 39,
    "start_time": "2022-11-06T18:17:17.161Z"
   },
   {
    "duration": 76,
    "start_time": "2022-11-06T18:22:27.344Z"
   },
   {
    "duration": 176,
    "start_time": "2022-11-06T18:22:54.906Z"
   },
   {
    "duration": 2212,
    "start_time": "2022-11-06T18:26:12.863Z"
   },
   {
    "duration": 2373,
    "start_time": "2022-11-06T18:26:42.642Z"
   },
   {
    "duration": 45645,
    "start_time": "2022-11-06T18:27:17.443Z"
   },
   {
    "duration": 47710,
    "start_time": "2022-11-06T18:28:12.154Z"
   },
   {
    "duration": 18,
    "start_time": "2022-11-06T18:30:36.444Z"
   },
   {
    "duration": 115,
    "start_time": "2022-11-06T18:32:08.567Z"
   },
   {
    "duration": 60,
    "start_time": "2022-11-06T18:32:26.039Z"
   },
   {
    "duration": 25,
    "start_time": "2022-11-06T18:38:29.488Z"
   },
   {
    "duration": 20,
    "start_time": "2022-11-06T18:41:08.208Z"
   },
   {
    "duration": 2907,
    "start_time": "2022-11-06T18:41:45.509Z"
   },
   {
    "duration": 621,
    "start_time": "2022-11-06T18:42:13.320Z"
   },
   {
    "duration": 23,
    "start_time": "2022-11-06T18:44:25.590Z"
   },
   {
    "duration": 28,
    "start_time": "2022-11-06T18:47:15.868Z"
   },
   {
    "duration": 26,
    "start_time": "2022-11-06T18:52:12.239Z"
   },
   {
    "duration": 24,
    "start_time": "2022-11-06T18:53:01.614Z"
   },
   {
    "duration": 46,
    "start_time": "2022-11-06T18:53:20.046Z"
   },
   {
    "duration": 18,
    "start_time": "2022-11-06T18:54:07.435Z"
   },
   {
    "duration": 32,
    "start_time": "2022-11-06T18:55:02.547Z"
   },
   {
    "duration": 3,
    "start_time": "2022-11-06T18:55:25.848Z"
   },
   {
    "duration": 2,
    "start_time": "2022-11-06T18:55:42.017Z"
   },
   {
    "duration": 765,
    "start_time": "2022-11-06T18:55:42.021Z"
   },
   {
    "duration": 83,
    "start_time": "2022-11-06T18:55:42.788Z"
   },
   {
    "duration": 159,
    "start_time": "2022-11-06T18:55:42.872Z"
   },
   {
    "duration": 36,
    "start_time": "2022-11-06T18:55:43.032Z"
   },
   {
    "duration": 63,
    "start_time": "2022-11-06T18:55:43.070Z"
   },
   {
    "duration": 42,
    "start_time": "2022-11-06T18:55:43.134Z"
   },
   {
    "duration": 28,
    "start_time": "2022-11-06T18:55:43.178Z"
   },
   {
    "duration": 27,
    "start_time": "2022-11-06T18:55:43.208Z"
   },
   {
    "duration": 28,
    "start_time": "2022-11-06T18:55:43.236Z"
   },
   {
    "duration": 78,
    "start_time": "2022-11-06T18:55:43.265Z"
   },
   {
    "duration": 26,
    "start_time": "2022-11-06T18:55:45.973Z"
   },
   {
    "duration": 43,
    "start_time": "2022-11-06T18:57:27.739Z"
   },
   {
    "duration": 51,
    "start_time": "2022-11-06T18:58:04.510Z"
   },
   {
    "duration": 123,
    "start_time": "2022-11-06T18:58:50.009Z"
   },
   {
    "duration": 36,
    "start_time": "2022-11-06T18:59:30.286Z"
   },
   {
    "duration": 3,
    "start_time": "2022-11-06T18:59:38.537Z"
   },
   {
    "duration": 815,
    "start_time": "2022-11-06T18:59:38.542Z"
   },
   {
    "duration": 83,
    "start_time": "2022-11-06T18:59:39.359Z"
   },
   {
    "duration": 143,
    "start_time": "2022-11-06T18:59:39.444Z"
   },
   {
    "duration": 43,
    "start_time": "2022-11-06T18:59:39.590Z"
   },
   {
    "duration": 46,
    "start_time": "2022-11-06T18:59:39.635Z"
   },
   {
    "duration": 53,
    "start_time": "2022-11-06T18:59:39.683Z"
   },
   {
    "duration": 16,
    "start_time": "2022-11-06T18:59:39.737Z"
   },
   {
    "duration": 46,
    "start_time": "2022-11-06T18:59:39.755Z"
   },
   {
    "duration": 23,
    "start_time": "2022-11-06T18:59:39.802Z"
   },
   {
    "duration": 59,
    "start_time": "2022-11-06T18:59:39.827Z"
   },
   {
    "duration": 28,
    "start_time": "2022-11-06T18:59:42.747Z"
   },
   {
    "duration": 127,
    "start_time": "2022-11-06T18:59:59.953Z"
   },
   {
    "duration": 2,
    "start_time": "2022-11-06T19:00:51.843Z"
   },
   {
    "duration": 121,
    "start_time": "2022-11-06T19:07:09.836Z"
   },
   {
    "duration": 11943,
    "start_time": "2022-11-06T19:08:20.653Z"
   },
   {
    "duration": 4163,
    "start_time": "2022-11-06T19:10:56.427Z"
   },
   {
    "duration": 581,
    "start_time": "2022-11-06T19:11:48.540Z"
   },
   {
    "duration": 150,
    "start_time": "2022-11-06T19:12:38.310Z"
   },
   {
    "duration": 35,
    "start_time": "2022-11-06T19:14:49.232Z"
   },
   {
    "duration": 13,
    "start_time": "2022-11-06T19:16:34.281Z"
   },
   {
    "duration": 13,
    "start_time": "2022-11-06T19:18:12.934Z"
   },
   {
    "duration": 8,
    "start_time": "2022-11-06T19:18:44.943Z"
   },
   {
    "duration": 14,
    "start_time": "2022-11-06T19:19:37.885Z"
   },
   {
    "duration": 20,
    "start_time": "2022-11-07T05:50:23.584Z"
   },
   {
    "duration": 8,
    "start_time": "2022-11-07T05:52:49.626Z"
   },
   {
    "duration": 16,
    "start_time": "2022-11-07T05:55:26.802Z"
   },
   {
    "duration": 36,
    "start_time": "2022-11-07T05:56:06.885Z"
   },
   {
    "duration": 47,
    "start_time": "2022-11-07T05:56:30.587Z"
   },
   {
    "duration": 37,
    "start_time": "2022-11-07T06:02:34.220Z"
   },
   {
    "duration": 29,
    "start_time": "2022-11-07T06:15:17.160Z"
   },
   {
    "duration": 38,
    "start_time": "2022-11-07T06:31:53.590Z"
   },
   {
    "duration": 56,
    "start_time": "2022-11-07T06:32:26.374Z"
   },
   {
    "duration": 60,
    "start_time": "2022-11-07T06:33:04.123Z"
   },
   {
    "duration": 3,
    "start_time": "2022-11-07T06:33:08.404Z"
   },
   {
    "duration": 780,
    "start_time": "2022-11-07T06:33:08.408Z"
   },
   {
    "duration": 77,
    "start_time": "2022-11-07T06:33:09.190Z"
   },
   {
    "duration": 146,
    "start_time": "2022-11-07T06:33:09.268Z"
   },
   {
    "duration": 36,
    "start_time": "2022-11-07T06:33:09.416Z"
   },
   {
    "duration": 64,
    "start_time": "2022-11-07T06:33:09.453Z"
   },
   {
    "duration": 35,
    "start_time": "2022-11-07T06:33:09.519Z"
   },
   {
    "duration": 13,
    "start_time": "2022-11-07T06:33:09.556Z"
   },
   {
    "duration": 39,
    "start_time": "2022-11-07T06:33:09.570Z"
   },
   {
    "duration": 24,
    "start_time": "2022-11-07T06:33:09.611Z"
   },
   {
    "duration": 25,
    "start_time": "2022-11-07T06:33:09.636Z"
   },
   {
    "duration": 154,
    "start_time": "2022-11-07T06:33:09.663Z"
   },
   {
    "duration": 133,
    "start_time": "2022-11-07T06:33:09.819Z"
   },
   {
    "duration": 150,
    "start_time": "2022-11-07T06:33:09.954Z"
   },
   {
    "duration": 18,
    "start_time": "2022-11-07T06:33:10.106Z"
   },
   {
    "duration": 8,
    "start_time": "2022-11-07T06:33:10.125Z"
   },
   {
    "duration": 43,
    "start_time": "2022-11-07T06:33:10.134Z"
   },
   {
    "duration": 29,
    "start_time": "2022-11-07T06:33:10.200Z"
   },
   {
    "duration": 130,
    "start_time": "2022-11-07T06:33:27.261Z"
   },
   {
    "duration": 478,
    "start_time": "2022-11-07T06:49:01.226Z"
   },
   {
    "duration": 107,
    "start_time": "2022-11-07T07:01:59.073Z"
   },
   {
    "duration": 17,
    "start_time": "2022-11-07T07:03:38.631Z"
   },
   {
    "duration": 20,
    "start_time": "2022-11-07T07:04:56.417Z"
   },
   {
    "duration": 28,
    "start_time": "2022-11-07T07:06:28.994Z"
   },
   {
    "duration": 13,
    "start_time": "2022-11-07T07:08:35.205Z"
   },
   {
    "duration": 67,
    "start_time": "2022-11-07T07:08:51.147Z"
   },
   {
    "duration": 55,
    "start_time": "2022-11-07T07:09:53.878Z"
   },
   {
    "duration": 53,
    "start_time": "2022-11-07T07:10:00.490Z"
   },
   {
    "duration": 25,
    "start_time": "2022-11-07T07:11:35.597Z"
   },
   {
    "duration": 39,
    "start_time": "2022-11-07T07:59:05.071Z"
   },
   {
    "duration": 34,
    "start_time": "2022-11-07T07:59:33.206Z"
   },
   {
    "duration": 35,
    "start_time": "2022-11-07T08:03:07.619Z"
   },
   {
    "duration": 60,
    "start_time": "2022-11-07T08:06:41.012Z"
   },
   {
    "duration": 29,
    "start_time": "2022-11-07T08:12:40.639Z"
   },
   {
    "duration": 32,
    "start_time": "2022-11-07T08:13:21.367Z"
   },
   {
    "duration": 28,
    "start_time": "2022-11-07T08:13:35.521Z"
   },
   {
    "duration": 68,
    "start_time": "2022-11-07T08:17:27.196Z"
   },
   {
    "duration": 25,
    "start_time": "2022-11-07T08:23:22.683Z"
   },
   {
    "duration": 77,
    "start_time": "2022-11-07T09:05:35.407Z"
   },
   {
    "duration": 8,
    "start_time": "2022-11-07T09:08:34.856Z"
   },
   {
    "duration": 200,
    "start_time": "2022-11-07T09:08:41.256Z"
   },
   {
    "duration": 19,
    "start_time": "2022-11-07T09:08:46.815Z"
   },
   {
    "duration": 27,
    "start_time": "2022-11-07T09:09:21.257Z"
   },
   {
    "duration": 20,
    "start_time": "2022-11-07T09:10:28.366Z"
   },
   {
    "duration": 1097,
    "start_time": "2022-11-07T09:10:38.352Z"
   },
   {
    "duration": 3,
    "start_time": "2022-11-07T09:10:54.083Z"
   },
   {
    "duration": 797,
    "start_time": "2022-11-07T09:10:54.088Z"
   },
   {
    "duration": 84,
    "start_time": "2022-11-07T09:10:54.887Z"
   },
   {
    "duration": 162,
    "start_time": "2022-11-07T09:10:54.973Z"
   },
   {
    "duration": 37,
    "start_time": "2022-11-07T09:10:55.138Z"
   },
   {
    "duration": 60,
    "start_time": "2022-11-07T09:10:55.177Z"
   },
   {
    "duration": 38,
    "start_time": "2022-11-07T09:10:55.238Z"
   },
   {
    "duration": 33,
    "start_time": "2022-11-07T09:10:55.278Z"
   },
   {
    "duration": 28,
    "start_time": "2022-11-07T09:10:55.313Z"
   },
   {
    "duration": 22,
    "start_time": "2022-11-07T09:10:55.343Z"
   },
   {
    "duration": 38,
    "start_time": "2022-11-07T09:10:55.368Z"
   },
   {
    "duration": 138,
    "start_time": "2022-11-07T09:10:55.408Z"
   },
   {
    "duration": 126,
    "start_time": "2022-11-07T09:10:55.547Z"
   },
   {
    "duration": 167,
    "start_time": "2022-11-07T09:10:55.675Z"
   },
   {
    "duration": 19,
    "start_time": "2022-11-07T09:10:55.843Z"
   },
   {
    "duration": 18,
    "start_time": "2022-11-07T09:10:55.864Z"
   },
   {
    "duration": 58,
    "start_time": "2022-11-07T09:10:55.884Z"
   },
   {
    "duration": 30,
    "start_time": "2022-11-07T09:10:55.943Z"
   },
   {
    "duration": 144,
    "start_time": "2022-11-07T09:10:55.974Z"
   },
   {
    "duration": 450,
    "start_time": "2022-11-07T09:10:56.120Z"
   },
   {
    "duration": 95,
    "start_time": "2022-11-07T09:10:56.572Z"
   },
   {
    "duration": 80,
    "start_time": "2022-11-07T09:10:56.668Z"
   },
   {
    "duration": 70,
    "start_time": "2022-11-07T09:10:56.750Z"
   },
   {
    "duration": 29,
    "start_time": "2022-11-07T09:10:56.821Z"
   },
   {
    "duration": 27,
    "start_time": "2022-11-07T09:10:56.851Z"
   },
   {
    "duration": 60,
    "start_time": "2022-11-07T09:10:59.596Z"
   },
   {
    "duration": 2,
    "start_time": "2022-11-07T09:11:35.584Z"
   },
   {
    "duration": 841,
    "start_time": "2022-11-07T09:11:35.588Z"
   },
   {
    "duration": 85,
    "start_time": "2022-11-07T09:11:36.431Z"
   },
   {
    "duration": 149,
    "start_time": "2022-11-07T09:11:36.517Z"
   },
   {
    "duration": 42,
    "start_time": "2022-11-07T09:11:36.668Z"
   },
   {
    "duration": 49,
    "start_time": "2022-11-07T09:11:36.712Z"
   },
   {
    "duration": 51,
    "start_time": "2022-11-07T09:11:36.763Z"
   },
   {
    "duration": 14,
    "start_time": "2022-11-07T09:11:36.816Z"
   },
   {
    "duration": 32,
    "start_time": "2022-11-07T09:11:36.832Z"
   },
   {
    "duration": 38,
    "start_time": "2022-11-07T09:11:36.865Z"
   },
   {
    "duration": 22,
    "start_time": "2022-11-07T09:11:36.906Z"
   },
   {
    "duration": 151,
    "start_time": "2022-11-07T09:11:36.929Z"
   },
   {
    "duration": 126,
    "start_time": "2022-11-07T09:11:37.082Z"
   },
   {
    "duration": 162,
    "start_time": "2022-11-07T09:11:37.210Z"
   },
   {
    "duration": 30,
    "start_time": "2022-11-07T09:11:37.373Z"
   },
   {
    "duration": 8,
    "start_time": "2022-11-07T09:11:37.405Z"
   },
   {
    "duration": 56,
    "start_time": "2022-11-07T09:11:37.415Z"
   },
   {
    "duration": 34,
    "start_time": "2022-11-07T09:11:37.473Z"
   },
   {
    "duration": 146,
    "start_time": "2022-11-07T09:11:37.508Z"
   },
   {
    "duration": 459,
    "start_time": "2022-11-07T09:11:37.656Z"
   },
   {
    "duration": 120,
    "start_time": "2022-11-07T09:11:38.117Z"
   },
   {
    "duration": 37,
    "start_time": "2022-11-07T09:11:38.239Z"
   },
   {
    "duration": 94,
    "start_time": "2022-11-07T09:11:38.277Z"
   },
   {
    "duration": 41,
    "start_time": "2022-11-07T09:11:38.372Z"
   },
   {
    "duration": 27,
    "start_time": "2022-11-07T09:11:38.415Z"
   },
   {
    "duration": 145,
    "start_time": "2022-11-07T09:11:41.127Z"
   },
   {
    "duration": 12,
    "start_time": "2022-11-07T09:15:12.860Z"
   },
   {
    "duration": 5,
    "start_time": "2022-11-07T09:15:26.596Z"
   },
   {
    "duration": 791,
    "start_time": "2022-11-07T09:15:26.602Z"
   },
   {
    "duration": 79,
    "start_time": "2022-11-07T09:15:27.394Z"
   },
   {
    "duration": 164,
    "start_time": "2022-11-07T09:15:27.476Z"
   },
   {
    "duration": 34,
    "start_time": "2022-11-07T09:15:27.642Z"
   },
   {
    "duration": 58,
    "start_time": "2022-11-07T09:15:27.678Z"
   },
   {
    "duration": 37,
    "start_time": "2022-11-07T09:15:27.738Z"
   },
   {
    "duration": 29,
    "start_time": "2022-11-07T09:15:27.777Z"
   },
   {
    "duration": 28,
    "start_time": "2022-11-07T09:15:27.808Z"
   },
   {
    "duration": 26,
    "start_time": "2022-11-07T09:15:27.838Z"
   },
   {
    "duration": 50,
    "start_time": "2022-11-07T09:15:27.865Z"
   },
   {
    "duration": 128,
    "start_time": "2022-11-07T09:15:27.916Z"
   },
   {
    "duration": 129,
    "start_time": "2022-11-07T09:15:28.046Z"
   },
   {
    "duration": 164,
    "start_time": "2022-11-07T09:15:28.177Z"
   },
   {
    "duration": 19,
    "start_time": "2022-11-07T09:15:28.343Z"
   },
   {
    "duration": 8,
    "start_time": "2022-11-07T09:15:28.363Z"
   },
   {
    "duration": 61,
    "start_time": "2022-11-07T09:15:28.373Z"
   },
   {
    "duration": 28,
    "start_time": "2022-11-07T09:15:28.436Z"
   },
   {
    "duration": 160,
    "start_time": "2022-11-07T09:15:28.466Z"
   },
   {
    "duration": 440,
    "start_time": "2022-11-07T09:15:28.628Z"
   },
   {
    "duration": 98,
    "start_time": "2022-11-07T09:15:29.070Z"
   },
   {
    "duration": 45,
    "start_time": "2022-11-07T09:15:29.170Z"
   },
   {
    "duration": 70,
    "start_time": "2022-11-07T09:15:29.216Z"
   },
   {
    "duration": 28,
    "start_time": "2022-11-07T09:15:29.301Z"
   },
   {
    "duration": 24,
    "start_time": "2022-11-07T09:15:29.330Z"
   },
   {
    "duration": 13,
    "start_time": "2022-11-07T09:15:31.621Z"
   },
   {
    "duration": 46,
    "start_time": "2022-11-07T11:48:49.265Z"
   },
   {
    "duration": 1586,
    "start_time": "2022-11-07T11:49:05.752Z"
   },
   {
    "duration": 1269,
    "start_time": "2022-11-07T11:49:07.340Z"
   },
   {
    "duration": 142,
    "start_time": "2022-11-07T11:49:08.611Z"
   },
   {
    "duration": 178,
    "start_time": "2022-11-07T11:49:08.754Z"
   },
   {
    "duration": 36,
    "start_time": "2022-11-07T11:49:08.936Z"
   },
   {
    "duration": 65,
    "start_time": "2022-11-07T11:49:08.973Z"
   },
   {
    "duration": 40,
    "start_time": "2022-11-07T11:49:09.040Z"
   },
   {
    "duration": 14,
    "start_time": "2022-11-07T11:49:09.081Z"
   },
   {
    "duration": 51,
    "start_time": "2022-11-07T11:49:09.097Z"
   },
   {
    "duration": 24,
    "start_time": "2022-11-07T11:49:09.150Z"
   },
   {
    "duration": 24,
    "start_time": "2022-11-07T11:49:09.175Z"
   },
   {
    "duration": 168,
    "start_time": "2022-11-07T11:49:09.201Z"
   },
   {
    "duration": 166,
    "start_time": "2022-11-07T11:49:09.371Z"
   },
   {
    "duration": 204,
    "start_time": "2022-11-07T11:49:09.540Z"
   },
   {
    "duration": 20,
    "start_time": "2022-11-07T11:49:09.746Z"
   },
   {
    "duration": 8,
    "start_time": "2022-11-07T11:49:09.768Z"
   },
   {
    "duration": 60,
    "start_time": "2022-11-07T11:49:09.778Z"
   },
   {
    "duration": 31,
    "start_time": "2022-11-07T11:49:09.840Z"
   },
   {
    "duration": 157,
    "start_time": "2022-11-07T11:49:09.872Z"
   },
   {
    "duration": 530,
    "start_time": "2022-11-07T11:49:10.032Z"
   },
   {
    "duration": 108,
    "start_time": "2022-11-07T11:49:10.564Z"
   },
   {
    "duration": 63,
    "start_time": "2022-11-07T11:49:10.674Z"
   },
   {
    "duration": 77,
    "start_time": "2022-11-07T11:49:10.738Z"
   },
   {
    "duration": 52,
    "start_time": "2022-11-07T11:49:10.824Z"
   },
   {
    "duration": 60,
    "start_time": "2022-11-07T11:49:10.879Z"
   },
   {
    "duration": 36,
    "start_time": "2022-11-07T11:49:14.073Z"
   },
   {
    "duration": 48,
    "start_time": "2022-11-08T13:02:44.400Z"
   },
   {
    "duration": 1649,
    "start_time": "2022-11-08T13:02:52.263Z"
   },
   {
    "duration": 1299,
    "start_time": "2022-11-08T13:02:53.915Z"
   },
   {
    "duration": 117,
    "start_time": "2022-11-08T13:02:55.216Z"
   },
   {
    "duration": 199,
    "start_time": "2022-11-08T13:02:55.336Z"
   },
   {
    "duration": 41,
    "start_time": "2022-11-08T13:02:55.538Z"
   },
   {
    "duration": 64,
    "start_time": "2022-11-08T13:02:55.581Z"
   },
   {
    "duration": 51,
    "start_time": "2022-11-08T13:02:55.647Z"
   },
   {
    "duration": 19,
    "start_time": "2022-11-08T13:02:55.700Z"
   },
   {
    "duration": 34,
    "start_time": "2022-11-08T13:02:55.721Z"
   },
   {
    "duration": 61,
    "start_time": "2022-11-08T13:02:55.758Z"
   },
   {
    "duration": 28,
    "start_time": "2022-11-08T13:02:55.821Z"
   },
   {
    "duration": 160,
    "start_time": "2022-11-08T13:02:55.851Z"
   },
   {
    "duration": 148,
    "start_time": "2022-11-08T13:02:56.013Z"
   },
   {
    "duration": 190,
    "start_time": "2022-11-08T13:02:56.163Z"
   },
   {
    "duration": 22,
    "start_time": "2022-11-08T13:02:56.355Z"
   },
   {
    "duration": 24,
    "start_time": "2022-11-08T13:02:56.379Z"
   },
   {
    "duration": 48,
    "start_time": "2022-11-08T13:02:56.405Z"
   },
   {
    "duration": 62,
    "start_time": "2022-11-08T13:02:56.455Z"
   },
   {
    "duration": 157,
    "start_time": "2022-11-08T13:02:56.519Z"
   },
   {
    "duration": 534,
    "start_time": "2022-11-08T13:02:56.678Z"
   },
   {
    "duration": 119,
    "start_time": "2022-11-08T13:02:57.214Z"
   },
   {
    "duration": 41,
    "start_time": "2022-11-08T13:02:57.334Z"
   },
   {
    "duration": 96,
    "start_time": "2022-11-08T13:02:57.377Z"
   },
   {
    "duration": 41,
    "start_time": "2022-11-08T13:02:57.475Z"
   },
   {
    "duration": 30,
    "start_time": "2022-11-08T13:02:57.517Z"
   },
   {
    "duration": 64,
    "start_time": "2022-11-08T13:02:57.548Z"
   },
   {
    "duration": 70,
    "start_time": "2022-11-08T13:03:01.339Z"
   },
   {
    "duration": 30,
    "start_time": "2022-11-08T13:03:12.734Z"
   },
   {
    "duration": 31,
    "start_time": "2022-11-08T13:03:38.294Z"
   },
   {
    "duration": 47,
    "start_time": "2022-11-08T13:05:56.568Z"
   },
   {
    "duration": 125,
    "start_time": "2022-11-08T13:06:10.212Z"
   },
   {
    "duration": 111,
    "start_time": "2022-11-08T13:11:00.346Z"
   },
   {
    "duration": 101,
    "start_time": "2022-11-08T13:11:36.610Z"
   },
   {
    "duration": 32,
    "start_time": "2022-11-08T13:11:48.007Z"
   },
   {
    "duration": 32,
    "start_time": "2022-11-08T13:12:41.995Z"
   },
   {
    "duration": 39,
    "start_time": "2022-11-08T13:14:12.970Z"
   },
   {
    "duration": 38,
    "start_time": "2022-11-08T13:43:36.833Z"
   },
   {
    "duration": 70,
    "start_time": "2022-11-08T13:44:39.452Z"
   },
   {
    "duration": 73,
    "start_time": "2022-11-08T13:45:01.384Z"
   },
   {
    "duration": 29,
    "start_time": "2022-11-08T15:27:52.686Z"
   },
   {
    "duration": 26,
    "start_time": "2022-11-08T15:28:14.397Z"
   },
   {
    "duration": 37,
    "start_time": "2022-11-08T15:28:26.367Z"
   },
   {
    "duration": 102,
    "start_time": "2022-11-08T15:30:50.059Z"
   },
   {
    "duration": 108,
    "start_time": "2022-11-08T15:31:56.458Z"
   },
   {
    "duration": 39,
    "start_time": "2022-11-08T15:33:29.739Z"
   },
   {
    "duration": 45,
    "start_time": "2022-11-08T15:33:58.526Z"
   },
   {
    "duration": 37,
    "start_time": "2022-11-08T15:34:05.156Z"
   },
   {
    "duration": 43,
    "start_time": "2022-11-08T15:34:17.549Z"
   },
   {
    "duration": 37,
    "start_time": "2022-11-08T15:34:26.056Z"
   },
   {
    "duration": 39,
    "start_time": "2022-11-08T15:34:31.340Z"
   },
   {
    "duration": 38,
    "start_time": "2022-11-08T15:34:51.169Z"
   },
   {
    "duration": 67,
    "start_time": "2022-11-08T15:35:18.540Z"
   },
   {
    "duration": 11,
    "start_time": "2022-11-08T15:41:22.016Z"
   },
   {
    "duration": 275,
    "start_time": "2022-11-08T15:41:50.208Z"
   },
   {
    "duration": 26,
    "start_time": "2022-11-08T15:43:06.605Z"
   },
   {
    "duration": 9,
    "start_time": "2022-11-08T15:45:10.428Z"
   },
   {
    "duration": 29,
    "start_time": "2022-11-08T15:45:17.752Z"
   },
   {
    "duration": 4,
    "start_time": "2022-11-08T15:54:56.485Z"
   },
   {
    "duration": 278,
    "start_time": "2022-11-08T15:55:01.704Z"
   },
   {
    "duration": 299,
    "start_time": "2022-11-08T15:57:41.146Z"
   },
   {
    "duration": 52,
    "start_time": "2022-11-08T15:58:27.902Z"
   },
   {
    "duration": 54,
    "start_time": "2022-11-08T16:19:10.942Z"
   },
   {
    "duration": 36,
    "start_time": "2022-11-08T16:19:27.869Z"
   },
   {
    "duration": 62,
    "start_time": "2022-11-08T16:19:42.023Z"
   },
   {
    "duration": 108,
    "start_time": "2022-11-08T16:20:36.623Z"
   },
   {
    "duration": 81,
    "start_time": "2022-11-08T16:20:49.767Z"
   },
   {
    "duration": 3,
    "start_time": "2022-11-08T16:20:55.910Z"
   },
   {
    "duration": 1021,
    "start_time": "2022-11-08T16:20:55.915Z"
   },
   {
    "duration": 120,
    "start_time": "2022-11-08T16:20:56.938Z"
   },
   {
    "duration": 189,
    "start_time": "2022-11-08T16:20:57.059Z"
   },
   {
    "duration": 48,
    "start_time": "2022-11-08T16:20:57.250Z"
   },
   {
    "duration": 44,
    "start_time": "2022-11-08T16:20:57.300Z"
   },
   {
    "duration": 57,
    "start_time": "2022-11-08T16:20:57.346Z"
   },
   {
    "duration": 17,
    "start_time": "2022-11-08T16:20:57.406Z"
   },
   {
    "duration": 133,
    "start_time": "2022-11-08T16:20:57.425Z"
   },
   {
    "duration": 42,
    "start_time": "2022-11-08T16:20:57.560Z"
   },
   {
    "duration": 28,
    "start_time": "2022-11-08T16:20:57.605Z"
   },
   {
    "duration": 163,
    "start_time": "2022-11-08T16:20:57.635Z"
   },
   {
    "duration": 159,
    "start_time": "2022-11-08T16:20:57.800Z"
   },
   {
    "duration": 179,
    "start_time": "2022-11-08T16:20:57.961Z"
   },
   {
    "duration": 22,
    "start_time": "2022-11-08T16:20:58.142Z"
   },
   {
    "duration": 11,
    "start_time": "2022-11-08T16:20:58.165Z"
   },
   {
    "duration": 49,
    "start_time": "2022-11-08T16:20:58.197Z"
   },
   {
    "duration": 33,
    "start_time": "2022-11-08T16:20:58.248Z"
   },
   {
    "duration": 164,
    "start_time": "2022-11-08T16:20:58.298Z"
   },
   {
    "duration": 573,
    "start_time": "2022-11-08T16:20:58.464Z"
   },
   {
    "duration": 113,
    "start_time": "2022-11-08T16:20:59.038Z"
   },
   {
    "duration": 83,
    "start_time": "2022-11-08T16:20:59.154Z"
   },
   {
    "duration": 90,
    "start_time": "2022-11-08T16:20:59.239Z"
   },
   {
    "duration": 35,
    "start_time": "2022-11-08T16:20:59.331Z"
   },
   {
    "duration": 91,
    "start_time": "2022-11-08T16:20:59.368Z"
   },
   {
    "duration": 45,
    "start_time": "2022-11-08T16:20:59.461Z"
   },
   {
    "duration": 156,
    "start_time": "2022-11-08T16:20:59.508Z"
   },
   {
    "duration": 38,
    "start_time": "2022-11-08T16:20:59.665Z"
   },
   {
    "duration": 69,
    "start_time": "2022-11-08T16:20:59.706Z"
   },
   {
    "duration": 290,
    "start_time": "2022-11-08T16:20:59.777Z"
   },
   {
    "duration": 46,
    "start_time": "2022-11-08T16:21:00.068Z"
   },
   {
    "duration": 61,
    "start_time": "2022-11-08T16:21:00.116Z"
   },
   {
    "duration": 33,
    "start_time": "2022-11-08T16:21:03.167Z"
   },
   {
    "duration": 81,
    "start_time": "2022-11-08T16:22:37.655Z"
   },
   {
    "duration": 47,
    "start_time": "2022-11-08T16:23:00.926Z"
   },
   {
    "duration": 45,
    "start_time": "2022-11-08T16:23:47.056Z"
   },
   {
    "duration": 213,
    "start_time": "2022-11-08T16:25:12.348Z"
   },
   {
    "duration": 33,
    "start_time": "2022-11-08T16:26:55.418Z"
   },
   {
    "duration": 77,
    "start_time": "2022-11-08T16:31:16.831Z"
   },
   {
    "duration": 45,
    "start_time": "2022-11-08T16:31:53.303Z"
   },
   {
    "duration": 10,
    "start_time": "2022-11-08T16:33:24.579Z"
   },
   {
    "duration": 18,
    "start_time": "2022-11-08T16:33:34.942Z"
   },
   {
    "duration": 58,
    "start_time": "2022-11-08T16:38:17.875Z"
   },
   {
    "duration": 72,
    "start_time": "2022-11-08T16:39:21.146Z"
   },
   {
    "duration": 3,
    "start_time": "2022-11-08T16:40:11.132Z"
   },
   {
    "duration": 32,
    "start_time": "2022-11-08T16:43:20.456Z"
   },
   {
    "duration": 59,
    "start_time": "2022-11-08T16:59:02.290Z"
   },
   {
    "duration": 57,
    "start_time": "2022-11-08T17:01:04.724Z"
   },
   {
    "duration": 73,
    "start_time": "2022-11-08T17:44:45.975Z"
   },
   {
    "duration": 108,
    "start_time": "2022-11-08T17:45:22.075Z"
   },
   {
    "duration": 43,
    "start_time": "2022-11-08T17:57:01.033Z"
   },
   {
    "duration": 31,
    "start_time": "2022-11-08T17:57:16.719Z"
   },
   {
    "duration": 32,
    "start_time": "2022-11-08T17:57:39.644Z"
   },
   {
    "duration": 32,
    "start_time": "2022-11-08T17:57:49.619Z"
   },
   {
    "duration": 57,
    "start_time": "2022-11-08T18:01:21.497Z"
   },
   {
    "duration": 9,
    "start_time": "2022-11-08T18:01:45.437Z"
   },
   {
    "duration": 119,
    "start_time": "2022-11-08T18:02:29.317Z"
   },
   {
    "duration": 30,
    "start_time": "2022-11-08T18:03:47.327Z"
   },
   {
    "duration": 34,
    "start_time": "2022-11-08T18:07:53.367Z"
   },
   {
    "duration": 2,
    "start_time": "2022-11-08T18:08:55.532Z"
   },
   {
    "duration": 992,
    "start_time": "2022-11-08T18:08:55.536Z"
   },
   {
    "duration": 43,
    "start_time": "2022-11-08T18:08:56.531Z"
   },
   {
    "duration": 99,
    "start_time": "2022-11-08T18:08:56.575Z"
   },
   {
    "duration": 197,
    "start_time": "2022-11-08T18:08:56.677Z"
   },
   {
    "duration": 47,
    "start_time": "2022-11-08T18:08:56.876Z"
   },
   {
    "duration": 25,
    "start_time": "2022-11-08T18:08:56.925Z"
   },
   {
    "duration": 63,
    "start_time": "2022-11-08T18:08:56.951Z"
   },
   {
    "duration": 20,
    "start_time": "2022-11-08T18:08:57.017Z"
   },
   {
    "duration": 34,
    "start_time": "2022-11-08T18:08:57.039Z"
   },
   {
    "duration": 54,
    "start_time": "2022-11-08T18:08:57.076Z"
   },
   {
    "duration": 23,
    "start_time": "2022-11-08T18:08:57.132Z"
   },
   {
    "duration": 105,
    "start_time": "2022-11-08T18:08:57.159Z"
   },
   {
    "duration": 161,
    "start_time": "2022-11-08T18:08:57.267Z"
   },
   {
    "duration": 156,
    "start_time": "2022-11-08T18:08:57.430Z"
   },
   {
    "duration": 31,
    "start_time": "2022-11-08T18:08:57.588Z"
   },
   {
    "duration": 9,
    "start_time": "2022-11-08T18:08:57.621Z"
   },
   {
    "duration": 34,
    "start_time": "2022-11-08T18:08:57.632Z"
   },
   {
    "duration": 54,
    "start_time": "2022-11-08T18:08:57.667Z"
   },
   {
    "duration": 118,
    "start_time": "2022-11-08T18:08:57.723Z"
   },
   {
    "duration": 543,
    "start_time": "2022-11-08T18:08:57.843Z"
   },
   {
    "duration": 80,
    "start_time": "2022-11-08T18:08:58.388Z"
   },
   {
    "duration": 61,
    "start_time": "2022-11-08T18:08:58.469Z"
   },
   {
    "duration": 100,
    "start_time": "2022-11-08T18:08:58.533Z"
   },
   {
    "duration": 33,
    "start_time": "2022-11-08T18:08:58.635Z"
   },
   {
    "duration": 195,
    "start_time": "2022-11-08T18:08:58.670Z"
   },
   {
    "duration": 48,
    "start_time": "2022-11-08T18:08:58.867Z"
   },
   {
    "duration": 42,
    "start_time": "2022-11-08T18:08:58.917Z"
   },
   {
    "duration": 62,
    "start_time": "2022-11-08T18:08:58.963Z"
   },
   {
    "duration": 143,
    "start_time": "2022-11-08T18:08:59.027Z"
   },
   {
    "duration": 304,
    "start_time": "2022-11-08T18:08:59.172Z"
   },
   {
    "duration": 53,
    "start_time": "2022-11-08T18:08:59.478Z"
   },
   {
    "duration": 53,
    "start_time": "2022-11-08T18:08:59.533Z"
   },
   {
    "duration": 51,
    "start_time": "2022-11-08T18:08:59.588Z"
   },
   {
    "duration": 35,
    "start_time": "2022-11-08T18:08:59.641Z"
   },
   {
    "duration": 78,
    "start_time": "2022-11-08T18:08:59.679Z"
   },
   {
    "duration": 62,
    "start_time": "2022-11-08T18:08:59.759Z"
   },
   {
    "duration": 52,
    "start_time": "2022-11-08T18:08:59.823Z"
   },
   {
    "duration": 73,
    "start_time": "2022-11-08T18:08:59.877Z"
   },
   {
    "duration": 94,
    "start_time": "2022-11-08T18:08:59.952Z"
   },
   {
    "duration": 18,
    "start_time": "2022-11-08T18:10:02.359Z"
   },
   {
    "duration": 88,
    "start_time": "2022-11-08T18:17:57.619Z"
   },
   {
    "duration": 75,
    "start_time": "2022-11-08T18:20:29.275Z"
   },
   {
    "duration": 159,
    "start_time": "2022-11-08T18:20:54.325Z"
   },
   {
    "duration": 189,
    "start_time": "2022-11-08T18:22:51.531Z"
   },
   {
    "duration": 2,
    "start_time": "2022-11-08T18:23:27.294Z"
   },
   {
    "duration": 824,
    "start_time": "2022-11-08T18:23:27.299Z"
   },
   {
    "duration": 41,
    "start_time": "2022-11-08T18:23:28.125Z"
   },
   {
    "duration": 192,
    "start_time": "2022-11-08T18:23:28.168Z"
   },
   {
    "duration": 219,
    "start_time": "2022-11-08T18:23:28.362Z"
   },
   {
    "duration": 71,
    "start_time": "2022-11-08T18:23:28.583Z"
   },
   {
    "duration": 181,
    "start_time": "2022-11-08T18:23:28.656Z"
   },
   {
    "duration": 30,
    "start_time": "2022-11-08T18:23:28.839Z"
   },
   {
    "duration": 32,
    "start_time": "2022-11-08T18:23:28.871Z"
   },
   {
    "duration": 31,
    "start_time": "2022-11-08T18:23:28.905Z"
   },
   {
    "duration": 16,
    "start_time": "2022-11-08T18:23:28.939Z"
   },
   {
    "duration": 45,
    "start_time": "2022-11-08T18:23:28.957Z"
   },
   {
    "duration": 24,
    "start_time": "2022-11-08T18:23:29.004Z"
   },
   {
    "duration": 25,
    "start_time": "2022-11-08T18:23:29.030Z"
   },
   {
    "duration": 111,
    "start_time": "2022-11-08T18:23:29.056Z"
   },
   {
    "duration": 16,
    "start_time": "2022-11-08T18:23:29.169Z"
   },
   {
    "duration": 143,
    "start_time": "2022-11-08T18:23:29.197Z"
   },
   {
    "duration": 142,
    "start_time": "2022-11-08T18:23:29.342Z"
   },
   {
    "duration": 25,
    "start_time": "2022-11-08T18:23:29.485Z"
   },
   {
    "duration": 10,
    "start_time": "2022-11-08T18:23:29.511Z"
   },
   {
    "duration": 36,
    "start_time": "2022-11-08T18:23:29.523Z"
   },
   {
    "duration": 56,
    "start_time": "2022-11-08T18:23:29.561Z"
   },
   {
    "duration": 120,
    "start_time": "2022-11-08T18:23:29.619Z"
   },
   {
    "duration": 505,
    "start_time": "2022-11-08T18:23:29.741Z"
   },
   {
    "duration": 85,
    "start_time": "2022-11-08T18:23:30.248Z"
   },
   {
    "duration": 53,
    "start_time": "2022-11-08T18:23:30.335Z"
   },
   {
    "duration": 60,
    "start_time": "2022-11-08T18:23:30.390Z"
   },
   {
    "duration": 30,
    "start_time": "2022-11-08T18:23:30.452Z"
   },
   {
    "duration": 217,
    "start_time": "2022-11-08T18:23:30.499Z"
   },
   {
    "duration": 26,
    "start_time": "2022-11-08T18:23:30.718Z"
   },
   {
    "duration": 53,
    "start_time": "2022-11-08T18:23:30.746Z"
   },
   {
    "duration": 35,
    "start_time": "2022-11-08T18:23:30.800Z"
   },
   {
    "duration": 78,
    "start_time": "2022-11-08T18:23:30.836Z"
   },
   {
    "duration": 253,
    "start_time": "2022-11-08T18:23:30.916Z"
   },
   {
    "duration": 39,
    "start_time": "2022-11-08T18:23:31.171Z"
   },
   {
    "duration": 38,
    "start_time": "2022-11-08T18:23:31.212Z"
   },
   {
    "duration": 59,
    "start_time": "2022-11-08T18:23:31.252Z"
   },
   {
    "duration": 33,
    "start_time": "2022-11-08T18:23:31.313Z"
   },
   {
    "duration": 76,
    "start_time": "2022-11-08T18:23:31.348Z"
   },
   {
    "duration": 36,
    "start_time": "2022-11-08T18:23:31.426Z"
   },
   {
    "duration": 58,
    "start_time": "2022-11-08T18:23:31.464Z"
   },
   {
    "duration": 56,
    "start_time": "2022-11-08T18:23:31.524Z"
   },
   {
    "duration": 79,
    "start_time": "2022-11-08T18:23:31.581Z"
   },
   {
    "duration": 82,
    "start_time": "2022-11-08T18:23:33.963Z"
   },
   {
    "duration": 37,
    "start_time": "2022-11-08T18:31:42.178Z"
   },
   {
    "duration": 89,
    "start_time": "2022-11-08T18:32:17.072Z"
   },
   {
    "duration": 14,
    "start_time": "2022-11-08T18:33:08.945Z"
   },
   {
    "duration": 124,
    "start_time": "2022-11-08T18:33:29.760Z"
   },
   {
    "duration": 14,
    "start_time": "2022-11-08T18:34:25.210Z"
   },
   {
    "duration": 13,
    "start_time": "2022-11-08T18:34:38.944Z"
   },
   {
    "duration": 10,
    "start_time": "2022-11-08T18:34:46.861Z"
   },
   {
    "duration": 17,
    "start_time": "2022-11-08T18:34:55.089Z"
   },
   {
    "duration": 2,
    "start_time": "2022-11-08T18:36:24.064Z"
   },
   {
    "duration": 987,
    "start_time": "2022-11-08T18:36:24.069Z"
   },
   {
    "duration": 51,
    "start_time": "2022-11-08T18:36:25.058Z"
   },
   {
    "duration": 186,
    "start_time": "2022-11-08T18:36:25.112Z"
   },
   {
    "duration": 207,
    "start_time": "2022-11-08T18:36:25.300Z"
   },
   {
    "duration": 68,
    "start_time": "2022-11-08T18:36:25.509Z"
   },
   {
    "duration": 180,
    "start_time": "2022-11-08T18:36:25.578Z"
   },
   {
    "duration": 28,
    "start_time": "2022-11-08T18:36:25.760Z"
   },
   {
    "duration": 25,
    "start_time": "2022-11-08T18:36:25.798Z"
   },
   {
    "duration": 28,
    "start_time": "2022-11-08T18:36:25.824Z"
   },
   {
    "duration": 15,
    "start_time": "2022-11-08T18:36:25.854Z"
   },
   {
    "duration": 50,
    "start_time": "2022-11-08T18:36:25.870Z"
   },
   {
    "duration": 23,
    "start_time": "2022-11-08T18:36:25.922Z"
   },
   {
    "duration": 29,
    "start_time": "2022-11-08T18:36:25.947Z"
   },
   {
    "duration": 137,
    "start_time": "2022-11-08T18:36:25.979Z"
   },
   {
    "duration": 15,
    "start_time": "2022-11-08T18:36:26.118Z"
   },
   {
    "duration": 150,
    "start_time": "2022-11-08T18:36:26.135Z"
   },
   {
    "duration": 149,
    "start_time": "2022-11-08T18:36:26.287Z"
   },
   {
    "duration": 14,
    "start_time": "2022-11-08T18:36:26.438Z"
   },
   {
    "duration": 8,
    "start_time": "2022-11-08T18:36:26.454Z"
   },
   {
    "duration": 57,
    "start_time": "2022-11-08T18:36:26.463Z"
   },
   {
    "duration": 27,
    "start_time": "2022-11-08T18:36:26.522Z"
   },
   {
    "duration": 113,
    "start_time": "2022-11-08T18:36:26.550Z"
   },
   {
    "duration": 669,
    "start_time": "2022-11-08T18:36:26.667Z"
   },
   {
    "duration": 72,
    "start_time": "2022-11-08T18:36:27.338Z"
   },
   {
    "duration": 38,
    "start_time": "2022-11-08T18:36:27.412Z"
   },
   {
    "duration": 81,
    "start_time": "2022-11-08T18:36:27.451Z"
   },
   {
    "duration": 31,
    "start_time": "2022-11-08T18:36:27.534Z"
   },
   {
    "duration": 70,
    "start_time": "2022-11-08T18:36:27.568Z"
   },
   {
    "duration": 27,
    "start_time": "2022-11-08T18:36:27.640Z"
   },
   {
    "duration": 52,
    "start_time": "2022-11-08T18:36:27.669Z"
   },
   {
    "duration": 126,
    "start_time": "2022-11-08T18:36:30.112Z"
   },
   {
    "duration": 3,
    "start_time": "2022-11-08T18:36:52.996Z"
   },
   {
    "duration": 835,
    "start_time": "2022-11-08T18:36:53.005Z"
   },
   {
    "duration": 38,
    "start_time": "2022-11-08T18:36:53.842Z"
   },
   {
    "duration": 194,
    "start_time": "2022-11-08T18:36:53.881Z"
   },
   {
    "duration": 261,
    "start_time": "2022-11-08T18:36:54.076Z"
   },
   {
    "duration": 84,
    "start_time": "2022-11-08T18:36:54.341Z"
   },
   {
    "duration": 198,
    "start_time": "2022-11-08T18:36:54.427Z"
   },
   {
    "duration": 30,
    "start_time": "2022-11-08T18:36:54.628Z"
   },
   {
    "duration": 41,
    "start_time": "2022-11-08T18:36:54.660Z"
   },
   {
    "duration": 31,
    "start_time": "2022-11-08T18:36:54.703Z"
   },
   {
    "duration": 16,
    "start_time": "2022-11-08T18:36:54.736Z"
   },
   {
    "duration": 49,
    "start_time": "2022-11-08T18:36:54.754Z"
   },
   {
    "duration": 24,
    "start_time": "2022-11-08T18:36:54.804Z"
   },
   {
    "duration": 27,
    "start_time": "2022-11-08T18:36:54.830Z"
   },
   {
    "duration": 119,
    "start_time": "2022-11-08T18:36:54.861Z"
   },
   {
    "duration": 23,
    "start_time": "2022-11-08T18:36:54.982Z"
   },
   {
    "duration": 146,
    "start_time": "2022-11-08T18:36:55.007Z"
   },
   {
    "duration": 176,
    "start_time": "2022-11-08T18:36:55.155Z"
   },
   {
    "duration": 16,
    "start_time": "2022-11-08T18:36:55.334Z"
   },
   {
    "duration": 8,
    "start_time": "2022-11-08T18:36:55.352Z"
   },
   {
    "duration": 56,
    "start_time": "2022-11-08T18:36:55.362Z"
   },
   {
    "duration": 26,
    "start_time": "2022-11-08T18:36:55.420Z"
   },
   {
    "duration": 115,
    "start_time": "2022-11-08T18:36:55.448Z"
   },
   {
    "duration": 525,
    "start_time": "2022-11-08T18:36:55.564Z"
   },
   {
    "duration": 70,
    "start_time": "2022-11-08T18:36:56.091Z"
   },
   {
    "duration": 55,
    "start_time": "2022-11-08T18:36:56.163Z"
   },
   {
    "duration": 60,
    "start_time": "2022-11-08T18:36:56.220Z"
   },
   {
    "duration": 44,
    "start_time": "2022-11-08T18:36:56.282Z"
   },
   {
    "duration": 77,
    "start_time": "2022-11-08T18:36:56.328Z"
   },
   {
    "duration": 27,
    "start_time": "2022-11-08T18:36:56.407Z"
   },
   {
    "duration": 39,
    "start_time": "2022-11-08T18:36:56.436Z"
   },
   {
    "duration": 164,
    "start_time": "2022-11-08T18:36:56.498Z"
   },
   {
    "duration": 68,
    "start_time": "2022-11-08T18:36:56.664Z"
   },
   {
    "duration": 243,
    "start_time": "2022-11-08T18:36:56.734Z"
   },
   {
    "duration": 42,
    "start_time": "2022-11-08T18:36:56.979Z"
   },
   {
    "duration": 83,
    "start_time": "2022-11-08T18:36:57.023Z"
   },
   {
    "duration": 38,
    "start_time": "2022-11-08T18:36:57.108Z"
   },
   {
    "duration": 51,
    "start_time": "2022-11-08T18:36:57.147Z"
   },
   {
    "duration": 67,
    "start_time": "2022-11-08T18:36:57.200Z"
   },
   {
    "duration": 58,
    "start_time": "2022-11-08T18:36:57.269Z"
   },
   {
    "duration": 38,
    "start_time": "2022-11-08T18:36:57.329Z"
   },
   {
    "duration": 74,
    "start_time": "2022-11-08T18:36:57.371Z"
   },
   {
    "duration": 92,
    "start_time": "2022-11-08T18:36:57.446Z"
   },
   {
    "duration": 92,
    "start_time": "2022-11-08T18:37:03.042Z"
   },
   {
    "duration": 10,
    "start_time": "2022-11-08T18:54:48.803Z"
   },
   {
    "duration": 749,
    "start_time": "2022-11-08T18:55:04.823Z"
   },
   {
    "duration": 724,
    "start_time": "2022-11-08T18:55:23.968Z"
   },
   {
    "duration": 4,
    "start_time": "2022-11-08T18:56:47.739Z"
   },
   {
    "duration": 948,
    "start_time": "2022-11-08T18:56:47.745Z"
   },
   {
    "duration": 39,
    "start_time": "2022-11-08T18:56:48.697Z"
   },
   {
    "duration": 194,
    "start_time": "2022-11-08T18:56:48.737Z"
   },
   {
    "duration": 228,
    "start_time": "2022-11-08T18:56:48.934Z"
   },
   {
    "duration": 74,
    "start_time": "2022-11-08T18:56:49.164Z"
   },
   {
    "duration": 179,
    "start_time": "2022-11-08T18:56:49.240Z"
   },
   {
    "duration": 36,
    "start_time": "2022-11-08T18:56:49.421Z"
   },
   {
    "duration": 21,
    "start_time": "2022-11-08T18:56:49.459Z"
   },
   {
    "duration": 47,
    "start_time": "2022-11-08T18:56:49.482Z"
   },
   {
    "duration": 16,
    "start_time": "2022-11-08T18:56:49.532Z"
   },
   {
    "duration": 50,
    "start_time": "2022-11-08T18:56:49.550Z"
   },
   {
    "duration": 24,
    "start_time": "2022-11-08T18:56:49.601Z"
   },
   {
    "duration": 30,
    "start_time": "2022-11-08T18:56:49.628Z"
   },
   {
    "duration": 102,
    "start_time": "2022-11-08T18:56:49.660Z"
   },
   {
    "duration": 16,
    "start_time": "2022-11-08T18:56:49.763Z"
   },
   {
    "duration": 151,
    "start_time": "2022-11-08T18:56:49.780Z"
   },
   {
    "duration": 152,
    "start_time": "2022-11-08T18:56:49.933Z"
   },
   {
    "duration": 29,
    "start_time": "2022-11-08T18:56:50.087Z"
   },
   {
    "duration": 9,
    "start_time": "2022-11-08T18:56:50.117Z"
   },
   {
    "duration": 37,
    "start_time": "2022-11-08T18:56:50.127Z"
   },
   {
    "duration": 48,
    "start_time": "2022-11-08T18:56:50.166Z"
   },
   {
    "duration": 118,
    "start_time": "2022-11-08T18:56:50.215Z"
   },
   {
    "duration": 530,
    "start_time": "2022-11-08T18:56:50.335Z"
   },
   {
    "duration": 79,
    "start_time": "2022-11-08T18:56:50.867Z"
   },
   {
    "duration": 58,
    "start_time": "2022-11-08T18:56:50.948Z"
   },
   {
    "duration": 60,
    "start_time": "2022-11-08T18:56:51.011Z"
   },
   {
    "duration": 178,
    "start_time": "2022-11-08T18:56:51.072Z"
   },
   {
    "duration": 71,
    "start_time": "2022-11-08T18:56:51.253Z"
   },
   {
    "duration": 29,
    "start_time": "2022-11-08T18:56:51.328Z"
   },
   {
    "duration": 70,
    "start_time": "2022-11-08T18:56:51.359Z"
   },
   {
    "duration": 132,
    "start_time": "2022-11-08T18:56:51.431Z"
   },
   {
    "duration": 80,
    "start_time": "2022-11-08T18:56:51.565Z"
   },
   {
    "duration": 252,
    "start_time": "2022-11-08T18:56:51.646Z"
   },
   {
    "duration": 41,
    "start_time": "2022-11-08T18:56:51.899Z"
   },
   {
    "duration": 230,
    "start_time": "2022-11-08T18:56:51.942Z"
   },
   {
    "duration": 52,
    "start_time": "2022-11-08T18:56:52.174Z"
   },
   {
    "duration": 31,
    "start_time": "2022-11-08T18:56:52.228Z"
   },
   {
    "duration": 87,
    "start_time": "2022-11-08T18:56:52.261Z"
   },
   {
    "duration": 57,
    "start_time": "2022-11-08T18:56:52.350Z"
   },
   {
    "duration": 39,
    "start_time": "2022-11-08T18:56:52.410Z"
   },
   {
    "duration": 76,
    "start_time": "2022-11-08T18:56:52.451Z"
   },
   {
    "duration": 92,
    "start_time": "2022-11-08T18:56:52.529Z"
   },
   {
    "duration": 27,
    "start_time": "2022-11-08T18:57:03.082Z"
   },
   {
    "duration": 67,
    "start_time": "2022-11-08T18:59:25.694Z"
   },
   {
    "duration": 4,
    "start_time": "2022-11-08T18:59:54.766Z"
   },
   {
    "duration": 876,
    "start_time": "2022-11-08T18:59:54.773Z"
   },
   {
    "duration": 36,
    "start_time": "2022-11-08T18:59:55.651Z"
   },
   {
    "duration": 173,
    "start_time": "2022-11-08T18:59:55.698Z"
   },
   {
    "duration": 232,
    "start_time": "2022-11-08T18:59:55.873Z"
   },
   {
    "duration": 68,
    "start_time": "2022-11-08T18:59:56.107Z"
   },
   {
    "duration": 187,
    "start_time": "2022-11-08T18:59:56.177Z"
   },
   {
    "duration": 49,
    "start_time": "2022-11-08T18:59:56.366Z"
   },
   {
    "duration": 27,
    "start_time": "2022-11-08T18:59:56.418Z"
   },
   {
    "duration": 31,
    "start_time": "2022-11-08T18:59:56.447Z"
   },
   {
    "duration": 42,
    "start_time": "2022-11-08T18:59:56.479Z"
   },
   {
    "duration": 32,
    "start_time": "2022-11-08T18:59:56.523Z"
   },
   {
    "duration": 23,
    "start_time": "2022-11-08T18:59:56.556Z"
   },
   {
    "duration": 49,
    "start_time": "2022-11-08T18:59:56.581Z"
   },
   {
    "duration": 94,
    "start_time": "2022-11-08T18:59:56.632Z"
   },
   {
    "duration": 22,
    "start_time": "2022-11-08T18:59:56.727Z"
   },
   {
    "duration": 167,
    "start_time": "2022-11-08T18:59:56.751Z"
   },
   {
    "duration": 147,
    "start_time": "2022-11-08T18:59:56.920Z"
   },
   {
    "duration": 14,
    "start_time": "2022-11-08T18:59:57.069Z"
   },
   {
    "duration": 17,
    "start_time": "2022-11-08T18:59:57.098Z"
   },
   {
    "duration": 47,
    "start_time": "2022-11-08T18:59:57.117Z"
   },
   {
    "duration": 26,
    "start_time": "2022-11-08T18:59:57.166Z"
   },
   {
    "duration": 125,
    "start_time": "2022-11-08T18:59:57.199Z"
   },
   {
    "duration": 582,
    "start_time": "2022-11-08T18:59:57.328Z"
   },
   {
    "duration": 69,
    "start_time": "2022-11-08T18:59:57.917Z"
   },
   {
    "duration": 48,
    "start_time": "2022-11-08T18:59:57.989Z"
   },
   {
    "duration": 98,
    "start_time": "2022-11-08T18:59:58.039Z"
   },
   {
    "duration": 37,
    "start_time": "2022-11-08T18:59:58.139Z"
   },
   {
    "duration": 88,
    "start_time": "2022-11-08T18:59:58.178Z"
   },
   {
    "duration": 61,
    "start_time": "2022-11-08T18:59:58.268Z"
   },
   {
    "duration": 41,
    "start_time": "2022-11-08T18:59:58.330Z"
   },
   {
    "duration": 149,
    "start_time": "2022-11-08T18:59:58.373Z"
   },
   {
    "duration": 106,
    "start_time": "2022-11-08T18:59:58.524Z"
   },
   {
    "duration": 435,
    "start_time": "2022-11-08T18:59:58.632Z"
   },
   {
    "duration": 50,
    "start_time": "2022-11-08T18:59:59.069Z"
   },
   {
    "duration": 98,
    "start_time": "2022-11-08T18:59:59.121Z"
   },
   {
    "duration": 62,
    "start_time": "2022-11-08T18:59:59.221Z"
   },
   {
    "duration": 49,
    "start_time": "2022-11-08T18:59:59.285Z"
   },
   {
    "duration": 86,
    "start_time": "2022-11-08T18:59:59.336Z"
   },
   {
    "duration": 41,
    "start_time": "2022-11-08T18:59:59.424Z"
   },
   {
    "duration": 74,
    "start_time": "2022-11-08T18:59:59.467Z"
   },
   {
    "duration": 80,
    "start_time": "2022-11-08T18:59:59.543Z"
   },
   {
    "duration": 91,
    "start_time": "2022-11-08T18:59:59.625Z"
   },
   {
    "duration": 59,
    "start_time": "2022-11-08T19:00:05.827Z"
   },
   {
    "duration": 581,
    "start_time": "2022-11-08T19:00:23.231Z"
   },
   {
    "duration": 555,
    "start_time": "2022-11-08T19:03:06.770Z"
   },
   {
    "duration": 4,
    "start_time": "2022-11-08T19:03:25.917Z"
   },
   {
    "duration": 863,
    "start_time": "2022-11-08T19:03:25.924Z"
   },
   {
    "duration": 43,
    "start_time": "2022-11-08T19:03:26.788Z"
   },
   {
    "duration": 183,
    "start_time": "2022-11-08T19:03:26.832Z"
   },
   {
    "duration": 197,
    "start_time": "2022-11-08T19:03:27.018Z"
   },
   {
    "duration": 66,
    "start_time": "2022-11-08T19:03:27.217Z"
   },
   {
    "duration": 176,
    "start_time": "2022-11-08T19:03:27.285Z"
   },
   {
    "duration": 38,
    "start_time": "2022-11-08T19:03:27.463Z"
   },
   {
    "duration": 24,
    "start_time": "2022-11-08T19:03:27.502Z"
   },
   {
    "duration": 31,
    "start_time": "2022-11-08T19:03:27.528Z"
   },
   {
    "duration": 51,
    "start_time": "2022-11-08T19:03:27.561Z"
   },
   {
    "duration": 26,
    "start_time": "2022-11-08T19:03:27.613Z"
   },
   {
    "duration": 24,
    "start_time": "2022-11-08T19:03:27.640Z"
   },
   {
    "duration": 46,
    "start_time": "2022-11-08T19:03:27.666Z"
   },
   {
    "duration": 90,
    "start_time": "2022-11-08T19:03:27.714Z"
   },
   {
    "duration": 16,
    "start_time": "2022-11-08T19:03:27.811Z"
   },
   {
    "duration": 140,
    "start_time": "2022-11-08T19:03:27.829Z"
   },
   {
    "duration": 147,
    "start_time": "2022-11-08T19:03:27.971Z"
   },
   {
    "duration": 17,
    "start_time": "2022-11-08T19:03:28.120Z"
   },
   {
    "duration": 8,
    "start_time": "2022-11-08T19:03:28.139Z"
   },
   {
    "duration": 65,
    "start_time": "2022-11-08T19:03:28.148Z"
   },
   {
    "duration": 25,
    "start_time": "2022-11-08T19:03:28.216Z"
   },
   {
    "duration": 117,
    "start_time": "2022-11-08T19:03:28.243Z"
   },
   {
    "duration": 589,
    "start_time": "2022-11-08T19:03:28.361Z"
   },
   {
    "duration": 80,
    "start_time": "2022-11-08T19:03:28.951Z"
   },
   {
    "duration": 38,
    "start_time": "2022-11-08T19:03:29.032Z"
   },
   {
    "duration": 88,
    "start_time": "2022-11-08T19:03:29.072Z"
   },
   {
    "duration": 49,
    "start_time": "2022-11-08T19:03:29.162Z"
   },
   {
    "duration": 62,
    "start_time": "2022-11-08T19:03:29.213Z"
   },
   {
    "duration": 46,
    "start_time": "2022-11-08T19:03:29.277Z"
   },
   {
    "duration": 51,
    "start_time": "2022-11-08T19:03:29.325Z"
   },
   {
    "duration": 137,
    "start_time": "2022-11-08T19:03:29.378Z"
   },
   {
    "duration": 63,
    "start_time": "2022-11-08T19:03:29.517Z"
   },
   {
    "duration": 293,
    "start_time": "2022-11-08T19:03:29.582Z"
   },
   {
    "duration": 50,
    "start_time": "2022-11-08T19:03:29.877Z"
   },
   {
    "duration": 76,
    "start_time": "2022-11-08T19:03:29.929Z"
   },
   {
    "duration": 41,
    "start_time": "2022-11-08T19:03:30.011Z"
   },
   {
    "duration": 63,
    "start_time": "2022-11-08T19:03:30.054Z"
   },
   {
    "duration": 96,
    "start_time": "2022-11-08T19:03:30.119Z"
   },
   {
    "duration": 45,
    "start_time": "2022-11-08T19:03:30.217Z"
   },
   {
    "duration": 84,
    "start_time": "2022-11-08T19:03:30.268Z"
   },
   {
    "duration": 63,
    "start_time": "2022-11-08T19:03:30.354Z"
   },
   {
    "duration": 95,
    "start_time": "2022-11-08T19:03:30.419Z"
   },
   {
    "duration": 86,
    "start_time": "2022-11-08T19:03:30.527Z"
   },
   {
    "duration": 584,
    "start_time": "2022-11-08T19:03:33.106Z"
   },
   {
    "duration": 325,
    "start_time": "2022-11-08T19:04:16.907Z"
   },
   {
    "duration": 707,
    "start_time": "2022-11-09T04:37:00.931Z"
   },
   {
    "duration": 511,
    "start_time": "2022-11-09T04:37:42.122Z"
   },
   {
    "duration": 596,
    "start_time": "2022-11-09T04:41:00.355Z"
   },
   {
    "duration": 17,
    "start_time": "2022-11-09T05:59:31.736Z"
   },
   {
    "duration": 17,
    "start_time": "2022-11-09T06:00:09.966Z"
   },
   {
    "duration": 69,
    "start_time": "2022-11-09T06:00:29.075Z"
   },
   {
    "duration": 69,
    "start_time": "2022-11-09T06:01:32.646Z"
   },
   {
    "duration": 79,
    "start_time": "2022-11-09T06:02:16.227Z"
   },
   {
    "duration": 59,
    "start_time": "2022-11-09T06:02:46.878Z"
   },
   {
    "duration": 64,
    "start_time": "2022-11-09T06:02:59.694Z"
   },
   {
    "duration": 23,
    "start_time": "2022-11-09T13:11:26.777Z"
   },
   {
    "duration": 53,
    "start_time": "2022-11-09T13:24:41.678Z"
   },
   {
    "duration": 1570,
    "start_time": "2022-11-09T13:24:50.587Z"
   },
   {
    "duration": 3,
    "start_time": "2022-11-09T13:25:00.882Z"
   },
   {
    "duration": 1339,
    "start_time": "2022-11-09T13:25:00.887Z"
   },
   {
    "duration": 51,
    "start_time": "2022-11-09T13:25:02.228Z"
   },
   {
    "duration": 294,
    "start_time": "2022-11-09T13:25:02.281Z"
   },
   {
    "duration": 227,
    "start_time": "2022-11-09T13:25:02.578Z"
   },
   {
    "duration": 90,
    "start_time": "2022-11-09T13:25:02.807Z"
   },
   {
    "duration": 197,
    "start_time": "2022-11-09T13:25:02.899Z"
   },
   {
    "duration": 37,
    "start_time": "2022-11-09T13:25:03.097Z"
   },
   {
    "duration": 34,
    "start_time": "2022-11-09T13:25:03.137Z"
   },
   {
    "duration": 139,
    "start_time": "2022-11-09T13:25:03.172Z"
   },
   {
    "duration": 135,
    "start_time": "2022-11-09T13:25:03.313Z"
   },
   {
    "duration": 27,
    "start_time": "2022-11-09T13:25:03.450Z"
   },
   {
    "duration": 24,
    "start_time": "2022-11-09T13:25:03.479Z"
   },
   {
    "duration": 40,
    "start_time": "2022-11-09T13:25:03.507Z"
   },
   {
    "duration": 97,
    "start_time": "2022-11-09T13:25:03.549Z"
   },
   {
    "duration": 18,
    "start_time": "2022-11-09T13:25:03.648Z"
   },
   {
    "duration": 154,
    "start_time": "2022-11-09T13:25:03.668Z"
   },
   {
    "duration": 153,
    "start_time": "2022-11-09T13:25:03.824Z"
   },
   {
    "duration": 31,
    "start_time": "2022-11-09T13:25:03.979Z"
   },
   {
    "duration": 17,
    "start_time": "2022-11-09T13:25:04.011Z"
   },
   {
    "duration": 60,
    "start_time": "2022-11-09T13:25:04.030Z"
   },
   {
    "duration": 38,
    "start_time": "2022-11-09T13:25:04.092Z"
   },
   {
    "duration": 146,
    "start_time": "2022-11-09T13:25:04.132Z"
   },
   {
    "duration": 635,
    "start_time": "2022-11-09T13:25:04.281Z"
   },
   {
    "duration": 87,
    "start_time": "2022-11-09T13:25:04.918Z"
   },
   {
    "duration": 41,
    "start_time": "2022-11-09T13:25:05.007Z"
   },
   {
    "duration": 81,
    "start_time": "2022-11-09T13:25:05.050Z"
   },
   {
    "duration": 35,
    "start_time": "2022-11-09T13:25:05.132Z"
   },
   {
    "duration": 166,
    "start_time": "2022-11-09T13:25:05.169Z"
   },
   {
    "duration": 29,
    "start_time": "2022-11-09T13:25:05.337Z"
   },
   {
    "duration": 57,
    "start_time": "2022-11-09T13:25:05.368Z"
   },
   {
    "duration": 150,
    "start_time": "2022-11-09T13:25:05.427Z"
   },
   {
    "duration": 70,
    "start_time": "2022-11-09T13:25:05.579Z"
   },
   {
    "duration": 286,
    "start_time": "2022-11-09T13:25:05.651Z"
   },
   {
    "duration": 37,
    "start_time": "2022-11-09T13:25:05.938Z"
   },
   {
    "duration": 80,
    "start_time": "2022-11-09T13:25:05.976Z"
   },
   {
    "duration": 57,
    "start_time": "2022-11-09T13:25:06.058Z"
   },
   {
    "duration": 34,
    "start_time": "2022-11-09T13:25:06.117Z"
   },
   {
    "duration": 94,
    "start_time": "2022-11-09T13:25:06.153Z"
   },
   {
    "duration": 55,
    "start_time": "2022-11-09T13:25:06.248Z"
   },
   {
    "duration": 43,
    "start_time": "2022-11-09T13:25:06.307Z"
   },
   {
    "duration": 71,
    "start_time": "2022-11-09T13:25:06.352Z"
   },
   {
    "duration": 100,
    "start_time": "2022-11-09T13:25:06.425Z"
   },
   {
    "duration": 80,
    "start_time": "2022-11-09T13:25:06.527Z"
   },
   {
    "duration": 614,
    "start_time": "2022-11-09T13:25:06.609Z"
   },
   {
    "duration": 623,
    "start_time": "2022-11-09T13:25:07.225Z"
   },
   {
    "duration": 79,
    "start_time": "2022-11-09T13:25:07.850Z"
   },
   {
    "duration": 52,
    "start_time": "2022-11-09T13:26:18.008Z"
   },
   {
    "duration": 11,
    "start_time": "2022-11-09T13:26:38.899Z"
   },
   {
    "duration": 1625,
    "start_time": "2022-11-09T13:27:01.240Z"
   },
   {
    "duration": 1346,
    "start_time": "2022-11-09T13:27:02.867Z"
   },
   {
    "duration": 54,
    "start_time": "2022-11-09T13:27:04.215Z"
   },
   {
    "duration": 231,
    "start_time": "2022-11-09T13:27:04.272Z"
   },
   {
    "duration": 249,
    "start_time": "2022-11-09T13:27:04.505Z"
   },
   {
    "duration": 83,
    "start_time": "2022-11-09T13:27:04.756Z"
   },
   {
    "duration": 184,
    "start_time": "2022-11-09T13:27:04.840Z"
   },
   {
    "duration": 34,
    "start_time": "2022-11-09T13:27:05.026Z"
   },
   {
    "duration": 42,
    "start_time": "2022-11-09T13:27:05.062Z"
   },
   {
    "duration": 40,
    "start_time": "2022-11-09T13:27:05.107Z"
   },
   {
    "duration": 22,
    "start_time": "2022-11-09T13:27:05.149Z"
   },
   {
    "duration": 62,
    "start_time": "2022-11-09T13:27:05.173Z"
   },
   {
    "duration": 25,
    "start_time": "2022-11-09T13:27:05.237Z"
   },
   {
    "duration": 50,
    "start_time": "2022-11-09T13:27:05.264Z"
   },
   {
    "duration": 103,
    "start_time": "2022-11-09T13:27:05.316Z"
   },
   {
    "duration": 16,
    "start_time": "2022-11-09T13:27:05.421Z"
   },
   {
    "duration": 161,
    "start_time": "2022-11-09T13:27:05.439Z"
   },
   {
    "duration": 157,
    "start_time": "2022-11-09T13:27:05.602Z"
   },
   {
    "duration": 16,
    "start_time": "2022-11-09T13:27:05.760Z"
   },
   {
    "duration": 25,
    "start_time": "2022-11-09T13:27:05.777Z"
   },
   {
    "duration": 38,
    "start_time": "2022-11-09T13:27:05.804Z"
   },
   {
    "duration": 54,
    "start_time": "2022-11-09T13:27:05.844Z"
   },
   {
    "duration": 117,
    "start_time": "2022-11-09T13:27:05.900Z"
   },
   {
    "duration": 546,
    "start_time": "2022-11-09T13:27:06.019Z"
   },
   {
    "duration": 80,
    "start_time": "2022-11-09T13:27:06.567Z"
   },
   {
    "duration": 52,
    "start_time": "2022-11-09T13:27:06.649Z"
   },
   {
    "duration": 63,
    "start_time": "2022-11-09T13:27:06.703Z"
   },
   {
    "duration": 52,
    "start_time": "2022-11-09T13:27:06.770Z"
   },
   {
    "duration": 77,
    "start_time": "2022-11-09T13:27:06.823Z"
   },
   {
    "duration": 31,
    "start_time": "2022-11-09T13:27:06.902Z"
   },
   {
    "duration": 39,
    "start_time": "2022-11-09T13:27:06.935Z"
   },
   {
    "duration": 143,
    "start_time": "2022-11-09T13:27:06.998Z"
   },
   {
    "duration": 80,
    "start_time": "2022-11-09T13:27:07.143Z"
   },
   {
    "duration": 274,
    "start_time": "2022-11-09T13:27:07.226Z"
   },
   {
    "duration": 128,
    "start_time": "2022-11-09T13:27:07.502Z"
   },
   {
    "duration": 82,
    "start_time": "2022-11-09T13:27:07.632Z"
   },
   {
    "duration": 41,
    "start_time": "2022-11-09T13:27:07.716Z"
   },
   {
    "duration": 48,
    "start_time": "2022-11-09T13:27:07.759Z"
   },
   {
    "duration": 69,
    "start_time": "2022-11-09T13:27:07.809Z"
   },
   {
    "duration": 58,
    "start_time": "2022-11-09T13:27:07.880Z"
   },
   {
    "duration": 59,
    "start_time": "2022-11-09T13:27:07.940Z"
   },
   {
    "duration": 58,
    "start_time": "2022-11-09T13:27:08.000Z"
   },
   {
    "duration": 95,
    "start_time": "2022-11-09T13:27:08.060Z"
   },
   {
    "duration": 80,
    "start_time": "2022-11-09T13:27:08.157Z"
   },
   {
    "duration": 623,
    "start_time": "2022-11-09T13:27:08.239Z"
   },
   {
    "duration": 675,
    "start_time": "2022-11-09T13:27:08.864Z"
   },
   {
    "duration": 88,
    "start_time": "2022-11-09T13:27:09.546Z"
   },
   {
    "duration": 1791,
    "start_time": "2022-11-09T13:51:21.618Z"
   },
   {
    "duration": 1377,
    "start_time": "2022-11-09T13:51:23.412Z"
   },
   {
    "duration": 65,
    "start_time": "2022-11-09T13:51:24.791Z"
   },
   {
    "duration": 250,
    "start_time": "2022-11-09T13:51:24.859Z"
   },
   {
    "duration": 283,
    "start_time": "2022-11-09T13:51:25.110Z"
   },
   {
    "duration": 74,
    "start_time": "2022-11-09T13:51:25.397Z"
   },
   {
    "duration": 190,
    "start_time": "2022-11-09T13:51:25.472Z"
   },
   {
    "duration": 37,
    "start_time": "2022-11-09T13:51:25.664Z"
   },
   {
    "duration": 27,
    "start_time": "2022-11-09T13:51:25.703Z"
   },
   {
    "duration": 32,
    "start_time": "2022-11-09T13:51:25.733Z"
   },
   {
    "duration": 40,
    "start_time": "2022-11-09T13:51:25.767Z"
   },
   {
    "duration": 26,
    "start_time": "2022-11-09T13:51:25.809Z"
   },
   {
    "duration": 24,
    "start_time": "2022-11-09T13:51:25.837Z"
   },
   {
    "duration": 46,
    "start_time": "2022-11-09T13:51:25.863Z"
   },
   {
    "duration": 95,
    "start_time": "2022-11-09T13:51:25.911Z"
   },
   {
    "duration": 16,
    "start_time": "2022-11-09T13:51:26.008Z"
   },
   {
    "duration": 154,
    "start_time": "2022-11-09T13:51:26.025Z"
   },
   {
    "duration": 153,
    "start_time": "2022-11-09T13:51:26.181Z"
   },
   {
    "duration": 15,
    "start_time": "2022-11-09T13:51:26.336Z"
   },
   {
    "duration": 10,
    "start_time": "2022-11-09T13:51:26.353Z"
   },
   {
    "duration": 65,
    "start_time": "2022-11-09T13:51:26.364Z"
   },
   {
    "duration": 26,
    "start_time": "2022-11-09T13:51:26.431Z"
   },
   {
    "duration": 126,
    "start_time": "2022-11-09T13:51:26.459Z"
   },
   {
    "duration": 548,
    "start_time": "2022-11-09T13:51:26.587Z"
   },
   {
    "duration": 121,
    "start_time": "2022-11-09T13:51:27.137Z"
   },
   {
    "duration": 52,
    "start_time": "2022-11-09T13:51:27.259Z"
   },
   {
    "duration": 69,
    "start_time": "2022-11-09T13:51:27.313Z"
   },
   {
    "duration": 33,
    "start_time": "2022-11-09T13:51:27.398Z"
   },
   {
    "duration": 83,
    "start_time": "2022-11-09T13:51:27.432Z"
   },
   {
    "duration": 29,
    "start_time": "2022-11-09T13:51:27.517Z"
   },
   {
    "duration": 74,
    "start_time": "2022-11-09T13:51:27.548Z"
   },
   {
    "duration": 164,
    "start_time": "2022-11-09T13:51:27.624Z"
   },
   {
    "duration": 82,
    "start_time": "2022-11-09T13:51:27.791Z"
   },
   {
    "duration": 285,
    "start_time": "2022-11-09T13:51:27.875Z"
   },
   {
    "duration": 136,
    "start_time": "2022-11-09T13:51:28.162Z"
   },
   {
    "duration": 68,
    "start_time": "2022-11-09T13:51:28.301Z"
   },
   {
    "duration": 56,
    "start_time": "2022-11-09T13:51:28.371Z"
   },
   {
    "duration": 34,
    "start_time": "2022-11-09T13:51:28.428Z"
   },
   {
    "duration": 93,
    "start_time": "2022-11-09T13:51:28.465Z"
   },
   {
    "duration": 76,
    "start_time": "2022-11-09T13:51:28.560Z"
   },
   {
    "duration": 73,
    "start_time": "2022-11-09T13:51:28.638Z"
   },
   {
    "duration": 82,
    "start_time": "2022-11-09T13:51:28.714Z"
   },
   {
    "duration": 79,
    "start_time": "2022-11-09T13:51:28.799Z"
   },
   {
    "duration": 81,
    "start_time": "2022-11-09T13:51:28.881Z"
   },
   {
    "duration": 604,
    "start_time": "2022-11-09T13:51:28.964Z"
   },
   {
    "duration": 649,
    "start_time": "2022-11-09T13:51:29.570Z"
   },
   {
    "duration": 94,
    "start_time": "2022-11-09T13:51:30.222Z"
   },
   {
    "duration": 2629,
    "start_time": "2022-11-15T16:25:42.064Z"
   },
   {
    "duration": 154,
    "start_time": "2022-11-15T16:25:44.695Z"
   },
   {
    "duration": 0,
    "start_time": "2022-11-15T16:25:44.851Z"
   },
   {
    "duration": 0,
    "start_time": "2022-11-15T16:25:44.852Z"
   },
   {
    "duration": 0,
    "start_time": "2022-11-15T16:25:44.854Z"
   },
   {
    "duration": 0,
    "start_time": "2022-11-15T16:25:44.855Z"
   },
   {
    "duration": 8,
    "start_time": "2022-11-15T16:25:45.283Z"
   },
   {
    "duration": 10,
    "start_time": "2022-11-15T16:25:45.661Z"
   },
   {
    "duration": 10,
    "start_time": "2022-11-15T16:25:46.039Z"
   },
   {
    "duration": 9,
    "start_time": "2022-11-15T16:25:46.425Z"
   },
   {
    "duration": 1250,
    "start_time": "2022-11-15T16:26:55.223Z"
   },
   {
    "duration": 1188,
    "start_time": "2022-11-15T16:27:30.566Z"
   },
   {
    "duration": 1568,
    "start_time": "2022-11-15T16:27:50.444Z"
   },
   {
    "duration": 898,
    "start_time": "2022-11-15T16:27:52.585Z"
   },
   {
    "duration": 16,
    "start_time": "2022-11-15T16:27:54.296Z"
   },
   {
    "duration": 29,
    "start_time": "2022-11-15T16:27:55.402Z"
   },
   {
    "duration": 194,
    "start_time": "2022-11-15T16:27:55.792Z"
   },
   {
    "duration": 249,
    "start_time": "2022-11-15T16:27:55.987Z"
   },
   {
    "duration": 68,
    "start_time": "2022-11-15T16:27:56.755Z"
   },
   {
    "duration": 155,
    "start_time": "2022-11-15T16:27:57.730Z"
   },
   {
    "duration": 29,
    "start_time": "2022-11-15T16:27:58.589Z"
   },
   {
    "duration": 31,
    "start_time": "2022-11-15T16:27:59.399Z"
   },
   {
    "duration": 29,
    "start_time": "2022-11-15T16:28:00.545Z"
   },
   {
    "duration": 17,
    "start_time": "2022-11-15T16:28:01.714Z"
   },
   {
    "duration": 28,
    "start_time": "2022-11-15T16:28:02.705Z"
   },
   {
    "duration": 23,
    "start_time": "2022-11-15T16:28:03.348Z"
   },
   {
    "duration": 30,
    "start_time": "2022-11-15T16:28:03.891Z"
   },
   {
    "duration": 95,
    "start_time": "2022-11-15T16:28:04.376Z"
   },
   {
    "duration": 16,
    "start_time": "2022-11-15T16:28:05.181Z"
   },
   {
    "duration": 123,
    "start_time": "2022-11-15T16:28:06.486Z"
   },
   {
    "duration": 127,
    "start_time": "2022-11-15T16:28:07.102Z"
   },
   {
    "duration": 13,
    "start_time": "2022-11-15T16:28:07.741Z"
   },
   {
    "duration": 9,
    "start_time": "2022-11-15T16:28:08.221Z"
   },
   {
    "duration": 32,
    "start_time": "2022-11-15T16:28:08.898Z"
   },
   {
    "duration": 23,
    "start_time": "2022-11-15T16:28:09.526Z"
   },
   {
    "duration": 89,
    "start_time": "2022-11-15T16:28:10.426Z"
   },
   {
    "duration": 546,
    "start_time": "2022-11-15T16:28:11.615Z"
   },
   {
    "duration": 66,
    "start_time": "2022-11-15T16:28:14.825Z"
   },
   {
    "duration": 34,
    "start_time": "2022-11-15T16:28:17.460Z"
   },
   {
    "duration": 51,
    "start_time": "2022-11-15T16:28:18.410Z"
   },
   {
    "duration": 27,
    "start_time": "2022-11-15T16:28:20.705Z"
   },
   {
    "duration": 52,
    "start_time": "2022-11-15T16:28:29.657Z"
   },
   {
    "duration": 24,
    "start_time": "2022-11-15T16:28:31.620Z"
   },
   {
    "duration": 34,
    "start_time": "2022-11-15T16:28:33.094Z"
   },
   {
    "duration": 124,
    "start_time": "2022-11-15T16:28:33.461Z"
   },
   {
    "duration": 58,
    "start_time": "2022-11-15T16:28:34.137Z"
   },
   {
    "duration": 221,
    "start_time": "2022-11-15T16:28:34.303Z"
   },
   {
    "duration": 35,
    "start_time": "2022-11-15T16:28:34.526Z"
   },
   {
    "duration": 77,
    "start_time": "2022-11-15T16:28:34.906Z"
   },
   {
    "duration": 56,
    "start_time": "2022-11-15T16:28:35.325Z"
   },
   {
    "duration": 30,
    "start_time": "2022-11-15T16:28:36.214Z"
   },
   {
    "duration": 59,
    "start_time": "2022-11-15T16:28:36.567Z"
   },
   {
    "duration": 39,
    "start_time": "2022-11-15T16:28:36.976Z"
   },
   {
    "duration": 37,
    "start_time": "2022-11-15T16:28:37.359Z"
   },
   {
    "duration": 46,
    "start_time": "2022-11-15T16:28:38.281Z"
   },
   {
    "duration": 69,
    "start_time": "2022-11-15T16:28:38.974Z"
   },
   {
    "duration": 53,
    "start_time": "2022-11-15T16:28:39.935Z"
   },
   {
    "duration": 11,
    "start_time": "2022-11-15T16:28:40.217Z"
   },
   {
    "duration": 56,
    "start_time": "2022-11-15T16:28:40.477Z"
   },
   {
    "duration": 126,
    "start_time": "2022-11-15T16:28:40.785Z"
   },
   {
    "duration": 507,
    "start_time": "2022-11-15T16:28:41.675Z"
   },
   {
    "duration": 31,
    "start_time": "2022-11-15T16:28:42.446Z"
   },
   {
    "duration": 57,
    "start_time": "2022-11-15T16:28:42.739Z"
   },
   {
    "duration": 98,
    "start_time": "2022-11-15T16:34:30.092Z"
   },
   {
    "duration": 8,
    "start_time": "2022-11-15T16:34:35.489Z"
   },
   {
    "duration": 478,
    "start_time": "2022-11-15T16:34:40.891Z"
   }
  ],
  "kernelspec": {
   "display_name": "Python 3 (ipykernel)",
   "language": "python",
   "name": "python3"
  },
  "language_info": {
   "codemirror_mode": {
    "name": "ipython",
    "version": 3
   },
   "file_extension": ".py",
   "mimetype": "text/x-python",
   "name": "python",
   "nbconvert_exporter": "python",
   "pygments_lexer": "ipython3",
   "version": "3.9.7"
  },
  "toc": {
   "base_numbering": 1,
   "nav_menu": {
    "height": "260px",
    "width": "365px"
   },
   "number_sections": true,
   "sideBar": true,
   "skip_h1_title": true,
   "title_cell": "Table of Contents",
   "title_sidebar": "Contents",
   "toc_cell": true,
   "toc_position": {
    "height": "calc(100% - 180px)",
    "left": "10px",
    "top": "150px",
    "width": "165px"
   },
   "toc_section_display": true,
   "toc_window_display": true
  }
 },
 "nbformat": 4,
 "nbformat_minor": 2
}
