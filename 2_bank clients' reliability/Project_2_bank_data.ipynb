{
 "cells": [
  {
   "cell_type": "markdown",
   "id": "905539c2",
   "metadata": {
    "toc": true
   },
   "source": [
    "<h1>Table of Contents<span class=\"tocSkip\"></span></h1>\n",
    "<div class=\"toc\"><ul class=\"toc-item\"><li><ul class=\"toc-item\"><li><span><a href=\"#Шаг-1.-Обзор-данных\" data-toc-modified-id=\"Шаг-1.-Обзор-данных-0.1\"><span class=\"toc-item-num\">0.1&nbsp;&nbsp;</span>Шаг 1. Обзор данных</a></span></li><li><span><a href=\"#Шаг-2.1-Заполнение-пропусков\" data-toc-modified-id=\"Шаг-2.1-Заполнение-пропусков-0.2\"><span class=\"toc-item-num\">0.2&nbsp;&nbsp;</span>Шаг 2.1 Заполнение пропусков</a></span></li><li><span><a href=\"#Шаг-2.2-Проверка-данных-на-аномалии-и-исправления.\" data-toc-modified-id=\"Шаг-2.2-Проверка-данных-на-аномалии-и-исправления.-0.3\"><span class=\"toc-item-num\">0.3&nbsp;&nbsp;</span>Шаг 2.2 Проверка данных на аномалии и исправления.</a></span></li><li><span><a href=\"#Шаг-2.3.-Изменение-типов-данных.\" data-toc-modified-id=\"Шаг-2.3.-Изменение-типов-данных.-0.4\"><span class=\"toc-item-num\">0.4&nbsp;&nbsp;</span>Шаг 2.3. Изменение типов данных.</a></span></li><li><span><a href=\"#Шаг-2.4.-Удаление-дубликатов.\" data-toc-modified-id=\"Шаг-2.4.-Удаление-дубликатов.-0.5\"><span class=\"toc-item-num\">0.5&nbsp;&nbsp;</span>Шаг 2.4. Удаление дубликатов.</a></span></li><li><span><a href=\"#Шаг-2.5.-Формирование-дополнительных-датафреймов-словарей,-декомпозиция-исходного-датафрейма.\" data-toc-modified-id=\"Шаг-2.5.-Формирование-дополнительных-датафреймов-словарей,-декомпозиция-исходного-датафрейма.-0.6\"><span class=\"toc-item-num\">0.6&nbsp;&nbsp;</span>Шаг 2.5. Формирование дополнительных датафреймов словарей, декомпозиция исходного датафрейма.</a></span></li><li><span><a href=\"#Шаг-2.6.-Категоризация-дохода.\" data-toc-modified-id=\"Шаг-2.6.-Категоризация-дохода.-0.7\"><span class=\"toc-item-num\">0.7&nbsp;&nbsp;</span>Шаг 2.6. Категоризация дохода.</a></span></li><li><span><a href=\"#Шаг-2.7.-Категоризация-целей-кредита.\" data-toc-modified-id=\"Шаг-2.7.-Категоризация-целей-кредита.-0.8\"><span class=\"toc-item-num\">0.8&nbsp;&nbsp;</span>Шаг 2.7. Категоризация целей кредита.</a></span></li><li><span><a href=\"#Ответы-на-вопросы.\" data-toc-modified-id=\"Ответы-на-вопросы.-0.9\"><span class=\"toc-item-num\">0.9&nbsp;&nbsp;</span>Ответы на вопросы.</a></span><ul class=\"toc-item\"><li><ul class=\"toc-item\"><li><span><a href=\"#Вопрос-1:-Есть-ли-зависимость-между-количеством-детей-и-возвратом-кредита-в-срок?\" data-toc-modified-id=\"Вопрос-1:-Есть-ли-зависимость-между-количеством-детей-и-возвратом-кредита-в-срок?-0.9.0.1\"><span class=\"toc-item-num\">0.9.0.1&nbsp;&nbsp;</span>Вопрос 1: Есть ли зависимость между количеством детей и возвратом кредита в срок?</a></span></li><li><span><a href=\"#Вывод-1:\" data-toc-modified-id=\"Вывод-1:-0.9.0.2\"><span class=\"toc-item-num\">0.9.0.2&nbsp;&nbsp;</span>Вывод 1:</a></span></li><li><span><a href=\"#Вопрос-2:-Есть-ли-зависимость-между-семейным-положением-и-возвратом-кредита-в-срок?\" data-toc-modified-id=\"Вопрос-2:-Есть-ли-зависимость-между-семейным-положением-и-возвратом-кредита-в-срок?-0.9.0.3\"><span class=\"toc-item-num\">0.9.0.3&nbsp;&nbsp;</span>Вопрос 2: Есть ли зависимость между семейным положением и возвратом кредита в срок?</a></span></li><li><span><a href=\"#Вывод-2:\" data-toc-modified-id=\"Вывод-2:-0.9.0.4\"><span class=\"toc-item-num\">0.9.0.4&nbsp;&nbsp;</span>Вывод 2:</a></span></li><li><span><a href=\"#Вопрос-3:-Есть-ли-зависимость-между-уровнем-дохода-и-возвратом-кредита-в-срок?\" data-toc-modified-id=\"Вопрос-3:-Есть-ли-зависимость-между-уровнем-дохода-и-возвратом-кредита-в-срок?-0.9.0.5\"><span class=\"toc-item-num\">0.9.0.5&nbsp;&nbsp;</span>Вопрос 3: Есть ли зависимость между уровнем дохода и возвратом кредита в срок?</a></span></li><li><span><a href=\"#Вывод-3:\" data-toc-modified-id=\"Вывод-3:-0.9.0.6\"><span class=\"toc-item-num\">0.9.0.6&nbsp;&nbsp;</span>Вывод 3:</a></span></li><li><span><a href=\"#Вопрос-4:-Как-разные-цели-кредита-влияют-на-его-возврат-в-срок?\" data-toc-modified-id=\"Вопрос-4:-Как-разные-цели-кредита-влияют-на-его-возврат-в-срок?-0.9.0.7\"><span class=\"toc-item-num\">0.9.0.7&nbsp;&nbsp;</span>Вопрос 4: Как разные цели кредита влияют на его возврат в срок?</a></span></li><li><span><a href=\"#Вывод-4:\" data-toc-modified-id=\"Вывод-4:-0.9.0.8\"><span class=\"toc-item-num\">0.9.0.8&nbsp;&nbsp;</span>Вывод 4:</a></span></li></ul></li></ul></li></ul></li><li><span><a href=\"#Общий-вывод:\" data-toc-modified-id=\"Общий-вывод:-1\"><span class=\"toc-item-num\">1&nbsp;&nbsp;</span>Общий вывод:</a></span></li></ul></div>"
   ]
  },
  {
   "cell_type": "markdown",
   "id": "3f4d3357",
   "metadata": {},
   "source": [
    "# Исследование надежности заемщиков"
   ]
  },
  {
   "cell_type": "markdown",
   "id": "6dd459e8",
   "metadata": {},
   "source": [
    "Заказчик: кредитный отдел банка.\n",
    "\n",
    "Задача проекта: выяснить, какие факторы (семейное положение, наличие детей) влияют на факт возврата банковского кредита в срок. Полученные выводы будут учитываться при построении модели кредитного скоринга.\n",
    "\n",
    "Предоставленные данные: статистика о платёжеспособности клиентов в форме таблицы.\n",
    "\n",
    "Описание данных:\n",
    "* `children` — количество детей в семье\n",
    "* `days_employed` — общий трудовой стаж в днях\n",
    "* `dob_years` — возраст клиента в годах\n",
    "* `education` — уровень образования клиента\n",
    "* `education_id` — идентификатор уровня образования\n",
    "* `family_status` — семейное положение\n",
    "* `family_status_id` — идентификатор семейного положения\n",
    "* `gender` — пол клиента\n",
    "* `income_type` — тип занятости\n",
    "* `debt` — имел ли задолженность по возврату кредитов\n",
    "* `total_income` — ежемесячный доход\n",
    "* `purpose` — цель получения кредита"
   ]
  },
  {
   "cell_type": "markdown",
   "id": "1c42aa7b",
   "metadata": {},
   "source": [
    "### Шаг 1. Обзор данных"
   ]
  },
  {
   "cell_type": "code",
   "execution_count": 1,
   "id": "7610ac7b",
   "metadata": {},
   "outputs": [
    {
     "data": {
      "text/html": [
       "<div>\n",
       "<style scoped>\n",
       "    .dataframe tbody tr th:only-of-type {\n",
       "        vertical-align: middle;\n",
       "    }\n",
       "\n",
       "    .dataframe tbody tr th {\n",
       "        vertical-align: top;\n",
       "    }\n",
       "\n",
       "    .dataframe thead th {\n",
       "        text-align: right;\n",
       "    }\n",
       "</style>\n",
       "<table border=\"1\" class=\"dataframe\">\n",
       "  <thead>\n",
       "    <tr style=\"text-align: right;\">\n",
       "      <th></th>\n",
       "      <th>children</th>\n",
       "      <th>days_employed</th>\n",
       "      <th>dob_years</th>\n",
       "      <th>education</th>\n",
       "      <th>education_id</th>\n",
       "      <th>family_status</th>\n",
       "      <th>family_status_id</th>\n",
       "      <th>gender</th>\n",
       "      <th>income_type</th>\n",
       "      <th>debt</th>\n",
       "      <th>total_income</th>\n",
       "      <th>purpose</th>\n",
       "    </tr>\n",
       "  </thead>\n",
       "  <tbody>\n",
       "    <tr>\n",
       "      <th>0</th>\n",
       "      <td>1</td>\n",
       "      <td>-8437.673028</td>\n",
       "      <td>42</td>\n",
       "      <td>высшее</td>\n",
       "      <td>0</td>\n",
       "      <td>женат / замужем</td>\n",
       "      <td>0</td>\n",
       "      <td>F</td>\n",
       "      <td>сотрудник</td>\n",
       "      <td>0</td>\n",
       "      <td>253875.639453</td>\n",
       "      <td>покупка жилья</td>\n",
       "    </tr>\n",
       "    <tr>\n",
       "      <th>1</th>\n",
       "      <td>1</td>\n",
       "      <td>-4024.803754</td>\n",
       "      <td>36</td>\n",
       "      <td>среднее</td>\n",
       "      <td>1</td>\n",
       "      <td>женат / замужем</td>\n",
       "      <td>0</td>\n",
       "      <td>F</td>\n",
       "      <td>сотрудник</td>\n",
       "      <td>0</td>\n",
       "      <td>112080.014102</td>\n",
       "      <td>приобретение автомобиля</td>\n",
       "    </tr>\n",
       "    <tr>\n",
       "      <th>2</th>\n",
       "      <td>0</td>\n",
       "      <td>-5623.422610</td>\n",
       "      <td>33</td>\n",
       "      <td>Среднее</td>\n",
       "      <td>1</td>\n",
       "      <td>женат / замужем</td>\n",
       "      <td>0</td>\n",
       "      <td>M</td>\n",
       "      <td>сотрудник</td>\n",
       "      <td>0</td>\n",
       "      <td>145885.952297</td>\n",
       "      <td>покупка жилья</td>\n",
       "    </tr>\n",
       "    <tr>\n",
       "      <th>3</th>\n",
       "      <td>3</td>\n",
       "      <td>-4124.747207</td>\n",
       "      <td>32</td>\n",
       "      <td>среднее</td>\n",
       "      <td>1</td>\n",
       "      <td>женат / замужем</td>\n",
       "      <td>0</td>\n",
       "      <td>M</td>\n",
       "      <td>сотрудник</td>\n",
       "      <td>0</td>\n",
       "      <td>267628.550329</td>\n",
       "      <td>дополнительное образование</td>\n",
       "    </tr>\n",
       "    <tr>\n",
       "      <th>4</th>\n",
       "      <td>0</td>\n",
       "      <td>340266.072047</td>\n",
       "      <td>53</td>\n",
       "      <td>среднее</td>\n",
       "      <td>1</td>\n",
       "      <td>гражданский брак</td>\n",
       "      <td>1</td>\n",
       "      <td>F</td>\n",
       "      <td>пенсионер</td>\n",
       "      <td>0</td>\n",
       "      <td>158616.077870</td>\n",
       "      <td>сыграть свадьбу</td>\n",
       "    </tr>\n",
       "    <tr>\n",
       "      <th>5</th>\n",
       "      <td>0</td>\n",
       "      <td>-926.185831</td>\n",
       "      <td>27</td>\n",
       "      <td>высшее</td>\n",
       "      <td>0</td>\n",
       "      <td>гражданский брак</td>\n",
       "      <td>1</td>\n",
       "      <td>M</td>\n",
       "      <td>компаньон</td>\n",
       "      <td>0</td>\n",
       "      <td>255763.565419</td>\n",
       "      <td>покупка жилья</td>\n",
       "    </tr>\n",
       "    <tr>\n",
       "      <th>6</th>\n",
       "      <td>0</td>\n",
       "      <td>-2879.202052</td>\n",
       "      <td>43</td>\n",
       "      <td>высшее</td>\n",
       "      <td>0</td>\n",
       "      <td>женат / замужем</td>\n",
       "      <td>0</td>\n",
       "      <td>F</td>\n",
       "      <td>компаньон</td>\n",
       "      <td>0</td>\n",
       "      <td>240525.971920</td>\n",
       "      <td>операции с жильем</td>\n",
       "    </tr>\n",
       "    <tr>\n",
       "      <th>7</th>\n",
       "      <td>0</td>\n",
       "      <td>-152.779569</td>\n",
       "      <td>50</td>\n",
       "      <td>СРЕДНЕЕ</td>\n",
       "      <td>1</td>\n",
       "      <td>женат / замужем</td>\n",
       "      <td>0</td>\n",
       "      <td>M</td>\n",
       "      <td>сотрудник</td>\n",
       "      <td>0</td>\n",
       "      <td>135823.934197</td>\n",
       "      <td>образование</td>\n",
       "    </tr>\n",
       "    <tr>\n",
       "      <th>8</th>\n",
       "      <td>2</td>\n",
       "      <td>-6929.865299</td>\n",
       "      <td>35</td>\n",
       "      <td>ВЫСШЕЕ</td>\n",
       "      <td>0</td>\n",
       "      <td>гражданский брак</td>\n",
       "      <td>1</td>\n",
       "      <td>F</td>\n",
       "      <td>сотрудник</td>\n",
       "      <td>0</td>\n",
       "      <td>95856.832424</td>\n",
       "      <td>на проведение свадьбы</td>\n",
       "    </tr>\n",
       "    <tr>\n",
       "      <th>9</th>\n",
       "      <td>0</td>\n",
       "      <td>-2188.756445</td>\n",
       "      <td>41</td>\n",
       "      <td>среднее</td>\n",
       "      <td>1</td>\n",
       "      <td>женат / замужем</td>\n",
       "      <td>0</td>\n",
       "      <td>M</td>\n",
       "      <td>сотрудник</td>\n",
       "      <td>0</td>\n",
       "      <td>144425.938277</td>\n",
       "      <td>покупка жилья для семьи</td>\n",
       "    </tr>\n",
       "  </tbody>\n",
       "</table>\n",
       "</div>"
      ],
      "text/plain": [
       "   children  days_employed  dob_years education  education_id  \\\n",
       "0         1   -8437.673028         42    высшее             0   \n",
       "1         1   -4024.803754         36   среднее             1   \n",
       "2         0   -5623.422610         33   Среднее             1   \n",
       "3         3   -4124.747207         32   среднее             1   \n",
       "4         0  340266.072047         53   среднее             1   \n",
       "5         0    -926.185831         27    высшее             0   \n",
       "6         0   -2879.202052         43    высшее             0   \n",
       "7         0    -152.779569         50   СРЕДНЕЕ             1   \n",
       "8         2   -6929.865299         35    ВЫСШЕЕ             0   \n",
       "9         0   -2188.756445         41   среднее             1   \n",
       "\n",
       "      family_status  family_status_id gender income_type  debt   total_income  \\\n",
       "0   женат / замужем                 0      F   сотрудник     0  253875.639453   \n",
       "1   женат / замужем                 0      F   сотрудник     0  112080.014102   \n",
       "2   женат / замужем                 0      M   сотрудник     0  145885.952297   \n",
       "3   женат / замужем                 0      M   сотрудник     0  267628.550329   \n",
       "4  гражданский брак                 1      F   пенсионер     0  158616.077870   \n",
       "5  гражданский брак                 1      M   компаньон     0  255763.565419   \n",
       "6   женат / замужем                 0      F   компаньон     0  240525.971920   \n",
       "7   женат / замужем                 0      M   сотрудник     0  135823.934197   \n",
       "8  гражданский брак                 1      F   сотрудник     0   95856.832424   \n",
       "9   женат / замужем                 0      M   сотрудник     0  144425.938277   \n",
       "\n",
       "                      purpose  \n",
       "0               покупка жилья  \n",
       "1     приобретение автомобиля  \n",
       "2               покупка жилья  \n",
       "3  дополнительное образование  \n",
       "4             сыграть свадьбу  \n",
       "5               покупка жилья  \n",
       "6           операции с жильем  \n",
       "7                 образование  \n",
       "8       на проведение свадьбы  \n",
       "9     покупка жилья для семьи  "
      ]
     },
     "execution_count": 1,
     "metadata": {},
     "output_type": "execute_result"
    }
   ],
   "source": [
    "import pandas as pd\n",
    "data = pd.read_csv('/datasets/data.csv')\n",
    "data.head(10)"
   ]
  },
  {
   "cell_type": "code",
   "execution_count": 2,
   "id": "8e5f1e29",
   "metadata": {},
   "outputs": [
    {
     "name": "stdout",
     "output_type": "stream",
     "text": [
      "<class 'pandas.core.frame.DataFrame'>\n",
      "RangeIndex: 21525 entries, 0 to 21524\n",
      "Data columns (total 12 columns):\n",
      " #   Column            Non-Null Count  Dtype  \n",
      "---  ------            --------------  -----  \n",
      " 0   children          21525 non-null  int64  \n",
      " 1   days_employed     19351 non-null  float64\n",
      " 2   dob_years         21525 non-null  int64  \n",
      " 3   education         21525 non-null  object \n",
      " 4   education_id      21525 non-null  int64  \n",
      " 5   family_status     21525 non-null  object \n",
      " 6   family_status_id  21525 non-null  int64  \n",
      " 7   gender            21525 non-null  object \n",
      " 8   income_type       21525 non-null  object \n",
      " 9   debt              21525 non-null  int64  \n",
      " 10  total_income      19351 non-null  float64\n",
      " 11  purpose           21525 non-null  object \n",
      "dtypes: float64(2), int64(5), object(5)\n",
      "memory usage: 2.0+ MB\n"
     ]
    }
   ],
   "source": [
    "data.info()"
   ]
  },
  {
   "cell_type": "markdown",
   "id": "e5991a31",
   "metadata": {},
   "source": [
    "В таблице 12 столбцов и 21525 строк.\n",
    "\n",
    "На первый взгляд видим следующие особенности в данных:\n",
    "* в столбцах `'days_employed'` и `'total_income'` есть пропущенные значения.\n",
    "* в столбце `'days_employed'` есть 'странные' значения: не может быть отрицательный стаж.\n",
    "* также в столбце `'days_employed'` приведены данные типа float, хотя количество дней может быть представлено целыми числами."
   ]
  },
  {
   "cell_type": "markdown",
   "id": "90e51bad",
   "metadata": {},
   "source": [
    "### Шаг 2.1 Заполнение пропусков"
   ]
  },
  {
   "cell_type": "markdown",
   "id": "df48968d",
   "metadata": {},
   "source": [
    "Находим, сколько пропущенных значений в столбцах `'days_employed'` и `'total_income'` и выясняем, какую долю это занимает от общего количества значений."
   ]
  },
  {
   "cell_type": "code",
   "execution_count": 3,
   "id": "ca0951ab",
   "metadata": {},
   "outputs": [
    {
     "name": "stdout",
     "output_type": "stream",
     "text": [
      "2174\n",
      "2174\n",
      "0.10099883855981417\n"
     ]
    }
   ],
   "source": [
    "print(data['days_employed'].isna().sum())\n",
    "print(data['total_income'].isna().sum())\n",
    "print(data['days_employed'].isna().sum() / len(data['days_employed']))"
   ]
  },
  {
   "cell_type": "markdown",
   "id": "4a0073c8",
   "metadata": {},
   "source": [
    "В обоих столбцах одинаковое количество пропущенных значений. Учитывая, что в столбцах одинаковое также общее количество значений, можно сказать, что и в одном, и в другом случае **пропущено 10%**.\n",
    "\n",
    "Можно изучить, есть ли особенности у строк, в которых пропущены данные этих столбцов."
   ]
  },
  {
   "cell_type": "code",
   "execution_count": 4,
   "id": "490d172a",
   "metadata": {
    "scrolled": true
   },
   "outputs": [
    {
     "data": {
      "text/html": [
       "<div>\n",
       "<style scoped>\n",
       "    .dataframe tbody tr th:only-of-type {\n",
       "        vertical-align: middle;\n",
       "    }\n",
       "\n",
       "    .dataframe tbody tr th {\n",
       "        vertical-align: top;\n",
       "    }\n",
       "\n",
       "    .dataframe thead th {\n",
       "        text-align: right;\n",
       "    }\n",
       "</style>\n",
       "<table border=\"1\" class=\"dataframe\">\n",
       "  <thead>\n",
       "    <tr style=\"text-align: right;\">\n",
       "      <th></th>\n",
       "      <th>children</th>\n",
       "      <th>days_employed</th>\n",
       "      <th>dob_years</th>\n",
       "      <th>education</th>\n",
       "      <th>education_id</th>\n",
       "      <th>family_status</th>\n",
       "      <th>family_status_id</th>\n",
       "      <th>gender</th>\n",
       "      <th>income_type</th>\n",
       "      <th>debt</th>\n",
       "      <th>total_income</th>\n",
       "      <th>purpose</th>\n",
       "    </tr>\n",
       "  </thead>\n",
       "  <tbody>\n",
       "    <tr>\n",
       "      <th>12</th>\n",
       "      <td>0</td>\n",
       "      <td>NaN</td>\n",
       "      <td>65</td>\n",
       "      <td>среднее</td>\n",
       "      <td>1</td>\n",
       "      <td>гражданский брак</td>\n",
       "      <td>1</td>\n",
       "      <td>M</td>\n",
       "      <td>пенсионер</td>\n",
       "      <td>0</td>\n",
       "      <td>NaN</td>\n",
       "      <td>сыграть свадьбу</td>\n",
       "    </tr>\n",
       "    <tr>\n",
       "      <th>26</th>\n",
       "      <td>0</td>\n",
       "      <td>NaN</td>\n",
       "      <td>41</td>\n",
       "      <td>среднее</td>\n",
       "      <td>1</td>\n",
       "      <td>женат / замужем</td>\n",
       "      <td>0</td>\n",
       "      <td>M</td>\n",
       "      <td>госслужащий</td>\n",
       "      <td>0</td>\n",
       "      <td>NaN</td>\n",
       "      <td>образование</td>\n",
       "    </tr>\n",
       "    <tr>\n",
       "      <th>29</th>\n",
       "      <td>0</td>\n",
       "      <td>NaN</td>\n",
       "      <td>63</td>\n",
       "      <td>среднее</td>\n",
       "      <td>1</td>\n",
       "      <td>Не женат / не замужем</td>\n",
       "      <td>4</td>\n",
       "      <td>F</td>\n",
       "      <td>пенсионер</td>\n",
       "      <td>0</td>\n",
       "      <td>NaN</td>\n",
       "      <td>строительство жилой недвижимости</td>\n",
       "    </tr>\n",
       "    <tr>\n",
       "      <th>41</th>\n",
       "      <td>0</td>\n",
       "      <td>NaN</td>\n",
       "      <td>50</td>\n",
       "      <td>среднее</td>\n",
       "      <td>1</td>\n",
       "      <td>женат / замужем</td>\n",
       "      <td>0</td>\n",
       "      <td>F</td>\n",
       "      <td>госслужащий</td>\n",
       "      <td>0</td>\n",
       "      <td>NaN</td>\n",
       "      <td>сделка с подержанным автомобилем</td>\n",
       "    </tr>\n",
       "    <tr>\n",
       "      <th>55</th>\n",
       "      <td>0</td>\n",
       "      <td>NaN</td>\n",
       "      <td>54</td>\n",
       "      <td>среднее</td>\n",
       "      <td>1</td>\n",
       "      <td>гражданский брак</td>\n",
       "      <td>1</td>\n",
       "      <td>F</td>\n",
       "      <td>пенсионер</td>\n",
       "      <td>1</td>\n",
       "      <td>NaN</td>\n",
       "      <td>сыграть свадьбу</td>\n",
       "    </tr>\n",
       "    <tr>\n",
       "      <th>65</th>\n",
       "      <td>0</td>\n",
       "      <td>NaN</td>\n",
       "      <td>21</td>\n",
       "      <td>среднее</td>\n",
       "      <td>1</td>\n",
       "      <td>Не женат / не замужем</td>\n",
       "      <td>4</td>\n",
       "      <td>M</td>\n",
       "      <td>компаньон</td>\n",
       "      <td>0</td>\n",
       "      <td>NaN</td>\n",
       "      <td>операции с коммерческой недвижимостью</td>\n",
       "    </tr>\n",
       "    <tr>\n",
       "      <th>67</th>\n",
       "      <td>0</td>\n",
       "      <td>NaN</td>\n",
       "      <td>52</td>\n",
       "      <td>высшее</td>\n",
       "      <td>0</td>\n",
       "      <td>женат / замужем</td>\n",
       "      <td>0</td>\n",
       "      <td>F</td>\n",
       "      <td>пенсионер</td>\n",
       "      <td>0</td>\n",
       "      <td>NaN</td>\n",
       "      <td>покупка жилья для семьи</td>\n",
       "    </tr>\n",
       "    <tr>\n",
       "      <th>72</th>\n",
       "      <td>1</td>\n",
       "      <td>NaN</td>\n",
       "      <td>32</td>\n",
       "      <td>высшее</td>\n",
       "      <td>0</td>\n",
       "      <td>женат / замужем</td>\n",
       "      <td>0</td>\n",
       "      <td>M</td>\n",
       "      <td>госслужащий</td>\n",
       "      <td>0</td>\n",
       "      <td>NaN</td>\n",
       "      <td>операции с коммерческой недвижимостью</td>\n",
       "    </tr>\n",
       "    <tr>\n",
       "      <th>82</th>\n",
       "      <td>2</td>\n",
       "      <td>NaN</td>\n",
       "      <td>50</td>\n",
       "      <td>высшее</td>\n",
       "      <td>0</td>\n",
       "      <td>женат / замужем</td>\n",
       "      <td>0</td>\n",
       "      <td>F</td>\n",
       "      <td>сотрудник</td>\n",
       "      <td>0</td>\n",
       "      <td>NaN</td>\n",
       "      <td>жилье</td>\n",
       "    </tr>\n",
       "    <tr>\n",
       "      <th>83</th>\n",
       "      <td>0</td>\n",
       "      <td>NaN</td>\n",
       "      <td>52</td>\n",
       "      <td>среднее</td>\n",
       "      <td>1</td>\n",
       "      <td>женат / замужем</td>\n",
       "      <td>0</td>\n",
       "      <td>M</td>\n",
       "      <td>сотрудник</td>\n",
       "      <td>0</td>\n",
       "      <td>NaN</td>\n",
       "      <td>жилье</td>\n",
       "    </tr>\n",
       "  </tbody>\n",
       "</table>\n",
       "</div>"
      ],
      "text/plain": [
       "    children  days_employed  dob_years education  education_id  \\\n",
       "12         0            NaN         65   среднее             1   \n",
       "26         0            NaN         41   среднее             1   \n",
       "29         0            NaN         63   среднее             1   \n",
       "41         0            NaN         50   среднее             1   \n",
       "55         0            NaN         54   среднее             1   \n",
       "65         0            NaN         21   среднее             1   \n",
       "67         0            NaN         52    высшее             0   \n",
       "72         1            NaN         32    высшее             0   \n",
       "82         2            NaN         50    высшее             0   \n",
       "83         0            NaN         52   среднее             1   \n",
       "\n",
       "            family_status  family_status_id gender  income_type  debt  \\\n",
       "12       гражданский брак                 1      M    пенсионер     0   \n",
       "26        женат / замужем                 0      M  госслужащий     0   \n",
       "29  Не женат / не замужем                 4      F    пенсионер     0   \n",
       "41        женат / замужем                 0      F  госслужащий     0   \n",
       "55       гражданский брак                 1      F    пенсионер     1   \n",
       "65  Не женат / не замужем                 4      M    компаньон     0   \n",
       "67        женат / замужем                 0      F    пенсионер     0   \n",
       "72        женат / замужем                 0      M  госслужащий     0   \n",
       "82        женат / замужем                 0      F    сотрудник     0   \n",
       "83        женат / замужем                 0      M    сотрудник     0   \n",
       "\n",
       "    total_income                                purpose  \n",
       "12           NaN                        сыграть свадьбу  \n",
       "26           NaN                            образование  \n",
       "29           NaN       строительство жилой недвижимости  \n",
       "41           NaN       сделка с подержанным автомобилем  \n",
       "55           NaN                        сыграть свадьбу  \n",
       "65           NaN  операции с коммерческой недвижимостью  \n",
       "67           NaN                покупка жилья для семьи  \n",
       "72           NaN  операции с коммерческой недвижимостью  \n",
       "82           NaN                                  жилье  \n",
       "83           NaN                                  жилье  "
      ]
     },
     "metadata": {},
     "output_type": "display_data"
    }
   ],
   "source": [
    "display(data[data['days_employed'].isna()].head(10))"
   ]
  },
  {
   "cell_type": "markdown",
   "id": "289f03bc",
   "metadata": {},
   "source": [
    "Каких-либо закономерностей не видно, за исключением того, что в строках с пропуском в столбце `'days_employed'` также нет данных и в столбце `'total_income'`. Вряд ли пропуски связаны с какой-то тенденцией: они могли появиться из-за человеческой ошибки.\n",
    "\n",
    "Заменим пропуски в столбце `'total_income'` на **медианное значение**: его лучше использовать в тех случах, когда речь идёт об измерении доходов и других показателей с большой вариативностью, так как минимальные и максимальные значения могут очень сильно влиять на среднее. "
   ]
  },
  {
   "cell_type": "code",
   "execution_count": 5,
   "id": "b4a757ca",
   "metadata": {},
   "outputs": [
    {
     "name": "stdout",
     "output_type": "stream",
     "text": [
      "145017.93753253992\n",
      "0\n"
     ]
    }
   ],
   "source": [
    "total_income_median = data['total_income'].median()\n",
    "print(total_income_median)\n",
    "# заменяем полученным медианным значением пропуски в данных\n",
    "data['total_income'] = data['total_income'].fillna(total_income_median)\n",
    "# проверяем, не осталось ли пропусков\n",
    "print(data['total_income'].isna().sum())"
   ]
  },
  {
   "cell_type": "markdown",
   "id": "3c9ef72b",
   "metadata": {},
   "source": [
    "### Шаг 2.2 Проверка данных на аномалии и исправления."
   ]
  },
  {
   "cell_type": "markdown",
   "id": "ffc551d0",
   "metadata": {},
   "source": [
    "Необходимо исправить аномалии в столбце `'days_employed'`, чтобы избавиться от отрицательных значений. Возьмём все данные по модулю."
   ]
  },
  {
   "cell_type": "code",
   "execution_count": 6,
   "id": "3d730d11",
   "metadata": {},
   "outputs": [
    {
     "name": "stdout",
     "output_type": "stream",
     "text": [
      "24.14163324048118\n",
      "401755.40047533\n"
     ]
    }
   ],
   "source": [
    "data['days_employed'] = data['days_employed'].abs()\n",
    "# проверяем, исчезли ли отрицательные значения\n",
    "print(data['days_employed'].min())\n",
    "print(data['days_employed'].max())\n"
   ]
  },
  {
   "cell_type": "markdown",
   "id": "cc8c405a",
   "metadata": {},
   "source": [
    "Обнаружено странное максимальное значение. Получается, что клиент работал 1100 лет. Можно уточнить, сколько в таблице подобных аномальных значений."
   ]
  },
  {
   "cell_type": "code",
   "execution_count": 7,
   "id": "13b14272",
   "metadata": {
    "scrolled": false
   },
   "outputs": [
    {
     "name": "stdout",
     "output_type": "stream",
     "text": [
      "3445\n",
      "income_type\n",
      "безработный       2\n",
      "пенсионер      3443\n",
      "Name: dob_years, dtype: int64\n"
     ]
    },
    {
     "data": {
      "text/plain": [
       "income_type\n",
       "безработный            2\n",
       "в декрете              1\n",
       "госслужащий         1459\n",
       "компаньон           5085\n",
       "пенсионер           3856\n",
       "предприниматель        2\n",
       "сотрудник          11119\n",
       "студент                1\n",
       "Name: dob_years, dtype: int64"
      ]
     },
     "execution_count": 7,
     "metadata": {},
     "output_type": "execute_result"
    }
   ],
   "source": [
    "# Примем, что трудовой стаж человека в возрасте 75 лет не может быть более 100 лет \n",
    "# (даже с учётом \"северной надбавки\") или 36500 дней\n",
    "\n",
    "employees_of_millenia = data.loc[data['days_employed'] > 36500]\n",
    "print(len(employees_of_millenia['days_employed']))\n",
    "\n",
    "# возможно, проблема в конкретной профессиональной группе\n",
    "print(employees_of_millenia.groupby('income_type')['dob_years'].count())\n",
    "\n",
    "# сравним с количеством клиентов из этих профессиональных групп в общей таблице\n",
    "data.groupby('income_type')['dob_years'].count()"
   ]
  },
  {
   "cell_type": "markdown",
   "id": "3e7b6221",
   "metadata": {},
   "source": [
    "У обоих безработных и многих пенсионеров стаж указан неправильно. Можно нормировать экстремальные показатели, разделив их на 20 (тогда максимальный стаж будет 55 лет, что похоже на правду. Такой подход здесь возможно применить, так как столбец стажа не понадобится для целей исследования - в целом более оптимальным было бы прояснить ситуацию у тех, кто собирал данные."
   ]
  },
  {
   "cell_type": "code",
   "execution_count": 8,
   "id": "b432071e",
   "metadata": {},
   "outputs": [
    {
     "name": "stdout",
     "output_type": "stream",
     "text": [
      "20087.7700237665\n"
     ]
    }
   ],
   "source": [
    "for item in data['days_employed']: \n",
    "    if item > (55 * 365):\n",
    "        data['days_employed'] = data['days_employed'].replace(item, item / 20)\n",
    "\n",
    "print(data['days_employed'].max())"
   ]
  },
  {
   "cell_type": "markdown",
   "id": "419dbbb3",
   "metadata": {},
   "source": [
    "Теперь можно заменить пропущенные значения в этом столбце на медианное значение."
   ]
  },
  {
   "cell_type": "code",
   "execution_count": 9,
   "id": "1680d6c6",
   "metadata": {},
   "outputs": [
    {
     "name": "stdout",
     "output_type": "stream",
     "text": [
      "2194.220566878695\n",
      "0\n"
     ]
    }
   ],
   "source": [
    "days_employed_median = data['days_employed'].median()\n",
    "print(days_employed_median)\n",
    "# заменяем полученным медианным значением пропуски в данных\n",
    "data['days_employed'] = data['days_employed'].fillna(days_employed_median)\n",
    "# проверяем, не осталось ли пропусков\n",
    "print(data['days_employed'].isna().sum())"
   ]
  },
  {
   "cell_type": "markdown",
   "id": "9c276b26",
   "metadata": {},
   "source": [
    "**Проверим на аномалии другие столбцы с количественныеми переменными.**"
   ]
  },
  {
   "cell_type": "code",
   "execution_count": 10,
   "id": "8f026dd1",
   "metadata": {},
   "outputs": [
    {
     "name": "stdout",
     "output_type": "stream",
     "text": [
      "[-1  0  1  2  3  4  5 20]\n",
      " 0     14149\n",
      " 1      4818\n",
      " 2      2055\n",
      " 3       330\n",
      " 20       76\n",
      "-1        47\n",
      " 4        41\n",
      " 5         9\n",
      "Name: children, dtype: int64\n"
     ]
    }
   ],
   "source": [
    "print(data['children'].sort_values().unique())\n",
    "# в столбце 'children' видим аномалию - отрицательным количество детей быть не может\n",
    "\n",
    "# посмотрим более детально\n",
    "print(data['children'].value_counts())\n"
   ]
  },
  {
   "cell_type": "code",
   "execution_count": 11,
   "id": "ef95bcf2",
   "metadata": {},
   "outputs": [
    {
     "name": "stdout",
     "output_type": "stream",
     "text": [
      "0\n",
      "75\n",
      "[ 0 19 20 21 22 23 24 25 26 27 28 29 30 31 32 33 34 35 36 37 38 39 40 41\n",
      " 42 43 44 45 46 47 48 49 50 51 52 53 54 55 56 57 58 59 60 61 62 63 64 65\n",
      " 66 67 68 69 70 71 72 73 74 75]\n",
      "101\n",
      "\n"
     ]
    }
   ],
   "source": [
    "print(data['dob_years'].min())\n",
    "print(data['dob_years'].max())\n",
    "# видим значение '0', что выглядит подозрительно - не может быть такого клиента банка\n",
    "\n",
    "# посмотрим, сколько аномальных значений в этом столбце в целом\n",
    "print(data['dob_years'].sort_values().unique())\n",
    "# кроме '0' аномальных значений нет, значит, это значение символизирует пропуск данных\n",
    "\n",
    "# посмотрим, сколько раз данные о возрасте были пропущены\n",
    "print(len(data[data['dob_years'] == 0]))\n",
    "print()"
   ]
  },
  {
   "cell_type": "code",
   "execution_count": 12,
   "id": "01d3a872",
   "metadata": {},
   "outputs": [
    {
     "name": "stdout",
     "output_type": "stream",
     "text": [
      "[0 1]\n"
     ]
    }
   ],
   "source": [
    "print(data['debt'].unique())\n",
    "# '0' означает, что задолженности у клиента не было, '1' - что была"
   ]
  },
  {
   "cell_type": "markdown",
   "id": "594218e7",
   "metadata": {},
   "source": [
    "**Аномальные значения есть в столбцах**: \n",
    "* `'children'` - если основываться на данных этого столбца, у некоторых клиентов отрицательное количество детей. Видимо, имело место опечатка. С другой стороны, есть несколько наблюдений, в которых значение соответствует 20. По идее, причину происхождения этой \"ошибки\" нужно было бы прояснить с теми, кто собирает данные. Возможно, таким образом записывается многодетность, а возможно - там лишний ноль. Но так как этих значений немного, они вряд ли повлияют на выводы исследования.\n",
    "* `'dob_years'` - по всей видимости, '0' означает пропуск данных. Таких случаев довольно мало: около 4%, но всё же их целесообразно изменить.\n",
    "\n",
    "Исправим проблемы. В столбце `'children'` приведём все значения к натуральным, а в столбце `'dob_years'` заменим нули на средний возраст клиентов. В данном случае оправдано использование среднего, так как разброс данных по возрасту небольшой, нет экстремальных выбросов, которые бы влияли на среднее."
   ]
  },
  {
   "cell_type": "code",
   "execution_count": 13,
   "id": "b64851df",
   "metadata": {},
   "outputs": [],
   "source": [
    "data['children'] = data['children'].abs()\n",
    "\n",
    "dob_years_mean = data['dob_years'].mean().astype(int)\n",
    "# лучше привести среднее к типу integer, характерному для остальных данных в этом столбце\n",
    "\n",
    "# заменяем нули в столбце на полученное среднее значение\n",
    "data['dob_years'] = data['dob_years'].replace(0, dob_years_mean)\n",
    "\n"
   ]
  },
  {
   "cell_type": "markdown",
   "id": "37af8673",
   "metadata": {},
   "source": [
    "### Шаг 2.3. Изменение типов данных."
   ]
  },
  {
   "cell_type": "markdown",
   "id": "0a292608",
   "metadata": {},
   "source": [
    "Остаётся проблема типа данных: нужно заменить тип данных float на int в столбце `'days_employed'`."
   ]
  },
  {
   "cell_type": "code",
   "execution_count": 14,
   "id": "d0dd0803",
   "metadata": {},
   "outputs": [
    {
     "data": {
      "text/plain": [
       "children              int64\n",
       "days_employed         int64\n",
       "dob_years             int64\n",
       "education            object\n",
       "education_id          int64\n",
       "family_status        object\n",
       "family_status_id      int64\n",
       "gender               object\n",
       "income_type          object\n",
       "debt                  int64\n",
       "total_income        float64\n",
       "purpose              object\n",
       "dtype: object"
      ]
     },
     "execution_count": 14,
     "metadata": {},
     "output_type": "execute_result"
    }
   ],
   "source": [
    "data['days_employed'] = data['days_employed'].astype(int)\n",
    "\n",
    "# проверяем, какие типы данных в столбцах\n",
    "data.dtypes\n"
   ]
  },
  {
   "cell_type": "markdown",
   "id": "cc40beeb",
   "metadata": {},
   "source": [
    "### Шаг 2.4. Удаление дубликатов."
   ]
  },
  {
   "cell_type": "markdown",
   "id": "904935aa",
   "metadata": {},
   "source": [
    "Сначала необходимо выяснить, есть ли в таблице строки-дубликаты и сколько их."
   ]
  },
  {
   "cell_type": "code",
   "execution_count": 15,
   "id": "c1a02a18",
   "metadata": {},
   "outputs": [
    {
     "data": {
      "text/plain": [
       "54"
      ]
     },
     "execution_count": 15,
     "metadata": {},
     "output_type": "execute_result"
    }
   ],
   "source": [
    "data.duplicated().sum()"
   ]
  },
  {
   "cell_type": "markdown",
   "id": "5ed837df",
   "metadata": {},
   "source": [
    "Избавимся от дубликатов."
   ]
  },
  {
   "cell_type": "code",
   "execution_count": 16,
   "id": "b0e56684",
   "metadata": {},
   "outputs": [
    {
     "data": {
      "text/plain": [
       "0"
      ]
     },
     "execution_count": 16,
     "metadata": {},
     "output_type": "execute_result"
    }
   ],
   "source": [
    "data = data.drop_duplicates().reset_index(drop=True)\n",
    "\n",
    "# проверим, остались ли дубликаты\n",
    "data.duplicated().sum()"
   ]
  },
  {
   "cell_type": "markdown",
   "id": "b40be250",
   "metadata": {},
   "source": [
    "Проверим, есть ли **неявные дубликаты** во всех столбцах, содержащих категориальные значения: `'education'`, `'family_status'`, `'gender'`, `'income_type'` и `'purpose'`."
   ]
  },
  {
   "cell_type": "markdown",
   "id": "a17e1ce2",
   "metadata": {},
   "source": [
    "**Столбец `'education'`**"
   ]
  },
  {
   "cell_type": "code",
   "execution_count": 17,
   "id": "c34a2a83",
   "metadata": {
    "scrolled": true
   },
   "outputs": [
    {
     "data": {
      "text/plain": [
       "array(['ВЫСШЕЕ', 'Высшее', 'НАЧАЛЬНОЕ', 'НЕОКОНЧЕННОЕ ВЫСШЕЕ',\n",
       "       'Начальное', 'Неоконченное высшее', 'СРЕДНЕЕ', 'Среднее',\n",
       "       'УЧЕНАЯ СТЕПЕНЬ', 'Ученая степень', 'высшее', 'начальное',\n",
       "       'неоконченное высшее', 'среднее', 'ученая степень'], dtype=object)"
      ]
     },
     "execution_count": 17,
     "metadata": {},
     "output_type": "execute_result"
    }
   ],
   "source": [
    "data['education'].sort_values().unique()"
   ]
  },
  {
   "cell_type": "markdown",
   "id": "437a059c",
   "metadata": {},
   "source": [
    "Заметно, что все дубликаты в этом столбце связаны с использованием разных регистров.\n",
    "\n",
    "Вероятно, такие дубликаты появились из-за \"человеческой ошибки\": например, разные сотрудники могли по-разному заполнять данные при работе с клиентами.\n",
    "\n",
    "Устраним проблему приведением всех данных к нижнему регистру."
   ]
  },
  {
   "cell_type": "code",
   "execution_count": 18,
   "id": "c2c32525",
   "metadata": {},
   "outputs": [
    {
     "data": {
      "text/plain": [
       "array(['высшее', 'начальное', 'неоконченное высшее', 'среднее',\n",
       "       'ученая степень'], dtype=object)"
      ]
     },
     "execution_count": 18,
     "metadata": {},
     "output_type": "execute_result"
    }
   ],
   "source": [
    "data['education'] = data['education'].str.lower()\n",
    "\n",
    "data['education'].sort_values().unique()"
   ]
  },
  {
   "cell_type": "markdown",
   "id": "c3eb286d",
   "metadata": {},
   "source": [
    "**Столбцы `'family_status'`, `'gender'` и `'income_type'`**"
   ]
  },
  {
   "cell_type": "code",
   "execution_count": 19,
   "id": "6a648fd3",
   "metadata": {},
   "outputs": [
    {
     "data": {
      "text/plain": [
       "array(['Не женат / не замужем', 'в разводе', 'вдовец / вдова',\n",
       "       'гражданский брак', 'женат / замужем'], dtype=object)"
      ]
     },
     "execution_count": 19,
     "metadata": {},
     "output_type": "execute_result"
    }
   ],
   "source": [
    "data['family_status'].sort_values().unique()"
   ]
  },
  {
   "cell_type": "code",
   "execution_count": 20,
   "id": "1505b2db",
   "metadata": {},
   "outputs": [
    {
     "name": "stdout",
     "output_type": "stream",
     "text": [
      "['F' 'M' 'XNA']\n",
      "F      14189\n",
      "M       7281\n",
      "XNA        1\n",
      "Name: gender, dtype: int64\n"
     ]
    },
    {
     "data": {
      "text/html": [
       "<div>\n",
       "<style scoped>\n",
       "    .dataframe tbody tr th:only-of-type {\n",
       "        vertical-align: middle;\n",
       "    }\n",
       "\n",
       "    .dataframe tbody tr th {\n",
       "        vertical-align: top;\n",
       "    }\n",
       "\n",
       "    .dataframe thead th {\n",
       "        text-align: right;\n",
       "    }\n",
       "</style>\n",
       "<table border=\"1\" class=\"dataframe\">\n",
       "  <thead>\n",
       "    <tr style=\"text-align: right;\">\n",
       "      <th></th>\n",
       "      <th>children</th>\n",
       "      <th>days_employed</th>\n",
       "      <th>dob_years</th>\n",
       "      <th>education</th>\n",
       "      <th>education_id</th>\n",
       "      <th>family_status</th>\n",
       "      <th>family_status_id</th>\n",
       "      <th>gender</th>\n",
       "      <th>income_type</th>\n",
       "      <th>debt</th>\n",
       "      <th>total_income</th>\n",
       "      <th>purpose</th>\n",
       "    </tr>\n",
       "  </thead>\n",
       "  <tbody>\n",
       "    <tr>\n",
       "      <th>10690</th>\n",
       "      <td>0</td>\n",
       "      <td>2358</td>\n",
       "      <td>24</td>\n",
       "      <td>неоконченное высшее</td>\n",
       "      <td>2</td>\n",
       "      <td>гражданский брак</td>\n",
       "      <td>1</td>\n",
       "      <td>XNA</td>\n",
       "      <td>компаньон</td>\n",
       "      <td>0</td>\n",
       "      <td>203905.157261</td>\n",
       "      <td>покупка недвижимости</td>\n",
       "    </tr>\n",
       "  </tbody>\n",
       "</table>\n",
       "</div>"
      ],
      "text/plain": [
       "       children  days_employed  dob_years            education  education_id  \\\n",
       "10690         0           2358         24  неоконченное высшее             2   \n",
       "\n",
       "          family_status  family_status_id gender income_type  debt  \\\n",
       "10690  гражданский брак                 1    XNA   компаньон     0   \n",
       "\n",
       "        total_income               purpose  \n",
       "10690  203905.157261  покупка недвижимости  "
      ]
     },
     "execution_count": 20,
     "metadata": {},
     "output_type": "execute_result"
    }
   ],
   "source": [
    "print(data['gender'].sort_values().unique())\n",
    "# получили странный вывод\n",
    "print(data['gender'].value_counts())\n",
    "data.loc[data['gender'] == 'XNA']"
   ]
  },
  {
   "cell_type": "markdown",
   "id": "a393b55a",
   "metadata": {},
   "source": [
    "Пол не указан всего в одном случае из 21500 наблюдений. Вряд ли это повлияет на результаты исследования."
   ]
  },
  {
   "cell_type": "code",
   "execution_count": 21,
   "id": "9562e484",
   "metadata": {},
   "outputs": [
    {
     "data": {
      "text/plain": [
       "array(['безработный', 'в декрете', 'госслужащий', 'компаньон',\n",
       "       'пенсионер', 'предприниматель', 'сотрудник', 'студент'],\n",
       "      dtype=object)"
      ]
     },
     "execution_count": 21,
     "metadata": {},
     "output_type": "execute_result"
    }
   ],
   "source": [
    "data['income_type'].sort_values().unique()"
   ]
  },
  {
   "cell_type": "markdown",
   "id": "b157d417",
   "metadata": {},
   "source": [
    "Во всех трёх столбцах нет дубликатов."
   ]
  },
  {
   "cell_type": "markdown",
   "id": "8c0d4a3c",
   "metadata": {},
   "source": [
    "**Столбец `'purpose'`** "
   ]
  },
  {
   "cell_type": "code",
   "execution_count": 22,
   "id": "9b5ea36f",
   "metadata": {},
   "outputs": [
    {
     "data": {
      "text/plain": [
       "array(['автомобили', 'автомобиль', 'высшее образование',\n",
       "       'дополнительное образование', 'жилье',\n",
       "       'заняться высшим образованием', 'заняться образованием',\n",
       "       'на покупку автомобиля', 'на покупку подержанного автомобиля',\n",
       "       'на покупку своего автомобиля', 'на проведение свадьбы',\n",
       "       'недвижимость', 'образование', 'операции с жильем',\n",
       "       'операции с коммерческой недвижимостью',\n",
       "       'операции с недвижимостью', 'операции со своей недвижимостью',\n",
       "       'покупка жилой недвижимости', 'покупка жилья',\n",
       "       'покупка жилья для сдачи', 'покупка жилья для семьи',\n",
       "       'покупка коммерческой недвижимости', 'покупка недвижимости',\n",
       "       'покупка своего жилья', 'получение высшего образования',\n",
       "       'получение дополнительного образования', 'получение образования',\n",
       "       'приобретение автомобиля', 'профильное образование',\n",
       "       'ремонт жилью', 'свадьба', 'свой автомобиль',\n",
       "       'сделка с автомобилем', 'сделка с подержанным автомобилем',\n",
       "       'строительство жилой недвижимости', 'строительство недвижимости',\n",
       "       'строительство собственной недвижимости', 'сыграть свадьбу'],\n",
       "      dtype=object)"
      ]
     },
     "execution_count": 22,
     "metadata": {},
     "output_type": "execute_result"
    }
   ],
   "source": [
    "data['purpose'].sort_values().unique()"
   ]
  },
  {
   "cell_type": "code",
   "execution_count": 23,
   "id": "7a0ef52b",
   "metadata": {},
   "outputs": [
    {
     "data": {
      "text/plain": [
       "свадьба                                   793\n",
       "на проведение свадьбы                     773\n",
       "сыграть свадьбу                           769\n",
       "операции с недвижимостью                  675\n",
       "покупка коммерческой недвижимости         662\n",
       "покупка жилья для сдачи                   652\n",
       "операции с жильем                         652\n",
       "операции с коммерческой недвижимостью     650\n",
       "жилье                                     646\n",
       "покупка жилья                             646\n",
       "покупка жилья для семьи                   638\n",
       "строительство собственной недвижимости    635\n",
       "недвижимость                              633\n",
       "операции со своей недвижимостью           627\n",
       "строительство жилой недвижимости          625\n",
       "покупка недвижимости                      621\n",
       "покупка своего жилья                      620\n",
       "строительство недвижимости                619\n",
       "ремонт жилью                              607\n",
       "покупка жилой недвижимости                606\n",
       "на покупку своего автомобиля              505\n",
       "заняться высшим образованием              496\n",
       "автомобиль                                494\n",
       "сделка с подержанным автомобилем          486\n",
       "свой автомобиль                           479\n",
       "автомобили                                478\n",
       "на покупку подержанного автомобиля        478\n",
       "на покупку автомобиля                     472\n",
       "приобретение автомобиля                   461\n",
       "дополнительное образование                460\n",
       "сделка с автомобилем                      455\n",
       "высшее образование                        452\n",
       "получение дополнительного образования     447\n",
       "образование                               447\n",
       "получение образования                     442\n",
       "профильное образование                    436\n",
       "получение высшего образования             426\n",
       "заняться образованием                     408\n",
       "Name: purpose, dtype: int64"
      ]
     },
     "execution_count": 23,
     "metadata": {},
     "output_type": "execute_result"
    }
   ],
   "source": [
    "data['purpose'].value_counts()"
   ]
  },
  {
   "cell_type": "markdown",
   "id": "0556d1dc",
   "metadata": {},
   "source": [
    "Дубликатов в этом столбце очень много, но **нельзя сказать, что они полностью совпадают по смыслу**. Например, \"автомобили\" и \"на покупку автомобиля\": вполне может быть, что первый клиент взял кредит на ремонт машины, а не на покупку. Нельзя также сказать, что одни обозначения целей встречаются в разы чаще, чем другие. \n",
    "\n",
    "Видимо, этот столбец заполнялся разными сотрудниками со слов клиентов.\n",
    "\n",
    "Таким образом, устранять дубликаты в этом столбце нецелесообразно - лучше их категоризировать для целей исследования."
   ]
  },
  {
   "cell_type": "markdown",
   "id": "a39e2d84",
   "metadata": {},
   "source": [
    "### Шаг 2.5. Формирование дополнительных датафреймов словарей, декомпозиция исходного датафрейма."
   ]
  },
  {
   "cell_type": "markdown",
   "id": "b1a60188",
   "metadata": {},
   "source": [
    "Создаём два новых \"словаря\", чтобы не \"загромождать\" исходную таблицу лишними столбцами с текстом.\n",
    "\n",
    "* В словаре **`education_dict`** будут содержаться данные о том, какому индексу соответствует какой уровень образования клиента.\n",
    "* В словаре **`family_status_dict`** будут данные о соответствии индекса семейному положению клиента."
   ]
  },
  {
   "cell_type": "code",
   "execution_count": 24,
   "id": "d44be9e1",
   "metadata": {
    "scrolled": true
   },
   "outputs": [
    {
     "data": {
      "text/html": [
       "<div>\n",
       "<style scoped>\n",
       "    .dataframe tbody tr th:only-of-type {\n",
       "        vertical-align: middle;\n",
       "    }\n",
       "\n",
       "    .dataframe tbody tr th {\n",
       "        vertical-align: top;\n",
       "    }\n",
       "\n",
       "    .dataframe thead th {\n",
       "        text-align: right;\n",
       "    }\n",
       "</style>\n",
       "<table border=\"1\" class=\"dataframe\">\n",
       "  <thead>\n",
       "    <tr style=\"text-align: right;\">\n",
       "      <th></th>\n",
       "      <th>education</th>\n",
       "      <th>education_id</th>\n",
       "    </tr>\n",
       "  </thead>\n",
       "  <tbody>\n",
       "    <tr>\n",
       "      <th>0</th>\n",
       "      <td>высшее</td>\n",
       "      <td>0</td>\n",
       "    </tr>\n",
       "    <tr>\n",
       "      <th>1</th>\n",
       "      <td>среднее</td>\n",
       "      <td>1</td>\n",
       "    </tr>\n",
       "    <tr>\n",
       "      <th>2</th>\n",
       "      <td>неоконченное высшее</td>\n",
       "      <td>2</td>\n",
       "    </tr>\n",
       "    <tr>\n",
       "      <th>3</th>\n",
       "      <td>начальное</td>\n",
       "      <td>3</td>\n",
       "    </tr>\n",
       "    <tr>\n",
       "      <th>4</th>\n",
       "      <td>ученая степень</td>\n",
       "      <td>4</td>\n",
       "    </tr>\n",
       "  </tbody>\n",
       "</table>\n",
       "</div>"
      ],
      "text/plain": [
       "             education  education_id\n",
       "0               высшее             0\n",
       "1              среднее             1\n",
       "2  неоконченное высшее             2\n",
       "3            начальное             3\n",
       "4       ученая степень             4"
      ]
     },
     "execution_count": 24,
     "metadata": {},
     "output_type": "execute_result"
    }
   ],
   "source": [
    "education_dict = data[['education', 'education_id']]\n",
    "education_dict = education_dict.drop_duplicates().reset_index(drop=True)\n",
    "\n",
    "education_dict.head()"
   ]
  },
  {
   "cell_type": "code",
   "execution_count": 25,
   "id": "571a4a3a",
   "metadata": {
    "scrolled": true
   },
   "outputs": [
    {
     "data": {
      "text/html": [
       "<div>\n",
       "<style scoped>\n",
       "    .dataframe tbody tr th:only-of-type {\n",
       "        vertical-align: middle;\n",
       "    }\n",
       "\n",
       "    .dataframe tbody tr th {\n",
       "        vertical-align: top;\n",
       "    }\n",
       "\n",
       "    .dataframe thead th {\n",
       "        text-align: right;\n",
       "    }\n",
       "</style>\n",
       "<table border=\"1\" class=\"dataframe\">\n",
       "  <thead>\n",
       "    <tr style=\"text-align: right;\">\n",
       "      <th></th>\n",
       "      <th>family_status</th>\n",
       "      <th>family_status_id</th>\n",
       "    </tr>\n",
       "  </thead>\n",
       "  <tbody>\n",
       "    <tr>\n",
       "      <th>0</th>\n",
       "      <td>женат / замужем</td>\n",
       "      <td>0</td>\n",
       "    </tr>\n",
       "    <tr>\n",
       "      <th>1</th>\n",
       "      <td>гражданский брак</td>\n",
       "      <td>1</td>\n",
       "    </tr>\n",
       "    <tr>\n",
       "      <th>2</th>\n",
       "      <td>вдовец / вдова</td>\n",
       "      <td>2</td>\n",
       "    </tr>\n",
       "    <tr>\n",
       "      <th>3</th>\n",
       "      <td>в разводе</td>\n",
       "      <td>3</td>\n",
       "    </tr>\n",
       "    <tr>\n",
       "      <th>4</th>\n",
       "      <td>Не женат / не замужем</td>\n",
       "      <td>4</td>\n",
       "    </tr>\n",
       "  </tbody>\n",
       "</table>\n",
       "</div>"
      ],
      "text/plain": [
       "           family_status  family_status_id\n",
       "0        женат / замужем                 0\n",
       "1       гражданский брак                 1\n",
       "2         вдовец / вдова                 2\n",
       "3              в разводе                 3\n",
       "4  Не женат / не замужем                 4"
      ]
     },
     "execution_count": 25,
     "metadata": {},
     "output_type": "execute_result"
    }
   ],
   "source": [
    "family_status_dict = data[['family_status', 'family_status_id']]\n",
    "family_status_dict = family_status_dict.drop_duplicates().reset_index(drop=True)\n",
    "\n",
    "family_status_dict.head()"
   ]
  },
  {
   "cell_type": "markdown",
   "id": "24ea287b",
   "metadata": {},
   "source": [
    "Удалим из основного датафрейма столбцы с семейным положением и образованием."
   ]
  },
  {
   "cell_type": "code",
   "execution_count": 26,
   "id": "33220c94",
   "metadata": {
    "scrolled": true
   },
   "outputs": [
    {
     "data": {
      "text/html": [
       "<div>\n",
       "<style scoped>\n",
       "    .dataframe tbody tr th:only-of-type {\n",
       "        vertical-align: middle;\n",
       "    }\n",
       "\n",
       "    .dataframe tbody tr th {\n",
       "        vertical-align: top;\n",
       "    }\n",
       "\n",
       "    .dataframe thead th {\n",
       "        text-align: right;\n",
       "    }\n",
       "</style>\n",
       "<table border=\"1\" class=\"dataframe\">\n",
       "  <thead>\n",
       "    <tr style=\"text-align: right;\">\n",
       "      <th></th>\n",
       "      <th>children</th>\n",
       "      <th>days_employed</th>\n",
       "      <th>dob_years</th>\n",
       "      <th>education_id</th>\n",
       "      <th>family_status_id</th>\n",
       "      <th>gender</th>\n",
       "      <th>income_type</th>\n",
       "      <th>debt</th>\n",
       "      <th>total_income</th>\n",
       "      <th>purpose</th>\n",
       "    </tr>\n",
       "  </thead>\n",
       "  <tbody>\n",
       "    <tr>\n",
       "      <th>0</th>\n",
       "      <td>1</td>\n",
       "      <td>8437</td>\n",
       "      <td>42</td>\n",
       "      <td>0</td>\n",
       "      <td>0</td>\n",
       "      <td>F</td>\n",
       "      <td>сотрудник</td>\n",
       "      <td>0</td>\n",
       "      <td>253875.639453</td>\n",
       "      <td>покупка жилья</td>\n",
       "    </tr>\n",
       "    <tr>\n",
       "      <th>1</th>\n",
       "      <td>1</td>\n",
       "      <td>4024</td>\n",
       "      <td>36</td>\n",
       "      <td>1</td>\n",
       "      <td>0</td>\n",
       "      <td>F</td>\n",
       "      <td>сотрудник</td>\n",
       "      <td>0</td>\n",
       "      <td>112080.014102</td>\n",
       "      <td>приобретение автомобиля</td>\n",
       "    </tr>\n",
       "    <tr>\n",
       "      <th>2</th>\n",
       "      <td>0</td>\n",
       "      <td>5623</td>\n",
       "      <td>33</td>\n",
       "      <td>1</td>\n",
       "      <td>0</td>\n",
       "      <td>M</td>\n",
       "      <td>сотрудник</td>\n",
       "      <td>0</td>\n",
       "      <td>145885.952297</td>\n",
       "      <td>покупка жилья</td>\n",
       "    </tr>\n",
       "    <tr>\n",
       "      <th>3</th>\n",
       "      <td>3</td>\n",
       "      <td>4124</td>\n",
       "      <td>32</td>\n",
       "      <td>1</td>\n",
       "      <td>0</td>\n",
       "      <td>M</td>\n",
       "      <td>сотрудник</td>\n",
       "      <td>0</td>\n",
       "      <td>267628.550329</td>\n",
       "      <td>дополнительное образование</td>\n",
       "    </tr>\n",
       "    <tr>\n",
       "      <th>4</th>\n",
       "      <td>0</td>\n",
       "      <td>17013</td>\n",
       "      <td>53</td>\n",
       "      <td>1</td>\n",
       "      <td>1</td>\n",
       "      <td>F</td>\n",
       "      <td>пенсионер</td>\n",
       "      <td>0</td>\n",
       "      <td>158616.077870</td>\n",
       "      <td>сыграть свадьбу</td>\n",
       "    </tr>\n",
       "  </tbody>\n",
       "</table>\n",
       "</div>"
      ],
      "text/plain": [
       "   children  days_employed  dob_years  education_id  family_status_id gender  \\\n",
       "0         1           8437         42             0                 0      F   \n",
       "1         1           4024         36             1                 0      F   \n",
       "2         0           5623         33             1                 0      M   \n",
       "3         3           4124         32             1                 0      M   \n",
       "4         0          17013         53             1                 1      F   \n",
       "\n",
       "  income_type  debt   total_income                     purpose  \n",
       "0   сотрудник     0  253875.639453               покупка жилья  \n",
       "1   сотрудник     0  112080.014102     приобретение автомобиля  \n",
       "2   сотрудник     0  145885.952297               покупка жилья  \n",
       "3   сотрудник     0  267628.550329  дополнительное образование  \n",
       "4   пенсионер     0  158616.077870             сыграть свадьбу  "
      ]
     },
     "execution_count": 26,
     "metadata": {},
     "output_type": "execute_result"
    }
   ],
   "source": [
    "data = data.drop(columns=['family_status', 'education'])\n",
    "# проверим, как сработал метод drop()\n",
    "data.head()"
   ]
  },
  {
   "cell_type": "markdown",
   "id": "7210bfa3",
   "metadata": {},
   "source": [
    "### Шаг 2.6. Категоризация дохода."
   ]
  },
  {
   "cell_type": "markdown",
   "id": "e2caf15a",
   "metadata": {},
   "source": [
    "Задачу категоризации доходов клиентов решим с помощью создания нового столбца `'total_income_category'`, в котором доходы будут распределены по категориям следующим образом:\n",
    "* 0–30000 — 'E';\n",
    "* 30001–50000 — 'D';\n",
    "* 50001–200000 — 'C';\n",
    "* 200001–1000000 — 'B';\n",
    "* 1000001 и выше — 'A'."
   ]
  },
  {
   "cell_type": "code",
   "execution_count": 27,
   "id": "b2d5b4a9",
   "metadata": {},
   "outputs": [
    {
     "data": {
      "text/html": [
       "<div>\n",
       "<style scoped>\n",
       "    .dataframe tbody tr th:only-of-type {\n",
       "        vertical-align: middle;\n",
       "    }\n",
       "\n",
       "    .dataframe tbody tr th {\n",
       "        vertical-align: top;\n",
       "    }\n",
       "\n",
       "    .dataframe thead th {\n",
       "        text-align: right;\n",
       "    }\n",
       "</style>\n",
       "<table border=\"1\" class=\"dataframe\">\n",
       "  <thead>\n",
       "    <tr style=\"text-align: right;\">\n",
       "      <th></th>\n",
       "      <th>children</th>\n",
       "      <th>days_employed</th>\n",
       "      <th>dob_years</th>\n",
       "      <th>education_id</th>\n",
       "      <th>family_status_id</th>\n",
       "      <th>gender</th>\n",
       "      <th>income_type</th>\n",
       "      <th>debt</th>\n",
       "      <th>total_income</th>\n",
       "      <th>purpose</th>\n",
       "      <th>total_income_category</th>\n",
       "    </tr>\n",
       "  </thead>\n",
       "  <tbody>\n",
       "    <tr>\n",
       "      <th>0</th>\n",
       "      <td>1</td>\n",
       "      <td>8437</td>\n",
       "      <td>42</td>\n",
       "      <td>0</td>\n",
       "      <td>0</td>\n",
       "      <td>F</td>\n",
       "      <td>сотрудник</td>\n",
       "      <td>0</td>\n",
       "      <td>253875.639453</td>\n",
       "      <td>покупка жилья</td>\n",
       "      <td>B</td>\n",
       "    </tr>\n",
       "    <tr>\n",
       "      <th>1</th>\n",
       "      <td>1</td>\n",
       "      <td>4024</td>\n",
       "      <td>36</td>\n",
       "      <td>1</td>\n",
       "      <td>0</td>\n",
       "      <td>F</td>\n",
       "      <td>сотрудник</td>\n",
       "      <td>0</td>\n",
       "      <td>112080.014102</td>\n",
       "      <td>приобретение автомобиля</td>\n",
       "      <td>C</td>\n",
       "    </tr>\n",
       "    <tr>\n",
       "      <th>2</th>\n",
       "      <td>0</td>\n",
       "      <td>5623</td>\n",
       "      <td>33</td>\n",
       "      <td>1</td>\n",
       "      <td>0</td>\n",
       "      <td>M</td>\n",
       "      <td>сотрудник</td>\n",
       "      <td>0</td>\n",
       "      <td>145885.952297</td>\n",
       "      <td>покупка жилья</td>\n",
       "      <td>C</td>\n",
       "    </tr>\n",
       "    <tr>\n",
       "      <th>3</th>\n",
       "      <td>3</td>\n",
       "      <td>4124</td>\n",
       "      <td>32</td>\n",
       "      <td>1</td>\n",
       "      <td>0</td>\n",
       "      <td>M</td>\n",
       "      <td>сотрудник</td>\n",
       "      <td>0</td>\n",
       "      <td>267628.550329</td>\n",
       "      <td>дополнительное образование</td>\n",
       "      <td>B</td>\n",
       "    </tr>\n",
       "    <tr>\n",
       "      <th>4</th>\n",
       "      <td>0</td>\n",
       "      <td>17013</td>\n",
       "      <td>53</td>\n",
       "      <td>1</td>\n",
       "      <td>1</td>\n",
       "      <td>F</td>\n",
       "      <td>пенсионер</td>\n",
       "      <td>0</td>\n",
       "      <td>158616.077870</td>\n",
       "      <td>сыграть свадьбу</td>\n",
       "      <td>C</td>\n",
       "    </tr>\n",
       "  </tbody>\n",
       "</table>\n",
       "</div>"
      ],
      "text/plain": [
       "   children  days_employed  dob_years  education_id  family_status_id gender  \\\n",
       "0         1           8437         42             0                 0      F   \n",
       "1         1           4024         36             1                 0      F   \n",
       "2         0           5623         33             1                 0      M   \n",
       "3         3           4124         32             1                 0      M   \n",
       "4         0          17013         53             1                 1      F   \n",
       "\n",
       "  income_type  debt   total_income                     purpose  \\\n",
       "0   сотрудник     0  253875.639453               покупка жилья   \n",
       "1   сотрудник     0  112080.014102     приобретение автомобиля   \n",
       "2   сотрудник     0  145885.952297               покупка жилья   \n",
       "3   сотрудник     0  267628.550329  дополнительное образование   \n",
       "4   пенсионер     0  158616.077870             сыграть свадьбу   \n",
       "\n",
       "  total_income_category  \n",
       "0                     B  \n",
       "1                     C  \n",
       "2                     C  \n",
       "3                     B  \n",
       "4                     C  "
      ]
     },
     "execution_count": 27,
     "metadata": {},
     "output_type": "execute_result"
    }
   ],
   "source": [
    "# создадим функцию income_group\n",
    "def income_group(income):\n",
    "    if income <= 30000:\n",
    "        return 'E'\n",
    "    elif income <= 50000:\n",
    "        return 'D'\n",
    "    elif income <= 200000:\n",
    "        return 'C'\n",
    "    elif income <= 1000000:\n",
    "        return 'B'\n",
    "    return 'A'\n",
    "# проверим работу функции\n",
    "# print(income_group(1100000))\n",
    "# функция работает\n",
    "\n",
    "# применим функцию к датафрейму\n",
    "data['total_income_category'] = data['total_income'].apply(income_group)\n",
    "data.head()"
   ]
  },
  {
   "cell_type": "markdown",
   "id": "a9f08f51",
   "metadata": {},
   "source": [
    "### Шаг 2.7. Категоризация целей кредита."
   ]
  },
  {
   "cell_type": "markdown",
   "id": "55bc76aa",
   "metadata": {},
   "source": [
    "Ещё раз выведем набор переменных, описывающих цели кредитов. Известно, что категоризировать их необходимо на 4 группы:\n",
    "* 'операции с автомобилем',\n",
    "* 'операции с недвижимостью',\n",
    "* 'проведение свадьбы',\n",
    "* 'получение образования'."
   ]
  },
  {
   "cell_type": "code",
   "execution_count": 28,
   "id": "b92b7f8e",
   "metadata": {
    "scrolled": true
   },
   "outputs": [
    {
     "data": {
      "text/plain": [
       "array(['автомобили', 'автомобиль', 'высшее образование',\n",
       "       'дополнительное образование', 'жилье',\n",
       "       'заняться высшим образованием', 'заняться образованием',\n",
       "       'на покупку автомобиля', 'на покупку подержанного автомобиля',\n",
       "       'на покупку своего автомобиля', 'на проведение свадьбы',\n",
       "       'недвижимость', 'образование', 'операции с жильем',\n",
       "       'операции с коммерческой недвижимостью',\n",
       "       'операции с недвижимостью', 'операции со своей недвижимостью',\n",
       "       'покупка жилой недвижимости', 'покупка жилья',\n",
       "       'покупка жилья для сдачи', 'покупка жилья для семьи',\n",
       "       'покупка коммерческой недвижимости', 'покупка недвижимости',\n",
       "       'покупка своего жилья', 'получение высшего образования',\n",
       "       'получение дополнительного образования', 'получение образования',\n",
       "       'приобретение автомобиля', 'профильное образование',\n",
       "       'ремонт жилью', 'свадьба', 'свой автомобиль',\n",
       "       'сделка с автомобилем', 'сделка с подержанным автомобилем',\n",
       "       'строительство жилой недвижимости', 'строительство недвижимости',\n",
       "       'строительство собственной недвижимости', 'сыграть свадьбу'],\n",
       "      dtype=object)"
      ]
     },
     "execution_count": 28,
     "metadata": {},
     "output_type": "execute_result"
    }
   ],
   "source": [
    "data['purpose'].sort_values().unique()"
   ]
  },
  {
   "cell_type": "markdown",
   "id": "dccce4bb",
   "metadata": {},
   "source": [
    "Заметно, что в названии каждой из групп, как и в разнообразии целей кредита есть **ключевые слова**, которые помогут распределить конкретные цели в группы. Напишем функцию, которая позволит это сделать и создадим столбец `'purpose_category'`."
   ]
  },
  {
   "cell_type": "code",
   "execution_count": 29,
   "id": "aefa7db6",
   "metadata": {},
   "outputs": [
    {
     "data": {
      "text/html": [
       "<div>\n",
       "<style scoped>\n",
       "    .dataframe tbody tr th:only-of-type {\n",
       "        vertical-align: middle;\n",
       "    }\n",
       "\n",
       "    .dataframe tbody tr th {\n",
       "        vertical-align: top;\n",
       "    }\n",
       "\n",
       "    .dataframe thead th {\n",
       "        text-align: right;\n",
       "    }\n",
       "</style>\n",
       "<table border=\"1\" class=\"dataframe\">\n",
       "  <thead>\n",
       "    <tr style=\"text-align: right;\">\n",
       "      <th></th>\n",
       "      <th>children</th>\n",
       "      <th>days_employed</th>\n",
       "      <th>dob_years</th>\n",
       "      <th>education_id</th>\n",
       "      <th>family_status_id</th>\n",
       "      <th>gender</th>\n",
       "      <th>income_type</th>\n",
       "      <th>debt</th>\n",
       "      <th>total_income</th>\n",
       "      <th>purpose</th>\n",
       "      <th>total_income_category</th>\n",
       "      <th>purpose_category</th>\n",
       "    </tr>\n",
       "  </thead>\n",
       "  <tbody>\n",
       "    <tr>\n",
       "      <th>0</th>\n",
       "      <td>1</td>\n",
       "      <td>8437</td>\n",
       "      <td>42</td>\n",
       "      <td>0</td>\n",
       "      <td>0</td>\n",
       "      <td>F</td>\n",
       "      <td>сотрудник</td>\n",
       "      <td>0</td>\n",
       "      <td>253875.639453</td>\n",
       "      <td>покупка жилья</td>\n",
       "      <td>B</td>\n",
       "      <td>операции с недвижимостью</td>\n",
       "    </tr>\n",
       "    <tr>\n",
       "      <th>1</th>\n",
       "      <td>1</td>\n",
       "      <td>4024</td>\n",
       "      <td>36</td>\n",
       "      <td>1</td>\n",
       "      <td>0</td>\n",
       "      <td>F</td>\n",
       "      <td>сотрудник</td>\n",
       "      <td>0</td>\n",
       "      <td>112080.014102</td>\n",
       "      <td>приобретение автомобиля</td>\n",
       "      <td>C</td>\n",
       "      <td>операции с автомобилем</td>\n",
       "    </tr>\n",
       "    <tr>\n",
       "      <th>2</th>\n",
       "      <td>0</td>\n",
       "      <td>5623</td>\n",
       "      <td>33</td>\n",
       "      <td>1</td>\n",
       "      <td>0</td>\n",
       "      <td>M</td>\n",
       "      <td>сотрудник</td>\n",
       "      <td>0</td>\n",
       "      <td>145885.952297</td>\n",
       "      <td>покупка жилья</td>\n",
       "      <td>C</td>\n",
       "      <td>операции с недвижимостью</td>\n",
       "    </tr>\n",
       "    <tr>\n",
       "      <th>3</th>\n",
       "      <td>3</td>\n",
       "      <td>4124</td>\n",
       "      <td>32</td>\n",
       "      <td>1</td>\n",
       "      <td>0</td>\n",
       "      <td>M</td>\n",
       "      <td>сотрудник</td>\n",
       "      <td>0</td>\n",
       "      <td>267628.550329</td>\n",
       "      <td>дополнительное образование</td>\n",
       "      <td>B</td>\n",
       "      <td>получение образования</td>\n",
       "    </tr>\n",
       "    <tr>\n",
       "      <th>4</th>\n",
       "      <td>0</td>\n",
       "      <td>17013</td>\n",
       "      <td>53</td>\n",
       "      <td>1</td>\n",
       "      <td>1</td>\n",
       "      <td>F</td>\n",
       "      <td>пенсионер</td>\n",
       "      <td>0</td>\n",
       "      <td>158616.077870</td>\n",
       "      <td>сыграть свадьбу</td>\n",
       "      <td>C</td>\n",
       "      <td>проведение свадьбы</td>\n",
       "    </tr>\n",
       "  </tbody>\n",
       "</table>\n",
       "</div>"
      ],
      "text/plain": [
       "   children  days_employed  dob_years  education_id  family_status_id gender  \\\n",
       "0         1           8437         42             0                 0      F   \n",
       "1         1           4024         36             1                 0      F   \n",
       "2         0           5623         33             1                 0      M   \n",
       "3         3           4124         32             1                 0      M   \n",
       "4         0          17013         53             1                 1      F   \n",
       "\n",
       "  income_type  debt   total_income                     purpose  \\\n",
       "0   сотрудник     0  253875.639453               покупка жилья   \n",
       "1   сотрудник     0  112080.014102     приобретение автомобиля   \n",
       "2   сотрудник     0  145885.952297               покупка жилья   \n",
       "3   сотрудник     0  267628.550329  дополнительное образование   \n",
       "4   пенсионер     0  158616.077870             сыграть свадьбу   \n",
       "\n",
       "  total_income_category          purpose_category  \n",
       "0                     B  операции с недвижимостью  \n",
       "1                     C    операции с автомобилем  \n",
       "2                     C  операции с недвижимостью  \n",
       "3                     B     получение образования  \n",
       "4                     C        проведение свадьбы  "
      ]
     },
     "metadata": {},
     "output_type": "display_data"
    },
    {
     "name": "stdout",
     "output_type": "stream",
     "text": [
      "Empty DataFrame\n",
      "Columns: [children, days_employed, dob_years, education_id, family_status_id, gender, income_type, debt, total_income, purpose, total_income_category, purpose_category]\n",
      "Index: []\n"
     ]
    }
   ],
   "source": [
    "def purpose_group(purpose):\n",
    "    if 'авто' in purpose:\n",
    "        return 'операции с автомобилем'\n",
    "    elif ('недвиж' in purpose) | ('жиль' in purpose):\n",
    "        return 'операции с недвижимостью'\n",
    "    elif 'свадьб' in purpose:\n",
    "        return 'проведение свадьбы'\n",
    "    elif 'образован' in purpose:\n",
    "        return 'получение образования'\n",
    "    return 'категория не определена'\n",
    "# проверим работу функции\n",
    "# print(purpose_group('дополнительное образование'))\n",
    "# функция работает\n",
    "\n",
    "# С помощью функции создаём столбец\n",
    "data['purpose_category'] = data['purpose'].apply(purpose_group)\n",
    "\n",
    "# проверяем, появился ли новый столбец\n",
    "display(data.head())\n",
    "\n",
    "# посмотрим, есть ли в созданном столбце ячейки, где \"категория не определена\"\n",
    "print(data.loc[data['purpose_category'] == 'категория не определена'])"
   ]
  },
  {
   "cell_type": "markdown",
   "id": "80825fbc",
   "metadata": {},
   "source": [
    "Таким образом, все варианты описания целей кредита удалось категоризировать.\n",
    "\n",
    "Данные готовы к анализу."
   ]
  },
  {
   "cell_type": "markdown",
   "id": "ca7145f5",
   "metadata": {},
   "source": [
    "### Ответы на вопросы."
   ]
  },
  {
   "cell_type": "markdown",
   "id": "d6a4ceb0",
   "metadata": {},
   "source": [
    "##### Вопрос 1: Есть ли зависимость между количеством детей и возвратом кредита в срок?"
   ]
  },
  {
   "cell_type": "markdown",
   "id": "24c66e13",
   "metadata": {},
   "source": [
    "Прежде всего, для сравнения нужно понять, сколько в среднем должников среди всех клиентов."
   ]
  },
  {
   "cell_type": "code",
   "execution_count": 30,
   "id": "c052dcbf",
   "metadata": {},
   "outputs": [
    {
     "name": "stdout",
     "output_type": "stream",
     "text": [
      "1741\n",
      "0.08108611615667645\n"
     ]
    }
   ],
   "source": [
    "print(data['debt'].sum())\n",
    "print(data['debt'].mean())"
   ]
  },
  {
   "cell_type": "markdown",
   "id": "80d1676c",
   "metadata": {},
   "source": [
    "Таким образом, в среднем должников около 8,1%."
   ]
  },
  {
   "cell_type": "code",
   "execution_count": 31,
   "id": "3ce9f566",
   "metadata": {
    "scrolled": false
   },
   "outputs": [
    {
     "name": "stdout",
     "output_type": "stream",
     "text": [
      "          count   sum      mean\n",
      "children                       \n",
      "0         14107  1063  0.075353\n",
      "1          4856   445  0.091639\n",
      "2          2052   194  0.094542\n",
      "3           330    27  0.081818\n",
      "4            41     4  0.097561\n",
      "5             9     0  0.000000\n",
      "20           76     8  0.105263\n"
     ]
    }
   ],
   "source": [
    "# для ответа на вопрос проще всего сгруппировать клиентов по количеству детей \n",
    "# и найти в каждой группе среднее количество должников\n",
    "\n",
    "print(data.groupby('children')['debt'].agg(['count', 'sum', 'mean']))\n"
   ]
  },
  {
   "cell_type": "markdown",
   "id": "99a829a6",
   "metadata": {},
   "source": [
    "##### Вывод 1:"
   ]
  },
  {
   "cell_type": "markdown",
   "id": "54f6ed52",
   "metadata": {},
   "source": [
    "Больше всего должников в условной группе \"очень многодетных\" - около 10%, что заметно выше, чем в среднем по всем клиентам. Правда, в этой группе мало наблюдений - недостаточно для того, чтобы говорить о тенденции.\n",
    "\n",
    "Значения выше среднего также наблюдаются у клиентов с 4, 2 детьми и 1 ребёнком.\n",
    "\n",
    "Среди клиентов с 3 детьми количество должников такое же, как в среднем по группе, но эта категория клиентов, опять же, малочисленна.\n",
    "\n",
    "Бездетные клиенты являются наиболее дисциплинированными заёмщиками: среди них доля должников меньше, чем в среднем. Нет должников среди группы клиентов с 5 детьми, однако в этой группе всего 9 человек - сделать выводы о тенденции не представляется возможным.\n",
    "\n",
    "Таким образом, можно говорить о том, что наличие детей у клиентов как таковое является фактором риска для банка, так как **среди клиентов с детьми доля должников выше, чем в среднем**. Очевидно, причина этого в том, что клиенты с детьми часть своих доходов должны тратить на содержание детей, у них более вероятно возникновение форс-мажоров, предполагающих внезапные расходы. Другими словами, **их финансовая ситуация является менее предсказуемой, что может повлечь просрочку по кредиту**. И чем больше детей, тем непредсказуемость выше."
   ]
  },
  {
   "cell_type": "markdown",
   "id": "0f8b2b76",
   "metadata": {},
   "source": [
    "<div class=\"alert alert-success\">\n",
    "    \n",
    "<b> Комментарий от ревьюера ✔️</b>\n",
    "    \n",
    "Хороший комментарий. Здорово, что обратила внимание не только на долю клиентов с задолженностью, но и на размеры групп\n",
    "</div>"
   ]
  },
  {
   "cell_type": "markdown",
   "id": "129b9415",
   "metadata": {},
   "source": [
    "##### Вопрос 2: Есть ли зависимость между семейным положением и возвратом кредита в срок?"
   ]
  },
  {
   "cell_type": "code",
   "execution_count": 32,
   "id": "5b759538",
   "metadata": {},
   "outputs": [
    {
     "name": "stdout",
     "output_type": "stream",
     "text": [
      "family_status_id\n",
      "4    0.097509\n",
      "1    0.093202\n",
      "0    0.075421\n",
      "3    0.071130\n",
      "2    0.065693\n",
      "Name: debt, dtype: float64\n"
     ]
    },
    {
     "data": {
      "text/html": [
       "<div>\n",
       "<style scoped>\n",
       "    .dataframe tbody tr th:only-of-type {\n",
       "        vertical-align: middle;\n",
       "    }\n",
       "\n",
       "    .dataframe tbody tr th {\n",
       "        vertical-align: top;\n",
       "    }\n",
       "\n",
       "    .dataframe thead th {\n",
       "        text-align: right;\n",
       "    }\n",
       "</style>\n",
       "<table border=\"1\" class=\"dataframe\">\n",
       "  <thead>\n",
       "    <tr style=\"text-align: right;\">\n",
       "      <th></th>\n",
       "      <th>0</th>\n",
       "      <th>1</th>\n",
       "      <th>family_status</th>\n",
       "    </tr>\n",
       "  </thead>\n",
       "  <tbody>\n",
       "    <tr>\n",
       "      <th>0</th>\n",
       "      <td>11413</td>\n",
       "      <td>931</td>\n",
       "      <td>женат / замужем</td>\n",
       "    </tr>\n",
       "    <tr>\n",
       "      <th>1</th>\n",
       "      <td>3775</td>\n",
       "      <td>388</td>\n",
       "      <td>гражданский брак</td>\n",
       "    </tr>\n",
       "    <tr>\n",
       "      <th>2</th>\n",
       "      <td>896</td>\n",
       "      <td>63</td>\n",
       "      <td>вдовец / вдова</td>\n",
       "    </tr>\n",
       "    <tr>\n",
       "      <th>3</th>\n",
       "      <td>1110</td>\n",
       "      <td>85</td>\n",
       "      <td>в разводе</td>\n",
       "    </tr>\n",
       "    <tr>\n",
       "      <th>4</th>\n",
       "      <td>2536</td>\n",
       "      <td>274</td>\n",
       "      <td>Не женат / не замужем</td>\n",
       "    </tr>\n",
       "  </tbody>\n",
       "</table>\n",
       "</div>"
      ],
      "text/plain": [
       "       0    1          family_status\n",
       "0  11413  931        женат / замужем\n",
       "1   3775  388       гражданский брак\n",
       "2    896   63         вдовец / вдова\n",
       "3   1110   85              в разводе\n",
       "4   2536  274  Не женат / не замужем"
      ]
     },
     "execution_count": 32,
     "metadata": {},
     "output_type": "execute_result"
    }
   ],
   "source": [
    "print(data.groupby('family_status_id')['debt'].mean().sort_values(ascending=False))\n",
    "\n",
    "# формируем таблицу для оценки абсолютных значений\n",
    "family_table = data.pivot_table(index='family_status_id', columns='debt', \n",
    "                                  values='dob_years', aggfunc='count')\n",
    "\n",
    "# совместим со \"словарём\"\n",
    "family_table = family_table.merge(family_status_dict, on='family_status_id', how='left')\n",
    "family_table.drop('family_status_id', axis=1)"
   ]
  },
  {
   "cell_type": "markdown",
   "id": "1ae1cf9b",
   "metadata": {},
   "source": [
    "##### Вывод 2:"
   ]
  },
  {
   "cell_type": "markdown",
   "id": "1d04000e",
   "metadata": {},
   "source": [
    "Доля должников заметно больше (и выше, чем в среднем) среди клиентов, не состоящих в браке, а также среди тех, кто состоит в гражданском браке.\n",
    "\n",
    "Среди клиентов, находящихся в зарегистрированном браке, доля должников приближена к средней по выборке.\n",
    "\n",
    "Наиболее дисциплинированные заёмщики, среди которых должники встречаются заметно реже, чем в целом по выборке, - это клиенты, находящиеся в разводе, и вдовцы/вдовы. \n",
    "\n",
    "Возникает гипотеза, что *более дисциплинированными могут быть более пожилые заёмщики*. Она нуждается в проверке:"
   ]
  },
  {
   "cell_type": "code",
   "execution_count": 33,
   "id": "27462c32",
   "metadata": {},
   "outputs": [
    {
     "data": {
      "text/html": [
       "<div>\n",
       "<style scoped>\n",
       "    .dataframe tbody tr th:only-of-type {\n",
       "        vertical-align: middle;\n",
       "    }\n",
       "\n",
       "    .dataframe tbody tr th {\n",
       "        vertical-align: top;\n",
       "    }\n",
       "\n",
       "    .dataframe thead th {\n",
       "        text-align: right;\n",
       "    }\n",
       "</style>\n",
       "<table border=\"1\" class=\"dataframe\">\n",
       "  <thead>\n",
       "    <tr style=\"text-align: right;\">\n",
       "      <th></th>\n",
       "      <th>0</th>\n",
       "      <th>1</th>\n",
       "      <th>family_status</th>\n",
       "    </tr>\n",
       "  </thead>\n",
       "  <tbody>\n",
       "    <tr>\n",
       "      <th>0</th>\n",
       "      <td>43.951809</td>\n",
       "      <td>40.873255</td>\n",
       "      <td>женат / замужем</td>\n",
       "    </tr>\n",
       "    <tr>\n",
       "      <th>1</th>\n",
       "      <td>42.552583</td>\n",
       "      <td>40.105670</td>\n",
       "      <td>гражданский брак</td>\n",
       "    </tr>\n",
       "    <tr>\n",
       "      <th>2</th>\n",
       "      <td>56.767857</td>\n",
       "      <td>56.158730</td>\n",
       "      <td>вдовец / вдова</td>\n",
       "    </tr>\n",
       "    <tr>\n",
       "      <th>3</th>\n",
       "      <td>46.026126</td>\n",
       "      <td>43.941176</td>\n",
       "      <td>в разводе</td>\n",
       "    </tr>\n",
       "    <tr>\n",
       "      <th>4</th>\n",
       "      <td>38.957808</td>\n",
       "      <td>35.375912</td>\n",
       "      <td>Не женат / не замужем</td>\n",
       "    </tr>\n",
       "  </tbody>\n",
       "</table>\n",
       "</div>"
      ],
      "text/plain": [
       "           0          1          family_status\n",
       "0  43.951809  40.873255        женат / замужем\n",
       "1  42.552583  40.105670       гражданский брак\n",
       "2  56.767857  56.158730         вдовец / вдова\n",
       "3  46.026126  43.941176              в разводе\n",
       "4  38.957808  35.375912  Не женат / не замужем"
      ]
     },
     "execution_count": 33,
     "metadata": {},
     "output_type": "execute_result"
    }
   ],
   "source": [
    "age_family_table = data.pivot_table(index='family_status_id', columns='debt', \n",
    "                                  values='dob_years', aggfunc='mean')\n",
    "\n",
    "# более наглядная таблица\n",
    "age_family_table = age_family_table.merge(family_status_dict, on='family_status_id', how='left')\n",
    "age_family_table.drop('family_status_id', axis=1)"
   ]
  },
  {
   "cell_type": "markdown",
   "id": "769a6350",
   "metadata": {},
   "source": [
    "Действительно, во всех группах средний возраст тех, кто допустил просрочку, чуть ниже соответствующего показателя дисциплинированных должников.\n",
    "\n",
    "Также заметно, что средний возраст двух наиболее дисциплинированных категорий - вдов/вдовцов и клиентов, находящихся в разводе, заметно выше, чем средний возраст остальных групп."
   ]
  },
  {
   "cell_type": "markdown",
   "id": "f866e6e1",
   "metadata": {},
   "source": [
    "##### Вопрос 3: Есть ли зависимость между уровнем дохода и возвратом кредита в срок?"
   ]
  },
  {
   "cell_type": "code",
   "execution_count": 34,
   "id": "57a0a3b6",
   "metadata": {
    "scrolled": false
   },
   "outputs": [
    {
     "data": {
      "text/plain": [
       "total_income_category\n",
       "E    0.090909\n",
       "C    0.084825\n",
       "A    0.080000\n",
       "B    0.070621\n",
       "D    0.060000\n",
       "Name: debt, dtype: float64"
      ]
     },
     "execution_count": 34,
     "metadata": {},
     "output_type": "execute_result"
    }
   ],
   "source": [
    "data.groupby('total_income_category')['debt'].mean().sort_values(ascending=False)"
   ]
  },
  {
   "cell_type": "code",
   "execution_count": 35,
   "id": "ce9d92c2",
   "metadata": {
    "scrolled": true
   },
   "outputs": [
    {
     "data": {
      "text/html": [
       "<div>\n",
       "<style scoped>\n",
       "    .dataframe tbody tr th:only-of-type {\n",
       "        vertical-align: middle;\n",
       "    }\n",
       "\n",
       "    .dataframe tbody tr th {\n",
       "        vertical-align: top;\n",
       "    }\n",
       "\n",
       "    .dataframe thead th {\n",
       "        text-align: right;\n",
       "    }\n",
       "</style>\n",
       "<table border=\"1\" class=\"dataframe\">\n",
       "  <thead>\n",
       "    <tr style=\"text-align: right;\">\n",
       "      <th></th>\n",
       "      <th>debt</th>\n",
       "      <th>0</th>\n",
       "      <th>1</th>\n",
       "    </tr>\n",
       "    <tr>\n",
       "      <th>total_income_category</th>\n",
       "      <th>income_type</th>\n",
       "      <th></th>\n",
       "      <th></th>\n",
       "    </tr>\n",
       "  </thead>\n",
       "  <tbody>\n",
       "    <tr>\n",
       "      <th rowspan=\"2\" valign=\"top\">A</th>\n",
       "      <th>компаньон</th>\n",
       "      <td>13</td>\n",
       "      <td>2</td>\n",
       "    </tr>\n",
       "    <tr>\n",
       "      <th>сотрудник</th>\n",
       "      <td>10</td>\n",
       "      <td>0</td>\n",
       "    </tr>\n",
       "    <tr>\n",
       "      <th rowspan=\"6\" valign=\"top\">B</th>\n",
       "      <th>безработный</th>\n",
       "      <td>1</td>\n",
       "      <td>0</td>\n",
       "    </tr>\n",
       "    <tr>\n",
       "      <th>госслужащий</th>\n",
       "      <td>351</td>\n",
       "      <td>18</td>\n",
       "    </tr>\n",
       "    <tr>\n",
       "      <th>компаньон</th>\n",
       "      <td>1631</td>\n",
       "      <td>110</td>\n",
       "    </tr>\n",
       "    <tr>\n",
       "      <th>пенсионер</th>\n",
       "      <td>521</td>\n",
       "      <td>31</td>\n",
       "    </tr>\n",
       "    <tr>\n",
       "      <th>предприниматель</th>\n",
       "      <td>1</td>\n",
       "      <td>0</td>\n",
       "    </tr>\n",
       "    <tr>\n",
       "      <th>сотрудник</th>\n",
       "      <td>2180</td>\n",
       "      <td>197</td>\n",
       "    </tr>\n",
       "    <tr>\n",
       "      <th rowspan=\"8\" valign=\"top\">C</th>\n",
       "      <th>безработный</th>\n",
       "      <td>0</td>\n",
       "      <td>1</td>\n",
       "    </tr>\n",
       "    <tr>\n",
       "      <th>в декрете</th>\n",
       "      <td>0</td>\n",
       "      <td>1</td>\n",
       "    </tr>\n",
       "    <tr>\n",
       "      <th>госслужащий</th>\n",
       "      <td>996</td>\n",
       "      <td>67</td>\n",
       "    </tr>\n",
       "    <tr>\n",
       "      <th>компаньон</th>\n",
       "      <td>3035</td>\n",
       "      <td>263</td>\n",
       "    </tr>\n",
       "    <tr>\n",
       "      <th>пенсионер</th>\n",
       "      <td>2929</td>\n",
       "      <td>176</td>\n",
       "    </tr>\n",
       "    <tr>\n",
       "      <th>предприниматель</th>\n",
       "      <td>1</td>\n",
       "      <td>0</td>\n",
       "    </tr>\n",
       "    <tr>\n",
       "      <th>сотрудник</th>\n",
       "      <td>7711</td>\n",
       "      <td>852</td>\n",
       "    </tr>\n",
       "    <tr>\n",
       "      <th>студент</th>\n",
       "      <td>1</td>\n",
       "      <td>0</td>\n",
       "    </tr>\n",
       "    <tr>\n",
       "      <th rowspan=\"4\" valign=\"top\">D</th>\n",
       "      <th>госслужащий</th>\n",
       "      <td>23</td>\n",
       "      <td>1</td>\n",
       "    </tr>\n",
       "    <tr>\n",
       "      <th>компаньон</th>\n",
       "      <td>24</td>\n",
       "      <td>1</td>\n",
       "    </tr>\n",
       "    <tr>\n",
       "      <th>пенсионер</th>\n",
       "      <td>158</td>\n",
       "      <td>7</td>\n",
       "    </tr>\n",
       "    <tr>\n",
       "      <th>сотрудник</th>\n",
       "      <td>124</td>\n",
       "      <td>12</td>\n",
       "    </tr>\n",
       "    <tr>\n",
       "      <th rowspan=\"4\" valign=\"top\">E</th>\n",
       "      <th>госслужащий</th>\n",
       "      <td>1</td>\n",
       "      <td>0</td>\n",
       "    </tr>\n",
       "    <tr>\n",
       "      <th>компаньон</th>\n",
       "      <td>1</td>\n",
       "      <td>0</td>\n",
       "    </tr>\n",
       "    <tr>\n",
       "      <th>пенсионер</th>\n",
       "      <td>13</td>\n",
       "      <td>2</td>\n",
       "    </tr>\n",
       "    <tr>\n",
       "      <th>сотрудник</th>\n",
       "      <td>5</td>\n",
       "      <td>0</td>\n",
       "    </tr>\n",
       "  </tbody>\n",
       "</table>\n",
       "</div>"
      ],
      "text/plain": [
       "debt                                      0    1\n",
       "total_income_category income_type               \n",
       "A                     компаньон          13    2\n",
       "                      сотрудник          10    0\n",
       "B                     безработный         1    0\n",
       "                      госслужащий       351   18\n",
       "                      компаньон        1631  110\n",
       "                      пенсионер         521   31\n",
       "                      предприниматель     1    0\n",
       "                      сотрудник        2180  197\n",
       "C                     безработный         0    1\n",
       "                      в декрете           0    1\n",
       "                      госслужащий       996   67\n",
       "                      компаньон        3035  263\n",
       "                      пенсионер        2929  176\n",
       "                      предприниматель     1    0\n",
       "                      сотрудник        7711  852\n",
       "                      студент             1    0\n",
       "D                     госслужащий        23    1\n",
       "                      компаньон          24    1\n",
       "                      пенсионер         158    7\n",
       "                      сотрудник         124   12\n",
       "E                     госслужащий         1    0\n",
       "                      компаньон           1    0\n",
       "                      пенсионер          13    2\n",
       "                      сотрудник           5    0"
      ]
     },
     "execution_count": 35,
     "metadata": {},
     "output_type": "execute_result"
    }
   ],
   "source": [
    "income_table = data.pivot_table(index=['total_income_category', 'income_type'], columns='debt', \n",
    "                                values='dob_years', aggfunc='count', fill_value=0)\n",
    "# заменили значения NaN, возникающие, если нет данных, на 0\n",
    "\n",
    "income_table"
   ]
  },
  {
   "cell_type": "markdown",
   "id": "11c768a4",
   "metadata": {},
   "source": [
    "##### Вывод 3:"
   ]
  },
  {
   "cell_type": "markdown",
   "id": "9c129109",
   "metadata": {},
   "source": [
    "Наименее дисциплинированными заёмщиками оказались клиенты из группы с самыми низкими доходами. Тем не менее, в этой группе очень мало наблюдений для того, чтобы можно было делать обоснованные выводы.\n",
    "\n",
    "Предпоследняя по доходам группа значительно более многочисленна, при этом она оказалась наиболее дисциплинированной. \n",
    "\n",
    "Ниже среднего значения просрочка также в группе 'B' (более 200 тыс. и до 1 млн.) - по всей видимости, эта группа имеет меньше финансовых рисков и берёт \"посильные\" ссуды.\n",
    "\n",
    "В группах с самым высоким уровнем доходов (она также невелика) и со средними доходами ('С') клиенты возвращают кредиты примерно так же, как в среднем по выборке. Необходимо заметить, что в группе 'C' наиболее \"рискованной\" категорией являются сотрудники организаций.\n",
    "\n",
    "Сравнительно большая доля задолженностей в группе с самыми низкими доходами вполне объяснима: в такой ситуации у заёмщика множество рисков для финансовой стабильности. У остальных групп повышенные риски могут быть связаны с суммой кредита."
   ]
  },
  {
   "cell_type": "markdown",
   "id": "6cf5c38a",
   "metadata": {},
   "source": [
    "##### Вопрос 4: Как разные цели кредита влияют на его возврат в срок?"
   ]
  },
  {
   "cell_type": "code",
   "execution_count": 36,
   "id": "6043f3aa",
   "metadata": {},
   "outputs": [
    {
     "data": {
      "text/plain": [
       "purpose_category\n",
       "операции с автомобилем      0.093547\n",
       "получение образования       0.092177\n",
       "проведение свадьбы          0.079657\n",
       "операции с недвижимостью    0.072314\n",
       "Name: debt, dtype: float64"
      ]
     },
     "execution_count": 36,
     "metadata": {},
     "output_type": "execute_result"
    }
   ],
   "source": [
    "data.groupby('purpose_category')['debt'].mean().sort_values(ascending=False)"
   ]
  },
  {
   "cell_type": "code",
   "execution_count": 37,
   "id": "2b836c37",
   "metadata": {
    "scrolled": true
   },
   "outputs": [
    {
     "data": {
      "text/html": [
       "<div>\n",
       "<style scoped>\n",
       "    .dataframe tbody tr th:only-of-type {\n",
       "        vertical-align: middle;\n",
       "    }\n",
       "\n",
       "    .dataframe tbody tr th {\n",
       "        vertical-align: top;\n",
       "    }\n",
       "\n",
       "    .dataframe thead th {\n",
       "        text-align: right;\n",
       "    }\n",
       "</style>\n",
       "<table border=\"1\" class=\"dataframe\">\n",
       "  <thead>\n",
       "    <tr style=\"text-align: right;\">\n",
       "      <th></th>\n",
       "      <th>debt</th>\n",
       "      <th>0</th>\n",
       "      <th>1</th>\n",
       "    </tr>\n",
       "    <tr>\n",
       "      <th>purpose_category</th>\n",
       "      <th>total_income_category</th>\n",
       "      <th></th>\n",
       "      <th></th>\n",
       "    </tr>\n",
       "  </thead>\n",
       "  <tbody>\n",
       "    <tr>\n",
       "      <th rowspan=\"5\" valign=\"top\">операции с автомобилем</th>\n",
       "      <th>A</th>\n",
       "      <td>2</td>\n",
       "      <td>0</td>\n",
       "    </tr>\n",
       "    <tr>\n",
       "      <th>B</th>\n",
       "      <td>945</td>\n",
       "      <td>86</td>\n",
       "    </tr>\n",
       "    <tr>\n",
       "      <th>C</th>\n",
       "      <td>2894</td>\n",
       "      <td>307</td>\n",
       "    </tr>\n",
       "    <tr>\n",
       "      <th>D</th>\n",
       "      <td>62</td>\n",
       "      <td>10</td>\n",
       "    </tr>\n",
       "    <tr>\n",
       "      <th>E</th>\n",
       "      <td>2</td>\n",
       "      <td>0</td>\n",
       "    </tr>\n",
       "    <tr>\n",
       "      <th rowspan=\"5\" valign=\"top\">операции с недвижимостью</th>\n",
       "      <th>A</th>\n",
       "      <td>16</td>\n",
       "      <td>1</td>\n",
       "    </tr>\n",
       "    <tr>\n",
       "      <th>B</th>\n",
       "      <td>2396</td>\n",
       "      <td>172</td>\n",
       "    </tr>\n",
       "    <tr>\n",
       "      <th>C</th>\n",
       "      <td>7449</td>\n",
       "      <td>601</td>\n",
       "    </tr>\n",
       "    <tr>\n",
       "      <th>D</th>\n",
       "      <td>162</td>\n",
       "      <td>6</td>\n",
       "    </tr>\n",
       "    <tr>\n",
       "      <th>E</th>\n",
       "      <td>9</td>\n",
       "      <td>2</td>\n",
       "    </tr>\n",
       "    <tr>\n",
       "      <th rowspan=\"5\" valign=\"top\">получение образования</th>\n",
       "      <th>A</th>\n",
       "      <td>3</td>\n",
       "      <td>1</td>\n",
       "    </tr>\n",
       "    <tr>\n",
       "      <th>B</th>\n",
       "      <td>827</td>\n",
       "      <td>70</td>\n",
       "    </tr>\n",
       "    <tr>\n",
       "      <th>C</th>\n",
       "      <td>2735</td>\n",
       "      <td>297</td>\n",
       "    </tr>\n",
       "    <tr>\n",
       "      <th>D</th>\n",
       "      <td>74</td>\n",
       "      <td>2</td>\n",
       "    </tr>\n",
       "    <tr>\n",
       "      <th>E</th>\n",
       "      <td>5</td>\n",
       "      <td>0</td>\n",
       "    </tr>\n",
       "    <tr>\n",
       "      <th rowspan=\"5\" valign=\"top\">проведение свадьбы</th>\n",
       "      <th>A</th>\n",
       "      <td>2</td>\n",
       "      <td>0</td>\n",
       "    </tr>\n",
       "    <tr>\n",
       "      <th>B</th>\n",
       "      <td>517</td>\n",
       "      <td>28</td>\n",
       "    </tr>\n",
       "    <tr>\n",
       "      <th>C</th>\n",
       "      <td>1595</td>\n",
       "      <td>155</td>\n",
       "    </tr>\n",
       "    <tr>\n",
       "      <th>D</th>\n",
       "      <td>31</td>\n",
       "      <td>3</td>\n",
       "    </tr>\n",
       "    <tr>\n",
       "      <th>E</th>\n",
       "      <td>4</td>\n",
       "      <td>0</td>\n",
       "    </tr>\n",
       "  </tbody>\n",
       "</table>\n",
       "</div>"
      ],
      "text/plain": [
       "debt                                               0    1\n",
       "purpose_category         total_income_category           \n",
       "операции с автомобилем   A                         2    0\n",
       "                         B                       945   86\n",
       "                         C                      2894  307\n",
       "                         D                        62   10\n",
       "                         E                         2    0\n",
       "операции с недвижимостью A                        16    1\n",
       "                         B                      2396  172\n",
       "                         C                      7449  601\n",
       "                         D                       162    6\n",
       "                         E                         9    2\n",
       "получение образования    A                         3    1\n",
       "                         B                       827   70\n",
       "                         C                      2735  297\n",
       "                         D                        74    2\n",
       "                         E                         5    0\n",
       "проведение свадьбы       A                         2    0\n",
       "                         B                       517   28\n",
       "                         C                      1595  155\n",
       "                         D                        31    3\n",
       "                         E                         4    0"
      ]
     },
     "execution_count": 37,
     "metadata": {},
     "output_type": "execute_result"
    }
   ],
   "source": [
    "category_table = data.pivot_table(index=['purpose_category', 'total_income_category'], columns='debt', \n",
    "                                values='total_income', aggfunc='count', fill_value=0)\n",
    "# заменили значения NaN, возникающие, если нет данных, на 0\n",
    "category_table"
   ]
  },
  {
   "cell_type": "markdown",
   "id": "572f2687",
   "metadata": {},
   "source": [
    "##### Вывод 4:"
   ]
  },
  {
   "cell_type": "markdown",
   "id": "5dd71311",
   "metadata": {},
   "source": [
    "Более высокая доля просроченных займов - в категориях операций с автомобилем и получения образования. Среди тех, кто берёт кредит на автомобиль, худшая ситуация с просрочкой у клиентов со средними и невысокими доходами. Та же ситуация и с кредитами на образование: более 10% клиентов со средними доходами не выплачивают их в срок.\n",
    "\n",
    "Наиболее вероятен возврат в срок кредитов на операции с недвижимостью (хотя это не касается заёмщиков из двух групп с доходами ниже среднего). Как представляется, надёжность в данном случае обеспечивается доскональным контролем кредитной истории заёмщика и рядом других мер со стороны банка перед выдачей крупного займа.\n",
    "\n",
    "Что касается кредитов на проведение свадьбы, то возникновение долга по ним происходит лишь чуть реже, чем в среднем."
   ]
  },
  {
   "cell_type": "markdown",
   "id": "6e5bb0bb",
   "metadata": {},
   "source": [
    "*NB Поскольку речь зашла об образовании, интересно проверить, зависит ли надёжность заёмщика от образования. Оказывается, наличие у клиента высшего образования повышает вероятность возврата кредита в срок самым заметным образом из всех факторов, исследованных ранее.*"
   ]
  },
  {
   "cell_type": "code",
   "execution_count": 38,
   "id": "7768c6b3",
   "metadata": {},
   "outputs": [
    {
     "data": {
      "text/plain": [
       "education_id\n",
       "3    0.109929\n",
       "2    0.091398\n",
       "1    0.089808\n",
       "0    0.052942\n",
       "4    0.000000\n",
       "Name: debt, dtype: float64"
      ]
     },
     "metadata": {},
     "output_type": "display_data"
    },
    {
     "data": {
      "text/html": [
       "<div>\n",
       "<style scoped>\n",
       "    .dataframe tbody tr th:only-of-type {\n",
       "        vertical-align: middle;\n",
       "    }\n",
       "\n",
       "    .dataframe tbody tr th {\n",
       "        vertical-align: top;\n",
       "    }\n",
       "\n",
       "    .dataframe thead th {\n",
       "        text-align: right;\n",
       "    }\n",
       "</style>\n",
       "<table border=\"1\" class=\"dataframe\">\n",
       "  <thead>\n",
       "    <tr style=\"text-align: right;\">\n",
       "      <th></th>\n",
       "      <th>0</th>\n",
       "      <th>1</th>\n",
       "      <th>education</th>\n",
       "    </tr>\n",
       "  </thead>\n",
       "  <tbody>\n",
       "    <tr>\n",
       "      <th>0</th>\n",
       "      <td>4973.0</td>\n",
       "      <td>278.0</td>\n",
       "      <td>высшее</td>\n",
       "    </tr>\n",
       "    <tr>\n",
       "      <th>1</th>\n",
       "      <td>13824.0</td>\n",
       "      <td>1364.0</td>\n",
       "      <td>среднее</td>\n",
       "    </tr>\n",
       "    <tr>\n",
       "      <th>2</th>\n",
       "      <td>676.0</td>\n",
       "      <td>68.0</td>\n",
       "      <td>неоконченное высшее</td>\n",
       "    </tr>\n",
       "    <tr>\n",
       "      <th>3</th>\n",
       "      <td>251.0</td>\n",
       "      <td>31.0</td>\n",
       "      <td>начальное</td>\n",
       "    </tr>\n",
       "    <tr>\n",
       "      <th>4</th>\n",
       "      <td>6.0</td>\n",
       "      <td>NaN</td>\n",
       "      <td>ученая степень</td>\n",
       "    </tr>\n",
       "  </tbody>\n",
       "</table>\n",
       "</div>"
      ],
      "text/plain": [
       "         0       1            education\n",
       "0   4973.0   278.0               высшее\n",
       "1  13824.0  1364.0              среднее\n",
       "2    676.0    68.0  неоконченное высшее\n",
       "3    251.0    31.0            начальное\n",
       "4      6.0     NaN       ученая степень"
      ]
     },
     "execution_count": 38,
     "metadata": {},
     "output_type": "execute_result"
    }
   ],
   "source": [
    "display(data.groupby('education_id')['debt'].mean().sort_values(ascending=False))\n",
    "\n",
    "education_table = data.pivot_table(index='education_id', columns='debt', \n",
    "                                  values='dob_years', aggfunc='count')\n",
    "education_table = education_table.merge(education_dict, on='education_id', how='left')\n",
    "education_table.drop('education_id', axis=1)"
   ]
  },
  {
   "cell_type": "markdown",
   "id": "a8eac6d4",
   "metadata": {},
   "source": [
    "## Общий вывод:"
   ]
  },
  {
   "cell_type": "markdown",
   "id": "f0709a55",
   "metadata": {},
   "source": [
    "Можно говорить о том, что **высокие риски возникновения задолженности** связаны со следующими факторами:\n",
    "* наличие у клиента детей - в особенности, больше 1,\n",
    "* клиент в молодом или среднем возрасте и не состоит и никогда не состоял в официально зарегистрированном браке,\n",
    "* уровень дохода клиента либо очень низкий (до 30 тыс.), либо он является сотрудником организации (не госслужащим) и имеет доход свыше 50 тыс. но не более 200 тыс.\n",
    "* клиент берёт кредит на получение образования или операции с автомобилем.\n",
    "\n",
    "**Снижению рисков просрочки** способствуют такие факторы, как:\n",
    "* бездетность клиента,\n",
    "* статус вдовца/вдовы или пребывание в разводе,\n",
    "* средне-высокие или средне-низкие доходы (либо от 200 тыс. до 1 млн., либо от 30 до 50 тыс.),\n",
    "* получение кредита на операции с недвижимостью,\n",
    "* наличие у клиента высшего образования."
   ]
  }
 ],
 "metadata": {
  "ExecuteTimeLog": [
   {
    "duration": 903,
    "start_time": "2022-04-24T16:04:22.194Z"
   },
   {
    "duration": 66,
    "start_time": "2022-04-24T16:04:38.348Z"
   },
   {
    "duration": 108,
    "start_time": "2022-04-24T16:06:46.989Z"
   },
   {
    "duration": 303,
    "start_time": "2022-04-24T16:06:59.952Z"
   },
   {
    "duration": 26,
    "start_time": "2022-04-24T16:07:26.206Z"
   },
   {
    "duration": 10,
    "start_time": "2022-04-24T16:08:43.516Z"
   },
   {
    "duration": 10,
    "start_time": "2022-04-24T16:09:38.604Z"
   },
   {
    "duration": 8,
    "start_time": "2022-04-24T16:10:33.468Z"
   },
   {
    "duration": 8,
    "start_time": "2022-04-24T16:13:34.615Z"
   },
   {
    "duration": 11,
    "start_time": "2022-04-24T16:14:34.426Z"
   },
   {
    "duration": 150,
    "start_time": "2022-04-24T16:17:00.720Z"
   },
   {
    "duration": 30,
    "start_time": "2022-04-24T16:33:19.224Z"
   },
   {
    "duration": 19,
    "start_time": "2022-04-24T16:33:34.995Z"
   },
   {
    "duration": 6,
    "start_time": "2022-04-24T16:34:46.151Z"
   },
   {
    "duration": 32,
    "start_time": "2022-04-24T16:41:01.607Z"
   },
   {
    "duration": 9,
    "start_time": "2022-04-24T16:43:28.081Z"
   },
   {
    "duration": 7,
    "start_time": "2022-04-24T16:43:38.298Z"
   },
   {
    "duration": 11,
    "start_time": "2022-04-24T16:50:58.490Z"
   },
   {
    "duration": 7,
    "start_time": "2022-04-24T16:52:29.610Z"
   },
   {
    "duration": 13,
    "start_time": "2022-04-24T16:53:17.987Z"
   },
   {
    "duration": 28,
    "start_time": "2022-04-24T16:55:16.894Z"
   },
   {
    "duration": 54,
    "start_time": "2022-04-24T16:58:16.272Z"
   },
   {
    "duration": 74,
    "start_time": "2022-04-24T16:58:22.420Z"
   },
   {
    "duration": 14,
    "start_time": "2022-04-24T16:58:46.817Z"
   },
   {
    "duration": 18,
    "start_time": "2022-04-24T16:59:18.724Z"
   },
   {
    "duration": 9,
    "start_time": "2022-04-24T17:01:28.494Z"
   },
   {
    "duration": 9,
    "start_time": "2022-04-24T17:02:04.450Z"
   },
   {
    "duration": 397,
    "start_time": "2022-04-24T17:02:49.454Z"
   },
   {
    "duration": 31,
    "start_time": "2022-04-24T17:02:49.854Z"
   },
   {
    "duration": 13,
    "start_time": "2022-04-24T17:02:49.889Z"
   },
   {
    "duration": 26,
    "start_time": "2022-04-24T17:02:49.904Z"
   },
   {
    "duration": 30,
    "start_time": "2022-04-24T17:03:01.508Z"
   },
   {
    "duration": 23,
    "start_time": "2022-04-24T17:04:50.002Z"
   },
   {
    "duration": 30,
    "start_time": "2022-04-24T17:12:06.751Z"
   },
   {
    "duration": 103,
    "start_time": "2022-04-24T17:22:45.676Z"
   },
   {
    "duration": 29,
    "start_time": "2022-04-24T17:22:45.782Z"
   },
   {
    "duration": 30,
    "start_time": "2022-04-24T17:22:45.814Z"
   },
   {
    "duration": 52,
    "start_time": "2022-04-24T17:22:45.846Z"
   },
   {
    "duration": 11,
    "start_time": "2022-04-24T17:22:45.903Z"
   },
   {
    "duration": 14,
    "start_time": "2022-04-24T17:22:45.916Z"
   },
   {
    "duration": 51,
    "start_time": "2022-04-24T17:22:45.936Z"
   },
   {
    "duration": 18,
    "start_time": "2022-04-24T17:22:45.990Z"
   },
   {
    "duration": 46,
    "start_time": "2022-04-24T17:22:46.011Z"
   },
   {
    "duration": 77,
    "start_time": "2022-04-24T17:22:46.060Z"
   },
   {
    "duration": 29,
    "start_time": "2022-04-24T17:22:53.450Z"
   },
   {
    "duration": 25,
    "start_time": "2022-04-24T17:23:02.836Z"
   },
   {
    "duration": 43,
    "start_time": "2022-04-24T17:24:22.466Z"
   },
   {
    "duration": 35,
    "start_time": "2022-04-24T17:25:50.231Z"
   },
   {
    "duration": 153,
    "start_time": "2022-04-24T17:28:19.268Z"
   },
   {
    "duration": 25,
    "start_time": "2022-04-24T17:28:47.658Z"
   },
   {
    "duration": 36,
    "start_time": "2022-04-24T17:31:23.486Z"
   },
   {
    "duration": 6,
    "start_time": "2022-04-24T17:32:50.637Z"
   },
   {
    "duration": 33,
    "start_time": "2022-04-24T17:33:08.262Z"
   },
   {
    "duration": 26,
    "start_time": "2022-04-24T17:33:21.187Z"
   },
   {
    "duration": 47,
    "start_time": "2022-04-24T17:34:44.821Z"
   },
   {
    "duration": 44,
    "start_time": "2022-04-24T17:35:14.382Z"
   },
   {
    "duration": 30,
    "start_time": "2022-04-24T17:35:53.652Z"
   },
   {
    "duration": 31,
    "start_time": "2022-04-24T17:36:43.508Z"
   },
   {
    "duration": 166,
    "start_time": "2022-04-24T18:32:24.950Z"
   },
   {
    "duration": 34,
    "start_time": "2022-04-24T18:34:45.850Z"
   },
   {
    "duration": 22,
    "start_time": "2022-04-24T18:34:57.381Z"
   },
   {
    "duration": 20,
    "start_time": "2022-04-24T18:35:25.629Z"
   },
   {
    "duration": 13,
    "start_time": "2022-04-24T18:43:38.178Z"
   },
   {
    "duration": 25,
    "start_time": "2022-04-24T18:44:57.250Z"
   },
   {
    "duration": 23,
    "start_time": "2022-04-24T18:45:10.794Z"
   },
   {
    "duration": 24,
    "start_time": "2022-04-24T18:46:36.048Z"
   },
   {
    "duration": 204,
    "start_time": "2022-04-24T18:50:49.202Z"
   },
   {
    "duration": 20,
    "start_time": "2022-04-24T18:51:55.003Z"
   },
   {
    "duration": 5,
    "start_time": "2022-04-24T19:08:59.473Z"
   },
   {
    "duration": 8,
    "start_time": "2022-04-24T19:09:14.774Z"
   },
   {
    "duration": 6,
    "start_time": "2022-04-24T19:09:30.993Z"
   },
   {
    "duration": 2290,
    "start_time": "2022-04-24T19:11:30.247Z"
   },
   {
    "duration": 51,
    "start_time": "2022-04-24T19:13:04.616Z"
   },
   {
    "duration": 6,
    "start_time": "2022-04-25T12:16:30.712Z"
   },
   {
    "duration": 13,
    "start_time": "2022-04-25T12:16:45.535Z"
   },
   {
    "duration": 7,
    "start_time": "2022-04-25T12:18:16.351Z"
   },
   {
    "duration": 10,
    "start_time": "2022-04-25T12:18:52.043Z"
   },
   {
    "duration": 7,
    "start_time": "2022-04-25T12:19:08.753Z"
   },
   {
    "duration": 25,
    "start_time": "2022-04-25T12:21:01.896Z"
   },
   {
    "duration": 31,
    "start_time": "2022-04-25T12:21:09.743Z"
   },
   {
    "duration": 42,
    "start_time": "2022-04-25T12:24:07.052Z"
   },
   {
    "duration": 42,
    "start_time": "2022-04-25T12:24:24.842Z"
   },
   {
    "duration": 57,
    "start_time": "2022-04-25T12:24:34.302Z"
   },
   {
    "duration": 52,
    "start_time": "2022-04-25T12:24:44.222Z"
   },
   {
    "duration": 8,
    "start_time": "2022-04-25T12:27:30.509Z"
   },
   {
    "duration": 37,
    "start_time": "2022-04-25T12:27:46.978Z"
   },
   {
    "duration": 32,
    "start_time": "2022-04-25T12:28:05.672Z"
   },
   {
    "duration": 11,
    "start_time": "2022-04-25T12:30:17.903Z"
   },
   {
    "duration": 6,
    "start_time": "2022-04-25T12:35:19.551Z"
   },
   {
    "duration": 5,
    "start_time": "2022-04-25T12:36:35.213Z"
   },
   {
    "duration": 11,
    "start_time": "2022-04-25T12:39:06.266Z"
   },
   {
    "duration": 12,
    "start_time": "2022-04-25T12:39:54.946Z"
   },
   {
    "duration": 12,
    "start_time": "2022-04-25T12:40:31.246Z"
   },
   {
    "duration": 16,
    "start_time": "2022-04-25T12:42:23.077Z"
   },
   {
    "duration": 6,
    "start_time": "2022-04-25T12:46:17.436Z"
   },
   {
    "duration": 6,
    "start_time": "2022-04-25T12:52:04.551Z"
   },
   {
    "duration": 14,
    "start_time": "2022-04-25T12:52:43.825Z"
   },
   {
    "duration": 6,
    "start_time": "2022-04-25T12:53:41.243Z"
   },
   {
    "duration": 8,
    "start_time": "2022-04-25T12:56:33.238Z"
   },
   {
    "duration": 9,
    "start_time": "2022-04-25T12:57:59.639Z"
   },
   {
    "duration": 96,
    "start_time": "2022-04-25T12:58:28.617Z"
   },
   {
    "duration": 33,
    "start_time": "2022-04-25T12:58:28.716Z"
   },
   {
    "duration": 7,
    "start_time": "2022-04-25T12:58:28.751Z"
   },
   {
    "duration": 21,
    "start_time": "2022-04-25T12:58:28.760Z"
   },
   {
    "duration": 9,
    "start_time": "2022-04-25T12:58:28.784Z"
   },
   {
    "duration": 9,
    "start_time": "2022-04-25T12:58:28.826Z"
   },
   {
    "duration": 15,
    "start_time": "2022-04-25T12:58:28.838Z"
   },
   {
    "duration": 13,
    "start_time": "2022-04-25T12:58:28.856Z"
   },
   {
    "duration": 12,
    "start_time": "2022-04-25T12:58:32.452Z"
   },
   {
    "duration": 6,
    "start_time": "2022-04-25T12:58:44.601Z"
   },
   {
    "duration": 6,
    "start_time": "2022-04-25T12:58:48.256Z"
   },
   {
    "duration": 14,
    "start_time": "2022-04-25T13:10:30.900Z"
   },
   {
    "duration": 16,
    "start_time": "2022-04-25T13:10:46.937Z"
   },
   {
    "duration": 12,
    "start_time": "2022-04-25T13:11:24.445Z"
   },
   {
    "duration": 7,
    "start_time": "2022-04-25T13:11:51.520Z"
   },
   {
    "duration": 85,
    "start_time": "2022-04-25T13:51:28.595Z"
   },
   {
    "duration": 50,
    "start_time": "2022-04-25T13:51:28.682Z"
   },
   {
    "duration": 8,
    "start_time": "2022-04-25T13:51:28.734Z"
   },
   {
    "duration": 25,
    "start_time": "2022-04-25T13:51:28.744Z"
   },
   {
    "duration": 7,
    "start_time": "2022-04-25T13:51:28.773Z"
   },
   {
    "duration": 42,
    "start_time": "2022-04-25T13:51:28.784Z"
   },
   {
    "duration": 9,
    "start_time": "2022-04-25T13:51:28.828Z"
   },
   {
    "duration": 7,
    "start_time": "2022-04-25T13:51:28.839Z"
   },
   {
    "duration": 12,
    "start_time": "2022-04-25T13:51:28.848Z"
   },
   {
    "duration": 5,
    "start_time": "2022-04-25T13:51:28.862Z"
   },
   {
    "duration": 55,
    "start_time": "2022-04-25T13:51:28.869Z"
   },
   {
    "duration": 7,
    "start_time": "2022-04-25T13:51:28.927Z"
   },
   {
    "duration": 30,
    "start_time": "2022-04-25T13:51:28.936Z"
   },
   {
    "duration": 76,
    "start_time": "2022-04-25T13:51:28.970Z"
   },
   {
    "duration": 20,
    "start_time": "2022-04-25T13:51:29.049Z"
   },
   {
    "duration": 59,
    "start_time": "2022-04-25T13:51:29.071Z"
   },
   {
    "duration": 21,
    "start_time": "2022-04-25T13:51:29.133Z"
   },
   {
    "duration": 43,
    "start_time": "2022-04-25T13:51:29.156Z"
   },
   {
    "duration": 21,
    "start_time": "2022-04-25T13:51:29.225Z"
   },
   {
    "duration": 29,
    "start_time": "2022-04-25T13:51:29.248Z"
   },
   {
    "duration": 49,
    "start_time": "2022-04-25T13:51:29.279Z"
   },
   {
    "duration": 28,
    "start_time": "2022-04-25T13:51:29.331Z"
   },
   {
    "duration": 19,
    "start_time": "2022-04-25T13:51:29.362Z"
   },
   {
    "duration": 43,
    "start_time": "2022-04-25T13:51:29.383Z"
   },
   {
    "duration": 29,
    "start_time": "2022-04-25T13:51:29.428Z"
   },
   {
    "duration": 22,
    "start_time": "2022-04-25T13:51:29.459Z"
   },
   {
    "duration": 57,
    "start_time": "2022-04-25T13:51:29.483Z"
   },
   {
    "duration": 14,
    "start_time": "2022-04-25T13:51:48.098Z"
   },
   {
    "duration": 8,
    "start_time": "2022-04-25T13:52:32.130Z"
   },
   {
    "duration": 10,
    "start_time": "2022-04-25T13:54:30.200Z"
   },
   {
    "duration": 85,
    "start_time": "2022-04-25T13:54:50.725Z"
   },
   {
    "duration": 29,
    "start_time": "2022-04-25T13:54:50.813Z"
   },
   {
    "duration": 10,
    "start_time": "2022-04-25T13:54:50.844Z"
   },
   {
    "duration": 45,
    "start_time": "2022-04-25T13:54:50.856Z"
   },
   {
    "duration": 17,
    "start_time": "2022-04-25T13:54:50.904Z"
   },
   {
    "duration": 7,
    "start_time": "2022-04-25T13:54:50.925Z"
   },
   {
    "duration": 18,
    "start_time": "2022-04-25T13:54:50.934Z"
   },
   {
    "duration": 9,
    "start_time": "2022-04-25T13:54:55.382Z"
   },
   {
    "duration": 118,
    "start_time": "2022-04-25T14:09:09.817Z"
   },
   {
    "duration": 10,
    "start_time": "2022-04-25T14:09:32.933Z"
   },
   {
    "duration": 59,
    "start_time": "2022-04-25T14:09:45.191Z"
   },
   {
    "duration": 13,
    "start_time": "2022-04-25T14:12:47.602Z"
   },
   {
    "duration": 44,
    "start_time": "2022-04-25T14:14:49.304Z"
   },
   {
    "duration": 84,
    "start_time": "2022-04-25T14:15:22.667Z"
   },
   {
    "duration": 21,
    "start_time": "2022-04-25T14:15:22.754Z"
   },
   {
    "duration": 8,
    "start_time": "2022-04-25T14:15:22.778Z"
   },
   {
    "duration": 52,
    "start_time": "2022-04-25T14:15:22.790Z"
   },
   {
    "duration": 8,
    "start_time": "2022-04-25T14:15:22.845Z"
   },
   {
    "duration": 7,
    "start_time": "2022-04-25T14:15:22.856Z"
   },
   {
    "duration": 9,
    "start_time": "2022-04-25T14:15:22.866Z"
   },
   {
    "duration": 53,
    "start_time": "2022-04-25T14:15:22.878Z"
   },
   {
    "duration": 11,
    "start_time": "2022-04-25T14:15:22.933Z"
   },
   {
    "duration": 5,
    "start_time": "2022-04-25T14:15:22.947Z"
   },
   {
    "duration": 8,
    "start_time": "2022-04-25T14:15:22.954Z"
   },
   {
    "duration": 9,
    "start_time": "2022-04-25T14:15:22.964Z"
   },
   {
    "duration": 68,
    "start_time": "2022-04-25T14:15:22.975Z"
   },
   {
    "duration": 51,
    "start_time": "2022-04-25T14:15:23.045Z"
   },
   {
    "duration": 41,
    "start_time": "2022-04-25T14:15:23.098Z"
   },
   {
    "duration": 42,
    "start_time": "2022-04-25T14:15:23.141Z"
   },
   {
    "duration": 51,
    "start_time": "2022-04-25T14:15:23.186Z"
   },
   {
    "duration": 40,
    "start_time": "2022-04-25T14:15:23.240Z"
   },
   {
    "duration": 51,
    "start_time": "2022-04-25T14:15:23.283Z"
   },
   {
    "duration": 23,
    "start_time": "2022-04-25T14:15:23.337Z"
   },
   {
    "duration": 10,
    "start_time": "2022-04-25T14:15:23.362Z"
   },
   {
    "duration": 19,
    "start_time": "2022-04-25T14:15:23.374Z"
   },
   {
    "duration": 16,
    "start_time": "2022-04-25T14:15:23.424Z"
   },
   {
    "duration": 18,
    "start_time": "2022-04-25T14:15:23.442Z"
   },
   {
    "duration": 64,
    "start_time": "2022-04-25T14:15:23.462Z"
   },
   {
    "duration": 11,
    "start_time": "2022-04-25T14:15:23.528Z"
   },
   {
    "duration": 42,
    "start_time": "2022-04-25T14:15:23.541Z"
   },
   {
    "duration": 44,
    "start_time": "2022-04-25T14:15:26.392Z"
   },
   {
    "duration": 14,
    "start_time": "2022-04-25T14:22:32.086Z"
   },
   {
    "duration": 112,
    "start_time": "2022-04-25T14:23:04.208Z"
   },
   {
    "duration": 9,
    "start_time": "2022-04-25T14:27:39.359Z"
   },
   {
    "duration": 9,
    "start_time": "2022-04-25T14:28:19.451Z"
   },
   {
    "duration": 11,
    "start_time": "2022-04-25T14:29:17.892Z"
   },
   {
    "duration": 9,
    "start_time": "2022-04-25T14:29:36.500Z"
   },
   {
    "duration": 10,
    "start_time": "2022-04-25T14:30:05.754Z"
   },
   {
    "duration": 9,
    "start_time": "2022-04-25T14:30:20.867Z"
   },
   {
    "duration": 9,
    "start_time": "2022-04-25T14:30:58.111Z"
   },
   {
    "duration": 6,
    "start_time": "2022-04-25T14:36:46.611Z"
   },
   {
    "duration": 5,
    "start_time": "2022-04-25T14:37:28.072Z"
   },
   {
    "duration": 11,
    "start_time": "2022-04-25T14:37:42.868Z"
   },
   {
    "duration": 5,
    "start_time": "2022-04-25T14:38:00.264Z"
   },
   {
    "duration": 12,
    "start_time": "2022-04-25T14:38:59.683Z"
   },
   {
    "duration": 23,
    "start_time": "2022-04-25T14:39:19.289Z"
   },
   {
    "duration": 5,
    "start_time": "2022-04-25T14:40:07.029Z"
   },
   {
    "duration": 16,
    "start_time": "2022-04-25T15:07:03.253Z"
   },
   {
    "duration": 14,
    "start_time": "2022-04-25T15:07:15.574Z"
   },
   {
    "duration": 87,
    "start_time": "2022-04-25T15:07:35.518Z"
   },
   {
    "duration": 32,
    "start_time": "2022-04-25T15:07:35.608Z"
   },
   {
    "duration": 8,
    "start_time": "2022-04-25T15:07:35.642Z"
   },
   {
    "duration": 24,
    "start_time": "2022-04-25T15:07:35.652Z"
   },
   {
    "duration": 10,
    "start_time": "2022-04-25T15:07:35.678Z"
   },
   {
    "duration": 47,
    "start_time": "2022-04-25T15:07:35.690Z"
   },
   {
    "duration": 14,
    "start_time": "2022-04-25T15:07:35.739Z"
   },
   {
    "duration": 44,
    "start_time": "2022-04-25T15:07:35.755Z"
   },
   {
    "duration": 11,
    "start_time": "2022-04-25T15:07:35.801Z"
   },
   {
    "duration": 31,
    "start_time": "2022-04-25T15:07:35.815Z"
   },
   {
    "duration": 107,
    "start_time": "2022-04-25T15:07:35.848Z"
   },
   {
    "duration": 19,
    "start_time": "2022-04-25T15:07:35.957Z"
   },
   {
    "duration": 45,
    "start_time": "2022-04-25T15:07:35.979Z"
   },
   {
    "duration": 50,
    "start_time": "2022-04-25T15:07:36.028Z"
   },
   {
    "duration": 20,
    "start_time": "2022-04-25T15:07:36.080Z"
   },
   {
    "duration": 58,
    "start_time": "2022-04-25T15:07:36.102Z"
   },
   {
    "duration": 32,
    "start_time": "2022-04-25T15:07:36.162Z"
   },
   {
    "duration": 51,
    "start_time": "2022-04-25T15:07:36.196Z"
   },
   {
    "duration": 20,
    "start_time": "2022-04-25T15:07:36.249Z"
   },
   {
    "duration": 85,
    "start_time": "2022-04-25T15:07:36.271Z"
   },
   {
    "duration": 20,
    "start_time": "2022-04-25T15:07:36.359Z"
   },
   {
    "duration": 26,
    "start_time": "2022-04-25T15:07:36.382Z"
   },
   {
    "duration": 17,
    "start_time": "2022-04-25T15:07:43.080Z"
   },
   {
    "duration": 16,
    "start_time": "2022-04-25T15:07:48.483Z"
   },
   {
    "duration": 184,
    "start_time": "2022-04-25T15:08:44.376Z"
   },
   {
    "duration": 9,
    "start_time": "2022-04-25T15:08:53.057Z"
   },
   {
    "duration": 10,
    "start_time": "2022-04-25T15:09:04.257Z"
   },
   {
    "duration": 42,
    "start_time": "2022-04-25T15:09:21.924Z"
   },
   {
    "duration": 22,
    "start_time": "2022-04-25T15:11:57.862Z"
   },
   {
    "duration": 20,
    "start_time": "2022-04-25T15:12:53.136Z"
   },
   {
    "duration": 11,
    "start_time": "2022-04-25T15:35:32.830Z"
   },
   {
    "duration": 40,
    "start_time": "2022-04-25T15:35:42.429Z"
   },
   {
    "duration": 9,
    "start_time": "2022-04-25T15:37:15.012Z"
   },
   {
    "duration": 13,
    "start_time": "2022-04-25T15:37:46.071Z"
   },
   {
    "duration": 11,
    "start_time": "2022-04-25T15:51:45.091Z"
   },
   {
    "duration": 13,
    "start_time": "2022-04-25T15:53:11.920Z"
   },
   {
    "duration": 10,
    "start_time": "2022-04-25T15:53:58.959Z"
   },
   {
    "duration": 12,
    "start_time": "2022-04-25T15:55:12.405Z"
   },
   {
    "duration": 15,
    "start_time": "2022-04-25T15:59:44.293Z"
   },
   {
    "duration": 7,
    "start_time": "2022-04-25T16:00:15.554Z"
   },
   {
    "duration": 9,
    "start_time": "2022-04-25T16:00:33.422Z"
   },
   {
    "duration": 8,
    "start_time": "2022-04-25T16:00:58.831Z"
   },
   {
    "duration": 25,
    "start_time": "2022-04-25T16:15:49.323Z"
   },
   {
    "duration": 94,
    "start_time": "2022-04-25T16:16:50.720Z"
   },
   {
    "duration": 13,
    "start_time": "2022-04-25T16:17:04.090Z"
   },
   {
    "duration": 52,
    "start_time": "2022-04-25T16:17:32.183Z"
   },
   {
    "duration": 29,
    "start_time": "2022-04-25T16:18:41.830Z"
   },
   {
    "duration": 24,
    "start_time": "2022-04-25T16:20:12.452Z"
   },
   {
    "duration": 15,
    "start_time": "2022-04-25T16:30:55.141Z"
   },
   {
    "duration": 1571,
    "start_time": "2022-04-25T16:31:07.336Z"
   },
   {
    "duration": 22,
    "start_time": "2022-04-25T16:31:08.911Z"
   },
   {
    "duration": 7,
    "start_time": "2022-04-25T16:31:08.936Z"
   },
   {
    "duration": 27,
    "start_time": "2022-04-25T16:31:08.947Z"
   },
   {
    "duration": 12,
    "start_time": "2022-04-25T16:31:08.977Z"
   },
   {
    "duration": 41,
    "start_time": "2022-04-25T16:31:08.991Z"
   },
   {
    "duration": 11,
    "start_time": "2022-04-25T16:31:09.034Z"
   },
   {
    "duration": 10,
    "start_time": "2022-04-25T16:31:09.047Z"
   },
   {
    "duration": 13,
    "start_time": "2022-04-25T16:31:09.060Z"
   },
   {
    "duration": 44,
    "start_time": "2022-04-25T16:31:09.081Z"
   },
   {
    "duration": 9,
    "start_time": "2022-04-25T16:31:09.128Z"
   },
   {
    "duration": 7,
    "start_time": "2022-04-25T16:31:09.140Z"
   },
   {
    "duration": 35,
    "start_time": "2022-04-25T16:31:09.150Z"
   },
   {
    "duration": 85,
    "start_time": "2022-04-25T16:31:09.188Z"
   },
   {
    "duration": 21,
    "start_time": "2022-04-25T16:31:09.275Z"
   },
   {
    "duration": 39,
    "start_time": "2022-04-25T16:31:09.323Z"
   },
   {
    "duration": 19,
    "start_time": "2022-04-25T16:31:09.364Z"
   },
   {
    "duration": 56,
    "start_time": "2022-04-25T16:31:09.385Z"
   },
   {
    "duration": 20,
    "start_time": "2022-04-25T16:31:09.443Z"
   },
   {
    "duration": 23,
    "start_time": "2022-04-25T16:31:09.465Z"
   },
   {
    "duration": 39,
    "start_time": "2022-04-25T16:31:09.490Z"
   },
   {
    "duration": 20,
    "start_time": "2022-04-25T16:31:09.531Z"
   },
   {
    "duration": 15,
    "start_time": "2022-04-25T16:31:09.553Z"
   },
   {
    "duration": 55,
    "start_time": "2022-04-25T16:31:09.571Z"
   },
   {
    "duration": 69,
    "start_time": "2022-04-25T16:31:09.629Z"
   },
   {
    "duration": 33,
    "start_time": "2022-04-25T16:31:09.701Z"
   },
   {
    "duration": 37,
    "start_time": "2022-04-25T16:31:09.737Z"
   },
   {
    "duration": 6,
    "start_time": "2022-04-25T16:31:09.780Z"
   },
   {
    "duration": 41,
    "start_time": "2022-04-25T16:31:09.788Z"
   },
   {
    "duration": 18,
    "start_time": "2022-04-25T16:31:09.831Z"
   },
   {
    "duration": 9,
    "start_time": "2022-04-25T16:31:09.852Z"
   },
   {
    "duration": 25,
    "start_time": "2022-04-25T16:31:09.864Z"
   },
   {
    "duration": 39,
    "start_time": "2022-04-25T16:31:09.891Z"
   },
   {
    "duration": 11,
    "start_time": "2022-04-25T16:32:27.662Z"
   },
   {
    "duration": 25,
    "start_time": "2022-04-25T16:34:48.599Z"
   },
   {
    "duration": 29,
    "start_time": "2022-04-25T16:35:06.825Z"
   },
   {
    "duration": 35,
    "start_time": "2022-04-25T16:35:40.307Z"
   },
   {
    "duration": 31,
    "start_time": "2022-04-25T16:35:55.570Z"
   },
   {
    "duration": 32,
    "start_time": "2022-04-25T16:40:07.374Z"
   },
   {
    "duration": 27,
    "start_time": "2022-04-25T16:42:38.887Z"
   },
   {
    "duration": 36,
    "start_time": "2022-04-25T16:43:28.910Z"
   },
   {
    "duration": 24,
    "start_time": "2022-04-25T16:43:52.075Z"
   },
   {
    "duration": 27,
    "start_time": "2022-04-25T16:44:58.868Z"
   },
   {
    "duration": 22,
    "start_time": "2022-04-25T16:52:42.062Z"
   },
   {
    "duration": 32,
    "start_time": "2022-04-25T16:52:53.916Z"
   },
   {
    "duration": 23,
    "start_time": "2022-04-25T16:55:26.538Z"
   },
   {
    "duration": 92,
    "start_time": "2022-04-25T16:55:51.774Z"
   },
   {
    "duration": 34,
    "start_time": "2022-04-25T16:57:43.841Z"
   },
   {
    "duration": 33,
    "start_time": "2022-04-25T16:59:25.805Z"
   },
   {
    "duration": 13,
    "start_time": "2022-04-25T17:47:19.808Z"
   },
   {
    "duration": 41,
    "start_time": "2022-04-25T17:48:36.721Z"
   },
   {
    "duration": 34,
    "start_time": "2022-04-25T17:48:47.920Z"
   },
   {
    "duration": 37,
    "start_time": "2022-04-25T17:50:15.626Z"
   },
   {
    "duration": 26,
    "start_time": "2022-04-25T17:50:30.470Z"
   },
   {
    "duration": 27,
    "start_time": "2022-04-25T17:51:29.528Z"
   },
   {
    "duration": 32,
    "start_time": "2022-04-25T17:51:40.952Z"
   },
   {
    "duration": 39,
    "start_time": "2022-04-25T17:56:42.204Z"
   },
   {
    "duration": 91,
    "start_time": "2022-04-25T19:06:51.110Z"
   },
   {
    "duration": 20,
    "start_time": "2022-04-25T19:06:51.225Z"
   },
   {
    "duration": 11,
    "start_time": "2022-04-25T19:06:51.248Z"
   },
   {
    "duration": 34,
    "start_time": "2022-04-25T19:06:51.262Z"
   },
   {
    "duration": 26,
    "start_time": "2022-04-25T19:06:51.300Z"
   },
   {
    "duration": 13,
    "start_time": "2022-04-25T19:06:51.328Z"
   },
   {
    "duration": 9,
    "start_time": "2022-04-25T19:06:51.343Z"
   },
   {
    "duration": 12,
    "start_time": "2022-04-25T19:06:51.354Z"
   },
   {
    "duration": 13,
    "start_time": "2022-04-25T19:06:51.368Z"
   },
   {
    "duration": 41,
    "start_time": "2022-04-25T19:06:51.383Z"
   },
   {
    "duration": 22,
    "start_time": "2022-04-25T19:06:51.427Z"
   },
   {
    "duration": 7,
    "start_time": "2022-04-25T19:06:51.452Z"
   },
   {
    "duration": 33,
    "start_time": "2022-04-25T19:06:51.461Z"
   },
   {
    "duration": 66,
    "start_time": "2022-04-25T19:06:51.501Z"
   },
   {
    "duration": 21,
    "start_time": "2022-04-25T19:06:51.569Z"
   },
   {
    "duration": 64,
    "start_time": "2022-04-25T19:06:51.593Z"
   },
   {
    "duration": 22,
    "start_time": "2022-04-25T19:06:51.660Z"
   },
   {
    "duration": 66,
    "start_time": "2022-04-25T19:06:51.685Z"
   },
   {
    "duration": 22,
    "start_time": "2022-04-25T19:06:51.754Z"
   },
   {
    "duration": 48,
    "start_time": "2022-04-25T19:06:51.779Z"
   },
   {
    "duration": 10,
    "start_time": "2022-04-25T19:06:51.829Z"
   },
   {
    "duration": 18,
    "start_time": "2022-04-25T19:06:51.842Z"
   },
   {
    "duration": 15,
    "start_time": "2022-04-25T19:06:51.862Z"
   },
   {
    "duration": 55,
    "start_time": "2022-04-25T19:06:51.879Z"
   },
   {
    "duration": 27,
    "start_time": "2022-04-25T19:06:51.937Z"
   },
   {
    "duration": 10,
    "start_time": "2022-04-25T19:06:51.966Z"
   },
   {
    "duration": 71,
    "start_time": "2022-04-25T19:06:51.978Z"
   },
   {
    "duration": 5,
    "start_time": "2022-04-25T19:06:52.051Z"
   },
   {
    "duration": 9,
    "start_time": "2022-04-25T19:06:52.059Z"
   },
   {
    "duration": 9,
    "start_time": "2022-04-25T19:06:52.071Z"
   },
   {
    "duration": 67,
    "start_time": "2022-04-25T19:06:52.083Z"
   },
   {
    "duration": 11,
    "start_time": "2022-04-25T19:06:52.152Z"
   },
   {
    "duration": 61,
    "start_time": "2022-04-25T19:06:52.165Z"
   },
   {
    "duration": 13,
    "start_time": "2022-04-25T19:06:52.228Z"
   },
   {
    "duration": 32,
    "start_time": "2022-04-25T19:06:52.243Z"
   },
   {
    "duration": 7,
    "start_time": "2022-04-25T19:07:42.528Z"
   },
   {
    "duration": 7,
    "start_time": "2022-04-25T19:08:57.299Z"
   },
   {
    "duration": 22,
    "start_time": "2022-04-25T19:14:26.448Z"
   },
   {
    "duration": 12,
    "start_time": "2022-04-25T19:15:40.888Z"
   },
   {
    "duration": 17,
    "start_time": "2022-04-25T19:19:47.485Z"
   },
   {
    "duration": 13,
    "start_time": "2022-04-25T19:19:59.075Z"
   },
   {
    "duration": 13,
    "start_time": "2022-04-25T19:20:30.266Z"
   },
   {
    "duration": 13,
    "start_time": "2022-04-25T19:29:20.095Z"
   },
   {
    "duration": 20,
    "start_time": "2022-04-25T19:29:58.382Z"
   },
   {
    "duration": 22,
    "start_time": "2022-04-25T19:32:08.000Z"
   },
   {
    "duration": 22,
    "start_time": "2022-04-25T19:32:31.633Z"
   },
   {
    "duration": 22,
    "start_time": "2022-04-25T19:33:15.134Z"
   },
   {
    "duration": 17,
    "start_time": "2022-04-25T19:33:37.993Z"
   },
   {
    "duration": 7,
    "start_time": "2022-04-25T19:44:22.398Z"
   },
   {
    "duration": 7,
    "start_time": "2022-04-25T19:48:00.102Z"
   },
   {
    "duration": 14,
    "start_time": "2022-04-25T19:54:59.130Z"
   },
   {
    "duration": 11,
    "start_time": "2022-04-25T19:55:36.719Z"
   },
   {
    "duration": 1789,
    "start_time": "2022-04-25T19:58:37.055Z"
   },
   {
    "duration": 21,
    "start_time": "2022-04-25T19:59:07.864Z"
   },
   {
    "duration": 7,
    "start_time": "2022-04-25T19:59:20.354Z"
   },
   {
    "duration": 20,
    "start_time": "2022-04-25T20:02:07.317Z"
   },
   {
    "duration": 15,
    "start_time": "2022-04-25T20:02:21.602Z"
   },
   {
    "duration": 94,
    "start_time": "2022-04-25T20:02:32.093Z"
   },
   {
    "duration": 45,
    "start_time": "2022-04-25T20:02:32.190Z"
   },
   {
    "duration": 8,
    "start_time": "2022-04-25T20:02:32.238Z"
   },
   {
    "duration": 64,
    "start_time": "2022-04-25T20:02:32.249Z"
   },
   {
    "duration": 25,
    "start_time": "2022-04-25T20:02:32.316Z"
   },
   {
    "duration": 17,
    "start_time": "2022-04-25T20:02:32.343Z"
   },
   {
    "duration": 31,
    "start_time": "2022-04-25T20:02:32.362Z"
   },
   {
    "duration": 1731,
    "start_time": "2022-04-25T20:02:32.396Z"
   },
   {
    "duration": 8,
    "start_time": "2022-04-25T20:02:34.129Z"
   },
   {
    "duration": 31,
    "start_time": "2022-04-25T20:02:34.140Z"
   },
   {
    "duration": 21,
    "start_time": "2022-04-25T20:02:34.173Z"
   },
   {
    "duration": 6,
    "start_time": "2022-04-25T20:02:34.196Z"
   },
   {
    "duration": 23,
    "start_time": "2022-04-25T20:02:34.204Z"
   },
   {
    "duration": 6,
    "start_time": "2022-04-25T20:02:34.232Z"
   },
   {
    "duration": 43,
    "start_time": "2022-04-25T20:02:34.241Z"
   },
   {
    "duration": 70,
    "start_time": "2022-04-25T20:02:34.286Z"
   },
   {
    "duration": 20,
    "start_time": "2022-04-25T20:02:34.359Z"
   },
   {
    "duration": 63,
    "start_time": "2022-04-25T20:02:34.381Z"
   },
   {
    "duration": 22,
    "start_time": "2022-04-25T20:02:34.446Z"
   },
   {
    "duration": 59,
    "start_time": "2022-04-25T20:02:34.470Z"
   },
   {
    "duration": 21,
    "start_time": "2022-04-25T20:02:34.531Z"
   },
   {
    "duration": 24,
    "start_time": "2022-04-25T20:02:34.555Z"
   },
   {
    "duration": 44,
    "start_time": "2022-04-25T20:02:34.582Z"
   },
   {
    "duration": 18,
    "start_time": "2022-04-25T20:02:34.628Z"
   },
   {
    "duration": 18,
    "start_time": "2022-04-25T20:02:34.648Z"
   },
   {
    "duration": 18,
    "start_time": "2022-04-25T20:02:34.668Z"
   },
   {
    "duration": 62,
    "start_time": "2022-04-25T20:02:34.688Z"
   },
   {
    "duration": 22,
    "start_time": "2022-04-25T20:02:34.753Z"
   },
   {
    "duration": 54,
    "start_time": "2022-04-25T20:02:34.778Z"
   },
   {
    "duration": 5,
    "start_time": "2022-04-25T20:02:34.835Z"
   },
   {
    "duration": 19,
    "start_time": "2022-04-25T20:02:34.842Z"
   },
   {
    "duration": 9,
    "start_time": "2022-04-25T20:02:34.864Z"
   },
   {
    "duration": 67,
    "start_time": "2022-04-25T20:02:34.875Z"
   },
   {
    "duration": 12,
    "start_time": "2022-04-25T20:02:34.944Z"
   },
   {
    "duration": 33,
    "start_time": "2022-04-25T20:02:34.958Z"
   },
   {
    "duration": 41,
    "start_time": "2022-04-25T20:02:34.993Z"
   },
   {
    "duration": 39,
    "start_time": "2022-04-25T20:02:35.036Z"
   },
   {
    "duration": 23,
    "start_time": "2022-04-25T20:23:13.300Z"
   },
   {
    "duration": 8,
    "start_time": "2022-04-26T14:19:54.174Z"
   },
   {
    "duration": 117,
    "start_time": "2022-04-26T14:19:59.716Z"
   },
   {
    "duration": 34,
    "start_time": "2022-04-26T14:19:59.836Z"
   },
   {
    "duration": 15,
    "start_time": "2022-04-26T14:19:59.873Z"
   },
   {
    "duration": 21,
    "start_time": "2022-04-26T14:19:59.891Z"
   },
   {
    "duration": 10,
    "start_time": "2022-04-26T14:19:59.927Z"
   },
   {
    "duration": 46,
    "start_time": "2022-04-26T14:19:59.939Z"
   },
   {
    "duration": 17,
    "start_time": "2022-04-26T14:19:59.987Z"
   },
   {
    "duration": 1835,
    "start_time": "2022-04-26T14:20:00.007Z"
   },
   {
    "duration": 27,
    "start_time": "2022-04-26T14:20:01.846Z"
   },
   {
    "duration": 27,
    "start_time": "2022-04-26T14:20:01.878Z"
   },
   {
    "duration": 71,
    "start_time": "2022-04-26T14:20:01.908Z"
   },
   {
    "duration": 27,
    "start_time": "2022-04-26T14:20:01.981Z"
   },
   {
    "duration": 9,
    "start_time": "2022-04-26T14:20:13.172Z"
   },
   {
    "duration": 7,
    "start_time": "2022-04-26T14:21:03.964Z"
   },
   {
    "duration": 10,
    "start_time": "2022-04-26T14:29:28.984Z"
   },
   {
    "duration": 40,
    "start_time": "2022-04-26T14:32:50.242Z"
   },
   {
    "duration": 2230,
    "start_time": "2022-04-26T14:36:57.979Z"
   },
   {
    "duration": 25,
    "start_time": "2022-04-26T14:38:01.569Z"
   },
   {
    "duration": 4051,
    "start_time": "2022-04-26T14:40:35.752Z"
   },
   {
    "duration": 53,
    "start_time": "2022-04-26T14:41:50.417Z"
   },
   {
    "duration": 42,
    "start_time": "2022-04-26T14:42:30.102Z"
   },
   {
    "duration": 17,
    "start_time": "2022-04-26T14:52:49.610Z"
   },
   {
    "duration": 29,
    "start_time": "2022-04-26T14:52:58.271Z"
   },
   {
    "duration": 48,
    "start_time": "2022-04-26T14:53:20.422Z"
   },
   {
    "duration": 28,
    "start_time": "2022-04-26T14:53:39.581Z"
   },
   {
    "duration": 26,
    "start_time": "2022-04-26T14:58:54.881Z"
   },
   {
    "duration": 38,
    "start_time": "2022-04-26T14:59:55.346Z"
   },
   {
    "duration": 46,
    "start_time": "2022-04-26T15:00:34.924Z"
   },
   {
    "duration": 33,
    "start_time": "2022-04-26T15:01:08.292Z"
   },
   {
    "duration": 100,
    "start_time": "2022-04-26T15:02:55.051Z"
   },
   {
    "duration": 24,
    "start_time": "2022-04-26T15:02:55.155Z"
   },
   {
    "duration": 8,
    "start_time": "2022-04-26T15:02:55.182Z"
   },
   {
    "duration": 67,
    "start_time": "2022-04-26T15:02:55.193Z"
   },
   {
    "duration": 19,
    "start_time": "2022-04-26T15:02:55.263Z"
   },
   {
    "duration": 19,
    "start_time": "2022-04-26T15:02:55.285Z"
   },
   {
    "duration": 121,
    "start_time": "2022-04-26T15:02:55.306Z"
   },
   {
    "duration": 1803,
    "start_time": "2022-04-26T15:02:55.429Z"
   },
   {
    "duration": 10,
    "start_time": "2022-04-26T15:02:57.234Z"
   },
   {
    "duration": 27,
    "start_time": "2022-04-26T15:02:57.246Z"
   },
   {
    "duration": 12,
    "start_time": "2022-04-26T15:02:57.276Z"
   },
   {
    "duration": 6,
    "start_time": "2022-04-26T15:02:57.291Z"
   },
   {
    "duration": 70,
    "start_time": "2022-04-26T15:02:57.299Z"
   },
   {
    "duration": 8,
    "start_time": "2022-04-26T15:02:57.374Z"
   },
   {
    "duration": 29,
    "start_time": "2022-04-26T15:02:57.384Z"
   },
   {
    "duration": 61,
    "start_time": "2022-04-26T15:02:57.416Z"
   },
   {
    "duration": 20,
    "start_time": "2022-04-26T15:02:57.479Z"
   },
   {
    "duration": 69,
    "start_time": "2022-04-26T15:02:57.501Z"
   },
   {
    "duration": 21,
    "start_time": "2022-04-26T15:02:57.572Z"
   },
   {
    "duration": 74,
    "start_time": "2022-04-26T15:02:57.596Z"
   },
   {
    "duration": 25,
    "start_time": "2022-04-26T15:02:57.673Z"
   },
   {
    "duration": 47,
    "start_time": "2022-04-26T15:02:57.700Z"
   },
   {
    "duration": 13,
    "start_time": "2022-04-26T15:02:57.749Z"
   },
   {
    "duration": 29,
    "start_time": "2022-04-26T15:02:57.765Z"
   },
   {
    "duration": 16,
    "start_time": "2022-04-26T15:02:57.797Z"
   },
   {
    "duration": 24,
    "start_time": "2022-04-26T15:02:57.827Z"
   },
   {
    "duration": 38,
    "start_time": "2022-04-26T15:02:57.859Z"
   },
   {
    "duration": 49,
    "start_time": "2022-04-26T15:02:57.900Z"
   },
   {
    "duration": 39,
    "start_time": "2022-04-26T15:02:57.951Z"
   },
   {
    "duration": 5,
    "start_time": "2022-04-26T15:02:57.993Z"
   },
   {
    "duration": 60,
    "start_time": "2022-04-26T15:02:58.000Z"
   },
   {
    "duration": 40,
    "start_time": "2022-04-26T15:02:58.063Z"
   },
   {
    "duration": 51,
    "start_time": "2022-04-26T15:02:58.105Z"
   },
   {
    "duration": 13,
    "start_time": "2022-04-26T15:02:58.163Z"
   },
   {
    "duration": 51,
    "start_time": "2022-04-26T15:02:58.178Z"
   },
   {
    "duration": 24,
    "start_time": "2022-04-26T15:02:58.233Z"
   },
   {
    "duration": 39,
    "start_time": "2022-04-26T15:02:58.261Z"
   },
   {
    "duration": 60,
    "start_time": "2022-04-26T15:02:58.303Z"
   },
   {
    "duration": 18,
    "start_time": "2022-04-26T15:07:19.647Z"
   },
   {
    "duration": 14,
    "start_time": "2022-04-26T15:08:11.256Z"
   },
   {
    "duration": 13,
    "start_time": "2022-04-26T15:08:17.867Z"
   },
   {
    "duration": 11,
    "start_time": "2022-04-26T15:08:26.781Z"
   },
   {
    "duration": 12,
    "start_time": "2022-04-26T15:08:31.712Z"
   },
   {
    "duration": 7,
    "start_time": "2022-04-26T15:08:55.014Z"
   },
   {
    "duration": 9,
    "start_time": "2022-04-26T15:09:52.613Z"
   },
   {
    "duration": 104,
    "start_time": "2022-04-26T15:10:14.363Z"
   },
   {
    "duration": 21,
    "start_time": "2022-04-26T15:10:14.470Z"
   },
   {
    "duration": 31,
    "start_time": "2022-04-26T15:10:14.493Z"
   },
   {
    "duration": 38,
    "start_time": "2022-04-26T15:10:14.535Z"
   },
   {
    "duration": 11,
    "start_time": "2022-04-26T15:10:14.576Z"
   },
   {
    "duration": 8,
    "start_time": "2022-04-26T15:10:14.589Z"
   },
   {
    "duration": 55,
    "start_time": "2022-04-26T15:10:14.599Z"
   },
   {
    "duration": 1820,
    "start_time": "2022-04-26T15:10:14.657Z"
   },
   {
    "duration": 9,
    "start_time": "2022-04-26T15:10:16.479Z"
   },
   {
    "duration": 10,
    "start_time": "2022-04-26T15:10:16.490Z"
   },
   {
    "duration": 30,
    "start_time": "2022-04-26T15:10:16.534Z"
   },
   {
    "duration": 19,
    "start_time": "2022-04-26T15:10:16.571Z"
   },
   {
    "duration": 14,
    "start_time": "2022-04-26T15:10:16.593Z"
   },
   {
    "duration": 9,
    "start_time": "2022-04-26T15:10:16.612Z"
   },
   {
    "duration": 47,
    "start_time": "2022-04-26T15:10:16.627Z"
   },
   {
    "duration": 58,
    "start_time": "2022-04-26T15:10:16.677Z"
   },
   {
    "duration": 31,
    "start_time": "2022-04-26T15:10:16.743Z"
   },
   {
    "duration": 70,
    "start_time": "2022-04-26T15:10:16.776Z"
   },
   {
    "duration": 36,
    "start_time": "2022-04-26T15:10:16.854Z"
   },
   {
    "duration": 58,
    "start_time": "2022-04-26T15:10:16.893Z"
   },
   {
    "duration": 28,
    "start_time": "2022-04-26T15:10:16.954Z"
   },
   {
    "duration": 31,
    "start_time": "2022-04-26T15:10:16.985Z"
   },
   {
    "duration": 19,
    "start_time": "2022-04-26T15:10:17.037Z"
   },
   {
    "duration": 36,
    "start_time": "2022-04-26T15:10:17.063Z"
   },
   {
    "duration": 16,
    "start_time": "2022-04-26T15:10:17.101Z"
   },
   {
    "duration": 38,
    "start_time": "2022-04-26T15:10:17.119Z"
   },
   {
    "duration": 46,
    "start_time": "2022-04-26T15:10:17.159Z"
   },
   {
    "duration": 41,
    "start_time": "2022-04-26T15:10:17.208Z"
   },
   {
    "duration": 58,
    "start_time": "2022-04-26T15:10:17.251Z"
   },
   {
    "duration": 6,
    "start_time": "2022-04-26T15:10:17.311Z"
   },
   {
    "duration": 40,
    "start_time": "2022-04-26T15:10:17.319Z"
   },
   {
    "duration": 47,
    "start_time": "2022-04-26T15:10:17.363Z"
   },
   {
    "duration": 41,
    "start_time": "2022-04-26T15:10:17.429Z"
   },
   {
    "duration": 12,
    "start_time": "2022-04-26T15:10:17.472Z"
   },
   {
    "duration": 60,
    "start_time": "2022-04-26T15:10:17.486Z"
   },
   {
    "duration": 21,
    "start_time": "2022-04-26T15:10:17.548Z"
   },
   {
    "duration": 39,
    "start_time": "2022-04-26T15:10:17.572Z"
   },
   {
    "duration": 50,
    "start_time": "2022-04-26T15:10:17.614Z"
   },
   {
    "duration": 500,
    "start_time": "2022-05-01T19:11:56.359Z"
   },
   {
    "duration": 15,
    "start_time": "2022-05-01T19:11:56.861Z"
   },
   {
    "duration": 5,
    "start_time": "2022-05-01T19:11:56.878Z"
   },
   {
    "duration": 17,
    "start_time": "2022-05-01T19:11:56.885Z"
   },
   {
    "duration": 7,
    "start_time": "2022-05-01T19:11:56.904Z"
   },
   {
    "duration": 5,
    "start_time": "2022-05-01T19:11:56.913Z"
   },
   {
    "duration": 15,
    "start_time": "2022-05-01T19:11:56.920Z"
   },
   {
    "duration": 1101,
    "start_time": "2022-05-01T19:11:56.936Z"
   },
   {
    "duration": 6,
    "start_time": "2022-05-01T19:11:58.039Z"
   },
   {
    "duration": 10,
    "start_time": "2022-05-01T19:11:58.047Z"
   },
   {
    "duration": 26,
    "start_time": "2022-05-01T19:11:58.058Z"
   },
   {
    "duration": 7,
    "start_time": "2022-05-01T19:11:58.086Z"
   },
   {
    "duration": 9,
    "start_time": "2022-05-01T19:11:58.095Z"
   },
   {
    "duration": 12,
    "start_time": "2022-05-01T19:11:58.106Z"
   },
   {
    "duration": 21,
    "start_time": "2022-05-01T19:11:58.120Z"
   },
   {
    "duration": 48,
    "start_time": "2022-05-01T19:11:58.143Z"
   },
   {
    "duration": 16,
    "start_time": "2022-05-01T19:11:58.193Z"
   },
   {
    "duration": 31,
    "start_time": "2022-05-01T19:11:58.211Z"
   },
   {
    "duration": 42,
    "start_time": "2022-05-01T19:11:58.245Z"
   },
   {
    "duration": 26,
    "start_time": "2022-05-01T19:11:58.289Z"
   },
   {
    "duration": 15,
    "start_time": "2022-05-01T19:11:58.317Z"
   },
   {
    "duration": 48,
    "start_time": "2022-05-01T19:11:58.333Z"
   },
   {
    "duration": 8,
    "start_time": "2022-05-01T19:11:58.382Z"
   },
   {
    "duration": 14,
    "start_time": "2022-05-01T19:11:58.392Z"
   },
   {
    "duration": 12,
    "start_time": "2022-05-01T19:11:58.407Z"
   },
   {
    "duration": 11,
    "start_time": "2022-05-01T19:11:58.421Z"
   },
   {
    "duration": 52,
    "start_time": "2022-05-01T19:11:58.434Z"
   },
   {
    "duration": 18,
    "start_time": "2022-05-01T19:11:58.490Z"
   },
   {
    "duration": 23,
    "start_time": "2022-05-01T19:11:58.509Z"
   },
   {
    "duration": 6,
    "start_time": "2022-05-01T19:11:58.534Z"
   },
   {
    "duration": 46,
    "start_time": "2022-05-01T19:11:58.542Z"
   },
   {
    "duration": 22,
    "start_time": "2022-05-01T19:11:58.590Z"
   },
   {
    "duration": 21,
    "start_time": "2022-05-01T19:11:58.614Z"
   },
   {
    "duration": 38,
    "start_time": "2022-05-01T19:11:58.636Z"
   },
   {
    "duration": 22,
    "start_time": "2022-05-01T19:11:58.676Z"
   },
   {
    "duration": 8,
    "start_time": "2022-05-01T19:11:58.701Z"
   },
   {
    "duration": 21,
    "start_time": "2022-05-01T19:11:58.711Z"
   },
   {
    "duration": 59,
    "start_time": "2022-05-01T19:11:58.733Z"
   },
   {
    "duration": 11,
    "start_time": "2022-05-01T19:14:06.085Z"
   },
   {
    "duration": 12,
    "start_time": "2022-05-01T19:24:18.498Z"
   },
   {
    "duration": 108,
    "start_time": "2022-05-02T17:53:09.550Z"
   },
   {
    "duration": 745,
    "start_time": "2022-05-02T17:53:26.400Z"
   },
   {
    "duration": 29,
    "start_time": "2022-05-02T17:53:27.151Z"
   },
   {
    "duration": 7,
    "start_time": "2022-05-02T17:53:27.183Z"
   },
   {
    "duration": 59,
    "start_time": "2022-05-02T17:53:27.194Z"
   },
   {
    "duration": 10,
    "start_time": "2022-05-02T17:53:27.256Z"
   },
   {
    "duration": 10,
    "start_time": "2022-05-02T17:53:27.268Z"
   },
   {
    "duration": 17,
    "start_time": "2022-05-02T17:53:27.280Z"
   },
   {
    "duration": 1781,
    "start_time": "2022-05-02T17:53:27.300Z"
   },
   {
    "duration": 7,
    "start_time": "2022-05-02T17:53:29.084Z"
   },
   {
    "duration": 8,
    "start_time": "2022-05-02T17:53:29.095Z"
   },
   {
    "duration": 48,
    "start_time": "2022-05-02T17:53:29.105Z"
   },
   {
    "duration": 5,
    "start_time": "2022-05-02T17:53:29.155Z"
   },
   {
    "duration": 6,
    "start_time": "2022-05-02T17:53:29.163Z"
   },
   {
    "duration": 13,
    "start_time": "2022-05-02T17:53:29.171Z"
   },
   {
    "duration": 71,
    "start_time": "2022-05-02T17:53:29.186Z"
   },
   {
    "duration": 50,
    "start_time": "2022-05-02T17:53:29.259Z"
   },
   {
    "duration": 50,
    "start_time": "2022-05-02T17:53:29.311Z"
   },
   {
    "duration": 37,
    "start_time": "2022-05-02T17:53:29.363Z"
   },
   {
    "duration": 50,
    "start_time": "2022-05-02T17:53:29.402Z"
   },
   {
    "duration": 47,
    "start_time": "2022-05-02T17:53:29.454Z"
   },
   {
    "duration": 57,
    "start_time": "2022-05-02T17:53:29.504Z"
   },
   {
    "duration": 38,
    "start_time": "2022-05-02T17:53:29.563Z"
   },
   {
    "duration": 49,
    "start_time": "2022-05-02T17:53:29.604Z"
   },
   {
    "duration": 23,
    "start_time": "2022-05-02T17:53:29.656Z"
   },
   {
    "duration": 18,
    "start_time": "2022-05-02T17:53:29.681Z"
   },
   {
    "duration": 55,
    "start_time": "2022-05-02T17:53:29.701Z"
   },
   {
    "duration": 31,
    "start_time": "2022-05-02T17:53:29.758Z"
   },
   {
    "duration": 60,
    "start_time": "2022-05-02T17:53:29.793Z"
   },
   {
    "duration": 39,
    "start_time": "2022-05-02T17:53:29.855Z"
   },
   {
    "duration": 6,
    "start_time": "2022-05-02T17:53:29.897Z"
   },
   {
    "duration": 34,
    "start_time": "2022-05-02T17:53:32.986Z"
   },
   {
    "duration": 13,
    "start_time": "2022-05-02T17:54:35.966Z"
   },
   {
    "duration": 526,
    "start_time": "2022-05-03T08:34:15.042Z"
   },
   {
    "duration": 28,
    "start_time": "2022-05-03T08:34:15.570Z"
   },
   {
    "duration": 6,
    "start_time": "2022-05-03T08:34:15.600Z"
   },
   {
    "duration": 16,
    "start_time": "2022-05-03T08:34:15.609Z"
   },
   {
    "duration": 8,
    "start_time": "2022-05-03T08:34:15.626Z"
   },
   {
    "duration": 7,
    "start_time": "2022-05-03T08:34:15.636Z"
   },
   {
    "duration": 53,
    "start_time": "2022-05-03T08:34:15.645Z"
   },
   {
    "duration": 1062,
    "start_time": "2022-05-03T08:34:15.700Z"
   },
   {
    "duration": 7,
    "start_time": "2022-05-03T08:34:16.764Z"
   },
   {
    "duration": 21,
    "start_time": "2022-05-03T08:34:16.775Z"
   },
   {
    "duration": 9,
    "start_time": "2022-05-03T08:34:16.798Z"
   },
   {
    "duration": 4,
    "start_time": "2022-05-03T08:34:16.809Z"
   },
   {
    "duration": 14,
    "start_time": "2022-05-03T08:34:16.815Z"
   },
   {
    "duration": 8,
    "start_time": "2022-05-03T08:34:16.831Z"
   },
   {
    "duration": 20,
    "start_time": "2022-05-03T08:34:16.841Z"
   },
   {
    "duration": 56,
    "start_time": "2022-05-03T08:34:16.863Z"
   },
   {
    "duration": 16,
    "start_time": "2022-05-03T08:34:16.921Z"
   },
   {
    "duration": 30,
    "start_time": "2022-05-03T08:34:16.938Z"
   },
   {
    "duration": 38,
    "start_time": "2022-05-03T08:34:16.969Z"
   },
   {
    "duration": 27,
    "start_time": "2022-05-03T08:34:17.008Z"
   },
   {
    "duration": 25,
    "start_time": "2022-05-03T08:34:17.037Z"
   },
   {
    "duration": 51,
    "start_time": "2022-05-03T08:34:17.064Z"
   },
   {
    "duration": 9,
    "start_time": "2022-05-03T08:34:17.118Z"
   },
   {
    "duration": 13,
    "start_time": "2022-05-03T08:34:17.129Z"
   },
   {
    "duration": 12,
    "start_time": "2022-05-03T08:34:17.143Z"
   },
   {
    "duration": 48,
    "start_time": "2022-05-03T08:34:17.157Z"
   },
   {
    "duration": 20,
    "start_time": "2022-05-03T08:34:17.207Z"
   },
   {
    "duration": 20,
    "start_time": "2022-05-03T08:34:17.230Z"
   },
   {
    "duration": 51,
    "start_time": "2022-05-03T08:34:17.252Z"
   },
   {
    "duration": 4,
    "start_time": "2022-05-03T08:34:17.305Z"
   },
   {
    "duration": 17,
    "start_time": "2022-05-03T08:34:17.312Z"
   },
   {
    "duration": 23,
    "start_time": "2022-05-03T08:34:17.331Z"
   },
   {
    "duration": 48,
    "start_time": "2022-05-03T08:34:17.356Z"
   },
   {
    "duration": 9,
    "start_time": "2022-05-03T08:34:17.406Z"
   },
   {
    "duration": 31,
    "start_time": "2022-05-03T08:34:17.417Z"
   },
   {
    "duration": 10,
    "start_time": "2022-05-03T08:34:17.450Z"
   },
   {
    "duration": 51,
    "start_time": "2022-05-03T08:34:17.462Z"
   },
   {
    "duration": 25,
    "start_time": "2022-05-03T08:34:17.515Z"
   }
  ],
  "kernelspec": {
   "display_name": "Python 3 (ipykernel)",
   "language": "python",
   "name": "python3"
  },
  "language_info": {
   "codemirror_mode": {
    "name": "ipython",
    "version": 3
   },
   "file_extension": ".py",
   "mimetype": "text/x-python",
   "name": "python",
   "nbconvert_exporter": "python",
   "pygments_lexer": "ipython3",
   "version": "3.9.7"
  },
  "toc": {
   "base_numbering": 1,
   "nav_menu": {},
   "number_sections": true,
   "sideBar": true,
   "skip_h1_title": true,
   "title_cell": "Table of Contents",
   "title_sidebar": "Contents",
   "toc_cell": true,
   "toc_position": {
    "height": "calc(100% - 180px)",
    "left": "10px",
    "top": "150px",
    "width": "238px"
   },
   "toc_section_display": true,
   "toc_window_display": true
  }
 },
 "nbformat": 4,
 "nbformat_minor": 5
}
