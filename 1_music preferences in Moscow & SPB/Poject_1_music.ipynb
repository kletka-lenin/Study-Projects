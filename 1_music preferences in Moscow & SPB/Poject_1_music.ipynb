{
 "cells": [
  {
   "cell_type": "markdown",
   "metadata": {
    "id": "E0vqbgi9ay0H"
   },
   "source": [
    "# Яндекс.Музыка"
   ]
  },
  {
   "cell_type": "markdown",
   "metadata": {
    "id": "VUC88oWjTJw2"
   },
   "source": [
    "Сравнение Москвы и Петербурга окружено мифами. Например:\n",
    " * Москва — мегаполис, подчинённый жёсткому ритму рабочей недели;\n",
    " * Петербург — культурная столица, со своими вкусами.\n",
    "\n",
    "На данных Яндекс.Музыки вы сравните поведение пользователей двух столиц.\n",
    "\n",
    "**Цель исследования** — проверьте три гипотезы:\n",
    "1. Активность пользователей зависит от дня недели. Причём в Москве и Петербурге это проявляется по-разному.\n",
    "2. В понедельник утром в Москве преобладают одни жанры, а в Петербурге — другие. Так же и вечером пятницы преобладают разные жанры — в зависимости от города. \n",
    "3. Москва и Петербург предпочитают разные жанры музыки. В Москве чаще слушают поп-музыку, в Петербурге — русский рэп.\n",
    "\n",
    "**Ход исследования**\n",
    "\n",
    "Данные о поведении пользователей вы получите из файла `yandex_music_project.csv`. О качестве данных ничего не известно. Поэтому перед проверкой гипотез понадобится обзор данных. \n",
    "\n",
    "Вы проверите данные на ошибки и оцените их влияние на исследование. Затем, на этапе предобработки вы поищете возможность исправить самые критичные ошибки данных.\n",
    " \n",
    "Таким образом, исследование пройдёт в три этапа:\n",
    " 1. Обзор данных.\n",
    " 2. Предобработка данных.\n",
    " 3. Проверка гипотез.\n",
    "\n"
   ]
  },
  {
   "cell_type": "markdown",
   "metadata": {
    "id": "Ml1hmfXC_Zcs"
   },
   "source": [
    "## Обзор данных\n",
    "\n",
    "Составьте первое представление о данных Яндекс.Музыки.\n",
    "\n",
    "\n"
   ]
  },
  {
   "cell_type": "code",
   "execution_count": 1,
   "metadata": {
    "id": "AXN7PHPN_Zcs"
   },
   "outputs": [],
   "source": [
    "# импорт библиотеки pandas\n",
    "import pandas as pd"
   ]
  },
  {
   "cell_type": "code",
   "execution_count": 2,
   "metadata": {
    "id": "fFVu7vqh_Zct"
   },
   "outputs": [],
   "source": [
    "# чтение файла с данными и сохранение в df\n",
    "df = pd.read_csv('/datasets/yandex_music_project.csv')"
   ]
  },
  {
   "cell_type": "code",
   "execution_count": 3,
   "metadata": {
    "id": "oWTVX3gW_Zct",
    "scrolled": true
   },
   "outputs": [
    {
     "name": "stdout",
     "output_type": "stream",
     "text": [
      "     userID                        Track            artist   genre  \\\n",
      "0  FFB692EC            Kamigata To Boots  The Mass Missile    rock   \n",
      "1  55204538  Delayed Because of Accident  Andreas Rönnberg    rock   \n",
      "2    20EC38            Funiculì funiculà       Mario Lanza     pop   \n",
      "3  A3DD03C9        Dragons in the Sunset        Fire + Ice    folk   \n",
      "4  E2DC1FAE                  Soul People        Space Echo   dance   \n",
      "5  842029A1                    Преданная         IMPERVTOR  rusrap   \n",
      "6  4CB90AA5                         True      Roman Messer   dance   \n",
      "7  F03E1C1F             Feeling This Way   Polina Griffith   dance   \n",
      "8  8FA1D3BE     И вновь продолжается бой               NaN  ruspop   \n",
      "9  E772D5C0                    Pessimist               NaN   dance   \n",
      "\n",
      "             City        time        Day  \n",
      "0  Saint-Petersburg  20:28:33  Wednesday  \n",
      "1            Moscow  14:07:09     Friday  \n",
      "2  Saint-Petersburg  20:58:07  Wednesday  \n",
      "3  Saint-Petersburg  08:37:09     Monday  \n",
      "4            Moscow  08:34:34     Monday  \n",
      "5  Saint-Petersburg  13:09:41     Friday  \n",
      "6            Moscow  13:00:07  Wednesday  \n",
      "7            Moscow  20:47:49  Wednesday  \n",
      "8            Moscow  09:17:40     Friday  \n",
      "9  Saint-Petersburg  21:20:49  Wednesday  \n"
     ]
    }
   ],
   "source": [
    "# получение первых 10 строк таблицы df\n",
    "print(df.head(10))"
   ]
  },
  {
   "cell_type": "markdown",
   "metadata": {
    "id": "EO73Kwic_Zct"
   },
   "source": [
    "Одной командой получить общую информацию о таблице:"
   ]
  },
  {
   "cell_type": "code",
   "execution_count": 9,
   "metadata": {
    "id": "DSf2kIb-_Zct"
   },
   "outputs": [
    {
     "name": "stdout",
     "output_type": "stream",
     "text": [
      "<class 'pandas.core.frame.DataFrame'>\n",
      "RangeIndex: 65079 entries, 0 to 65078\n",
      "Data columns (total 7 columns):\n",
      " #   Column    Non-Null Count  Dtype \n",
      "---  ------    --------------  ----- \n",
      " 0     userID  65079 non-null  object\n",
      " 1   Track     63848 non-null  object\n",
      " 2   artist    57876 non-null  object\n",
      " 3   genre     63881 non-null  object\n",
      " 4     City    65079 non-null  object\n",
      " 5   time      65079 non-null  object\n",
      " 6   Day       65079 non-null  object\n",
      "dtypes: object(7)\n",
      "memory usage: 3.5+ MB\n"
     ]
    }
   ],
   "source": [
    "# получение общей информации о данных в таблице df\n",
    "df.info()"
   ]
  },
  {
   "cell_type": "markdown",
   "metadata": {
    "id": "TaQ2Iwbr_Zct"
   },
   "source": [
    "Итак, в таблице семь столбцов. Тип данных во всех столбцах — `object`.\n",
    "\n",
    "Согласно документации к данным:\n",
    "* `userID` — идентификатор пользователя;\n",
    "* `Track` — название трека;  \n",
    "* `artist` — имя исполнителя;\n",
    "* `genre` — название жанра;\n",
    "* `City` — город пользователя;\n",
    "* `time` — время начала прослушивания;\n",
    "* `Day` — день недели.\n",
    "\n",
    "В названиях колонок видны три нарушения стиля:\n",
    "1. Строчные буквы сочетаются с прописными.\n",
    "2. Встречаются пробелы.\n",
    "3. В названии 'userID' слова не разделены нижним подчёркиванием - не используется оптимальный стиль snake_case\n",
    "\n",
    "\n",
    "\n",
    "Количество значений в столбцах различается. Значит, в данных есть пропущенные значения.\n"
   ]
  },
  {
   "cell_type": "markdown",
   "metadata": {
    "id": "MCB6-dXG_Zct"
   },
   "source": [
    "**Выводы**\n",
    "\n",
    "В каждой строке таблицы — данные о прослушанном треке. Часть колонок описывает саму композицию: название, исполнителя и жанр. Остальные данные рассказывают о пользователе: из какого он города, когда он слушал музыку. \n",
    "\n",
    "Предварительно можно утверждать, что, данных достаточно для проверки гипотез. Но встречаются пропуски в данных, а в названиях колонок — расхождения с хорошим стилем.\n",
    "\n",
    "Чтобы двигаться дальше, нужно устранить проблемы в данных."
   ]
  },
  {
   "cell_type": "markdown",
   "metadata": {
    "id": "SjYF6Ub9_Zct"
   },
   "source": [
    "## Предобработка данных\n",
    "Исправьте стиль в заголовках столбцов, исключите пропуски. Затем проверьте данные на дубликаты."
   ]
  },
  {
   "cell_type": "markdown",
   "metadata": {
    "id": "dIaKXr29_Zct"
   },
   "source": [
    "### Стиль заголовков\n",
    "Выведите на экран названия столбцов:"
   ]
  },
  {
   "cell_type": "code",
   "execution_count": 10,
   "metadata": {
    "id": "oKOTdF_Q_Zct"
   },
   "outputs": [
    {
     "data": {
      "text/plain": [
       "Index(['  userID', 'Track', 'artist', 'genre', '  City  ', 'time', 'Day'], dtype='object')"
      ]
     },
     "execution_count": 10,
     "metadata": {},
     "output_type": "execute_result"
    }
   ],
   "source": [
    "# перечень названий столбцов таблицы df\n",
    "df.columns"
   ]
  },
  {
   "cell_type": "markdown",
   "metadata": {
    "id": "zj5534cv_Zct"
   },
   "source": [
    "Приведите названия в соответствие с хорошим стилем:\n",
    "* несколько слов в названии запишите в «змеином_регистре»,\n",
    "* все символы сделайте строчными,\n",
    "* устраните пробелы.\n",
    "\n",
    "Для этого переименуйте колонки так:\n",
    "* `'  userID'` → `'user_id'`;\n",
    "* `'Track'` → `'track'`;\n",
    "* `'  City  '` → `'city'`;\n",
    "* `'Day'` → `'day'`."
   ]
  },
  {
   "cell_type": "code",
   "execution_count": 11,
   "metadata": {
    "id": "ISlFqs5y_Zct"
   },
   "outputs": [],
   "source": [
    "# переименование столбцов\n",
    "df = df.rename(columns={'  userID' : 'user_id', 'Track' : 'track', '  City  ' : 'city', 'Day' : 'day'})"
   ]
  },
  {
   "cell_type": "markdown",
   "metadata": {
    "id": "1dqbh00J_Zct"
   },
   "source": [
    "Проверьте результат. Для этого ещё раз выведите на экран названия столбцов:"
   ]
  },
  {
   "cell_type": "code",
   "execution_count": 12,
   "metadata": {
    "id": "d4NOAmTW_Zct"
   },
   "outputs": [
    {
     "data": {
      "text/plain": [
       "Index(['user_id', 'track', 'artist', 'genre', 'city', 'time', 'day'], dtype='object')"
      ]
     },
     "execution_count": 12,
     "metadata": {},
     "output_type": "execute_result"
    }
   ],
   "source": [
    "# проверка результатов - перечень названий столбцов\n",
    "df.columns"
   ]
  },
  {
   "cell_type": "markdown",
   "metadata": {
    "id": "5ISfbcfY_Zct"
   },
   "source": [
    "### Пропуски значений\n",
    "Сначала посчитайте, сколько в таблице пропущенных значений. Для этого достаточно двух методов `pandas`:"
   ]
  },
  {
   "cell_type": "code",
   "execution_count": 13,
   "metadata": {
    "id": "RskX29qr_Zct"
   },
   "outputs": [
    {
     "name": "stdout",
     "output_type": "stream",
     "text": [
      "user_id       0\n",
      "track      1231\n",
      "artist     7203\n",
      "genre      1198\n",
      "city          0\n",
      "time          0\n",
      "day           0\n",
      "dtype: int64\n"
     ]
    }
   ],
   "source": [
    "# подсчёт пропусков\n",
    "print(df.isna().sum())"
   ]
  },
  {
   "cell_type": "markdown",
   "metadata": {
    "id": "fSv2laPA_Zct"
   },
   "source": [
    "Замените пропущенные значения в столбцах `track`, `artist` и `genre` на строку `'unknown'`. Для этого создайте список `columns_to_replace`, переберите его элементы циклом `for` и для каждого столбца выполните замену пропущенных значений:"
   ]
  },
  {
   "cell_type": "code",
   "execution_count": 14,
   "metadata": {
    "id": "KplB5qWs_Zct"
   },
   "outputs": [],
   "source": [
    "# перебор названий столбцов в цикле и замена пропущенных значений на 'unknown'\n",
    "columns_to_replace = ['track', 'artist', 'genre']\n",
    "for column in columns_to_replace:\n",
    "    df[column] = df[column].fillna('unknown')"
   ]
  },
  {
   "cell_type": "markdown",
   "metadata": {
    "id": "Ilsm-MZo_Zct"
   },
   "source": [
    "Убедитесь, что в таблице не осталось пропусков. Для этого ещё раз посчитайте пропущенные значения."
   ]
  },
  {
   "cell_type": "code",
   "execution_count": 15,
   "metadata": {
    "id": "Tq4nYRX4_Zct"
   },
   "outputs": [
    {
     "name": "stdout",
     "output_type": "stream",
     "text": [
      "user_id    0\n",
      "track      0\n",
      "artist     0\n",
      "genre      0\n",
      "city       0\n",
      "time       0\n",
      "day        0\n",
      "dtype: int64\n"
     ]
    }
   ],
   "source": [
    "# подсчёт пропусков\n",
    "print(df.isna().sum())"
   ]
  },
  {
   "cell_type": "markdown",
   "metadata": {
    "id": "BWKRtBJ3_Zct"
   },
   "source": [
    "### Дубликаты\n",
    "Посчитайте явные дубликаты в таблице одной командой:"
   ]
  },
  {
   "cell_type": "code",
   "execution_count": 16,
   "metadata": {
    "id": "36eES_S0_Zct"
   },
   "outputs": [
    {
     "name": "stdout",
     "output_type": "stream",
     "text": [
      "3826\n"
     ]
    }
   ],
   "source": [
    "# подсчёт явных дубликатов\n",
    "print(df.duplicated().sum())"
   ]
  },
  {
   "cell_type": "markdown",
   "metadata": {
    "id": "Ot25h6XR_Zct"
   },
   "source": [
    "Вызовите специальный метод `pandas`, чтобы удалить явные дубликаты:"
   ]
  },
  {
   "cell_type": "code",
   "execution_count": 17,
   "metadata": {
    "id": "exFHq6tt_Zct"
   },
   "outputs": [],
   "source": [
    "# удаление явных дубликатов (с удалением старых индексов и формированием новых)\n",
    "df = df.drop_duplicates().reset_index()"
   ]
  },
  {
   "cell_type": "markdown",
   "metadata": {
    "id": "Im2YwBEG_Zct"
   },
   "source": [
    "Ещё раз посчитайте явные дубликаты в таблице — убедитесь, что полностью от них избавились:"
   ]
  },
  {
   "cell_type": "code",
   "execution_count": 18,
   "metadata": {
    "id": "-8PuNWQ0_Zct"
   },
   "outputs": [
    {
     "name": "stdout",
     "output_type": "stream",
     "text": [
      "0\n"
     ]
    }
   ],
   "source": [
    "# проверка на отсутствие дубликатов\n",
    "print(df.duplicated().sum())"
   ]
  },
  {
   "cell_type": "markdown",
   "metadata": {
    "id": "QlFBsxAr_Zct"
   },
   "source": [
    "Теперь избавьтесь от неявных дубликатов в колонке `genre`. Например, название одного и того же жанра может быть записано немного по-разному. Такие ошибки тоже повлияют на результат исследования."
   ]
  },
  {
   "cell_type": "markdown",
   "metadata": {
    "id": "eSjWwsOh_Zct"
   },
   "source": [
    "Выведите на экран список уникальных названий жанров, отсортированный в алфавитном порядке. Для этого:\n",
    "* извлеките нужный столбец датафрейма, \n",
    "* примените к нему метод сортировки,\n",
    "* для отсортированного столбца вызовите метод, который вернёт уникальные значения из столбца."
   ]
  },
  {
   "cell_type": "code",
   "execution_count": 19,
   "metadata": {
    "id": "JIUcqzZN_Zct",
    "scrolled": true
   },
   "outputs": [
    {
     "name": "stdout",
     "output_type": "stream",
     "text": [
      "['acid' 'acoustic' 'action' 'adult' 'africa' 'afrikaans' 'alternative'\n",
      " 'alternativepunk' 'ambient' 'americana' 'animated' 'anime' 'arabesk'\n",
      " 'arabic' 'arena' 'argentinetango' 'art' 'audiobook' 'author' 'avantgarde'\n",
      " 'axé' 'baile' 'balkan' 'beats' 'bigroom' 'black' 'bluegrass' 'blues'\n",
      " 'bollywood' 'bossa' 'brazilian' 'breakbeat' 'breaks' 'broadway'\n",
      " 'cantautori' 'cantopop' 'canzone' 'caribbean' 'caucasian' 'celtic'\n",
      " 'chamber' 'chanson' 'children' 'chill' 'chinese' 'choral' 'christian'\n",
      " 'christmas' 'classical' 'classicmetal' 'club' 'colombian' 'comedy'\n",
      " 'conjazz' 'contemporary' 'country' 'cuban' 'dance' 'dancehall' 'dancepop'\n",
      " 'dark' 'death' 'deep' 'deutschrock' 'deutschspr' 'dirty' 'disco' 'dnb'\n",
      " 'documentary' 'downbeat' 'downtempo' 'drum' 'dub' 'dubstep' 'eastern'\n",
      " 'easy' 'electronic' 'electropop' 'emo' 'entehno' 'epicmetal' 'estrada'\n",
      " 'ethnic' 'eurofolk' 'european' 'experimental' 'extrememetal' 'fado'\n",
      " 'fairytail' 'film' 'fitness' 'flamenco' 'folk' 'folklore' 'folkmetal'\n",
      " 'folkrock' 'folktronica' 'forró' 'frankreich' 'französisch' 'french'\n",
      " 'funk' 'future' 'gangsta' 'garage' 'german' 'ghazal' 'gitarre' 'glitch'\n",
      " 'gospel' 'gothic' 'grime' 'grunge' 'gypsy' 'handsup' \"hard'n'heavy\"\n",
      " 'hardcore' 'hardstyle' 'hardtechno' 'hip' 'hip-hop' 'hiphop' 'historisch'\n",
      " 'holiday' 'hop' 'horror' 'house' 'hymn' 'idm' 'independent' 'indian'\n",
      " 'indie' 'indipop' 'industrial' 'inspirational' 'instrumental'\n",
      " 'international' 'irish' 'jam' 'japanese' 'jazz' 'jewish' 'jpop' 'jungle'\n",
      " 'k-pop' 'karadeniz' 'karaoke' 'kayokyoku' 'korean' 'laiko' 'latin'\n",
      " 'latino' 'leftfield' 'local' 'lounge' 'loungeelectronic' 'lovers'\n",
      " 'malaysian' 'mandopop' 'marschmusik' 'meditative' 'mediterranean'\n",
      " 'melodic' 'metal' 'metalcore' 'mexican' 'middle' 'minimal'\n",
      " 'miscellaneous' 'modern' 'mood' 'mpb' 'muslim' 'native' 'neoklassik'\n",
      " 'neue' 'new' 'newage' 'newwave' 'nu' 'nujazz' 'numetal' 'oceania' 'old'\n",
      " 'opera' 'orchestral' 'other' 'piano' 'podcasts' 'pop' 'popdance'\n",
      " 'popelectronic' 'popeurodance' 'poprussian' 'post' 'posthardcore'\n",
      " 'postrock' 'power' 'progmetal' 'progressive' 'psychedelic' 'punjabi'\n",
      " 'punk' 'quebecois' 'ragga' 'ram' 'rancheras' 'rap' 'rave' 'reggae'\n",
      " 'reggaeton' 'regional' 'relax' 'religious' 'retro' 'rhythm' 'rnb' 'rnr'\n",
      " 'rock' 'rockabilly' 'rockalternative' 'rockindie' 'rockother' 'romance'\n",
      " 'roots' 'ruspop' 'rusrap' 'rusrock' 'russian' 'salsa' 'samba' 'scenic'\n",
      " 'schlager' 'self' 'sertanejo' 'shanson' 'shoegazing' 'showtunes' 'singer'\n",
      " 'ska' 'skarock' 'slow' 'smooth' 'soft' 'soul' 'soulful' 'sound'\n",
      " 'soundtrack' 'southern' 'specialty' 'speech' 'spiritual' 'sport'\n",
      " 'stonerrock' 'surf' 'swing' 'synthpop' 'synthrock' 'sängerportrait'\n",
      " 'tango' 'tanzorchester' 'taraftar' 'tatar' 'tech' 'techno' 'teen'\n",
      " 'thrash' 'top' 'traditional' 'tradjazz' 'trance' 'tribal' 'trip'\n",
      " 'triphop' 'tropical' 'türk' 'türkçe' 'ukrrock' 'unknown' 'urban' 'uzbek'\n",
      " 'variété' 'vi' 'videogame' 'vocal' 'western' 'world' 'worldbeat' 'ïîï'\n",
      " 'электроника']\n"
     ]
    }
   ],
   "source": [
    "# Просмотр уникальных названий жанров\n",
    "print(df['genre'].sort_values().unique())"
   ]
  },
  {
   "cell_type": "markdown",
   "metadata": {
    "id": "qej-Qmuo_Zct"
   },
   "source": [
    "Просмотрите список и найдите неявные дубликаты названия `hiphop`. Это могут быть названия с ошибками или альтернативные названия того же жанра.\n",
    "\n",
    "Вы увидите следующие неявные дубликаты:\n",
    "* *hip*,\n",
    "* *hop*,\n",
    "* *hip-hop*.\n",
    "\n",
    "Чтобы очистить от них таблицу, напишите функцию `replace_wrong_genres()` с двумя параметрами: \n",
    "* `wrong_genres` — список дубликатов,\n",
    "* `correct_genre` — строка с правильным значением.\n",
    "\n",
    "Функция должна исправить колонку `genre` в таблице `df`: заменить каждое значение из списка `wrong_genres` на значение из `correct_genre`."
   ]
  },
  {
   "cell_type": "code",
   "execution_count": 20,
   "metadata": {
    "id": "ErNDkmns_Zct"
   },
   "outputs": [],
   "source": [
    "# Функция для замены неявных дубликатов\n",
    "def replace_wrong_genres(wrong_genres, correct_genre):\n",
    "    for wrong_genre in wrong_genres:\n",
    "        df['genre'] = df['genre'].replace(wrong_genre, correct_genre)"
   ]
  },
  {
   "cell_type": "markdown",
   "metadata": {
    "id": "aDoBJxbA_Zct"
   },
   "source": [
    "Вызовите `replace_wrong_genres()` и передайте ей такие аргументы, чтобы она устранила неявные дубликаты: вместо `hip`, `hop` и `hip-hop` в таблице должно быть значение `hiphop`:"
   ]
  },
  {
   "cell_type": "code",
   "execution_count": 21,
   "metadata": {
    "id": "YN5i2hpmSo09"
   },
   "outputs": [],
   "source": [
    "# Устранение неявных дубликатов\n",
    "replace_wrong_genres(['hip', 'hop', 'hip-hop'], 'hiphop')"
   ]
  },
  {
   "cell_type": "markdown",
   "metadata": {
    "id": "zQKF16_RG15m"
   },
   "source": [
    "Проверьте, что заменили неправильные названия:\n",
    "\n",
    "*   hip\n",
    "*   hop\n",
    "*   hip-hop\n",
    "\n",
    "Выведите отсортированный список уникальных значений столбца `genre`:"
   ]
  },
  {
   "cell_type": "code",
   "execution_count": 22,
   "metadata": {
    "id": "wvixALnFG15m"
   },
   "outputs": [
    {
     "name": "stdout",
     "output_type": "stream",
     "text": [
      "['acid' 'acoustic' 'action' 'adult' 'africa' 'afrikaans' 'alternative'\n",
      " 'alternativepunk' 'ambient' 'americana' 'animated' 'anime' 'arabesk'\n",
      " 'arabic' 'arena' 'argentinetango' 'art' 'audiobook' 'author' 'avantgarde'\n",
      " 'axé' 'baile' 'balkan' 'beats' 'bigroom' 'black' 'bluegrass' 'blues'\n",
      " 'bollywood' 'bossa' 'brazilian' 'breakbeat' 'breaks' 'broadway'\n",
      " 'cantautori' 'cantopop' 'canzone' 'caribbean' 'caucasian' 'celtic'\n",
      " 'chamber' 'chanson' 'children' 'chill' 'chinese' 'choral' 'christian'\n",
      " 'christmas' 'classical' 'classicmetal' 'club' 'colombian' 'comedy'\n",
      " 'conjazz' 'contemporary' 'country' 'cuban' 'dance' 'dancehall' 'dancepop'\n",
      " 'dark' 'death' 'deep' 'deutschrock' 'deutschspr' 'dirty' 'disco' 'dnb'\n",
      " 'documentary' 'downbeat' 'downtempo' 'drum' 'dub' 'dubstep' 'eastern'\n",
      " 'easy' 'electronic' 'electropop' 'emo' 'entehno' 'epicmetal' 'estrada'\n",
      " 'ethnic' 'eurofolk' 'european' 'experimental' 'extrememetal' 'fado'\n",
      " 'fairytail' 'film' 'fitness' 'flamenco' 'folk' 'folklore' 'folkmetal'\n",
      " 'folkrock' 'folktronica' 'forró' 'frankreich' 'französisch' 'french'\n",
      " 'funk' 'future' 'gangsta' 'garage' 'german' 'ghazal' 'gitarre' 'glitch'\n",
      " 'gospel' 'gothic' 'grime' 'grunge' 'gypsy' 'handsup' \"hard'n'heavy\"\n",
      " 'hardcore' 'hardstyle' 'hardtechno' 'hiphop' 'historisch' 'holiday'\n",
      " 'horror' 'house' 'hymn' 'idm' 'independent' 'indian' 'indie' 'indipop'\n",
      " 'industrial' 'inspirational' 'instrumental' 'international' 'irish' 'jam'\n",
      " 'japanese' 'jazz' 'jewish' 'jpop' 'jungle' 'k-pop' 'karadeniz' 'karaoke'\n",
      " 'kayokyoku' 'korean' 'laiko' 'latin' 'latino' 'leftfield' 'local'\n",
      " 'lounge' 'loungeelectronic' 'lovers' 'malaysian' 'mandopop' 'marschmusik'\n",
      " 'meditative' 'mediterranean' 'melodic' 'metal' 'metalcore' 'mexican'\n",
      " 'middle' 'minimal' 'miscellaneous' 'modern' 'mood' 'mpb' 'muslim'\n",
      " 'native' 'neoklassik' 'neue' 'new' 'newage' 'newwave' 'nu' 'nujazz'\n",
      " 'numetal' 'oceania' 'old' 'opera' 'orchestral' 'other' 'piano' 'podcasts'\n",
      " 'pop' 'popdance' 'popelectronic' 'popeurodance' 'poprussian' 'post'\n",
      " 'posthardcore' 'postrock' 'power' 'progmetal' 'progressive' 'psychedelic'\n",
      " 'punjabi' 'punk' 'quebecois' 'ragga' 'ram' 'rancheras' 'rap' 'rave'\n",
      " 'reggae' 'reggaeton' 'regional' 'relax' 'religious' 'retro' 'rhythm'\n",
      " 'rnb' 'rnr' 'rock' 'rockabilly' 'rockalternative' 'rockindie' 'rockother'\n",
      " 'romance' 'roots' 'ruspop' 'rusrap' 'rusrock' 'russian' 'salsa' 'samba'\n",
      " 'scenic' 'schlager' 'self' 'sertanejo' 'shanson' 'shoegazing' 'showtunes'\n",
      " 'singer' 'ska' 'skarock' 'slow' 'smooth' 'soft' 'soul' 'soulful' 'sound'\n",
      " 'soundtrack' 'southern' 'specialty' 'speech' 'spiritual' 'sport'\n",
      " 'stonerrock' 'surf' 'swing' 'synthpop' 'synthrock' 'sängerportrait'\n",
      " 'tango' 'tanzorchester' 'taraftar' 'tatar' 'tech' 'techno' 'teen'\n",
      " 'thrash' 'top' 'traditional' 'tradjazz' 'trance' 'tribal' 'trip'\n",
      " 'triphop' 'tropical' 'türk' 'türkçe' 'ukrrock' 'unknown' 'urban' 'uzbek'\n",
      " 'variété' 'vi' 'videogame' 'vocal' 'western' 'world' 'worldbeat' 'ïîï'\n",
      " 'электроника']\n"
     ]
    }
   ],
   "source": [
    "# Проверка на неявные дубликаты\n",
    "print(df['genre'].sort_values().unique())"
   ]
  },
  {
   "cell_type": "markdown",
   "metadata": {
    "id": "jz6a9-7HQUDd"
   },
   "source": [
    "**Выводы**\n",
    "\n",
    "Предобработка обнаружила три проблемы в данных:\n",
    "\n",
    "- нарушения в стиле заголовков,\n",
    "- пропущенные значения,\n",
    "- дубликаты — явные и неявные.\n",
    "\n",
    "Вы исправили заголовки, чтобы упростить работу с таблицей. Без дубликатов исследование станет более точным.\n",
    "\n",
    "Пропущенные значения вы заменили на `'unknown'`. Ещё предстоит увидеть, не повредят ли исследованию пропуски в колонке `genre`.\n",
    "\n",
    "Теперь можно перейти к проверке гипотез. "
   ]
  },
  {
   "cell_type": "markdown",
   "metadata": {
    "id": "WttZHXH0SqKk"
   },
   "source": [
    "## Проверка гипотез"
   ]
  },
  {
   "cell_type": "markdown",
   "metadata": {
    "id": "Im936VVi_Zcu"
   },
   "source": [
    "### Сравнение поведения пользователей двух столиц"
   ]
  },
  {
   "cell_type": "markdown",
   "metadata": {
    "id": "nwt_MuaL_Zcu"
   },
   "source": [
    "Первая гипотеза утверждает, что пользователи по-разному слушают музыку в Москве и Санкт-Петербурге. Проверьте это предположение по данным о трёх днях недели — понедельнике, среде и пятнице. Для этого:\n",
    "\n",
    "* Разделите пользователей Москвы и Санкт-Петербурга\n",
    "* Сравните, сколько треков послушала каждая группа пользователей в понедельник, среду и пятницу.\n"
   ]
  },
  {
   "cell_type": "markdown",
   "metadata": {
    "id": "8Dw_YMmT_Zcu"
   },
   "source": [
    "Для тренировки сначала выполните каждый из расчётов по отдельности. \n",
    "\n",
    "Оцените активность пользователей в каждом городе. Сгруппируйте данные по городу и посчитайте прослушивания в каждой группе.\n",
    "\n"
   ]
  },
  {
   "cell_type": "code",
   "execution_count": 23,
   "metadata": {
    "id": "0_Qs96oh_Zcu"
   },
   "outputs": [
    {
     "data": {
      "text/plain": [
       "city\n",
       "Moscow              42741\n",
       "Saint-Petersburg    18512\n",
       "Name: user_id, dtype: int64"
      ]
     },
     "metadata": {},
     "output_type": "display_data"
    }
   ],
   "source": [
    "# Подсчёт прослушиваний в каждом городе\n",
    "display(df.groupby('city')['user_id'].count())"
   ]
  },
  {
   "cell_type": "markdown",
   "metadata": {
    "id": "dzli3w8o_Zcu"
   },
   "source": [
    "В Москве прослушиваний больше, чем в Петербурге. Из этого не следует, что московские пользователи чаще слушают музыку. Просто самих пользователей в Москве больше.\n",
    "\n",
    "Теперь сгруппируйте данные по дню недели и подсчитайте прослушивания в понедельник, среду и пятницу. Учтите, что в данных есть информация о прослушиваниях только за эти дни.\n"
   ]
  },
  {
   "cell_type": "code",
   "execution_count": 24,
   "metadata": {
    "id": "uZMKjiJz_Zcu",
    "scrolled": true
   },
   "outputs": [
    {
     "data": {
      "text/plain": [
       "day\n",
       "Friday       21840\n",
       "Monday       21354\n",
       "Wednesday    18059\n",
       "Name: user_id, dtype: int64"
      ]
     },
     "metadata": {},
     "output_type": "display_data"
    }
   ],
   "source": [
    "# Подсчёт прослушиваний в каждый из трёх дней\n",
    "display(df.groupby('day')['user_id'].count())"
   ]
  },
  {
   "cell_type": "markdown",
   "metadata": {
    "id": "cC2tNrlL_Zcu"
   },
   "source": [
    "В среднем пользователи из двух городов менее активны по средам. Но картина может измениться, если рассмотреть каждый город в отдельности."
   ]
  },
  {
   "cell_type": "markdown",
   "metadata": {
    "id": "POzs8bGa_Zcu"
   },
   "source": [
    "Вы видели, как работает группировка по городу и по дням недели. Теперь напишите функцию, которая объединит два эти расчёта.\n",
    "\n",
    "Создайте функцию `number_tracks()`, которая посчитает прослушивания для заданного дня и города. Ей понадобятся два параметра:\n",
    "* день недели,\n",
    "* название города.\n",
    "\n",
    "В функции сохраните в переменную строки исходной таблицы, у которых значение:\n",
    "  * в колонке `day` равно параметру `day`,\n",
    "  * в колонке `city` равно параметру `city`.\n",
    "\n",
    "Для этого примените последовательную фильтрацию с логической индексацией.\n",
    "\n",
    "Затем посчитайте значения в столбце `user_id` получившейся таблицы. Результат сохраните в новую переменную. Верните эту переменную из функции."
   ]
  },
  {
   "cell_type": "code",
   "execution_count": 25,
   "metadata": {
    "id": "Nz3GdQB1_Zcu"
   },
   "outputs": [],
   "source": [
    "# <создание функции number_tracks()>\n",
    "# Объявляется функция с двумя параметрами: day, city.\n",
    "def number_tracks(day, city):\n",
    "    track_list = df[df['day'] == day]\n",
    "    track_list = track_list[track_list['city'] == city]\n",
    "    track_list_count = track_list['user_id'].count()\n",
    "    return track_list_count\n"
   ]
  },
  {
   "cell_type": "markdown",
   "metadata": {
    "id": "ytf7xFrFJQ2r"
   },
   "source": [
    "Вызовите `number_tracks()` шесть раз, меняя значение параметров — так, чтобы получить данные для каждого города в каждый из трёх дней."
   ]
  },
  {
   "cell_type": "code",
   "execution_count": 26,
   "metadata": {
    "id": "rJcRATNQ_Zcu"
   },
   "outputs": [],
   "source": [
    "# количество прослушиваний в Москве по понедельникам\n",
    "monday_moscow_count = number_tracks('Monday', 'Moscow')"
   ]
  },
  {
   "cell_type": "code",
   "execution_count": 27,
   "metadata": {
    "id": "hq_ncZ5T_Zcu"
   },
   "outputs": [],
   "source": [
    "# количество прослушиваний в Санкт-Петербурге по понедельникам\n",
    "monday_spb_count = number_tracks('Monday', 'Saint-Petersburg')"
   ]
  },
  {
   "cell_type": "code",
   "execution_count": 28,
   "metadata": {
    "id": "_NTy2VPU_Zcu"
   },
   "outputs": [],
   "source": [
    "# количество прослушиваний в Москве по средам\n",
    "wednesday_moscow_count = number_tracks('Wednesday', 'Moscow')"
   ]
  },
  {
   "cell_type": "code",
   "execution_count": 29,
   "metadata": {
    "id": "j2y3TAwo_Zcu"
   },
   "outputs": [],
   "source": [
    "# количество прослушиваний в Санкт-Петербурге по средам\n",
    "wednesday_spb_count = number_tracks('Wednesday', 'Saint-Petersburg')"
   ]
  },
  {
   "cell_type": "code",
   "execution_count": 30,
   "metadata": {
    "id": "vYDw5u_K_Zcu"
   },
   "outputs": [],
   "source": [
    "# количество прослушиваний в Москве по пятницам\n",
    "friday_moscow_count = number_tracks('Friday', 'Moscow')"
   ]
  },
  {
   "cell_type": "code",
   "execution_count": 31,
   "metadata": {
    "id": "8_yzFtW3_Zcu"
   },
   "outputs": [],
   "source": [
    "# количество прослушиваний в Санкт-Петербурге по пятницам\n",
    "friday_spb_count = number_tracks('Friday', 'Saint-Petersburg')"
   ]
  },
  {
   "cell_type": "markdown",
   "metadata": {
    "id": "7QXffbO-_Zcu"
   },
   "source": [
    "Создайте c помощью конструктора `pd.DataFrame` таблицу, где\n",
    "* названия колонок — `['city', 'monday', 'wednesday', 'friday']`;\n",
    "* данные — результаты, которые вы получили с помощью `number_tracks`."
   ]
  },
  {
   "cell_type": "code",
   "execution_count": 32,
   "metadata": {
    "id": "APAcLpOr_Zcu"
   },
   "outputs": [
    {
     "data": {
      "text/html": [
       "<div>\n",
       "<style scoped>\n",
       "    .dataframe tbody tr th:only-of-type {\n",
       "        vertical-align: middle;\n",
       "    }\n",
       "\n",
       "    .dataframe tbody tr th {\n",
       "        vertical-align: top;\n",
       "    }\n",
       "\n",
       "    .dataframe thead th {\n",
       "        text-align: right;\n",
       "    }\n",
       "</style>\n",
       "<table border=\"1\" class=\"dataframe\">\n",
       "  <thead>\n",
       "    <tr style=\"text-align: right;\">\n",
       "      <th></th>\n",
       "      <th>city</th>\n",
       "      <th>monday</th>\n",
       "      <th>wednesday</th>\n",
       "      <th>friday</th>\n",
       "    </tr>\n",
       "  </thead>\n",
       "  <tbody>\n",
       "    <tr>\n",
       "      <th>0</th>\n",
       "      <td>Moscow</td>\n",
       "      <td>15740</td>\n",
       "      <td>11056</td>\n",
       "      <td>15945</td>\n",
       "    </tr>\n",
       "    <tr>\n",
       "      <th>1</th>\n",
       "      <td>Saint-Petersburg</td>\n",
       "      <td>5614</td>\n",
       "      <td>7003</td>\n",
       "      <td>5895</td>\n",
       "    </tr>\n",
       "  </tbody>\n",
       "</table>\n",
       "</div>"
      ],
      "text/plain": [
       "               city  monday  wednesday  friday\n",
       "0            Moscow   15740      11056   15945\n",
       "1  Saint-Petersburg    5614       7003    5895"
      ]
     },
     "metadata": {},
     "output_type": "display_data"
    }
   ],
   "source": [
    "# Таблица с результатами\n",
    "data = [['Moscow', monday_moscow_count, wednesday_moscow_count, friday_moscow_count],\n",
    "        ['Saint-Petersburg', monday_spb_count, wednesday_spb_count, friday_spb_count]]\n",
    "columns = ['city', 'monday', 'wednesday', 'friday']\n",
    "\n",
    "day_city_comparison = pd.DataFrame(data = data, columns = columns)\n",
    "display(day_city_comparison)"
   ]
  },
  {
   "cell_type": "markdown",
   "metadata": {
    "id": "-EgPIHYu_Zcu"
   },
   "source": [
    "**Выводы**\n",
    "\n",
    "Данные показывают разницу поведения пользователей:\n",
    "\n",
    "- В Москве пик прослушиваний приходится на понедельник и пятницу, а в среду заметен спад.\n",
    "- В Петербурге, наоборот, больше слушают музыку по средам. Активность в понедельник и пятницу здесь почти в равной мере уступает среде.\n",
    "\n",
    "Значит, данные говорят в пользу первой гипотезы."
   ]
  },
  {
   "cell_type": "markdown",
   "metadata": {
    "id": "atZAxtq4_Zcu"
   },
   "source": [
    "### Музыка в начале и в конце недели"
   ]
  },
  {
   "cell_type": "markdown",
   "metadata": {
    "id": "eXrQqXFH_Zcu"
   },
   "source": [
    "Согласно второй гипотезе, утром в понедельник в Москве преобладают одни жанры, а в Петербурге — другие. Так же и вечером пятницы преобладают разные жанры — в зависимости от города."
   ]
  },
  {
   "cell_type": "markdown",
   "metadata": {
    "id": "S8UcW6Hw_Zcu"
   },
   "source": [
    "Сохраните таблицы с данными в две переменные:\n",
    "* по Москве — в `moscow_general`;\n",
    "* по Санкт-Петербургу — в `spb_general`."
   ]
  },
  {
   "cell_type": "code",
   "execution_count": 33,
   "metadata": {
    "id": "qeaFfM_P_Zcu"
   },
   "outputs": [],
   "source": [
    "# получение таблицы moscow_general из тех строк таблицы df, \n",
    "# для которых значение в столбце 'city' равно 'Moscow'\n",
    "moscow_general = df[df['city'] == 'Moscow']"
   ]
  },
  {
   "cell_type": "code",
   "execution_count": 34,
   "metadata": {
    "id": "ORaVRKto_Zcu"
   },
   "outputs": [],
   "source": [
    "# получение таблицы spb_general из тех строк таблицы df,\n",
    "# для которых значение в столбце 'city' равно 'Saint-Petersburg'\n",
    "spb_general = df[df['city'] == 'Saint-Petersburg']"
   ]
  },
  {
   "cell_type": "markdown",
   "metadata": {
    "id": "MEJV-CX2_Zcu"
   },
   "source": [
    "Создайте функцию `genre_weekday()` с четырьмя параметрами:\n",
    "* таблица (датафрейм) с данными,\n",
    "* день недели,\n",
    "* начальная временная метка в формате 'hh:mm', \n",
    "* последняя временная метка в формате 'hh:mm'.\n",
    "\n",
    "Функция должна вернуть информацию о топ-10 жанров тех треков, которые прослушивали в указанный день, в промежутке между двумя отметками времени."
   ]
  },
  {
   "cell_type": "code",
   "execution_count": 35,
   "metadata": {
    "id": "laJT9BYl_Zcu"
   },
   "outputs": [],
   "source": [
    "def genre_weekday(table, day, time1, time2):\n",
    "    genre_df = table[table['day'] == day]\n",
    "    genre_df = genre_df[genre_df['time'] > time1]\n",
    "    genre_df = genre_df[genre_df['time'] < time2]\n",
    "    genre_df_count = genre_df.groupby('genre')['user_id'].count()\n",
    "    genre_df_sorted = genre_df_count.sort_values(ascending=False)\n",
    "    return print(genre_df_sorted.head(10))\n"
   ]
  },
  {
   "cell_type": "markdown",
   "metadata": {
    "id": "la2s2_PF_Zcu"
   },
   "source": [
    "Cравните результаты функции `genre_weekday()` для Москвы и Санкт-Петербурга в понедельник утром (с 7:00 до 11:00) и в пятницу вечером (с 17:00 до 23:00):"
   ]
  },
  {
   "cell_type": "code",
   "execution_count": 36,
   "metadata": {
    "id": "yz7itPUQ_Zcu",
    "scrolled": false
   },
   "outputs": [
    {
     "name": "stdout",
     "output_type": "stream",
     "text": [
      "genre\n",
      "pop            781\n",
      "dance          549\n",
      "electronic     480\n",
      "rock           474\n",
      "hiphop         286\n",
      "ruspop         186\n",
      "world          181\n",
      "rusrap         175\n",
      "alternative    164\n",
      "unknown        161\n",
      "Name: user_id, dtype: int64\n"
     ]
    }
   ],
   "source": [
    "# вызов функции для утра понедельника в Москве (вместо df — таблица moscow_general)\n",
    "# объекты, хранящие время, являются строками и сравниваются как строки\n",
    "# пример вызова: genre_weekday(moscow_general, 'Monday', '07:00', '11:00')\n",
    "genre_weekday(moscow_general, 'Monday', '07.00', '11.00')"
   ]
  },
  {
   "cell_type": "code",
   "execution_count": 37,
   "metadata": {
    "id": "kwUcHPdy_Zcu"
   },
   "outputs": [
    {
     "name": "stdout",
     "output_type": "stream",
     "text": [
      "genre\n",
      "pop            218\n",
      "dance          182\n",
      "rock           162\n",
      "electronic     147\n",
      "hiphop          80\n",
      "ruspop          64\n",
      "alternative     58\n",
      "rusrap          55\n",
      "jazz            44\n",
      "classical       40\n",
      "Name: user_id, dtype: int64\n"
     ]
    }
   ],
   "source": [
    "# вызов функции для утра понедельника в Петербурге (вместо df — таблица spb_general)\n",
    "genre_weekday(spb_general, 'Monday', '07.00', '11.00')"
   ]
  },
  {
   "cell_type": "code",
   "execution_count": 38,
   "metadata": {
    "id": "EzXVRE1o_Zcu"
   },
   "outputs": [
    {
     "name": "stdout",
     "output_type": "stream",
     "text": [
      "genre\n",
      "pop            713\n",
      "rock           517\n",
      "dance          495\n",
      "electronic     482\n",
      "hiphop         273\n",
      "world          208\n",
      "ruspop         170\n",
      "alternative    163\n",
      "classical      163\n",
      "rusrap         142\n",
      "Name: user_id, dtype: int64\n"
     ]
    }
   ],
   "source": [
    "# вызов функции для вечера пятницы в Москве\n",
    "genre_weekday(moscow_general, 'Friday', '17.00', '23.00')"
   ]
  },
  {
   "cell_type": "code",
   "execution_count": 39,
   "metadata": {
    "id": "JZaEKu5v_Zcu"
   },
   "outputs": [
    {
     "name": "stdout",
     "output_type": "stream",
     "text": [
      "genre\n",
      "pop            256\n",
      "electronic     216\n",
      "rock           216\n",
      "dance          210\n",
      "hiphop          97\n",
      "alternative     63\n",
      "jazz            61\n",
      "classical       60\n",
      "rusrap          59\n",
      "world           54\n",
      "Name: user_id, dtype: int64\n"
     ]
    }
   ],
   "source": [
    "# вызов функции для вечера пятницы в Петербурге\n",
    "genre_weekday(spb_general, 'Friday', '17.00', '23.00')"
   ]
  },
  {
   "cell_type": "markdown",
   "metadata": {
    "id": "wrCe4MNX_Zcu"
   },
   "source": [
    "**Выводы**\n",
    "\n",
    "Если сравнить топ-10 жанров в понедельник утром, можно сделать такие выводы:\n",
    "\n",
    "1. В Москве и Петербурге слушают похожую музыку. Единственное отличие — в московский рейтинг вошёл жанр “world”, а в петербургский — джаз и классика.\n",
    "\n",
    "2. В Москве пропущенных значений оказалось так много, что значение `'unknown'` заняло десятое место среди самых популярных жанров. Значит, пропущенные значения занимают существенную долю в данных и угрожают достоверности исследования.\n",
    "\n",
    "Вечер пятницы не меняет эту картину. Некоторые жанры поднимаются немного выше, другие спускаются, но в целом топ-10 остаётся тем же самым.\n",
    "\n",
    "Таким образом, вторая гипотеза подтвердилась лишь частично:\n",
    "* Пользователи слушают похожую музыку в начале недели и в конце.\n",
    "* Разница между Москвой и Петербургом не слишком выражена. В Москве чаще слушают русскую популярную музыку, в Петербурге — джаз.\n",
    "\n",
    "Однако пропуски в данных ставят под сомнение этот результат. В Москве их так много, что рейтинг топ-10 мог бы выглядеть иначе, если бы не утерянные  данные о жанрах."
   ]
  },
  {
   "cell_type": "markdown",
   "metadata": {
    "id": "JolODAqr_Zcu"
   },
   "source": [
    "### Жанровые предпочтения в Москве и Петербурге\n",
    "\n",
    "Гипотеза: Петербург — столица рэпа, музыку этого жанра там слушают чаще, чем в Москве.  А Москва — город контрастов, в котором, тем не менее, преобладает поп-музыка."
   ]
  },
  {
   "cell_type": "markdown",
   "metadata": {
    "id": "DlegSvaT_Zcu"
   },
   "source": [
    "Сгруппируйте таблицу `moscow_general` по жанру и посчитайте прослушивания треков каждого жанра методом `count()`. Затем отсортируйте результат в порядке убывания и сохраните его в таблице `moscow_genres`."
   ]
  },
  {
   "cell_type": "code",
   "execution_count": 40,
   "metadata": {
    "id": "r19lIPke_Zcu"
   },
   "outputs": [],
   "source": [
    "\n",
    "moscow_genres = moscow_general.groupby('genre')['user_id'].count().sort_values(ascending=False)"
   ]
  },
  {
   "cell_type": "markdown",
   "metadata": {
    "id": "6kMuomxTiIr8"
   },
   "source": [
    "Выведите на экран первые десять строк `moscow_genres`:"
   ]
  },
  {
   "cell_type": "code",
   "execution_count": 41,
   "metadata": {
    "id": "WhCSooF8_Zcv"
   },
   "outputs": [
    {
     "name": "stdout",
     "output_type": "stream",
     "text": [
      "genre\n",
      "pop            5892\n",
      "dance          4435\n",
      "rock           3965\n",
      "electronic     3786\n",
      "hiphop         2096\n",
      "classical      1616\n",
      "world          1432\n",
      "alternative    1379\n",
      "ruspop         1372\n",
      "rusrap         1161\n",
      "Name: user_id, dtype: int64\n"
     ]
    }
   ],
   "source": [
    "# просмотр первых 10 строк moscow_genres\n",
    "print(moscow_genres.head(10))"
   ]
  },
  {
   "cell_type": "markdown",
   "metadata": {
    "id": "cnPG2vnN_Zcv"
   },
   "source": [
    "Теперь повторите то же и для Петербурга.\n",
    "\n",
    "Сгруппируйте таблицу `spb_general` по жанру. Посчитайте прослушивания треков каждого жанра. Результат отсортируйте в порядке убывания и сохраните в таблице `spb_genres`:\n"
   ]
  },
  {
   "cell_type": "code",
   "execution_count": 42,
   "metadata": {
    "id": "gluLIpE7_Zcv"
   },
   "outputs": [],
   "source": [
    "\n",
    "spb_genres = spb_general.groupby('genre')['user_id'].count().sort_values(ascending=False)"
   ]
  },
  {
   "cell_type": "markdown",
   "metadata": {
    "id": "5Doha_ODgyQ8"
   },
   "source": [
    "Выведите на экран первые десять строк `spb_genres`:"
   ]
  },
  {
   "cell_type": "code",
   "execution_count": 43,
   "metadata": {
    "id": "uaGJHjVU_Zcv",
    "scrolled": true
   },
   "outputs": [
    {
     "name": "stdout",
     "output_type": "stream",
     "text": [
      "genre\n",
      "pop            2431\n",
      "dance          1932\n",
      "rock           1879\n",
      "electronic     1736\n",
      "hiphop          960\n",
      "alternative     649\n",
      "classical       646\n",
      "rusrap          564\n",
      "ruspop          538\n",
      "world           515\n",
      "Name: user_id, dtype: int64\n"
     ]
    }
   ],
   "source": [
    "# просмотр первых 10 строк spb_genres\n",
    "print(spb_genres.head(10))"
   ]
  },
  {
   "cell_type": "markdown",
   "metadata": {
    "id": "RY51YJYu_Zcv"
   },
   "source": [
    "**Выводы**"
   ]
  },
  {
   "cell_type": "markdown",
   "metadata": {
    "id": "nVhnJEm__Zcv"
   },
   "source": [
    "Гипотеза частично подтвердилась:\n",
    "* Поп-музыка — самый популярный жанр в Москве, как и предполагала гипотеза. Более того, в топ-10 жанров встречается близкий жанр — русская популярная музыка.\n",
    "* Вопреки ожиданиям, рэп одинаково популярен в Москве и Петербурге. \n"
   ]
  },
  {
   "cell_type": "markdown",
   "metadata": {
    "id": "ykKQ0N65_Zcv"
   },
   "source": [
    "## Итоги исследования"
   ]
  },
  {
   "cell_type": "markdown",
   "metadata": {
    "id": "tjUwbHb3_Zcv"
   },
   "source": [
    "Вы проверили три гипотезы и установили:\n",
    "\n",
    "1. День недели по-разному влияет на активность пользователей в Москве и Петербурге. \n",
    "\n",
    "Первая гипотеза полностью подтвердилась.\n",
    "\n",
    "2. Музыкальные предпочтения не сильно меняются в течение недели — будь то Москва или Петербург. Небольшие различия заметны в начале недели, по понедельникам:\n",
    "* в Москве слушают музыку жанра “world”,\n",
    "* в Петербурге — джаз и классику.\n",
    "\n",
    "Таким образом, вторая гипотеза подтвердилась лишь отчасти. Этот результат мог оказаться иным, если бы не пропуски в данных.\n",
    "\n",
    "3. Во вкусах пользователей Москвы и Петербурга больше общего чем различий. Вопреки ожиданиям, предпочтения жанров в Петербурге напоминают московские.\n",
    "\n",
    "Третья гипотеза не подтвердилась. Если различия в предпочтениях и существуют, на основной массе пользователей они незаметны.\n"
   ]
  }
 ],
 "metadata": {
  "ExecuteTimeLog": [
   {
    "duration": 53,
    "start_time": "2022-04-11T15:28:18.934Z"
   },
   {
    "duration": 7,
    "start_time": "2022-04-11T15:29:07.065Z"
   },
   {
    "duration": 7,
    "start_time": "2022-04-11T15:30:11.452Z"
   },
   {
    "duration": 149,
    "start_time": "2022-04-11T15:31:46.494Z"
   },
   {
    "duration": 7,
    "start_time": "2022-04-11T15:32:07.158Z"
   },
   {
    "duration": 7,
    "start_time": "2022-04-11T15:32:26.485Z"
   },
   {
    "duration": 7,
    "start_time": "2022-04-11T15:33:53.888Z"
   },
   {
    "duration": 431,
    "start_time": "2022-04-11T15:37:29.331Z"
   },
   {
    "duration": 176,
    "start_time": "2022-04-11T15:37:29.764Z"
   },
   {
    "duration": 11,
    "start_time": "2022-04-11T15:37:29.941Z"
   },
   {
    "duration": 8,
    "start_time": "2022-04-11T15:37:29.954Z"
   },
   {
    "duration": 9,
    "start_time": "2022-04-11T15:37:29.963Z"
   },
   {
    "duration": 9,
    "start_time": "2022-04-11T15:37:29.974Z"
   },
   {
    "duration": 9,
    "start_time": "2022-04-11T15:37:29.985Z"
   },
   {
    "duration": 11,
    "start_time": "2022-04-11T15:37:29.996Z"
   },
   {
    "duration": 18,
    "start_time": "2022-04-11T15:37:30.009Z"
   },
   {
    "duration": 9,
    "start_time": "2022-04-11T15:37:30.031Z"
   },
   {
    "duration": 14,
    "start_time": "2022-04-11T15:37:30.042Z"
   },
   {
    "duration": 9,
    "start_time": "2022-04-11T15:37:30.059Z"
   },
   {
    "duration": 30,
    "start_time": "2022-04-11T15:37:30.070Z"
   },
   {
    "duration": 14,
    "start_time": "2022-04-11T15:37:30.102Z"
   },
   {
    "duration": 18,
    "start_time": "2022-04-11T15:37:30.118Z"
   },
   {
    "duration": 11,
    "start_time": "2022-04-11T15:37:30.138Z"
   },
   {
    "duration": 12,
    "start_time": "2022-04-11T15:37:30.151Z"
   },
   {
    "duration": 16,
    "start_time": "2022-04-11T15:37:30.165Z"
   },
   {
    "duration": 12,
    "start_time": "2022-04-11T15:37:30.182Z"
   },
   {
    "duration": 11,
    "start_time": "2022-04-11T15:37:30.196Z"
   },
   {
    "duration": 25,
    "start_time": "2022-04-11T15:37:30.209Z"
   },
   {
    "duration": 14,
    "start_time": "2022-04-11T15:37:30.236Z"
   },
   {
    "duration": 16,
    "start_time": "2022-04-11T15:37:30.252Z"
   },
   {
    "duration": 20,
    "start_time": "2022-04-11T15:37:30.269Z"
   },
   {
    "duration": 14,
    "start_time": "2022-04-11T15:37:30.291Z"
   },
   {
    "duration": 23,
    "start_time": "2022-04-11T15:37:30.307Z"
   },
   {
    "duration": 25,
    "start_time": "2022-04-11T15:37:30.332Z"
   },
   {
    "duration": 21,
    "start_time": "2022-04-11T15:37:30.361Z"
   },
   {
    "duration": 18,
    "start_time": "2022-04-11T15:37:30.384Z"
   },
   {
    "duration": 14,
    "start_time": "2022-04-11T15:37:30.404Z"
   },
   {
    "duration": 42,
    "start_time": "2022-04-11T15:37:30.419Z"
   },
   {
    "duration": 16,
    "start_time": "2022-04-11T15:37:30.464Z"
   },
   {
    "duration": 20,
    "start_time": "2022-04-11T15:37:30.482Z"
   },
   {
    "duration": 18,
    "start_time": "2022-04-11T15:37:30.504Z"
   },
   {
    "duration": 25,
    "start_time": "2022-04-11T15:37:30.524Z"
   },
   {
    "duration": 17,
    "start_time": "2022-04-11T15:37:30.551Z"
   },
   {
    "duration": 17,
    "start_time": "2022-04-11T15:37:30.570Z"
   },
   {
    "duration": 13,
    "start_time": "2022-04-11T15:37:30.589Z"
   },
   {
    "duration": 183,
    "start_time": "2022-04-11T15:38:04.139Z"
   },
   {
    "duration": 31,
    "start_time": "2022-04-11T15:38:30.540Z"
   },
   {
    "duration": 4,
    "start_time": "2022-04-11T15:45:04.033Z"
   },
   {
    "duration": 3,
    "start_time": "2022-04-11T15:47:42.625Z"
   },
   {
    "duration": 3,
    "start_time": "2022-04-11T15:47:57.114Z"
   },
   {
    "duration": 190,
    "start_time": "2022-04-11T15:47:57.119Z"
   },
   {
    "duration": 11,
    "start_time": "2022-04-11T15:47:57.311Z"
   },
   {
    "duration": 43,
    "start_time": "2022-04-11T15:47:57.325Z"
   },
   {
    "duration": 4,
    "start_time": "2022-04-11T15:47:57.370Z"
   },
   {
    "duration": 21,
    "start_time": "2022-04-11T15:47:57.376Z"
   },
   {
    "duration": 3,
    "start_time": "2022-04-11T15:47:57.400Z"
   },
   {
    "duration": 9,
    "start_time": "2022-04-11T15:47:57.405Z"
   },
   {
    "duration": 22,
    "start_time": "2022-04-11T15:47:57.417Z"
   },
   {
    "duration": 4,
    "start_time": "2022-04-11T15:47:57.441Z"
   },
   {
    "duration": 8,
    "start_time": "2022-04-11T15:47:57.447Z"
   },
   {
    "duration": 12,
    "start_time": "2022-04-11T15:47:57.457Z"
   },
   {
    "duration": 11,
    "start_time": "2022-04-11T15:47:57.471Z"
   },
   {
    "duration": 11,
    "start_time": "2022-04-11T15:47:57.485Z"
   },
   {
    "duration": 12,
    "start_time": "2022-04-11T15:47:57.498Z"
   },
   {
    "duration": 13,
    "start_time": "2022-04-11T15:47:57.512Z"
   },
   {
    "duration": 12,
    "start_time": "2022-04-11T15:47:57.527Z"
   },
   {
    "duration": 14,
    "start_time": "2022-04-11T15:47:57.541Z"
   },
   {
    "duration": 11,
    "start_time": "2022-04-11T15:47:57.557Z"
   },
   {
    "duration": 11,
    "start_time": "2022-04-11T15:47:57.570Z"
   },
   {
    "duration": 16,
    "start_time": "2022-04-11T15:47:57.583Z"
   },
   {
    "duration": 11,
    "start_time": "2022-04-11T15:47:57.601Z"
   },
   {
    "duration": 15,
    "start_time": "2022-04-11T15:47:57.614Z"
   },
   {
    "duration": 18,
    "start_time": "2022-04-11T15:47:57.634Z"
   },
   {
    "duration": 16,
    "start_time": "2022-04-11T15:47:57.654Z"
   },
   {
    "duration": 19,
    "start_time": "2022-04-11T15:47:57.673Z"
   },
   {
    "duration": 13,
    "start_time": "2022-04-11T15:47:57.694Z"
   },
   {
    "duration": 13,
    "start_time": "2022-04-11T15:47:57.709Z"
   },
   {
    "duration": 14,
    "start_time": "2022-04-11T15:47:57.725Z"
   },
   {
    "duration": 11,
    "start_time": "2022-04-11T15:47:57.741Z"
   },
   {
    "duration": 15,
    "start_time": "2022-04-11T15:47:57.754Z"
   },
   {
    "duration": 11,
    "start_time": "2022-04-11T15:47:57.771Z"
   },
   {
    "duration": 14,
    "start_time": "2022-04-11T15:47:57.783Z"
   },
   {
    "duration": 10,
    "start_time": "2022-04-11T15:47:57.799Z"
   },
   {
    "duration": 10,
    "start_time": "2022-04-11T15:47:57.810Z"
   },
   {
    "duration": 12,
    "start_time": "2022-04-11T15:47:57.822Z"
   },
   {
    "duration": 13,
    "start_time": "2022-04-11T15:47:57.836Z"
   },
   {
    "duration": 11,
    "start_time": "2022-04-11T15:47:57.850Z"
   },
   {
    "duration": 26,
    "start_time": "2022-04-11T15:50:23.407Z"
   },
   {
    "duration": 3,
    "start_time": "2022-04-11T15:54:33.195Z"
   },
   {
    "duration": 187,
    "start_time": "2022-04-11T15:54:33.201Z"
   },
   {
    "duration": 12,
    "start_time": "2022-04-11T15:54:33.390Z"
   },
   {
    "duration": 46,
    "start_time": "2022-04-11T15:54:33.404Z"
   },
   {
    "duration": 4,
    "start_time": "2022-04-11T15:54:33.452Z"
   },
   {
    "duration": 17,
    "start_time": "2022-04-11T15:54:33.458Z"
   },
   {
    "duration": 10,
    "start_time": "2022-04-11T15:54:33.477Z"
   },
   {
    "duration": 50,
    "start_time": "2022-04-11T15:54:33.490Z"
   },
   {
    "duration": 42,
    "start_time": "2022-04-11T15:54:33.543Z"
   },
   {
    "duration": 26,
    "start_time": "2022-04-11T15:54:33.588Z"
   },
   {
    "duration": 11,
    "start_time": "2022-04-11T15:54:33.616Z"
   },
   {
    "duration": 10,
    "start_time": "2022-04-11T15:54:33.629Z"
   },
   {
    "duration": 13,
    "start_time": "2022-04-11T15:54:33.641Z"
   },
   {
    "duration": 21,
    "start_time": "2022-04-11T15:54:33.656Z"
   },
   {
    "duration": 10,
    "start_time": "2022-04-11T15:54:33.679Z"
   },
   {
    "duration": 13,
    "start_time": "2022-04-11T15:54:33.691Z"
   },
   {
    "duration": 12,
    "start_time": "2022-04-11T15:54:33.706Z"
   },
   {
    "duration": 11,
    "start_time": "2022-04-11T15:54:33.720Z"
   },
   {
    "duration": 11,
    "start_time": "2022-04-11T15:54:33.733Z"
   },
   {
    "duration": 12,
    "start_time": "2022-04-11T15:54:33.746Z"
   },
   {
    "duration": 26,
    "start_time": "2022-04-11T15:54:33.760Z"
   },
   {
    "duration": 12,
    "start_time": "2022-04-11T15:54:33.788Z"
   },
   {
    "duration": 13,
    "start_time": "2022-04-11T15:54:33.802Z"
   },
   {
    "duration": 10,
    "start_time": "2022-04-11T15:54:33.819Z"
   },
   {
    "duration": 14,
    "start_time": "2022-04-11T15:54:33.831Z"
   },
   {
    "duration": 19,
    "start_time": "2022-04-11T15:54:33.847Z"
   },
   {
    "duration": 13,
    "start_time": "2022-04-11T15:54:33.869Z"
   },
   {
    "duration": 12,
    "start_time": "2022-04-11T15:54:33.884Z"
   },
   {
    "duration": 13,
    "start_time": "2022-04-11T15:54:33.898Z"
   },
   {
    "duration": 11,
    "start_time": "2022-04-11T15:54:33.913Z"
   },
   {
    "duration": 23,
    "start_time": "2022-04-11T15:54:33.926Z"
   },
   {
    "duration": 13,
    "start_time": "2022-04-11T15:54:33.951Z"
   },
   {
    "duration": 16,
    "start_time": "2022-04-11T15:54:33.966Z"
   },
   {
    "duration": 14,
    "start_time": "2022-04-11T15:54:33.984Z"
   },
   {
    "duration": 13,
    "start_time": "2022-04-11T15:54:34.000Z"
   },
   {
    "duration": 24,
    "start_time": "2022-04-11T15:54:34.015Z"
   },
   {
    "duration": 27,
    "start_time": "2022-04-11T15:54:34.041Z"
   },
   {
    "duration": 13,
    "start_time": "2022-04-11T15:54:34.070Z"
   },
   {
    "duration": 102,
    "start_time": "2022-04-11T16:43:56.068Z"
   },
   {
    "duration": 65,
    "start_time": "2022-04-11T16:45:35.355Z"
   },
   {
    "duration": 3,
    "start_time": "2022-04-11T16:45:39.225Z"
   },
   {
    "duration": 197,
    "start_time": "2022-04-11T16:45:39.231Z"
   },
   {
    "duration": 13,
    "start_time": "2022-04-11T16:45:39.430Z"
   },
   {
    "duration": 62,
    "start_time": "2022-04-11T16:45:39.446Z"
   },
   {
    "duration": 6,
    "start_time": "2022-04-11T16:45:39.510Z"
   },
   {
    "duration": 30,
    "start_time": "2022-04-11T16:45:39.517Z"
   },
   {
    "duration": 11,
    "start_time": "2022-04-11T16:45:39.549Z"
   },
   {
    "duration": 59,
    "start_time": "2022-04-11T16:45:39.562Z"
   },
   {
    "duration": 27,
    "start_time": "2022-04-11T16:45:39.624Z"
   },
   {
    "duration": 27,
    "start_time": "2022-04-11T16:45:39.653Z"
   },
   {
    "duration": 94,
    "start_time": "2022-04-11T16:45:39.682Z"
   },
   {
    "duration": 81,
    "start_time": "2022-04-11T16:45:39.778Z"
   },
   {
    "duration": 71,
    "start_time": "2022-04-11T16:45:39.861Z"
   },
   {
    "duration": 3,
    "start_time": "2022-04-11T16:45:39.934Z"
   },
   {
    "duration": 34,
    "start_time": "2022-04-11T16:45:39.938Z"
   },
   {
    "duration": 27,
    "start_time": "2022-04-11T16:45:39.974Z"
   },
   {
    "duration": 35,
    "start_time": "2022-04-11T16:45:40.003Z"
   },
   {
    "duration": 30,
    "start_time": "2022-04-11T16:45:40.040Z"
   },
   {
    "duration": 21,
    "start_time": "2022-04-11T16:45:40.072Z"
   },
   {
    "duration": 21,
    "start_time": "2022-04-11T16:45:40.095Z"
   },
   {
    "duration": 42,
    "start_time": "2022-04-11T16:45:40.118Z"
   },
   {
    "duration": 30,
    "start_time": "2022-04-11T16:45:40.162Z"
   },
   {
    "duration": 24,
    "start_time": "2022-04-11T16:45:40.194Z"
   },
   {
    "duration": 17,
    "start_time": "2022-04-11T16:45:40.222Z"
   },
   {
    "duration": 21,
    "start_time": "2022-04-11T16:45:40.241Z"
   },
   {
    "duration": 33,
    "start_time": "2022-04-11T16:45:40.264Z"
   },
   {
    "duration": 22,
    "start_time": "2022-04-11T16:45:40.299Z"
   },
   {
    "duration": 24,
    "start_time": "2022-04-11T16:45:40.323Z"
   },
   {
    "duration": 28,
    "start_time": "2022-04-11T16:45:40.350Z"
   },
   {
    "duration": 31,
    "start_time": "2022-04-11T16:45:40.380Z"
   },
   {
    "duration": 42,
    "start_time": "2022-04-11T16:45:40.413Z"
   },
   {
    "duration": 22,
    "start_time": "2022-04-11T16:45:40.457Z"
   },
   {
    "duration": 36,
    "start_time": "2022-04-11T16:45:40.480Z"
   },
   {
    "duration": 38,
    "start_time": "2022-04-11T16:45:40.519Z"
   },
   {
    "duration": 35,
    "start_time": "2022-04-11T16:45:40.559Z"
   },
   {
    "duration": 35,
    "start_time": "2022-04-11T16:45:40.596Z"
   },
   {
    "duration": 37,
    "start_time": "2022-04-11T16:45:40.633Z"
   },
   {
    "duration": 27,
    "start_time": "2022-04-11T16:45:40.672Z"
   },
   {
    "duration": 59,
    "start_time": "2022-04-11T16:49:50.878Z"
   },
   {
    "duration": 9,
    "start_time": "2022-04-11T16:52:05.179Z"
   },
   {
    "duration": 8,
    "start_time": "2022-04-11T16:53:32.520Z"
   },
   {
    "duration": 8,
    "start_time": "2022-04-11T16:53:51.329Z"
   },
   {
    "duration": 7,
    "start_time": "2022-04-11T16:55:11.250Z"
   },
   {
    "duration": 7,
    "start_time": "2022-04-11T17:08:24.937Z"
   },
   {
    "duration": 4,
    "start_time": "2022-04-11T17:08:37.111Z"
   },
   {
    "duration": 12,
    "start_time": "2022-04-11T17:08:39.673Z"
   },
   {
    "duration": 8,
    "start_time": "2022-04-11T17:09:30.084Z"
   },
   {
    "duration": 23,
    "start_time": "2022-04-11T17:12:43.004Z"
   },
   {
    "duration": 17,
    "start_time": "2022-04-11T17:15:24.184Z"
   },
   {
    "duration": 146,
    "start_time": "2022-04-11T17:22:47.511Z"
   },
   {
    "duration": 4,
    "start_time": "2022-04-11T17:23:16.031Z"
   },
   {
    "duration": 9,
    "start_time": "2022-04-11T17:24:48.262Z"
   },
   {
    "duration": 9,
    "start_time": "2022-04-11T17:25:02.322Z"
   },
   {
    "duration": 19,
    "start_time": "2022-04-11T17:26:43.561Z"
   },
   {
    "duration": 17,
    "start_time": "2022-04-11T17:27:13.458Z"
   },
   {
    "duration": 19,
    "start_time": "2022-04-11T17:28:07.994Z"
   },
   {
    "duration": 16,
    "start_time": "2022-04-11T17:28:15.748Z"
   },
   {
    "duration": 16,
    "start_time": "2022-04-11T17:29:48.132Z"
   },
   {
    "duration": 15,
    "start_time": "2022-04-11T17:29:50.546Z"
   },
   {
    "duration": 20,
    "start_time": "2022-04-11T17:29:52.967Z"
   },
   {
    "duration": 16,
    "start_time": "2022-04-11T17:30:24.639Z"
   },
   {
    "duration": 15,
    "start_time": "2022-04-11T17:40:14.943Z"
   },
   {
    "duration": 18,
    "start_time": "2022-04-11T17:41:31.206Z"
   },
   {
    "duration": 9,
    "start_time": "2022-04-11T17:42:44.360Z"
   },
   {
    "duration": 9,
    "start_time": "2022-04-11T17:43:19.087Z"
   },
   {
    "duration": 12,
    "start_time": "2022-04-11T17:45:11.411Z"
   },
   {
    "duration": 9,
    "start_time": "2022-04-11T17:46:14.172Z"
   },
   {
    "duration": 5,
    "start_time": "2022-04-11T18:28:26.263Z"
   },
   {
    "duration": 42,
    "start_time": "2022-04-11T18:29:38.019Z"
   },
   {
    "duration": 8,
    "start_time": "2022-04-11T18:30:09.261Z"
   },
   {
    "duration": 50,
    "start_time": "2022-04-11T18:30:15.169Z"
   },
   {
    "duration": 6,
    "start_time": "2022-04-11T18:33:02.584Z"
   },
   {
    "duration": 41,
    "start_time": "2022-04-11T18:33:13.275Z"
   },
   {
    "duration": 5,
    "start_time": "2022-04-11T18:37:39.649Z"
   },
   {
    "duration": 21,
    "start_time": "2022-04-11T18:37:44.899Z"
   },
   {
    "duration": 7,
    "start_time": "2022-04-11T18:38:55.966Z"
   },
   {
    "duration": 10,
    "start_time": "2022-04-11T18:39:11.094Z"
   },
   {
    "duration": 5,
    "start_time": "2022-04-11T18:39:17.451Z"
   },
   {
    "duration": 13,
    "start_time": "2022-04-11T18:39:26.084Z"
   },
   {
    "duration": 20,
    "start_time": "2022-04-11T18:40:58.016Z"
   },
   {
    "duration": 13,
    "start_time": "2022-04-11T18:41:21.341Z"
   },
   {
    "duration": 8,
    "start_time": "2022-04-11T18:45:04.078Z"
   },
   {
    "duration": 4,
    "start_time": "2022-04-11T18:45:21.149Z"
   },
   {
    "duration": 178,
    "start_time": "2022-04-11T18:45:21.155Z"
   },
   {
    "duration": 11,
    "start_time": "2022-04-11T18:45:21.335Z"
   },
   {
    "duration": 33,
    "start_time": "2022-04-11T18:45:21.349Z"
   },
   {
    "duration": 4,
    "start_time": "2022-04-11T18:45:21.385Z"
   },
   {
    "duration": 32,
    "start_time": "2022-04-11T18:45:21.390Z"
   },
   {
    "duration": 4,
    "start_time": "2022-04-11T18:45:21.424Z"
   },
   {
    "duration": 37,
    "start_time": "2022-04-11T18:45:21.429Z"
   },
   {
    "duration": 21,
    "start_time": "2022-04-11T18:45:21.468Z"
   },
   {
    "duration": 42,
    "start_time": "2022-04-11T18:45:21.491Z"
   },
   {
    "duration": 83,
    "start_time": "2022-04-11T18:45:21.535Z"
   },
   {
    "duration": 79,
    "start_time": "2022-04-11T18:45:21.620Z"
   },
   {
    "duration": 84,
    "start_time": "2022-04-11T18:45:21.701Z"
   },
   {
    "duration": 9,
    "start_time": "2022-04-11T18:45:21.789Z"
   },
   {
    "duration": 36,
    "start_time": "2022-04-11T18:45:21.800Z"
   },
   {
    "duration": 18,
    "start_time": "2022-04-11T18:45:21.837Z"
   },
   {
    "duration": 13,
    "start_time": "2022-04-11T18:45:21.857Z"
   },
   {
    "duration": 21,
    "start_time": "2022-04-11T18:45:21.872Z"
   },
   {
    "duration": 24,
    "start_time": "2022-04-11T18:45:21.895Z"
   },
   {
    "duration": 8,
    "start_time": "2022-04-11T18:45:21.921Z"
   },
   {
    "duration": 31,
    "start_time": "2022-04-11T18:45:21.930Z"
   },
   {
    "duration": 16,
    "start_time": "2022-04-11T18:45:21.963Z"
   },
   {
    "duration": 20,
    "start_time": "2022-04-11T18:45:21.981Z"
   },
   {
    "duration": 24,
    "start_time": "2022-04-11T18:45:22.003Z"
   },
   {
    "duration": 21,
    "start_time": "2022-04-11T18:45:22.029Z"
   },
   {
    "duration": 22,
    "start_time": "2022-04-11T18:45:22.052Z"
   },
   {
    "duration": 11,
    "start_time": "2022-04-11T18:45:22.076Z"
   },
   {
    "duration": 39,
    "start_time": "2022-04-11T18:45:22.088Z"
   },
   {
    "duration": 14,
    "start_time": "2022-04-11T18:45:22.129Z"
   },
   {
    "duration": 5,
    "start_time": "2022-04-11T18:45:22.144Z"
   },
   {
    "duration": 38,
    "start_time": "2022-04-11T18:45:22.151Z"
   },
   {
    "duration": 44,
    "start_time": "2022-04-11T18:45:22.191Z"
   },
   {
    "duration": 26,
    "start_time": "2022-04-11T18:45:22.237Z"
   },
   {
    "duration": 13,
    "start_time": "2022-04-11T18:45:22.264Z"
   },
   {
    "duration": 9,
    "start_time": "2022-04-11T18:45:22.279Z"
   },
   {
    "duration": 0,
    "start_time": "2022-04-11T18:45:22.290Z"
   },
   {
    "duration": 0,
    "start_time": "2022-04-11T18:45:22.292Z"
   },
   {
    "duration": 0,
    "start_time": "2022-04-11T18:45:22.293Z"
   },
   {
    "duration": 31,
    "start_time": "2022-04-11T18:45:59.617Z"
   },
   {
    "duration": 26,
    "start_time": "2022-04-11T18:46:45.875Z"
   },
   {
    "duration": 9,
    "start_time": "2022-04-11T18:46:52.871Z"
   },
   {
    "duration": 18,
    "start_time": "2022-04-11T18:48:32.949Z"
   },
   {
    "duration": 9,
    "start_time": "2022-04-11T18:48:50.794Z"
   },
   {
    "duration": 496,
    "start_time": "2022-04-21T15:31:20.661Z"
   },
   {
    "duration": 159,
    "start_time": "2022-04-21T15:31:21.159Z"
   },
   {
    "duration": 19,
    "start_time": "2022-04-21T15:31:21.320Z"
   },
   {
    "duration": 31,
    "start_time": "2022-04-21T15:31:21.341Z"
   },
   {
    "duration": 19,
    "start_time": "2022-04-21T15:31:21.375Z"
   },
   {
    "duration": 14,
    "start_time": "2022-04-21T15:31:21.396Z"
   },
   {
    "duration": 9,
    "start_time": "2022-04-21T15:31:21.411Z"
   },
   {
    "duration": 46,
    "start_time": "2022-04-21T15:31:21.422Z"
   },
   {
    "duration": 35,
    "start_time": "2022-04-21T15:31:21.470Z"
   },
   {
    "duration": 27,
    "start_time": "2022-04-21T15:31:21.507Z"
   },
   {
    "duration": 87,
    "start_time": "2022-04-21T15:31:21.536Z"
   },
   {
    "duration": 86,
    "start_time": "2022-04-21T15:31:21.625Z"
   },
   {
    "duration": 64,
    "start_time": "2022-04-21T15:31:21.713Z"
   },
   {
    "duration": 7,
    "start_time": "2022-04-21T15:31:21.792Z"
   },
   {
    "duration": 5,
    "start_time": "2022-04-21T15:31:21.801Z"
   },
   {
    "duration": 15,
    "start_time": "2022-04-21T15:31:21.808Z"
   },
   {
    "duration": 8,
    "start_time": "2022-04-21T15:31:21.825Z"
   },
   {
    "duration": 13,
    "start_time": "2022-04-21T15:31:21.835Z"
   },
   {
    "duration": 49,
    "start_time": "2022-04-21T15:31:21.850Z"
   },
   {
    "duration": 4,
    "start_time": "2022-04-21T15:31:21.900Z"
   },
   {
    "duration": 26,
    "start_time": "2022-04-21T15:31:21.905Z"
   },
   {
    "duration": 15,
    "start_time": "2022-04-21T15:31:21.933Z"
   },
   {
    "duration": 14,
    "start_time": "2022-04-21T15:31:21.950Z"
   },
   {
    "duration": 36,
    "start_time": "2022-04-21T15:31:21.966Z"
   },
   {
    "duration": 18,
    "start_time": "2022-04-21T15:31:22.004Z"
   },
   {
    "duration": 16,
    "start_time": "2022-04-21T15:31:22.023Z"
   },
   {
    "duration": 12,
    "start_time": "2022-04-21T15:31:22.041Z"
   },
   {
    "duration": 41,
    "start_time": "2022-04-21T15:31:22.054Z"
   },
   {
    "duration": 12,
    "start_time": "2022-04-21T15:31:22.098Z"
   },
   {
    "duration": 5,
    "start_time": "2022-04-21T15:31:22.112Z"
   },
   {
    "duration": 28,
    "start_time": "2022-04-21T15:31:22.119Z"
   },
   {
    "duration": 13,
    "start_time": "2022-04-21T15:31:22.149Z"
   },
   {
    "duration": 40,
    "start_time": "2022-04-21T15:31:22.163Z"
   },
   {
    "duration": 13,
    "start_time": "2022-04-21T15:31:22.204Z"
   },
   {
    "duration": 48,
    "start_time": "2022-04-21T15:31:22.219Z"
   },
   {
    "duration": 9,
    "start_time": "2022-04-21T15:31:22.269Z"
   },
   {
    "duration": 24,
    "start_time": "2022-04-21T15:31:22.293Z"
   },
   {
    "duration": 13,
    "start_time": "2022-04-21T15:31:22.320Z"
   },
   {
    "duration": 155,
    "start_time": "2022-04-21T15:50:59.934Z"
   },
   {
    "duration": 42,
    "start_time": "2022-04-21T15:52:21.850Z"
   },
   {
    "duration": 385,
    "start_time": "2022-04-21T15:52:30.828Z"
   },
   {
    "duration": 154,
    "start_time": "2022-04-21T15:52:31.215Z"
   },
   {
    "duration": 8,
    "start_time": "2022-04-21T15:52:31.370Z"
   },
   {
    "duration": 43,
    "start_time": "2022-04-21T15:52:31.380Z"
   },
   {
    "duration": 8,
    "start_time": "2022-04-21T15:52:33.250Z"
   },
   {
    "duration": 2,
    "start_time": "2022-04-21T15:53:52.403Z"
   },
   {
    "duration": 162,
    "start_time": "2022-04-21T15:53:52.407Z"
   },
   {
    "duration": 6,
    "start_time": "2022-04-21T15:53:52.571Z"
   },
   {
    "duration": 36,
    "start_time": "2022-04-21T15:53:52.579Z"
   },
   {
    "duration": 4,
    "start_time": "2022-04-21T15:53:52.617Z"
   },
   {
    "duration": 13,
    "start_time": "2022-04-21T15:53:52.623Z"
   },
   {
    "duration": 3,
    "start_time": "2022-04-21T15:53:54.931Z"
   },
   {
    "duration": 2,
    "start_time": "2022-04-21T15:55:02.856Z"
   },
   {
    "duration": 167,
    "start_time": "2022-04-21T15:55:02.860Z"
   },
   {
    "duration": 6,
    "start_time": "2022-04-21T15:55:03.029Z"
   },
   {
    "duration": 33,
    "start_time": "2022-04-21T15:55:03.037Z"
   },
   {
    "duration": 4,
    "start_time": "2022-04-21T15:55:03.072Z"
   },
   {
    "duration": 12,
    "start_time": "2022-04-21T15:55:03.077Z"
   },
   {
    "duration": 4,
    "start_time": "2022-04-21T15:55:03.107Z"
   },
   {
    "duration": 28,
    "start_time": "2022-04-21T15:55:03.112Z"
   },
   {
    "duration": 21,
    "start_time": "2022-04-21T15:55:03.141Z"
   },
   {
    "duration": 23,
    "start_time": "2022-04-21T15:55:03.164Z"
   },
   {
    "duration": 63,
    "start_time": "2022-04-21T15:55:03.208Z"
   },
   {
    "duration": 93,
    "start_time": "2022-04-21T15:55:03.273Z"
   },
   {
    "duration": 60,
    "start_time": "2022-04-21T15:55:03.368Z"
   },
   {
    "duration": 3,
    "start_time": "2022-04-21T15:55:08.126Z"
   },
   {
    "duration": 38,
    "start_time": "2022-04-21T15:55:17.077Z"
   },
   {
    "duration": 58,
    "start_time": "2022-04-21T15:55:48.712Z"
   },
   {
    "duration": 2,
    "start_time": "2022-04-21T15:57:09.915Z"
   },
   {
    "duration": 165,
    "start_time": "2022-04-21T15:57:09.919Z"
   },
   {
    "duration": 7,
    "start_time": "2022-04-21T15:57:10.086Z"
   },
   {
    "duration": 42,
    "start_time": "2022-04-21T15:57:10.094Z"
   },
   {
    "duration": 4,
    "start_time": "2022-04-21T15:57:10.138Z"
   },
   {
    "duration": 10,
    "start_time": "2022-04-21T15:57:10.144Z"
   },
   {
    "duration": 4,
    "start_time": "2022-04-21T15:57:10.156Z"
   },
   {
    "duration": 50,
    "start_time": "2022-04-21T15:57:10.161Z"
   },
   {
    "duration": 19,
    "start_time": "2022-04-21T15:57:10.213Z"
   },
   {
    "duration": 25,
    "start_time": "2022-04-21T15:57:10.233Z"
   },
   {
    "duration": 88,
    "start_time": "2022-04-21T15:57:10.261Z"
   },
   {
    "duration": 80,
    "start_time": "2022-04-21T15:57:10.351Z"
   },
   {
    "duration": 63,
    "start_time": "2022-04-21T15:57:10.432Z"
   },
   {
    "duration": 50,
    "start_time": "2022-04-21T15:57:10.496Z"
   },
   {
    "duration": 3,
    "start_time": "2022-04-21T15:57:10.548Z"
   },
   {
    "duration": 11,
    "start_time": "2022-04-21T15:57:15.106Z"
   },
   {
    "duration": 37,
    "start_time": "2022-04-21T15:57:27.041Z"
   },
   {
    "duration": 3,
    "start_time": "2022-04-21T16:03:18.858Z"
   },
   {
    "duration": 174,
    "start_time": "2022-04-21T16:03:18.863Z"
   },
   {
    "duration": 7,
    "start_time": "2022-04-21T16:03:19.039Z"
   },
   {
    "duration": 33,
    "start_time": "2022-04-21T16:03:19.048Z"
   },
   {
    "duration": 3,
    "start_time": "2022-04-21T16:03:19.083Z"
   },
   {
    "duration": 8,
    "start_time": "2022-04-21T16:03:19.108Z"
   },
   {
    "duration": 6,
    "start_time": "2022-04-21T16:03:19.118Z"
   },
   {
    "duration": 28,
    "start_time": "2022-04-21T16:03:19.126Z"
   },
   {
    "duration": 19,
    "start_time": "2022-04-21T16:03:19.157Z"
   },
   {
    "duration": 54,
    "start_time": "2022-04-21T16:03:19.178Z"
   },
   {
    "duration": 78,
    "start_time": "2022-04-21T16:03:19.234Z"
   },
   {
    "duration": 72,
    "start_time": "2022-04-21T16:03:19.314Z"
   },
   {
    "duration": 79,
    "start_time": "2022-04-21T16:03:19.388Z"
   },
   {
    "duration": 55,
    "start_time": "2022-04-21T16:03:19.469Z"
   },
   {
    "duration": 3,
    "start_time": "2022-04-21T16:03:19.526Z"
   },
   {
    "duration": 11,
    "start_time": "2022-04-21T16:03:19.530Z"
   },
   {
    "duration": 41,
    "start_time": "2022-04-21T16:03:19.543Z"
   },
   {
    "duration": 30,
    "start_time": "2022-04-21T16:03:19.586Z"
   },
   {
    "duration": 12,
    "start_time": "2022-04-21T16:03:19.618Z"
   },
   {
    "duration": 3,
    "start_time": "2022-04-21T16:03:19.632Z"
   },
   {
    "duration": 20,
    "start_time": "2022-04-21T16:03:19.637Z"
   },
   {
    "duration": 14,
    "start_time": "2022-04-21T16:03:19.659Z"
   },
   {
    "duration": 44,
    "start_time": "2022-04-21T16:03:19.674Z"
   },
   {
    "duration": 13,
    "start_time": "2022-04-21T16:03:19.721Z"
   },
   {
    "duration": 16,
    "start_time": "2022-04-21T16:03:19.736Z"
   },
   {
    "duration": 13,
    "start_time": "2022-04-21T16:03:19.754Z"
   },
   {
    "duration": 42,
    "start_time": "2022-04-21T16:03:19.769Z"
   },
   {
    "duration": 12,
    "start_time": "2022-04-21T16:03:19.813Z"
   },
   {
    "duration": 10,
    "start_time": "2022-04-21T16:03:19.826Z"
   },
   {
    "duration": 4,
    "start_time": "2022-04-21T16:03:21.647Z"
   },
   {
    "duration": 19,
    "start_time": "2022-04-21T16:03:26.933Z"
   },
   {
    "duration": 12,
    "start_time": "2022-04-21T16:03:30.350Z"
   },
   {
    "duration": 16,
    "start_time": "2022-04-21T16:03:32.098Z"
   },
   {
    "duration": 12,
    "start_time": "2022-04-21T16:03:34.521Z"
   },
   {
    "duration": 2,
    "start_time": "2022-04-23T11:50:11.971Z"
   },
   {
    "duration": 165,
    "start_time": "2022-04-23T11:50:11.975Z"
   },
   {
    "duration": 7,
    "start_time": "2022-04-23T11:50:12.142Z"
   },
   {
    "duration": 32,
    "start_time": "2022-04-23T11:50:12.151Z"
   },
   {
    "duration": 22,
    "start_time": "2022-04-23T11:50:12.186Z"
   },
   {
    "duration": 8,
    "start_time": "2022-04-23T11:50:12.211Z"
   },
   {
    "duration": 4,
    "start_time": "2022-04-23T11:50:12.221Z"
   },
   {
    "duration": 29,
    "start_time": "2022-04-23T11:50:12.227Z"
   },
   {
    "duration": 22,
    "start_time": "2022-04-23T11:50:12.258Z"
   },
   {
    "duration": 47,
    "start_time": "2022-04-23T11:50:12.282Z"
   },
   {
    "duration": 82,
    "start_time": "2022-04-23T11:50:12.332Z"
   },
   {
    "duration": 75,
    "start_time": "2022-04-23T11:50:12.416Z"
   },
   {
    "duration": 72,
    "start_time": "2022-04-23T11:50:12.493Z"
   },
   {
    "duration": 53,
    "start_time": "2022-04-23T11:50:12.566Z"
   },
   {
    "duration": 3,
    "start_time": "2022-04-23T11:50:12.620Z"
   },
   {
    "duration": 11,
    "start_time": "2022-04-23T11:50:12.625Z"
   },
   {
    "duration": 40,
    "start_time": "2022-04-23T11:50:12.637Z"
   },
   {
    "duration": 40,
    "start_time": "2022-04-23T11:50:12.678Z"
   },
   {
    "duration": 12,
    "start_time": "2022-04-23T11:50:12.719Z"
   },
   {
    "duration": 4,
    "start_time": "2022-04-23T11:50:12.733Z"
   },
   {
    "duration": 23,
    "start_time": "2022-04-23T11:50:12.739Z"
   },
   {
    "duration": 16,
    "start_time": "2022-04-23T11:50:12.764Z"
   },
   {
    "duration": 42,
    "start_time": "2022-04-23T11:50:12.781Z"
   },
   {
    "duration": 17,
    "start_time": "2022-04-23T11:50:12.826Z"
   },
   {
    "duration": 17,
    "start_time": "2022-04-23T11:50:12.844Z"
   },
   {
    "duration": 14,
    "start_time": "2022-04-23T11:50:12.862Z"
   },
   {
    "duration": 36,
    "start_time": "2022-04-23T11:50:12.878Z"
   },
   {
    "duration": 15,
    "start_time": "2022-04-23T11:50:12.916Z"
   },
   {
    "duration": 12,
    "start_time": "2022-04-23T11:50:12.935Z"
   },
   {
    "duration": 5,
    "start_time": "2022-04-23T11:50:12.948Z"
   },
   {
    "duration": 26,
    "start_time": "2022-04-23T11:50:12.954Z"
   },
   {
    "duration": 36,
    "start_time": "2022-04-23T11:50:12.981Z"
   },
   {
    "duration": 16,
    "start_time": "2022-04-23T11:50:13.018Z"
   },
   {
    "duration": 11,
    "start_time": "2022-04-23T11:50:13.035Z"
   },
   {
    "duration": 36,
    "start_time": "2022-04-23T11:50:17.527Z"
   },
   {
    "duration": 25,
    "start_time": "2022-04-23T11:51:01.470Z"
   },
   {
    "duration": 13,
    "start_time": "2022-04-23T11:51:19.269Z"
   },
   {
    "duration": 25,
    "start_time": "2022-04-23T11:51:46.703Z"
   },
   {
    "duration": 9,
    "start_time": "2022-04-23T11:52:36.504Z"
   },
   {
    "duration": 4,
    "start_time": "2022-04-23T11:52:43.151Z"
   },
   {
    "duration": 4,
    "start_time": "2022-04-23T11:53:03.125Z"
   },
   {
    "duration": 71,
    "start_time": "2022-04-23T11:53:58.492Z"
   },
   {
    "duration": 64,
    "start_time": "2022-04-23T11:54:05.474Z"
   },
   {
    "duration": 3,
    "start_time": "2022-04-23T11:54:41.963Z"
   },
   {
    "duration": 174,
    "start_time": "2022-04-23T11:54:41.969Z"
   },
   {
    "duration": 6,
    "start_time": "2022-04-23T11:54:42.145Z"
   },
   {
    "duration": 29,
    "start_time": "2022-04-23T11:54:42.154Z"
   },
   {
    "duration": 25,
    "start_time": "2022-04-23T11:54:42.185Z"
   },
   {
    "duration": 10,
    "start_time": "2022-04-23T11:54:42.212Z"
   },
   {
    "duration": 4,
    "start_time": "2022-04-23T11:54:42.224Z"
   },
   {
    "duration": 24,
    "start_time": "2022-04-23T11:54:42.230Z"
   },
   {
    "duration": 18,
    "start_time": "2022-04-23T11:54:42.256Z"
   },
   {
    "duration": 49,
    "start_time": "2022-04-23T11:54:42.277Z"
   },
   {
    "duration": 61,
    "start_time": "2022-04-23T11:54:42.327Z"
   },
   {
    "duration": 93,
    "start_time": "2022-04-23T11:54:42.389Z"
   },
   {
    "duration": 77,
    "start_time": "2022-04-23T11:54:42.484Z"
   },
   {
    "duration": 47,
    "start_time": "2022-04-23T11:54:42.563Z"
   },
   {
    "duration": 3,
    "start_time": "2022-04-23T11:54:42.611Z"
   },
   {
    "duration": 11,
    "start_time": "2022-04-23T11:54:42.616Z"
   },
   {
    "duration": 39,
    "start_time": "2022-04-23T11:54:42.629Z"
   },
   {
    "duration": 41,
    "start_time": "2022-04-23T11:54:42.670Z"
   },
   {
    "duration": 13,
    "start_time": "2022-04-23T11:54:42.712Z"
   },
   {
    "duration": 4,
    "start_time": "2022-04-23T11:54:42.726Z"
   },
   {
    "duration": 18,
    "start_time": "2022-04-23T11:54:42.732Z"
   },
   {
    "duration": 14,
    "start_time": "2022-04-23T11:54:42.752Z"
   },
   {
    "duration": 44,
    "start_time": "2022-04-23T11:54:42.768Z"
   },
   {
    "duration": 15,
    "start_time": "2022-04-23T11:54:42.813Z"
   },
   {
    "duration": 16,
    "start_time": "2022-04-23T11:54:42.830Z"
   },
   {
    "duration": 14,
    "start_time": "2022-04-23T11:54:42.848Z"
   },
   {
    "duration": 8,
    "start_time": "2022-04-23T11:54:42.864Z"
   },
   {
    "duration": 42,
    "start_time": "2022-04-23T11:54:42.875Z"
   },
   {
    "duration": 14,
    "start_time": "2022-04-23T11:54:42.919Z"
   },
   {
    "duration": 4,
    "start_time": "2022-04-23T11:54:42.934Z"
   },
   {
    "duration": 21,
    "start_time": "2022-04-23T11:54:42.940Z"
   },
   {
    "duration": 10,
    "start_time": "2022-04-23T11:54:42.963Z"
   },
   {
    "duration": 44,
    "start_time": "2022-04-23T11:54:42.975Z"
   },
   {
    "duration": 11,
    "start_time": "2022-04-23T11:54:43.020Z"
   },
   {
    "duration": 9,
    "start_time": "2022-04-23T11:54:43.033Z"
   },
   {
    "duration": 3,
    "start_time": "2022-04-23T11:54:43.044Z"
   },
   {
    "duration": 84,
    "start_time": "2022-04-23T11:54:48.279Z"
   },
   {
    "duration": 7,
    "start_time": "2022-04-23T11:55:38.271Z"
   },
   {
    "duration": 4,
    "start_time": "2022-04-23T11:55:47.191Z"
   },
   {
    "duration": 610,
    "start_time": "2022-04-24T09:06:06.807Z"
   },
   {
    "duration": 331,
    "start_time": "2022-04-24T09:06:07.419Z"
   },
   {
    "duration": 9,
    "start_time": "2022-04-24T09:06:07.800Z"
   },
   {
    "duration": 33,
    "start_time": "2022-04-24T09:06:07.810Z"
   },
   {
    "duration": 26,
    "start_time": "2022-04-24T09:06:07.900Z"
   },
   {
    "duration": 16,
    "start_time": "2022-04-24T09:06:07.927Z"
   },
   {
    "duration": 56,
    "start_time": "2022-04-24T09:06:07.945Z"
   },
   {
    "duration": 33,
    "start_time": "2022-04-24T09:06:08.003Z"
   },
   {
    "duration": 66,
    "start_time": "2022-04-24T09:06:08.038Z"
   },
   {
    "duration": 23,
    "start_time": "2022-04-24T09:06:08.108Z"
   },
   {
    "duration": 181,
    "start_time": "2022-04-24T09:06:08.132Z"
   },
   {
    "duration": 195,
    "start_time": "2022-04-24T09:06:08.315Z"
   },
   {
    "duration": 116,
    "start_time": "2022-04-24T09:06:08.512Z"
   },
   {
    "duration": 90,
    "start_time": "2022-04-24T09:06:08.629Z"
   },
   {
    "duration": 3,
    "start_time": "2022-04-24T09:06:08.721Z"
   },
   {
    "duration": 77,
    "start_time": "2022-04-24T09:06:08.725Z"
   },
   {
    "duration": 38,
    "start_time": "2022-04-24T09:06:08.803Z"
   },
   {
    "duration": 59,
    "start_time": "2022-04-24T09:06:08.843Z"
   },
   {
    "duration": 15,
    "start_time": "2022-04-24T09:06:08.904Z"
   },
   {
    "duration": 80,
    "start_time": "2022-04-24T09:06:08.920Z"
   },
   {
    "duration": 29,
    "start_time": "2022-04-24T09:06:09.002Z"
   },
   {
    "duration": 16,
    "start_time": "2022-04-24T09:06:09.032Z"
   },
   {
    "duration": 27,
    "start_time": "2022-04-24T09:06:09.050Z"
   },
   {
    "duration": 39,
    "start_time": "2022-04-24T09:06:09.079Z"
   },
   {
    "duration": 39,
    "start_time": "2022-04-24T09:06:09.120Z"
   },
   {
    "duration": 23,
    "start_time": "2022-04-24T09:06:09.161Z"
   },
   {
    "duration": 9,
    "start_time": "2022-04-24T09:06:09.185Z"
   },
   {
    "duration": 26,
    "start_time": "2022-04-24T09:06:09.197Z"
   },
   {
    "duration": 10,
    "start_time": "2022-04-24T09:06:09.224Z"
   },
   {
    "duration": 20,
    "start_time": "2022-04-24T09:06:09.235Z"
   },
   {
    "duration": 32,
    "start_time": "2022-04-24T09:06:09.257Z"
   },
   {
    "duration": 10,
    "start_time": "2022-04-24T09:06:09.290Z"
   },
   {
    "duration": 14,
    "start_time": "2022-04-24T09:06:09.301Z"
   },
   {
    "duration": 10,
    "start_time": "2022-04-24T09:06:09.317Z"
   },
   {
    "duration": 9,
    "start_time": "2022-04-24T09:06:09.328Z"
   },
   {
    "duration": 10,
    "start_time": "2022-04-24T09:06:09.338Z"
   },
   {
    "duration": 15,
    "start_time": "2022-04-24T09:06:09.349Z"
   },
   {
    "duration": 9,
    "start_time": "2022-04-24T09:06:09.365Z"
   },
   {
    "duration": 367,
    "start_time": "2022-04-24T09:10:37.456Z"
   },
   {
    "duration": 137,
    "start_time": "2022-04-24T09:10:37.825Z"
   },
   {
    "duration": 7,
    "start_time": "2022-04-24T09:10:37.963Z"
   },
   {
    "duration": 14,
    "start_time": "2022-04-24T09:10:37.972Z"
   },
   {
    "duration": 18,
    "start_time": "2022-04-24T09:10:37.987Z"
   },
   {
    "duration": 6,
    "start_time": "2022-04-24T09:10:38.007Z"
   },
   {
    "duration": 6,
    "start_time": "2022-04-24T09:10:38.014Z"
   },
   {
    "duration": 10,
    "start_time": "2022-04-24T09:10:38.021Z"
   },
   {
    "duration": 29,
    "start_time": "2022-04-24T09:10:38.032Z"
   },
   {
    "duration": 4,
    "start_time": "2022-04-24T09:10:38.063Z"
   },
   {
    "duration": 35,
    "start_time": "2022-04-24T09:10:38.068Z"
   },
   {
    "duration": 5,
    "start_time": "2022-04-24T09:10:38.105Z"
   },
   {
    "duration": 24,
    "start_time": "2022-04-24T09:10:38.112Z"
   },
   {
    "duration": 18,
    "start_time": "2022-04-24T09:10:38.137Z"
   },
   {
    "duration": 27,
    "start_time": "2022-04-24T09:10:38.157Z"
   },
   {
    "duration": 63,
    "start_time": "2022-04-24T09:10:38.200Z"
   },
   {
    "duration": 88,
    "start_time": "2022-04-24T09:10:38.264Z"
   },
   {
    "duration": 61,
    "start_time": "2022-04-24T09:10:38.353Z"
   },
   {
    "duration": 36,
    "start_time": "2022-04-24T09:10:38.416Z"
   },
   {
    "duration": 3,
    "start_time": "2022-04-24T09:10:38.453Z"
   },
   {
    "duration": 11,
    "start_time": "2022-04-24T09:10:38.457Z"
   },
   {
    "duration": 57,
    "start_time": "2022-04-24T09:10:38.469Z"
   },
   {
    "duration": 10,
    "start_time": "2022-04-24T09:10:38.528Z"
   },
   {
    "duration": 10,
    "start_time": "2022-04-24T09:10:38.540Z"
   },
   {
    "duration": 3,
    "start_time": "2022-04-24T09:10:38.551Z"
   },
   {
    "duration": 18,
    "start_time": "2022-04-24T09:10:38.556Z"
   },
   {
    "duration": 33,
    "start_time": "2022-04-24T09:10:38.576Z"
   },
   {
    "duration": 12,
    "start_time": "2022-04-24T09:10:38.612Z"
   },
   {
    "duration": 11,
    "start_time": "2022-04-24T09:10:38.625Z"
   },
   {
    "duration": 14,
    "start_time": "2022-04-24T09:10:38.637Z"
   },
   {
    "duration": 12,
    "start_time": "2022-04-24T09:10:38.652Z"
   },
   {
    "duration": 35,
    "start_time": "2022-04-24T09:10:38.665Z"
   },
   {
    "duration": 11,
    "start_time": "2022-04-24T09:10:38.702Z"
   },
   {
    "duration": 9,
    "start_time": "2022-04-24T09:10:38.715Z"
   },
   {
    "duration": 5,
    "start_time": "2022-04-24T09:10:38.726Z"
   },
   {
    "duration": 24,
    "start_time": "2022-04-24T09:10:38.733Z"
   },
   {
    "duration": 11,
    "start_time": "2022-04-24T09:10:38.758Z"
   },
   {
    "duration": 41,
    "start_time": "2022-04-24T09:10:38.770Z"
   },
   {
    "duration": 9,
    "start_time": "2022-04-24T09:10:38.813Z"
   },
   {
    "duration": 9,
    "start_time": "2022-04-24T09:10:38.823Z"
   },
   {
    "duration": 3,
    "start_time": "2022-04-24T09:10:38.833Z"
   },
   {
    "duration": 8,
    "start_time": "2022-04-24T09:10:38.838Z"
   },
   {
    "duration": 4,
    "start_time": "2022-04-24T09:10:38.847Z"
   }
  ],
  "colab": {
   "collapsed_sections": [
    "E0vqbgi9ay0H",
    "VUC88oWjTJw2"
   ],
   "name": "yandex_music_project.ipynb",
   "provenance": []
  },
  "kernelspec": {
   "display_name": "Python 3 (ipykernel)",
   "language": "python",
   "name": "python3"
  },
  "language_info": {
   "codemirror_mode": {
    "name": "ipython",
    "version": 3
   },
   "file_extension": ".py",
   "mimetype": "text/x-python",
   "name": "python",
   "nbconvert_exporter": "python",
   "pygments_lexer": "ipython3",
   "version": "3.9.7"
  },
  "toc": {
   "base_numbering": 1,
   "nav_menu": {},
   "number_sections": true,
   "sideBar": true,
   "skip_h1_title": true,
   "title_cell": "Table of Contents",
   "title_sidebar": "Contents",
   "toc_cell": false,
   "toc_position": {},
   "toc_section_display": true,
   "toc_window_display": true
  }
 },
 "nbformat": 4,
 "nbformat_minor": 1
}
